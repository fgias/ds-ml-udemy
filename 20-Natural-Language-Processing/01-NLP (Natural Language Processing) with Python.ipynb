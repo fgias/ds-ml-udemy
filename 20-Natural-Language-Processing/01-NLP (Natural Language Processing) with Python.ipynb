{
 "cells": [
  {
   "cell_type": "markdown",
   "metadata": {},
   "source": [
    "## Natural Language Processing (NLP)"
   ]
  },
  {
   "cell_type": "code",
   "execution_count": 1,
   "metadata": {},
   "outputs": [],
   "source": [
    "import nltk"
   ]
  },
  {
   "cell_type": "code",
   "execution_count": 5,
   "metadata": {},
   "outputs": [],
   "source": [
    "#nltk.download_shell()"
   ]
  },
  {
   "cell_type": "code",
   "execution_count": 9,
   "metadata": {},
   "outputs": [],
   "source": [
    "messages = [line.rstrip() for line in open('smsspamcollection/SMSSpamCollection')]"
   ]
  },
  {
   "cell_type": "code",
   "execution_count": 10,
   "metadata": {},
   "outputs": [
    {
     "name": "stdout",
     "output_type": "stream",
     "text": [
      "5574\n"
     ]
    }
   ],
   "source": [
    "print(len(messages))"
   ]
  },
  {
   "cell_type": "code",
   "execution_count": 11,
   "metadata": {},
   "outputs": [
    {
     "data": {
      "text/plain": [
       "'ham\\tGo until jurong point, crazy.. Available only in bugis n great world la e buffet... Cine there got amore wat...'"
      ]
     },
     "execution_count": 11,
     "metadata": {},
     "output_type": "execute_result"
    }
   ],
   "source": [
    "messages[0]"
   ]
  },
  {
   "cell_type": "markdown",
   "metadata": {},
   "source": [
    "**Corpus**: a collection of texts (or documents). "
   ]
  },
  {
   "cell_type": "code",
   "execution_count": 14,
   "metadata": {},
   "outputs": [
    {
     "name": "stdout",
     "output_type": "stream",
     "text": [
      "0 ham\tGo until jurong point, crazy.. Available only in bugis n great world la e buffet... Cine there got amore wat... \n",
      "\n",
      "1 ham\tOk lar... Joking wif u oni... \n",
      "\n",
      "2 spam\tFree entry in 2 a wkly comp to win FA Cup final tkts 21st May 2005. Text FA to 87121 to receive entry question(std txt rate)T&C's apply 08452810075over18's \n",
      "\n",
      "3 ham\tU dun say so early hor... U c already then say... \n",
      "\n",
      "4 ham\tNah I don't think he goes to usf, he lives around here though \n",
      "\n",
      "5 spam\tFreeMsg Hey there darling it's been 3 week's now and no word back! I'd like some fun you up for it still? Tb ok! XxX std chgs to send, Â£1.50 to rcv \n",
      "\n",
      "6 ham\tEven my brother is not like to speak with me. They treat me like aids patent. \n",
      "\n",
      "7 ham\tAs per your request 'Melle Melle (Oru Minnaminunginte Nurungu Vettam)' has been set as your callertune for all Callers. Press *9 to copy your friends Callertune \n",
      "\n",
      "8 spam\tWINNER!! As a valued network customer you have been selected to receivea Â£900 prize reward! To claim call 09061701461. Claim code KL341. Valid 12 hours only. \n",
      "\n",
      "9 spam\tHad your mobile 11 months or more? U R entitled to Update to the latest colour mobiles with camera for Free! Call The Mobile Update Co FREE on 08002986030 \n",
      "\n"
     ]
    }
   ],
   "source": [
    "for mess_no, message in enumerate(messages[:10]):\n",
    "    print(mess_no, message, '\\n')"
   ]
  },
  {
   "cell_type": "code",
   "execution_count": 16,
   "metadata": {},
   "outputs": [],
   "source": [
    "import pandas as pd"
   ]
  },
  {
   "cell_type": "code",
   "execution_count": 21,
   "metadata": {},
   "outputs": [],
   "source": [
    "messages = pd.read_csv('smsspamcollection/SMSSpamCollection', sep='\\t', names=['label','message'])"
   ]
  },
  {
   "cell_type": "code",
   "execution_count": 22,
   "metadata": {},
   "outputs": [
    {
     "data": {
      "text/html": [
       "<div>\n",
       "<style scoped>\n",
       "    .dataframe tbody tr th:only-of-type {\n",
       "        vertical-align: middle;\n",
       "    }\n",
       "\n",
       "    .dataframe tbody tr th {\n",
       "        vertical-align: top;\n",
       "    }\n",
       "\n",
       "    .dataframe thead th {\n",
       "        text-align: right;\n",
       "    }\n",
       "</style>\n",
       "<table border=\"1\" class=\"dataframe\">\n",
       "  <thead>\n",
       "    <tr style=\"text-align: right;\">\n",
       "      <th></th>\n",
       "      <th>label</th>\n",
       "      <th>message</th>\n",
       "    </tr>\n",
       "  </thead>\n",
       "  <tbody>\n",
       "    <tr>\n",
       "      <th>0</th>\n",
       "      <td>ham</td>\n",
       "      <td>Go until jurong point, crazy.. Available only ...</td>\n",
       "    </tr>\n",
       "    <tr>\n",
       "      <th>1</th>\n",
       "      <td>ham</td>\n",
       "      <td>Ok lar... Joking wif u oni...</td>\n",
       "    </tr>\n",
       "    <tr>\n",
       "      <th>2</th>\n",
       "      <td>spam</td>\n",
       "      <td>Free entry in 2 a wkly comp to win FA Cup fina...</td>\n",
       "    </tr>\n",
       "    <tr>\n",
       "      <th>3</th>\n",
       "      <td>ham</td>\n",
       "      <td>U dun say so early hor... U c already then say...</td>\n",
       "    </tr>\n",
       "    <tr>\n",
       "      <th>4</th>\n",
       "      <td>ham</td>\n",
       "      <td>Nah I don't think he goes to usf, he lives aro...</td>\n",
       "    </tr>\n",
       "  </tbody>\n",
       "</table>\n",
       "</div>"
      ],
      "text/plain": [
       "  label                                            message\n",
       "0   ham  Go until jurong point, crazy.. Available only ...\n",
       "1   ham                      Ok lar... Joking wif u oni...\n",
       "2  spam  Free entry in 2 a wkly comp to win FA Cup fina...\n",
       "3   ham  U dun say so early hor... U c already then say...\n",
       "4   ham  Nah I don't think he goes to usf, he lives aro..."
      ]
     },
     "execution_count": 22,
     "metadata": {},
     "output_type": "execute_result"
    }
   ],
   "source": [
    "messages.head()"
   ]
  },
  {
   "cell_type": "code",
   "execution_count": 23,
   "metadata": {},
   "outputs": [
    {
     "data": {
      "text/html": [
       "<div>\n",
       "<style scoped>\n",
       "    .dataframe tbody tr th:only-of-type {\n",
       "        vertical-align: middle;\n",
       "    }\n",
       "\n",
       "    .dataframe tbody tr th {\n",
       "        vertical-align: top;\n",
       "    }\n",
       "\n",
       "    .dataframe thead th {\n",
       "        text-align: right;\n",
       "    }\n",
       "</style>\n",
       "<table border=\"1\" class=\"dataframe\">\n",
       "  <thead>\n",
       "    <tr style=\"text-align: right;\">\n",
       "      <th></th>\n",
       "      <th>label</th>\n",
       "      <th>message</th>\n",
       "    </tr>\n",
       "  </thead>\n",
       "  <tbody>\n",
       "    <tr>\n",
       "      <th>count</th>\n",
       "      <td>5572</td>\n",
       "      <td>5572</td>\n",
       "    </tr>\n",
       "    <tr>\n",
       "      <th>unique</th>\n",
       "      <td>2</td>\n",
       "      <td>5169</td>\n",
       "    </tr>\n",
       "    <tr>\n",
       "      <th>top</th>\n",
       "      <td>ham</td>\n",
       "      <td>Sorry, I'll call later</td>\n",
       "    </tr>\n",
       "    <tr>\n",
       "      <th>freq</th>\n",
       "      <td>4825</td>\n",
       "      <td>30</td>\n",
       "    </tr>\n",
       "  </tbody>\n",
       "</table>\n",
       "</div>"
      ],
      "text/plain": [
       "       label                 message\n",
       "count   5572                    5572\n",
       "unique     2                    5169\n",
       "top      ham  Sorry, I'll call later\n",
       "freq    4825                      30"
      ]
     },
     "execution_count": 23,
     "metadata": {},
     "output_type": "execute_result"
    }
   ],
   "source": [
    "messages.describe()"
   ]
  },
  {
   "cell_type": "code",
   "execution_count": 25,
   "metadata": {},
   "outputs": [
    {
     "data": {
      "text/html": [
       "<div>\n",
       "<style scoped>\n",
       "    .dataframe tbody tr th:only-of-type {\n",
       "        vertical-align: middle;\n",
       "    }\n",
       "\n",
       "    .dataframe tbody tr th {\n",
       "        vertical-align: top;\n",
       "    }\n",
       "\n",
       "    .dataframe thead tr th {\n",
       "        text-align: left;\n",
       "    }\n",
       "\n",
       "    .dataframe thead tr:last-of-type th {\n",
       "        text-align: right;\n",
       "    }\n",
       "</style>\n",
       "<table border=\"1\" class=\"dataframe\">\n",
       "  <thead>\n",
       "    <tr>\n",
       "      <th></th>\n",
       "      <th colspan=\"4\" halign=\"left\">message</th>\n",
       "    </tr>\n",
       "    <tr>\n",
       "      <th></th>\n",
       "      <th>count</th>\n",
       "      <th>unique</th>\n",
       "      <th>top</th>\n",
       "      <th>freq</th>\n",
       "    </tr>\n",
       "    <tr>\n",
       "      <th>label</th>\n",
       "      <th></th>\n",
       "      <th></th>\n",
       "      <th></th>\n",
       "      <th></th>\n",
       "    </tr>\n",
       "  </thead>\n",
       "  <tbody>\n",
       "    <tr>\n",
       "      <th>ham</th>\n",
       "      <td>4825</td>\n",
       "      <td>4516</td>\n",
       "      <td>Sorry, I'll call later</td>\n",
       "      <td>30</td>\n",
       "    </tr>\n",
       "    <tr>\n",
       "      <th>spam</th>\n",
       "      <td>747</td>\n",
       "      <td>653</td>\n",
       "      <td>Please call our customer service representativ...</td>\n",
       "      <td>4</td>\n",
       "    </tr>\n",
       "  </tbody>\n",
       "</table>\n",
       "</div>"
      ],
      "text/plain": [
       "      message                                                               \n",
       "        count unique                                                top freq\n",
       "label                                                                       \n",
       "ham      4825   4516                             Sorry, I'll call later   30\n",
       "spam      747    653  Please call our customer service representativ...    4"
      ]
     },
     "execution_count": 25,
     "metadata": {},
     "output_type": "execute_result"
    }
   ],
   "source": [
    "messages.groupby('label').describe()"
   ]
  },
  {
   "cell_type": "code",
   "execution_count": 27,
   "metadata": {},
   "outputs": [],
   "source": [
    "messages['length'] = messages['message'].apply(len)"
   ]
  },
  {
   "cell_type": "code",
   "execution_count": 28,
   "metadata": {},
   "outputs": [
    {
     "data": {
      "text/html": [
       "<div>\n",
       "<style scoped>\n",
       "    .dataframe tbody tr th:only-of-type {\n",
       "        vertical-align: middle;\n",
       "    }\n",
       "\n",
       "    .dataframe tbody tr th {\n",
       "        vertical-align: top;\n",
       "    }\n",
       "\n",
       "    .dataframe thead th {\n",
       "        text-align: right;\n",
       "    }\n",
       "</style>\n",
       "<table border=\"1\" class=\"dataframe\">\n",
       "  <thead>\n",
       "    <tr style=\"text-align: right;\">\n",
       "      <th></th>\n",
       "      <th>label</th>\n",
       "      <th>message</th>\n",
       "      <th>length</th>\n",
       "    </tr>\n",
       "  </thead>\n",
       "  <tbody>\n",
       "    <tr>\n",
       "      <th>0</th>\n",
       "      <td>ham</td>\n",
       "      <td>Go until jurong point, crazy.. Available only ...</td>\n",
       "      <td>111</td>\n",
       "    </tr>\n",
       "    <tr>\n",
       "      <th>1</th>\n",
       "      <td>ham</td>\n",
       "      <td>Ok lar... Joking wif u oni...</td>\n",
       "      <td>29</td>\n",
       "    </tr>\n",
       "    <tr>\n",
       "      <th>2</th>\n",
       "      <td>spam</td>\n",
       "      <td>Free entry in 2 a wkly comp to win FA Cup fina...</td>\n",
       "      <td>155</td>\n",
       "    </tr>\n",
       "    <tr>\n",
       "      <th>3</th>\n",
       "      <td>ham</td>\n",
       "      <td>U dun say so early hor... U c already then say...</td>\n",
       "      <td>49</td>\n",
       "    </tr>\n",
       "    <tr>\n",
       "      <th>4</th>\n",
       "      <td>ham</td>\n",
       "      <td>Nah I don't think he goes to usf, he lives aro...</td>\n",
       "      <td>61</td>\n",
       "    </tr>\n",
       "  </tbody>\n",
       "</table>\n",
       "</div>"
      ],
      "text/plain": [
       "  label                                            message  length\n",
       "0   ham  Go until jurong point, crazy.. Available only ...     111\n",
       "1   ham                      Ok lar... Joking wif u oni...      29\n",
       "2  spam  Free entry in 2 a wkly comp to win FA Cup fina...     155\n",
       "3   ham  U dun say so early hor... U c already then say...      49\n",
       "4   ham  Nah I don't think he goes to usf, he lives aro...      61"
      ]
     },
     "execution_count": 28,
     "metadata": {},
     "output_type": "execute_result"
    }
   ],
   "source": [
    "messages.head()"
   ]
  },
  {
   "cell_type": "markdown",
   "metadata": {},
   "source": [
    "### EDA"
   ]
  },
  {
   "cell_type": "code",
   "execution_count": 33,
   "metadata": {},
   "outputs": [],
   "source": [
    "import matplotlib.pyplot as plt\n",
    "import seaborn as sns\n",
    "sns.set_style('whitegrid')"
   ]
  },
  {
   "cell_type": "code",
   "execution_count": 44,
   "metadata": {},
   "outputs": [
    {
     "data": {
      "text/plain": [
       "<AxesSubplot:>"
      ]
     },
     "execution_count": 44,
     "metadata": {},
     "output_type": "execute_result"
    },
    {
     "data": {
      "image/png": "[encoded data removed]",
      "text/plain": [
       "<Figure size 864x432 with 1 Axes>"
      ]
     },
     "metadata": {},
     "output_type": "display_data"
    }
   ],
   "source": [
    "plt.figure(figsize=(12,6))\n",
    "messages['length'].hist(bins=50)"
   ]
  },
  {
   "cell_type": "code",
   "execution_count": 42,
   "metadata": {},
   "outputs": [
    {
     "data": {
      "text/plain": [
       "(0.0, 500.0)"
      ]
     },
     "execution_count": 42,
     "metadata": {},
     "output_type": "execute_result"
    },
    {
     "data": {
      "image/png": "[encoded data removed]",
      "text/plain": [
       "<Figure size 864x432 with 1 Axes>"
      ]
     },
     "metadata": {},
     "output_type": "display_data"
    }
   ],
   "source": [
    "plt.figure(figsize=(12,6))\n",
    "messages['length'].hist(bins=150)\n",
    "plt.xlim([0,500])"
   ]
  },
  {
   "cell_type": "code",
   "execution_count": 45,
   "metadata": {},
   "outputs": [
    {
     "data": {
      "text/plain": [
       "count    5572.000000\n",
       "mean       80.489950\n",
       "std        59.942907\n",
       "min         2.000000\n",
       "25%        36.000000\n",
       "50%        62.000000\n",
       "75%       122.000000\n",
       "max       910.000000\n",
       "Name: length, dtype: float64"
      ]
     },
     "execution_count": 45,
     "metadata": {},
     "output_type": "execute_result"
    }
   ],
   "source": [
    "messages['length'].describe()"
   ]
  },
  {
   "cell_type": "code",
   "execution_count": 56,
   "metadata": {},
   "outputs": [
    {
     "data": {
      "text/plain": [
       "1085    For me the love should start with attraction.i...\n",
       "Name: message, dtype: object"
      ]
     },
     "execution_count": 56,
     "metadata": {},
     "output_type": "execute_result"
    }
   ],
   "source": [
    "messages[messages['length'] == 910.0]['message']"
   ]
  },
  {
   "cell_type": "code",
   "execution_count": 57,
   "metadata": {},
   "outputs": [
    {
     "data": {
      "text/plain": [
       "\"For me the love should start with attraction.i should feel that I need her every time around me.she should be the first thing which comes in my thoughts.I would start the day and end it with her.she should be there every time I dream.love will be then when my every breath has her name.my life should happen around her.my life will be named to her.I would cry for her.will give all my happiness and take all her sorrows.I will be ready to fight with anyone for her.I will be in love when I will be doing the craziest things for her.love will be when I don't have to proove anyone that my girl is the most beautiful lady on the whole planet.I will always be singing praises for her.love will be when I start up making chicken curry and end up makiing sambar.life will be the most beautiful then.will get every morning and thank god for the day because she is with me.I would like to say a lot..will tell later..\""
      ]
     },
     "execution_count": 57,
     "metadata": {},
     "output_type": "execute_result"
    }
   ],
   "source": [
    "messages[messages['length'] == 910.0]['message'].iloc[0]"
   ]
  },
  {
   "cell_type": "code",
   "execution_count": 69,
   "metadata": {},
   "outputs": [
    {
     "data": {
      "text/plain": [
       "<seaborn.axisgrid.FacetGrid at 0x1885448a850>"
      ]
     },
     "execution_count": 69,
     "metadata": {},
     "output_type": "execute_result"
    },
    {
     "data": {
      "image/png": "[encoded data removed]",
      "text/plain": [
       "<Figure size 432x216 with 2 Axes>"
      ]
     },
     "metadata": {},
     "output_type": "display_data"
    }
   ],
   "source": [
    "g = sns.FacetGrid(messages, col='label')\n",
    "g.map(sns.histplot, 'length')"
   ]
  },
  {
   "cell_type": "code",
   "execution_count": 72,
   "metadata": {},
   "outputs": [
    {
     "data": {
      "text/plain": [
       "array([<AxesSubplot:title={'center':'ham'}>,\n",
       "       <AxesSubplot:title={'center':'spam'}>], dtype=object)"
      ]
     },
     "execution_count": 72,
     "metadata": {},
     "output_type": "execute_result"
    },
    {
     "data": {
      "image/png": "[encoded data removed]",
      "text/plain": [
       "<Figure size 864x288 with 2 Axes>"
      ]
     },
     "metadata": {},
     "output_type": "display_data"
    }
   ],
   "source": [
    "messages.hist(column='length', by='label', bins=60, figsize=(12,4))"
   ]
  },
  {
   "cell_type": "markdown",
   "metadata": {},
   "source": [
    "### Text Pre-processing"
   ]
  },
  {
   "cell_type": "markdown",
   "metadata": {},
   "source": [
    "- Convert a sequence of words into vectors.\n",
    "- Remove very common words, a, the etc., also known as **stopwords**."
   ]
  },
  {
   "cell_type": "code",
   "execution_count": 73,
   "metadata": {},
   "outputs": [],
   "source": [
    "import string"
   ]
  },
  {
   "cell_type": "code",
   "execution_count": 75,
   "metadata": {},
   "outputs": [],
   "source": [
    "mess = 'Sample message! Notice: it has punctuation.'"
   ]
  },
  {
   "cell_type": "code",
   "execution_count": 76,
   "metadata": {},
   "outputs": [
    {
     "data": {
      "text/plain": [
       "'!\"#$%&\\'()*+,-./:;<=>?@[\\\\]^_`{|}~'"
      ]
     },
     "execution_count": 76,
     "metadata": {},
     "output_type": "execute_result"
    }
   ],
   "source": [
    "string.punctuation"
   ]
  },
  {
   "cell_type": "code",
   "execution_count": 112,
   "metadata": {},
   "outputs": [
    {
     "data": {
      "text/plain": [
       "['S',\n",
       " 'a',\n",
       " 'm',\n",
       " 'p',\n",
       " 'l',\n",
       " 'e',\n",
       " ' ',\n",
       " 'm',\n",
       " 'e',\n",
       " 's',\n",
       " 's',\n",
       " 'a',\n",
       " 'g',\n",
       " 'e',\n",
       " ' ',\n",
       " 'N',\n",
       " 'o',\n",
       " 't',\n",
       " 'i',\n",
       " 'c',\n",
       " 'e',\n",
       " ' ',\n",
       " 'i',\n",
       " 't',\n",
       " ' ',\n",
       " 'h',\n",
       " 'a',\n",
       " 's',\n",
       " ' ',\n",
       " 'p',\n",
       " 'u',\n",
       " 'n',\n",
       " 'c',\n",
       " 't',\n",
       " 'u',\n",
       " 'a',\n",
       " 't',\n",
       " 'i',\n",
       " 'o',\n",
       " 'n']"
      ]
     },
     "execution_count": 112,
     "metadata": {},
     "output_type": "execute_result"
    }
   ],
   "source": [
    "nopunc = [c for c in mess if c not in string.punctuation]\n",
    "nopunc"
   ]
  },
  {
   "cell_type": "markdown",
   "metadata": {},
   "source": [
    "To join the characters back to words."
   ]
  },
  {
   "cell_type": "code",
   "execution_count": 107,
   "metadata": {},
   "outputs": [
    {
     "data": {
      "text/plain": [
       "'Sample message Notice it has punctuation'"
      ]
     },
     "execution_count": 107,
     "metadata": {},
     "output_type": "execute_result"
    }
   ],
   "source": [
    "nopunc = ''.join(nopunc)\n",
    "nopunc"
   ]
  },
  {
   "cell_type": "code",
   "execution_count": 108,
   "metadata": {},
   "outputs": [
    {
     "data": {
      "text/plain": [
       "['Sample', 'message', 'Notice', 'it', 'has', 'punctuation']"
      ]
     },
     "execution_count": 108,
     "metadata": {},
     "output_type": "execute_result"
    }
   ],
   "source": [
    "nopunc.split()"
   ]
  },
  {
   "cell_type": "markdown",
   "metadata": {},
   "source": [
    "In the quotation marks `''` we put the concatenation device. If nothing, put `''` but if, for example, you want an underscore put `'_'`."
   ]
  },
  {
   "cell_type": "code",
   "execution_count": 98,
   "metadata": {},
   "outputs": [
    {
     "data": {
      "text/plain": [
       "['a', 'b', 'c', 'd']"
      ]
     },
     "execution_count": 98,
     "metadata": {},
     "output_type": "execute_result"
    }
   ],
   "source": [
    "x = 'a b c d'.split()\n",
    "x"
   ]
  },
  {
   "cell_type": "code",
   "execution_count": 91,
   "metadata": {},
   "outputs": [
    {
     "data": {
      "text/plain": [
       "'abcd'"
      ]
     },
     "execution_count": 91,
     "metadata": {},
     "output_type": "execute_result"
    }
   ],
   "source": [
    "''.join(x)"
   ]
  },
  {
   "cell_type": "code",
   "execution_count": 92,
   "metadata": {},
   "outputs": [
    {
     "data": {
      "text/plain": [
       "'a_b_c_d'"
      ]
     },
     "execution_count": 92,
     "metadata": {},
     "output_type": "execute_result"
    }
   ],
   "source": [
    "'_'.join(x)"
   ]
  },
  {
   "cell_type": "code",
   "execution_count": 94,
   "metadata": {},
   "outputs": [
    {
     "data": {
      "text/plain": [
       "'a++b++c++d'"
      ]
     },
     "execution_count": 94,
     "metadata": {},
     "output_type": "execute_result"
    }
   ],
   "source": [
    "'++'.join(x)"
   ]
  },
  {
   "cell_type": "code",
   "execution_count": 80,
   "metadata": {},
   "outputs": [],
   "source": [
    "from nltk.corpus import stopwords"
   ]
  },
  {
   "cell_type": "code",
   "execution_count": 84,
   "metadata": {},
   "outputs": [
    {
     "data": {
      "text/plain": [
       "['i',\n",
       " 'me',\n",
       " 'my',\n",
       " 'myself',\n",
       " 'we',\n",
       " 'our',\n",
       " 'ours',\n",
       " 'ourselves',\n",
       " 'you',\n",
       " \"you're\",\n",
       " \"you've\",\n",
       " \"you'll\",\n",
       " \"you'd\",\n",
       " 'your',\n",
       " 'yours',\n",
       " 'yourself',\n",
       " 'yourselves',\n",
       " 'he',\n",
       " 'him',\n",
       " 'his',\n",
       " 'himself',\n",
       " 'she',\n",
       " \"she's\",\n",
       " 'her',\n",
       " 'hers',\n",
       " 'herself',\n",
       " 'it',\n",
       " \"it's\",\n",
       " 'its',\n",
       " 'itself',\n",
       " 'they',\n",
       " 'them',\n",
       " 'their',\n",
       " 'theirs',\n",
       " 'themselves',\n",
       " 'what',\n",
       " 'which',\n",
       " 'who',\n",
       " 'whom',\n",
       " 'this',\n",
       " 'that',\n",
       " \"that'll\",\n",
       " 'these',\n",
       " 'those',\n",
       " 'am',\n",
       " 'is',\n",
       " 'are',\n",
       " 'was',\n",
       " 'were',\n",
       " 'be',\n",
       " 'been',\n",
       " 'being',\n",
       " 'have',\n",
       " 'has',\n",
       " 'had',\n",
       " 'having',\n",
       " 'do',\n",
       " 'does',\n",
       " 'did',\n",
       " 'doing',\n",
       " 'a',\n",
       " 'an',\n",
       " 'the',\n",
       " 'and',\n",
       " 'but',\n",
       " 'if',\n",
       " 'or',\n",
       " 'because',\n",
       " 'as',\n",
       " 'until',\n",
       " 'while',\n",
       " 'of',\n",
       " 'at',\n",
       " 'by',\n",
       " 'for',\n",
       " 'with',\n",
       " 'about',\n",
       " 'against',\n",
       " 'between',\n",
       " 'into',\n",
       " 'through',\n",
       " 'during',\n",
       " 'before',\n",
       " 'after',\n",
       " 'above',\n",
       " 'below',\n",
       " 'to',\n",
       " 'from',\n",
       " 'up',\n",
       " 'down',\n",
       " 'in',\n",
       " 'out',\n",
       " 'on',\n",
       " 'off',\n",
       " 'over',\n",
       " 'under',\n",
       " 'again',\n",
       " 'further',\n",
       " 'then',\n",
       " 'once',\n",
       " 'here',\n",
       " 'there',\n",
       " 'when',\n",
       " 'where',\n",
       " 'why',\n",
       " 'how',\n",
       " 'all',\n",
       " 'any',\n",
       " 'both',\n",
       " 'each',\n",
       " 'few',\n",
       " 'more',\n",
       " 'most',\n",
       " 'other',\n",
       " 'some',\n",
       " 'such',\n",
       " 'no',\n",
       " 'nor',\n",
       " 'not',\n",
       " 'only',\n",
       " 'own',\n",
       " 'same',\n",
       " 'so',\n",
       " 'than',\n",
       " 'too',\n",
       " 'very',\n",
       " 's',\n",
       " 't',\n",
       " 'can',\n",
       " 'will',\n",
       " 'just',\n",
       " 'don',\n",
       " \"don't\",\n",
       " 'should',\n",
       " \"should've\",\n",
       " 'now',\n",
       " 'd',\n",
       " 'll',\n",
       " 'm',\n",
       " 'o',\n",
       " 're',\n",
       " 've',\n",
       " 'y',\n",
       " 'ain',\n",
       " 'aren',\n",
       " \"aren't\",\n",
       " 'couldn',\n",
       " \"couldn't\",\n",
       " 'didn',\n",
       " \"didn't\",\n",
       " 'doesn',\n",
       " \"doesn't\",\n",
       " 'hadn',\n",
       " \"hadn't\",\n",
       " 'hasn',\n",
       " \"hasn't\",\n",
       " 'haven',\n",
       " \"haven't\",\n",
       " 'isn',\n",
       " \"isn't\",\n",
       " 'ma',\n",
       " 'mightn',\n",
       " \"mightn't\",\n",
       " 'mustn',\n",
       " \"mustn't\",\n",
       " 'needn',\n",
       " \"needn't\",\n",
       " 'shan',\n",
       " \"shan't\",\n",
       " 'shouldn',\n",
       " \"shouldn't\",\n",
       " 'wasn',\n",
       " \"wasn't\",\n",
       " 'weren',\n",
       " \"weren't\",\n",
       " 'won',\n",
       " \"won't\",\n",
       " 'wouldn',\n",
       " \"wouldn't\"]"
      ]
     },
     "execution_count": 84,
     "metadata": {},
     "output_type": "execute_result"
    }
   ],
   "source": [
    "stopwords.words('english')"
   ]
  },
  {
   "cell_type": "code",
   "execution_count": 110,
   "metadata": {},
   "outputs": [
    {
     "data": {
      "text/plain": [
       "['Sample', 'message', 'Notice', 'punctuation']"
      ]
     },
     "execution_count": 110,
     "metadata": {},
     "output_type": "execute_result"
    }
   ],
   "source": [
    "clean_mess = [word for word in nopunc.split() if word.lower() not in stopwords.words('english')]\n",
    "clean_mess"
   ]
  },
  {
   "cell_type": "code",
   "execution_count": 120,
   "metadata": {},
   "outputs": [],
   "source": [
    "def text_process(mess):\n",
    "    \"\"\"Pre-process a text for NLP.\n",
    "\n",
    "    1. Remove punctuation.\n",
    "    2. Remove stopwords.\n",
    "    3. Return list of clean text words.\n",
    "\n",
    "    Args:\n",
    "        mess (string): The message to be processed.\n",
    "\n",
    "    Returns:\n",
    "        list: The list containing all the interesting words in the input message.\n",
    "    \"\"\"\n",
    "    nopunc = [c.lower() for c in mess if c not in string.punctuation]\n",
    "    nopunc = ''.join(nopunc).split()\n",
    "    stop = stopwords.words('english')\n",
    "    clean_mess = [word for word in nopunc if word not in stop]\n",
    "    return clean_mess"
   ]
  },
  {
   "cell_type": "code",
   "execution_count": 121,
   "metadata": {},
   "outputs": [
    {
     "data": {
      "text/html": [
       "<div>\n",
       "<style scoped>\n",
       "    .dataframe tbody tr th:only-of-type {\n",
       "        vertical-align: middle;\n",
       "    }\n",
       "\n",
       "    .dataframe tbody tr th {\n",
       "        vertical-align: top;\n",
       "    }\n",
       "\n",
       "    .dataframe thead th {\n",
       "        text-align: right;\n",
       "    }\n",
       "</style>\n",
       "<table border=\"1\" class=\"dataframe\">\n",
       "  <thead>\n",
       "    <tr style=\"text-align: right;\">\n",
       "      <th></th>\n",
       "      <th>label</th>\n",
       "      <th>message</th>\n",
       "      <th>length</th>\n",
       "    </tr>\n",
       "  </thead>\n",
       "  <tbody>\n",
       "    <tr>\n",
       "      <th>0</th>\n",
       "      <td>ham</td>\n",
       "      <td>Go until jurong point, crazy.. Available only ...</td>\n",
       "      <td>111</td>\n",
       "    </tr>\n",
       "    <tr>\n",
       "      <th>1</th>\n",
       "      <td>ham</td>\n",
       "      <td>Ok lar... Joking wif u oni...</td>\n",
       "      <td>29</td>\n",
       "    </tr>\n",
       "    <tr>\n",
       "      <th>2</th>\n",
       "      <td>spam</td>\n",
       "      <td>Free entry in 2 a wkly comp to win FA Cup fina...</td>\n",
       "      <td>155</td>\n",
       "    </tr>\n",
       "    <tr>\n",
       "      <th>3</th>\n",
       "      <td>ham</td>\n",
       "      <td>U dun say so early hor... U c already then say...</td>\n",
       "      <td>49</td>\n",
       "    </tr>\n",
       "    <tr>\n",
       "      <th>4</th>\n",
       "      <td>ham</td>\n",
       "      <td>Nah I don't think he goes to usf, he lives aro...</td>\n",
       "      <td>61</td>\n",
       "    </tr>\n",
       "  </tbody>\n",
       "</table>\n",
       "</div>"
      ],
      "text/plain": [
       "  label                                            message  length\n",
       "0   ham  Go until jurong point, crazy.. Available only ...     111\n",
       "1   ham                      Ok lar... Joking wif u oni...      29\n",
       "2  spam  Free entry in 2 a wkly comp to win FA Cup fina...     155\n",
       "3   ham  U dun say so early hor... U c already then say...      49\n",
       "4   ham  Nah I don't think he goes to usf, he lives aro...      61"
      ]
     },
     "execution_count": 121,
     "metadata": {},
     "output_type": "execute_result"
    }
   ],
   "source": [
    "messages.head()"
   ]
  },
  {
   "cell_type": "markdown",
   "metadata": {},
   "source": [
    "We are going to *tokenize* the messages."
   ]
  },
  {
   "cell_type": "code",
   "execution_count": 123,
   "metadata": {},
   "outputs": [
    {
     "data": {
      "text/plain": [
       "0    [go, jurong, point, crazy, available, bugis, n...\n",
       "1                       [ok, lar, joking, wif, u, oni]\n",
       "2    [free, entry, 2, wkly, comp, win, fa, cup, fin...\n",
       "Name: message, dtype: object"
      ]
     },
     "execution_count": 123,
     "metadata": {},
     "output_type": "execute_result"
    }
   ],
   "source": [
    "messages['message'].head(3).apply(text_process)"
   ]
  },
  {
   "cell_type": "markdown",
   "metadata": {},
   "source": [
    "Messages are now a list of tokens. We now need to convert these into vectors for scikit-learn, the process known as **vectorization**."
   ]
  },
  {
   "cell_type": "markdown",
   "metadata": {},
   "source": [
    "### Vectorization"
   ]
  },
  {
   "cell_type": "markdown",
   "metadata": {},
   "source": [
    "Now we'll convert each message, represented as a list of tokens above, into a vector that machine learning models can understand.\n",
    "\n",
    "We'll do that in three steps using the **bag-of-words** model:\n",
    "\n",
    "1. Count how many times does a word occur in each message (Known as term frequency)\n",
    "\n",
    "2. Weigh the counts, so that frequent tokens get lower weight (inverse document frequency)\n",
    "\n",
    "3. Normalize the vectors to unit length, to abstract from the original text length (L2 norm)\n",
    "\n",
    "Let's begin the first step:"
   ]
  },
  {
   "cell_type": "markdown",
   "metadata": {},
   "source": [
    "Each vector will have as many dimensions as there are unique words in the SMS corpus.  We will first use SciKit Learn's **CountVectorizer**. This model will convert a collection of text documents to a matrix of token counts.\n",
    "\n",
    "We can imagine this as a 2-Dimensional matrix. Where the 1-dimension is the entire vocabulary (1 row per word) and the other dimension are the actual documents, in this case a column per text message. \n",
    "\n",
    "For example:\n",
    "\n",
    "<table border = “1“>\n",
    "<tr>\n",
    "<th></th> <th>Message 1</th> <th>Message 2</th> <th>...</th> <th>Message N</th> \n",
    "</tr>\n",
    "<tr>\n",
    "<td><b>Word 1 Count</b></td><td>0</td><td>1</td><td>...</td><td>0</td>\n",
    "</tr>\n",
    "<tr>\n",
    "<td><b>Word 2 Count</b></td><td>0</td><td>0</td><td>...</td><td>0</td>\n",
    "</tr>\n",
    "<tr>\n",
    "<td><b>...</b></td> <td>1</td><td>2</td><td>...</td><td>0</td>\n",
    "</tr>\n",
    "<tr>\n",
    "<td><b>Word N Count</b></td> <td>0</td><td>1</td><td>...</td><td>1</td>\n",
    "</tr>\n",
    "</table>\n",
    "\n",
    "\n",
    "Since there are so many messages, we can expect a lot of zero counts for the presence of that word in that document. Because of this, SciKit Learn will output a [Sparse Matrix](https://en.wikipedia.org/wiki/Sparse_matrix)."
   ]
  },
  {
   "cell_type": "code",
   "execution_count": 124,
   "metadata": {},
   "outputs": [],
   "source": [
    "from sklearn.feature_extraction.text import CountVectorizer"
   ]
  },
  {
   "cell_type": "code",
   "execution_count": 127,
   "metadata": {},
   "outputs": [
    {
     "data": {
      "text/html": [
       "<div>\n",
       "<style scoped>\n",
       "    .dataframe tbody tr th:only-of-type {\n",
       "        vertical-align: middle;\n",
       "    }\n",
       "\n",
       "    .dataframe tbody tr th {\n",
       "        vertical-align: top;\n",
       "    }\n",
       "\n",
       "    .dataframe thead th {\n",
       "        text-align: right;\n",
       "    }\n",
       "</style>\n",
       "<table border=\"1\" class=\"dataframe\">\n",
       "  <thead>\n",
       "    <tr style=\"text-align: right;\">\n",
       "      <th></th>\n",
       "      <th>label</th>\n",
       "      <th>message</th>\n",
       "      <th>length</th>\n",
       "    </tr>\n",
       "  </thead>\n",
       "  <tbody>\n",
       "    <tr>\n",
       "      <th>0</th>\n",
       "      <td>ham</td>\n",
       "      <td>Go until jurong point, crazy.. Available only ...</td>\n",
       "      <td>111</td>\n",
       "    </tr>\n",
       "    <tr>\n",
       "      <th>1</th>\n",
       "      <td>ham</td>\n",
       "      <td>Ok lar... Joking wif u oni...</td>\n",
       "      <td>29</td>\n",
       "    </tr>\n",
       "    <tr>\n",
       "      <th>2</th>\n",
       "      <td>spam</td>\n",
       "      <td>Free entry in 2 a wkly comp to win FA Cup fina...</td>\n",
       "      <td>155</td>\n",
       "    </tr>\n",
       "    <tr>\n",
       "      <th>3</th>\n",
       "      <td>ham</td>\n",
       "      <td>U dun say so early hor... U c already then say...</td>\n",
       "      <td>49</td>\n",
       "    </tr>\n",
       "    <tr>\n",
       "      <th>4</th>\n",
       "      <td>ham</td>\n",
       "      <td>Nah I don't think he goes to usf, he lives aro...</td>\n",
       "      <td>61</td>\n",
       "    </tr>\n",
       "    <tr>\n",
       "      <th>...</th>\n",
       "      <td>...</td>\n",
       "      <td>...</td>\n",
       "      <td>...</td>\n",
       "    </tr>\n",
       "    <tr>\n",
       "      <th>5567</th>\n",
       "      <td>spam</td>\n",
       "      <td>This is the 2nd time we have tried 2 contact u...</td>\n",
       "      <td>160</td>\n",
       "    </tr>\n",
       "    <tr>\n",
       "      <th>5568</th>\n",
       "      <td>ham</td>\n",
       "      <td>Will ü b going to esplanade fr home?</td>\n",
       "      <td>36</td>\n",
       "    </tr>\n",
       "    <tr>\n",
       "      <th>5569</th>\n",
       "      <td>ham</td>\n",
       "      <td>Pity, * was in mood for that. So...any other s...</td>\n",
       "      <td>57</td>\n",
       "    </tr>\n",
       "    <tr>\n",
       "      <th>5570</th>\n",
       "      <td>ham</td>\n",
       "      <td>The guy did some bitching but I acted like i'd...</td>\n",
       "      <td>125</td>\n",
       "    </tr>\n",
       "    <tr>\n",
       "      <th>5571</th>\n",
       "      <td>ham</td>\n",
       "      <td>Rofl. Its true to its name</td>\n",
       "      <td>26</td>\n",
       "    </tr>\n",
       "  </tbody>\n",
       "</table>\n",
       "<p>5572 rows × 3 columns</p>\n",
       "</div>"
      ],
      "text/plain": [
       "     label                                            message  length\n",
       "0      ham  Go until jurong point, crazy.. Available only ...     111\n",
       "1      ham                      Ok lar... Joking wif u oni...      29\n",
       "2     spam  Free entry in 2 a wkly comp to win FA Cup fina...     155\n",
       "3      ham  U dun say so early hor... U c already then say...      49\n",
       "4      ham  Nah I don't think he goes to usf, he lives aro...      61\n",
       "...    ...                                                ...     ...\n",
       "5567  spam  This is the 2nd time we have tried 2 contact u...     160\n",
       "5568   ham               Will ü b going to esplanade fr home?      36\n",
       "5569   ham  Pity, * was in mood for that. So...any other s...      57\n",
       "5570   ham  The guy did some bitching but I acted like i'd...     125\n",
       "5571   ham                         Rofl. Its true to its name      26\n",
       "\n",
       "[5572 rows x 3 columns]"
      ]
     },
     "execution_count": 127,
     "metadata": {},
     "output_type": "execute_result"
    }
   ],
   "source": [
    "messages"
   ]
  },
  {
   "cell_type": "code",
   "execution_count": 128,
   "metadata": {},
   "outputs": [],
   "source": [
    "bow_transformer = CountVectorizer(analyzer=text_process).fit(messages['message'])"
   ]
  },
  {
   "cell_type": "code",
   "execution_count": 130,
   "metadata": {},
   "outputs": [
    {
     "data": {
      "text/plain": [
       "{'go': 3786,\n",
       " 'jurong': 4696,\n",
       " 'point': 6445,\n",
       " 'crazy': 2485,\n",
       " 'available': 1389,\n",
       " 'bugis': 1860,\n",
       " 'n': 5686,\n",
       " 'great': 3883,\n",
       " 'world': 9208,\n",
       " 'la': 4858,\n",
       " 'e': 3016,\n",
       " 'buffet': 1858,\n",
       " 'cine': 2200,\n",
       " 'got': 3843,\n",
       " 'amore': 1156,\n",
       " 'wat': 8969,\n",
       " 'ok': 6006,\n",
       " 'lar': 4897,\n",
       " 'joking': 4664,\n",
       " 'wif': 9103,\n",
       " 'u': 8626,\n",
       " 'oni': 6038,\n",
       " 'free': 3571,\n",
       " 'entry': 3152,\n",
       " '2': 416,\n",
       " 'wkly': 9160,\n",
       " 'comp': 2316,\n",
       " 'win': 9117,\n",
       " 'fa': 3290,\n",
       " 'cup': 2541,\n",
       " 'final': 3415,\n",
       " 'tkts': 8398,\n",
       " '21st': 436,\n",
       " 'may': 5345,\n",
       " '2005': 423,\n",
       " 'text': 8233,\n",
       " '87121': 849,\n",
       " 'receive': 6848,\n",
       " 'questionstd': 6738,\n",
       " 'txt': 8610,\n",
       " 'ratetcs': 6791,\n",
       " 'apply': 1242,\n",
       " '08452810075over18s': 72,\n",
       " 'dun': 3002,\n",
       " 'say': 7208,\n",
       " 'early': 3023,\n",
       " 'hor': 4219,\n",
       " 'c': 1910,\n",
       " 'already': 1129,\n",
       " 'nah': 5693,\n",
       " 'dont': 2907,\n",
       " 'think': 8309,\n",
       " 'goes': 3800,\n",
       " 'usf': 8760,\n",
       " 'lives': 5060,\n",
       " 'around': 1293,\n",
       " 'though': 8328,\n",
       " 'freemsg': 3579,\n",
       " 'hey': 4114,\n",
       " 'darling': 2605,\n",
       " '3': 527,\n",
       " 'weeks': 9023,\n",
       " 'word': 9194,\n",
       " 'back': 1442,\n",
       " 'id': 4340,\n",
       " 'like': 5010,\n",
       " 'fun': 3646,\n",
       " 'still': 7875,\n",
       " 'tb': 8163,\n",
       " 'xxx': 9334,\n",
       " 'std': 7850,\n",
       " 'chgs': 2145,\n",
       " 'send': 7303,\n",
       " '£150': 9478,\n",
       " 'rcv': 6803,\n",
       " 'even': 3199,\n",
       " 'brother': 1826,\n",
       " 'speak': 7721,\n",
       " 'treat': 8535,\n",
       " 'aids': 1075,\n",
       " 'patent': 6238,\n",
       " 'per': 6280,\n",
       " 'request': 6961,\n",
       " 'melle': 5388,\n",
       " 'oru': 6102,\n",
       " 'minnaminunginte': 5471,\n",
       " 'nurungu': 5933,\n",
       " 'vettam': 8825,\n",
       " 'set': 7332,\n",
       " 'callertune': 1946,\n",
       " 'callers': 1945,\n",
       " 'press': 6575,\n",
       " '9': 887,\n",
       " 'copy': 2421,\n",
       " 'friends': 3604,\n",
       " 'winner': 9128,\n",
       " 'valued': 8796,\n",
       " 'network': 5769,\n",
       " 'customer': 2554,\n",
       " 'selected': 7289,\n",
       " 'receivea': 6849,\n",
       " '£900': 9519,\n",
       " 'prize': 6609,\n",
       " 'reward': 7020,\n",
       " 'claim': 2206,\n",
       " 'call': 1927,\n",
       " '09061701461': 218,\n",
       " 'code': 2267,\n",
       " 'kl341': 4813,\n",
       " 'valid': 8792,\n",
       " '12': 324,\n",
       " 'hours': 4238,\n",
       " 'mobile': 5530,\n",
       " '11': 313,\n",
       " 'months': 5575,\n",
       " 'r': 6752,\n",
       " 'entitled': 3149,\n",
       " 'update': 8715,\n",
       " 'latest': 4914,\n",
       " 'colour': 2290,\n",
       " 'mobiles': 5531,\n",
       " 'camera': 1963,\n",
       " 'co': 2256,\n",
       " '08002986030': 57,\n",
       " 'im': 4370,\n",
       " 'gonna': 3817,\n",
       " 'home': 4185,\n",
       " 'soon': 7671,\n",
       " 'want': 8948,\n",
       " 'talk': 8129,\n",
       " 'stuff': 7949,\n",
       " 'anymore': 1209,\n",
       " 'tonight': 8457,\n",
       " 'k': 4703,\n",
       " 'ive': 4568,\n",
       " 'cried': 2502,\n",
       " 'enough': 3140,\n",
       " 'today': 8415,\n",
       " 'six': 7523,\n",
       " 'chances': 2082,\n",
       " 'cash': 2025,\n",
       " '100': 293,\n",
       " '20000': 420,\n",
       " 'pounds': 6512,\n",
       " 'csh11': 2519,\n",
       " '87575': 853,\n",
       " 'cost': 2434,\n",
       " '150pday': 352,\n",
       " '6days': 736,\n",
       " '16': 376,\n",
       " 'tsandcs': 8570,\n",
       " 'reply': 6953,\n",
       " 'hl': 4151,\n",
       " '4': 587,\n",
       " 'info': 4433,\n",
       " 'urgent': 8738,\n",
       " '1': 291,\n",
       " 'week': 9018,\n",
       " 'membership': 5394,\n",
       " '£100000': 9472,\n",
       " 'jackpot': 4586,\n",
       " '81010': 799,\n",
       " 'tc': 8165,\n",
       " 'wwwdbuknet': 9277,\n",
       " 'lccltd': 4932,\n",
       " 'pobox': 6424,\n",
       " '4403ldnw1a7rw18': 608,\n",
       " 'searching': 7256,\n",
       " 'right': 7032,\n",
       " 'words': 9197,\n",
       " 'thank': 8251,\n",
       " 'breather': 1795,\n",
       " 'promise': 6648,\n",
       " 'wont': 9185,\n",
       " 'take': 8120,\n",
       " 'help': 4082,\n",
       " 'granted': 3872,\n",
       " 'fulfil': 3642,\n",
       " 'wonderful': 9182,\n",
       " 'blessing': 1666,\n",
       " 'times': 8373,\n",
       " 'date': 2614,\n",
       " 'sunday': 8017,\n",
       " 'xxxmobilemovieclub': 9335,\n",
       " 'use': 8754,\n",
       " 'credit': 2492,\n",
       " 'click': 2228,\n",
       " 'wap': 8953,\n",
       " 'link': 5033,\n",
       " 'next': 5788,\n",
       " 'message': 5419,\n",
       " 'httpwap': 4268,\n",
       " 'xxxmobilemovieclubcomnqjkgighjjgcbl': 9336,\n",
       " 'oh': 5999,\n",
       " 'kim': 4780,\n",
       " 'watching': 8974,\n",
       " 'eh': 3073,\n",
       " 'remember': 6920,\n",
       " 'spell': 7737,\n",
       " 'name': 5699,\n",
       " 'yes': 9374,\n",
       " 'v': 8784,\n",
       " 'naughty': 5725,\n",
       " 'make': 5263,\n",
       " 'wet': 9060,\n",
       " 'fine': 3423,\n",
       " 'that\\x92s': 8269,\n",
       " 'way': 8985,\n",
       " 'feel': 3367,\n",
       " 'gota': 3844,\n",
       " 'b': 1421,\n",
       " 'england': 3131,\n",
       " 'macedonia': 5225,\n",
       " 'miss': 5490,\n",
       " 'goalsteam': 3792,\n",
       " 'news': 5783,\n",
       " 'ur': 8735,\n",
       " 'national': 5718,\n",
       " 'team': 8179,\n",
       " '87077': 848,\n",
       " 'eg': 3064,\n",
       " 'trywales': 8568,\n",
       " 'scotland': 7235,\n",
       " '4txtú120': 655,\n",
       " 'poboxox36504w45wq': 6436,\n",
       " 'seriously': 7325,\n",
       " 'i‘m': 4578,\n",
       " 'going': 3805,\n",
       " 'try': 8565,\n",
       " 'ha': 3955,\n",
       " 'ü': 9523,\n",
       " 'pay': 6249,\n",
       " 'first': 3443,\n",
       " 'da': 2570,\n",
       " 'stock': 7879,\n",
       " 'comin': 2306,\n",
       " 'aft': 1037,\n",
       " 'finish': 3429,\n",
       " 'lunch': 5191,\n",
       " 'str': 7906,\n",
       " 'lor': 5116,\n",
       " 'ard': 1269,\n",
       " 'smth': 7609,\n",
       " 'ffffffffff': 3385,\n",
       " 'alright': 1131,\n",
       " 'meet': 5373,\n",
       " 'sooner': 7673,\n",
       " 'forced': 3521,\n",
       " 'eat': 3036,\n",
       " 'slice': 7558,\n",
       " 'really': 6828,\n",
       " 'hungry': 4296,\n",
       " 'tho': 8324,\n",
       " 'sucks': 7987,\n",
       " 'mark': 5299,\n",
       " 'getting': 3745,\n",
       " 'worried': 9214,\n",
       " 'knows': 4825,\n",
       " 'sick': 7466,\n",
       " 'turn': 8591,\n",
       " 'pizza': 6374,\n",
       " 'lol': 5093,\n",
       " 'always': 1141,\n",
       " 'convincing': 2407,\n",
       " 'catch': 2037,\n",
       " 'bus': 1880,\n",
       " 'frying': 3630,\n",
       " 'egg': 3068,\n",
       " 'tea': 8173,\n",
       " 'eating': 3039,\n",
       " 'moms': 5554,\n",
       " 'left': 4954,\n",
       " 'dinner': 2814,\n",
       " 'love': 5142,\n",
       " 'amp': 1158,\n",
       " 'packing': 6161,\n",
       " 'car': 1991,\n",
       " 'ill': 4366,\n",
       " 'let': 4977,\n",
       " 'know': 4820,\n",
       " 'theres': 8294,\n",
       " 'room': 7078,\n",
       " 'ahhh': 1066,\n",
       " 'work': 9200,\n",
       " 'vaguely': 8787,\n",
       " 'wait': 8918,\n",
       " 'thats': 8268,\n",
       " 'clear': 2222,\n",
       " 'sure': 8045,\n",
       " 'sarcastic': 7182,\n",
       " 'x': 9314,\n",
       " 'doesnt': 2878,\n",
       " 'live': 5056,\n",
       " 'us': 8750,\n",
       " 'yeah': 9361,\n",
       " 'apologetic': 1230,\n",
       " 'fallen': 3317,\n",
       " 'actin': 975,\n",
       " 'spoilt': 7765,\n",
       " 'child': 2161,\n",
       " 'caught': 2041,\n",
       " 'till': 8367,\n",
       " 'badly': 1448,\n",
       " 'cheers': 2127,\n",
       " 'tell': 8198,\n",
       " 'anything': 1215,\n",
       " 'fear': 3359,\n",
       " 'fainting': 3307,\n",
       " 'housework': 4243,\n",
       " 'quick': 6739,\n",
       " 'cuppa': 2543,\n",
       " 'thanks': 8252,\n",
       " 'subscription': 7976,\n",
       " 'ringtone': 7041,\n",
       " 'uk': 8642,\n",
       " 'charged': 2094,\n",
       " '£5month': 9511,\n",
       " 'please': 6403,\n",
       " 'confirm': 2362,\n",
       " 'replying': 6955,\n",
       " 'yup': 9445,\n",
       " 'look': 5104,\n",
       " 'timings': 8380,\n",
       " 'msg': 5618,\n",
       " 'xuhui': 9330,\n",
       " 'learn': 4943,\n",
       " '2nd': 501,\n",
       " 'lesson': 4975,\n",
       " '8am': 876,\n",
       " 'oops': 6056,\n",
       " 'roommates': 7081,\n",
       " 'done': 2904,\n",
       " 'see': 7273,\n",
       " 'letter': 4979,\n",
       " 'decide': 2669,\n",
       " 'hello': 4075,\n",
       " 'hows': 4250,\n",
       " 'saturday': 7198,\n",
       " 'texting': 8241,\n",
       " 'youd': 9408,\n",
       " 'decided': 2670,\n",
       " 'tomo': 8442,\n",
       " 'trying': 8567,\n",
       " 'invite': 4497,\n",
       " 'pls': 6411,\n",
       " 'ahead': 1064,\n",
       " 'watts': 8983,\n",
       " 'wanted': 8950,\n",
       " 'weekend': 9020,\n",
       " 'abiola': 927,\n",
       " 'forget': 3527,\n",
       " 'need': 5744,\n",
       " 'crave': 2482,\n",
       " 'sweet': 8076,\n",
       " 'arabian': 1266,\n",
       " 'steed': 7857,\n",
       " 'mmmmmm': 5520,\n",
       " 'yummy': 9440,\n",
       " '07732584351': 29,\n",
       " 'rodger': 7067,\n",
       " 'burns': 1877,\n",
       " 'tried': 8544,\n",
       " 'sms': 7603,\n",
       " 'nokia': 5853,\n",
       " 'camcorder': 1961,\n",
       " '08000930705': 53,\n",
       " 'delivery': 2708,\n",
       " 'tomorrow': 8445,\n",
       " 'seeing': 7275,\n",
       " 'hope': 4209,\n",
       " 'man': 5273,\n",
       " 'well': 9037,\n",
       " 'endowed': 3121,\n",
       " 'ltgt': 5176,\n",
       " 'inches': 4401,\n",
       " 'callsmessagesmissed': 1954,\n",
       " 'calls': 1952,\n",
       " 'didnt': 2782,\n",
       " 'get': 3737,\n",
       " 'hep': 4096,\n",
       " 'immunisation': 4382,\n",
       " 'nigeria': 5801,\n",
       " 'fair': 3308,\n",
       " 'hopefully': 4213,\n",
       " 'tyler': 8620,\n",
       " 'cant': 1980,\n",
       " 'could': 2446,\n",
       " 'maybe': 5347,\n",
       " 'ask': 1321,\n",
       " 'bit': 1641,\n",
       " 'stubborn': 7937,\n",
       " 'hospital': 4226,\n",
       " 'kept': 4751,\n",
       " 'telling': 8199,\n",
       " 'weak': 8991,\n",
       " 'sucker': 7985,\n",
       " 'hospitals': 4227,\n",
       " 'suckers': 7986,\n",
       " 'thinked': 8310,\n",
       " 'time': 8369,\n",
       " 'saw': 7207,\n",
       " 'class': 2214,\n",
       " 'gram': 3864,\n",
       " 'usually': 8771,\n",
       " 'runs': 7125,\n",
       " 'half': 3972,\n",
       " 'eighth': 3076,\n",
       " 'smarter': 7581,\n",
       " 'gets': 3741,\n",
       " 'almost': 1125,\n",
       " 'whole': 9092,\n",
       " 'second': 7260,\n",
       " 'fyi': 3661,\n",
       " 'ride': 7031,\n",
       " 'morning': 5584,\n",
       " 'hes': 4109,\n",
       " 'crashing': 2481,\n",
       " 'place': 6376,\n",
       " 'wow': 9233,\n",
       " 'never': 5774,\n",
       " 'realized': 6826,\n",
       " 'embarassed': 3101,\n",
       " 'accomodations': 955,\n",
       " 'thought': 8329,\n",
       " 'liked': 5011,\n",
       " 'since': 7493,\n",
       " 'best': 1595,\n",
       " 'seemed': 7279,\n",
       " 'happy': 4006,\n",
       " 'cave': 2045,\n",
       " 'sorry': 7683,\n",
       " 'give': 3767,\n",
       " 'offered': 5979,\n",
       " 'embarassing': 3102,\n",
       " 'ac': 941,\n",
       " 'sptv': 7788,\n",
       " 'new': 5778,\n",
       " 'jersey': 4630,\n",
       " 'devils': 2761,\n",
       " 'detroit': 2755,\n",
       " 'red': 6872,\n",
       " 'wings': 9126,\n",
       " 'play': 6392,\n",
       " 'ice': 4335,\n",
       " 'hockey': 4169,\n",
       " 'correct': 2426,\n",
       " 'incorrect': 4412,\n",
       " 'end': 3116,\n",
       " 'mallika': 5272,\n",
       " 'sherawat': 7386,\n",
       " 'yesterday': 9389,\n",
       " 'find': 3420,\n",
       " 'lturlgt': 5179,\n",
       " 'congrats': 2369,\n",
       " 'year': 9363,\n",
       " 'special': 7723,\n",
       " 'cinema': 2201,\n",
       " 'pass': 6226,\n",
       " '09061209465': 213,\n",
       " 'suprman': 8043,\n",
       " 'matrix3': 5332,\n",
       " 'starwars3': 7837,\n",
       " 'etc': 3185,\n",
       " 'bx420ip45we': 1903,\n",
       " '150pm': 353,\n",
       " 'later': 4912,\n",
       " 'meeting': 5376,\n",
       " 'reached': 6809,\n",
       " 'yesgauti': 9382,\n",
       " 'sehwag': 7286,\n",
       " 'odi': 5972,\n",
       " 'series': 7323,\n",
       " 'pick': 6344,\n",
       " 'burger': 1872,\n",
       " 'move': 5602,\n",
       " 'pain': 6168,\n",
       " 'killing': 4777,\n",
       " 'good': 3819,\n",
       " 'joke': 4659,\n",
       " 'girls': 3764,\n",
       " 'situation': 7519,\n",
       " 'seekers': 7276,\n",
       " 'part': 6213,\n",
       " 'checking': 2121,\n",
       " 'iq': 4512,\n",
       " 'took': 8464,\n",
       " 'forever': 3524,\n",
       " 'come': 2298,\n",
       " 'double': 2924,\n",
       " 'check': 2117,\n",
       " 'hair': 3967,\n",
       " 'dresser': 2959,\n",
       " 'said': 7150,\n",
       " 'wun': 9263,\n",
       " 'cut': 2558,\n",
       " 'short': 7427,\n",
       " 'nice': 5794,\n",
       " 'pleased': 6404,\n",
       " 'advise': 1020,\n",
       " 'following': 3502,\n",
       " 'recent': 6852,\n",
       " 'review': 7018,\n",
       " 'mob': 5528,\n",
       " 'awarded': 1408,\n",
       " '£1500': 9479,\n",
       " 'bonus': 1710,\n",
       " '09066364589': 262,\n",
       " 'song': 7665,\n",
       " 'dedicated': 2680,\n",
       " 'day': 2627,\n",
       " 'dedicate': 2679,\n",
       " 'valuable': 8794,\n",
       " 'frnds': 3614,\n",
       " 'rply': 7098,\n",
       " 'complimentary': 2335,\n",
       " 'trip': 8545,\n",
       " 'eurodisinc': 3192,\n",
       " 'trav': 8527,\n",
       " 'acoentry41': 970,\n",
       " '£1000': 9470,\n",
       " 'dis': 2827,\n",
       " '186£150morefrmmob': 385,\n",
       " 'shracomorsglsuplt10': 7451,\n",
       " 'ls1': 5165,\n",
       " '3aj': 560,\n",
       " 'hear': 4050,\n",
       " 'divorce': 2856,\n",
       " 'barbie': 1479,\n",
       " 'comes': 2302,\n",
       " 'kens': 4749,\n",
       " 'plane': 6383,\n",
       " 'month': 5571,\n",
       " 'wah': 8911,\n",
       " 'lucky': 5184,\n",
       " 'save': 7203,\n",
       " 'money': 5559,\n",
       " 'hee': 4066,\n",
       " 'finished': 3431,\n",
       " 'hi': 4120,\n",
       " 'babe': 1430,\n",
       " 'wanna': 8946,\n",
       " 'something': 7651,\n",
       " 'xx': 9331,\n",
       " 'kkwhere': 4810,\n",
       " 'youhow': 9411,\n",
       " 'performed': 6287,\n",
       " 'waiting': 8922,\n",
       " 'machan': 5227,\n",
       " 'cool': 2413,\n",
       " 'gentleman': 3728,\n",
       " 'dignity': 2804,\n",
       " 'respect': 6982,\n",
       " 'peoples': 6279,\n",
       " 'much': 5638,\n",
       " 'shy': 7461,\n",
       " 'pa': 6156,\n",
       " 'operate': 6063,\n",
       " 'looking': 5108,\n",
       " 'job': 4645,\n",
       " 'tas': 8147,\n",
       " 'earn': 3024,\n",
       " 'ah': 1062,\n",
       " 'stop': 7889,\n",
       " 'urgnt': 8742,\n",
       " 'real': 6819,\n",
       " 'yo': 9399,\n",
       " 'tickets': 8358,\n",
       " 'one': 6034,\n",
       " 'jacket': 4585,\n",
       " 'used': 8755,\n",
       " 'multis': 5649,\n",
       " 'started': 7830,\n",
       " 'requests': 6962,\n",
       " 'came': 1962,\n",
       " 'bed': 1549,\n",
       " 'coins': 2274,\n",
       " 'factory': 3298,\n",
       " 'gotta': 3848,\n",
       " 'nitros': 5825,\n",
       " 'ela': 3081,\n",
       " 'kanoil': 4725,\n",
       " 'download': 2932,\n",
       " 'wen': 9043,\n",
       " 'don‘t': 2914,\n",
       " 'stand': 7818,\n",
       " 'close': 2235,\n",
       " 'you‘ll': 9432,\n",
       " 'another': 1193,\n",
       " 'night': 5803,\n",
       " 'spent': 7742,\n",
       " 'late': 4907,\n",
       " 'afternoon': 1039,\n",
       " 'casualty': 2035,\n",
       " 'means': 5359,\n",
       " 'havent': 4031,\n",
       " 'stuff42moro': 7950,\n",
       " 'includes': 4405,\n",
       " 'sheets': 7381,\n",
       " 'smile': 7590,\n",
       " 'pleasure': 6406,\n",
       " 'trouble': 8551,\n",
       " 'pours': 6514,\n",
       " 'rain': 6764,\n",
       " 'sum1': 8008,\n",
       " 'hurts': 4311,\n",
       " 'becoz': 1547,\n",
       " 'someone': 7644,\n",
       " 'loves': 5152,\n",
       " 'smiling': 7594,\n",
       " 'service': 7328,\n",
       " 'representative': 6959,\n",
       " '0800': 49,\n",
       " '169': 378,\n",
       " '6031': 704,\n",
       " '10am9pm': 307,\n",
       " 'guaranteed': 3922,\n",
       " '£5000': 9506,\n",
       " 'planning': 6388,\n",
       " 'buy': 1892,\n",
       " 'lido': 4992,\n",
       " '530': 676,\n",
       " 'show': 7442,\n",
       " 'collected': 2283,\n",
       " 'simply': 7490,\n",
       " 'password': 6234,\n",
       " 'mix': 5510,\n",
       " '85069': 834,\n",
       " 'verify': 8821,\n",
       " 'usher': 8762,\n",
       " 'britney': 1816,\n",
       " 'fml': 3492,\n",
       " 'po': 6422,\n",
       " 'box': 1746,\n",
       " '5249': 673,\n",
       " 'mk17': 5513,\n",
       " '92h': 892,\n",
       " '450ppw': 619,\n",
       " 'telugu': 8204,\n",
       " 'moviewat': 5607,\n",
       " 'abt': 936,\n",
       " 'loads': 5070,\n",
       " 'loans': 5072,\n",
       " 'wk': 9156,\n",
       " 'hols': 4183,\n",
       " 'run': 7122,\n",
       " 'forgot': 3532,\n",
       " 'hairdressers': 3969,\n",
       " 'appointment': 1246,\n",
       " 'four': 3552,\n",
       " 'shower': 7444,\n",
       " 'beforehand': 1564,\n",
       " 'cause': 2042,\n",
       " 'prob': 6615,\n",
       " 'coffee': 2269,\n",
       " 'animation': 1180,\n",
       " 'nothing': 5887,\n",
       " 'else': 3095,\n",
       " 'okay': 6007,\n",
       " 'price': 6588,\n",
       " 'long': 5100,\n",
       " 'legal': 4957,\n",
       " 'ave': 1395,\n",
       " 'ams': 1162,\n",
       " 'gone': 3814,\n",
       " '4the': 652,\n",
       " 'driving': 2968,\n",
       " 'test': 8227,\n",
       " 'yet': 9390,\n",
       " 'youre': 9421,\n",
       " 'mean': 5355,\n",
       " 'guess': 3930,\n",
       " 'gave': 3696,\n",
       " 'boston': 1732,\n",
       " 'men': 5399,\n",
       " 'changed': 2084,\n",
       " 'search': 7255,\n",
       " 'location': 5075,\n",
       " 'nyc': 5943,\n",
       " 'cuz': 2565,\n",
       " 'signin': 7478,\n",
       " 'page': 6164,\n",
       " 'says': 7213,\n",
       " 'umma': 8651,\n",
       " 'life': 4995,\n",
       " 'vava': 8808,\n",
       " 'lot': 5126,\n",
       " 'dear': 2651,\n",
       " 'wishes': 9141,\n",
       " 'birthday': 1639,\n",
       " 'making': 5267,\n",
       " 'truly': 8559,\n",
       " 'memorable': 5396,\n",
       " 'aight': 1077,\n",
       " 'hit': 4142,\n",
       " 'would': 9229,\n",
       " 'ip': 4505,\n",
       " 'address': 994,\n",
       " 'considering': 2380,\n",
       " 'computer': 2342,\n",
       " 'isnt': 4531,\n",
       " 'minecraft': 5467,\n",
       " 'server': 7327,\n",
       " 'grumpy': 3914,\n",
       " 'old': 6024,\n",
       " 'people': 6278,\n",
       " 'mom': 5551,\n",
       " 'better': 1603,\n",
       " 'lying': 5207,\n",
       " 'jokes': 4661,\n",
       " 'worry': 9217,\n",
       " 'busy': 1886,\n",
       " 'plural': 6416,\n",
       " 'noun': 5896,\n",
       " 'research': 6968,\n",
       " 'dinnermsg': 2815,\n",
       " 'cos': 2432,\n",
       " 'things': 8308,\n",
       " 'scared': 7220,\n",
       " 'mah': 5251,\n",
       " 'loud': 5137,\n",
       " 'gent': 3726,\n",
       " 'contact': 2385,\n",
       " 'last': 4904,\n",
       " 'weekends': 9021,\n",
       " 'draw': 2946,\n",
       " 'shows': 7450,\n",
       " '09064012160': 237,\n",
       " 'k52': 4704,\n",
       " '12hrs': 335,\n",
       " '150ppm': 363,\n",
       " 'wa': 8906,\n",
       " 'openin': 6060,\n",
       " 'sentence': 7316,\n",
       " 'formal': 3535,\n",
       " 'anyway': 1219,\n",
       " 'juz': 4702,\n",
       " 'tt': 8577,\n",
       " 'eatin': 3038,\n",
       " 'puttin': 6715,\n",
       " 'weighthaha': 9028,\n",
       " 'anythin': 1214,\n",
       " 'happened': 3998,\n",
       " 'entered': 3142,\n",
       " 'cabin': 1913,\n",
       " 'bday': 1532,\n",
       " 'boss': 1731,\n",
       " 'felt': 3377,\n",
       " 'askd': 1322,\n",
       " 'invited': 4498,\n",
       " 'apartment': 1224,\n",
       " 'went': 9046,\n",
       " 'specially': 7728,\n",
       " 'holiday': 4179,\n",
       " 'flights': 3469,\n",
       " 'inc': 4399,\n",
       " 'operator': 6064,\n",
       " '0871277810910pmin': 122,\n",
       " '18': 381,\n",
       " 'goodo': 3833,\n",
       " 'must': 5669,\n",
       " 'friday': 3597,\n",
       " 'eggpotato': 3069,\n",
       " 'ratio': 6793,\n",
       " 'tortilla': 8483,\n",
       " 'needed': 5746,\n",
       " 'hmmmy': 4164,\n",
       " 'uncle': 8658,\n",
       " 'informed': 4437,\n",
       " 'paying': 6255,\n",
       " 'school': 7226,\n",
       " 'directly': 2821,\n",
       " 'food': 3510,\n",
       " 'private': 6606,\n",
       " '2004': 422,\n",
       " 'account': 959,\n",
       " 'statement': 7840,\n",
       " '07742676969': 31,\n",
       " '786': 766,\n",
       " 'unredeemed': 8700,\n",
       " 'points': 6446,\n",
       " '08719180248': 170,\n",
       " 'identifier': 4347,\n",
       " '45239': 621,\n",
       " 'expires': 3268,\n",
       " '£2000': 9491,\n",
       " 'caller': 1944,\n",
       " '5903': 681,\n",
       " 'landline': 4884,\n",
       " '09064019788': 243,\n",
       " 'box42wr29c': 1758,\n",
       " 'applespairsall': 1240,\n",
       " 'malarky': 5269,\n",
       " 'todays': 8421,\n",
       " 'voda': 8875,\n",
       " 'numbers': 5929,\n",
       " 'ending': 3118,\n",
       " '7548': 761,\n",
       " '350': 550,\n",
       " 'award': 1407,\n",
       " 'match': 5320,\n",
       " '08712300220': 104,\n",
       " 'quoting': 6751,\n",
       " '4041': 592,\n",
       " 'standard': 7819,\n",
       " 'rates': 6790,\n",
       " 'app': 1234,\n",
       " 'sao': 7176,\n",
       " 'mu': 5637,\n",
       " 'predict': 6549,\n",
       " 'üll': 9524,\n",
       " 'buying': 1895,\n",
       " 'knowyetunde': 4828,\n",
       " 'hasnt': 4018,\n",
       " 'sent': 7314,\n",
       " 'bother': 1734,\n",
       " 'sending': 7306,\n",
       " 'involve': 4502,\n",
       " 'shouldnt': 7436,\n",
       " 'imposed': 4388,\n",
       " 'apologise': 1231,\n",
       " 'girl': 3760,\n",
       " 'del': 2698,\n",
       " 'bak': 1456,\n",
       " 'sum': 8007,\n",
       " 'lucyxx': 5188,\n",
       " 'kkhow': 4804,\n",
       " 'tmorrowpls': 8403,\n",
       " 'accomodate': 954,\n",
       " 'answer': 1196,\n",
       " 'question': 6735,\n",
       " 'sunshine': 8024,\n",
       " 'quiz': 6746,\n",
       " 'q': 6721,\n",
       " 'top': 8473,\n",
       " 'sony': 7668,\n",
       " 'dvd': 3011,\n",
       " 'player': 6394,\n",
       " 'country': 2453,\n",
       " 'algarve': 1106,\n",
       " 'ansr': 1195,\n",
       " '82277': 805,\n",
       " 'sptyrone': 7789,\n",
       " 'laid': 4875,\n",
       " 'dogging': 2885,\n",
       " 'locations': 5076,\n",
       " 'direct': 2820,\n",
       " 'join': 4654,\n",
       " 'uks': 8645,\n",
       " 'largest': 4901,\n",
       " 'bt': 1843,\n",
       " 'txting': 8615,\n",
       " 'gravel': 3877,\n",
       " '69888': 730,\n",
       " 'nt': 5917,\n",
       " 'ec2a': 3041,\n",
       " '31pmsg150p': 543,\n",
       " 'haf': 3961,\n",
       " 'msn': 5630,\n",
       " 'yijuehotmailcom': 9396,\n",
       " 'rooms': 7082,\n",
       " 'befor': 1563,\n",
       " 'activities': 981,\n",
       " 'youll': 9415,\n",
       " 'msgs': 5622,\n",
       " 'chat': 2106,\n",
       " 'svc': 8061,\n",
       " 'hardcore': 4008,\n",
       " 'services': 7329,\n",
       " '69988': 734,\n",
       " 'age': 1047,\n",
       " 'yr': 9436,\n",
       " 'lazy': 4931,\n",
       " 'type': 8622,\n",
       " 'lect': 4951,\n",
       " 'pouch': 6509,\n",
       " 'sir': 7505,\n",
       " 'mail': 5254,\n",
       " 'swt': 8090,\n",
       " 'nver': 5938,\n",
       " 'tired': 8384,\n",
       " 'little': 5055,\n",
       " 'lovable': 5141,\n",
       " 'persons': 6305,\n",
       " 'cozsomtimes': 2467,\n",
       " 'occupy': 5965,\n",
       " 'biggest': 1620,\n",
       " 'hearts': 4058,\n",
       " 'gud': 3924,\n",
       " 'ni8': 5791,\n",
       " 'open': 6057,\n",
       " 'ya': 9345,\n",
       " 'dot': 2923,\n",
       " 'whats': 9069,\n",
       " 'staff': 7809,\n",
       " 'taking': 8126,\n",
       " 'replied': 6951,\n",
       " 'randy': 6783,\n",
       " 'sexy': 7345,\n",
       " 'female': 3378,\n",
       " 'local': 5074,\n",
       " 'luv': 5197,\n",
       " 'netcollex': 5765,\n",
       " 'ltd': 5171,\n",
       " '08700621170150p': 74,\n",
       " 'ummmawill': 8652,\n",
       " 'inour': 4454,\n",
       " 'begin': 1569,\n",
       " 'qatar': 6722,\n",
       " 'pray': 6542,\n",
       " 'hard': 4007,\n",
       " 'ki': 4765,\n",
       " 'deleted': 2702,\n",
       " 'sindu': 7495,\n",
       " 'birla': 1635,\n",
       " 'soft': 7631,\n",
       " 'wine': 9124,\n",
       " 'flowing': 3483,\n",
       " 'nevering': 5775,\n",
       " 'thk': 8318,\n",
       " 'plaza': 6401,\n",
       " 'typical': 8625,\n",
       " 'everywhere': 3218,\n",
       " 'dirt': 2824,\n",
       " 'floor': 3477,\n",
       " 'windows': 9121,\n",
       " 'shirt': 7401,\n",
       " 'sometimes': 7655,\n",
       " 'mouth': 5601,\n",
       " 'dream': 2950,\n",
       " 'without': 9150,\n",
       " 'chores': 2187,\n",
       " 'joy': 4676,\n",
       " 'lots': 5129,\n",
       " 'tv': 8596,\n",
       " 'exist': 3252,\n",
       " 'hail': 3966,\n",
       " 'mist': 5501,\n",
       " 'become': 1545,\n",
       " 'aaooooright': 916,\n",
       " 'leaving': 4950,\n",
       " 'house': 4239,\n",
       " 'interview': 4484,\n",
       " 'boy': 1763,\n",
       " 'meare': 5362,\n",
       " 'missing': 5494,\n",
       " 'annoncement': 1186,\n",
       " 'years': 9364,\n",
       " '07046744435': 22,\n",
       " 'arrange': 1297,\n",
       " '0871277810810': 121,\n",
       " 'keep': 4742,\n",
       " 'safe': 7145,\n",
       " 'envy': 3156,\n",
       " 'everyone': 3212,\n",
       " 'sees': 7283,\n",
       " 'parentsi': 6204,\n",
       " 'hand': 3981,\n",
       " 'excited': 3240,\n",
       " 'spend': 7740,\n",
       " 'bootydelious': 1723,\n",
       " '32f': 548,\n",
       " 'inviting': 4499,\n",
       " 'friend': 3602,\n",
       " 'yes434': 9376,\n",
       " 'no434': 5832,\n",
       " 'wwwsmsacubootydelious': 9297,\n",
       " 'frnd': 3613,\n",
       " '62468': 712,\n",
       " 'bangbabes': 1470,\n",
       " 'order': 6088,\n",
       " 'content': 2389,\n",
       " 'goto': 3847,\n",
       " 'bangb': 1469,\n",
       " 'internetservice': 4483,\n",
       " 'menu': 5407,\n",
       " 'cultures': 2537,\n",
       " 'module': 5544,\n",
       " '09061701939': 220,\n",
       " 's89': 7135,\n",
       " 'avoid': 1401,\n",
       " 'missunderstding': 5499,\n",
       " 'wit': 9146,\n",
       " 'beloved': 1585,\n",
       " 'ones': 6036,\n",
       " 'escape': 3175,\n",
       " 'fancy': 3329,\n",
       " 'bridge': 1800,\n",
       " 'needs': 5750,\n",
       " 'lager': 4874,\n",
       " 'completely': 2331,\n",
       " 'formclark': 3539,\n",
       " 'also': 1135,\n",
       " 'utter': 8773,\n",
       " 'waste': 8966,\n",
       " 'axis': 1415,\n",
       " 'bank': 1472,\n",
       " 'hmmm': 4158,\n",
       " 'hop': 4208,\n",
       " 'muz': 5675,\n",
       " 'discuss': 2840,\n",
       " ...}"
      ]
     },
     "execution_count": 130,
     "metadata": {},
     "output_type": "execute_result"
    }
   ],
   "source": [
    "bow_transformer.vocabulary_"
   ]
  },
  {
   "cell_type": "code",
   "execution_count": 129,
   "metadata": {},
   "outputs": [
    {
     "name": "stdout",
     "output_type": "stream",
     "text": [
      "9530\n"
     ]
    }
   ],
   "source": [
    "print(len(bow_transformer.vocabulary_))"
   ]
  },
  {
   "cell_type": "code",
   "execution_count": 133,
   "metadata": {},
   "outputs": [
    {
     "data": {
      "text/plain": [
       "'U dun say so early hor... U c already then say...'"
      ]
     },
     "execution_count": 133,
     "metadata": {},
     "output_type": "execute_result"
    }
   ],
   "source": [
    "mess4 = messages['message'][3]\n",
    "mess4"
   ]
  },
  {
   "cell_type": "code",
   "execution_count": 135,
   "metadata": {},
   "outputs": [
    {
     "data": {
      "text/plain": [
       "<1x9530 sparse matrix of type '<class 'numpy.int64'>'\n",
       "\twith 7 stored elements in Compressed Sparse Row format>"
      ]
     },
     "execution_count": 135,
     "metadata": {},
     "output_type": "execute_result"
    }
   ],
   "source": [
    "bow4 = bow_transformer.transform([mess4])\n",
    "bow4"
   ]
  },
  {
   "cell_type": "code",
   "execution_count": 136,
   "metadata": {},
   "outputs": [
    {
     "name": "stdout",
     "output_type": "stream",
     "text": [
      "  (0, 1129)\t1\n",
      "  (0, 1910)\t1\n",
      "  (0, 3002)\t1\n",
      "  (0, 3023)\t1\n",
      "  (0, 4219)\t1\n",
      "  (0, 7208)\t2\n",
      "  (0, 8626)\t2\n"
     ]
    }
   ],
   "source": [
    "print(bow4)"
   ]
  },
  {
   "cell_type": "code",
   "execution_count": 138,
   "metadata": {},
   "outputs": [
    {
     "name": "stdout",
     "output_type": "stream",
     "text": [
      "(1, 9530)\n"
     ]
    }
   ],
   "source": [
    "print(bow4.shape)"
   ]
  },
  {
   "cell_type": "code",
   "execution_count": 141,
   "metadata": {},
   "outputs": [
    {
     "data": {
      "text/plain": [
       "'say'"
      ]
     },
     "execution_count": 141,
     "metadata": {},
     "output_type": "execute_result"
    }
   ],
   "source": [
    "bow_transformer.get_feature_names()[7208]"
   ]
  },
  {
   "cell_type": "code",
   "execution_count": 142,
   "metadata": {},
   "outputs": [
    {
     "data": {
      "text/plain": [
       "'u'"
      ]
     },
     "execution_count": 142,
     "metadata": {},
     "output_type": "execute_result"
    }
   ],
   "source": [
    "bow_transformer.get_feature_names()[8626]"
   ]
  },
  {
   "cell_type": "code",
   "execution_count": 143,
   "metadata": {},
   "outputs": [],
   "source": [
    "messages_bow = bow_transformer.transform(messages['message'])"
   ]
  },
  {
   "cell_type": "code",
   "execution_count": 145,
   "metadata": {},
   "outputs": [
    {
     "name": "stdout",
     "output_type": "stream",
     "text": [
      "Shape of sparse matrix: (5572, 9530)\n"
     ]
    }
   ],
   "source": [
    "print('Shape of sparse matrix:', messages_bow.shape)"
   ]
  },
  {
   "cell_type": "code",
   "execution_count": 146,
   "metadata": {},
   "outputs": [
    {
     "data": {
      "text/plain": [
       "50101"
      ]
     },
     "execution_count": 146,
     "metadata": {},
     "output_type": "execute_result"
    }
   ],
   "source": [
    "messages_bow.nnz # non-zeroes"
   ]
  },
  {
   "cell_type": "code",
   "execution_count": 152,
   "metadata": {},
   "outputs": [
    {
     "name": "stdout",
     "output_type": "stream",
     "text": [
      "Sparsity: 0.0944\n"
     ]
    }
   ],
   "source": [
    "sparsity = 100.0 * messages_bow.nnz / (messages_bow.shape[0] * messages_bow.shape[1])\n",
    "# actually that is the density, the complement of sparsity\n",
    "print('Sparsity: {0:.4f}'.format(sparsity)) "
   ]
  },
  {
   "cell_type": "code",
   "execution_count": 153,
   "metadata": {},
   "outputs": [],
   "source": [
    "from sklearn.feature_extraction.text import TfidfTransformer"
   ]
  },
  {
   "cell_type": "code",
   "execution_count": 156,
   "metadata": {},
   "outputs": [],
   "source": [
    "tfidf_transformer = TfidfTransformer().fit(messages_bow)"
   ]
  },
  {
   "cell_type": "code",
   "execution_count": 158,
   "metadata": {},
   "outputs": [
    {
     "data": {
      "text/plain": [
       "<1x9530 sparse matrix of type '<class 'numpy.float64'>'\n",
       "\twith 7 stored elements in Compressed Sparse Row format>"
      ]
     },
     "execution_count": 158,
     "metadata": {},
     "output_type": "execute_result"
    }
   ],
   "source": [
    "tfidf4 = tfidf_transformer.transform(bow4)"
   ]
  },
  {
   "cell_type": "code",
   "execution_count": 159,
   "metadata": {},
   "outputs": [
    {
     "name": "stdout",
     "output_type": "stream",
     "text": [
      "  (0, 8626)\t0.31949158769666564\n",
      "  (0, 7208)\t0.5597000940482765\n",
      "  (0, 4219)\t0.46452762500729494\n",
      "  (0, 3023)\t0.33557436526898854\n",
      "  (0, 3002)\t0.30912546538910485\n",
      "  (0, 1910)\t0.2870370340589675\n",
      "  (0, 1129)\t0.27985004702413824\n"
     ]
    }
   ],
   "source": [
    "print(tfidf4)"
   ]
  },
  {
   "cell_type": "code",
   "execution_count": 160,
   "metadata": {},
   "outputs": [
    {
     "data": {
      "text/plain": [
       "8.239394426449646"
      ]
     },
     "execution_count": 160,
     "metadata": {},
     "output_type": "execute_result"
    }
   ],
   "source": [
    "tfidf_transformer.idf_[bow_transformer.vocabulary_['university']]"
   ]
  },
  {
   "cell_type": "code",
   "execution_count": 162,
   "metadata": {},
   "outputs": [],
   "source": [
    "messages_tfidf = tfidf_transformer.transform(messages_bow)"
   ]
  },
  {
   "cell_type": "code",
   "execution_count": 163,
   "metadata": {},
   "outputs": [],
   "source": [
    "from sklearn.naive_bayes import MultinomialNB"
   ]
  },
  {
   "cell_type": "code",
   "execution_count": 164,
   "metadata": {},
   "outputs": [],
   "source": [
    "spam_detect_model = MultinomialNB().fit(X=messages_tfidf, y=messages['label'])"
   ]
  },
  {
   "cell_type": "code",
   "execution_count": 166,
   "metadata": {},
   "outputs": [
    {
     "data": {
      "text/plain": [
       "'ham'"
      ]
     },
     "execution_count": 166,
     "metadata": {},
     "output_type": "execute_result"
    }
   ],
   "source": [
    "spam_detect_model.predict(tfidf4)[0]"
   ]
  },
  {
   "cell_type": "code",
   "execution_count": 167,
   "metadata": {},
   "outputs": [
    {
     "data": {
      "text/plain": [
       "'ham'"
      ]
     },
     "execution_count": 167,
     "metadata": {},
     "output_type": "execute_result"
    }
   ],
   "source": [
    "messages['label'][3]"
   ]
  },
  {
   "cell_type": "code",
   "execution_count": 170,
   "metadata": {},
   "outputs": [
    {
     "data": {
      "text/plain": [
       "array(['ham', 'ham', 'spam', ..., 'ham', 'ham', 'ham'], dtype='<U4')"
      ]
     },
     "execution_count": 170,
     "metadata": {},
     "output_type": "execute_result"
    }
   ],
   "source": [
    "all_pred = spam_detect_model.predict(messages_tfidf)\n",
    "all_pred"
   ]
  },
  {
   "cell_type": "markdown",
   "metadata": {},
   "source": [
    "Let's now do a train test split."
   ]
  },
  {
   "cell_type": "code",
   "execution_count": 171,
   "metadata": {},
   "outputs": [],
   "source": [
    "from sklearn.model_selection import train_test_split"
   ]
  },
  {
   "cell_type": "code",
   "execution_count": 175,
   "metadata": {},
   "outputs": [],
   "source": [
    "msg_train, msg_test, label_train, label_test = train_test_split(\n",
    "    messages['message'], messages['label'], test_size=0.3)"
   ]
  },
  {
   "cell_type": "code",
   "execution_count": 176,
   "metadata": {},
   "outputs": [
    {
     "data": {
      "text/plain": [
       "1373    1) Go to write msg 2) Put on Dictionary mode 3...\n",
       "4307    Awww dat is sweet! We can think of something t...\n",
       "2207    URGENT! Your mobile No 07xxxxxxxxx won a £2,00...\n",
       "3560    URGENT! We are trying to contact U Todays draw...\n",
       "627     How many licks does it take to get to the cent...\n",
       "                              ...                        \n",
       "2809    Yes princess! I want to catch you with my big ...\n",
       "3133    I've been barred from all B and Q stores for l...\n",
       "313     He says he'll give me a call when his friend's...\n",
       "2352    Download as many ringtones as u like no restri...\n",
       "3148    Oh thats late! Well have a good night and i wi...\n",
       "Name: message, Length: 3900, dtype: object"
      ]
     },
     "execution_count": 176,
     "metadata": {},
     "output_type": "execute_result"
    }
   ],
   "source": [
    "msg_train"
   ]
  },
  {
   "cell_type": "markdown",
   "metadata": {},
   "source": [
    "### Pipeline"
   ]
  },
  {
   "cell_type": "markdown",
   "metadata": {},
   "source": [
    "Let's run our model again and then predict off the test set. We will use SciKit Learn's [pipeline](http://scikit-learn.org/stable/modules/pipeline.html) capabilities to store a pipeline of workflow. This will allow us to set up all the transformations that we will do to the data for future use."
   ]
  },
  {
   "cell_type": "code",
   "execution_count": 177,
   "metadata": {},
   "outputs": [],
   "source": [
    "from sklearn.pipeline import Pipeline"
   ]
  },
  {
   "cell_type": "code",
   "execution_count": 178,
   "metadata": {},
   "outputs": [],
   "source": [
    "pipeline = Pipeline([\n",
    "    ('bow', CountVectorizer(analyzer=text_process)),\n",
    "    ('tfidf', TfidfTransformer()),\n",
    "    ('classifier', RandomFor)\n",
    "])"
   ]
  },
  {
   "cell_type": "code",
   "execution_count": 179,
   "metadata": {},
   "outputs": [
    {
     "data": {
      "text/plain": [
       "Pipeline(steps=[('bow',\n",
       "                 CountVectorizer(analyzer=<function text_process at 0x0000018854EC69D0>)),\n",
       "                ('tfidf', TfidfTransformer()),\n",
       "                ('classifier', MultinomialNB())])"
      ]
     },
     "execution_count": 179,
     "metadata": {},
     "output_type": "execute_result"
    }
   ],
   "source": [
    "pipeline.fit(msg_train, label_train)"
   ]
  },
  {
   "cell_type": "markdown",
   "metadata": {},
   "source": [
    "Evaluation"
   ]
  },
  {
   "cell_type": "code",
   "execution_count": 180,
   "metadata": {},
   "outputs": [],
   "source": [
    "predictions = pipeline.predict(msg_test)"
   ]
  },
  {
   "cell_type": "code",
   "execution_count": 181,
   "metadata": {},
   "outputs": [],
   "source": [
    "from sklearn.metrics import classification_report"
   ]
  },
  {
   "cell_type": "code",
   "execution_count": 182,
   "metadata": {},
   "outputs": [
    {
     "name": "stdout",
     "output_type": "stream",
     "text": [
      "              precision    recall  f1-score   support\n",
      "\n",
      "         ham       0.96      1.00      0.98      1461\n",
      "        spam       0.99      0.70      0.82       211\n",
      "\n",
      "    accuracy                           0.96      1672\n",
      "   macro avg       0.98      0.85      0.90      1672\n",
      "weighted avg       0.96      0.96      0.96      1672\n",
      "\n"
     ]
    }
   ],
   "source": [
    "print(classification_report(label_test, predictions))"
   ]
  },
  {
   "cell_type": "markdown",
   "metadata": {},
   "source": [
    "Compare to a different classifier."
   ]
  },
  {
   "cell_type": "code",
   "execution_count": 184,
   "metadata": {},
   "outputs": [],
   "source": [
    "from sklearn.ensemble import RandomForestClassifier"
   ]
  },
  {
   "cell_type": "code",
   "execution_count": 185,
   "metadata": {},
   "outputs": [],
   "source": [
    "pipeline = Pipeline([\n",
    "    ('bow', CountVectorizer(analyzer=text_process)),\n",
    "    ('tfidf', TfidfTransformer()),\n",
    "    ('classifier', RandomForestClassifier())\n",
    "])"
   ]
  },
  {
   "cell_type": "code",
   "execution_count": 186,
   "metadata": {},
   "outputs": [
    {
     "data": {
      "text/plain": [
       "Pipeline(steps=[('bow',\n",
       "                 CountVectorizer(analyzer=<function text_process at 0x0000018854EC69D0>)),\n",
       "                ('tfidf', TfidfTransformer()),\n",
       "                ('classifier', RandomForestClassifier())])"
      ]
     },
     "execution_count": 186,
     "metadata": {},
     "output_type": "execute_result"
    }
   ],
   "source": [
    "pipeline.fit(msg_train, label_train)"
   ]
  },
  {
   "cell_type": "code",
   "execution_count": 187,
   "metadata": {},
   "outputs": [],
   "source": [
    "predictions = pipeline.predict(msg_test)"
   ]
  },
  {
   "cell_type": "code",
   "execution_count": 188,
   "metadata": {},
   "outputs": [
    {
     "name": "stdout",
     "output_type": "stream",
     "text": [
      "              precision    recall  f1-score   support\n",
      "\n",
      "         ham       0.97      1.00      0.99      1461\n",
      "        spam       1.00      0.80      0.89       211\n",
      "\n",
      "    accuracy                           0.97      1672\n",
      "   macro avg       0.99      0.90      0.94      1672\n",
      "weighted avg       0.98      0.97      0.97      1672\n",
      "\n"
     ]
    }
   ],
   "source": [
    "print(classification_report(label_test, predictions))"
   ]
  }
 ],
 "metadata": {
  "kernelspec": {
   "display_name": "Python 3",
   "language": "python",
   "name": "python3"
  },
  "language_info": {
   "codemirror_mode": {
    "name": "ipython",
    "version": 3
   },
   "file_extension": ".py",
   "mimetype": "text/x-python",
   "name": "python",
   "nbconvert_exporter": "python",
   "pygments_lexer": "ipython3",
   "version": "3.8.5"
  }
 },
 "nbformat": 4,
 "nbformat_minor": 0
}
