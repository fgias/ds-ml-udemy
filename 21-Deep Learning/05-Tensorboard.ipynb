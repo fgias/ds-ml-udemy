{
 "cells": [
  {
   "cell_type": "markdown",
   "metadata": {},
   "source": [
    "<a href=\"https://www.pieriandata.com\"><img src=\"../Pierian_Data_Logo.PNG\"></a>\n",
    "<strong><center>Copyright by Pierian Data Inc.</center></strong> \n",
    "<strong><center>Created by Jose Marcial Portilla.</center></strong>"
   ]
  },
  {
   "cell_type": "markdown",
   "metadata": {},
   "source": [
    "# Tensorboard\n",
    "\n",
    "---\n",
    "---\n",
    "\n",
    "**NOTE: You must watch the corresponding video to understand this lecture. This notebook can't serve as a full guide. Please watch the video BEFORE posting questions to the QA forum.**\n",
    "\n",
    "---\n",
    "---\n",
    "\n",
    "Let's explore the built in data visualization capabilities that come with Tensorboard.\n",
    "\n",
    "Full official tutorial available here: https://www.tensorflow.org/tensorboard/get_started\n",
    "\n",
    "## Data"
   ]
  },
  {
   "cell_type": "code",
   "execution_count": 1,
   "metadata": {},
   "outputs": [],
   "source": [
    "import pandas as pd\n",
    "import numpy as np"
   ]
  },
  {
   "cell_type": "code",
   "execution_count": 3,
   "metadata": {},
   "outputs": [],
   "source": [
    "df = pd.read_csv('DATA/cancer_classification.csv')"
   ]
  },
  {
   "cell_type": "markdown",
   "metadata": {},
   "source": [
    "### Train Test Split"
   ]
  },
  {
   "cell_type": "code",
   "execution_count": 4,
   "metadata": {},
   "outputs": [],
   "source": [
    "X = df.drop('benign_0__mal_1',axis=1).values\n",
    "y = df['benign_0__mal_1'].values"
   ]
  },
  {
   "cell_type": "code",
   "execution_count": 5,
   "metadata": {},
   "outputs": [],
   "source": [
    "from sklearn.model_selection import train_test_split"
   ]
  },
  {
   "cell_type": "code",
   "execution_count": 6,
   "metadata": {},
   "outputs": [],
   "source": [
    "X_train, X_test, y_train, y_test = train_test_split(X,y,test_size=0.25,random_state=101)"
   ]
  },
  {
   "cell_type": "markdown",
   "metadata": {},
   "source": [
    "\n",
    "### Scaling Data"
   ]
  },
  {
   "cell_type": "code",
   "execution_count": 7,
   "metadata": {},
   "outputs": [],
   "source": [
    "from sklearn.preprocessing import MinMaxScaler"
   ]
  },
  {
   "cell_type": "code",
   "execution_count": 8,
   "metadata": {},
   "outputs": [],
   "source": [
    "scaler = MinMaxScaler()"
   ]
  },
  {
   "cell_type": "code",
   "execution_count": 9,
   "metadata": {},
   "outputs": [
    {
     "data": {
      "text/plain": [
       "MinMaxScaler()"
      ]
     },
     "execution_count": 9,
     "metadata": {},
     "output_type": "execute_result"
    }
   ],
   "source": [
    "scaler.fit(X_train)"
   ]
  },
  {
   "cell_type": "code",
   "execution_count": 10,
   "metadata": {},
   "outputs": [],
   "source": [
    "X_train = scaler.transform(X_train)\n",
    "X_test = scaler.transform(X_test)"
   ]
  },
  {
   "cell_type": "markdown",
   "metadata": {},
   "source": [
    "## Creating the Model"
   ]
  },
  {
   "cell_type": "code",
   "execution_count": 12,
   "metadata": {},
   "outputs": [],
   "source": [
    "import tensorflow as tf\n",
    "from tensorflow.keras.models import Sequential\n",
    "from tensorflow.keras.layers import Dense, Activation, Dropout"
   ]
  },
  {
   "cell_type": "markdown",
   "metadata": {},
   "source": [
    "Import TensorBoard here."
   ]
  },
  {
   "cell_type": "code",
   "execution_count": 14,
   "metadata": {},
   "outputs": [],
   "source": [
    "from tensorflow.keras.callbacks import EarlyStopping,TensorBoard"
   ]
  },
  {
   "cell_type": "code",
   "execution_count": 15,
   "metadata": {},
   "outputs": [],
   "source": [
    "early_stop = EarlyStopping(monitor='val_loss', mode='min', verbose=1, patience=25)"
   ]
  },
  {
   "cell_type": "code",
   "execution_count": 16,
   "metadata": {},
   "outputs": [
    {
     "data": {
      "text/plain": [
       "'c:\\\\Users\\\\fotis\\\\Google Drive\\\\00 Main Folder\\\\Programming\\\\Python\\\\DS and ML – Udemy\\\\21-Deep Learning'"
      ]
     },
     "execution_count": 16,
     "metadata": {},
     "output_type": "execute_result"
    }
   ],
   "source": [
    "pwd # print working directory"
   ]
  },
  {
   "cell_type": "markdown",
   "metadata": {},
   "source": [
    "## Creating the Tensorboard Callback\n",
    "\n",
    "TensorBoard is a visualization tool provided with TensorFlow.\n",
    "\n",
    "This callback logs events for TensorBoard, including:\n",
    "* Metrics summary plots\n",
    "* Training graph visualization\n",
    "* Activation histograms\n",
    "* Sampled profiling\n",
    "\n",
    "If you have installed TensorFlow with pip, you should be able\n",
    "to launch TensorBoard from the command line:\n",
    "\n",
    "```sh\n",
    "tensorboard --logdir=path_to_your_logs\n",
    "```\n",
    "\n",
    "You can find more information about TensorBoard\n",
    "[here](https://www.tensorflow.org/tensorboard/).\n",
    "\n",
    "    Arguments:\n",
    "        log_dir: the path of the directory where to save the log files to be\n",
    "          parsed by TensorBoard.\n",
    "        histogram_freq: frequency (in epochs) at which to compute activation and\n",
    "          weight histograms for the layers of the model. If set to 0, histograms\n",
    "          won't be computed. Validation data (or split) must be specified for\n",
    "          histogram visualizations.\n",
    "        write_graph: whether to visualize the graph in TensorBoard. The log file\n",
    "          can become quite large when write_graph is set to True.\n",
    "        write_images: whether to write model weights to visualize as image in\n",
    "          TensorBoard.\n",
    "        update_freq: `'batch'` or `'epoch'` or integer. When using `'batch'`,\n",
    "          writes the losses and metrics to TensorBoard after each batch. The same\n",
    "          applies for `'epoch'`. If using an integer, let's say `1000`, the\n",
    "          callback will write the metrics and losses to TensorBoard every 1000\n",
    "          samples. Note that writing too frequently to TensorBoard can slow down\n",
    "          your training.\n",
    "        profile_batch: Profile the batch to sample compute characteristics. By\n",
    "          default, it will profile the second batch. Set profile_batch=0 to\n",
    "          disable profiling. Must run in TensorFlow eager mode.\n",
    "        embeddings_freq: frequency (in epochs) at which embedding layers will\n",
    "          be visualized. If set to 0, embeddings won't be visualized.\n",
    "       "
   ]
  },
  {
   "cell_type": "code",
   "execution_count": 17,
   "metadata": {},
   "outputs": [],
   "source": [
    "from datetime import datetime"
   ]
  },
  {
   "cell_type": "code",
   "execution_count": 18,
   "metadata": {},
   "outputs": [
    {
     "data": {
      "text/plain": [
       "'2022-02-24--1635'"
      ]
     },
     "execution_count": 18,
     "metadata": {},
     "output_type": "execute_result"
    }
   ],
   "source": [
    "datetime.now().strftime(\"%Y-%m-%d--%H%M\")"
   ]
  },
  {
   "cell_type": "code",
   "execution_count": 27,
   "metadata": {},
   "outputs": [
    {
     "data": {
      "text/plain": [
       "'c:\\\\Users\\\\fotis\\\\Google Drive\\\\00 Main Folder\\\\Programming\\\\Python\\\\DS and ML – Udemy\\\\21-Deep Learning'"
      ]
     },
     "execution_count": 27,
     "metadata": {},
     "output_type": "execute_result"
    }
   ],
   "source": [
    "pwd"
   ]
  },
  {
   "cell_type": "code",
   "execution_count": 33,
   "metadata": {},
   "outputs": [],
   "source": [
    "# WINDOWS: Use \"logs\\\\fit\"\n",
    "# MACOS/LINUX: Use \"logs\\fit\"\n",
    "\n",
    "log_directory = 'logs\\\\fit' # `\\\\` since pwd above uses `\\\\`\n",
    "\n",
    "# OPTIONAL: ADD A TIMESTAMP FOR UNIQUE FOLDER\n",
    "# timestamp = datetime.now().strftime(\"%Y-%m-%d--%H%M\")\n",
    "# log_directory = log_directory + '\\\\' + timestamp\n",
    "\n",
    "\n",
    "board = TensorBoard(log_dir=log_directory,histogram_freq=1,\n",
    "    write_graph=True,\n",
    "    write_images=True,\n",
    "    update_freq='epoch',\n",
    "    profile_batch=2,\n",
    "    embeddings_freq=1)"
   ]
  },
  {
   "cell_type": "markdown",
   "metadata": {},
   "source": [
    "Now create the model layers:"
   ]
  },
  {
   "cell_type": "code",
   "execution_count": 34,
   "metadata": {},
   "outputs": [],
   "source": [
    "model = Sequential()\n",
    "model.add(Dense(units=30,activation='relu'))\n",
    "model.add(Dropout(0.5))\n",
    "model.add(Dense(units=15,activation='relu'))\n",
    "model.add(Dropout(0.5))\n",
    "model.add(Dense(units=1,activation='sigmoid'))\n",
    "model.compile(loss='binary_crossentropy', optimizer='adam')"
   ]
  },
  {
   "cell_type": "markdown",
   "metadata": {},
   "source": [
    "## Train the Model"
   ]
  },
  {
   "cell_type": "code",
   "execution_count": 35,
   "metadata": {},
   "outputs": [
    {
     "name": "stdout",
     "output_type": "stream",
     "text": [
      "Epoch 1/600\n",
      "14/14 [==============================] - 2s 54ms/step - loss: 0.7019 - val_loss: 0.6741\n",
      "Epoch 2/600\n",
      "14/14 [==============================] - 0s 36ms/step - loss: 0.6728 - val_loss: 0.6497\n",
      "Epoch 3/600\n",
      "14/14 [==============================] - 1s 40ms/step - loss: 0.6612 - val_loss: 0.6282\n",
      "Epoch 4/600\n",
      "14/14 [==============================] - 0s 33ms/step - loss: 0.6411 - val_loss: 0.6057\n",
      "Epoch 5/600\n",
      "14/14 [==============================] - 0s 29ms/step - loss: 0.6082 - val_loss: 0.5784\n",
      "Epoch 6/600\n",
      "14/14 [==============================] - 0s 31ms/step - loss: 0.5862 - val_loss: 0.5466\n",
      "Epoch 7/600\n",
      "14/14 [==============================] - 0s 36ms/step - loss: 0.5701 - val_loss: 0.5155\n",
      "Epoch 8/600\n",
      "14/14 [==============================] - 0s 26ms/step - loss: 0.5152 - val_loss: 0.4796\n",
      "Epoch 9/600\n",
      "14/14 [==============================] - 0s 28ms/step - loss: 0.5388 - val_loss: 0.4485\n",
      "Epoch 10/600\n",
      "14/14 [==============================] - 0s 24ms/step - loss: 0.5146 - val_loss: 0.4318\n",
      "Epoch 11/600\n",
      "14/14 [==============================] - 0s 25ms/step - loss: 0.4898 - val_loss: 0.4055\n",
      "Epoch 12/600\n",
      "14/14 [==============================] - 0s 24ms/step - loss: 0.4481 - val_loss: 0.3811\n",
      "Epoch 13/600\n",
      "14/14 [==============================] - 0s 24ms/step - loss: 0.4427 - val_loss: 0.3556\n",
      "Epoch 14/600\n",
      "14/14 [==============================] - 0s 22ms/step - loss: 0.4107 - val_loss: 0.3313\n",
      "Epoch 15/600\n",
      "14/14 [==============================] - 0s 21ms/step - loss: 0.4044 - val_loss: 0.3077\n",
      "Epoch 16/600\n",
      "14/14 [==============================] - 0s 28ms/step - loss: 0.3802 - val_loss: 0.2913\n",
      "Epoch 17/600\n",
      "14/14 [==============================] - 0s 27ms/step - loss: 0.3487 - val_loss: 0.2695\n",
      "Epoch 18/600\n",
      "14/14 [==============================] - 0s 34ms/step - loss: 0.3804 - val_loss: 0.2543\n",
      "Epoch 19/600\n",
      "14/14 [==============================] - 0s 36ms/step - loss: 0.3442 - val_loss: 0.2407\n",
      "Epoch 20/600\n",
      "14/14 [==============================] - 0s 22ms/step - loss: 0.3517 - val_loss: 0.2294\n",
      "Epoch 21/600\n",
      "14/14 [==============================] - 0s 31ms/step - loss: 0.3479 - val_loss: 0.2241\n",
      "Epoch 22/600\n",
      "14/14 [==============================] - 0s 27ms/step - loss: 0.3101 - val_loss: 0.2153\n",
      "Epoch 23/600\n",
      "14/14 [==============================] - 0s 37ms/step - loss: 0.2978 - val_loss: 0.2013\n",
      "Epoch 24/600\n",
      "14/14 [==============================] - 0s 25ms/step - loss: 0.2639 - val_loss: 0.1899\n",
      "Epoch 25/600\n",
      "14/14 [==============================] - 0s 24ms/step - loss: 0.3005 - val_loss: 0.1841\n",
      "Epoch 26/600\n",
      "14/14 [==============================] - 0s 24ms/step - loss: 0.3181 - val_loss: 0.1765\n",
      "Epoch 27/600\n",
      "14/14 [==============================] - 0s 24ms/step - loss: 0.2684 - val_loss: 0.1732\n",
      "Epoch 28/600\n",
      "14/14 [==============================] - 0s 27ms/step - loss: 0.2533 - val_loss: 0.1673\n",
      "Epoch 29/600\n",
      "14/14 [==============================] - 0s 23ms/step - loss: 0.2526 - val_loss: 0.1631\n",
      "Epoch 30/600\n",
      "14/14 [==============================] - 0s 28ms/step - loss: 0.2566 - val_loss: 0.1556\n",
      "Epoch 31/600\n",
      "14/14 [==============================] - 0s 24ms/step - loss: 0.2521 - val_loss: 0.1530\n",
      "Epoch 32/600\n",
      "14/14 [==============================] - 0s 31ms/step - loss: 0.2317 - val_loss: 0.1688\n",
      "Epoch 33/600\n",
      "14/14 [==============================] - 0s 30ms/step - loss: 0.2409 - val_loss: 0.1487\n",
      "Epoch 34/600\n",
      "14/14 [==============================] - 0s 24ms/step - loss: 0.2466 - val_loss: 0.1515\n",
      "Epoch 35/600\n",
      "14/14 [==============================] - 0s 29ms/step - loss: 0.2033 - val_loss: 0.1384\n",
      "Epoch 36/600\n",
      "14/14 [==============================] - 0s 21ms/step - loss: 0.2077 - val_loss: 0.1332\n",
      "Epoch 37/600\n",
      "14/14 [==============================] - 0s 25ms/step - loss: 0.2275 - val_loss: 0.1345\n",
      "Epoch 38/600\n",
      "14/14 [==============================] - 0s 31ms/step - loss: 0.2174 - val_loss: 0.1291\n",
      "Epoch 39/600\n",
      "14/14 [==============================] - 0s 29ms/step - loss: 0.2232 - val_loss: 0.1303\n",
      "Epoch 40/600\n",
      "14/14 [==============================] - 0s 28ms/step - loss: 0.1958 - val_loss: 0.1257\n",
      "Epoch 41/600\n",
      "14/14 [==============================] - 0s 24ms/step - loss: 0.1658 - val_loss: 0.1246\n",
      "Epoch 42/600\n",
      "14/14 [==============================] - 0s 36ms/step - loss: 0.2082 - val_loss: 0.1231\n",
      "Epoch 43/600\n",
      "14/14 [==============================] - 0s 34ms/step - loss: 0.2029 - val_loss: 0.1258\n",
      "Epoch 44/600\n",
      "14/14 [==============================] - 0s 33ms/step - loss: 0.1721 - val_loss: 0.1238\n",
      "Epoch 45/600\n",
      "14/14 [==============================] - 0s 32ms/step - loss: 0.1747 - val_loss: 0.1157\n",
      "Epoch 46/600\n",
      "14/14 [==============================] - 0s 31ms/step - loss: 0.1702 - val_loss: 0.1123\n",
      "Epoch 47/600\n",
      "14/14 [==============================] - 0s 27ms/step - loss: 0.1654 - val_loss: 0.1139\n",
      "Epoch 48/600\n",
      "14/14 [==============================] - 0s 27ms/step - loss: 0.1722 - val_loss: 0.1098\n",
      "Epoch 49/600\n",
      "14/14 [==============================] - 0s 29ms/step - loss: 0.1590 - val_loss: 0.1127\n",
      "Epoch 50/600\n",
      "14/14 [==============================] - 0s 29ms/step - loss: 0.1808 - val_loss: 0.1129\n",
      "Epoch 51/600\n",
      "14/14 [==============================] - 0s 28ms/step - loss: 0.1633 - val_loss: 0.1126\n",
      "Epoch 52/600\n",
      "14/14 [==============================] - 0s 30ms/step - loss: 0.1465 - val_loss: 0.1049\n",
      "Epoch 53/600\n",
      "14/14 [==============================] - 0s 28ms/step - loss: 0.1723 - val_loss: 0.1102\n",
      "Epoch 54/600\n",
      "14/14 [==============================] - 0s 27ms/step - loss: 0.1616 - val_loss: 0.1054\n",
      "Epoch 55/600\n",
      "14/14 [==============================] - 0s 24ms/step - loss: 0.1871 - val_loss: 0.1080\n",
      "Epoch 56/600\n",
      "14/14 [==============================] - 0s 29ms/step - loss: 0.1405 - val_loss: 0.1058\n",
      "Epoch 57/600\n",
      "14/14 [==============================] - 0s 32ms/step - loss: 0.1407 - val_loss: 0.1021\n",
      "Epoch 58/600\n",
      "14/14 [==============================] - 0s 29ms/step - loss: 0.1527 - val_loss: 0.1039\n",
      "Epoch 59/600\n",
      "14/14 [==============================] - 0s 27ms/step - loss: 0.1546 - val_loss: 0.1137\n",
      "Epoch 60/600\n",
      "14/14 [==============================] - 0s 27ms/step - loss: 0.1474 - val_loss: 0.0997\n",
      "Epoch 61/600\n",
      "14/14 [==============================] - 0s 30ms/step - loss: 0.1630 - val_loss: 0.1045\n",
      "Epoch 62/600\n",
      "14/14 [==============================] - 0s 28ms/step - loss: 0.1491 - val_loss: 0.1081\n",
      "Epoch 63/600\n",
      "14/14 [==============================] - 0s 30ms/step - loss: 0.1631 - val_loss: 0.1001\n",
      "Epoch 64/600\n",
      "14/14 [==============================] - 0s 29ms/step - loss: 0.1221 - val_loss: 0.1079\n",
      "Epoch 65/600\n",
      "14/14 [==============================] - 0s 27ms/step - loss: 0.1464 - val_loss: 0.1003\n",
      "Epoch 66/600\n",
      "14/14 [==============================] - 0s 29ms/step - loss: 0.1327 - val_loss: 0.0955\n",
      "Epoch 67/600\n",
      "14/14 [==============================] - 0s 29ms/step - loss: 0.1183 - val_loss: 0.1032\n",
      "Epoch 68/600\n",
      "14/14 [==============================] - 0s 28ms/step - loss: 0.1305 - val_loss: 0.0949\n",
      "Epoch 69/600\n",
      "14/14 [==============================] - 0s 29ms/step - loss: 0.1156 - val_loss: 0.0995\n",
      "Epoch 70/600\n",
      "14/14 [==============================] - 0s 28ms/step - loss: 0.1297 - val_loss: 0.1063\n",
      "Epoch 71/600\n",
      "14/14 [==============================] - 0s 27ms/step - loss: 0.1438 - val_loss: 0.1092\n",
      "Epoch 72/600\n",
      "14/14 [==============================] - 1s 48ms/step - loss: 0.1228 - val_loss: 0.0988\n",
      "Epoch 73/600\n",
      "14/14 [==============================] - 0s 31ms/step - loss: 0.1257 - val_loss: 0.0937\n",
      "Epoch 74/600\n",
      "14/14 [==============================] - 0s 28ms/step - loss: 0.1371 - val_loss: 0.0959\n",
      "Epoch 75/600\n",
      "14/14 [==============================] - 0s 23ms/step - loss: 0.1405 - val_loss: 0.1182\n",
      "Epoch 76/600\n",
      "14/14 [==============================] - 0s 38ms/step - loss: 0.1222 - val_loss: 0.0945\n",
      "Epoch 77/600\n",
      "14/14 [==============================] - 0s 27ms/step - loss: 0.1125 - val_loss: 0.1050\n",
      "Epoch 78/600\n",
      "14/14 [==============================] - 0s 22ms/step - loss: 0.1366 - val_loss: 0.1024\n",
      "Epoch 79/600\n",
      "14/14 [==============================] - 0s 26ms/step - loss: 0.1178 - val_loss: 0.0985\n",
      "Epoch 80/600\n",
      "14/14 [==============================] - 0s 22ms/step - loss: 0.0927 - val_loss: 0.0943\n",
      "Epoch 81/600\n",
      "14/14 [==============================] - 1s 49ms/step - loss: 0.1287 - val_loss: 0.0953\n",
      "Epoch 82/600\n",
      "14/14 [==============================] - 0s 28ms/step - loss: 0.1212 - val_loss: 0.0967\n",
      "Epoch 83/600\n",
      "14/14 [==============================] - 0s 32ms/step - loss: 0.0983 - val_loss: 0.1031\n",
      "Epoch 84/600\n",
      "14/14 [==============================] - 0s 29ms/step - loss: 0.1220 - val_loss: 0.0985\n",
      "Epoch 85/600\n",
      "14/14 [==============================] - 0s 23ms/step - loss: 0.1109 - val_loss: 0.0957\n",
      "Epoch 86/600\n",
      "14/14 [==============================] - 0s 26ms/step - loss: 0.1098 - val_loss: 0.1240\n",
      "Epoch 87/600\n",
      "14/14 [==============================] - 0s 28ms/step - loss: 0.1549 - val_loss: 0.1021\n",
      "Epoch 88/600\n",
      "14/14 [==============================] - 0s 23ms/step - loss: 0.0939 - val_loss: 0.0903\n",
      "Epoch 89/600\n",
      "14/14 [==============================] - 0s 29ms/step - loss: 0.1187 - val_loss: 0.0962\n",
      "Epoch 90/600\n",
      "14/14 [==============================] - 0s 29ms/step - loss: 0.1007 - val_loss: 0.1133\n",
      "Epoch 91/600\n",
      "14/14 [==============================] - 0s 38ms/step - loss: 0.1021 - val_loss: 0.0957\n",
      "Epoch 92/600\n",
      "14/14 [==============================] - 0s 31ms/step - loss: 0.1347 - val_loss: 0.0947\n",
      "Epoch 93/600\n",
      "14/14 [==============================] - 0s 33ms/step - loss: 0.1173 - val_loss: 0.1052\n",
      "Epoch 94/600\n",
      "14/14 [==============================] - 0s 26ms/step - loss: 0.1148 - val_loss: 0.0927\n",
      "Epoch 95/600\n",
      "14/14 [==============================] - 0s 34ms/step - loss: 0.0863 - val_loss: 0.0959\n",
      "Epoch 96/600\n",
      "14/14 [==============================] - 0s 29ms/step - loss: 0.1180 - val_loss: 0.1081\n",
      "Epoch 97/600\n",
      "14/14 [==============================] - 0s 26ms/step - loss: 0.0912 - val_loss: 0.0938\n",
      "Epoch 98/600\n",
      "14/14 [==============================] - 0s 31ms/step - loss: 0.1120 - val_loss: 0.0911\n",
      "Epoch 99/600\n",
      "14/14 [==============================] - 0s 30ms/step - loss: 0.0993 - val_loss: 0.0941\n",
      "Epoch 100/600\n",
      "14/14 [==============================] - 0s 31ms/step - loss: 0.0895 - val_loss: 0.0950\n",
      "Epoch 101/600\n",
      "14/14 [==============================] - 0s 33ms/step - loss: 0.1045 - val_loss: 0.0962\n",
      "Epoch 102/600\n",
      "14/14 [==============================] - 0s 23ms/step - loss: 0.1064 - val_loss: 0.0883\n",
      "Epoch 103/600\n",
      "14/14 [==============================] - 0s 25ms/step - loss: 0.1073 - val_loss: 0.1175\n",
      "Epoch 104/600\n",
      "14/14 [==============================] - 0s 38ms/step - loss: 0.1180 - val_loss: 0.0946\n",
      "Epoch 105/600\n",
      "14/14 [==============================] - 0s 21ms/step - loss: 0.0817 - val_loss: 0.0985\n",
      "Epoch 106/600\n",
      "14/14 [==============================] - 0s 22ms/step - loss: 0.0939 - val_loss: 0.0902\n",
      "Epoch 107/600\n",
      "14/14 [==============================] - 0s 27ms/step - loss: 0.0909 - val_loss: 0.1010\n",
      "Epoch 108/600\n",
      "14/14 [==============================] - 0s 23ms/step - loss: 0.1164 - val_loss: 0.1069\n",
      "Epoch 109/600\n",
      "14/14 [==============================] - 0s 23ms/step - loss: 0.0919 - val_loss: 0.0914\n",
      "Epoch 110/600\n",
      "14/14 [==============================] - 0s 29ms/step - loss: 0.1041 - val_loss: 0.1013\n",
      "Epoch 111/600\n",
      "14/14 [==============================] - 0s 17ms/step - loss: 0.0872 - val_loss: 0.1038\n",
      "Epoch 112/600\n",
      "14/14 [==============================] - 0s 17ms/step - loss: 0.1067 - val_loss: 0.0899\n",
      "Epoch 113/600\n",
      "14/14 [==============================] - 0s 19ms/step - loss: 0.0962 - val_loss: 0.0905\n",
      "Epoch 114/600\n",
      "14/14 [==============================] - 0s 23ms/step - loss: 0.0787 - val_loss: 0.1072\n",
      "Epoch 115/600\n",
      "14/14 [==============================] - 0s 18ms/step - loss: 0.1077 - val_loss: 0.0919\n",
      "Epoch 116/600\n",
      "14/14 [==============================] - 0s 17ms/step - loss: 0.0848 - val_loss: 0.0919\n",
      "Epoch 117/600\n",
      "14/14 [==============================] - 0s 16ms/step - loss: 0.1084 - val_loss: 0.0951\n",
      "Epoch 118/600\n",
      "14/14 [==============================] - 0s 20ms/step - loss: 0.0980 - val_loss: 0.1006\n",
      "Epoch 119/600\n",
      "14/14 [==============================] - 0s 17ms/step - loss: 0.1046 - val_loss: 0.0888\n",
      "Epoch 120/600\n",
      "14/14 [==============================] - 0s 20ms/step - loss: 0.0932 - val_loss: 0.0916\n",
      "Epoch 121/600\n",
      "14/14 [==============================] - 0s 23ms/step - loss: 0.0936 - val_loss: 0.1152\n",
      "Epoch 122/600\n",
      "14/14 [==============================] - 0s 20ms/step - loss: 0.1421 - val_loss: 0.1056\n",
      "Epoch 123/600\n",
      "14/14 [==============================] - 0s 17ms/step - loss: 0.0972 - val_loss: 0.0927\n",
      "Epoch 124/600\n",
      "14/14 [==============================] - 0s 17ms/step - loss: 0.1148 - val_loss: 0.0987\n",
      "Epoch 125/600\n",
      "14/14 [==============================] - 0s 21ms/step - loss: 0.0979 - val_loss: 0.1051\n",
      "Epoch 126/600\n",
      "14/14 [==============================] - 0s 21ms/step - loss: 0.0857 - val_loss: 0.0961\n",
      "Epoch 127/600\n",
      "14/14 [==============================] - 0s 17ms/step - loss: 0.0995 - val_loss: 0.0967\n",
      "Epoch 127: early stopping\n"
     ]
    },
    {
     "data": {
      "text/plain": [
       "<keras.callbacks.History at 0x28532c1e0d0>"
      ]
     },
     "execution_count": 35,
     "metadata": {},
     "output_type": "execute_result"
    }
   ],
   "source": [
    "model.fit(x=X_train, \n",
    "          y=y_train, \n",
    "          epochs=600,\n",
    "          validation_data=(X_test, y_test), verbose=1,\n",
    "          callbacks=[early_stop,board]\n",
    "          )"
   ]
  },
  {
   "cell_type": "markdown",
   "metadata": {},
   "source": [
    "# Running Tensorboard\n"
   ]
  },
  {
   "cell_type": "markdown",
   "metadata": {},
   "source": [
    "## Running through the Command Line\n",
    "\n",
    "**Watch video to see how to run Tensorboard through a command line call.**"
   ]
  },
  {
   "cell_type": "markdown",
   "metadata": {},
   "source": [
    "Tensorboard will run locally in your browser at [http://localhost:6006/](http://localhost:6006/)\n"
   ]
  },
  {
   "cell_type": "code",
   "execution_count": 36,
   "metadata": {},
   "outputs": [
    {
     "name": "stdout",
     "output_type": "stream",
     "text": [
      "logs\\fit\n"
     ]
    }
   ],
   "source": [
    "print(log_directory)"
   ]
  },
  {
   "cell_type": "code",
   "execution_count": 37,
   "metadata": {},
   "outputs": [
    {
     "data": {
      "text/plain": [
       "'c:\\\\Users\\\\fotis\\\\Google Drive\\\\00 Main Folder\\\\Programming\\\\Python\\\\DS and ML – Udemy\\\\21-Deep Learning'"
      ]
     },
     "execution_count": 37,
     "metadata": {},
     "output_type": "execute_result"
    }
   ],
   "source": [
    "pwd"
   ]
  },
  {
   "cell_type": "markdown",
   "metadata": {},
   "source": [
    "### Use cd at your command line to change directory to the file path reported back by pwd or your current .py file location.\n",
    "### Then run this code at your command line or terminal"
   ]
  },
  {
   "cell_type": "code",
   "execution_count": null,
   "metadata": {},
   "outputs": [],
   "source": [
    "tensorboard --logdir logs\\fit "
   ]
  },
  {
   "cell_type": "code",
   "execution_count": null,
   "metadata": {},
   "outputs": [],
   "source": [
    "python -m tensorboard.main --logdir=logs\\fit"
   ]
  }
 ],
 "metadata": {
  "kernelspec": {
   "display_name": "Python 3",
   "language": "python",
   "name": "python3"
  },
  "language_info": {
   "codemirror_mode": {
    "name": "ipython",
    "version": 3
   },
   "file_extension": ".py",
   "mimetype": "text/x-python",
   "name": "python",
   "nbconvert_exporter": "python",
   "pygments_lexer": "ipython3",
   "version": "3.8.5"
  }
 },
 "nbformat": 4,
 "nbformat_minor": 2
}
