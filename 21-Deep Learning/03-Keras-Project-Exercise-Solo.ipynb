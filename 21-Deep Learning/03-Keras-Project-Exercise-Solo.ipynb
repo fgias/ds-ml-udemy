{
 "cells": [
  {
   "cell_type": "markdown",
   "metadata": {},
   "source": [
    "## Keras API Project Exercise\n",
    "\n",
    "### The Data\n",
    "\n",
    "We will be using a subset of the LendingClub DataSet obtained from Kaggle: https://www.kaggle.com/wordsforthewise/lending-club\n",
    "\n",
    "### NOTE: Do not download the full zip from the link! We provide a special version of this file that has some extra feature engineering for you to do. You won't be able to follow along with the original file!\n",
    "\n",
    "LendingClub is a US peer-to-peer lending company, headquartered in San Francisco, California.[3] It was the first peer-to-peer lender to register its offerings as securities with the Securities and Exchange Commission (SEC), and to offer loan trading on a secondary market. LendingClub is the world's largest peer-to-peer lending platform.\n",
    "\n",
    "#### Our Goal\n",
    "\n",
    "Given historical data on loans given out with information on whether or not the borrower defaulted (charge-off), can we build a model thatcan predict wether or nor a borrower will pay back their loan? This way in the future when we get a new potential customer we can assess whether or not they are likely to pay back the loan. Keep in mind classification metrics when evaluating the performance of your model!\n",
    "\n",
    "The \"loan_status\" column contains our label."
   ]
  },
  {
   "cell_type": "code",
   "execution_count": 1,
   "metadata": {},
   "outputs": [],
   "source": [
    "import pandas as pd\n",
    "import numpy as np\n",
    "import matplotlib.pyplot as plt\n",
    "import seaborn as sns"
   ]
  },
  {
   "cell_type": "code",
   "execution_count": 2,
   "metadata": {},
   "outputs": [],
   "source": [
    "data_info = pd.read_csv('DATA/lending_club_info.csv', index_col='LoanStatNew') "
   ]
  },
  {
   "cell_type": "code",
   "execution_count": 3,
   "metadata": {},
   "outputs": [
    {
     "data": {
      "text/html": [
       "<div>\n",
       "<style scoped>\n",
       "    .dataframe tbody tr th:only-of-type {\n",
       "        vertical-align: middle;\n",
       "    }\n",
       "\n",
       "    .dataframe tbody tr th {\n",
       "        vertical-align: top;\n",
       "    }\n",
       "\n",
       "    .dataframe thead th {\n",
       "        text-align: right;\n",
       "    }\n",
       "</style>\n",
       "<table border=\"1\" class=\"dataframe\">\n",
       "  <thead>\n",
       "    <tr style=\"text-align: right;\">\n",
       "      <th></th>\n",
       "      <th>Description</th>\n",
       "    </tr>\n",
       "    <tr>\n",
       "      <th>LoanStatNew</th>\n",
       "      <th></th>\n",
       "    </tr>\n",
       "  </thead>\n",
       "  <tbody>\n",
       "    <tr>\n",
       "      <th>loan_amnt</th>\n",
       "      <td>The listed amount of the loan applied for by t...</td>\n",
       "    </tr>\n",
       "    <tr>\n",
       "      <th>term</th>\n",
       "      <td>The number of payments on the loan. Values are...</td>\n",
       "    </tr>\n",
       "    <tr>\n",
       "      <th>int_rate</th>\n",
       "      <td>Interest Rate on the loan</td>\n",
       "    </tr>\n",
       "    <tr>\n",
       "      <th>installment</th>\n",
       "      <td>The monthly payment owed by the borrower if th...</td>\n",
       "    </tr>\n",
       "    <tr>\n",
       "      <th>grade</th>\n",
       "      <td>LC assigned loan grade</td>\n",
       "    </tr>\n",
       "    <tr>\n",
       "      <th>sub_grade</th>\n",
       "      <td>LC assigned loan subgrade</td>\n",
       "    </tr>\n",
       "    <tr>\n",
       "      <th>emp_title</th>\n",
       "      <td>The job title supplied by the Borrower when ap...</td>\n",
       "    </tr>\n",
       "    <tr>\n",
       "      <th>emp_length</th>\n",
       "      <td>Employment length in years. Possible values ar...</td>\n",
       "    </tr>\n",
       "    <tr>\n",
       "      <th>home_ownership</th>\n",
       "      <td>The home ownership status provided by the borr...</td>\n",
       "    </tr>\n",
       "    <tr>\n",
       "      <th>annual_inc</th>\n",
       "      <td>The self-reported annual income provided by th...</td>\n",
       "    </tr>\n",
       "    <tr>\n",
       "      <th>verification_status</th>\n",
       "      <td>Indicates if income was verified by LC, not ve...</td>\n",
       "    </tr>\n",
       "    <tr>\n",
       "      <th>issue_d</th>\n",
       "      <td>The month which the loan was funded</td>\n",
       "    </tr>\n",
       "    <tr>\n",
       "      <th>loan_status</th>\n",
       "      <td>Current status of the loan</td>\n",
       "    </tr>\n",
       "    <tr>\n",
       "      <th>purpose</th>\n",
       "      <td>A category provided by the borrower for the lo...</td>\n",
       "    </tr>\n",
       "    <tr>\n",
       "      <th>title</th>\n",
       "      <td>The loan title provided by the borrower</td>\n",
       "    </tr>\n",
       "    <tr>\n",
       "      <th>zip_code</th>\n",
       "      <td>The first 3 numbers of the zip code provided b...</td>\n",
       "    </tr>\n",
       "    <tr>\n",
       "      <th>addr_state</th>\n",
       "      <td>The state provided by the borrower in the loan...</td>\n",
       "    </tr>\n",
       "    <tr>\n",
       "      <th>dti</th>\n",
       "      <td>A ratio calculated using the borrower’s total ...</td>\n",
       "    </tr>\n",
       "    <tr>\n",
       "      <th>earliest_cr_line</th>\n",
       "      <td>The month the borrower's earliest reported cre...</td>\n",
       "    </tr>\n",
       "    <tr>\n",
       "      <th>open_acc</th>\n",
       "      <td>The number of open credit lines in the borrowe...</td>\n",
       "    </tr>\n",
       "    <tr>\n",
       "      <th>pub_rec</th>\n",
       "      <td>Number of derogatory public records</td>\n",
       "    </tr>\n",
       "    <tr>\n",
       "      <th>revol_bal</th>\n",
       "      <td>Total credit revolving balance</td>\n",
       "    </tr>\n",
       "    <tr>\n",
       "      <th>revol_util</th>\n",
       "      <td>Revolving line utilization rate, or the amount...</td>\n",
       "    </tr>\n",
       "    <tr>\n",
       "      <th>total_acc</th>\n",
       "      <td>The total number of credit lines currently in ...</td>\n",
       "    </tr>\n",
       "    <tr>\n",
       "      <th>initial_list_status</th>\n",
       "      <td>The initial listing status of the loan. Possib...</td>\n",
       "    </tr>\n",
       "    <tr>\n",
       "      <th>application_type</th>\n",
       "      <td>Indicates whether the loan is an individual ap...</td>\n",
       "    </tr>\n",
       "    <tr>\n",
       "      <th>mort_acc</th>\n",
       "      <td>Number of mortgage accounts.</td>\n",
       "    </tr>\n",
       "    <tr>\n",
       "      <th>pub_rec_bankruptcies</th>\n",
       "      <td>Number of public record bankruptcies</td>\n",
       "    </tr>\n",
       "  </tbody>\n",
       "</table>\n",
       "</div>"
      ],
      "text/plain": [
       "                                                            Description\n",
       "LoanStatNew                                                            \n",
       "loan_amnt             The listed amount of the loan applied for by t...\n",
       "term                  The number of payments on the loan. Values are...\n",
       "int_rate                                      Interest Rate on the loan\n",
       "installment           The monthly payment owed by the borrower if th...\n",
       "grade                                            LC assigned loan grade\n",
       "sub_grade                                     LC assigned loan subgrade\n",
       "emp_title             The job title supplied by the Borrower when ap...\n",
       "emp_length            Employment length in years. Possible values ar...\n",
       "home_ownership        The home ownership status provided by the borr...\n",
       "annual_inc            The self-reported annual income provided by th...\n",
       "verification_status   Indicates if income was verified by LC, not ve...\n",
       "issue_d                             The month which the loan was funded\n",
       "loan_status                                  Current status of the loan\n",
       "purpose               A category provided by the borrower for the lo...\n",
       "title                           The loan title provided by the borrower\n",
       "zip_code              The first 3 numbers of the zip code provided b...\n",
       "addr_state            The state provided by the borrower in the loan...\n",
       "dti                   A ratio calculated using the borrower’s total ...\n",
       "earliest_cr_line      The month the borrower's earliest reported cre...\n",
       "open_acc              The number of open credit lines in the borrowe...\n",
       "pub_rec                             Number of derogatory public records\n",
       "revol_bal                                Total credit revolving balance\n",
       "revol_util            Revolving line utilization rate, or the amount...\n",
       "total_acc             The total number of credit lines currently in ...\n",
       "initial_list_status   The initial listing status of the loan. Possib...\n",
       "application_type      Indicates whether the loan is an individual ap...\n",
       "mort_acc                                   Number of mortgage accounts.\n",
       "pub_rec_bankruptcies               Number of public record bankruptcies"
      ]
     },
     "execution_count": 3,
     "metadata": {},
     "output_type": "execute_result"
    }
   ],
   "source": [
    "data_info"
   ]
  },
  {
   "cell_type": "code",
   "execution_count": 4,
   "metadata": {},
   "outputs": [],
   "source": [
    "def feat_info(col_name):\n",
    "    print(data_info.loc[col_name]['Description'])"
   ]
  },
  {
   "cell_type": "code",
   "execution_count": 5,
   "metadata": {},
   "outputs": [
    {
     "name": "stdout",
     "output_type": "stream",
     "text": [
      "Number of mortgage accounts.\n"
     ]
    }
   ],
   "source": [
    "feat_info('mort_acc')"
   ]
  },
  {
   "cell_type": "code",
   "execution_count": 6,
   "metadata": {},
   "outputs": [],
   "source": [
    "df = pd.read_csv('DATA/lending_club_loan_two.csv')"
   ]
  },
  {
   "cell_type": "code",
   "execution_count": 7,
   "metadata": {},
   "outputs": [
    {
     "name": "stdout",
     "output_type": "stream",
     "text": [
      "<class 'pandas.core.frame.DataFrame'>\n",
      "RangeIndex: 396030 entries, 0 to 396029\n",
      "Data columns (total 27 columns):\n",
      " #   Column                Non-Null Count   Dtype  \n",
      "---  ------                --------------   -----  \n",
      " 0   loan_amnt             396030 non-null  float64\n",
      " 1   term                  396030 non-null  object \n",
      " 2   int_rate              396030 non-null  float64\n",
      " 3   installment           396030 non-null  float64\n",
      " 4   grade                 396030 non-null  object \n",
      " 5   sub_grade             396030 non-null  object \n",
      " 6   emp_title             373103 non-null  object \n",
      " 7   emp_length            377729 non-null  object \n",
      " 8   home_ownership        396030 non-null  object \n",
      " 9   annual_inc            396030 non-null  float64\n",
      " 10  verification_status   396030 non-null  object \n",
      " 11  issue_d               396030 non-null  object \n",
      " 12  loan_status           396030 non-null  object \n",
      " 13  purpose               396030 non-null  object \n",
      " 14  title                 394275 non-null  object \n",
      " 15  dti                   396030 non-null  float64\n",
      " 16  earliest_cr_line      396030 non-null  object \n",
      " 17  open_acc              396030 non-null  float64\n",
      " 18  pub_rec               396030 non-null  float64\n",
      " 19  revol_bal             396030 non-null  float64\n",
      " 20  revol_util            395754 non-null  float64\n",
      " 21  total_acc             396030 non-null  float64\n",
      " 22  initial_list_status   396030 non-null  object \n",
      " 23  application_type      396030 non-null  object \n",
      " 24  mort_acc              358235 non-null  float64\n",
      " 25  pub_rec_bankruptcies  395495 non-null  float64\n",
      " 26  address               396030 non-null  object \n",
      "dtypes: float64(12), object(15)\n",
      "memory usage: 81.6+ MB\n"
     ]
    }
   ],
   "source": [
    "df.info()"
   ]
  },
  {
   "cell_type": "code",
   "execution_count": 8,
   "metadata": {},
   "outputs": [
    {
     "data": {
      "text/html": [
       "<div>\n",
       "<style scoped>\n",
       "    .dataframe tbody tr th:only-of-type {\n",
       "        vertical-align: middle;\n",
       "    }\n",
       "\n",
       "    .dataframe tbody tr th {\n",
       "        vertical-align: top;\n",
       "    }\n",
       "\n",
       "    .dataframe thead th {\n",
       "        text-align: right;\n",
       "    }\n",
       "</style>\n",
       "<table border=\"1\" class=\"dataframe\">\n",
       "  <thead>\n",
       "    <tr style=\"text-align: right;\">\n",
       "      <th></th>\n",
       "      <th>loan_amnt</th>\n",
       "      <th>term</th>\n",
       "      <th>int_rate</th>\n",
       "      <th>installment</th>\n",
       "      <th>grade</th>\n",
       "      <th>sub_grade</th>\n",
       "      <th>emp_title</th>\n",
       "      <th>emp_length</th>\n",
       "      <th>home_ownership</th>\n",
       "      <th>annual_inc</th>\n",
       "      <th>...</th>\n",
       "      <th>open_acc</th>\n",
       "      <th>pub_rec</th>\n",
       "      <th>revol_bal</th>\n",
       "      <th>revol_util</th>\n",
       "      <th>total_acc</th>\n",
       "      <th>initial_list_status</th>\n",
       "      <th>application_type</th>\n",
       "      <th>mort_acc</th>\n",
       "      <th>pub_rec_bankruptcies</th>\n",
       "      <th>address</th>\n",
       "    </tr>\n",
       "  </thead>\n",
       "  <tbody>\n",
       "    <tr>\n",
       "      <th>0</th>\n",
       "      <td>10000.0</td>\n",
       "      <td>36 months</td>\n",
       "      <td>11.44</td>\n",
       "      <td>329.48</td>\n",
       "      <td>B</td>\n",
       "      <td>B4</td>\n",
       "      <td>Marketing</td>\n",
       "      <td>10+ years</td>\n",
       "      <td>RENT</td>\n",
       "      <td>117000.0</td>\n",
       "      <td>...</td>\n",
       "      <td>16.0</td>\n",
       "      <td>0.0</td>\n",
       "      <td>36369.0</td>\n",
       "      <td>41.8</td>\n",
       "      <td>25.0</td>\n",
       "      <td>w</td>\n",
       "      <td>INDIVIDUAL</td>\n",
       "      <td>0.0</td>\n",
       "      <td>0.0</td>\n",
       "      <td>0174 Michelle Gateway\\nMendozaberg, OK 22690</td>\n",
       "    </tr>\n",
       "    <tr>\n",
       "      <th>1</th>\n",
       "      <td>8000.0</td>\n",
       "      <td>36 months</td>\n",
       "      <td>11.99</td>\n",
       "      <td>265.68</td>\n",
       "      <td>B</td>\n",
       "      <td>B5</td>\n",
       "      <td>Credit analyst</td>\n",
       "      <td>4 years</td>\n",
       "      <td>MORTGAGE</td>\n",
       "      <td>65000.0</td>\n",
       "      <td>...</td>\n",
       "      <td>17.0</td>\n",
       "      <td>0.0</td>\n",
       "      <td>20131.0</td>\n",
       "      <td>53.3</td>\n",
       "      <td>27.0</td>\n",
       "      <td>f</td>\n",
       "      <td>INDIVIDUAL</td>\n",
       "      <td>3.0</td>\n",
       "      <td>0.0</td>\n",
       "      <td>1076 Carney Fort Apt. 347\\nLoganmouth, SD 05113</td>\n",
       "    </tr>\n",
       "  </tbody>\n",
       "</table>\n",
       "<p>2 rows × 27 columns</p>\n",
       "</div>"
      ],
      "text/plain": [
       "   loan_amnt        term  int_rate  installment grade sub_grade  \\\n",
       "0    10000.0   36 months     11.44       329.48     B        B4   \n",
       "1     8000.0   36 months     11.99       265.68     B        B5   \n",
       "\n",
       "         emp_title emp_length home_ownership  annual_inc  ... open_acc  \\\n",
       "0        Marketing  10+ years           RENT    117000.0  ...     16.0   \n",
       "1  Credit analyst     4 years       MORTGAGE     65000.0  ...     17.0   \n",
       "\n",
       "  pub_rec revol_bal revol_util total_acc  initial_list_status  \\\n",
       "0     0.0   36369.0       41.8      25.0                    w   \n",
       "1     0.0   20131.0       53.3      27.0                    f   \n",
       "\n",
       "  application_type  mort_acc  pub_rec_bankruptcies  \\\n",
       "0       INDIVIDUAL       0.0                   0.0   \n",
       "1       INDIVIDUAL       3.0                   0.0   \n",
       "\n",
       "                                           address  \n",
       "0     0174 Michelle Gateway\\nMendozaberg, OK 22690  \n",
       "1  1076 Carney Fort Apt. 347\\nLoganmouth, SD 05113  \n",
       "\n",
       "[2 rows x 27 columns]"
      ]
     },
     "execution_count": 8,
     "metadata": {},
     "output_type": "execute_result"
    }
   ],
   "source": [
    "df.head(2)"
   ]
  },
  {
   "cell_type": "markdown",
   "metadata": {},
   "source": [
    "### Preprocessing"
   ]
  },
  {
   "cell_type": "code",
   "execution_count": 9,
   "metadata": {},
   "outputs": [
    {
     "data": {
      "text/plain": [
       "<AxesSubplot:>"
      ]
     },
     "execution_count": 9,
     "metadata": {},
     "output_type": "execute_result"
    },
    {
     "data": {
      "image/png": "[encoded data removed]",
      "text/plain": [
       "<Figure size 432x288 with 1 Axes>"
      ]
     },
     "metadata": {
      "needs_background": "light"
     },
     "output_type": "display_data"
    }
   ],
   "source": [
    "sns.heatmap(df.isnull(), cbar=False, yticklabels=False)"
   ]
  },
  {
   "cell_type": "code",
   "execution_count": 10,
   "metadata": {},
   "outputs": [
    {
     "name": "stdout",
     "output_type": "stream",
     "text": [
      "The number of payments on the loan. Values are in months and can be either 36 or 60.\n"
     ]
    }
   ],
   "source": [
    "feat_info('term')"
   ]
  },
  {
   "cell_type": "code",
   "execution_count": 11,
   "metadata": {},
   "outputs": [
    {
     "data": {
      "text/html": [
       "<div>\n",
       "<style scoped>\n",
       "    .dataframe tbody tr th:only-of-type {\n",
       "        vertical-align: middle;\n",
       "    }\n",
       "\n",
       "    .dataframe tbody tr th {\n",
       "        vertical-align: top;\n",
       "    }\n",
       "\n",
       "    .dataframe thead th {\n",
       "        text-align: right;\n",
       "    }\n",
       "</style>\n",
       "<table border=\"1\" class=\"dataframe\">\n",
       "  <thead>\n",
       "    <tr style=\"text-align: right;\">\n",
       "      <th></th>\n",
       "      <th>60 months</th>\n",
       "    </tr>\n",
       "  </thead>\n",
       "  <tbody>\n",
       "    <tr>\n",
       "      <th>0</th>\n",
       "      <td>0</td>\n",
       "    </tr>\n",
       "    <tr>\n",
       "      <th>1</th>\n",
       "      <td>0</td>\n",
       "    </tr>\n",
       "    <tr>\n",
       "      <th>2</th>\n",
       "      <td>0</td>\n",
       "    </tr>\n",
       "    <tr>\n",
       "      <th>3</th>\n",
       "      <td>0</td>\n",
       "    </tr>\n",
       "    <tr>\n",
       "      <th>4</th>\n",
       "      <td>1</td>\n",
       "    </tr>\n",
       "    <tr>\n",
       "      <th>...</th>\n",
       "      <td>...</td>\n",
       "    </tr>\n",
       "    <tr>\n",
       "      <th>396025</th>\n",
       "      <td>1</td>\n",
       "    </tr>\n",
       "    <tr>\n",
       "      <th>396026</th>\n",
       "      <td>0</td>\n",
       "    </tr>\n",
       "    <tr>\n",
       "      <th>396027</th>\n",
       "      <td>0</td>\n",
       "    </tr>\n",
       "    <tr>\n",
       "      <th>396028</th>\n",
       "      <td>1</td>\n",
       "    </tr>\n",
       "    <tr>\n",
       "      <th>396029</th>\n",
       "      <td>0</td>\n",
       "    </tr>\n",
       "  </tbody>\n",
       "</table>\n",
       "<p>396030 rows × 1 columns</p>\n",
       "</div>"
      ],
      "text/plain": [
       "         60 months\n",
       "0                0\n",
       "1                0\n",
       "2                0\n",
       "3                0\n",
       "4                1\n",
       "...            ...\n",
       "396025           1\n",
       "396026           0\n",
       "396027           0\n",
       "396028           1\n",
       "396029           0\n",
       "\n",
       "[396030 rows x 1 columns]"
      ]
     },
     "execution_count": 11,
     "metadata": {},
     "output_type": "execute_result"
    }
   ],
   "source": [
    "pd.get_dummies(df['term'], drop_first=True)"
   ]
  },
  {
   "cell_type": "code",
   "execution_count": 12,
   "metadata": {},
   "outputs": [],
   "source": [
    "df['term'] = pd.get_dummies(df['term'], drop_first=True)[' 60 months']"
   ]
  },
  {
   "cell_type": "code",
   "execution_count": 13,
   "metadata": {},
   "outputs": [
    {
     "name": "stdout",
     "output_type": "stream",
     "text": [
      "LC assigned loan grade\n"
     ]
    }
   ],
   "source": [
    "feat_info('grade')"
   ]
  },
  {
   "cell_type": "code",
   "execution_count": 14,
   "metadata": {},
   "outputs": [
    {
     "data": {
      "text/plain": [
       "B    116018\n",
       "C    105987\n",
       "A     64187\n",
       "D     63524\n",
       "E     31488\n",
       "F     11772\n",
       "G      3054\n",
       "Name: grade, dtype: int64"
      ]
     },
     "execution_count": 14,
     "metadata": {},
     "output_type": "execute_result"
    }
   ],
   "source": [
    "df['grade'].value_counts()"
   ]
  },
  {
   "cell_type": "code",
   "execution_count": 15,
   "metadata": {},
   "outputs": [
    {
     "data": {
      "text/html": [
       "<div>\n",
       "<style scoped>\n",
       "    .dataframe tbody tr th:only-of-type {\n",
       "        vertical-align: middle;\n",
       "    }\n",
       "\n",
       "    .dataframe tbody tr th {\n",
       "        vertical-align: top;\n",
       "    }\n",
       "\n",
       "    .dataframe thead th {\n",
       "        text-align: right;\n",
       "    }\n",
       "</style>\n",
       "<table border=\"1\" class=\"dataframe\">\n",
       "  <thead>\n",
       "    <tr style=\"text-align: right;\">\n",
       "      <th></th>\n",
       "      <th>B</th>\n",
       "      <th>C</th>\n",
       "      <th>D</th>\n",
       "      <th>E</th>\n",
       "      <th>F</th>\n",
       "      <th>G</th>\n",
       "    </tr>\n",
       "  </thead>\n",
       "  <tbody>\n",
       "    <tr>\n",
       "      <th>0</th>\n",
       "      <td>1</td>\n",
       "      <td>0</td>\n",
       "      <td>0</td>\n",
       "      <td>0</td>\n",
       "      <td>0</td>\n",
       "      <td>0</td>\n",
       "    </tr>\n",
       "    <tr>\n",
       "      <th>1</th>\n",
       "      <td>1</td>\n",
       "      <td>0</td>\n",
       "      <td>0</td>\n",
       "      <td>0</td>\n",
       "      <td>0</td>\n",
       "      <td>0</td>\n",
       "    </tr>\n",
       "  </tbody>\n",
       "</table>\n",
       "</div>"
      ],
      "text/plain": [
       "   B  C  D  E  F  G\n",
       "0  1  0  0  0  0  0\n",
       "1  1  0  0  0  0  0"
      ]
     },
     "execution_count": 15,
     "metadata": {},
     "output_type": "execute_result"
    }
   ],
   "source": [
    "pd.get_dummies(df['grade'], drop_first=True).head(2)"
   ]
  },
  {
   "cell_type": "code",
   "execution_count": 16,
   "metadata": {},
   "outputs": [
    {
     "data": {
      "text/html": [
       "<div>\n",
       "<style scoped>\n",
       "    .dataframe tbody tr th:only-of-type {\n",
       "        vertical-align: middle;\n",
       "    }\n",
       "\n",
       "    .dataframe tbody tr th {\n",
       "        vertical-align: top;\n",
       "    }\n",
       "\n",
       "    .dataframe thead th {\n",
       "        text-align: right;\n",
       "    }\n",
       "</style>\n",
       "<table border=\"1\" class=\"dataframe\">\n",
       "  <thead>\n",
       "    <tr style=\"text-align: right;\">\n",
       "      <th></th>\n",
       "      <th>loan_amnt</th>\n",
       "      <th>term</th>\n",
       "      <th>int_rate</th>\n",
       "      <th>installment</th>\n",
       "      <th>grade</th>\n",
       "      <th>sub_grade</th>\n",
       "      <th>emp_title</th>\n",
       "      <th>emp_length</th>\n",
       "      <th>home_ownership</th>\n",
       "      <th>annual_inc</th>\n",
       "      <th>...</th>\n",
       "      <th>open_acc</th>\n",
       "      <th>pub_rec</th>\n",
       "      <th>revol_bal</th>\n",
       "      <th>revol_util</th>\n",
       "      <th>total_acc</th>\n",
       "      <th>initial_list_status</th>\n",
       "      <th>application_type</th>\n",
       "      <th>mort_acc</th>\n",
       "      <th>pub_rec_bankruptcies</th>\n",
       "      <th>address</th>\n",
       "    </tr>\n",
       "  </thead>\n",
       "  <tbody>\n",
       "    <tr>\n",
       "      <th>0</th>\n",
       "      <td>10000.0</td>\n",
       "      <td>0</td>\n",
       "      <td>11.44</td>\n",
       "      <td>329.48</td>\n",
       "      <td>B</td>\n",
       "      <td>B4</td>\n",
       "      <td>Marketing</td>\n",
       "      <td>10+ years</td>\n",
       "      <td>RENT</td>\n",
       "      <td>117000.0</td>\n",
       "      <td>...</td>\n",
       "      <td>16.0</td>\n",
       "      <td>0.0</td>\n",
       "      <td>36369.0</td>\n",
       "      <td>41.8</td>\n",
       "      <td>25.0</td>\n",
       "      <td>w</td>\n",
       "      <td>INDIVIDUAL</td>\n",
       "      <td>0.0</td>\n",
       "      <td>0.0</td>\n",
       "      <td>0174 Michelle Gateway\\nMendozaberg, OK 22690</td>\n",
       "    </tr>\n",
       "    <tr>\n",
       "      <th>1</th>\n",
       "      <td>8000.0</td>\n",
       "      <td>0</td>\n",
       "      <td>11.99</td>\n",
       "      <td>265.68</td>\n",
       "      <td>B</td>\n",
       "      <td>B5</td>\n",
       "      <td>Credit analyst</td>\n",
       "      <td>4 years</td>\n",
       "      <td>MORTGAGE</td>\n",
       "      <td>65000.0</td>\n",
       "      <td>...</td>\n",
       "      <td>17.0</td>\n",
       "      <td>0.0</td>\n",
       "      <td>20131.0</td>\n",
       "      <td>53.3</td>\n",
       "      <td>27.0</td>\n",
       "      <td>f</td>\n",
       "      <td>INDIVIDUAL</td>\n",
       "      <td>3.0</td>\n",
       "      <td>0.0</td>\n",
       "      <td>1076 Carney Fort Apt. 347\\nLoganmouth, SD 05113</td>\n",
       "    </tr>\n",
       "  </tbody>\n",
       "</table>\n",
       "<p>2 rows × 27 columns</p>\n",
       "</div>"
      ],
      "text/plain": [
       "   loan_amnt  term  int_rate  installment grade sub_grade        emp_title  \\\n",
       "0    10000.0     0     11.44       329.48     B        B4        Marketing   \n",
       "1     8000.0     0     11.99       265.68     B        B5  Credit analyst    \n",
       "\n",
       "  emp_length home_ownership  annual_inc  ... open_acc pub_rec revol_bal  \\\n",
       "0  10+ years           RENT    117000.0  ...     16.0     0.0   36369.0   \n",
       "1    4 years       MORTGAGE     65000.0  ...     17.0     0.0   20131.0   \n",
       "\n",
       "  revol_util total_acc  initial_list_status application_type  mort_acc  \\\n",
       "0       41.8      25.0                    w       INDIVIDUAL       0.0   \n",
       "1       53.3      27.0                    f       INDIVIDUAL       3.0   \n",
       "\n",
       "   pub_rec_bankruptcies                                          address  \n",
       "0                   0.0     0174 Michelle Gateway\\nMendozaberg, OK 22690  \n",
       "1                   0.0  1076 Carney Fort Apt. 347\\nLoganmouth, SD 05113  \n",
       "\n",
       "[2 rows x 27 columns]"
      ]
     },
     "execution_count": 16,
     "metadata": {},
     "output_type": "execute_result"
    }
   ],
   "source": [
    "df.head(2)"
   ]
  },
  {
   "cell_type": "code",
   "execution_count": 17,
   "metadata": {},
   "outputs": [],
   "source": [
    "df = pd.concat([df, pd.get_dummies(df['grade'], drop_first=True)], axis=1)"
   ]
  },
  {
   "cell_type": "code",
   "execution_count": 18,
   "metadata": {},
   "outputs": [],
   "source": [
    "df.drop('grade', axis=1, inplace=True)"
   ]
  },
  {
   "cell_type": "code",
   "execution_count": 19,
   "metadata": {},
   "outputs": [
    {
     "data": {
      "text/html": [
       "<div>\n",
       "<style scoped>\n",
       "    .dataframe tbody tr th:only-of-type {\n",
       "        vertical-align: middle;\n",
       "    }\n",
       "\n",
       "    .dataframe tbody tr th {\n",
       "        vertical-align: top;\n",
       "    }\n",
       "\n",
       "    .dataframe thead th {\n",
       "        text-align: right;\n",
       "    }\n",
       "</style>\n",
       "<table border=\"1\" class=\"dataframe\">\n",
       "  <thead>\n",
       "    <tr style=\"text-align: right;\">\n",
       "      <th></th>\n",
       "      <th>loan_amnt</th>\n",
       "      <th>term</th>\n",
       "      <th>int_rate</th>\n",
       "      <th>installment</th>\n",
       "      <th>sub_grade</th>\n",
       "      <th>emp_title</th>\n",
       "      <th>emp_length</th>\n",
       "      <th>home_ownership</th>\n",
       "      <th>annual_inc</th>\n",
       "      <th>verification_status</th>\n",
       "      <th>...</th>\n",
       "      <th>application_type</th>\n",
       "      <th>mort_acc</th>\n",
       "      <th>pub_rec_bankruptcies</th>\n",
       "      <th>address</th>\n",
       "      <th>B</th>\n",
       "      <th>C</th>\n",
       "      <th>D</th>\n",
       "      <th>E</th>\n",
       "      <th>F</th>\n",
       "      <th>G</th>\n",
       "    </tr>\n",
       "  </thead>\n",
       "  <tbody>\n",
       "    <tr>\n",
       "      <th>0</th>\n",
       "      <td>10000.0</td>\n",
       "      <td>0</td>\n",
       "      <td>11.44</td>\n",
       "      <td>329.48</td>\n",
       "      <td>B4</td>\n",
       "      <td>Marketing</td>\n",
       "      <td>10+ years</td>\n",
       "      <td>RENT</td>\n",
       "      <td>117000.0</td>\n",
       "      <td>Not Verified</td>\n",
       "      <td>...</td>\n",
       "      <td>INDIVIDUAL</td>\n",
       "      <td>0.0</td>\n",
       "      <td>0.0</td>\n",
       "      <td>0174 Michelle Gateway\\nMendozaberg, OK 22690</td>\n",
       "      <td>1</td>\n",
       "      <td>0</td>\n",
       "      <td>0</td>\n",
       "      <td>0</td>\n",
       "      <td>0</td>\n",
       "      <td>0</td>\n",
       "    </tr>\n",
       "  </tbody>\n",
       "</table>\n",
       "<p>1 rows × 32 columns</p>\n",
       "</div>"
      ],
      "text/plain": [
       "   loan_amnt  term  int_rate  installment sub_grade  emp_title emp_length  \\\n",
       "0    10000.0     0     11.44       329.48        B4  Marketing  10+ years   \n",
       "\n",
       "  home_ownership  annual_inc verification_status  ... application_type  \\\n",
       "0           RENT    117000.0        Not Verified  ...       INDIVIDUAL   \n",
       "\n",
       "  mort_acc pub_rec_bankruptcies                                       address  \\\n",
       "0      0.0                  0.0  0174 Michelle Gateway\\nMendozaberg, OK 22690   \n",
       "\n",
       "   B  C  D  E  F  G  \n",
       "0  1  0  0  0  0  0  \n",
       "\n",
       "[1 rows x 32 columns]"
      ]
     },
     "execution_count": 19,
     "metadata": {},
     "output_type": "execute_result"
    }
   ],
   "source": [
    "df.head(1)"
   ]
  },
  {
   "cell_type": "code",
   "execution_count": 20,
   "metadata": {},
   "outputs": [
    {
     "name": "stdout",
     "output_type": "stream",
     "text": [
      "LC assigned loan subgrade\n"
     ]
    }
   ],
   "source": [
    "feat_info('sub_grade')"
   ]
  },
  {
   "cell_type": "code",
   "execution_count": 21,
   "metadata": {},
   "outputs": [
    {
     "data": {
      "text/plain": [
       "35"
      ]
     },
     "execution_count": 21,
     "metadata": {},
     "output_type": "execute_result"
    }
   ],
   "source": [
    "df['sub_grade'].nunique()"
   ]
  },
  {
   "cell_type": "code",
   "execution_count": 22,
   "metadata": {},
   "outputs": [],
   "source": [
    "df.drop('sub_grade', axis=1, inplace=True)"
   ]
  },
  {
   "cell_type": "code",
   "execution_count": 23,
   "metadata": {},
   "outputs": [
    {
     "name": "stdout",
     "output_type": "stream",
     "text": [
      "The job title supplied by the Borrower when applying for the loan.*\n"
     ]
    }
   ],
   "source": [
    "feat_info('emp_title')"
   ]
  },
  {
   "cell_type": "code",
   "execution_count": 24,
   "metadata": {},
   "outputs": [
    {
     "data": {
      "text/plain": [
       "Teacher                           4389\n",
       "Manager                           4250\n",
       "Registered Nurse                  1856\n",
       "RN                                1846\n",
       "Supervisor                        1830\n",
       "                                  ... \n",
       "Housing Control Operator             1\n",
       "Iwco                                 1\n",
       "The Continental Group, Inc           1\n",
       "MATHEMATICS TEACHER                  1\n",
       "Executive Assistant to the COO       1\n",
       "Name: emp_title, Length: 173105, dtype: int64"
      ]
     },
     "execution_count": 24,
     "metadata": {},
     "output_type": "execute_result"
    }
   ],
   "source": [
    "df['emp_title'].value_counts()"
   ]
  },
  {
   "cell_type": "code",
   "execution_count": 25,
   "metadata": {},
   "outputs": [],
   "source": [
    "df.drop('emp_title', axis=1, inplace=True)"
   ]
  },
  {
   "cell_type": "code",
   "execution_count": 26,
   "metadata": {},
   "outputs": [
    {
     "name": "stdout",
     "output_type": "stream",
     "text": [
      "Employment length in years. Possible values are between 0 and 10 where 0 means less than one year and 10 means ten or more years. \n"
     ]
    }
   ],
   "source": [
    "feat_info('emp_length')"
   ]
  },
  {
   "cell_type": "code",
   "execution_count": 27,
   "metadata": {},
   "outputs": [
    {
     "data": {
      "text/plain": [
       "10+ years    126041\n",
       "2 years       35827\n",
       "< 1 year      31725\n",
       "3 years       31665\n",
       "5 years       26495\n",
       "1 year        25882\n",
       "4 years       23952\n",
       "6 years       20841\n",
       "7 years       20819\n",
       "8 years       19168\n",
       "9 years       15314\n",
       "Name: emp_length, dtype: int64"
      ]
     },
     "execution_count": 27,
     "metadata": {},
     "output_type": "execute_result"
    }
   ],
   "source": [
    "df['emp_length'].value_counts()"
   ]
  },
  {
   "cell_type": "code",
   "execution_count": 28,
   "metadata": {},
   "outputs": [],
   "source": [
    "x = np.nan"
   ]
  },
  {
   "cell_type": "code",
   "execution_count": 29,
   "metadata": {},
   "outputs": [
    {
     "data": {
      "text/plain": [
       "True"
      ]
     },
     "execution_count": 29,
     "metadata": {},
     "output_type": "execute_result"
    }
   ],
   "source": [
    "x is np.nan"
   ]
  },
  {
   "cell_type": "code",
   "execution_count": 30,
   "metadata": {},
   "outputs": [
    {
     "data": {
      "text/plain": [
       "nan"
      ]
     },
     "execution_count": 30,
     "metadata": {},
     "output_type": "execute_result"
    }
   ],
   "source": [
    "df[df['emp_length'].isnull() == True]['emp_length'].iloc[0]"
   ]
  },
  {
   "cell_type": "code",
   "execution_count": 31,
   "metadata": {},
   "outputs": [],
   "source": [
    "def emp_years(x):\n",
    "    if x is np.nan:\n",
    "        return 0;\n",
    "    first_char = x[0]\n",
    "    second_char = x[1]\n",
    "    if first_char == '<':\n",
    "        return 0;\n",
    "    elif first_char == '1' and second_char == '0':\n",
    "        return 10;\n",
    "    else: \n",
    "        return int(first_char);"
   ]
  },
  {
   "cell_type": "code",
   "execution_count": 32,
   "metadata": {},
   "outputs": [
    {
     "data": {
      "text/plain": [
       "0         10+ years\n",
       "1           4 years\n",
       "2          < 1 year\n",
       "3           6 years\n",
       "4           9 years\n",
       "            ...    \n",
       "396025      2 years\n",
       "396026      5 years\n",
       "396027    10+ years\n",
       "396028    10+ years\n",
       "396029    10+ years\n",
       "Name: emp_length, Length: 396030, dtype: object"
      ]
     },
     "execution_count": 32,
     "metadata": {},
     "output_type": "execute_result"
    }
   ],
   "source": [
    "df['emp_length']"
   ]
  },
  {
   "cell_type": "code",
   "execution_count": 33,
   "metadata": {},
   "outputs": [
    {
     "data": {
      "text/plain": [
       "6"
      ]
     },
     "execution_count": 33,
     "metadata": {},
     "output_type": "execute_result"
    }
   ],
   "source": [
    "emp_years(df['emp_length'].iloc[3])"
   ]
  },
  {
   "cell_type": "code",
   "execution_count": 34,
   "metadata": {},
   "outputs": [
    {
     "data": {
      "text/plain": [
       "0         10\n",
       "1          4\n",
       "2          0\n",
       "3          6\n",
       "4          9\n",
       "          ..\n",
       "396025     2\n",
       "396026     5\n",
       "396027    10\n",
       "396028    10\n",
       "396029    10\n",
       "Name: emp_length, Length: 396030, dtype: int64"
      ]
     },
     "execution_count": 34,
     "metadata": {},
     "output_type": "execute_result"
    }
   ],
   "source": [
    "df['emp_length'].apply(emp_years)"
   ]
  },
  {
   "cell_type": "code",
   "execution_count": 35,
   "metadata": {},
   "outputs": [],
   "source": [
    "df['emp_length'] = df['emp_length'].apply(emp_years)"
   ]
  },
  {
   "cell_type": "code",
   "execution_count": 36,
   "metadata": {},
   "outputs": [
    {
     "data": {
      "text/html": [
       "<div>\n",
       "<style scoped>\n",
       "    .dataframe tbody tr th:only-of-type {\n",
       "        vertical-align: middle;\n",
       "    }\n",
       "\n",
       "    .dataframe tbody tr th {\n",
       "        vertical-align: top;\n",
       "    }\n",
       "\n",
       "    .dataframe thead th {\n",
       "        text-align: right;\n",
       "    }\n",
       "</style>\n",
       "<table border=\"1\" class=\"dataframe\">\n",
       "  <thead>\n",
       "    <tr style=\"text-align: right;\">\n",
       "      <th></th>\n",
       "      <th>loan_amnt</th>\n",
       "      <th>term</th>\n",
       "      <th>int_rate</th>\n",
       "      <th>installment</th>\n",
       "      <th>emp_length</th>\n",
       "      <th>home_ownership</th>\n",
       "      <th>annual_inc</th>\n",
       "      <th>verification_status</th>\n",
       "      <th>issue_d</th>\n",
       "      <th>loan_status</th>\n",
       "      <th>...</th>\n",
       "      <th>application_type</th>\n",
       "      <th>mort_acc</th>\n",
       "      <th>pub_rec_bankruptcies</th>\n",
       "      <th>address</th>\n",
       "      <th>B</th>\n",
       "      <th>C</th>\n",
       "      <th>D</th>\n",
       "      <th>E</th>\n",
       "      <th>F</th>\n",
       "      <th>G</th>\n",
       "    </tr>\n",
       "  </thead>\n",
       "  <tbody>\n",
       "    <tr>\n",
       "      <th>0</th>\n",
       "      <td>10000.0</td>\n",
       "      <td>0</td>\n",
       "      <td>11.44</td>\n",
       "      <td>329.48</td>\n",
       "      <td>10</td>\n",
       "      <td>RENT</td>\n",
       "      <td>117000.0</td>\n",
       "      <td>Not Verified</td>\n",
       "      <td>Jan-2015</td>\n",
       "      <td>Fully Paid</td>\n",
       "      <td>...</td>\n",
       "      <td>INDIVIDUAL</td>\n",
       "      <td>0.0</td>\n",
       "      <td>0.0</td>\n",
       "      <td>0174 Michelle Gateway\\nMendozaberg, OK 22690</td>\n",
       "      <td>1</td>\n",
       "      <td>0</td>\n",
       "      <td>0</td>\n",
       "      <td>0</td>\n",
       "      <td>0</td>\n",
       "      <td>0</td>\n",
       "    </tr>\n",
       "  </tbody>\n",
       "</table>\n",
       "<p>1 rows × 30 columns</p>\n",
       "</div>"
      ],
      "text/plain": [
       "   loan_amnt  term  int_rate  installment  emp_length home_ownership  \\\n",
       "0    10000.0     0     11.44       329.48          10           RENT   \n",
       "\n",
       "   annual_inc verification_status   issue_d loan_status  ... application_type  \\\n",
       "0    117000.0        Not Verified  Jan-2015  Fully Paid  ...       INDIVIDUAL   \n",
       "\n",
       "  mort_acc  pub_rec_bankruptcies  \\\n",
       "0      0.0                   0.0   \n",
       "\n",
       "                                        address  B  C  D  E  F  G  \n",
       "0  0174 Michelle Gateway\\nMendozaberg, OK 22690  1  0  0  0  0  0  \n",
       "\n",
       "[1 rows x 30 columns]"
      ]
     },
     "execution_count": 36,
     "metadata": {},
     "output_type": "execute_result"
    }
   ],
   "source": [
    "df.head(1)"
   ]
  },
  {
   "cell_type": "code",
   "execution_count": 37,
   "metadata": {},
   "outputs": [
    {
     "name": "stdout",
     "output_type": "stream",
     "text": [
      "The home ownership status provided by the borrower during registration or obtained from the credit report. Our values are: RENT, OWN, MORTGAGE, OTHER\n"
     ]
    }
   ],
   "source": [
    "feat_info('home_ownership')"
   ]
  },
  {
   "cell_type": "code",
   "execution_count": 38,
   "metadata": {},
   "outputs": [
    {
     "data": {
      "text/plain": [
       "MORTGAGE    198348\n",
       "RENT        159790\n",
       "OWN          37746\n",
       "OTHER          112\n",
       "NONE            31\n",
       "ANY              3\n",
       "Name: home_ownership, dtype: int64"
      ]
     },
     "execution_count": 38,
     "metadata": {},
     "output_type": "execute_result"
    }
   ],
   "source": [
    "df['home_ownership'].value_counts()"
   ]
  },
  {
   "cell_type": "code",
   "execution_count": 39,
   "metadata": {},
   "outputs": [],
   "source": [
    "def ownership(x):\n",
    "    if x == 'NONE' or x == 'ANY':\n",
    "        return 'OTHER'\n",
    "    else:\n",
    "        return x"
   ]
  },
  {
   "cell_type": "code",
   "execution_count": 40,
   "metadata": {},
   "outputs": [
    {
     "data": {
      "text/plain": [
       "MORTGAGE    198348\n",
       "RENT        159790\n",
       "OWN          37746\n",
       "OTHER          146\n",
       "Name: home_ownership, dtype: int64"
      ]
     },
     "execution_count": 40,
     "metadata": {},
     "output_type": "execute_result"
    }
   ],
   "source": [
    "df['home_ownership'].apply(ownership).value_counts()"
   ]
  },
  {
   "cell_type": "code",
   "execution_count": 41,
   "metadata": {},
   "outputs": [
    {
     "data": {
      "text/html": [
       "<div>\n",
       "<style scoped>\n",
       "    .dataframe tbody tr th:only-of-type {\n",
       "        vertical-align: middle;\n",
       "    }\n",
       "\n",
       "    .dataframe tbody tr th {\n",
       "        vertical-align: top;\n",
       "    }\n",
       "\n",
       "    .dataframe thead th {\n",
       "        text-align: right;\n",
       "    }\n",
       "</style>\n",
       "<table border=\"1\" class=\"dataframe\">\n",
       "  <thead>\n",
       "    <tr style=\"text-align: right;\">\n",
       "      <th></th>\n",
       "      <th>OTHER</th>\n",
       "      <th>OWN</th>\n",
       "      <th>RENT</th>\n",
       "    </tr>\n",
       "  </thead>\n",
       "  <tbody>\n",
       "    <tr>\n",
       "      <th>0</th>\n",
       "      <td>0</td>\n",
       "      <td>0</td>\n",
       "      <td>1</td>\n",
       "    </tr>\n",
       "    <tr>\n",
       "      <th>1</th>\n",
       "      <td>0</td>\n",
       "      <td>0</td>\n",
       "      <td>0</td>\n",
       "    </tr>\n",
       "    <tr>\n",
       "      <th>2</th>\n",
       "      <td>0</td>\n",
       "      <td>0</td>\n",
       "      <td>1</td>\n",
       "    </tr>\n",
       "    <tr>\n",
       "      <th>3</th>\n",
       "      <td>0</td>\n",
       "      <td>0</td>\n",
       "      <td>1</td>\n",
       "    </tr>\n",
       "    <tr>\n",
       "      <th>4</th>\n",
       "      <td>0</td>\n",
       "      <td>0</td>\n",
       "      <td>0</td>\n",
       "    </tr>\n",
       "    <tr>\n",
       "      <th>...</th>\n",
       "      <td>...</td>\n",
       "      <td>...</td>\n",
       "      <td>...</td>\n",
       "    </tr>\n",
       "    <tr>\n",
       "      <th>396025</th>\n",
       "      <td>0</td>\n",
       "      <td>0</td>\n",
       "      <td>1</td>\n",
       "    </tr>\n",
       "    <tr>\n",
       "      <th>396026</th>\n",
       "      <td>0</td>\n",
       "      <td>0</td>\n",
       "      <td>0</td>\n",
       "    </tr>\n",
       "    <tr>\n",
       "      <th>396027</th>\n",
       "      <td>0</td>\n",
       "      <td>0</td>\n",
       "      <td>1</td>\n",
       "    </tr>\n",
       "    <tr>\n",
       "      <th>396028</th>\n",
       "      <td>0</td>\n",
       "      <td>0</td>\n",
       "      <td>0</td>\n",
       "    </tr>\n",
       "    <tr>\n",
       "      <th>396029</th>\n",
       "      <td>0</td>\n",
       "      <td>0</td>\n",
       "      <td>1</td>\n",
       "    </tr>\n",
       "  </tbody>\n",
       "</table>\n",
       "<p>396030 rows × 3 columns</p>\n",
       "</div>"
      ],
      "text/plain": [
       "        OTHER  OWN  RENT\n",
       "0           0    0     1\n",
       "1           0    0     0\n",
       "2           0    0     1\n",
       "3           0    0     1\n",
       "4           0    0     0\n",
       "...       ...  ...   ...\n",
       "396025      0    0     1\n",
       "396026      0    0     0\n",
       "396027      0    0     1\n",
       "396028      0    0     0\n",
       "396029      0    0     1\n",
       "\n",
       "[396030 rows x 3 columns]"
      ]
     },
     "execution_count": 41,
     "metadata": {},
     "output_type": "execute_result"
    }
   ],
   "source": [
    "pd.get_dummies(df['home_ownership'].apply(ownership), drop_first=True)"
   ]
  },
  {
   "cell_type": "code",
   "execution_count": 42,
   "metadata": {},
   "outputs": [],
   "source": [
    "df = pd.concat([df, pd.get_dummies(df['home_ownership'].apply(ownership), drop_first=True)], axis=1)"
   ]
  },
  {
   "cell_type": "code",
   "execution_count": 43,
   "metadata": {},
   "outputs": [],
   "source": [
    "df.drop('home_ownership', axis=1, inplace=True)"
   ]
  },
  {
   "cell_type": "code",
   "execution_count": 44,
   "metadata": {},
   "outputs": [
    {
     "data": {
      "text/html": [
       "<div>\n",
       "<style scoped>\n",
       "    .dataframe tbody tr th:only-of-type {\n",
       "        vertical-align: middle;\n",
       "    }\n",
       "\n",
       "    .dataframe tbody tr th {\n",
       "        vertical-align: top;\n",
       "    }\n",
       "\n",
       "    .dataframe thead th {\n",
       "        text-align: right;\n",
       "    }\n",
       "</style>\n",
       "<table border=\"1\" class=\"dataframe\">\n",
       "  <thead>\n",
       "    <tr style=\"text-align: right;\">\n",
       "      <th></th>\n",
       "      <th>loan_amnt</th>\n",
       "      <th>term</th>\n",
       "      <th>int_rate</th>\n",
       "      <th>installment</th>\n",
       "      <th>emp_length</th>\n",
       "      <th>annual_inc</th>\n",
       "      <th>verification_status</th>\n",
       "      <th>issue_d</th>\n",
       "      <th>loan_status</th>\n",
       "      <th>purpose</th>\n",
       "      <th>...</th>\n",
       "      <th>address</th>\n",
       "      <th>B</th>\n",
       "      <th>C</th>\n",
       "      <th>D</th>\n",
       "      <th>E</th>\n",
       "      <th>F</th>\n",
       "      <th>G</th>\n",
       "      <th>OTHER</th>\n",
       "      <th>OWN</th>\n",
       "      <th>RENT</th>\n",
       "    </tr>\n",
       "  </thead>\n",
       "  <tbody>\n",
       "    <tr>\n",
       "      <th>0</th>\n",
       "      <td>10000.0</td>\n",
       "      <td>0</td>\n",
       "      <td>11.44</td>\n",
       "      <td>329.48</td>\n",
       "      <td>10</td>\n",
       "      <td>117000.0</td>\n",
       "      <td>Not Verified</td>\n",
       "      <td>Jan-2015</td>\n",
       "      <td>Fully Paid</td>\n",
       "      <td>vacation</td>\n",
       "      <td>...</td>\n",
       "      <td>0174 Michelle Gateway\\nMendozaberg, OK 22690</td>\n",
       "      <td>1</td>\n",
       "      <td>0</td>\n",
       "      <td>0</td>\n",
       "      <td>0</td>\n",
       "      <td>0</td>\n",
       "      <td>0</td>\n",
       "      <td>0</td>\n",
       "      <td>0</td>\n",
       "      <td>1</td>\n",
       "    </tr>\n",
       "  </tbody>\n",
       "</table>\n",
       "<p>1 rows × 32 columns</p>\n",
       "</div>"
      ],
      "text/plain": [
       "   loan_amnt  term  int_rate  installment  emp_length  annual_inc  \\\n",
       "0    10000.0     0     11.44       329.48          10    117000.0   \n",
       "\n",
       "  verification_status   issue_d loan_status   purpose  ...  \\\n",
       "0        Not Verified  Jan-2015  Fully Paid  vacation  ...   \n",
       "\n",
       "                                        address  B  C  D  E  F  G  OTHER OWN  \\\n",
       "0  0174 Michelle Gateway\\nMendozaberg, OK 22690  1  0  0  0  0  0      0   0   \n",
       "\n",
       "  RENT  \n",
       "0    1  \n",
       "\n",
       "[1 rows x 32 columns]"
      ]
     },
     "execution_count": 44,
     "metadata": {},
     "output_type": "execute_result"
    }
   ],
   "source": [
    "df.head(1)"
   ]
  },
  {
   "cell_type": "code",
   "execution_count": 45,
   "metadata": {},
   "outputs": [
    {
     "data": {
      "text/html": [
       "<div>\n",
       "<style scoped>\n",
       "    .dataframe tbody tr th:only-of-type {\n",
       "        vertical-align: middle;\n",
       "    }\n",
       "\n",
       "    .dataframe tbody tr th {\n",
       "        vertical-align: top;\n",
       "    }\n",
       "\n",
       "    .dataframe thead th {\n",
       "        text-align: right;\n",
       "    }\n",
       "</style>\n",
       "<table border=\"1\" class=\"dataframe\">\n",
       "  <thead>\n",
       "    <tr style=\"text-align: right;\">\n",
       "      <th></th>\n",
       "      <th>Source Verified</th>\n",
       "      <th>Verified</th>\n",
       "    </tr>\n",
       "  </thead>\n",
       "  <tbody>\n",
       "    <tr>\n",
       "      <th>0</th>\n",
       "      <td>0</td>\n",
       "      <td>0</td>\n",
       "    </tr>\n",
       "    <tr>\n",
       "      <th>1</th>\n",
       "      <td>0</td>\n",
       "      <td>0</td>\n",
       "    </tr>\n",
       "    <tr>\n",
       "      <th>2</th>\n",
       "      <td>1</td>\n",
       "      <td>0</td>\n",
       "    </tr>\n",
       "    <tr>\n",
       "      <th>3</th>\n",
       "      <td>0</td>\n",
       "      <td>0</td>\n",
       "    </tr>\n",
       "    <tr>\n",
       "      <th>4</th>\n",
       "      <td>0</td>\n",
       "      <td>1</td>\n",
       "    </tr>\n",
       "    <tr>\n",
       "      <th>...</th>\n",
       "      <td>...</td>\n",
       "      <td>...</td>\n",
       "    </tr>\n",
       "    <tr>\n",
       "      <th>396025</th>\n",
       "      <td>1</td>\n",
       "      <td>0</td>\n",
       "    </tr>\n",
       "    <tr>\n",
       "      <th>396026</th>\n",
       "      <td>1</td>\n",
       "      <td>0</td>\n",
       "    </tr>\n",
       "    <tr>\n",
       "      <th>396027</th>\n",
       "      <td>0</td>\n",
       "      <td>1</td>\n",
       "    </tr>\n",
       "    <tr>\n",
       "      <th>396028</th>\n",
       "      <td>0</td>\n",
       "      <td>1</td>\n",
       "    </tr>\n",
       "    <tr>\n",
       "      <th>396029</th>\n",
       "      <td>0</td>\n",
       "      <td>1</td>\n",
       "    </tr>\n",
       "  </tbody>\n",
       "</table>\n",
       "<p>396030 rows × 2 columns</p>\n",
       "</div>"
      ],
      "text/plain": [
       "        Source Verified  Verified\n",
       "0                     0         0\n",
       "1                     0         0\n",
       "2                     1         0\n",
       "3                     0         0\n",
       "4                     0         1\n",
       "...                 ...       ...\n",
       "396025                1         0\n",
       "396026                1         0\n",
       "396027                0         1\n",
       "396028                0         1\n",
       "396029                0         1\n",
       "\n",
       "[396030 rows x 2 columns]"
      ]
     },
     "execution_count": 45,
     "metadata": {},
     "output_type": "execute_result"
    }
   ],
   "source": [
    "pd.get_dummies(df['verification_status'], drop_first=True)"
   ]
  },
  {
   "cell_type": "code",
   "execution_count": 46,
   "metadata": {},
   "outputs": [],
   "source": [
    "df = pd.concat([df, pd.get_dummies(pd.get_dummies(df['verification_status'], drop_first=True), drop_first=True)], axis=1)"
   ]
  },
  {
   "cell_type": "code",
   "execution_count": 47,
   "metadata": {},
   "outputs": [
    {
     "data": {
      "text/html": [
       "<div>\n",
       "<style scoped>\n",
       "    .dataframe tbody tr th:only-of-type {\n",
       "        vertical-align: middle;\n",
       "    }\n",
       "\n",
       "    .dataframe tbody tr th {\n",
       "        vertical-align: top;\n",
       "    }\n",
       "\n",
       "    .dataframe thead th {\n",
       "        text-align: right;\n",
       "    }\n",
       "</style>\n",
       "<table border=\"1\" class=\"dataframe\">\n",
       "  <thead>\n",
       "    <tr style=\"text-align: right;\">\n",
       "      <th></th>\n",
       "      <th>loan_amnt</th>\n",
       "      <th>term</th>\n",
       "      <th>int_rate</th>\n",
       "      <th>installment</th>\n",
       "      <th>emp_length</th>\n",
       "      <th>annual_inc</th>\n",
       "      <th>issue_d</th>\n",
       "      <th>loan_status</th>\n",
       "      <th>purpose</th>\n",
       "      <th>title</th>\n",
       "      <th>...</th>\n",
       "      <th>C</th>\n",
       "      <th>D</th>\n",
       "      <th>E</th>\n",
       "      <th>F</th>\n",
       "      <th>G</th>\n",
       "      <th>OTHER</th>\n",
       "      <th>OWN</th>\n",
       "      <th>RENT</th>\n",
       "      <th>Source Verified</th>\n",
       "      <th>Verified</th>\n",
       "    </tr>\n",
       "  </thead>\n",
       "  <tbody>\n",
       "    <tr>\n",
       "      <th>0</th>\n",
       "      <td>10000.0</td>\n",
       "      <td>0</td>\n",
       "      <td>11.44</td>\n",
       "      <td>329.48</td>\n",
       "      <td>10</td>\n",
       "      <td>117000.0</td>\n",
       "      <td>Jan-2015</td>\n",
       "      <td>Fully Paid</td>\n",
       "      <td>vacation</td>\n",
       "      <td>Vacation</td>\n",
       "      <td>...</td>\n",
       "      <td>0</td>\n",
       "      <td>0</td>\n",
       "      <td>0</td>\n",
       "      <td>0</td>\n",
       "      <td>0</td>\n",
       "      <td>0</td>\n",
       "      <td>0</td>\n",
       "      <td>1</td>\n",
       "      <td>0</td>\n",
       "      <td>0</td>\n",
       "    </tr>\n",
       "  </tbody>\n",
       "</table>\n",
       "<p>1 rows × 33 columns</p>\n",
       "</div>"
      ],
      "text/plain": [
       "   loan_amnt  term  int_rate  installment  emp_length  annual_inc   issue_d  \\\n",
       "0    10000.0     0     11.44       329.48          10    117000.0  Jan-2015   \n",
       "\n",
       "  loan_status   purpose     title  ...  C  D  E  F  G  OTHER  OWN RENT  \\\n",
       "0  Fully Paid  vacation  Vacation  ...  0  0  0  0  0      0    0    1   \n",
       "\n",
       "  Source Verified  Verified  \n",
       "0               0         0  \n",
       "\n",
       "[1 rows x 33 columns]"
      ]
     },
     "execution_count": 47,
     "metadata": {},
     "output_type": "execute_result"
    }
   ],
   "source": [
    "df.drop('verification_status', axis=1, inplace=True)\n",
    "df.head(1)"
   ]
  },
  {
   "cell_type": "code",
   "execution_count": 48,
   "metadata": {},
   "outputs": [
    {
     "name": "stdout",
     "output_type": "stream",
     "text": [
      "The month which the loan was funded\n"
     ]
    }
   ],
   "source": [
    "feat_info('issue_d')"
   ]
  },
  {
   "cell_type": "code",
   "execution_count": 49,
   "metadata": {},
   "outputs": [
    {
     "data": {
      "text/html": [
       "<div>\n",
       "<style scoped>\n",
       "    .dataframe tbody tr th:only-of-type {\n",
       "        vertical-align: middle;\n",
       "    }\n",
       "\n",
       "    .dataframe tbody tr th {\n",
       "        vertical-align: top;\n",
       "    }\n",
       "\n",
       "    .dataframe thead th {\n",
       "        text-align: right;\n",
       "    }\n",
       "</style>\n",
       "<table border=\"1\" class=\"dataframe\">\n",
       "  <thead>\n",
       "    <tr style=\"text-align: right;\">\n",
       "      <th></th>\n",
       "      <th>loan_amnt</th>\n",
       "      <th>term</th>\n",
       "      <th>int_rate</th>\n",
       "      <th>installment</th>\n",
       "      <th>emp_length</th>\n",
       "      <th>annual_inc</th>\n",
       "      <th>loan_status</th>\n",
       "      <th>purpose</th>\n",
       "      <th>title</th>\n",
       "      <th>dti</th>\n",
       "      <th>...</th>\n",
       "      <th>C</th>\n",
       "      <th>D</th>\n",
       "      <th>E</th>\n",
       "      <th>F</th>\n",
       "      <th>G</th>\n",
       "      <th>OTHER</th>\n",
       "      <th>OWN</th>\n",
       "      <th>RENT</th>\n",
       "      <th>Source Verified</th>\n",
       "      <th>Verified</th>\n",
       "    </tr>\n",
       "  </thead>\n",
       "  <tbody>\n",
       "    <tr>\n",
       "      <th>0</th>\n",
       "      <td>10000.0</td>\n",
       "      <td>0</td>\n",
       "      <td>11.44</td>\n",
       "      <td>329.48</td>\n",
       "      <td>10</td>\n",
       "      <td>117000.0</td>\n",
       "      <td>Fully Paid</td>\n",
       "      <td>vacation</td>\n",
       "      <td>Vacation</td>\n",
       "      <td>26.24</td>\n",
       "      <td>...</td>\n",
       "      <td>0</td>\n",
       "      <td>0</td>\n",
       "      <td>0</td>\n",
       "      <td>0</td>\n",
       "      <td>0</td>\n",
       "      <td>0</td>\n",
       "      <td>0</td>\n",
       "      <td>1</td>\n",
       "      <td>0</td>\n",
       "      <td>0</td>\n",
       "    </tr>\n",
       "  </tbody>\n",
       "</table>\n",
       "<p>1 rows × 32 columns</p>\n",
       "</div>"
      ],
      "text/plain": [
       "   loan_amnt  term  int_rate  installment  emp_length  annual_inc loan_status  \\\n",
       "0    10000.0     0     11.44       329.48          10    117000.0  Fully Paid   \n",
       "\n",
       "    purpose     title    dti  ...  C  D  E  F  G  OTHER OWN RENT  \\\n",
       "0  vacation  Vacation  26.24  ...  0  0  0  0  0      0   0    1   \n",
       "\n",
       "   Source Verified  Verified  \n",
       "0                0         0  \n",
       "\n",
       "[1 rows x 32 columns]"
      ]
     },
     "execution_count": 49,
     "metadata": {},
     "output_type": "execute_result"
    }
   ],
   "source": [
    "df.drop('issue_d', axis=1, inplace=True)\n",
    "df.head(1)"
   ]
  },
  {
   "cell_type": "code",
   "execution_count": 50,
   "metadata": {},
   "outputs": [
    {
     "data": {
      "text/html": [
       "<div>\n",
       "<style scoped>\n",
       "    .dataframe tbody tr th:only-of-type {\n",
       "        vertical-align: middle;\n",
       "    }\n",
       "\n",
       "    .dataframe tbody tr th {\n",
       "        vertical-align: top;\n",
       "    }\n",
       "\n",
       "    .dataframe thead th {\n",
       "        text-align: right;\n",
       "    }\n",
       "</style>\n",
       "<table border=\"1\" class=\"dataframe\">\n",
       "  <thead>\n",
       "    <tr style=\"text-align: right;\">\n",
       "      <th></th>\n",
       "      <th>Fully Paid</th>\n",
       "    </tr>\n",
       "  </thead>\n",
       "  <tbody>\n",
       "    <tr>\n",
       "      <th>0</th>\n",
       "      <td>1</td>\n",
       "    </tr>\n",
       "    <tr>\n",
       "      <th>1</th>\n",
       "      <td>1</td>\n",
       "    </tr>\n",
       "    <tr>\n",
       "      <th>2</th>\n",
       "      <td>1</td>\n",
       "    </tr>\n",
       "    <tr>\n",
       "      <th>3</th>\n",
       "      <td>1</td>\n",
       "    </tr>\n",
       "    <tr>\n",
       "      <th>4</th>\n",
       "      <td>0</td>\n",
       "    </tr>\n",
       "    <tr>\n",
       "      <th>...</th>\n",
       "      <td>...</td>\n",
       "    </tr>\n",
       "    <tr>\n",
       "      <th>396025</th>\n",
       "      <td>1</td>\n",
       "    </tr>\n",
       "    <tr>\n",
       "      <th>396026</th>\n",
       "      <td>1</td>\n",
       "    </tr>\n",
       "    <tr>\n",
       "      <th>396027</th>\n",
       "      <td>1</td>\n",
       "    </tr>\n",
       "    <tr>\n",
       "      <th>396028</th>\n",
       "      <td>1</td>\n",
       "    </tr>\n",
       "    <tr>\n",
       "      <th>396029</th>\n",
       "      <td>1</td>\n",
       "    </tr>\n",
       "  </tbody>\n",
       "</table>\n",
       "<p>396030 rows × 1 columns</p>\n",
       "</div>"
      ],
      "text/plain": [
       "        Fully Paid\n",
       "0                1\n",
       "1                1\n",
       "2                1\n",
       "3                1\n",
       "4                0\n",
       "...            ...\n",
       "396025           1\n",
       "396026           1\n",
       "396027           1\n",
       "396028           1\n",
       "396029           1\n",
       "\n",
       "[396030 rows x 1 columns]"
      ]
     },
     "execution_count": 50,
     "metadata": {},
     "output_type": "execute_result"
    }
   ],
   "source": [
    "y = pd.get_dummies(df['loan_status'], drop_first=True)\n",
    "y"
   ]
  },
  {
   "cell_type": "code",
   "execution_count": 51,
   "metadata": {},
   "outputs": [],
   "source": [
    "df.drop('loan_status', axis=1, inplace=True)"
   ]
  },
  {
   "cell_type": "code",
   "execution_count": 52,
   "metadata": {},
   "outputs": [
    {
     "data": {
      "text/html": [
       "<div>\n",
       "<style scoped>\n",
       "    .dataframe tbody tr th:only-of-type {\n",
       "        vertical-align: middle;\n",
       "    }\n",
       "\n",
       "    .dataframe tbody tr th {\n",
       "        vertical-align: top;\n",
       "    }\n",
       "\n",
       "    .dataframe thead th {\n",
       "        text-align: right;\n",
       "    }\n",
       "</style>\n",
       "<table border=\"1\" class=\"dataframe\">\n",
       "  <thead>\n",
       "    <tr style=\"text-align: right;\">\n",
       "      <th></th>\n",
       "      <th>loan_amnt</th>\n",
       "      <th>term</th>\n",
       "      <th>int_rate</th>\n",
       "      <th>installment</th>\n",
       "      <th>emp_length</th>\n",
       "      <th>annual_inc</th>\n",
       "      <th>purpose</th>\n",
       "      <th>title</th>\n",
       "      <th>dti</th>\n",
       "      <th>earliest_cr_line</th>\n",
       "      <th>...</th>\n",
       "      <th>C</th>\n",
       "      <th>D</th>\n",
       "      <th>E</th>\n",
       "      <th>F</th>\n",
       "      <th>G</th>\n",
       "      <th>OTHER</th>\n",
       "      <th>OWN</th>\n",
       "      <th>RENT</th>\n",
       "      <th>Source Verified</th>\n",
       "      <th>Verified</th>\n",
       "    </tr>\n",
       "  </thead>\n",
       "  <tbody>\n",
       "    <tr>\n",
       "      <th>0</th>\n",
       "      <td>10000.0</td>\n",
       "      <td>0</td>\n",
       "      <td>11.44</td>\n",
       "      <td>329.48</td>\n",
       "      <td>10</td>\n",
       "      <td>117000.0</td>\n",
       "      <td>vacation</td>\n",
       "      <td>Vacation</td>\n",
       "      <td>26.24</td>\n",
       "      <td>Jun-1990</td>\n",
       "      <td>...</td>\n",
       "      <td>0</td>\n",
       "      <td>0</td>\n",
       "      <td>0</td>\n",
       "      <td>0</td>\n",
       "      <td>0</td>\n",
       "      <td>0</td>\n",
       "      <td>0</td>\n",
       "      <td>1</td>\n",
       "      <td>0</td>\n",
       "      <td>0</td>\n",
       "    </tr>\n",
       "  </tbody>\n",
       "</table>\n",
       "<p>1 rows × 31 columns</p>\n",
       "</div>"
      ],
      "text/plain": [
       "   loan_amnt  term  int_rate  installment  emp_length  annual_inc   purpose  \\\n",
       "0    10000.0     0     11.44       329.48          10    117000.0  vacation   \n",
       "\n",
       "      title    dti earliest_cr_line  ...  C  D  E  F  G OTHER OWN  RENT  \\\n",
       "0  Vacation  26.24         Jun-1990  ...  0  0  0  0  0     0   0     1   \n",
       "\n",
       "   Source Verified Verified  \n",
       "0                0        0  \n",
       "\n",
       "[1 rows x 31 columns]"
      ]
     },
     "execution_count": 52,
     "metadata": {},
     "output_type": "execute_result"
    }
   ],
   "source": [
    "df.head(1)"
   ]
  },
  {
   "cell_type": "code",
   "execution_count": 53,
   "metadata": {},
   "outputs": [],
   "source": [
    "df.drop('purpose', axis=1, inplace=True)"
   ]
  },
  {
   "cell_type": "code",
   "execution_count": 54,
   "metadata": {},
   "outputs": [],
   "source": [
    "df.drop('title', axis=1, inplace=True)"
   ]
  },
  {
   "cell_type": "code",
   "execution_count": 55,
   "metadata": {},
   "outputs": [
    {
     "data": {
      "text/html": [
       "<div>\n",
       "<style scoped>\n",
       "    .dataframe tbody tr th:only-of-type {\n",
       "        vertical-align: middle;\n",
       "    }\n",
       "\n",
       "    .dataframe tbody tr th {\n",
       "        vertical-align: top;\n",
       "    }\n",
       "\n",
       "    .dataframe thead th {\n",
       "        text-align: right;\n",
       "    }\n",
       "</style>\n",
       "<table border=\"1\" class=\"dataframe\">\n",
       "  <thead>\n",
       "    <tr style=\"text-align: right;\">\n",
       "      <th></th>\n",
       "      <th>loan_amnt</th>\n",
       "      <th>term</th>\n",
       "      <th>int_rate</th>\n",
       "      <th>installment</th>\n",
       "      <th>emp_length</th>\n",
       "      <th>annual_inc</th>\n",
       "      <th>dti</th>\n",
       "      <th>earliest_cr_line</th>\n",
       "      <th>open_acc</th>\n",
       "      <th>pub_rec</th>\n",
       "      <th>...</th>\n",
       "      <th>C</th>\n",
       "      <th>D</th>\n",
       "      <th>E</th>\n",
       "      <th>F</th>\n",
       "      <th>G</th>\n",
       "      <th>OTHER</th>\n",
       "      <th>OWN</th>\n",
       "      <th>RENT</th>\n",
       "      <th>Source Verified</th>\n",
       "      <th>Verified</th>\n",
       "    </tr>\n",
       "  </thead>\n",
       "  <tbody>\n",
       "    <tr>\n",
       "      <th>0</th>\n",
       "      <td>10000.0</td>\n",
       "      <td>0</td>\n",
       "      <td>11.44</td>\n",
       "      <td>329.48</td>\n",
       "      <td>10</td>\n",
       "      <td>117000.0</td>\n",
       "      <td>26.24</td>\n",
       "      <td>Jun-1990</td>\n",
       "      <td>16.0</td>\n",
       "      <td>0.0</td>\n",
       "      <td>...</td>\n",
       "      <td>0</td>\n",
       "      <td>0</td>\n",
       "      <td>0</td>\n",
       "      <td>0</td>\n",
       "      <td>0</td>\n",
       "      <td>0</td>\n",
       "      <td>0</td>\n",
       "      <td>1</td>\n",
       "      <td>0</td>\n",
       "      <td>0</td>\n",
       "    </tr>\n",
       "  </tbody>\n",
       "</table>\n",
       "<p>1 rows × 29 columns</p>\n",
       "</div>"
      ],
      "text/plain": [
       "   loan_amnt  term  int_rate  installment  emp_length  annual_inc    dti  \\\n",
       "0    10000.0     0     11.44       329.48          10    117000.0  26.24   \n",
       "\n",
       "  earliest_cr_line  open_acc  pub_rec  ...  C  D  E  F  G  OTHER  OWN RENT  \\\n",
       "0         Jun-1990      16.0      0.0  ...  0  0  0  0  0      0    0    1   \n",
       "\n",
       "   Source Verified  Verified  \n",
       "0                0         0  \n",
       "\n",
       "[1 rows x 29 columns]"
      ]
     },
     "execution_count": 55,
     "metadata": {},
     "output_type": "execute_result"
    }
   ],
   "source": [
    "df.head(1)"
   ]
  },
  {
   "cell_type": "code",
   "execution_count": 56,
   "metadata": {},
   "outputs": [
    {
     "name": "stdout",
     "output_type": "stream",
     "text": [
      "A ratio calculated using the borrower’s total monthly debt payments on the total debt obligations, excluding mortgage and the requested LC loan, divided by the borrower’s self-reported monthly income.\n"
     ]
    }
   ],
   "source": [
    "feat_info('dti')"
   ]
  },
  {
   "cell_type": "code",
   "execution_count": 57,
   "metadata": {},
   "outputs": [
    {
     "data": {
      "text/plain": [
       "0         26.24\n",
       "1         22.05\n",
       "2         12.79\n",
       "3          2.60\n",
       "4         33.95\n",
       "          ...  \n",
       "396025    15.63\n",
       "396026    21.45\n",
       "396027    17.56\n",
       "396028    15.88\n",
       "396029     8.32\n",
       "Name: dti, Length: 396030, dtype: float64"
      ]
     },
     "execution_count": 57,
     "metadata": {},
     "output_type": "execute_result"
    }
   ],
   "source": [
    "df['dti']"
   ]
  },
  {
   "cell_type": "code",
   "execution_count": 58,
   "metadata": {},
   "outputs": [
    {
     "name": "stdout",
     "output_type": "stream",
     "text": [
      "The month the borrower's earliest reported credit line was opened\n"
     ]
    }
   ],
   "source": [
    "feat_info('earliest_cr_line')"
   ]
  },
  {
   "cell_type": "code",
   "execution_count": 59,
   "metadata": {},
   "outputs": [],
   "source": [
    "df.drop('earliest_cr_line', axis=1, inplace=True)"
   ]
  },
  {
   "cell_type": "code",
   "execution_count": 60,
   "metadata": {},
   "outputs": [
    {
     "name": "stdout",
     "output_type": "stream",
     "text": [
      "The number of open credit lines in the borrower's credit file.\n"
     ]
    }
   ],
   "source": [
    "feat_info('open_acc')"
   ]
  },
  {
   "cell_type": "code",
   "execution_count": 61,
   "metadata": {},
   "outputs": [
    {
     "data": {
      "text/plain": [
       "<AxesSubplot:>"
      ]
     },
     "execution_count": 61,
     "metadata": {},
     "output_type": "execute_result"
    },
    {
     "data": {
      "image/png": "[encoded data removed]",
      "text/plain": [
       "<Figure size 432x288 with 1 Axes>"
      ]
     },
     "metadata": {},
     "output_type": "display_data"
    }
   ],
   "source": [
    "sns.set_style('darkgrid')\n",
    "df['open_acc'].hist(bins=30)"
   ]
  },
  {
   "cell_type": "code",
   "execution_count": 62,
   "metadata": {},
   "outputs": [
    {
     "data": {
      "text/plain": [
       "Index(['loan_amnt', 'term', 'int_rate', 'installment', 'emp_length',\n",
       "       'annual_inc', 'dti', 'open_acc', 'pub_rec', 'revol_bal', 'revol_util',\n",
       "       'total_acc', 'initial_list_status', 'application_type', 'mort_acc',\n",
       "       'pub_rec_bankruptcies', 'address', 'B', 'C', 'D', 'E', 'F', 'G',\n",
       "       'OTHER', 'OWN', 'RENT', 'Source Verified', 'Verified'],\n",
       "      dtype='object')"
      ]
     },
     "execution_count": 62,
     "metadata": {},
     "output_type": "execute_result"
    }
   ],
   "source": [
    "df.columns"
   ]
  },
  {
   "cell_type": "code",
   "execution_count": 63,
   "metadata": {},
   "outputs": [
    {
     "name": "stdout",
     "output_type": "stream",
     "text": [
      "Number of derogatory public records\n"
     ]
    }
   ],
   "source": [
    "feat_info('pub_rec')"
   ]
  },
  {
   "cell_type": "code",
   "execution_count": 64,
   "metadata": {},
   "outputs": [
    {
     "data": {
      "text/plain": [
       "0.0     338272\n",
       "1.0      49739\n",
       "2.0       5476\n",
       "3.0       1521\n",
       "4.0        527\n",
       "5.0        237\n",
       "6.0        122\n",
       "7.0         56\n",
       "8.0         34\n",
       "9.0         12\n",
       "10.0        11\n",
       "11.0         8\n",
       "13.0         4\n",
       "12.0         4\n",
       "19.0         2\n",
       "86.0         1\n",
       "40.0         1\n",
       "17.0         1\n",
       "15.0         1\n",
       "24.0         1\n",
       "Name: pub_rec, dtype: int64"
      ]
     },
     "execution_count": 64,
     "metadata": {},
     "output_type": "execute_result"
    }
   ],
   "source": [
    "df['pub_rec'].value_counts()"
   ]
  },
  {
   "cell_type": "code",
   "execution_count": 65,
   "metadata": {},
   "outputs": [
    {
     "name": "stdout",
     "output_type": "stream",
     "text": [
      "Total credit revolving balance\n"
     ]
    }
   ],
   "source": [
    "feat_info('revol_bal')"
   ]
  },
  {
   "cell_type": "code",
   "execution_count": 66,
   "metadata": {},
   "outputs": [
    {
     "data": {
      "text/plain": [
       "0         36369.0\n",
       "1         20131.0\n",
       "2         11987.0\n",
       "3          5472.0\n",
       "4         24584.0\n",
       "           ...   \n",
       "396025     1990.0\n",
       "396026    43263.0\n",
       "396027    32704.0\n",
       "396028    15704.0\n",
       "396029     4292.0\n",
       "Name: revol_bal, Length: 396030, dtype: float64"
      ]
     },
     "execution_count": 66,
     "metadata": {},
     "output_type": "execute_result"
    }
   ],
   "source": [
    "df['revol_bal']"
   ]
  },
  {
   "cell_type": "code",
   "execution_count": 67,
   "metadata": {},
   "outputs": [
    {
     "name": "stdout",
     "output_type": "stream",
     "text": [
      "Revolving line utilization rate, or the amount of credit the borrower is using relative to all available revolving credit.\n"
     ]
    }
   ],
   "source": [
    "feat_info('revol_util')"
   ]
  },
  {
   "cell_type": "code",
   "execution_count": 68,
   "metadata": {},
   "outputs": [
    {
     "data": {
      "text/plain": [
       "(0.0, 150.0)"
      ]
     },
     "execution_count": 68,
     "metadata": {},
     "output_type": "execute_result"
    },
    {
     "data": {
      "image/png": "[encoded data removed]",
      "text/plain": [
       "<Figure size 432x288 with 1 Axes>"
      ]
     },
     "metadata": {},
     "output_type": "display_data"
    }
   ],
   "source": [
    "df['revol_util'].hist(bins=100)\n",
    "plt.xlim([0,150])"
   ]
  },
  {
   "cell_type": "code",
   "execution_count": 69,
   "metadata": {},
   "outputs": [
    {
     "data": {
      "text/plain": [
       "Index(['loan_amnt', 'term', 'int_rate', 'installment', 'emp_length',\n",
       "       'annual_inc', 'dti', 'open_acc', 'pub_rec', 'revol_bal', 'revol_util',\n",
       "       'total_acc', 'initial_list_status', 'application_type', 'mort_acc',\n",
       "       'pub_rec_bankruptcies', 'address', 'B', 'C', 'D', 'E', 'F', 'G',\n",
       "       'OTHER', 'OWN', 'RENT', 'Source Verified', 'Verified'],\n",
       "      dtype='object')"
      ]
     },
     "execution_count": 69,
     "metadata": {},
     "output_type": "execute_result"
    }
   ],
   "source": [
    "df.columns"
   ]
  },
  {
   "cell_type": "code",
   "execution_count": 70,
   "metadata": {},
   "outputs": [
    {
     "name": "stdout",
     "output_type": "stream",
     "text": [
      "The total number of credit lines currently in the borrower's credit file\n"
     ]
    }
   ],
   "source": [
    "feat_info('total_acc')"
   ]
  },
  {
   "cell_type": "code",
   "execution_count": 71,
   "metadata": {},
   "outputs": [
    {
     "name": "stdout",
     "output_type": "stream",
     "text": [
      "The number of open credit lines in the borrower's credit file.\n"
     ]
    }
   ],
   "source": [
    "feat_info('open_acc')"
   ]
  },
  {
   "cell_type": "code",
   "execution_count": 72,
   "metadata": {},
   "outputs": [
    {
     "data": {
      "text/plain": [
       "<AxesSubplot:>"
      ]
     },
     "execution_count": 72,
     "metadata": {},
     "output_type": "execute_result"
    },
    {
     "data": {
      "image/png": "[encoded data removed]",
      "text/plain": [
       "<Figure size 432x288 with 1 Axes>"
      ]
     },
     "metadata": {},
     "output_type": "display_data"
    }
   ],
   "source": [
    "df['total_acc'].hist(bins=50)"
   ]
  },
  {
   "cell_type": "code",
   "execution_count": 73,
   "metadata": {},
   "outputs": [
    {
     "name": "stdout",
     "output_type": "stream",
     "text": [
      "The initial listing status of the loan. Possible values are – W, F\n"
     ]
    }
   ],
   "source": [
    "feat_info('initial_list_status')"
   ]
  },
  {
   "cell_type": "code",
   "execution_count": 74,
   "metadata": {},
   "outputs": [
    {
     "data": {
      "text/plain": [
       "f    238066\n",
       "w    157964\n",
       "Name: initial_list_status, dtype: int64"
      ]
     },
     "execution_count": 74,
     "metadata": {},
     "output_type": "execute_result"
    }
   ],
   "source": [
    "df['initial_list_status'].value_counts()"
   ]
  },
  {
   "cell_type": "code",
   "execution_count": 75,
   "metadata": {},
   "outputs": [
    {
     "data": {
      "text/html": [
       "<div>\n",
       "<style scoped>\n",
       "    .dataframe tbody tr th:only-of-type {\n",
       "        vertical-align: middle;\n",
       "    }\n",
       "\n",
       "    .dataframe tbody tr th {\n",
       "        vertical-align: top;\n",
       "    }\n",
       "\n",
       "    .dataframe thead th {\n",
       "        text-align: right;\n",
       "    }\n",
       "</style>\n",
       "<table border=\"1\" class=\"dataframe\">\n",
       "  <thead>\n",
       "    <tr style=\"text-align: right;\">\n",
       "      <th></th>\n",
       "      <th>w</th>\n",
       "    </tr>\n",
       "  </thead>\n",
       "  <tbody>\n",
       "    <tr>\n",
       "      <th>0</th>\n",
       "      <td>1</td>\n",
       "    </tr>\n",
       "    <tr>\n",
       "      <th>1</th>\n",
       "      <td>0</td>\n",
       "    </tr>\n",
       "    <tr>\n",
       "      <th>2</th>\n",
       "      <td>0</td>\n",
       "    </tr>\n",
       "    <tr>\n",
       "      <th>3</th>\n",
       "      <td>0</td>\n",
       "    </tr>\n",
       "    <tr>\n",
       "      <th>4</th>\n",
       "      <td>0</td>\n",
       "    </tr>\n",
       "    <tr>\n",
       "      <th>...</th>\n",
       "      <td>...</td>\n",
       "    </tr>\n",
       "    <tr>\n",
       "      <th>396025</th>\n",
       "      <td>1</td>\n",
       "    </tr>\n",
       "    <tr>\n",
       "      <th>396026</th>\n",
       "      <td>0</td>\n",
       "    </tr>\n",
       "    <tr>\n",
       "      <th>396027</th>\n",
       "      <td>0</td>\n",
       "    </tr>\n",
       "    <tr>\n",
       "      <th>396028</th>\n",
       "      <td>0</td>\n",
       "    </tr>\n",
       "    <tr>\n",
       "      <th>396029</th>\n",
       "      <td>0</td>\n",
       "    </tr>\n",
       "  </tbody>\n",
       "</table>\n",
       "<p>396030 rows × 1 columns</p>\n",
       "</div>"
      ],
      "text/plain": [
       "        w\n",
       "0       1\n",
       "1       0\n",
       "2       0\n",
       "3       0\n",
       "4       0\n",
       "...    ..\n",
       "396025  1\n",
       "396026  0\n",
       "396027  0\n",
       "396028  0\n",
       "396029  0\n",
       "\n",
       "[396030 rows x 1 columns]"
      ]
     },
     "execution_count": 75,
     "metadata": {},
     "output_type": "execute_result"
    }
   ],
   "source": [
    "pd.get_dummies(df['initial_list_status'], drop_first=True)"
   ]
  },
  {
   "cell_type": "code",
   "execution_count": 76,
   "metadata": {},
   "outputs": [],
   "source": [
    "df['initial_list_status'] = pd.get_dummies(df['initial_list_status'], drop_first=True)"
   ]
  },
  {
   "cell_type": "code",
   "execution_count": 77,
   "metadata": {},
   "outputs": [
    {
     "name": "stdout",
     "output_type": "stream",
     "text": [
      "Indicates whether the loan is an individual application or a joint application with two co-borrowers\n"
     ]
    }
   ],
   "source": [
    "feat_info('application_type')"
   ]
  },
  {
   "cell_type": "code",
   "execution_count": 78,
   "metadata": {},
   "outputs": [
    {
     "data": {
      "text/plain": [
       "INDIVIDUAL    395319\n",
       "JOINT            425\n",
       "DIRECT_PAY       286\n",
       "Name: application_type, dtype: int64"
      ]
     },
     "execution_count": 78,
     "metadata": {},
     "output_type": "execute_result"
    }
   ],
   "source": [
    "df['application_type'].value_counts()"
   ]
  },
  {
   "cell_type": "code",
   "execution_count": 79,
   "metadata": {},
   "outputs": [],
   "source": [
    "df.drop('application_type', axis=1, inplace=True)"
   ]
  },
  {
   "cell_type": "code",
   "execution_count": 80,
   "metadata": {},
   "outputs": [
    {
     "name": "stdout",
     "output_type": "stream",
     "text": [
      "Number of mortgage accounts.\n"
     ]
    }
   ],
   "source": [
    "feat_info('mort_acc')"
   ]
  },
  {
   "cell_type": "code",
   "execution_count": 81,
   "metadata": {},
   "outputs": [
    {
     "data": {
      "text/plain": [
       "<AxesSubplot:>"
      ]
     },
     "execution_count": 81,
     "metadata": {},
     "output_type": "execute_result"
    },
    {
     "data": {
      "image/png": "[encoded data removed]",
      "text/plain": [
       "<Figure size 432x288 with 1 Axes>"
      ]
     },
     "metadata": {},
     "output_type": "display_data"
    }
   ],
   "source": [
    "df['mort_acc'].value_counts().plot()"
   ]
  },
  {
   "cell_type": "code",
   "execution_count": 82,
   "metadata": {},
   "outputs": [
    {
     "data": {
      "text/plain": [
       "Index(['loan_amnt', 'term', 'int_rate', 'installment', 'emp_length',\n",
       "       'annual_inc', 'dti', 'open_acc', 'pub_rec', 'revol_bal', 'revol_util',\n",
       "       'total_acc', 'initial_list_status', 'mort_acc', 'pub_rec_bankruptcies',\n",
       "       'address', 'B', 'C', 'D', 'E', 'F', 'G', 'OTHER', 'OWN', 'RENT',\n",
       "       'Source Verified', 'Verified'],\n",
       "      dtype='object')"
      ]
     },
     "execution_count": 82,
     "metadata": {},
     "output_type": "execute_result"
    }
   ],
   "source": [
    "df.columns"
   ]
  },
  {
   "cell_type": "code",
   "execution_count": 83,
   "metadata": {},
   "outputs": [
    {
     "name": "stdout",
     "output_type": "stream",
     "text": [
      "Number of public record bankruptcies\n"
     ]
    }
   ],
   "source": [
    "feat_info('pub_rec_bankruptcies')"
   ]
  },
  {
   "cell_type": "code",
   "execution_count": 84,
   "metadata": {},
   "outputs": [
    {
     "data": {
      "text/plain": [
       "0.0    350380\n",
       "1.0     42790\n",
       "2.0      1847\n",
       "3.0       351\n",
       "4.0        82\n",
       "5.0        32\n",
       "6.0         7\n",
       "7.0         4\n",
       "8.0         2\n",
       "Name: pub_rec_bankruptcies, dtype: int64"
      ]
     },
     "execution_count": 84,
     "metadata": {},
     "output_type": "execute_result"
    }
   ],
   "source": [
    "df['pub_rec_bankruptcies'].value_counts()"
   ]
  },
  {
   "cell_type": "code",
   "execution_count": 85,
   "metadata": {},
   "outputs": [
    {
     "data": {
      "text/plain": [
       "False    395495\n",
       "True        535\n",
       "Name: pub_rec_bankruptcies, dtype: int64"
      ]
     },
     "execution_count": 85,
     "metadata": {},
     "output_type": "execute_result"
    }
   ],
   "source": [
    "df['pub_rec_bankruptcies'].isnull().value_counts()"
   ]
  },
  {
   "cell_type": "code",
   "execution_count": 86,
   "metadata": {},
   "outputs": [],
   "source": [
    "df['pub_rec_bankruptcies'].fillna(0,inplace=True)"
   ]
  },
  {
   "cell_type": "code",
   "execution_count": 87,
   "metadata": {},
   "outputs": [
    {
     "data": {
      "text/plain": [
       "False    396030\n",
       "Name: pub_rec_bankruptcies, dtype: int64"
      ]
     },
     "execution_count": 87,
     "metadata": {},
     "output_type": "execute_result"
    }
   ],
   "source": [
    "df['pub_rec_bankruptcies'].isnull().value_counts()"
   ]
  },
  {
   "cell_type": "code",
   "execution_count": 88,
   "metadata": {},
   "outputs": [
    {
     "data": {
      "text/plain": [
       "0         0.0\n",
       "1         0.0\n",
       "2         0.0\n",
       "3         0.0\n",
       "4         0.0\n",
       "         ... \n",
       "396025    0.0\n",
       "396026    0.0\n",
       "396027    0.0\n",
       "396028    0.0\n",
       "396029    0.0\n",
       "Name: pub_rec_bankruptcies, Length: 396030, dtype: float64"
      ]
     },
     "execution_count": 88,
     "metadata": {},
     "output_type": "execute_result"
    }
   ],
   "source": [
    "df['pub_rec_bankruptcies'].apply(lambda x: x if x == 0 else 1)"
   ]
  },
  {
   "cell_type": "code",
   "execution_count": 89,
   "metadata": {},
   "outputs": [
    {
     "data": {
      "text/plain": [
       "0.0    350915\n",
       "1.0     45115\n",
       "Name: pub_rec_bankruptcies, dtype: int64"
      ]
     },
     "execution_count": 89,
     "metadata": {},
     "output_type": "execute_result"
    }
   ],
   "source": [
    "df['pub_rec_bankruptcies'].apply(lambda x: x if x == 0 else 1).value_counts()"
   ]
  },
  {
   "cell_type": "code",
   "execution_count": 90,
   "metadata": {},
   "outputs": [],
   "source": [
    "df['bankrupt'] = df['pub_rec_bankruptcies'].apply(lambda x: x if x == 0 else 1)"
   ]
  },
  {
   "cell_type": "code",
   "execution_count": 91,
   "metadata": {},
   "outputs": [],
   "source": [
    "df.drop('pub_rec_bankruptcies', axis=1, inplace=True)"
   ]
  },
  {
   "cell_type": "code",
   "execution_count": 92,
   "metadata": {},
   "outputs": [
    {
     "data": {
      "text/plain": [
       "False    358235\n",
       "True      37795\n",
       "Name: mort_acc, dtype: int64"
      ]
     },
     "execution_count": 92,
     "metadata": {},
     "output_type": "execute_result"
    }
   ],
   "source": [
    "df['mort_acc'].isnull().value_counts()"
   ]
  },
  {
   "cell_type": "code",
   "execution_count": 93,
   "metadata": {},
   "outputs": [
    {
     "name": "stdout",
     "output_type": "stream",
     "text": [
      "Number of mortgage accounts.\n"
     ]
    }
   ],
   "source": [
    "feat_info('mort_acc')"
   ]
  },
  {
   "cell_type": "code",
   "execution_count": 94,
   "metadata": {},
   "outputs": [
    {
     "data": {
      "text/plain": [
       "1.8139908160844138"
      ]
     },
     "execution_count": 94,
     "metadata": {},
     "output_type": "execute_result"
    }
   ],
   "source": [
    "df['mort_acc'].mean()"
   ]
  },
  {
   "cell_type": "code",
   "execution_count": 95,
   "metadata": {},
   "outputs": [],
   "source": [
    "df['mort_acc'].fillna(df['mort_acc'].mean(), inplace=True)"
   ]
  },
  {
   "cell_type": "code",
   "execution_count": 96,
   "metadata": {},
   "outputs": [
    {
     "data": {
      "text/plain": [
       "Index(['loan_amnt', 'term', 'int_rate', 'installment', 'emp_length',\n",
       "       'annual_inc', 'dti', 'open_acc', 'pub_rec', 'revol_bal', 'revol_util',\n",
       "       'total_acc', 'initial_list_status', 'mort_acc', 'address', 'B', 'C',\n",
       "       'D', 'E', 'F', 'G', 'OTHER', 'OWN', 'RENT', 'Source Verified',\n",
       "       'Verified', 'bankrupt'],\n",
       "      dtype='object')"
      ]
     },
     "execution_count": 96,
     "metadata": {},
     "output_type": "execute_result"
    }
   ],
   "source": [
    "df.columns"
   ]
  },
  {
   "cell_type": "code",
   "execution_count": 97,
   "metadata": {},
   "outputs": [],
   "source": [
    "df.drop('address', axis=1, inplace=True)"
   ]
  },
  {
   "cell_type": "code",
   "execution_count": 98,
   "metadata": {},
   "outputs": [
    {
     "data": {
      "text/plain": [
       "<AxesSubplot:>"
      ]
     },
     "execution_count": 98,
     "metadata": {},
     "output_type": "execute_result"
    },
    {
     "data": {
      "image/png": "[encoded data removed]",
      "text/plain": [
       "<Figure size 1080x216 with 1 Axes>"
      ]
     },
     "metadata": {},
     "output_type": "display_data"
    }
   ],
   "source": [
    "plt.figure(figsize=(15,3))\n",
    "sns.heatmap(df.isnull(), cbar=False, yticklabels=False, cmap='viridis')"
   ]
  },
  {
   "cell_type": "code",
   "execution_count": 99,
   "metadata": {},
   "outputs": [
    {
     "data": {
      "text/plain": [
       "loan_amnt              False\n",
       "term                   False\n",
       "int_rate               False\n",
       "installment            False\n",
       "emp_length             False\n",
       "annual_inc             False\n",
       "dti                    False\n",
       "open_acc               False\n",
       "pub_rec                False\n",
       "revol_bal              False\n",
       "revol_util              True\n",
       "total_acc              False\n",
       "initial_list_status    False\n",
       "mort_acc               False\n",
       "B                      False\n",
       "C                      False\n",
       "D                      False\n",
       "E                      False\n",
       "F                      False\n",
       "G                      False\n",
       "OTHER                  False\n",
       "OWN                    False\n",
       "RENT                   False\n",
       "Source Verified        False\n",
       "Verified               False\n",
       "bankrupt               False\n",
       "dtype: bool"
      ]
     },
     "execution_count": 99,
     "metadata": {},
     "output_type": "execute_result"
    }
   ],
   "source": [
    "df.isnull().any()"
   ]
  },
  {
   "cell_type": "code",
   "execution_count": 100,
   "metadata": {},
   "outputs": [
    {
     "data": {
      "text/plain": [
       "53.79174863677853"
      ]
     },
     "execution_count": 100,
     "metadata": {},
     "output_type": "execute_result"
    }
   ],
   "source": [
    "df['revol_util'].mean()"
   ]
  },
  {
   "cell_type": "code",
   "execution_count": 101,
   "metadata": {},
   "outputs": [],
   "source": [
    "df['revol_util'].fillna(df['revol_util'].mean(), inplace=True)"
   ]
  },
  {
   "cell_type": "code",
   "execution_count": 102,
   "metadata": {},
   "outputs": [
    {
     "data": {
      "text/plain": [
       "loan_amnt              False\n",
       "term                   False\n",
       "int_rate               False\n",
       "installment            False\n",
       "emp_length             False\n",
       "annual_inc             False\n",
       "dti                    False\n",
       "open_acc               False\n",
       "pub_rec                False\n",
       "revol_bal              False\n",
       "revol_util             False\n",
       "total_acc              False\n",
       "initial_list_status    False\n",
       "mort_acc               False\n",
       "B                      False\n",
       "C                      False\n",
       "D                      False\n",
       "E                      False\n",
       "F                      False\n",
       "G                      False\n",
       "OTHER                  False\n",
       "OWN                    False\n",
       "RENT                   False\n",
       "Source Verified        False\n",
       "Verified               False\n",
       "bankrupt               False\n",
       "dtype: bool"
      ]
     },
     "execution_count": 102,
     "metadata": {},
     "output_type": "execute_result"
    }
   ],
   "source": [
    "df.isnull().any()"
   ]
  },
  {
   "cell_type": "code",
   "execution_count": 103,
   "metadata": {},
   "outputs": [],
   "source": [
    "X = df"
   ]
  },
  {
   "cell_type": "code",
   "execution_count": 104,
   "metadata": {},
   "outputs": [],
   "source": [
    "X = X.values\n",
    "y = y.values"
   ]
  },
  {
   "cell_type": "code",
   "execution_count": 105,
   "metadata": {},
   "outputs": [],
   "source": [
    "from sklearn.model_selection import train_test_split"
   ]
  },
  {
   "cell_type": "code",
   "execution_count": 106,
   "metadata": {},
   "outputs": [],
   "source": [
    "X_train, X_test, y_train, y_test = train_test_split(X, y, test_size=0.2, random_state=42)"
   ]
  },
  {
   "cell_type": "markdown",
   "metadata": {},
   "source": [
    "### Creating the model"
   ]
  },
  {
   "cell_type": "code",
   "execution_count": 107,
   "metadata": {},
   "outputs": [],
   "source": [
    "from sklearn.preprocessing import MinMaxScaler"
   ]
  },
  {
   "cell_type": "code",
   "execution_count": 108,
   "metadata": {},
   "outputs": [],
   "source": [
    "scaler = MinMaxScaler()"
   ]
  },
  {
   "cell_type": "code",
   "execution_count": 109,
   "metadata": {},
   "outputs": [
    {
     "data": {
      "text/plain": [
       "MinMaxScaler()"
      ]
     },
     "execution_count": 109,
     "metadata": {},
     "output_type": "execute_result"
    }
   ],
   "source": [
    "scaler.fit(X_train)"
   ]
  },
  {
   "cell_type": "code",
   "execution_count": 110,
   "metadata": {},
   "outputs": [],
   "source": [
    "X_train = scaler.transform(X_train)\n",
    "X_test = scaler.transform(X_test)"
   ]
  },
  {
   "cell_type": "code",
   "execution_count": 111,
   "metadata": {},
   "outputs": [],
   "source": [
    "from tensorflow.keras.models import Sequential\n",
    "from tensorflow.keras.layers import Dense, Dropout"
   ]
  },
  {
   "cell_type": "code",
   "execution_count": 124,
   "metadata": {},
   "outputs": [],
   "source": [
    "from tensorflow.keras.callbacks import EarlyStopping"
   ]
  },
  {
   "cell_type": "code",
   "execution_count": 112,
   "metadata": {},
   "outputs": [
    {
     "data": {
      "text/plain": [
       "(396030, 26)"
      ]
     },
     "execution_count": 112,
     "metadata": {},
     "output_type": "execute_result"
    }
   ],
   "source": [
    "X.shape"
   ]
  },
  {
   "cell_type": "code",
   "execution_count": 148,
   "metadata": {},
   "outputs": [],
   "source": [
    "model = Sequential()\n",
    "\n",
    "model.add(Dense(26, activation='relu'))\n",
    "#model.add(Dropout(0.5))\n",
    "\n",
    "model.add(Dense(26, activation='relu'))\n",
    "#model.add(Dropout(0.5))\n",
    "\n",
    "model.add(Dense(20, activation='relu'))\n",
    "#model.add(Dropout(0.5))\n",
    "\n",
    "model.add(Dense(14, activation='relu'))\n",
    "#model.add(Dropout(0.5))\n",
    "\n",
    "# BINARY CLASSIFICATION\n",
    "model.add(Dense(1, activation='sigmoid'))\n",
    "\n",
    "model.compile(loss='binary_crossentropy', optimizer='adam')"
   ]
  },
  {
   "cell_type": "code",
   "execution_count": 149,
   "metadata": {},
   "outputs": [],
   "source": [
    "early_stop = EarlyStopping(monitor='val_loss', mode='min', verbose=1, patience=25)"
   ]
  },
  {
   "cell_type": "code",
   "execution_count": 150,
   "metadata": {},
   "outputs": [
    {
     "name": "stdout",
     "output_type": "stream",
     "text": [
      "Epoch 1/1000\n",
      "20/20 [==============================] - 3s 65ms/step - loss: 0.6653 - val_loss: 0.6040\n",
      "Epoch 2/1000\n",
      "20/20 [==============================] - 1s 28ms/step - loss: 0.5564 - val_loss: 0.5124\n",
      "Epoch 3/1000\n",
      "20/20 [==============================] - 0s 20ms/step - loss: 0.5025 - val_loss: 0.4976\n",
      "Epoch 4/1000\n",
      "20/20 [==============================] - 0s 20ms/step - loss: 0.4904 - val_loss: 0.4875\n",
      "Epoch 5/1000\n",
      "20/20 [==============================] - 0s 21ms/step - loss: 0.4816 - val_loss: 0.4801\n",
      "Epoch 6/1000\n",
      "20/20 [==============================] - 0s 19ms/step - loss: 0.4749 - val_loss: 0.4748\n",
      "Epoch 7/1000\n",
      "20/20 [==============================] - 0s 20ms/step - loss: 0.4702 - val_loss: 0.4709\n",
      "Epoch 8/1000\n",
      "20/20 [==============================] - 0s 20ms/step - loss: 0.4665 - val_loss: 0.4675\n",
      "Epoch 9/1000\n",
      "20/20 [==============================] - 0s 21ms/step - loss: 0.4633 - val_loss: 0.4647\n",
      "Epoch 10/1000\n",
      "20/20 [==============================] - 0s 22ms/step - loss: 0.4606 - val_loss: 0.4622\n",
      "Epoch 11/1000\n",
      "20/20 [==============================] - 0s 20ms/step - loss: 0.4585 - val_loss: 0.4608\n",
      "Epoch 12/1000\n",
      "20/20 [==============================] - 0s 20ms/step - loss: 0.4574 - val_loss: 0.4599\n",
      "Epoch 13/1000\n",
      "20/20 [==============================] - 0s 20ms/step - loss: 0.4567 - val_loss: 0.4593\n",
      "Epoch 14/1000\n",
      "20/20 [==============================] - 0s 25ms/step - loss: 0.4563 - val_loss: 0.4589\n",
      "Epoch 15/1000\n",
      "20/20 [==============================] - 0s 20ms/step - loss: 0.4559 - val_loss: 0.4587\n",
      "Epoch 16/1000\n",
      "20/20 [==============================] - 0s 20ms/step - loss: 0.4557 - val_loss: 0.4585\n",
      "Epoch 17/1000\n",
      "20/20 [==============================] - 0s 22ms/step - loss: 0.4554 - val_loss: 0.4582\n",
      "Epoch 18/1000\n",
      "20/20 [==============================] - 0s 20ms/step - loss: 0.4552 - val_loss: 0.4581\n",
      "Epoch 19/1000\n",
      "20/20 [==============================] - 0s 19ms/step - loss: 0.4550 - val_loss: 0.4579\n",
      "Epoch 20/1000\n",
      "20/20 [==============================] - 0s 21ms/step - loss: 0.4549 - val_loss: 0.4578\n",
      "Epoch 21/1000\n",
      "20/20 [==============================] - 0s 20ms/step - loss: 0.4548 - val_loss: 0.4577\n",
      "Epoch 22/1000\n",
      "20/20 [==============================] - 0s 21ms/step - loss: 0.4546 - val_loss: 0.4576\n",
      "Epoch 23/1000\n",
      "20/20 [==============================] - 0s 21ms/step - loss: 0.4544 - val_loss: 0.4575\n",
      "Epoch 24/1000\n",
      "20/20 [==============================] - 0s 20ms/step - loss: 0.4544 - val_loss: 0.4574\n",
      "Epoch 25/1000\n",
      "20/20 [==============================] - 0s 20ms/step - loss: 0.4543 - val_loss: 0.4573\n",
      "Epoch 26/1000\n",
      "20/20 [==============================] - 0s 21ms/step - loss: 0.4542 - val_loss: 0.4573\n",
      "Epoch 27/1000\n",
      "20/20 [==============================] - 0s 21ms/step - loss: 0.4540 - val_loss: 0.4571\n",
      "Epoch 28/1000\n",
      "20/20 [==============================] - 0s 20ms/step - loss: 0.4539 - val_loss: 0.4570\n",
      "Epoch 29/1000\n",
      "20/20 [==============================] - 0s 18ms/step - loss: 0.4538 - val_loss: 0.4569\n",
      "Epoch 30/1000\n",
      "20/20 [==============================] - 0s 23ms/step - loss: 0.4538 - val_loss: 0.4571\n",
      "Epoch 31/1000\n",
      "20/20 [==============================] - 0s 22ms/step - loss: 0.4537 - val_loss: 0.4568\n",
      "Epoch 32/1000\n",
      "20/20 [==============================] - 0s 19ms/step - loss: 0.4537 - val_loss: 0.4568\n",
      "Epoch 33/1000\n",
      "20/20 [==============================] - 0s 19ms/step - loss: 0.4535 - val_loss: 0.4569\n",
      "Epoch 34/1000\n",
      "20/20 [==============================] - 0s 19ms/step - loss: 0.4535 - val_loss: 0.4567\n",
      "Epoch 35/1000\n",
      "20/20 [==============================] - 0s 20ms/step - loss: 0.4535 - val_loss: 0.4567\n",
      "Epoch 36/1000\n",
      "20/20 [==============================] - 0s 21ms/step - loss: 0.4534 - val_loss: 0.4567\n",
      "Epoch 37/1000\n",
      "20/20 [==============================] - 0s 18ms/step - loss: 0.4532 - val_loss: 0.4566\n",
      "Epoch 38/1000\n",
      "20/20 [==============================] - 0s 21ms/step - loss: 0.4532 - val_loss: 0.4565\n",
      "Epoch 39/1000\n",
      "20/20 [==============================] - 0s 21ms/step - loss: 0.4531 - val_loss: 0.4564\n",
      "Epoch 40/1000\n",
      "20/20 [==============================] - 0s 24ms/step - loss: 0.4531 - val_loss: 0.4564\n",
      "Epoch 41/1000\n",
      "20/20 [==============================] - 0s 20ms/step - loss: 0.4530 - val_loss: 0.4565\n",
      "Epoch 42/1000\n",
      "20/20 [==============================] - 0s 20ms/step - loss: 0.4529 - val_loss: 0.4564\n",
      "Epoch 43/1000\n",
      "20/20 [==============================] - 0s 21ms/step - loss: 0.4529 - val_loss: 0.4564\n",
      "Epoch 44/1000\n",
      "20/20 [==============================] - 0s 20ms/step - loss: 0.4528 - val_loss: 0.4563\n",
      "Epoch 45/1000\n",
      "20/20 [==============================] - 0s 20ms/step - loss: 0.4527 - val_loss: 0.4562\n",
      "Epoch 46/1000\n",
      "20/20 [==============================] - 0s 21ms/step - loss: 0.4526 - val_loss: 0.4561\n",
      "Epoch 47/1000\n",
      "20/20 [==============================] - 1s 29ms/step - loss: 0.4526 - val_loss: 0.4561\n",
      "Epoch 48/1000\n",
      "20/20 [==============================] - 0s 22ms/step - loss: 0.4525 - val_loss: 0.4561\n",
      "Epoch 49/1000\n",
      "20/20 [==============================] - 0s 19ms/step - loss: 0.4525 - val_loss: 0.4560\n",
      "Epoch 50/1000\n",
      "20/20 [==============================] - 0s 20ms/step - loss: 0.4524 - val_loss: 0.4560\n",
      "Epoch 51/1000\n",
      "20/20 [==============================] - 0s 20ms/step - loss: 0.4524 - val_loss: 0.4561\n",
      "Epoch 52/1000\n",
      "20/20 [==============================] - 0s 19ms/step - loss: 0.4524 - val_loss: 0.4560\n",
      "Epoch 53/1000\n",
      "20/20 [==============================] - 0s 20ms/step - loss: 0.4523 - val_loss: 0.4560\n",
      "Epoch 54/1000\n",
      "20/20 [==============================] - 0s 19ms/step - loss: 0.4522 - val_loss: 0.4558\n",
      "Epoch 55/1000\n",
      "20/20 [==============================] - 0s 21ms/step - loss: 0.4522 - val_loss: 0.4558\n",
      "Epoch 56/1000\n",
      "20/20 [==============================] - 0s 20ms/step - loss: 0.4521 - val_loss: 0.4557\n",
      "Epoch 57/1000\n",
      "20/20 [==============================] - 0s 21ms/step - loss: 0.4521 - val_loss: 0.4558\n",
      "Epoch 58/1000\n",
      "20/20 [==============================] - 0s 21ms/step - loss: 0.4520 - val_loss: 0.4557\n",
      "Epoch 59/1000\n",
      "20/20 [==============================] - 0s 24ms/step - loss: 0.4520 - val_loss: 0.4557\n",
      "Epoch 60/1000\n",
      "20/20 [==============================] - 0s 24ms/step - loss: 0.4521 - val_loss: 0.4556\n",
      "Epoch 61/1000\n",
      "20/20 [==============================] - 0s 25ms/step - loss: 0.4519 - val_loss: 0.4557\n",
      "Epoch 62/1000\n",
      "20/20 [==============================] - 0s 25ms/step - loss: 0.4518 - val_loss: 0.4556\n",
      "Epoch 63/1000\n",
      "20/20 [==============================] - 1s 28ms/step - loss: 0.4519 - val_loss: 0.4555\n",
      "Epoch 64/1000\n",
      "20/20 [==============================] - 1s 39ms/step - loss: 0.4518 - val_loss: 0.4556\n",
      "Epoch 65/1000\n",
      "20/20 [==============================] - 0s 21ms/step - loss: 0.4517 - val_loss: 0.4557\n",
      "Epoch 66/1000\n",
      "20/20 [==============================] - 0s 21ms/step - loss: 0.4518 - val_loss: 0.4555\n",
      "Epoch 67/1000\n",
      "20/20 [==============================] - 0s 21ms/step - loss: 0.4516 - val_loss: 0.4555\n",
      "Epoch 68/1000\n",
      "20/20 [==============================] - 0s 21ms/step - loss: 0.4515 - val_loss: 0.4554\n",
      "Epoch 69/1000\n",
      "20/20 [==============================] - 0s 21ms/step - loss: 0.4515 - val_loss: 0.4554\n",
      "Epoch 70/1000\n",
      "20/20 [==============================] - 0s 23ms/step - loss: 0.4515 - val_loss: 0.4555\n",
      "Epoch 71/1000\n",
      "20/20 [==============================] - 0s 20ms/step - loss: 0.4516 - val_loss: 0.4555\n",
      "Epoch 72/1000\n",
      "20/20 [==============================] - 0s 20ms/step - loss: 0.4514 - val_loss: 0.4554\n",
      "Epoch 73/1000\n",
      "20/20 [==============================] - 0s 21ms/step - loss: 0.4514 - val_loss: 0.4553\n",
      "Epoch 74/1000\n",
      "20/20 [==============================] - 0s 21ms/step - loss: 0.4513 - val_loss: 0.4553\n",
      "Epoch 75/1000\n",
      "20/20 [==============================] - 0s 21ms/step - loss: 0.4512 - val_loss: 0.4552\n",
      "Epoch 76/1000\n",
      "20/20 [==============================] - 0s 20ms/step - loss: 0.4512 - val_loss: 0.4552\n",
      "Epoch 77/1000\n",
      "20/20 [==============================] - 0s 21ms/step - loss: 0.4513 - val_loss: 0.4552\n",
      "Epoch 78/1000\n",
      "20/20 [==============================] - 0s 21ms/step - loss: 0.4513 - val_loss: 0.4552\n",
      "Epoch 79/1000\n",
      "20/20 [==============================] - 0s 20ms/step - loss: 0.4512 - val_loss: 0.4550\n",
      "Epoch 80/1000\n",
      "20/20 [==============================] - 0s 23ms/step - loss: 0.4511 - val_loss: 0.4551\n",
      "Epoch 81/1000\n",
      "20/20 [==============================] - 0s 19ms/step - loss: 0.4510 - val_loss: 0.4551\n",
      "Epoch 82/1000\n",
      "20/20 [==============================] - 0s 19ms/step - loss: 0.4510 - val_loss: 0.4552\n",
      "Epoch 83/1000\n",
      "20/20 [==============================] - 0s 20ms/step - loss: 0.4510 - val_loss: 0.4553\n",
      "Epoch 84/1000\n",
      "20/20 [==============================] - 0s 20ms/step - loss: 0.4510 - val_loss: 0.4551\n",
      "Epoch 85/1000\n",
      "20/20 [==============================] - 0s 21ms/step - loss: 0.4509 - val_loss: 0.4549\n",
      "Epoch 86/1000\n",
      "20/20 [==============================] - 0s 19ms/step - loss: 0.4508 - val_loss: 0.4552\n",
      "Epoch 87/1000\n",
      "20/20 [==============================] - 0s 19ms/step - loss: 0.4509 - val_loss: 0.4549\n",
      "Epoch 88/1000\n",
      "20/20 [==============================] - 0s 19ms/step - loss: 0.4507 - val_loss: 0.4548\n",
      "Epoch 89/1000\n",
      "20/20 [==============================] - 0s 21ms/step - loss: 0.4506 - val_loss: 0.4548\n",
      "Epoch 90/1000\n",
      "20/20 [==============================] - 0s 18ms/step - loss: 0.4506 - val_loss: 0.4547\n",
      "Epoch 91/1000\n",
      "20/20 [==============================] - 0s 21ms/step - loss: 0.4506 - val_loss: 0.4548\n",
      "Epoch 92/1000\n",
      "20/20 [==============================] - 0s 21ms/step - loss: 0.4506 - val_loss: 0.4548\n",
      "Epoch 93/1000\n",
      "20/20 [==============================] - 0s 19ms/step - loss: 0.4505 - val_loss: 0.4547\n",
      "Epoch 94/1000\n",
      "20/20 [==============================] - 0s 18ms/step - loss: 0.4504 - val_loss: 0.4548\n",
      "Epoch 95/1000\n",
      "20/20 [==============================] - 0s 19ms/step - loss: 0.4505 - val_loss: 0.4547\n",
      "Epoch 96/1000\n",
      "20/20 [==============================] - 0s 18ms/step - loss: 0.4504 - val_loss: 0.4547\n",
      "Epoch 97/1000\n",
      "20/20 [==============================] - 0s 19ms/step - loss: 0.4504 - val_loss: 0.4546\n",
      "Epoch 98/1000\n",
      "20/20 [==============================] - 0s 19ms/step - loss: 0.4503 - val_loss: 0.4546\n",
      "Epoch 99/1000\n",
      "20/20 [==============================] - 0s 19ms/step - loss: 0.4502 - val_loss: 0.4545\n",
      "Epoch 100/1000\n",
      "20/20 [==============================] - 0s 22ms/step - loss: 0.4502 - val_loss: 0.4545\n",
      "Epoch 101/1000\n",
      "20/20 [==============================] - 0s 18ms/step - loss: 0.4502 - val_loss: 0.4545\n",
      "Epoch 102/1000\n",
      "20/20 [==============================] - 0s 19ms/step - loss: 0.4503 - val_loss: 0.4544\n",
      "Epoch 103/1000\n",
      "20/20 [==============================] - 0s 19ms/step - loss: 0.4501 - val_loss: 0.4544\n",
      "Epoch 104/1000\n",
      "20/20 [==============================] - 0s 21ms/step - loss: 0.4500 - val_loss: 0.4546\n",
      "Epoch 105/1000\n",
      "20/20 [==============================] - 0s 21ms/step - loss: 0.4502 - val_loss: 0.4545\n",
      "Epoch 106/1000\n",
      "20/20 [==============================] - 0s 18ms/step - loss: 0.4500 - val_loss: 0.4542\n",
      "Epoch 107/1000\n",
      "20/20 [==============================] - 0s 25ms/step - loss: 0.4501 - val_loss: 0.4543\n",
      "Epoch 108/1000\n",
      "20/20 [==============================] - 0s 21ms/step - loss: 0.4499 - val_loss: 0.4544\n",
      "Epoch 109/1000\n",
      "20/20 [==============================] - 0s 18ms/step - loss: 0.4498 - val_loss: 0.4542\n",
      "Epoch 110/1000\n",
      "20/20 [==============================] - 0s 19ms/step - loss: 0.4499 - val_loss: 0.4544\n",
      "Epoch 111/1000\n",
      "20/20 [==============================] - 0s 17ms/step - loss: 0.4499 - val_loss: 0.4544\n",
      "Epoch 112/1000\n",
      "20/20 [==============================] - 0s 18ms/step - loss: 0.4498 - val_loss: 0.4542\n",
      "Epoch 113/1000\n",
      "20/20 [==============================] - 0s 20ms/step - loss: 0.4497 - val_loss: 0.4541\n",
      "Epoch 114/1000\n",
      "20/20 [==============================] - 0s 19ms/step - loss: 0.4496 - val_loss: 0.4543\n",
      "Epoch 115/1000\n",
      "20/20 [==============================] - 0s 19ms/step - loss: 0.4497 - val_loss: 0.4542\n",
      "Epoch 116/1000\n",
      "20/20 [==============================] - 0s 18ms/step - loss: 0.4497 - val_loss: 0.4542\n",
      "Epoch 117/1000\n",
      "20/20 [==============================] - 0s 18ms/step - loss: 0.4497 - val_loss: 0.4542\n",
      "Epoch 118/1000\n",
      "20/20 [==============================] - 0s 18ms/step - loss: 0.4496 - val_loss: 0.4542\n",
      "Epoch 119/1000\n",
      "20/20 [==============================] - 0s 18ms/step - loss: 0.4496 - val_loss: 0.4541\n",
      "Epoch 120/1000\n",
      "20/20 [==============================] - 0s 19ms/step - loss: 0.4494 - val_loss: 0.4540\n",
      "Epoch 121/1000\n",
      "20/20 [==============================] - 0s 19ms/step - loss: 0.4495 - val_loss: 0.4540\n",
      "Epoch 122/1000\n",
      "20/20 [==============================] - 0s 25ms/step - loss: 0.4495 - val_loss: 0.4540\n",
      "Epoch 123/1000\n",
      "20/20 [==============================] - 0s 18ms/step - loss: 0.4494 - val_loss: 0.4539\n",
      "Epoch 124/1000\n",
      "20/20 [==============================] - 0s 19ms/step - loss: 0.4494 - val_loss: 0.4542\n",
      "Epoch 125/1000\n",
      "20/20 [==============================] - 0s 19ms/step - loss: 0.4493 - val_loss: 0.4543\n",
      "Epoch 126/1000\n",
      "20/20 [==============================] - 0s 19ms/step - loss: 0.4493 - val_loss: 0.4539\n",
      "Epoch 127/1000\n",
      "20/20 [==============================] - 0s 18ms/step - loss: 0.4492 - val_loss: 0.4541\n",
      "Epoch 128/1000\n",
      "20/20 [==============================] - 0s 18ms/step - loss: 0.4492 - val_loss: 0.4538\n",
      "Epoch 129/1000\n",
      "20/20 [==============================] - 0s 19ms/step - loss: 0.4491 - val_loss: 0.4541\n",
      "Epoch 130/1000\n",
      "20/20 [==============================] - 0s 19ms/step - loss: 0.4491 - val_loss: 0.4539\n",
      "Epoch 131/1000\n",
      "20/20 [==============================] - 0s 18ms/step - loss: 0.4491 - val_loss: 0.4538\n",
      "Epoch 132/1000\n",
      "20/20 [==============================] - 0s 20ms/step - loss: 0.4491 - val_loss: 0.4539\n",
      "Epoch 133/1000\n",
      "20/20 [==============================] - 0s 19ms/step - loss: 0.4490 - val_loss: 0.4538\n",
      "Epoch 134/1000\n",
      "20/20 [==============================] - 0s 18ms/step - loss: 0.4490 - val_loss: 0.4537\n",
      "Epoch 135/1000\n",
      "20/20 [==============================] - 0s 18ms/step - loss: 0.4490 - val_loss: 0.4538\n",
      "Epoch 136/1000\n",
      "20/20 [==============================] - 0s 19ms/step - loss: 0.4490 - val_loss: 0.4537\n",
      "Epoch 137/1000\n",
      "20/20 [==============================] - 0s 18ms/step - loss: 0.4490 - val_loss: 0.4541\n",
      "Epoch 138/1000\n",
      "20/20 [==============================] - 0s 19ms/step - loss: 0.4490 - val_loss: 0.4537\n",
      "Epoch 139/1000\n",
      "20/20 [==============================] - 0s 25ms/step - loss: 0.4488 - val_loss: 0.4537\n",
      "Epoch 140/1000\n",
      "20/20 [==============================] - 0s 19ms/step - loss: 0.4488 - val_loss: 0.4537\n",
      "Epoch 141/1000\n",
      "20/20 [==============================] - 0s 17ms/step - loss: 0.4488 - val_loss: 0.4537\n",
      "Epoch 142/1000\n",
      "20/20 [==============================] - 0s 19ms/step - loss: 0.4487 - val_loss: 0.4537\n",
      "Epoch 143/1000\n",
      "20/20 [==============================] - 0s 18ms/step - loss: 0.4488 - val_loss: 0.4537\n",
      "Epoch 144/1000\n",
      "20/20 [==============================] - 0s 19ms/step - loss: 0.4488 - val_loss: 0.4539\n",
      "Epoch 145/1000\n",
      "20/20 [==============================] - 0s 19ms/step - loss: 0.4487 - val_loss: 0.4535\n",
      "Epoch 146/1000\n",
      "20/20 [==============================] - 0s 18ms/step - loss: 0.4488 - val_loss: 0.4536\n",
      "Epoch 147/1000\n",
      "20/20 [==============================] - 0s 19ms/step - loss: 0.4486 - val_loss: 0.4537\n",
      "Epoch 148/1000\n",
      "20/20 [==============================] - 0s 19ms/step - loss: 0.4487 - val_loss: 0.4536\n",
      "Epoch 149/1000\n",
      "20/20 [==============================] - 0s 18ms/step - loss: 0.4485 - val_loss: 0.4537\n",
      "Epoch 150/1000\n",
      "20/20 [==============================] - 0s 20ms/step - loss: 0.4487 - val_loss: 0.4537\n",
      "Epoch 151/1000\n",
      "20/20 [==============================] - 0s 18ms/step - loss: 0.4485 - val_loss: 0.4538\n",
      "Epoch 152/1000\n",
      "20/20 [==============================] - 0s 18ms/step - loss: 0.4486 - val_loss: 0.4537\n",
      "Epoch 153/1000\n",
      "20/20 [==============================] - 0s 19ms/step - loss: 0.4484 - val_loss: 0.4538\n",
      "Epoch 154/1000\n",
      "20/20 [==============================] - 0s 18ms/step - loss: 0.4484 - val_loss: 0.4534\n",
      "Epoch 155/1000\n",
      "20/20 [==============================] - 0s 19ms/step - loss: 0.4484 - val_loss: 0.4539\n",
      "Epoch 156/1000\n",
      "20/20 [==============================] - 0s 18ms/step - loss: 0.4485 - val_loss: 0.4533\n",
      "Epoch 157/1000\n",
      "20/20 [==============================] - 0s 23ms/step - loss: 0.4483 - val_loss: 0.4534\n",
      "Epoch 158/1000\n",
      "20/20 [==============================] - 0s 20ms/step - loss: 0.4483 - val_loss: 0.4533\n",
      "Epoch 159/1000\n",
      "20/20 [==============================] - 0s 18ms/step - loss: 0.4483 - val_loss: 0.4535\n",
      "Epoch 160/1000\n",
      "20/20 [==============================] - 0s 19ms/step - loss: 0.4483 - val_loss: 0.4539\n",
      "Epoch 161/1000\n",
      "20/20 [==============================] - 0s 18ms/step - loss: 0.4484 - val_loss: 0.4538\n",
      "Epoch 162/1000\n",
      "20/20 [==============================] - 0s 18ms/step - loss: 0.4483 - val_loss: 0.4532\n",
      "Epoch 163/1000\n",
      "20/20 [==============================] - 0s 19ms/step - loss: 0.4481 - val_loss: 0.4533\n",
      "Epoch 164/1000\n",
      "20/20 [==============================] - 0s 20ms/step - loss: 0.4481 - val_loss: 0.4533\n",
      "Epoch 165/1000\n",
      "20/20 [==============================] - 0s 18ms/step - loss: 0.4483 - val_loss: 0.4535\n",
      "Epoch 166/1000\n",
      "20/20 [==============================] - 0s 20ms/step - loss: 0.4482 - val_loss: 0.4536\n",
      "Epoch 167/1000\n",
      "20/20 [==============================] - 0s 18ms/step - loss: 0.4481 - val_loss: 0.4533\n",
      "Epoch 168/1000\n",
      "20/20 [==============================] - 0s 20ms/step - loss: 0.4482 - val_loss: 0.4532\n",
      "Epoch 169/1000\n",
      "20/20 [==============================] - 0s 19ms/step - loss: 0.4481 - val_loss: 0.4532\n",
      "Epoch 170/1000\n",
      "20/20 [==============================] - 0s 19ms/step - loss: 0.4481 - val_loss: 0.4532\n",
      "Epoch 171/1000\n",
      "20/20 [==============================] - 0s 18ms/step - loss: 0.4481 - val_loss: 0.4534\n",
      "Epoch 172/1000\n",
      "20/20 [==============================] - 0s 20ms/step - loss: 0.4480 - val_loss: 0.4533\n",
      "Epoch 173/1000\n",
      "20/20 [==============================] - 0s 18ms/step - loss: 0.4479 - val_loss: 0.4530\n",
      "Epoch 174/1000\n",
      "20/20 [==============================] - 0s 19ms/step - loss: 0.4479 - val_loss: 0.4530\n",
      "Epoch 175/1000\n",
      "20/20 [==============================] - 1s 27ms/step - loss: 0.4479 - val_loss: 0.4533\n",
      "Epoch 176/1000\n",
      "20/20 [==============================] - 0s 20ms/step - loss: 0.4479 - val_loss: 0.4529\n",
      "Epoch 177/1000\n",
      "20/20 [==============================] - 0s 18ms/step - loss: 0.4479 - val_loss: 0.4530\n",
      "Epoch 178/1000\n",
      "20/20 [==============================] - 0s 18ms/step - loss: 0.4478 - val_loss: 0.4530\n",
      "Epoch 179/1000\n",
      "20/20 [==============================] - 0s 18ms/step - loss: 0.4478 - val_loss: 0.4531\n",
      "Epoch 180/1000\n",
      "20/20 [==============================] - 0s 19ms/step - loss: 0.4479 - val_loss: 0.4534\n",
      "Epoch 181/1000\n",
      "20/20 [==============================] - 0s 18ms/step - loss: 0.4479 - val_loss: 0.4533\n",
      "Epoch 182/1000\n",
      "20/20 [==============================] - 0s 18ms/step - loss: 0.4477 - val_loss: 0.4529\n",
      "Epoch 183/1000\n",
      "20/20 [==============================] - 0s 18ms/step - loss: 0.4478 - val_loss: 0.4537\n",
      "Epoch 184/1000\n",
      "20/20 [==============================] - 0s 19ms/step - loss: 0.4477 - val_loss: 0.4530\n",
      "Epoch 185/1000\n",
      "20/20 [==============================] - 0s 19ms/step - loss: 0.4477 - val_loss: 0.4528\n",
      "Epoch 186/1000\n",
      "20/20 [==============================] - 0s 19ms/step - loss: 0.4477 - val_loss: 0.4530\n",
      "Epoch 187/1000\n",
      "20/20 [==============================] - 0s 18ms/step - loss: 0.4476 - val_loss: 0.4529\n",
      "Epoch 188/1000\n",
      "20/20 [==============================] - 0s 18ms/step - loss: 0.4476 - val_loss: 0.4529\n",
      "Epoch 189/1000\n",
      "20/20 [==============================] - 0s 18ms/step - loss: 0.4476 - val_loss: 0.4529\n",
      "Epoch 190/1000\n",
      "20/20 [==============================] - 0s 18ms/step - loss: 0.4476 - val_loss: 0.4529\n",
      "Epoch 191/1000\n",
      "20/20 [==============================] - 0s 23ms/step - loss: 0.4476 - val_loss: 0.4530\n",
      "Epoch 192/1000\n",
      "20/20 [==============================] - 0s 18ms/step - loss: 0.4475 - val_loss: 0.4529\n",
      "Epoch 193/1000\n",
      "20/20 [==============================] - 0s 19ms/step - loss: 0.4474 - val_loss: 0.4528\n",
      "Epoch 194/1000\n",
      "20/20 [==============================] - 0s 18ms/step - loss: 0.4474 - val_loss: 0.4529\n",
      "Epoch 195/1000\n",
      "20/20 [==============================] - 0s 17ms/step - loss: 0.4475 - val_loss: 0.4527\n",
      "Epoch 196/1000\n",
      "20/20 [==============================] - 0s 18ms/step - loss: 0.4474 - val_loss: 0.4529\n",
      "Epoch 197/1000\n",
      "20/20 [==============================] - 0s 19ms/step - loss: 0.4475 - val_loss: 0.4530\n",
      "Epoch 198/1000\n",
      "20/20 [==============================] - 0s 18ms/step - loss: 0.4473 - val_loss: 0.4528\n",
      "Epoch 199/1000\n",
      "20/20 [==============================] - 0s 19ms/step - loss: 0.4474 - val_loss: 0.4528\n",
      "Epoch 200/1000\n",
      "20/20 [==============================] - 0s 18ms/step - loss: 0.4474 - val_loss: 0.4528\n",
      "Epoch 201/1000\n",
      "20/20 [==============================] - 0s 18ms/step - loss: 0.4474 - val_loss: 0.4529\n",
      "Epoch 202/1000\n",
      "20/20 [==============================] - 0s 19ms/step - loss: 0.4473 - val_loss: 0.4526\n",
      "Epoch 203/1000\n",
      "20/20 [==============================] - 0s 19ms/step - loss: 0.4472 - val_loss: 0.4530\n",
      "Epoch 204/1000\n",
      "20/20 [==============================] - 0s 20ms/step - loss: 0.4473 - val_loss: 0.4534\n",
      "Epoch 205/1000\n",
      "20/20 [==============================] - 0s 18ms/step - loss: 0.4476 - val_loss: 0.4528\n",
      "Epoch 206/1000\n",
      "20/20 [==============================] - 0s 19ms/step - loss: 0.4473 - val_loss: 0.4529\n",
      "Epoch 207/1000\n",
      "20/20 [==============================] - 0s 19ms/step - loss: 0.4472 - val_loss: 0.4527\n",
      "Epoch 208/1000\n",
      "20/20 [==============================] - 0s 19ms/step - loss: 0.4471 - val_loss: 0.4529\n",
      "Epoch 209/1000\n",
      "20/20 [==============================] - 0s 23ms/step - loss: 0.4471 - val_loss: 0.4527\n",
      "Epoch 210/1000\n",
      "20/20 [==============================] - 0s 17ms/step - loss: 0.4472 - val_loss: 0.4530\n",
      "Epoch 211/1000\n",
      "20/20 [==============================] - 0s 19ms/step - loss: 0.4472 - val_loss: 0.4525\n",
      "Epoch 212/1000\n",
      "20/20 [==============================] - 0s 19ms/step - loss: 0.4470 - val_loss: 0.4528\n",
      "Epoch 213/1000\n",
      "20/20 [==============================] - 0s 19ms/step - loss: 0.4470 - val_loss: 0.4528\n",
      "Epoch 214/1000\n",
      "20/20 [==============================] - 0s 20ms/step - loss: 0.4472 - val_loss: 0.4526\n",
      "Epoch 215/1000\n",
      "20/20 [==============================] - 0s 19ms/step - loss: 0.4473 - val_loss: 0.4526\n",
      "Epoch 216/1000\n",
      "20/20 [==============================] - 0s 22ms/step - loss: 0.4470 - val_loss: 0.4536\n",
      "Epoch 217/1000\n",
      "20/20 [==============================] - 0s 20ms/step - loss: 0.4473 - val_loss: 0.4528\n",
      "Epoch 218/1000\n",
      "20/20 [==============================] - 0s 20ms/step - loss: 0.4471 - val_loss: 0.4524\n",
      "Epoch 219/1000\n",
      "20/20 [==============================] - 0s 21ms/step - loss: 0.4470 - val_loss: 0.4537\n",
      "Epoch 220/1000\n",
      "20/20 [==============================] - 0s 20ms/step - loss: 0.4472 - val_loss: 0.4531\n",
      "Epoch 221/1000\n",
      "20/20 [==============================] - 0s 18ms/step - loss: 0.4470 - val_loss: 0.4528\n",
      "Epoch 222/1000\n",
      "20/20 [==============================] - 0s 18ms/step - loss: 0.4471 - val_loss: 0.4527\n",
      "Epoch 223/1000\n",
      "20/20 [==============================] - 0s 19ms/step - loss: 0.4470 - val_loss: 0.4526\n",
      "Epoch 224/1000\n",
      "20/20 [==============================] - 0s 19ms/step - loss: 0.4469 - val_loss: 0.4527\n",
      "Epoch 225/1000\n",
      "20/20 [==============================] - 0s 20ms/step - loss: 0.4470 - val_loss: 0.4526\n",
      "Epoch 226/1000\n",
      "20/20 [==============================] - 0s 22ms/step - loss: 0.4471 - val_loss: 0.4525\n",
      "Epoch 227/1000\n",
      "20/20 [==============================] - 0s 20ms/step - loss: 0.4470 - val_loss: 0.4531\n",
      "Epoch 228/1000\n",
      "20/20 [==============================] - 0s 20ms/step - loss: 0.4469 - val_loss: 0.4526\n",
      "Epoch 229/1000\n",
      "20/20 [==============================] - 0s 19ms/step - loss: 0.4468 - val_loss: 0.4525\n",
      "Epoch 230/1000\n",
      "20/20 [==============================] - 0s 18ms/step - loss: 0.4469 - val_loss: 0.4526\n",
      "Epoch 231/1000\n",
      "20/20 [==============================] - 0s 25ms/step - loss: 0.4468 - val_loss: 0.4525\n",
      "Epoch 232/1000\n",
      "20/20 [==============================] - 0s 21ms/step - loss: 0.4468 - val_loss: 0.4526\n",
      "Epoch 233/1000\n",
      "20/20 [==============================] - 0s 20ms/step - loss: 0.4467 - val_loss: 0.4529\n",
      "Epoch 234/1000\n",
      "20/20 [==============================] - 0s 20ms/step - loss: 0.4469 - val_loss: 0.4526\n",
      "Epoch 235/1000\n",
      "20/20 [==============================] - 0s 18ms/step - loss: 0.4467 - val_loss: 0.4525\n",
      "Epoch 236/1000\n",
      "20/20 [==============================] - 0s 19ms/step - loss: 0.4469 - val_loss: 0.4527\n",
      "Epoch 237/1000\n",
      "20/20 [==============================] - 0s 20ms/step - loss: 0.4468 - val_loss: 0.4526\n",
      "Epoch 238/1000\n",
      "20/20 [==============================] - 0s 20ms/step - loss: 0.4467 - val_loss: 0.4525\n",
      "Epoch 239/1000\n",
      "20/20 [==============================] - 0s 20ms/step - loss: 0.4468 - val_loss: 0.4525\n",
      "Epoch 240/1000\n",
      "20/20 [==============================] - 0s 19ms/step - loss: 0.4467 - val_loss: 0.4525\n",
      "Epoch 241/1000\n",
      "20/20 [==============================] - 0s 18ms/step - loss: 0.4467 - val_loss: 0.4525\n",
      "Epoch 242/1000\n",
      "20/20 [==============================] - 0s 18ms/step - loss: 0.4468 - val_loss: 0.4525\n",
      "Epoch 243/1000\n",
      "20/20 [==============================] - 0s 19ms/step - loss: 0.4467 - val_loss: 0.4526\n",
      "Epoch 243: early stopping\n"
     ]
    },
    {
     "data": {
      "text/plain": [
       "<keras.callbacks.History at 0x14f681e0df0>"
      ]
     },
     "execution_count": 150,
     "metadata": {},
     "output_type": "execute_result"
    }
   ],
   "source": [
    "model.fit(x=X_train, y=y_train, epochs=1000, validation_data=(X_test,y_test), \n",
    "         batch_size=16384, callbacks=[early_stop])"
   ]
  },
  {
   "cell_type": "code",
   "execution_count": 151,
   "metadata": {},
   "outputs": [
    {
     "data": {
      "text/plain": [
       "<AxesSubplot:>"
      ]
     },
     "execution_count": 151,
     "metadata": {},
     "output_type": "execute_result"
    },
    {
     "data": {
      "image/png": "[encoded data removed]",
      "text/plain": [
       "<Figure size 432x288 with 1 Axes>"
      ]
     },
     "metadata": {},
     "output_type": "display_data"
    }
   ],
   "source": [
    "pd.DataFrame(model.history.history).plot()"
   ]
  },
  {
   "cell_type": "code",
   "execution_count": 152,
   "metadata": {},
   "outputs": [
    {
     "data": {
      "text/plain": [
       "array([[0.7883569 ],\n",
       "       [0.6060993 ],\n",
       "       [0.7509116 ],\n",
       "       ...,\n",
       "       [0.78992105],\n",
       "       [0.9097731 ],\n",
       "       [0.7471113 ]], dtype=float32)"
      ]
     },
     "execution_count": 152,
     "metadata": {},
     "output_type": "execute_result"
    }
   ],
   "source": [
    "model.predict(X_test)"
   ]
  },
  {
   "cell_type": "code",
   "execution_count": 153,
   "metadata": {},
   "outputs": [],
   "source": [
    "predictions = (model.predict(X_test) > 0.5).astype('int32')"
   ]
  },
  {
   "cell_type": "code",
   "execution_count": 154,
   "metadata": {},
   "outputs": [],
   "source": [
    "from sklearn.metrics import classification_report, confusion_matrix"
   ]
  },
  {
   "cell_type": "code",
   "execution_count": 155,
   "metadata": {},
   "outputs": [
    {
     "name": "stdout",
     "output_type": "stream",
     "text": [
      "              precision    recall  f1-score   support\n",
      "\n",
      "           0       0.52      0.06      0.11     15577\n",
      "           1       0.81      0.99      0.89     63629\n",
      "\n",
      "    accuracy                           0.80     79206\n",
      "   macro avg       0.67      0.52      0.50     79206\n",
      "weighted avg       0.75      0.80      0.74     79206\n",
      "\n"
     ]
    }
   ],
   "source": [
    "print(classification_report(y_test,predictions))"
   ]
  },
  {
   "cell_type": "code",
   "execution_count": 156,
   "metadata": {},
   "outputs": [
    {
     "name": "stdout",
     "output_type": "stream",
     "text": [
      "[[  910 14667]\n",
      " [  827 62802]]\n"
     ]
    }
   ],
   "source": [
    "print(confusion_matrix(y_test,predictions))"
   ]
  },
  {
   "cell_type": "code",
   "execution_count": 157,
   "metadata": {},
   "outputs": [],
   "source": [
    "predictions = (model.predict(X_test) > 0.75).astype('int32')"
   ]
  },
  {
   "cell_type": "code",
   "execution_count": 158,
   "metadata": {},
   "outputs": [
    {
     "name": "stdout",
     "output_type": "stream",
     "text": [
      "              precision    recall  f1-score   support\n",
      "\n",
      "           0       0.36      0.48      0.41     15577\n",
      "           1       0.86      0.79      0.82     63629\n",
      "\n",
      "    accuracy                           0.73     79206\n",
      "   macro avg       0.61      0.64      0.62     79206\n",
      "weighted avg       0.76      0.73      0.74     79206\n",
      "\n"
     ]
    }
   ],
   "source": [
    "print(classification_report(y_test,predictions))"
   ]
  },
  {
   "cell_type": "code",
   "execution_count": 159,
   "metadata": {},
   "outputs": [
    {
     "name": "stdout",
     "output_type": "stream",
     "text": [
      "[[ 7549  8028]\n",
      " [13416 50213]]\n"
     ]
    }
   ],
   "source": [
    "print(confusion_matrix(y_test,predictions))"
   ]
  }
 ],
 "metadata": {
  "interpreter": {
   "hash": "9688926e0120c82bc45141654f06390cf5b07a9996c109707e80805420de038d"
  },
  "kernelspec": {
   "display_name": "Python 3.8.5 ('base')",
   "language": "python",
   "name": "python3"
  },
  "language_info": {
   "codemirror_mode": {
    "name": "ipython",
    "version": 3
   },
   "file_extension": ".py",
   "mimetype": "text/x-python",
   "name": "python",
   "nbconvert_exporter": "python",
   "pygments_lexer": "ipython3",
   "version": "3.8.5"
  },
  "orig_nbformat": 4
 },
 "nbformat": 4,
 "nbformat_minor": 2
}
