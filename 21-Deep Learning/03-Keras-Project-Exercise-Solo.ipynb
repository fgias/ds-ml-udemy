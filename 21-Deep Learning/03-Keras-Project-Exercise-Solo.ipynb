{
 "cells": [
  {
   "cell_type": "markdown",
   "metadata": {},
   "source": [
    "## Keras API Project Exercise\n",
    "\n",
    "### The Data\n",
    "\n",
    "We will be using a subset of the LendingClub DataSet obtained from Kaggle: https://www.kaggle.com/wordsforthewise/lending-club\n",
    "\n",
    "### NOTE: Do not download the full zip from the link! We provide a special version of this file that has some extra feature engineering for you to do. You won't be able to follow along with the original file!\n",
    "\n",
    "LendingClub is a US peer-to-peer lending company, headquartered in San Francisco, California.[3] It was the first peer-to-peer lender to register its offerings as securities with the Securities and Exchange Commission (SEC), and to offer loan trading on a secondary market. LendingClub is the world's largest peer-to-peer lending platform.\n",
    "\n",
    "#### Our Goal\n",
    "\n",
    "Given historical data on loans given out with information on whether or not the borrower defaulted (charge-off), can we build a model thatcan predict wether or nor a borrower will pay back their loan? This way in the future when we get a new potential customer we can assess whether or not they are likely to pay back the loan. Keep in mind classification metrics when evaluating the performance of your model!\n",
    "\n",
    "The \"loan_status\" column contains our label."
   ]
  },
  {
   "cell_type": "code",
   "execution_count": 116,
   "metadata": {},
   "outputs": [],
   "source": [
    "import pandas as pd\n",
    "import numpy as np\n",
    "import matplotlib.pyplot as plt\n",
    "import seaborn as sns"
   ]
  },
  {
   "cell_type": "code",
   "execution_count": 117,
   "metadata": {},
   "outputs": [],
   "source": [
    "data_info = pd.read_csv('DATA/lending_club_info.csv', index_col='LoanStatNew') "
   ]
  },
  {
   "cell_type": "code",
   "execution_count": 118,
   "metadata": {},
   "outputs": [
    {
     "data": {
      "text/html": [
       "<div>\n",
       "<style scoped>\n",
       "    .dataframe tbody tr th:only-of-type {\n",
       "        vertical-align: middle;\n",
       "    }\n",
       "\n",
       "    .dataframe tbody tr th {\n",
       "        vertical-align: top;\n",
       "    }\n",
       "\n",
       "    .dataframe thead th {\n",
       "        text-align: right;\n",
       "    }\n",
       "</style>\n",
       "<table border=\"1\" class=\"dataframe\">\n",
       "  <thead>\n",
       "    <tr style=\"text-align: right;\">\n",
       "      <th></th>\n",
       "      <th>Description</th>\n",
       "    </tr>\n",
       "    <tr>\n",
       "      <th>LoanStatNew</th>\n",
       "      <th></th>\n",
       "    </tr>\n",
       "  </thead>\n",
       "  <tbody>\n",
       "    <tr>\n",
       "      <th>loan_amnt</th>\n",
       "      <td>The listed amount of the loan applied for by t...</td>\n",
       "    </tr>\n",
       "    <tr>\n",
       "      <th>term</th>\n",
       "      <td>The number of payments on the loan. Values are...</td>\n",
       "    </tr>\n",
       "    <tr>\n",
       "      <th>int_rate</th>\n",
       "      <td>Interest Rate on the loan</td>\n",
       "    </tr>\n",
       "    <tr>\n",
       "      <th>installment</th>\n",
       "      <td>The monthly payment owed by the borrower if th...</td>\n",
       "    </tr>\n",
       "    <tr>\n",
       "      <th>grade</th>\n",
       "      <td>LC assigned loan grade</td>\n",
       "    </tr>\n",
       "    <tr>\n",
       "      <th>sub_grade</th>\n",
       "      <td>LC assigned loan subgrade</td>\n",
       "    </tr>\n",
       "    <tr>\n",
       "      <th>emp_title</th>\n",
       "      <td>The job title supplied by the Borrower when ap...</td>\n",
       "    </tr>\n",
       "    <tr>\n",
       "      <th>emp_length</th>\n",
       "      <td>Employment length in years. Possible values ar...</td>\n",
       "    </tr>\n",
       "    <tr>\n",
       "      <th>home_ownership</th>\n",
       "      <td>The home ownership status provided by the borr...</td>\n",
       "    </tr>\n",
       "    <tr>\n",
       "      <th>annual_inc</th>\n",
       "      <td>The self-reported annual income provided by th...</td>\n",
       "    </tr>\n",
       "    <tr>\n",
       "      <th>verification_status</th>\n",
       "      <td>Indicates if income was verified by LC, not ve...</td>\n",
       "    </tr>\n",
       "    <tr>\n",
       "      <th>issue_d</th>\n",
       "      <td>The month which the loan was funded</td>\n",
       "    </tr>\n",
       "    <tr>\n",
       "      <th>loan_status</th>\n",
       "      <td>Current status of the loan</td>\n",
       "    </tr>\n",
       "    <tr>\n",
       "      <th>purpose</th>\n",
       "      <td>A category provided by the borrower for the lo...</td>\n",
       "    </tr>\n",
       "    <tr>\n",
       "      <th>title</th>\n",
       "      <td>The loan title provided by the borrower</td>\n",
       "    </tr>\n",
       "    <tr>\n",
       "      <th>zip_code</th>\n",
       "      <td>The first 3 numbers of the zip code provided b...</td>\n",
       "    </tr>\n",
       "    <tr>\n",
       "      <th>addr_state</th>\n",
       "      <td>The state provided by the borrower in the loan...</td>\n",
       "    </tr>\n",
       "    <tr>\n",
       "      <th>dti</th>\n",
       "      <td>A ratio calculated using the borrower’s total ...</td>\n",
       "    </tr>\n",
       "    <tr>\n",
       "      <th>earliest_cr_line</th>\n",
       "      <td>The month the borrower's earliest reported cre...</td>\n",
       "    </tr>\n",
       "    <tr>\n",
       "      <th>open_acc</th>\n",
       "      <td>The number of open credit lines in the borrowe...</td>\n",
       "    </tr>\n",
       "    <tr>\n",
       "      <th>pub_rec</th>\n",
       "      <td>Number of derogatory public records</td>\n",
       "    </tr>\n",
       "    <tr>\n",
       "      <th>revol_bal</th>\n",
       "      <td>Total credit revolving balance</td>\n",
       "    </tr>\n",
       "    <tr>\n",
       "      <th>revol_util</th>\n",
       "      <td>Revolving line utilization rate, or the amount...</td>\n",
       "    </tr>\n",
       "    <tr>\n",
       "      <th>total_acc</th>\n",
       "      <td>The total number of credit lines currently in ...</td>\n",
       "    </tr>\n",
       "    <tr>\n",
       "      <th>initial_list_status</th>\n",
       "      <td>The initial listing status of the loan. Possib...</td>\n",
       "    </tr>\n",
       "    <tr>\n",
       "      <th>application_type</th>\n",
       "      <td>Indicates whether the loan is an individual ap...</td>\n",
       "    </tr>\n",
       "    <tr>\n",
       "      <th>mort_acc</th>\n",
       "      <td>Number of mortgage accounts.</td>\n",
       "    </tr>\n",
       "    <tr>\n",
       "      <th>pub_rec_bankruptcies</th>\n",
       "      <td>Number of public record bankruptcies</td>\n",
       "    </tr>\n",
       "  </tbody>\n",
       "</table>\n",
       "</div>"
      ],
      "text/plain": [
       "                                                            Description\n",
       "LoanStatNew                                                            \n",
       "loan_amnt             The listed amount of the loan applied for by t...\n",
       "term                  The number of payments on the loan. Values are...\n",
       "int_rate                                      Interest Rate on the loan\n",
       "installment           The monthly payment owed by the borrower if th...\n",
       "grade                                            LC assigned loan grade\n",
       "sub_grade                                     LC assigned loan subgrade\n",
       "emp_title             The job title supplied by the Borrower when ap...\n",
       "emp_length            Employment length in years. Possible values ar...\n",
       "home_ownership        The home ownership status provided by the borr...\n",
       "annual_inc            The self-reported annual income provided by th...\n",
       "verification_status   Indicates if income was verified by LC, not ve...\n",
       "issue_d                             The month which the loan was funded\n",
       "loan_status                                  Current status of the loan\n",
       "purpose               A category provided by the borrower for the lo...\n",
       "title                           The loan title provided by the borrower\n",
       "zip_code              The first 3 numbers of the zip code provided b...\n",
       "addr_state            The state provided by the borrower in the loan...\n",
       "dti                   A ratio calculated using the borrower’s total ...\n",
       "earliest_cr_line      The month the borrower's earliest reported cre...\n",
       "open_acc              The number of open credit lines in the borrowe...\n",
       "pub_rec                             Number of derogatory public records\n",
       "revol_bal                                Total credit revolving balance\n",
       "revol_util            Revolving line utilization rate, or the amount...\n",
       "total_acc             The total number of credit lines currently in ...\n",
       "initial_list_status   The initial listing status of the loan. Possib...\n",
       "application_type      Indicates whether the loan is an individual ap...\n",
       "mort_acc                                   Number of mortgage accounts.\n",
       "pub_rec_bankruptcies               Number of public record bankruptcies"
      ]
     },
     "execution_count": 118,
     "metadata": {},
     "output_type": "execute_result"
    }
   ],
   "source": [
    "data_info"
   ]
  },
  {
   "cell_type": "code",
   "execution_count": 119,
   "metadata": {},
   "outputs": [],
   "source": [
    "def feat_info(col_name):\n",
    "    print(data_info.loc[col_name]['Description'])"
   ]
  },
  {
   "cell_type": "code",
   "execution_count": 120,
   "metadata": {},
   "outputs": [
    {
     "name": "stdout",
     "output_type": "stream",
     "text": [
      "Number of mortgage accounts.\n"
     ]
    }
   ],
   "source": [
    "feat_info('mort_acc')"
   ]
  },
  {
   "cell_type": "code",
   "execution_count": 121,
   "metadata": {},
   "outputs": [],
   "source": [
    "df = pd.read_csv('DATA/lending_club_loan_two.csv')"
   ]
  },
  {
   "cell_type": "code",
   "execution_count": 122,
   "metadata": {},
   "outputs": [
    {
     "name": "stdout",
     "output_type": "stream",
     "text": [
      "<class 'pandas.core.frame.DataFrame'>\n",
      "RangeIndex: 396030 entries, 0 to 396029\n",
      "Data columns (total 27 columns):\n",
      " #   Column                Non-Null Count   Dtype  \n",
      "---  ------                --------------   -----  \n",
      " 0   loan_amnt             396030 non-null  float64\n",
      " 1   term                  396030 non-null  object \n",
      " 2   int_rate              396030 non-null  float64\n",
      " 3   installment           396030 non-null  float64\n",
      " 4   grade                 396030 non-null  object \n",
      " 5   sub_grade             396030 non-null  object \n",
      " 6   emp_title             373103 non-null  object \n",
      " 7   emp_length            377729 non-null  object \n",
      " 8   home_ownership        396030 non-null  object \n",
      " 9   annual_inc            396030 non-null  float64\n",
      " 10  verification_status   396030 non-null  object \n",
      " 11  issue_d               396030 non-null  object \n",
      " 12  loan_status           396030 non-null  object \n",
      " 13  purpose               396030 non-null  object \n",
      " 14  title                 394275 non-null  object \n",
      " 15  dti                   396030 non-null  float64\n",
      " 16  earliest_cr_line      396030 non-null  object \n",
      " 17  open_acc              396030 non-null  float64\n",
      " 18  pub_rec               396030 non-null  float64\n",
      " 19  revol_bal             396030 non-null  float64\n",
      " 20  revol_util            395754 non-null  float64\n",
      " 21  total_acc             396030 non-null  float64\n",
      " 22  initial_list_status   396030 non-null  object \n",
      " 23  application_type      396030 non-null  object \n",
      " 24  mort_acc              358235 non-null  float64\n",
      " 25  pub_rec_bankruptcies  395495 non-null  float64\n",
      " 26  address               396030 non-null  object \n",
      "dtypes: float64(12), object(15)\n",
      "memory usage: 81.6+ MB\n"
     ]
    }
   ],
   "source": [
    "df.info()"
   ]
  },
  {
   "cell_type": "code",
   "execution_count": 123,
   "metadata": {},
   "outputs": [
    {
     "data": {
      "text/html": [
       "<div>\n",
       "<style scoped>\n",
       "    .dataframe tbody tr th:only-of-type {\n",
       "        vertical-align: middle;\n",
       "    }\n",
       "\n",
       "    .dataframe tbody tr th {\n",
       "        vertical-align: top;\n",
       "    }\n",
       "\n",
       "    .dataframe thead th {\n",
       "        text-align: right;\n",
       "    }\n",
       "</style>\n",
       "<table border=\"1\" class=\"dataframe\">\n",
       "  <thead>\n",
       "    <tr style=\"text-align: right;\">\n",
       "      <th></th>\n",
       "      <th>loan_amnt</th>\n",
       "      <th>term</th>\n",
       "      <th>int_rate</th>\n",
       "      <th>installment</th>\n",
       "      <th>grade</th>\n",
       "      <th>sub_grade</th>\n",
       "      <th>emp_title</th>\n",
       "      <th>emp_length</th>\n",
       "      <th>home_ownership</th>\n",
       "      <th>annual_inc</th>\n",
       "      <th>...</th>\n",
       "      <th>open_acc</th>\n",
       "      <th>pub_rec</th>\n",
       "      <th>revol_bal</th>\n",
       "      <th>revol_util</th>\n",
       "      <th>total_acc</th>\n",
       "      <th>initial_list_status</th>\n",
       "      <th>application_type</th>\n",
       "      <th>mort_acc</th>\n",
       "      <th>pub_rec_bankruptcies</th>\n",
       "      <th>address</th>\n",
       "    </tr>\n",
       "  </thead>\n",
       "  <tbody>\n",
       "    <tr>\n",
       "      <th>0</th>\n",
       "      <td>10000.0</td>\n",
       "      <td>36 months</td>\n",
       "      <td>11.44</td>\n",
       "      <td>329.48</td>\n",
       "      <td>B</td>\n",
       "      <td>B4</td>\n",
       "      <td>Marketing</td>\n",
       "      <td>10+ years</td>\n",
       "      <td>RENT</td>\n",
       "      <td>117000.0</td>\n",
       "      <td>...</td>\n",
       "      <td>16.0</td>\n",
       "      <td>0.0</td>\n",
       "      <td>36369.0</td>\n",
       "      <td>41.8</td>\n",
       "      <td>25.0</td>\n",
       "      <td>w</td>\n",
       "      <td>INDIVIDUAL</td>\n",
       "      <td>0.0</td>\n",
       "      <td>0.0</td>\n",
       "      <td>0174 Michelle Gateway\\nMendozaberg, OK 22690</td>\n",
       "    </tr>\n",
       "    <tr>\n",
       "      <th>1</th>\n",
       "      <td>8000.0</td>\n",
       "      <td>36 months</td>\n",
       "      <td>11.99</td>\n",
       "      <td>265.68</td>\n",
       "      <td>B</td>\n",
       "      <td>B5</td>\n",
       "      <td>Credit analyst</td>\n",
       "      <td>4 years</td>\n",
       "      <td>MORTGAGE</td>\n",
       "      <td>65000.0</td>\n",
       "      <td>...</td>\n",
       "      <td>17.0</td>\n",
       "      <td>0.0</td>\n",
       "      <td>20131.0</td>\n",
       "      <td>53.3</td>\n",
       "      <td>27.0</td>\n",
       "      <td>f</td>\n",
       "      <td>INDIVIDUAL</td>\n",
       "      <td>3.0</td>\n",
       "      <td>0.0</td>\n",
       "      <td>1076 Carney Fort Apt. 347\\nLoganmouth, SD 05113</td>\n",
       "    </tr>\n",
       "  </tbody>\n",
       "</table>\n",
       "<p>2 rows × 27 columns</p>\n",
       "</div>"
      ],
      "text/plain": [
       "   loan_amnt        term  int_rate  installment grade sub_grade  \\\n",
       "0    10000.0   36 months     11.44       329.48     B        B4   \n",
       "1     8000.0   36 months     11.99       265.68     B        B5   \n",
       "\n",
       "         emp_title emp_length home_ownership  annual_inc  ... open_acc  \\\n",
       "0        Marketing  10+ years           RENT    117000.0  ...     16.0   \n",
       "1  Credit analyst     4 years       MORTGAGE     65000.0  ...     17.0   \n",
       "\n",
       "  pub_rec revol_bal revol_util total_acc  initial_list_status  \\\n",
       "0     0.0   36369.0       41.8      25.0                    w   \n",
       "1     0.0   20131.0       53.3      27.0                    f   \n",
       "\n",
       "  application_type  mort_acc  pub_rec_bankruptcies  \\\n",
       "0       INDIVIDUAL       0.0                   0.0   \n",
       "1       INDIVIDUAL       3.0                   0.0   \n",
       "\n",
       "                                           address  \n",
       "0     0174 Michelle Gateway\\nMendozaberg, OK 22690  \n",
       "1  1076 Carney Fort Apt. 347\\nLoganmouth, SD 05113  \n",
       "\n",
       "[2 rows x 27 columns]"
      ]
     },
     "execution_count": 123,
     "metadata": {},
     "output_type": "execute_result"
    }
   ],
   "source": [
    "df.head(2)"
   ]
  },
  {
   "cell_type": "markdown",
   "metadata": {},
   "source": [
    "### Preprocessing"
   ]
  },
  {
   "cell_type": "code",
   "execution_count": 124,
   "metadata": {},
   "outputs": [
    {
     "data": {
      "text/plain": [
       "<AxesSubplot:>"
      ]
     },
     "execution_count": 124,
     "metadata": {},
     "output_type": "execute_result"
    },
    {
     "data": {
      "image/png": "[encoded data removed]",
      "text/plain": [
       "<Figure size 432x288 with 1 Axes>"
      ]
     },
     "metadata": {},
     "output_type": "display_data"
    }
   ],
   "source": [
    "sns.heatmap(df.isnull(), cbar=False, yticklabels=False)"
   ]
  },
  {
   "cell_type": "code",
   "execution_count": 125,
   "metadata": {},
   "outputs": [
    {
     "name": "stdout",
     "output_type": "stream",
     "text": [
      "The number of payments on the loan. Values are in months and can be either 36 or 60.\n"
     ]
    }
   ],
   "source": [
    "feat_info('term')"
   ]
  },
  {
   "cell_type": "code",
   "execution_count": 126,
   "metadata": {},
   "outputs": [
    {
     "data": {
      "text/html": [
       "<div>\n",
       "<style scoped>\n",
       "    .dataframe tbody tr th:only-of-type {\n",
       "        vertical-align: middle;\n",
       "    }\n",
       "\n",
       "    .dataframe tbody tr th {\n",
       "        vertical-align: top;\n",
       "    }\n",
       "\n",
       "    .dataframe thead th {\n",
       "        text-align: right;\n",
       "    }\n",
       "</style>\n",
       "<table border=\"1\" class=\"dataframe\">\n",
       "  <thead>\n",
       "    <tr style=\"text-align: right;\">\n",
       "      <th></th>\n",
       "      <th>60 months</th>\n",
       "    </tr>\n",
       "  </thead>\n",
       "  <tbody>\n",
       "    <tr>\n",
       "      <th>0</th>\n",
       "      <td>0</td>\n",
       "    </tr>\n",
       "    <tr>\n",
       "      <th>1</th>\n",
       "      <td>0</td>\n",
       "    </tr>\n",
       "    <tr>\n",
       "      <th>2</th>\n",
       "      <td>0</td>\n",
       "    </tr>\n",
       "    <tr>\n",
       "      <th>3</th>\n",
       "      <td>0</td>\n",
       "    </tr>\n",
       "    <tr>\n",
       "      <th>4</th>\n",
       "      <td>1</td>\n",
       "    </tr>\n",
       "    <tr>\n",
       "      <th>...</th>\n",
       "      <td>...</td>\n",
       "    </tr>\n",
       "    <tr>\n",
       "      <th>396025</th>\n",
       "      <td>1</td>\n",
       "    </tr>\n",
       "    <tr>\n",
       "      <th>396026</th>\n",
       "      <td>0</td>\n",
       "    </tr>\n",
       "    <tr>\n",
       "      <th>396027</th>\n",
       "      <td>0</td>\n",
       "    </tr>\n",
       "    <tr>\n",
       "      <th>396028</th>\n",
       "      <td>1</td>\n",
       "    </tr>\n",
       "    <tr>\n",
       "      <th>396029</th>\n",
       "      <td>0</td>\n",
       "    </tr>\n",
       "  </tbody>\n",
       "</table>\n",
       "<p>396030 rows × 1 columns</p>\n",
       "</div>"
      ],
      "text/plain": [
       "         60 months\n",
       "0                0\n",
       "1                0\n",
       "2                0\n",
       "3                0\n",
       "4                1\n",
       "...            ...\n",
       "396025           1\n",
       "396026           0\n",
       "396027           0\n",
       "396028           1\n",
       "396029           0\n",
       "\n",
       "[396030 rows x 1 columns]"
      ]
     },
     "execution_count": 126,
     "metadata": {},
     "output_type": "execute_result"
    }
   ],
   "source": [
    "pd.get_dummies(df['term'], drop_first=True)"
   ]
  },
  {
   "cell_type": "code",
   "execution_count": 127,
   "metadata": {},
   "outputs": [],
   "source": [
    "df['term'] = pd.get_dummies(df['term'], drop_first=True)[' 60 months']"
   ]
  },
  {
   "cell_type": "code",
   "execution_count": 128,
   "metadata": {},
   "outputs": [
    {
     "name": "stdout",
     "output_type": "stream",
     "text": [
      "LC assigned loan grade\n"
     ]
    }
   ],
   "source": [
    "feat_info('grade')"
   ]
  },
  {
   "cell_type": "code",
   "execution_count": 129,
   "metadata": {},
   "outputs": [
    {
     "data": {
      "text/plain": [
       "B    116018\n",
       "C    105987\n",
       "A     64187\n",
       "D     63524\n",
       "E     31488\n",
       "F     11772\n",
       "G      3054\n",
       "Name: grade, dtype: int64"
      ]
     },
     "execution_count": 129,
     "metadata": {},
     "output_type": "execute_result"
    }
   ],
   "source": [
    "df['grade'].value_counts()"
   ]
  },
  {
   "cell_type": "code",
   "execution_count": 130,
   "metadata": {},
   "outputs": [
    {
     "data": {
      "text/html": [
       "<div>\n",
       "<style scoped>\n",
       "    .dataframe tbody tr th:only-of-type {\n",
       "        vertical-align: middle;\n",
       "    }\n",
       "\n",
       "    .dataframe tbody tr th {\n",
       "        vertical-align: top;\n",
       "    }\n",
       "\n",
       "    .dataframe thead th {\n",
       "        text-align: right;\n",
       "    }\n",
       "</style>\n",
       "<table border=\"1\" class=\"dataframe\">\n",
       "  <thead>\n",
       "    <tr style=\"text-align: right;\">\n",
       "      <th></th>\n",
       "      <th>B</th>\n",
       "      <th>C</th>\n",
       "      <th>D</th>\n",
       "      <th>E</th>\n",
       "      <th>F</th>\n",
       "      <th>G</th>\n",
       "    </tr>\n",
       "  </thead>\n",
       "  <tbody>\n",
       "    <tr>\n",
       "      <th>0</th>\n",
       "      <td>1</td>\n",
       "      <td>0</td>\n",
       "      <td>0</td>\n",
       "      <td>0</td>\n",
       "      <td>0</td>\n",
       "      <td>0</td>\n",
       "    </tr>\n",
       "    <tr>\n",
       "      <th>1</th>\n",
       "      <td>1</td>\n",
       "      <td>0</td>\n",
       "      <td>0</td>\n",
       "      <td>0</td>\n",
       "      <td>0</td>\n",
       "      <td>0</td>\n",
       "    </tr>\n",
       "  </tbody>\n",
       "</table>\n",
       "</div>"
      ],
      "text/plain": [
       "   B  C  D  E  F  G\n",
       "0  1  0  0  0  0  0\n",
       "1  1  0  0  0  0  0"
      ]
     },
     "execution_count": 130,
     "metadata": {},
     "output_type": "execute_result"
    }
   ],
   "source": [
    "pd.get_dummies(df['grade'], drop_first=True).head(2)"
   ]
  },
  {
   "cell_type": "code",
   "execution_count": 131,
   "metadata": {},
   "outputs": [
    {
     "data": {
      "text/html": [
       "<div>\n",
       "<style scoped>\n",
       "    .dataframe tbody tr th:only-of-type {\n",
       "        vertical-align: middle;\n",
       "    }\n",
       "\n",
       "    .dataframe tbody tr th {\n",
       "        vertical-align: top;\n",
       "    }\n",
       "\n",
       "    .dataframe thead th {\n",
       "        text-align: right;\n",
       "    }\n",
       "</style>\n",
       "<table border=\"1\" class=\"dataframe\">\n",
       "  <thead>\n",
       "    <tr style=\"text-align: right;\">\n",
       "      <th></th>\n",
       "      <th>loan_amnt</th>\n",
       "      <th>term</th>\n",
       "      <th>int_rate</th>\n",
       "      <th>installment</th>\n",
       "      <th>grade</th>\n",
       "      <th>sub_grade</th>\n",
       "      <th>emp_title</th>\n",
       "      <th>emp_length</th>\n",
       "      <th>home_ownership</th>\n",
       "      <th>annual_inc</th>\n",
       "      <th>...</th>\n",
       "      <th>open_acc</th>\n",
       "      <th>pub_rec</th>\n",
       "      <th>revol_bal</th>\n",
       "      <th>revol_util</th>\n",
       "      <th>total_acc</th>\n",
       "      <th>initial_list_status</th>\n",
       "      <th>application_type</th>\n",
       "      <th>mort_acc</th>\n",
       "      <th>pub_rec_bankruptcies</th>\n",
       "      <th>address</th>\n",
       "    </tr>\n",
       "  </thead>\n",
       "  <tbody>\n",
       "    <tr>\n",
       "      <th>0</th>\n",
       "      <td>10000.0</td>\n",
       "      <td>0</td>\n",
       "      <td>11.44</td>\n",
       "      <td>329.48</td>\n",
       "      <td>B</td>\n",
       "      <td>B4</td>\n",
       "      <td>Marketing</td>\n",
       "      <td>10+ years</td>\n",
       "      <td>RENT</td>\n",
       "      <td>117000.0</td>\n",
       "      <td>...</td>\n",
       "      <td>16.0</td>\n",
       "      <td>0.0</td>\n",
       "      <td>36369.0</td>\n",
       "      <td>41.8</td>\n",
       "      <td>25.0</td>\n",
       "      <td>w</td>\n",
       "      <td>INDIVIDUAL</td>\n",
       "      <td>0.0</td>\n",
       "      <td>0.0</td>\n",
       "      <td>0174 Michelle Gateway\\nMendozaberg, OK 22690</td>\n",
       "    </tr>\n",
       "    <tr>\n",
       "      <th>1</th>\n",
       "      <td>8000.0</td>\n",
       "      <td>0</td>\n",
       "      <td>11.99</td>\n",
       "      <td>265.68</td>\n",
       "      <td>B</td>\n",
       "      <td>B5</td>\n",
       "      <td>Credit analyst</td>\n",
       "      <td>4 years</td>\n",
       "      <td>MORTGAGE</td>\n",
       "      <td>65000.0</td>\n",
       "      <td>...</td>\n",
       "      <td>17.0</td>\n",
       "      <td>0.0</td>\n",
       "      <td>20131.0</td>\n",
       "      <td>53.3</td>\n",
       "      <td>27.0</td>\n",
       "      <td>f</td>\n",
       "      <td>INDIVIDUAL</td>\n",
       "      <td>3.0</td>\n",
       "      <td>0.0</td>\n",
       "      <td>1076 Carney Fort Apt. 347\\nLoganmouth, SD 05113</td>\n",
       "    </tr>\n",
       "  </tbody>\n",
       "</table>\n",
       "<p>2 rows × 27 columns</p>\n",
       "</div>"
      ],
      "text/plain": [
       "   loan_amnt  term  int_rate  installment grade sub_grade        emp_title  \\\n",
       "0    10000.0     0     11.44       329.48     B        B4        Marketing   \n",
       "1     8000.0     0     11.99       265.68     B        B5  Credit analyst    \n",
       "\n",
       "  emp_length home_ownership  annual_inc  ... open_acc pub_rec revol_bal  \\\n",
       "0  10+ years           RENT    117000.0  ...     16.0     0.0   36369.0   \n",
       "1    4 years       MORTGAGE     65000.0  ...     17.0     0.0   20131.0   \n",
       "\n",
       "  revol_util total_acc  initial_list_status application_type  mort_acc  \\\n",
       "0       41.8      25.0                    w       INDIVIDUAL       0.0   \n",
       "1       53.3      27.0                    f       INDIVIDUAL       3.0   \n",
       "\n",
       "   pub_rec_bankruptcies                                          address  \n",
       "0                   0.0     0174 Michelle Gateway\\nMendozaberg, OK 22690  \n",
       "1                   0.0  1076 Carney Fort Apt. 347\\nLoganmouth, SD 05113  \n",
       "\n",
       "[2 rows x 27 columns]"
      ]
     },
     "execution_count": 131,
     "metadata": {},
     "output_type": "execute_result"
    }
   ],
   "source": [
    "df.head(2)"
   ]
  },
  {
   "cell_type": "code",
   "execution_count": 132,
   "metadata": {},
   "outputs": [],
   "source": [
    "df = pd.concat([df, pd.get_dummies(df['grade'], drop_first=True)], axis=1)"
   ]
  },
  {
   "cell_type": "code",
   "execution_count": 133,
   "metadata": {},
   "outputs": [],
   "source": [
    "df.drop('grade', axis=1, inplace=True)"
   ]
  },
  {
   "cell_type": "code",
   "execution_count": 134,
   "metadata": {},
   "outputs": [
    {
     "data": {
      "text/html": [
       "<div>\n",
       "<style scoped>\n",
       "    .dataframe tbody tr th:only-of-type {\n",
       "        vertical-align: middle;\n",
       "    }\n",
       "\n",
       "    .dataframe tbody tr th {\n",
       "        vertical-align: top;\n",
       "    }\n",
       "\n",
       "    .dataframe thead th {\n",
       "        text-align: right;\n",
       "    }\n",
       "</style>\n",
       "<table border=\"1\" class=\"dataframe\">\n",
       "  <thead>\n",
       "    <tr style=\"text-align: right;\">\n",
       "      <th></th>\n",
       "      <th>loan_amnt</th>\n",
       "      <th>term</th>\n",
       "      <th>int_rate</th>\n",
       "      <th>installment</th>\n",
       "      <th>sub_grade</th>\n",
       "      <th>emp_title</th>\n",
       "      <th>emp_length</th>\n",
       "      <th>home_ownership</th>\n",
       "      <th>annual_inc</th>\n",
       "      <th>verification_status</th>\n",
       "      <th>...</th>\n",
       "      <th>application_type</th>\n",
       "      <th>mort_acc</th>\n",
       "      <th>pub_rec_bankruptcies</th>\n",
       "      <th>address</th>\n",
       "      <th>B</th>\n",
       "      <th>C</th>\n",
       "      <th>D</th>\n",
       "      <th>E</th>\n",
       "      <th>F</th>\n",
       "      <th>G</th>\n",
       "    </tr>\n",
       "  </thead>\n",
       "  <tbody>\n",
       "    <tr>\n",
       "      <th>0</th>\n",
       "      <td>10000.0</td>\n",
       "      <td>0</td>\n",
       "      <td>11.44</td>\n",
       "      <td>329.48</td>\n",
       "      <td>B4</td>\n",
       "      <td>Marketing</td>\n",
       "      <td>10+ years</td>\n",
       "      <td>RENT</td>\n",
       "      <td>117000.0</td>\n",
       "      <td>Not Verified</td>\n",
       "      <td>...</td>\n",
       "      <td>INDIVIDUAL</td>\n",
       "      <td>0.0</td>\n",
       "      <td>0.0</td>\n",
       "      <td>0174 Michelle Gateway\\nMendozaberg, OK 22690</td>\n",
       "      <td>1</td>\n",
       "      <td>0</td>\n",
       "      <td>0</td>\n",
       "      <td>0</td>\n",
       "      <td>0</td>\n",
       "      <td>0</td>\n",
       "    </tr>\n",
       "  </tbody>\n",
       "</table>\n",
       "<p>1 rows × 32 columns</p>\n",
       "</div>"
      ],
      "text/plain": [
       "   loan_amnt  term  int_rate  installment sub_grade  emp_title emp_length  \\\n",
       "0    10000.0     0     11.44       329.48        B4  Marketing  10+ years   \n",
       "\n",
       "  home_ownership  annual_inc verification_status  ... application_type  \\\n",
       "0           RENT    117000.0        Not Verified  ...       INDIVIDUAL   \n",
       "\n",
       "  mort_acc pub_rec_bankruptcies                                       address  \\\n",
       "0      0.0                  0.0  0174 Michelle Gateway\\nMendozaberg, OK 22690   \n",
       "\n",
       "   B  C  D  E  F  G  \n",
       "0  1  0  0  0  0  0  \n",
       "\n",
       "[1 rows x 32 columns]"
      ]
     },
     "execution_count": 134,
     "metadata": {},
     "output_type": "execute_result"
    }
   ],
   "source": [
    "df.head(1)"
   ]
  },
  {
   "cell_type": "code",
   "execution_count": 135,
   "metadata": {},
   "outputs": [
    {
     "name": "stdout",
     "output_type": "stream",
     "text": [
      "LC assigned loan subgrade\n"
     ]
    }
   ],
   "source": [
    "feat_info('sub_grade')"
   ]
  },
  {
   "cell_type": "code",
   "execution_count": 136,
   "metadata": {},
   "outputs": [
    {
     "data": {
      "text/plain": [
       "35"
      ]
     },
     "execution_count": 136,
     "metadata": {},
     "output_type": "execute_result"
    }
   ],
   "source": [
    "df['sub_grade'].nunique()"
   ]
  },
  {
   "cell_type": "code",
   "execution_count": 137,
   "metadata": {},
   "outputs": [],
   "source": [
    "df.drop('sub_grade', axis=1, inplace=True)"
   ]
  },
  {
   "cell_type": "code",
   "execution_count": 138,
   "metadata": {},
   "outputs": [
    {
     "name": "stdout",
     "output_type": "stream",
     "text": [
      "The job title supplied by the Borrower when applying for the loan.*\n"
     ]
    }
   ],
   "source": [
    "feat_info('emp_title')"
   ]
  },
  {
   "cell_type": "code",
   "execution_count": 139,
   "metadata": {},
   "outputs": [
    {
     "data": {
      "text/plain": [
       "Teacher                         4389\n",
       "Manager                         4250\n",
       "Registered Nurse                1856\n",
       "RN                              1846\n",
       "Supervisor                      1830\n",
       "                                ... \n",
       "External Performance Manager       1\n",
       "Technichian                        1\n",
       "CAFG&S                             1\n",
       "GTRR Inc.,                         1\n",
       "Health technician                  1\n",
       "Name: emp_title, Length: 173105, dtype: int64"
      ]
     },
     "execution_count": 139,
     "metadata": {},
     "output_type": "execute_result"
    }
   ],
   "source": [
    "df['emp_title'].value_counts()"
   ]
  },
  {
   "cell_type": "code",
   "execution_count": 140,
   "metadata": {},
   "outputs": [],
   "source": [
    "df.drop('emp_title', axis=1, inplace=True)"
   ]
  },
  {
   "cell_type": "code",
   "execution_count": 141,
   "metadata": {},
   "outputs": [
    {
     "name": "stdout",
     "output_type": "stream",
     "text": [
      "Employment length in years. Possible values are between 0 and 10 where 0 means less than one year and 10 means ten or more years. \n"
     ]
    }
   ],
   "source": [
    "feat_info('emp_length')"
   ]
  },
  {
   "cell_type": "code",
   "execution_count": 142,
   "metadata": {},
   "outputs": [
    {
     "data": {
      "text/plain": [
       "10+ years    126041\n",
       "2 years       35827\n",
       "< 1 year      31725\n",
       "3 years       31665\n",
       "5 years       26495\n",
       "1 year        25882\n",
       "4 years       23952\n",
       "6 years       20841\n",
       "7 years       20819\n",
       "8 years       19168\n",
       "9 years       15314\n",
       "Name: emp_length, dtype: int64"
      ]
     },
     "execution_count": 142,
     "metadata": {},
     "output_type": "execute_result"
    }
   ],
   "source": [
    "df['emp_length'].value_counts()"
   ]
  },
  {
   "cell_type": "code",
   "execution_count": 143,
   "metadata": {},
   "outputs": [],
   "source": [
    "x = np.nan"
   ]
  },
  {
   "cell_type": "code",
   "execution_count": 144,
   "metadata": {},
   "outputs": [
    {
     "data": {
      "text/plain": [
       "True"
      ]
     },
     "execution_count": 144,
     "metadata": {},
     "output_type": "execute_result"
    }
   ],
   "source": [
    "x is np.nan"
   ]
  },
  {
   "cell_type": "code",
   "execution_count": 145,
   "metadata": {},
   "outputs": [
    {
     "data": {
      "text/plain": [
       "nan"
      ]
     },
     "execution_count": 145,
     "metadata": {},
     "output_type": "execute_result"
    }
   ],
   "source": [
    "df[df['emp_length'].isnull() == True]['emp_length'].iloc[0]"
   ]
  },
  {
   "cell_type": "code",
   "execution_count": 146,
   "metadata": {},
   "outputs": [],
   "source": [
    "def emp_years(x):\n",
    "    if x is np.nan:\n",
    "        return 0;\n",
    "    first_char = x[0]\n",
    "    second_char = x[1]\n",
    "    if first_char == '<':\n",
    "        return 0;\n",
    "    elif first_char == '1' and second_char == '0':\n",
    "        return 10;\n",
    "    else: \n",
    "        return int(first_char);"
   ]
  },
  {
   "cell_type": "code",
   "execution_count": 147,
   "metadata": {},
   "outputs": [
    {
     "data": {
      "text/plain": [
       "0         10+ years\n",
       "1           4 years\n",
       "2          < 1 year\n",
       "3           6 years\n",
       "4           9 years\n",
       "            ...    \n",
       "396025      2 years\n",
       "396026      5 years\n",
       "396027    10+ years\n",
       "396028    10+ years\n",
       "396029    10+ years\n",
       "Name: emp_length, Length: 396030, dtype: object"
      ]
     },
     "execution_count": 147,
     "metadata": {},
     "output_type": "execute_result"
    }
   ],
   "source": [
    "df['emp_length']"
   ]
  },
  {
   "cell_type": "code",
   "execution_count": 148,
   "metadata": {},
   "outputs": [
    {
     "data": {
      "text/plain": [
       "6"
      ]
     },
     "execution_count": 148,
     "metadata": {},
     "output_type": "execute_result"
    }
   ],
   "source": [
    "emp_years(df['emp_length'].iloc[3])"
   ]
  },
  {
   "cell_type": "code",
   "execution_count": 149,
   "metadata": {},
   "outputs": [
    {
     "data": {
      "text/plain": [
       "0         10\n",
       "1          4\n",
       "2          0\n",
       "3          6\n",
       "4          9\n",
       "          ..\n",
       "396025     2\n",
       "396026     5\n",
       "396027    10\n",
       "396028    10\n",
       "396029    10\n",
       "Name: emp_length, Length: 396030, dtype: int64"
      ]
     },
     "execution_count": 149,
     "metadata": {},
     "output_type": "execute_result"
    }
   ],
   "source": [
    "df['emp_length'].apply(emp_years)"
   ]
  },
  {
   "cell_type": "code",
   "execution_count": 150,
   "metadata": {},
   "outputs": [],
   "source": [
    "df['emp_length'] = df['emp_length'].apply(emp_years)"
   ]
  },
  {
   "cell_type": "code",
   "execution_count": 151,
   "metadata": {},
   "outputs": [
    {
     "data": {
      "text/html": [
       "<div>\n",
       "<style scoped>\n",
       "    .dataframe tbody tr th:only-of-type {\n",
       "        vertical-align: middle;\n",
       "    }\n",
       "\n",
       "    .dataframe tbody tr th {\n",
       "        vertical-align: top;\n",
       "    }\n",
       "\n",
       "    .dataframe thead th {\n",
       "        text-align: right;\n",
       "    }\n",
       "</style>\n",
       "<table border=\"1\" class=\"dataframe\">\n",
       "  <thead>\n",
       "    <tr style=\"text-align: right;\">\n",
       "      <th></th>\n",
       "      <th>loan_amnt</th>\n",
       "      <th>term</th>\n",
       "      <th>int_rate</th>\n",
       "      <th>installment</th>\n",
       "      <th>emp_length</th>\n",
       "      <th>home_ownership</th>\n",
       "      <th>annual_inc</th>\n",
       "      <th>verification_status</th>\n",
       "      <th>issue_d</th>\n",
       "      <th>loan_status</th>\n",
       "      <th>...</th>\n",
       "      <th>application_type</th>\n",
       "      <th>mort_acc</th>\n",
       "      <th>pub_rec_bankruptcies</th>\n",
       "      <th>address</th>\n",
       "      <th>B</th>\n",
       "      <th>C</th>\n",
       "      <th>D</th>\n",
       "      <th>E</th>\n",
       "      <th>F</th>\n",
       "      <th>G</th>\n",
       "    </tr>\n",
       "  </thead>\n",
       "  <tbody>\n",
       "    <tr>\n",
       "      <th>0</th>\n",
       "      <td>10000.0</td>\n",
       "      <td>0</td>\n",
       "      <td>11.44</td>\n",
       "      <td>329.48</td>\n",
       "      <td>10</td>\n",
       "      <td>RENT</td>\n",
       "      <td>117000.0</td>\n",
       "      <td>Not Verified</td>\n",
       "      <td>Jan-2015</td>\n",
       "      <td>Fully Paid</td>\n",
       "      <td>...</td>\n",
       "      <td>INDIVIDUAL</td>\n",
       "      <td>0.0</td>\n",
       "      <td>0.0</td>\n",
       "      <td>0174 Michelle Gateway\\nMendozaberg, OK 22690</td>\n",
       "      <td>1</td>\n",
       "      <td>0</td>\n",
       "      <td>0</td>\n",
       "      <td>0</td>\n",
       "      <td>0</td>\n",
       "      <td>0</td>\n",
       "    </tr>\n",
       "  </tbody>\n",
       "</table>\n",
       "<p>1 rows × 30 columns</p>\n",
       "</div>"
      ],
      "text/plain": [
       "   loan_amnt  term  int_rate  installment  emp_length home_ownership  \\\n",
       "0    10000.0     0     11.44       329.48          10           RENT   \n",
       "\n",
       "   annual_inc verification_status   issue_d loan_status  ... application_type  \\\n",
       "0    117000.0        Not Verified  Jan-2015  Fully Paid  ...       INDIVIDUAL   \n",
       "\n",
       "  mort_acc  pub_rec_bankruptcies  \\\n",
       "0      0.0                   0.0   \n",
       "\n",
       "                                        address  B  C  D  E  F  G  \n",
       "0  0174 Michelle Gateway\\nMendozaberg, OK 22690  1  0  0  0  0  0  \n",
       "\n",
       "[1 rows x 30 columns]"
      ]
     },
     "execution_count": 151,
     "metadata": {},
     "output_type": "execute_result"
    }
   ],
   "source": [
    "df.head(1)"
   ]
  },
  {
   "cell_type": "code",
   "execution_count": 152,
   "metadata": {},
   "outputs": [
    {
     "name": "stdout",
     "output_type": "stream",
     "text": [
      "The home ownership status provided by the borrower during registration or obtained from the credit report. Our values are: RENT, OWN, MORTGAGE, OTHER\n"
     ]
    }
   ],
   "source": [
    "feat_info('home_ownership')"
   ]
  },
  {
   "cell_type": "code",
   "execution_count": 153,
   "metadata": {},
   "outputs": [
    {
     "data": {
      "text/plain": [
       "MORTGAGE    198348\n",
       "RENT        159790\n",
       "OWN          37746\n",
       "OTHER          112\n",
       "NONE            31\n",
       "ANY              3\n",
       "Name: home_ownership, dtype: int64"
      ]
     },
     "execution_count": 153,
     "metadata": {},
     "output_type": "execute_result"
    }
   ],
   "source": [
    "df['home_ownership'].value_counts()"
   ]
  },
  {
   "cell_type": "code",
   "execution_count": 154,
   "metadata": {},
   "outputs": [],
   "source": [
    "def ownership(x):\n",
    "    if x == 'NONE' or x == 'ANY':\n",
    "        return 'OTHER'\n",
    "    else:\n",
    "        return x"
   ]
  },
  {
   "cell_type": "code",
   "execution_count": 155,
   "metadata": {},
   "outputs": [
    {
     "data": {
      "text/plain": [
       "MORTGAGE    198348\n",
       "RENT        159790\n",
       "OWN          37746\n",
       "OTHER          146\n",
       "Name: home_ownership, dtype: int64"
      ]
     },
     "execution_count": 155,
     "metadata": {},
     "output_type": "execute_result"
    }
   ],
   "source": [
    "df['home_ownership'].apply(ownership).value_counts()"
   ]
  },
  {
   "cell_type": "code",
   "execution_count": 156,
   "metadata": {},
   "outputs": [
    {
     "data": {
      "text/html": [
       "<div>\n",
       "<style scoped>\n",
       "    .dataframe tbody tr th:only-of-type {\n",
       "        vertical-align: middle;\n",
       "    }\n",
       "\n",
       "    .dataframe tbody tr th {\n",
       "        vertical-align: top;\n",
       "    }\n",
       "\n",
       "    .dataframe thead th {\n",
       "        text-align: right;\n",
       "    }\n",
       "</style>\n",
       "<table border=\"1\" class=\"dataframe\">\n",
       "  <thead>\n",
       "    <tr style=\"text-align: right;\">\n",
       "      <th></th>\n",
       "      <th>OTHER</th>\n",
       "      <th>OWN</th>\n",
       "      <th>RENT</th>\n",
       "    </tr>\n",
       "  </thead>\n",
       "  <tbody>\n",
       "    <tr>\n",
       "      <th>0</th>\n",
       "      <td>0</td>\n",
       "      <td>0</td>\n",
       "      <td>1</td>\n",
       "    </tr>\n",
       "    <tr>\n",
       "      <th>1</th>\n",
       "      <td>0</td>\n",
       "      <td>0</td>\n",
       "      <td>0</td>\n",
       "    </tr>\n",
       "    <tr>\n",
       "      <th>2</th>\n",
       "      <td>0</td>\n",
       "      <td>0</td>\n",
       "      <td>1</td>\n",
       "    </tr>\n",
       "    <tr>\n",
       "      <th>3</th>\n",
       "      <td>0</td>\n",
       "      <td>0</td>\n",
       "      <td>1</td>\n",
       "    </tr>\n",
       "    <tr>\n",
       "      <th>4</th>\n",
       "      <td>0</td>\n",
       "      <td>0</td>\n",
       "      <td>0</td>\n",
       "    </tr>\n",
       "    <tr>\n",
       "      <th>...</th>\n",
       "      <td>...</td>\n",
       "      <td>...</td>\n",
       "      <td>...</td>\n",
       "    </tr>\n",
       "    <tr>\n",
       "      <th>396025</th>\n",
       "      <td>0</td>\n",
       "      <td>0</td>\n",
       "      <td>1</td>\n",
       "    </tr>\n",
       "    <tr>\n",
       "      <th>396026</th>\n",
       "      <td>0</td>\n",
       "      <td>0</td>\n",
       "      <td>0</td>\n",
       "    </tr>\n",
       "    <tr>\n",
       "      <th>396027</th>\n",
       "      <td>0</td>\n",
       "      <td>0</td>\n",
       "      <td>1</td>\n",
       "    </tr>\n",
       "    <tr>\n",
       "      <th>396028</th>\n",
       "      <td>0</td>\n",
       "      <td>0</td>\n",
       "      <td>0</td>\n",
       "    </tr>\n",
       "    <tr>\n",
       "      <th>396029</th>\n",
       "      <td>0</td>\n",
       "      <td>0</td>\n",
       "      <td>1</td>\n",
       "    </tr>\n",
       "  </tbody>\n",
       "</table>\n",
       "<p>396030 rows × 3 columns</p>\n",
       "</div>"
      ],
      "text/plain": [
       "        OTHER  OWN  RENT\n",
       "0           0    0     1\n",
       "1           0    0     0\n",
       "2           0    0     1\n",
       "3           0    0     1\n",
       "4           0    0     0\n",
       "...       ...  ...   ...\n",
       "396025      0    0     1\n",
       "396026      0    0     0\n",
       "396027      0    0     1\n",
       "396028      0    0     0\n",
       "396029      0    0     1\n",
       "\n",
       "[396030 rows x 3 columns]"
      ]
     },
     "execution_count": 156,
     "metadata": {},
     "output_type": "execute_result"
    }
   ],
   "source": [
    "pd.get_dummies(df['home_ownership'].apply(ownership), drop_first=True)"
   ]
  },
  {
   "cell_type": "code",
   "execution_count": 157,
   "metadata": {},
   "outputs": [],
   "source": [
    "df = pd.concat([df, pd.get_dummies(df['home_ownership'].apply(ownership), drop_first=True)], axis=1)"
   ]
  },
  {
   "cell_type": "code",
   "execution_count": 158,
   "metadata": {},
   "outputs": [],
   "source": [
    "df.drop('home_ownership', axis=1, inplace=True)"
   ]
  },
  {
   "cell_type": "code",
   "execution_count": 159,
   "metadata": {},
   "outputs": [
    {
     "data": {
      "text/html": [
       "<div>\n",
       "<style scoped>\n",
       "    .dataframe tbody tr th:only-of-type {\n",
       "        vertical-align: middle;\n",
       "    }\n",
       "\n",
       "    .dataframe tbody tr th {\n",
       "        vertical-align: top;\n",
       "    }\n",
       "\n",
       "    .dataframe thead th {\n",
       "        text-align: right;\n",
       "    }\n",
       "</style>\n",
       "<table border=\"1\" class=\"dataframe\">\n",
       "  <thead>\n",
       "    <tr style=\"text-align: right;\">\n",
       "      <th></th>\n",
       "      <th>loan_amnt</th>\n",
       "      <th>term</th>\n",
       "      <th>int_rate</th>\n",
       "      <th>installment</th>\n",
       "      <th>emp_length</th>\n",
       "      <th>annual_inc</th>\n",
       "      <th>verification_status</th>\n",
       "      <th>issue_d</th>\n",
       "      <th>loan_status</th>\n",
       "      <th>purpose</th>\n",
       "      <th>...</th>\n",
       "      <th>address</th>\n",
       "      <th>B</th>\n",
       "      <th>C</th>\n",
       "      <th>D</th>\n",
       "      <th>E</th>\n",
       "      <th>F</th>\n",
       "      <th>G</th>\n",
       "      <th>OTHER</th>\n",
       "      <th>OWN</th>\n",
       "      <th>RENT</th>\n",
       "    </tr>\n",
       "  </thead>\n",
       "  <tbody>\n",
       "    <tr>\n",
       "      <th>0</th>\n",
       "      <td>10000.0</td>\n",
       "      <td>0</td>\n",
       "      <td>11.44</td>\n",
       "      <td>329.48</td>\n",
       "      <td>10</td>\n",
       "      <td>117000.0</td>\n",
       "      <td>Not Verified</td>\n",
       "      <td>Jan-2015</td>\n",
       "      <td>Fully Paid</td>\n",
       "      <td>vacation</td>\n",
       "      <td>...</td>\n",
       "      <td>0174 Michelle Gateway\\nMendozaberg, OK 22690</td>\n",
       "      <td>1</td>\n",
       "      <td>0</td>\n",
       "      <td>0</td>\n",
       "      <td>0</td>\n",
       "      <td>0</td>\n",
       "      <td>0</td>\n",
       "      <td>0</td>\n",
       "      <td>0</td>\n",
       "      <td>1</td>\n",
       "    </tr>\n",
       "  </tbody>\n",
       "</table>\n",
       "<p>1 rows × 32 columns</p>\n",
       "</div>"
      ],
      "text/plain": [
       "   loan_amnt  term  int_rate  installment  emp_length  annual_inc  \\\n",
       "0    10000.0     0     11.44       329.48          10    117000.0   \n",
       "\n",
       "  verification_status   issue_d loan_status   purpose  ...  \\\n",
       "0        Not Verified  Jan-2015  Fully Paid  vacation  ...   \n",
       "\n",
       "                                        address  B  C  D  E  F  G  OTHER OWN  \\\n",
       "0  0174 Michelle Gateway\\nMendozaberg, OK 22690  1  0  0  0  0  0      0   0   \n",
       "\n",
       "  RENT  \n",
       "0    1  \n",
       "\n",
       "[1 rows x 32 columns]"
      ]
     },
     "execution_count": 159,
     "metadata": {},
     "output_type": "execute_result"
    }
   ],
   "source": [
    "df.head(1)"
   ]
  },
  {
   "cell_type": "code",
   "execution_count": 160,
   "metadata": {},
   "outputs": [
    {
     "data": {
      "text/html": [
       "<div>\n",
       "<style scoped>\n",
       "    .dataframe tbody tr th:only-of-type {\n",
       "        vertical-align: middle;\n",
       "    }\n",
       "\n",
       "    .dataframe tbody tr th {\n",
       "        vertical-align: top;\n",
       "    }\n",
       "\n",
       "    .dataframe thead th {\n",
       "        text-align: right;\n",
       "    }\n",
       "</style>\n",
       "<table border=\"1\" class=\"dataframe\">\n",
       "  <thead>\n",
       "    <tr style=\"text-align: right;\">\n",
       "      <th></th>\n",
       "      <th>Source Verified</th>\n",
       "      <th>Verified</th>\n",
       "    </tr>\n",
       "  </thead>\n",
       "  <tbody>\n",
       "    <tr>\n",
       "      <th>0</th>\n",
       "      <td>0</td>\n",
       "      <td>0</td>\n",
       "    </tr>\n",
       "    <tr>\n",
       "      <th>1</th>\n",
       "      <td>0</td>\n",
       "      <td>0</td>\n",
       "    </tr>\n",
       "    <tr>\n",
       "      <th>2</th>\n",
       "      <td>1</td>\n",
       "      <td>0</td>\n",
       "    </tr>\n",
       "    <tr>\n",
       "      <th>3</th>\n",
       "      <td>0</td>\n",
       "      <td>0</td>\n",
       "    </tr>\n",
       "    <tr>\n",
       "      <th>4</th>\n",
       "      <td>0</td>\n",
       "      <td>1</td>\n",
       "    </tr>\n",
       "    <tr>\n",
       "      <th>...</th>\n",
       "      <td>...</td>\n",
       "      <td>...</td>\n",
       "    </tr>\n",
       "    <tr>\n",
       "      <th>396025</th>\n",
       "      <td>1</td>\n",
       "      <td>0</td>\n",
       "    </tr>\n",
       "    <tr>\n",
       "      <th>396026</th>\n",
       "      <td>1</td>\n",
       "      <td>0</td>\n",
       "    </tr>\n",
       "    <tr>\n",
       "      <th>396027</th>\n",
       "      <td>0</td>\n",
       "      <td>1</td>\n",
       "    </tr>\n",
       "    <tr>\n",
       "      <th>396028</th>\n",
       "      <td>0</td>\n",
       "      <td>1</td>\n",
       "    </tr>\n",
       "    <tr>\n",
       "      <th>396029</th>\n",
       "      <td>0</td>\n",
       "      <td>1</td>\n",
       "    </tr>\n",
       "  </tbody>\n",
       "</table>\n",
       "<p>396030 rows × 2 columns</p>\n",
       "</div>"
      ],
      "text/plain": [
       "        Source Verified  Verified\n",
       "0                     0         0\n",
       "1                     0         0\n",
       "2                     1         0\n",
       "3                     0         0\n",
       "4                     0         1\n",
       "...                 ...       ...\n",
       "396025                1         0\n",
       "396026                1         0\n",
       "396027                0         1\n",
       "396028                0         1\n",
       "396029                0         1\n",
       "\n",
       "[396030 rows x 2 columns]"
      ]
     },
     "execution_count": 160,
     "metadata": {},
     "output_type": "execute_result"
    }
   ],
   "source": [
    "pd.get_dummies(df['verification_status'], drop_first=True)"
   ]
  },
  {
   "cell_type": "code",
   "execution_count": 161,
   "metadata": {},
   "outputs": [],
   "source": [
    "df = pd.concat([df, pd.get_dummies(pd.get_dummies(df['verification_status'], drop_first=True), drop_first=True)], axis=1)"
   ]
  },
  {
   "cell_type": "code",
   "execution_count": 162,
   "metadata": {},
   "outputs": [
    {
     "data": {
      "text/html": [
       "<div>\n",
       "<style scoped>\n",
       "    .dataframe tbody tr th:only-of-type {\n",
       "        vertical-align: middle;\n",
       "    }\n",
       "\n",
       "    .dataframe tbody tr th {\n",
       "        vertical-align: top;\n",
       "    }\n",
       "\n",
       "    .dataframe thead th {\n",
       "        text-align: right;\n",
       "    }\n",
       "</style>\n",
       "<table border=\"1\" class=\"dataframe\">\n",
       "  <thead>\n",
       "    <tr style=\"text-align: right;\">\n",
       "      <th></th>\n",
       "      <th>loan_amnt</th>\n",
       "      <th>term</th>\n",
       "      <th>int_rate</th>\n",
       "      <th>installment</th>\n",
       "      <th>emp_length</th>\n",
       "      <th>annual_inc</th>\n",
       "      <th>issue_d</th>\n",
       "      <th>loan_status</th>\n",
       "      <th>purpose</th>\n",
       "      <th>title</th>\n",
       "      <th>...</th>\n",
       "      <th>C</th>\n",
       "      <th>D</th>\n",
       "      <th>E</th>\n",
       "      <th>F</th>\n",
       "      <th>G</th>\n",
       "      <th>OTHER</th>\n",
       "      <th>OWN</th>\n",
       "      <th>RENT</th>\n",
       "      <th>Source Verified</th>\n",
       "      <th>Verified</th>\n",
       "    </tr>\n",
       "  </thead>\n",
       "  <tbody>\n",
       "    <tr>\n",
       "      <th>0</th>\n",
       "      <td>10000.0</td>\n",
       "      <td>0</td>\n",
       "      <td>11.44</td>\n",
       "      <td>329.48</td>\n",
       "      <td>10</td>\n",
       "      <td>117000.0</td>\n",
       "      <td>Jan-2015</td>\n",
       "      <td>Fully Paid</td>\n",
       "      <td>vacation</td>\n",
       "      <td>Vacation</td>\n",
       "      <td>...</td>\n",
       "      <td>0</td>\n",
       "      <td>0</td>\n",
       "      <td>0</td>\n",
       "      <td>0</td>\n",
       "      <td>0</td>\n",
       "      <td>0</td>\n",
       "      <td>0</td>\n",
       "      <td>1</td>\n",
       "      <td>0</td>\n",
       "      <td>0</td>\n",
       "    </tr>\n",
       "  </tbody>\n",
       "</table>\n",
       "<p>1 rows × 33 columns</p>\n",
       "</div>"
      ],
      "text/plain": [
       "   loan_amnt  term  int_rate  installment  emp_length  annual_inc   issue_d  \\\n",
       "0    10000.0     0     11.44       329.48          10    117000.0  Jan-2015   \n",
       "\n",
       "  loan_status   purpose     title  ...  C  D  E  F  G  OTHER  OWN RENT  \\\n",
       "0  Fully Paid  vacation  Vacation  ...  0  0  0  0  0      0    0    1   \n",
       "\n",
       "  Source Verified  Verified  \n",
       "0               0         0  \n",
       "\n",
       "[1 rows x 33 columns]"
      ]
     },
     "execution_count": 162,
     "metadata": {},
     "output_type": "execute_result"
    }
   ],
   "source": [
    "df.drop('verification_status', axis=1, inplace=True)\n",
    "df.head(1)"
   ]
  },
  {
   "cell_type": "code",
   "execution_count": 163,
   "metadata": {},
   "outputs": [
    {
     "name": "stdout",
     "output_type": "stream",
     "text": [
      "The month which the loan was funded\n"
     ]
    }
   ],
   "source": [
    "feat_info('issue_d')"
   ]
  },
  {
   "cell_type": "code",
   "execution_count": 164,
   "metadata": {},
   "outputs": [
    {
     "data": {
      "text/html": [
       "<div>\n",
       "<style scoped>\n",
       "    .dataframe tbody tr th:only-of-type {\n",
       "        vertical-align: middle;\n",
       "    }\n",
       "\n",
       "    .dataframe tbody tr th {\n",
       "        vertical-align: top;\n",
       "    }\n",
       "\n",
       "    .dataframe thead th {\n",
       "        text-align: right;\n",
       "    }\n",
       "</style>\n",
       "<table border=\"1\" class=\"dataframe\">\n",
       "  <thead>\n",
       "    <tr style=\"text-align: right;\">\n",
       "      <th></th>\n",
       "      <th>loan_amnt</th>\n",
       "      <th>term</th>\n",
       "      <th>int_rate</th>\n",
       "      <th>installment</th>\n",
       "      <th>emp_length</th>\n",
       "      <th>annual_inc</th>\n",
       "      <th>loan_status</th>\n",
       "      <th>purpose</th>\n",
       "      <th>title</th>\n",
       "      <th>dti</th>\n",
       "      <th>...</th>\n",
       "      <th>C</th>\n",
       "      <th>D</th>\n",
       "      <th>E</th>\n",
       "      <th>F</th>\n",
       "      <th>G</th>\n",
       "      <th>OTHER</th>\n",
       "      <th>OWN</th>\n",
       "      <th>RENT</th>\n",
       "      <th>Source Verified</th>\n",
       "      <th>Verified</th>\n",
       "    </tr>\n",
       "  </thead>\n",
       "  <tbody>\n",
       "    <tr>\n",
       "      <th>0</th>\n",
       "      <td>10000.0</td>\n",
       "      <td>0</td>\n",
       "      <td>11.44</td>\n",
       "      <td>329.48</td>\n",
       "      <td>10</td>\n",
       "      <td>117000.0</td>\n",
       "      <td>Fully Paid</td>\n",
       "      <td>vacation</td>\n",
       "      <td>Vacation</td>\n",
       "      <td>26.24</td>\n",
       "      <td>...</td>\n",
       "      <td>0</td>\n",
       "      <td>0</td>\n",
       "      <td>0</td>\n",
       "      <td>0</td>\n",
       "      <td>0</td>\n",
       "      <td>0</td>\n",
       "      <td>0</td>\n",
       "      <td>1</td>\n",
       "      <td>0</td>\n",
       "      <td>0</td>\n",
       "    </tr>\n",
       "  </tbody>\n",
       "</table>\n",
       "<p>1 rows × 32 columns</p>\n",
       "</div>"
      ],
      "text/plain": [
       "   loan_amnt  term  int_rate  installment  emp_length  annual_inc loan_status  \\\n",
       "0    10000.0     0     11.44       329.48          10    117000.0  Fully Paid   \n",
       "\n",
       "    purpose     title    dti  ...  C  D  E  F  G  OTHER OWN RENT  \\\n",
       "0  vacation  Vacation  26.24  ...  0  0  0  0  0      0   0    1   \n",
       "\n",
       "   Source Verified  Verified  \n",
       "0                0         0  \n",
       "\n",
       "[1 rows x 32 columns]"
      ]
     },
     "execution_count": 164,
     "metadata": {},
     "output_type": "execute_result"
    }
   ],
   "source": [
    "df.drop('issue_d', axis=1, inplace=True)\n",
    "df.head(1)"
   ]
  },
  {
   "cell_type": "code",
   "execution_count": 165,
   "metadata": {},
   "outputs": [
    {
     "data": {
      "text/html": [
       "<div>\n",
       "<style scoped>\n",
       "    .dataframe tbody tr th:only-of-type {\n",
       "        vertical-align: middle;\n",
       "    }\n",
       "\n",
       "    .dataframe tbody tr th {\n",
       "        vertical-align: top;\n",
       "    }\n",
       "\n",
       "    .dataframe thead th {\n",
       "        text-align: right;\n",
       "    }\n",
       "</style>\n",
       "<table border=\"1\" class=\"dataframe\">\n",
       "  <thead>\n",
       "    <tr style=\"text-align: right;\">\n",
       "      <th></th>\n",
       "      <th>Fully Paid</th>\n",
       "    </tr>\n",
       "  </thead>\n",
       "  <tbody>\n",
       "    <tr>\n",
       "      <th>0</th>\n",
       "      <td>1</td>\n",
       "    </tr>\n",
       "    <tr>\n",
       "      <th>1</th>\n",
       "      <td>1</td>\n",
       "    </tr>\n",
       "    <tr>\n",
       "      <th>2</th>\n",
       "      <td>1</td>\n",
       "    </tr>\n",
       "    <tr>\n",
       "      <th>3</th>\n",
       "      <td>1</td>\n",
       "    </tr>\n",
       "    <tr>\n",
       "      <th>4</th>\n",
       "      <td>0</td>\n",
       "    </tr>\n",
       "    <tr>\n",
       "      <th>...</th>\n",
       "      <td>...</td>\n",
       "    </tr>\n",
       "    <tr>\n",
       "      <th>396025</th>\n",
       "      <td>1</td>\n",
       "    </tr>\n",
       "    <tr>\n",
       "      <th>396026</th>\n",
       "      <td>1</td>\n",
       "    </tr>\n",
       "    <tr>\n",
       "      <th>396027</th>\n",
       "      <td>1</td>\n",
       "    </tr>\n",
       "    <tr>\n",
       "      <th>396028</th>\n",
       "      <td>1</td>\n",
       "    </tr>\n",
       "    <tr>\n",
       "      <th>396029</th>\n",
       "      <td>1</td>\n",
       "    </tr>\n",
       "  </tbody>\n",
       "</table>\n",
       "<p>396030 rows × 1 columns</p>\n",
       "</div>"
      ],
      "text/plain": [
       "        Fully Paid\n",
       "0                1\n",
       "1                1\n",
       "2                1\n",
       "3                1\n",
       "4                0\n",
       "...            ...\n",
       "396025           1\n",
       "396026           1\n",
       "396027           1\n",
       "396028           1\n",
       "396029           1\n",
       "\n",
       "[396030 rows x 1 columns]"
      ]
     },
     "execution_count": 165,
     "metadata": {},
     "output_type": "execute_result"
    }
   ],
   "source": [
    "y = pd.get_dummies(df['loan_status'], drop_first=True)\n",
    "y"
   ]
  },
  {
   "cell_type": "code",
   "execution_count": 166,
   "metadata": {},
   "outputs": [],
   "source": [
    "df.drop('loan_status', axis=1, inplace=True)"
   ]
  },
  {
   "cell_type": "code",
   "execution_count": 167,
   "metadata": {},
   "outputs": [
    {
     "data": {
      "text/html": [
       "<div>\n",
       "<style scoped>\n",
       "    .dataframe tbody tr th:only-of-type {\n",
       "        vertical-align: middle;\n",
       "    }\n",
       "\n",
       "    .dataframe tbody tr th {\n",
       "        vertical-align: top;\n",
       "    }\n",
       "\n",
       "    .dataframe thead th {\n",
       "        text-align: right;\n",
       "    }\n",
       "</style>\n",
       "<table border=\"1\" class=\"dataframe\">\n",
       "  <thead>\n",
       "    <tr style=\"text-align: right;\">\n",
       "      <th></th>\n",
       "      <th>loan_amnt</th>\n",
       "      <th>term</th>\n",
       "      <th>int_rate</th>\n",
       "      <th>installment</th>\n",
       "      <th>emp_length</th>\n",
       "      <th>annual_inc</th>\n",
       "      <th>purpose</th>\n",
       "      <th>title</th>\n",
       "      <th>dti</th>\n",
       "      <th>earliest_cr_line</th>\n",
       "      <th>...</th>\n",
       "      <th>C</th>\n",
       "      <th>D</th>\n",
       "      <th>E</th>\n",
       "      <th>F</th>\n",
       "      <th>G</th>\n",
       "      <th>OTHER</th>\n",
       "      <th>OWN</th>\n",
       "      <th>RENT</th>\n",
       "      <th>Source Verified</th>\n",
       "      <th>Verified</th>\n",
       "    </tr>\n",
       "  </thead>\n",
       "  <tbody>\n",
       "    <tr>\n",
       "      <th>0</th>\n",
       "      <td>10000.0</td>\n",
       "      <td>0</td>\n",
       "      <td>11.44</td>\n",
       "      <td>329.48</td>\n",
       "      <td>10</td>\n",
       "      <td>117000.0</td>\n",
       "      <td>vacation</td>\n",
       "      <td>Vacation</td>\n",
       "      <td>26.24</td>\n",
       "      <td>Jun-1990</td>\n",
       "      <td>...</td>\n",
       "      <td>0</td>\n",
       "      <td>0</td>\n",
       "      <td>0</td>\n",
       "      <td>0</td>\n",
       "      <td>0</td>\n",
       "      <td>0</td>\n",
       "      <td>0</td>\n",
       "      <td>1</td>\n",
       "      <td>0</td>\n",
       "      <td>0</td>\n",
       "    </tr>\n",
       "  </tbody>\n",
       "</table>\n",
       "<p>1 rows × 31 columns</p>\n",
       "</div>"
      ],
      "text/plain": [
       "   loan_amnt  term  int_rate  installment  emp_length  annual_inc   purpose  \\\n",
       "0    10000.0     0     11.44       329.48          10    117000.0  vacation   \n",
       "\n",
       "      title    dti earliest_cr_line  ...  C  D  E  F  G OTHER OWN  RENT  \\\n",
       "0  Vacation  26.24         Jun-1990  ...  0  0  0  0  0     0   0     1   \n",
       "\n",
       "   Source Verified Verified  \n",
       "0                0        0  \n",
       "\n",
       "[1 rows x 31 columns]"
      ]
     },
     "execution_count": 167,
     "metadata": {},
     "output_type": "execute_result"
    }
   ],
   "source": [
    "df.head(1)"
   ]
  },
  {
   "cell_type": "code",
   "execution_count": 168,
   "metadata": {},
   "outputs": [],
   "source": [
    "df.drop('purpose', axis=1, inplace=True)"
   ]
  },
  {
   "cell_type": "code",
   "execution_count": 169,
   "metadata": {},
   "outputs": [],
   "source": [
    "df.drop('title', axis=1, inplace=True)"
   ]
  },
  {
   "cell_type": "code",
   "execution_count": 170,
   "metadata": {},
   "outputs": [
    {
     "data": {
      "text/html": [
       "<div>\n",
       "<style scoped>\n",
       "    .dataframe tbody tr th:only-of-type {\n",
       "        vertical-align: middle;\n",
       "    }\n",
       "\n",
       "    .dataframe tbody tr th {\n",
       "        vertical-align: top;\n",
       "    }\n",
       "\n",
       "    .dataframe thead th {\n",
       "        text-align: right;\n",
       "    }\n",
       "</style>\n",
       "<table border=\"1\" class=\"dataframe\">\n",
       "  <thead>\n",
       "    <tr style=\"text-align: right;\">\n",
       "      <th></th>\n",
       "      <th>loan_amnt</th>\n",
       "      <th>term</th>\n",
       "      <th>int_rate</th>\n",
       "      <th>installment</th>\n",
       "      <th>emp_length</th>\n",
       "      <th>annual_inc</th>\n",
       "      <th>dti</th>\n",
       "      <th>earliest_cr_line</th>\n",
       "      <th>open_acc</th>\n",
       "      <th>pub_rec</th>\n",
       "      <th>...</th>\n",
       "      <th>C</th>\n",
       "      <th>D</th>\n",
       "      <th>E</th>\n",
       "      <th>F</th>\n",
       "      <th>G</th>\n",
       "      <th>OTHER</th>\n",
       "      <th>OWN</th>\n",
       "      <th>RENT</th>\n",
       "      <th>Source Verified</th>\n",
       "      <th>Verified</th>\n",
       "    </tr>\n",
       "  </thead>\n",
       "  <tbody>\n",
       "    <tr>\n",
       "      <th>0</th>\n",
       "      <td>10000.0</td>\n",
       "      <td>0</td>\n",
       "      <td>11.44</td>\n",
       "      <td>329.48</td>\n",
       "      <td>10</td>\n",
       "      <td>117000.0</td>\n",
       "      <td>26.24</td>\n",
       "      <td>Jun-1990</td>\n",
       "      <td>16.0</td>\n",
       "      <td>0.0</td>\n",
       "      <td>...</td>\n",
       "      <td>0</td>\n",
       "      <td>0</td>\n",
       "      <td>0</td>\n",
       "      <td>0</td>\n",
       "      <td>0</td>\n",
       "      <td>0</td>\n",
       "      <td>0</td>\n",
       "      <td>1</td>\n",
       "      <td>0</td>\n",
       "      <td>0</td>\n",
       "    </tr>\n",
       "  </tbody>\n",
       "</table>\n",
       "<p>1 rows × 29 columns</p>\n",
       "</div>"
      ],
      "text/plain": [
       "   loan_amnt  term  int_rate  installment  emp_length  annual_inc    dti  \\\n",
       "0    10000.0     0     11.44       329.48          10    117000.0  26.24   \n",
       "\n",
       "  earliest_cr_line  open_acc  pub_rec  ...  C  D  E  F  G  OTHER  OWN RENT  \\\n",
       "0         Jun-1990      16.0      0.0  ...  0  0  0  0  0      0    0    1   \n",
       "\n",
       "   Source Verified  Verified  \n",
       "0                0         0  \n",
       "\n",
       "[1 rows x 29 columns]"
      ]
     },
     "execution_count": 170,
     "metadata": {},
     "output_type": "execute_result"
    }
   ],
   "source": [
    "df.head(1)"
   ]
  },
  {
   "cell_type": "code",
   "execution_count": 171,
   "metadata": {},
   "outputs": [
    {
     "name": "stdout",
     "output_type": "stream",
     "text": [
      "A ratio calculated using the borrower’s total monthly debt payments on the total debt obligations, excluding mortgage and the requested LC loan, divided by the borrower’s self-reported monthly income.\n"
     ]
    }
   ],
   "source": [
    "feat_info('dti')"
   ]
  },
  {
   "cell_type": "code",
   "execution_count": 172,
   "metadata": {},
   "outputs": [
    {
     "data": {
      "text/plain": [
       "0         26.24\n",
       "1         22.05\n",
       "2         12.79\n",
       "3          2.60\n",
       "4         33.95\n",
       "          ...  \n",
       "396025    15.63\n",
       "396026    21.45\n",
       "396027    17.56\n",
       "396028    15.88\n",
       "396029     8.32\n",
       "Name: dti, Length: 396030, dtype: float64"
      ]
     },
     "execution_count": 172,
     "metadata": {},
     "output_type": "execute_result"
    }
   ],
   "source": [
    "df['dti']"
   ]
  },
  {
   "cell_type": "code",
   "execution_count": 173,
   "metadata": {},
   "outputs": [
    {
     "name": "stdout",
     "output_type": "stream",
     "text": [
      "The month the borrower's earliest reported credit line was opened\n"
     ]
    }
   ],
   "source": [
    "feat_info('earliest_cr_line')"
   ]
  },
  {
   "cell_type": "code",
   "execution_count": 174,
   "metadata": {},
   "outputs": [],
   "source": [
    "df.drop('earliest_cr_line', axis=1, inplace=True)"
   ]
  },
  {
   "cell_type": "code",
   "execution_count": 175,
   "metadata": {},
   "outputs": [
    {
     "name": "stdout",
     "output_type": "stream",
     "text": [
      "The number of open credit lines in the borrower's credit file.\n"
     ]
    }
   ],
   "source": [
    "feat_info('open_acc')"
   ]
  },
  {
   "cell_type": "code",
   "execution_count": 176,
   "metadata": {},
   "outputs": [
    {
     "data": {
      "text/plain": [
       "<AxesSubplot:>"
      ]
     },
     "execution_count": 176,
     "metadata": {},
     "output_type": "execute_result"
    },
    {
     "data": {
      "image/png": "[encoded data removed]",
      "text/plain": [
       "<Figure size 432x288 with 1 Axes>"
      ]
     },
     "metadata": {},
     "output_type": "display_data"
    }
   ],
   "source": [
    "sns.set_style('darkgrid')\n",
    "df['open_acc'].hist(bins=30)"
   ]
  },
  {
   "cell_type": "code",
   "execution_count": 177,
   "metadata": {},
   "outputs": [
    {
     "data": {
      "text/plain": [
       "Index(['loan_amnt', 'term', 'int_rate', 'installment', 'emp_length',\n",
       "       'annual_inc', 'dti', 'open_acc', 'pub_rec', 'revol_bal', 'revol_util',\n",
       "       'total_acc', 'initial_list_status', 'application_type', 'mort_acc',\n",
       "       'pub_rec_bankruptcies', 'address', 'B', 'C', 'D', 'E', 'F', 'G',\n",
       "       'OTHER', 'OWN', 'RENT', 'Source Verified', 'Verified'],\n",
       "      dtype='object')"
      ]
     },
     "execution_count": 177,
     "metadata": {},
     "output_type": "execute_result"
    }
   ],
   "source": [
    "df.columns"
   ]
  },
  {
   "cell_type": "code",
   "execution_count": 178,
   "metadata": {},
   "outputs": [
    {
     "name": "stdout",
     "output_type": "stream",
     "text": [
      "Number of derogatory public records\n"
     ]
    }
   ],
   "source": [
    "feat_info('pub_rec')"
   ]
  },
  {
   "cell_type": "code",
   "execution_count": 179,
   "metadata": {},
   "outputs": [
    {
     "data": {
      "text/plain": [
       "0.0     338272\n",
       "1.0      49739\n",
       "2.0       5476\n",
       "3.0       1521\n",
       "4.0        527\n",
       "5.0        237\n",
       "6.0        122\n",
       "7.0         56\n",
       "8.0         34\n",
       "9.0         12\n",
       "10.0        11\n",
       "11.0         8\n",
       "13.0         4\n",
       "12.0         4\n",
       "19.0         2\n",
       "86.0         1\n",
       "40.0         1\n",
       "17.0         1\n",
       "15.0         1\n",
       "24.0         1\n",
       "Name: pub_rec, dtype: int64"
      ]
     },
     "execution_count": 179,
     "metadata": {},
     "output_type": "execute_result"
    }
   ],
   "source": [
    "df['pub_rec'].value_counts()"
   ]
  },
  {
   "cell_type": "code",
   "execution_count": 180,
   "metadata": {},
   "outputs": [
    {
     "name": "stdout",
     "output_type": "stream",
     "text": [
      "Total credit revolving balance\n"
     ]
    }
   ],
   "source": [
    "feat_info('revol_bal')"
   ]
  },
  {
   "cell_type": "code",
   "execution_count": 181,
   "metadata": {},
   "outputs": [
    {
     "data": {
      "text/plain": [
       "0         36369.0\n",
       "1         20131.0\n",
       "2         11987.0\n",
       "3          5472.0\n",
       "4         24584.0\n",
       "           ...   \n",
       "396025     1990.0\n",
       "396026    43263.0\n",
       "396027    32704.0\n",
       "396028    15704.0\n",
       "396029     4292.0\n",
       "Name: revol_bal, Length: 396030, dtype: float64"
      ]
     },
     "execution_count": 181,
     "metadata": {},
     "output_type": "execute_result"
    }
   ],
   "source": [
    "df['revol_bal']"
   ]
  },
  {
   "cell_type": "code",
   "execution_count": 182,
   "metadata": {},
   "outputs": [
    {
     "name": "stdout",
     "output_type": "stream",
     "text": [
      "Revolving line utilization rate, or the amount of credit the borrower is using relative to all available revolving credit.\n"
     ]
    }
   ],
   "source": [
    "feat_info('revol_util')"
   ]
  },
  {
   "cell_type": "code",
   "execution_count": 183,
   "metadata": {},
   "outputs": [
    {
     "data": {
      "text/plain": [
       "(0.0, 150.0)"
      ]
     },
     "execution_count": 183,
     "metadata": {},
     "output_type": "execute_result"
    },
    {
     "data": {
      "image/png": "[encoded data removed]",
      "text/plain": [
       "<Figure size 432x288 with 1 Axes>"
      ]
     },
     "metadata": {},
     "output_type": "display_data"
    }
   ],
   "source": [
    "df['revol_util'].hist(bins=100)\n",
    "plt.xlim([0,150])"
   ]
  },
  {
   "cell_type": "code",
   "execution_count": 184,
   "metadata": {},
   "outputs": [
    {
     "data": {
      "text/plain": [
       "Index(['loan_amnt', 'term', 'int_rate', 'installment', 'emp_length',\n",
       "       'annual_inc', 'dti', 'open_acc', 'pub_rec', 'revol_bal', 'revol_util',\n",
       "       'total_acc', 'initial_list_status', 'application_type', 'mort_acc',\n",
       "       'pub_rec_bankruptcies', 'address', 'B', 'C', 'D', 'E', 'F', 'G',\n",
       "       'OTHER', 'OWN', 'RENT', 'Source Verified', 'Verified'],\n",
       "      dtype='object')"
      ]
     },
     "execution_count": 184,
     "metadata": {},
     "output_type": "execute_result"
    }
   ],
   "source": [
    "df.columns"
   ]
  },
  {
   "cell_type": "code",
   "execution_count": 185,
   "metadata": {},
   "outputs": [
    {
     "name": "stdout",
     "output_type": "stream",
     "text": [
      "The total number of credit lines currently in the borrower's credit file\n"
     ]
    }
   ],
   "source": [
    "feat_info('total_acc')"
   ]
  },
  {
   "cell_type": "code",
   "execution_count": 186,
   "metadata": {},
   "outputs": [
    {
     "name": "stdout",
     "output_type": "stream",
     "text": [
      "The number of open credit lines in the borrower's credit file.\n"
     ]
    }
   ],
   "source": [
    "feat_info('open_acc')"
   ]
  },
  {
   "cell_type": "code",
   "execution_count": 187,
   "metadata": {},
   "outputs": [
    {
     "data": {
      "text/plain": [
       "<AxesSubplot:>"
      ]
     },
     "execution_count": 187,
     "metadata": {},
     "output_type": "execute_result"
    },
    {
     "data": {
      "image/png": "[encoded data removed]",
      "text/plain": [
       "<Figure size 432x288 with 1 Axes>"
      ]
     },
     "metadata": {},
     "output_type": "display_data"
    }
   ],
   "source": [
    "df['total_acc'].hist(bins=50)"
   ]
  },
  {
   "cell_type": "code",
   "execution_count": 188,
   "metadata": {},
   "outputs": [
    {
     "name": "stdout",
     "output_type": "stream",
     "text": [
      "The initial listing status of the loan. Possible values are – W, F\n"
     ]
    }
   ],
   "source": [
    "feat_info('initial_list_status')"
   ]
  },
  {
   "cell_type": "code",
   "execution_count": 189,
   "metadata": {},
   "outputs": [
    {
     "data": {
      "text/plain": [
       "f    238066\n",
       "w    157964\n",
       "Name: initial_list_status, dtype: int64"
      ]
     },
     "execution_count": 189,
     "metadata": {},
     "output_type": "execute_result"
    }
   ],
   "source": [
    "df['initial_list_status'].value_counts()"
   ]
  },
  {
   "cell_type": "code",
   "execution_count": 190,
   "metadata": {},
   "outputs": [
    {
     "data": {
      "text/html": [
       "<div>\n",
       "<style scoped>\n",
       "    .dataframe tbody tr th:only-of-type {\n",
       "        vertical-align: middle;\n",
       "    }\n",
       "\n",
       "    .dataframe tbody tr th {\n",
       "        vertical-align: top;\n",
       "    }\n",
       "\n",
       "    .dataframe thead th {\n",
       "        text-align: right;\n",
       "    }\n",
       "</style>\n",
       "<table border=\"1\" class=\"dataframe\">\n",
       "  <thead>\n",
       "    <tr style=\"text-align: right;\">\n",
       "      <th></th>\n",
       "      <th>w</th>\n",
       "    </tr>\n",
       "  </thead>\n",
       "  <tbody>\n",
       "    <tr>\n",
       "      <th>0</th>\n",
       "      <td>1</td>\n",
       "    </tr>\n",
       "    <tr>\n",
       "      <th>1</th>\n",
       "      <td>0</td>\n",
       "    </tr>\n",
       "    <tr>\n",
       "      <th>2</th>\n",
       "      <td>0</td>\n",
       "    </tr>\n",
       "    <tr>\n",
       "      <th>3</th>\n",
       "      <td>0</td>\n",
       "    </tr>\n",
       "    <tr>\n",
       "      <th>4</th>\n",
       "      <td>0</td>\n",
       "    </tr>\n",
       "    <tr>\n",
       "      <th>...</th>\n",
       "      <td>...</td>\n",
       "    </tr>\n",
       "    <tr>\n",
       "      <th>396025</th>\n",
       "      <td>1</td>\n",
       "    </tr>\n",
       "    <tr>\n",
       "      <th>396026</th>\n",
       "      <td>0</td>\n",
       "    </tr>\n",
       "    <tr>\n",
       "      <th>396027</th>\n",
       "      <td>0</td>\n",
       "    </tr>\n",
       "    <tr>\n",
       "      <th>396028</th>\n",
       "      <td>0</td>\n",
       "    </tr>\n",
       "    <tr>\n",
       "      <th>396029</th>\n",
       "      <td>0</td>\n",
       "    </tr>\n",
       "  </tbody>\n",
       "</table>\n",
       "<p>396030 rows × 1 columns</p>\n",
       "</div>"
      ],
      "text/plain": [
       "        w\n",
       "0       1\n",
       "1       0\n",
       "2       0\n",
       "3       0\n",
       "4       0\n",
       "...    ..\n",
       "396025  1\n",
       "396026  0\n",
       "396027  0\n",
       "396028  0\n",
       "396029  0\n",
       "\n",
       "[396030 rows x 1 columns]"
      ]
     },
     "execution_count": 190,
     "metadata": {},
     "output_type": "execute_result"
    }
   ],
   "source": [
    "pd.get_dummies(df['initial_list_status'], drop_first=True)"
   ]
  },
  {
   "cell_type": "code",
   "execution_count": 191,
   "metadata": {},
   "outputs": [],
   "source": [
    "df['initial_list_status'] = pd.get_dummies(df['initial_list_status'], drop_first=True)"
   ]
  },
  {
   "cell_type": "code",
   "execution_count": 192,
   "metadata": {},
   "outputs": [
    {
     "name": "stdout",
     "output_type": "stream",
     "text": [
      "Indicates whether the loan is an individual application or a joint application with two co-borrowers\n"
     ]
    }
   ],
   "source": [
    "feat_info('application_type')"
   ]
  },
  {
   "cell_type": "code",
   "execution_count": 193,
   "metadata": {},
   "outputs": [
    {
     "data": {
      "text/plain": [
       "INDIVIDUAL    395319\n",
       "JOINT            425\n",
       "DIRECT_PAY       286\n",
       "Name: application_type, dtype: int64"
      ]
     },
     "execution_count": 193,
     "metadata": {},
     "output_type": "execute_result"
    }
   ],
   "source": [
    "df['application_type'].value_counts()"
   ]
  },
  {
   "cell_type": "code",
   "execution_count": 194,
   "metadata": {},
   "outputs": [],
   "source": [
    "df.drop('application_type', axis=1, inplace=True)"
   ]
  },
  {
   "cell_type": "code",
   "execution_count": 195,
   "metadata": {},
   "outputs": [
    {
     "name": "stdout",
     "output_type": "stream",
     "text": [
      "Number of mortgage accounts.\n"
     ]
    }
   ],
   "source": [
    "feat_info('mort_acc')"
   ]
  },
  {
   "cell_type": "code",
   "execution_count": 196,
   "metadata": {},
   "outputs": [
    {
     "data": {
      "text/plain": [
       "<AxesSubplot:>"
      ]
     },
     "execution_count": 196,
     "metadata": {},
     "output_type": "execute_result"
    },
    {
     "data": {
      "image/png": "[encoded data removed]",
      "text/plain": [
       "<Figure size 432x288 with 1 Axes>"
      ]
     },
     "metadata": {},
     "output_type": "display_data"
    }
   ],
   "source": [
    "df['mort_acc'].value_counts().plot()"
   ]
  },
  {
   "cell_type": "code",
   "execution_count": 197,
   "metadata": {},
   "outputs": [
    {
     "data": {
      "text/plain": [
       "Index(['loan_amnt', 'term', 'int_rate', 'installment', 'emp_length',\n",
       "       'annual_inc', 'dti', 'open_acc', 'pub_rec', 'revol_bal', 'revol_util',\n",
       "       'total_acc', 'initial_list_status', 'mort_acc', 'pub_rec_bankruptcies',\n",
       "       'address', 'B', 'C', 'D', 'E', 'F', 'G', 'OTHER', 'OWN', 'RENT',\n",
       "       'Source Verified', 'Verified'],\n",
       "      dtype='object')"
      ]
     },
     "execution_count": 197,
     "metadata": {},
     "output_type": "execute_result"
    }
   ],
   "source": [
    "df.columns"
   ]
  },
  {
   "cell_type": "code",
   "execution_count": 198,
   "metadata": {},
   "outputs": [
    {
     "name": "stdout",
     "output_type": "stream",
     "text": [
      "Number of public record bankruptcies\n"
     ]
    }
   ],
   "source": [
    "feat_info('pub_rec_bankruptcies')"
   ]
  },
  {
   "cell_type": "code",
   "execution_count": 199,
   "metadata": {},
   "outputs": [
    {
     "data": {
      "text/plain": [
       "0.0    350380\n",
       "1.0     42790\n",
       "2.0      1847\n",
       "3.0       351\n",
       "4.0        82\n",
       "5.0        32\n",
       "6.0         7\n",
       "7.0         4\n",
       "8.0         2\n",
       "Name: pub_rec_bankruptcies, dtype: int64"
      ]
     },
     "execution_count": 199,
     "metadata": {},
     "output_type": "execute_result"
    }
   ],
   "source": [
    "df['pub_rec_bankruptcies'].value_counts()"
   ]
  },
  {
   "cell_type": "code",
   "execution_count": 200,
   "metadata": {},
   "outputs": [
    {
     "data": {
      "text/plain": [
       "False    395495\n",
       "True        535\n",
       "Name: pub_rec_bankruptcies, dtype: int64"
      ]
     },
     "execution_count": 200,
     "metadata": {},
     "output_type": "execute_result"
    }
   ],
   "source": [
    "df['pub_rec_bankruptcies'].isnull().value_counts()"
   ]
  },
  {
   "cell_type": "code",
   "execution_count": 201,
   "metadata": {},
   "outputs": [],
   "source": [
    "df['pub_rec_bankruptcies'].fillna(0,inplace=True)"
   ]
  },
  {
   "cell_type": "code",
   "execution_count": 202,
   "metadata": {},
   "outputs": [
    {
     "data": {
      "text/plain": [
       "False    396030\n",
       "Name: pub_rec_bankruptcies, dtype: int64"
      ]
     },
     "execution_count": 202,
     "metadata": {},
     "output_type": "execute_result"
    }
   ],
   "source": [
    "df['pub_rec_bankruptcies'].isnull().value_counts()"
   ]
  },
  {
   "cell_type": "code",
   "execution_count": 203,
   "metadata": {},
   "outputs": [
    {
     "data": {
      "text/plain": [
       "0         0.0\n",
       "1         0.0\n",
       "2         0.0\n",
       "3         0.0\n",
       "4         0.0\n",
       "         ... \n",
       "396025    0.0\n",
       "396026    0.0\n",
       "396027    0.0\n",
       "396028    0.0\n",
       "396029    0.0\n",
       "Name: pub_rec_bankruptcies, Length: 396030, dtype: float64"
      ]
     },
     "execution_count": 203,
     "metadata": {},
     "output_type": "execute_result"
    }
   ],
   "source": [
    "df['pub_rec_bankruptcies'].apply(lambda x: x if x == 0 else 1)"
   ]
  },
  {
   "cell_type": "code",
   "execution_count": 204,
   "metadata": {},
   "outputs": [
    {
     "data": {
      "text/plain": [
       "0.0    350915\n",
       "1.0     45115\n",
       "Name: pub_rec_bankruptcies, dtype: int64"
      ]
     },
     "execution_count": 204,
     "metadata": {},
     "output_type": "execute_result"
    }
   ],
   "source": [
    "df['pub_rec_bankruptcies'].apply(lambda x: x if x == 0 else 1).value_counts()"
   ]
  },
  {
   "cell_type": "code",
   "execution_count": 205,
   "metadata": {},
   "outputs": [],
   "source": [
    "df['bankrupt'] = df['pub_rec_bankruptcies'].apply(lambda x: x if x == 0 else 1)"
   ]
  },
  {
   "cell_type": "code",
   "execution_count": 206,
   "metadata": {},
   "outputs": [],
   "source": [
    "df.drop('pub_rec_bankruptcies', axis=1, inplace=True)"
   ]
  },
  {
   "cell_type": "code",
   "execution_count": 207,
   "metadata": {},
   "outputs": [
    {
     "data": {
      "text/plain": [
       "False    358235\n",
       "True      37795\n",
       "Name: mort_acc, dtype: int64"
      ]
     },
     "execution_count": 207,
     "metadata": {},
     "output_type": "execute_result"
    }
   ],
   "source": [
    "df['mort_acc'].isnull().value_counts()"
   ]
  },
  {
   "cell_type": "code",
   "execution_count": 208,
   "metadata": {},
   "outputs": [
    {
     "name": "stdout",
     "output_type": "stream",
     "text": [
      "Number of mortgage accounts.\n"
     ]
    }
   ],
   "source": [
    "feat_info('mort_acc')"
   ]
  },
  {
   "cell_type": "code",
   "execution_count": 209,
   "metadata": {},
   "outputs": [
    {
     "data": {
      "text/plain": [
       "1.8139908160844138"
      ]
     },
     "execution_count": 209,
     "metadata": {},
     "output_type": "execute_result"
    }
   ],
   "source": [
    "df['mort_acc'].mean()"
   ]
  },
  {
   "cell_type": "code",
   "execution_count": 210,
   "metadata": {},
   "outputs": [],
   "source": [
    "df['mort_acc'].fillna(df['mort_acc'].mean(), inplace=True)"
   ]
  },
  {
   "cell_type": "code",
   "execution_count": 211,
   "metadata": {},
   "outputs": [
    {
     "data": {
      "text/plain": [
       "Index(['loan_amnt', 'term', 'int_rate', 'installment', 'emp_length',\n",
       "       'annual_inc', 'dti', 'open_acc', 'pub_rec', 'revol_bal', 'revol_util',\n",
       "       'total_acc', 'initial_list_status', 'mort_acc', 'address', 'B', 'C',\n",
       "       'D', 'E', 'F', 'G', 'OTHER', 'OWN', 'RENT', 'Source Verified',\n",
       "       'Verified', 'bankrupt'],\n",
       "      dtype='object')"
      ]
     },
     "execution_count": 211,
     "metadata": {},
     "output_type": "execute_result"
    }
   ],
   "source": [
    "df.columns"
   ]
  },
  {
   "cell_type": "code",
   "execution_count": 212,
   "metadata": {},
   "outputs": [],
   "source": [
    "df.drop('address', axis=1, inplace=True)"
   ]
  },
  {
   "cell_type": "code",
   "execution_count": 213,
   "metadata": {},
   "outputs": [
    {
     "data": {
      "text/plain": [
       "<AxesSubplot:>"
      ]
     },
     "execution_count": 213,
     "metadata": {},
     "output_type": "execute_result"
    },
    {
     "data": {
      "image/png": "[encoded data removed]",
      "text/plain": [
       "<Figure size 1080x216 with 1 Axes>"
      ]
     },
     "metadata": {},
     "output_type": "display_data"
    }
   ],
   "source": [
    "plt.figure(figsize=(15,3))\n",
    "sns.heatmap(df.isnull(), cbar=False, yticklabels=False, cmap='viridis')"
   ]
  },
  {
   "cell_type": "code",
   "execution_count": 214,
   "metadata": {},
   "outputs": [
    {
     "data": {
      "text/plain": [
       "loan_amnt              False\n",
       "term                   False\n",
       "int_rate               False\n",
       "installment            False\n",
       "emp_length             False\n",
       "annual_inc             False\n",
       "dti                    False\n",
       "open_acc               False\n",
       "pub_rec                False\n",
       "revol_bal              False\n",
       "revol_util              True\n",
       "total_acc              False\n",
       "initial_list_status    False\n",
       "mort_acc               False\n",
       "B                      False\n",
       "C                      False\n",
       "D                      False\n",
       "E                      False\n",
       "F                      False\n",
       "G                      False\n",
       "OTHER                  False\n",
       "OWN                    False\n",
       "RENT                   False\n",
       "Source Verified        False\n",
       "Verified               False\n",
       "bankrupt               False\n",
       "dtype: bool"
      ]
     },
     "execution_count": 214,
     "metadata": {},
     "output_type": "execute_result"
    }
   ],
   "source": [
    "df.isnull().any()"
   ]
  },
  {
   "cell_type": "code",
   "execution_count": 215,
   "metadata": {},
   "outputs": [
    {
     "data": {
      "text/plain": [
       "53.79174863677853"
      ]
     },
     "execution_count": 215,
     "metadata": {},
     "output_type": "execute_result"
    }
   ],
   "source": [
    "df['revol_util'].mean()"
   ]
  },
  {
   "cell_type": "code",
   "execution_count": 216,
   "metadata": {},
   "outputs": [],
   "source": [
    "df['revol_util'].fillna(df['revol_util'].mean(), inplace=True)"
   ]
  },
  {
   "cell_type": "code",
   "execution_count": 217,
   "metadata": {},
   "outputs": [
    {
     "data": {
      "text/plain": [
       "loan_amnt              False\n",
       "term                   False\n",
       "int_rate               False\n",
       "installment            False\n",
       "emp_length             False\n",
       "annual_inc             False\n",
       "dti                    False\n",
       "open_acc               False\n",
       "pub_rec                False\n",
       "revol_bal              False\n",
       "revol_util             False\n",
       "total_acc              False\n",
       "initial_list_status    False\n",
       "mort_acc               False\n",
       "B                      False\n",
       "C                      False\n",
       "D                      False\n",
       "E                      False\n",
       "F                      False\n",
       "G                      False\n",
       "OTHER                  False\n",
       "OWN                    False\n",
       "RENT                   False\n",
       "Source Verified        False\n",
       "Verified               False\n",
       "bankrupt               False\n",
       "dtype: bool"
      ]
     },
     "execution_count": 217,
     "metadata": {},
     "output_type": "execute_result"
    }
   ],
   "source": [
    "df.isnull().any()"
   ]
  },
  {
   "cell_type": "code",
   "execution_count": 218,
   "metadata": {},
   "outputs": [],
   "source": [
    "X = df"
   ]
  },
  {
   "cell_type": "code",
   "execution_count": 219,
   "metadata": {},
   "outputs": [],
   "source": [
    "X = X.values\n",
    "y = y.values"
   ]
  },
  {
   "cell_type": "code",
   "execution_count": 220,
   "metadata": {},
   "outputs": [],
   "source": [
    "from sklearn.model_selection import train_test_split"
   ]
  },
  {
   "cell_type": "code",
   "execution_count": 221,
   "metadata": {},
   "outputs": [],
   "source": [
    "X_train, X_test, y_train, y_test = train_test_split(X, y, test_size=0.2, random_state=42)"
   ]
  },
  {
   "cell_type": "markdown",
   "metadata": {},
   "source": [
    "### Creating the model"
   ]
  },
  {
   "cell_type": "code",
   "execution_count": 222,
   "metadata": {},
   "outputs": [],
   "source": [
    "from sklearn.preprocessing import MinMaxScaler"
   ]
  },
  {
   "cell_type": "code",
   "execution_count": 223,
   "metadata": {},
   "outputs": [],
   "source": [
    "scaler = MinMaxScaler()"
   ]
  },
  {
   "cell_type": "code",
   "execution_count": 224,
   "metadata": {},
   "outputs": [
    {
     "data": {
      "text/plain": [
       "MinMaxScaler()"
      ]
     },
     "execution_count": 224,
     "metadata": {},
     "output_type": "execute_result"
    }
   ],
   "source": [
    "scaler.fit(X_train)"
   ]
  },
  {
   "cell_type": "code",
   "execution_count": 225,
   "metadata": {},
   "outputs": [],
   "source": [
    "X_train = scaler.transform(X_train)\n",
    "X_test = scaler.transform(X_test)"
   ]
  },
  {
   "cell_type": "code",
   "execution_count": 226,
   "metadata": {},
   "outputs": [],
   "source": [
    "from tensorflow.keras.models import Sequential\n",
    "from tensorflow.keras.layers import Dense"
   ]
  },
  {
   "cell_type": "code",
   "execution_count": 227,
   "metadata": {},
   "outputs": [
    {
     "data": {
      "text/plain": [
       "(396030, 26)"
      ]
     },
     "execution_count": 227,
     "metadata": {},
     "output_type": "execute_result"
    }
   ],
   "source": [
    "X.shape"
   ]
  },
  {
   "cell_type": "code",
   "execution_count": 230,
   "metadata": {},
   "outputs": [],
   "source": [
    "model = Sequential()\n",
    "\n",
    "model.add(Dense(26, activation='relu'))\n",
    "model.add(Dense(14, activation='relu'))\n",
    "\n",
    "# BINARY CLASSIFICATION\n",
    "model.add(Dense(1, activation='sigmoid'))\n",
    "\n",
    "model.compile(loss='binary_crossentropy', optimizer='adam')"
   ]
  },
  {
   "cell_type": "code",
   "execution_count": 231,
   "metadata": {},
   "outputs": [
    {
     "name": "stdout",
     "output_type": "stream",
     "text": [
      "Epoch 1/400\n",
      "155/155 [==============================] - 2s 9ms/step - loss: 0.5215 - val_loss: 0.4762\n",
      "Epoch 2/400\n",
      "155/155 [==============================] - 1s 9ms/step - loss: 0.4662 - val_loss: 0.4642\n",
      "Epoch 3/400\n",
      "155/155 [==============================] - 1s 8ms/step - loss: 0.4587 - val_loss: 0.4601\n",
      "Epoch 4/400\n",
      "155/155 [==============================] - 1s 7ms/step - loss: 0.4564 - val_loss: 0.4591\n",
      "Epoch 5/400\n",
      "155/155 [==============================] - 1s 6ms/step - loss: 0.4555 - val_loss: 0.4586\n",
      "Epoch 6/400\n",
      "155/155 [==============================] - 1s 6ms/step - loss: 0.4549 - val_loss: 0.4579\n",
      "Epoch 7/400\n",
      "155/155 [==============================] - 1s 6ms/step - loss: 0.4545 - val_loss: 0.4575\n",
      "Epoch 8/400\n",
      "155/155 [==============================] - 1s 6ms/step - loss: 0.4542 - val_loss: 0.4571\n",
      "Epoch 9/400\n",
      "155/155 [==============================] - 1s 6ms/step - loss: 0.4539 - val_loss: 0.4569\n",
      "Epoch 10/400\n",
      "155/155 [==============================] - 1s 6ms/step - loss: 0.4536 - val_loss: 0.4568\n",
      "Epoch 11/400\n",
      "155/155 [==============================] - 1s 7ms/step - loss: 0.4535 - val_loss: 0.4567\n",
      "Epoch 12/400\n",
      "155/155 [==============================] - 1s 7ms/step - loss: 0.4533 - val_loss: 0.4565\n",
      "Epoch 13/400\n",
      "155/155 [==============================] - 1s 6ms/step - loss: 0.4531 - val_loss: 0.4563\n",
      "Epoch 14/400\n",
      "155/155 [==============================] - 1s 6ms/step - loss: 0.4530 - val_loss: 0.4561\n",
      "Epoch 15/400\n",
      "155/155 [==============================] - 1s 6ms/step - loss: 0.4528 - val_loss: 0.4563\n",
      "Epoch 16/400\n",
      "155/155 [==============================] - 1s 7ms/step - loss: 0.4527 - val_loss: 0.4558\n",
      "Epoch 17/400\n",
      "155/155 [==============================] - 1s 7ms/step - loss: 0.4525 - val_loss: 0.4557\n",
      "Epoch 18/400\n",
      "155/155 [==============================] - 1s 6ms/step - loss: 0.4524 - val_loss: 0.4565\n",
      "Epoch 19/400\n",
      "155/155 [==============================] - 1s 6ms/step - loss: 0.4523 - val_loss: 0.4554\n",
      "Epoch 20/400\n",
      "155/155 [==============================] - 1s 6ms/step - loss: 0.4522 - val_loss: 0.4554\n",
      "Epoch 21/400\n",
      "155/155 [==============================] - 1s 6ms/step - loss: 0.4521 - val_loss: 0.4557\n",
      "Epoch 22/400\n",
      "155/155 [==============================] - 1s 6ms/step - loss: 0.4519 - val_loss: 0.4557\n",
      "Epoch 23/400\n",
      "155/155 [==============================] - 1s 7ms/step - loss: 0.4519 - val_loss: 0.4553\n",
      "Epoch 24/400\n",
      "155/155 [==============================] - 1s 8ms/step - loss: 0.4517 - val_loss: 0.4551\n",
      "Epoch 25/400\n",
      "155/155 [==============================] - 1s 9ms/step - loss: 0.4516 - val_loss: 0.4550\n",
      "Epoch 26/400\n",
      "155/155 [==============================] - 1s 8ms/step - loss: 0.4516 - val_loss: 0.4549\n",
      "Epoch 27/400\n",
      "155/155 [==============================] - 1s 7ms/step - loss: 0.4515 - val_loss: 0.4547\n",
      "Epoch 28/400\n",
      "155/155 [==============================] - 1s 7ms/step - loss: 0.4513 - val_loss: 0.4547\n",
      "Epoch 29/400\n",
      "155/155 [==============================] - 1s 6ms/step - loss: 0.4512 - val_loss: 0.4548\n",
      "Epoch 30/400\n",
      "155/155 [==============================] - 1s 8ms/step - loss: 0.4513 - val_loss: 0.4547\n",
      "Epoch 31/400\n",
      "155/155 [==============================] - 1s 7ms/step - loss: 0.4510 - val_loss: 0.4546\n",
      "Epoch 32/400\n",
      "155/155 [==============================] - 1s 6ms/step - loss: 0.4510 - val_loss: 0.4544\n",
      "Epoch 33/400\n",
      "155/155 [==============================] - 1s 6ms/step - loss: 0.4509 - val_loss: 0.4557\n",
      "Epoch 34/400\n",
      "155/155 [==============================] - 1s 7ms/step - loss: 0.4508 - val_loss: 0.4543\n",
      "Epoch 35/400\n",
      "155/155 [==============================] - 1s 8ms/step - loss: 0.4508 - val_loss: 0.4544\n",
      "Epoch 36/400\n",
      "155/155 [==============================] - 1s 8ms/step - loss: 0.4507 - val_loss: 0.4541\n",
      "Epoch 37/400\n",
      "155/155 [==============================] - 1s 7ms/step - loss: 0.4505 - val_loss: 0.4540\n",
      "Epoch 38/400\n",
      "155/155 [==============================] - 1s 8ms/step - loss: 0.4505 - val_loss: 0.4539\n",
      "Epoch 39/400\n",
      "155/155 [==============================] - 1s 7ms/step - loss: 0.4503 - val_loss: 0.4541\n",
      "Epoch 40/400\n",
      "155/155 [==============================] - 1s 7ms/step - loss: 0.4503 - val_loss: 0.4538\n",
      "Epoch 41/400\n",
      "155/155 [==============================] - 1s 7ms/step - loss: 0.4503 - val_loss: 0.4537\n",
      "Epoch 42/400\n",
      "155/155 [==============================] - 1s 8ms/step - loss: 0.4502 - val_loss: 0.4539\n",
      "Epoch 43/400\n",
      "155/155 [==============================] - 1s 7ms/step - loss: 0.4500 - val_loss: 0.4539\n",
      "Epoch 44/400\n",
      "155/155 [==============================] - 1s 7ms/step - loss: 0.4500 - val_loss: 0.4534\n",
      "Epoch 45/400\n",
      "155/155 [==============================] - 1s 8ms/step - loss: 0.4500 - val_loss: 0.4551\n",
      "Epoch 46/400\n",
      "155/155 [==============================] - 1s 7ms/step - loss: 0.4499 - val_loss: 0.4536\n",
      "Epoch 47/400\n",
      "155/155 [==============================] - 1s 6ms/step - loss: 0.4498 - val_loss: 0.4536\n",
      "Epoch 48/400\n",
      "155/155 [==============================] - 1s 7ms/step - loss: 0.4498 - val_loss: 0.4542\n",
      "Epoch 49/400\n",
      "155/155 [==============================] - 1s 6ms/step - loss: 0.4497 - val_loss: 0.4534\n",
      "Epoch 50/400\n",
      "155/155 [==============================] - 1s 6ms/step - loss: 0.4496 - val_loss: 0.4534\n",
      "Epoch 51/400\n",
      "155/155 [==============================] - 1s 6ms/step - loss: 0.4496 - val_loss: 0.4532\n",
      "Epoch 52/400\n",
      "155/155 [==============================] - 1s 6ms/step - loss: 0.4494 - val_loss: 0.4531\n",
      "Epoch 53/400\n",
      "155/155 [==============================] - 1s 6ms/step - loss: 0.4495 - val_loss: 0.4530\n",
      "Epoch 54/400\n",
      "155/155 [==============================] - 1s 6ms/step - loss: 0.4494 - val_loss: 0.4532\n",
      "Epoch 55/400\n",
      "155/155 [==============================] - 1s 7ms/step - loss: 0.4493 - val_loss: 0.4533\n",
      "Epoch 56/400\n",
      "155/155 [==============================] - 1s 7ms/step - loss: 0.4492 - val_loss: 0.4534\n",
      "Epoch 57/400\n",
      "155/155 [==============================] - 1s 6ms/step - loss: 0.4493 - val_loss: 0.4530\n",
      "Epoch 58/400\n",
      "155/155 [==============================] - 1s 7ms/step - loss: 0.4492 - val_loss: 0.4531\n",
      "Epoch 59/400\n",
      "155/155 [==============================] - 1s 6ms/step - loss: 0.4493 - val_loss: 0.4533\n",
      "Epoch 60/400\n",
      "155/155 [==============================] - 1s 7ms/step - loss: 0.4491 - val_loss: 0.4530\n",
      "Epoch 61/400\n",
      "155/155 [==============================] - 1s 6ms/step - loss: 0.4493 - val_loss: 0.4529\n",
      "Epoch 62/400\n",
      "155/155 [==============================] - 1s 6ms/step - loss: 0.4491 - val_loss: 0.4529\n",
      "Epoch 63/400\n",
      "155/155 [==============================] - 1s 7ms/step - loss: 0.4489 - val_loss: 0.4528\n",
      "Epoch 64/400\n",
      "155/155 [==============================] - 1s 6ms/step - loss: 0.4488 - val_loss: 0.4528\n",
      "Epoch 65/400\n",
      "155/155 [==============================] - 1s 6ms/step - loss: 0.4488 - val_loss: 0.4531\n",
      "Epoch 66/400\n",
      "155/155 [==============================] - 1s 6ms/step - loss: 0.4488 - val_loss: 0.4529\n",
      "Epoch 67/400\n",
      "155/155 [==============================] - 1s 7ms/step - loss: 0.4488 - val_loss: 0.4527\n",
      "Epoch 68/400\n",
      "155/155 [==============================] - 1s 7ms/step - loss: 0.4487 - val_loss: 0.4529\n",
      "Epoch 69/400\n",
      "155/155 [==============================] - 1s 7ms/step - loss: 0.4486 - val_loss: 0.4526\n",
      "Epoch 70/400\n",
      "155/155 [==============================] - 1s 7ms/step - loss: 0.4486 - val_loss: 0.4529\n",
      "Epoch 71/400\n",
      "155/155 [==============================] - 1s 7ms/step - loss: 0.4487 - val_loss: 0.4525\n",
      "Epoch 72/400\n",
      "155/155 [==============================] - 1s 7ms/step - loss: 0.4484 - val_loss: 0.4524\n",
      "Epoch 73/400\n",
      "155/155 [==============================] - 1s 6ms/step - loss: 0.4484 - val_loss: 0.4525\n",
      "Epoch 74/400\n",
      "155/155 [==============================] - 1s 7ms/step - loss: 0.4484 - val_loss: 0.4523\n",
      "Epoch 75/400\n",
      "155/155 [==============================] - 1s 7ms/step - loss: 0.4484 - val_loss: 0.4535\n",
      "Epoch 76/400\n",
      "155/155 [==============================] - 1s 7ms/step - loss: 0.4483 - val_loss: 0.4523\n",
      "Epoch 77/400\n",
      "155/155 [==============================] - 1s 7ms/step - loss: 0.4483 - val_loss: 0.4524\n",
      "Epoch 78/400\n",
      "155/155 [==============================] - 1s 7ms/step - loss: 0.4483 - val_loss: 0.4528\n",
      "Epoch 79/400\n",
      "155/155 [==============================] - 1s 6ms/step - loss: 0.4483 - val_loss: 0.4525\n",
      "Epoch 80/400\n",
      "155/155 [==============================] - 1s 6ms/step - loss: 0.4481 - val_loss: 0.4525\n",
      "Epoch 81/400\n",
      "155/155 [==============================] - 1s 7ms/step - loss: 0.4482 - val_loss: 0.4527\n",
      "Epoch 82/400\n",
      "155/155 [==============================] - 1s 7ms/step - loss: 0.4482 - val_loss: 0.4528\n",
      "Epoch 83/400\n",
      "155/155 [==============================] - 1s 6ms/step - loss: 0.4481 - val_loss: 0.4522\n",
      "Epoch 84/400\n",
      "155/155 [==============================] - 1s 7ms/step - loss: 0.4481 - val_loss: 0.4525\n",
      "Epoch 85/400\n",
      "155/155 [==============================] - 1s 7ms/step - loss: 0.4479 - val_loss: 0.4522\n",
      "Epoch 86/400\n",
      "155/155 [==============================] - 1s 7ms/step - loss: 0.4480 - val_loss: 0.4526\n",
      "Epoch 87/400\n",
      "155/155 [==============================] - 1s 7ms/step - loss: 0.4480 - val_loss: 0.4520\n",
      "Epoch 88/400\n",
      "155/155 [==============================] - 1s 7ms/step - loss: 0.4479 - val_loss: 0.4521\n",
      "Epoch 89/400\n",
      "155/155 [==============================] - 1s 7ms/step - loss: 0.4480 - val_loss: 0.4522\n",
      "Epoch 90/400\n",
      "155/155 [==============================] - 1s 8ms/step - loss: 0.4478 - val_loss: 0.4523\n",
      "Epoch 91/400\n",
      "155/155 [==============================] - 1s 7ms/step - loss: 0.4479 - val_loss: 0.4520\n",
      "Epoch 92/400\n",
      "155/155 [==============================] - 1s 7ms/step - loss: 0.4477 - val_loss: 0.4520\n",
      "Epoch 93/400\n",
      "155/155 [==============================] - 1s 7ms/step - loss: 0.4478 - val_loss: 0.4520\n",
      "Epoch 94/400\n",
      "155/155 [==============================] - 1s 6ms/step - loss: 0.4478 - val_loss: 0.4521\n",
      "Epoch 95/400\n",
      "155/155 [==============================] - 1s 6ms/step - loss: 0.4479 - val_loss: 0.4521\n",
      "Epoch 96/400\n",
      "155/155 [==============================] - 1s 6ms/step - loss: 0.4476 - val_loss: 0.4521\n",
      "Epoch 97/400\n",
      "155/155 [==============================] - 1s 6ms/step - loss: 0.4476 - val_loss: 0.4518\n",
      "Epoch 98/400\n",
      "155/155 [==============================] - 1s 6ms/step - loss: 0.4476 - val_loss: 0.4517\n",
      "Epoch 99/400\n",
      "155/155 [==============================] - 1s 6ms/step - loss: 0.4475 - val_loss: 0.4518\n",
      "Epoch 100/400\n",
      "155/155 [==============================] - 1s 6ms/step - loss: 0.4476 - val_loss: 0.4520\n",
      "Epoch 101/400\n",
      "155/155 [==============================] - 1s 6ms/step - loss: 0.4476 - val_loss: 0.4521\n",
      "Epoch 102/400\n",
      "155/155 [==============================] - 1s 6ms/step - loss: 0.4476 - val_loss: 0.4520\n",
      "Epoch 103/400\n",
      "155/155 [==============================] - 1s 6ms/step - loss: 0.4474 - val_loss: 0.4516\n",
      "Epoch 104/400\n",
      "155/155 [==============================] - 1s 6ms/step - loss: 0.4474 - val_loss: 0.4524\n",
      "Epoch 105/400\n",
      "155/155 [==============================] - 1s 6ms/step - loss: 0.4475 - val_loss: 0.4517\n",
      "Epoch 106/400\n",
      "155/155 [==============================] - 1s 6ms/step - loss: 0.4474 - val_loss: 0.4516\n",
      "Epoch 107/400\n",
      "155/155 [==============================] - 1s 6ms/step - loss: 0.4475 - val_loss: 0.4518\n",
      "Epoch 108/400\n",
      "155/155 [==============================] - 1s 6ms/step - loss: 0.4475 - val_loss: 0.4516\n",
      "Epoch 109/400\n",
      "155/155 [==============================] - 1s 6ms/step - loss: 0.4473 - val_loss: 0.4516\n",
      "Epoch 110/400\n",
      "155/155 [==============================] - 1s 6ms/step - loss: 0.4474 - val_loss: 0.4516\n",
      "Epoch 111/400\n",
      "155/155 [==============================] - 1s 6ms/step - loss: 0.4473 - val_loss: 0.4517\n",
      "Epoch 112/400\n",
      "155/155 [==============================] - 1s 6ms/step - loss: 0.4473 - val_loss: 0.4516\n",
      "Epoch 113/400\n",
      "155/155 [==============================] - 1s 6ms/step - loss: 0.4473 - val_loss: 0.4516\n",
      "Epoch 114/400\n",
      "155/155 [==============================] - 1s 6ms/step - loss: 0.4472 - val_loss: 0.4518\n",
      "Epoch 115/400\n",
      "155/155 [==============================] - 1s 6ms/step - loss: 0.4474 - val_loss: 0.4513\n",
      "Epoch 116/400\n",
      "155/155 [==============================] - 1s 6ms/step - loss: 0.4473 - val_loss: 0.4515\n",
      "Epoch 117/400\n",
      "155/155 [==============================] - 1s 6ms/step - loss: 0.4472 - val_loss: 0.4519\n",
      "Epoch 118/400\n",
      "155/155 [==============================] - 1s 6ms/step - loss: 0.4474 - val_loss: 0.4516\n",
      "Epoch 119/400\n",
      "155/155 [==============================] - 1s 6ms/step - loss: 0.4471 - val_loss: 0.4522\n",
      "Epoch 120/400\n",
      "155/155 [==============================] - 1s 7ms/step - loss: 0.4471 - val_loss: 0.4515\n",
      "Epoch 121/400\n",
      "155/155 [==============================] - 1s 6ms/step - loss: 0.4470 - val_loss: 0.4515\n",
      "Epoch 122/400\n",
      "155/155 [==============================] - 1s 6ms/step - loss: 0.4471 - val_loss: 0.4514\n",
      "Epoch 123/400\n",
      "155/155 [==============================] - 1s 7ms/step - loss: 0.4470 - val_loss: 0.4514\n",
      "Epoch 124/400\n",
      "155/155 [==============================] - 1s 6ms/step - loss: 0.4471 - val_loss: 0.4518\n",
      "Epoch 125/400\n",
      "155/155 [==============================] - 1s 6ms/step - loss: 0.4471 - val_loss: 0.4520\n",
      "Epoch 126/400\n",
      "155/155 [==============================] - 1s 6ms/step - loss: 0.4470 - val_loss: 0.4513\n",
      "Epoch 127/400\n",
      "155/155 [==============================] - 1s 6ms/step - loss: 0.4470 - val_loss: 0.4532\n",
      "Epoch 128/400\n",
      "155/155 [==============================] - 1s 6ms/step - loss: 0.4470 - val_loss: 0.4517\n",
      "Epoch 129/400\n",
      "155/155 [==============================] - 1s 6ms/step - loss: 0.4469 - val_loss: 0.4510\n",
      "Epoch 130/400\n",
      "155/155 [==============================] - 1s 6ms/step - loss: 0.4468 - val_loss: 0.4514\n",
      "Epoch 131/400\n",
      "155/155 [==============================] - 1s 6ms/step - loss: 0.4468 - val_loss: 0.4512\n",
      "Epoch 132/400\n",
      "155/155 [==============================] - 1s 6ms/step - loss: 0.4469 - val_loss: 0.4513\n",
      "Epoch 133/400\n",
      "155/155 [==============================] - 1s 6ms/step - loss: 0.4469 - val_loss: 0.4514\n",
      "Epoch 134/400\n",
      "155/155 [==============================] - 1s 6ms/step - loss: 0.4467 - val_loss: 0.4513\n",
      "Epoch 135/400\n",
      "155/155 [==============================] - 1s 6ms/step - loss: 0.4468 - val_loss: 0.4513\n",
      "Epoch 136/400\n",
      "155/155 [==============================] - 1s 7ms/step - loss: 0.4467 - val_loss: 0.4513\n",
      "Epoch 137/400\n",
      "155/155 [==============================] - 1s 5ms/step - loss: 0.4467 - val_loss: 0.4511\n",
      "Epoch 138/400\n",
      "155/155 [==============================] - 1s 6ms/step - loss: 0.4468 - val_loss: 0.4511\n",
      "Epoch 139/400\n",
      "155/155 [==============================] - 1s 7ms/step - loss: 0.4467 - val_loss: 0.4514\n",
      "Epoch 140/400\n",
      "155/155 [==============================] - 1s 7ms/step - loss: 0.4468 - val_loss: 0.4509\n",
      "Epoch 141/400\n",
      "155/155 [==============================] - 1s 7ms/step - loss: 0.4466 - val_loss: 0.4514\n",
      "Epoch 142/400\n",
      "155/155 [==============================] - 1s 6ms/step - loss: 0.4466 - val_loss: 0.4514\n",
      "Epoch 143/400\n",
      "155/155 [==============================] - 1s 6ms/step - loss: 0.4467 - val_loss: 0.4510\n",
      "Epoch 144/400\n",
      "155/155 [==============================] - 1s 6ms/step - loss: 0.4468 - val_loss: 0.4510\n",
      "Epoch 145/400\n",
      "155/155 [==============================] - 1s 6ms/step - loss: 0.4465 - val_loss: 0.4510\n",
      "Epoch 146/400\n",
      "155/155 [==============================] - 1s 6ms/step - loss: 0.4465 - val_loss: 0.4513\n",
      "Epoch 147/400\n",
      "155/155 [==============================] - 1s 6ms/step - loss: 0.4466 - val_loss: 0.4521\n",
      "Epoch 148/400\n",
      "155/155 [==============================] - 1s 6ms/step - loss: 0.4465 - val_loss: 0.4511\n",
      "Epoch 149/400\n",
      "155/155 [==============================] - 1s 6ms/step - loss: 0.4466 - val_loss: 0.4510\n",
      "Epoch 150/400\n",
      "155/155 [==============================] - 1s 6ms/step - loss: 0.4464 - val_loss: 0.4521\n",
      "Epoch 151/400\n",
      "155/155 [==============================] - 1s 6ms/step - loss: 0.4465 - val_loss: 0.4513\n",
      "Epoch 152/400\n",
      "155/155 [==============================] - 1s 6ms/step - loss: 0.4466 - val_loss: 0.4510\n",
      "Epoch 153/400\n",
      "155/155 [==============================] - 1s 6ms/step - loss: 0.4465 - val_loss: 0.4515\n",
      "Epoch 154/400\n",
      "155/155 [==============================] - 1s 6ms/step - loss: 0.4464 - val_loss: 0.4511\n",
      "Epoch 155/400\n",
      "155/155 [==============================] - 1s 6ms/step - loss: 0.4464 - val_loss: 0.4509\n",
      "Epoch 156/400\n",
      "155/155 [==============================] - 1s 6ms/step - loss: 0.4465 - val_loss: 0.4506\n",
      "Epoch 157/400\n",
      "155/155 [==============================] - 1s 6ms/step - loss: 0.4465 - val_loss: 0.4511\n",
      "Epoch 158/400\n",
      "155/155 [==============================] - 1s 6ms/step - loss: 0.4465 - val_loss: 0.4507\n",
      "Epoch 159/400\n",
      "155/155 [==============================] - 1s 6ms/step - loss: 0.4464 - val_loss: 0.4518\n",
      "Epoch 160/400\n",
      "155/155 [==============================] - 1s 6ms/step - loss: 0.4465 - val_loss: 0.4512\n",
      "Epoch 161/400\n",
      "155/155 [==============================] - 1s 6ms/step - loss: 0.4463 - val_loss: 0.4508\n",
      "Epoch 162/400\n",
      "155/155 [==============================] - 1s 6ms/step - loss: 0.4463 - val_loss: 0.4507\n",
      "Epoch 163/400\n",
      "155/155 [==============================] - 1s 6ms/step - loss: 0.4465 - val_loss: 0.4510\n",
      "Epoch 164/400\n",
      "155/155 [==============================] - 1s 8ms/step - loss: 0.4464 - val_loss: 0.4507\n",
      "Epoch 165/400\n",
      "155/155 [==============================] - 1s 9ms/step - loss: 0.4463 - val_loss: 0.4509\n",
      "Epoch 166/400\n",
      "155/155 [==============================] - 1s 7ms/step - loss: 0.4464 - val_loss: 0.4510\n",
      "Epoch 167/400\n",
      "155/155 [==============================] - 1s 8ms/step - loss: 0.4463 - val_loss: 0.4511\n",
      "Epoch 168/400\n",
      "155/155 [==============================] - 1s 7ms/step - loss: 0.4463 - val_loss: 0.4506\n",
      "Epoch 169/400\n",
      "155/155 [==============================] - 1s 9ms/step - loss: 0.4464 - val_loss: 0.4516\n",
      "Epoch 170/400\n",
      "155/155 [==============================] - 1s 8ms/step - loss: 0.4464 - val_loss: 0.4507\n",
      "Epoch 171/400\n",
      "155/155 [==============================] - 1s 9ms/step - loss: 0.4462 - val_loss: 0.4510\n",
      "Epoch 172/400\n",
      "155/155 [==============================] - 1s 9ms/step - loss: 0.4463 - val_loss: 0.4508\n",
      "Epoch 173/400\n",
      "155/155 [==============================] - 1s 8ms/step - loss: 0.4462 - val_loss: 0.4508\n",
      "Epoch 174/400\n",
      "155/155 [==============================] - 1s 9ms/step - loss: 0.4463 - val_loss: 0.4514\n",
      "Epoch 175/400\n",
      "155/155 [==============================] - 2s 10ms/step - loss: 0.4462 - val_loss: 0.4512\n",
      "Epoch 176/400\n",
      "155/155 [==============================] - 2s 14ms/step - loss: 0.4465 - val_loss: 0.4506\n",
      "Epoch 177/400\n",
      "155/155 [==============================] - 1s 7ms/step - loss: 0.4462 - val_loss: 0.4509\n",
      "Epoch 178/400\n",
      "155/155 [==============================] - 1s 6ms/step - loss: 0.4462 - val_loss: 0.4506\n",
      "Epoch 179/400\n",
      "155/155 [==============================] - 1s 6ms/step - loss: 0.4462 - val_loss: 0.4509\n",
      "Epoch 180/400\n",
      "155/155 [==============================] - 1s 6ms/step - loss: 0.4463 - val_loss: 0.4507\n",
      "Epoch 181/400\n",
      "155/155 [==============================] - 1s 7ms/step - loss: 0.4461 - val_loss: 0.4512\n",
      "Epoch 182/400\n",
      "155/155 [==============================] - 1s 6ms/step - loss: 0.4461 - val_loss: 0.4506\n",
      "Epoch 183/400\n",
      "155/155 [==============================] - 1s 6ms/step - loss: 0.4462 - val_loss: 0.4509\n",
      "Epoch 184/400\n",
      "155/155 [==============================] - 1s 6ms/step - loss: 0.4462 - val_loss: 0.4508\n",
      "Epoch 185/400\n",
      "155/155 [==============================] - 1s 6ms/step - loss: 0.4462 - val_loss: 0.4507\n",
      "Epoch 186/400\n",
      "155/155 [==============================] - 1s 7ms/step - loss: 0.4462 - val_loss: 0.4505\n",
      "Epoch 187/400\n",
      "155/155 [==============================] - 1s 7ms/step - loss: 0.4461 - val_loss: 0.4508\n",
      "Epoch 188/400\n",
      "155/155 [==============================] - 1s 7ms/step - loss: 0.4460 - val_loss: 0.4505\n",
      "Epoch 189/400\n",
      "155/155 [==============================] - 1s 6ms/step - loss: 0.4461 - val_loss: 0.4509\n",
      "Epoch 190/400\n",
      "155/155 [==============================] - 1s 6ms/step - loss: 0.4461 - val_loss: 0.4513\n",
      "Epoch 191/400\n",
      "155/155 [==============================] - 1s 6ms/step - loss: 0.4461 - val_loss: 0.4507\n",
      "Epoch 192/400\n",
      "155/155 [==============================] - 1s 7ms/step - loss: 0.4462 - val_loss: 0.4509\n",
      "Epoch 193/400\n",
      "155/155 [==============================] - 1s 6ms/step - loss: 0.4461 - val_loss: 0.4506\n",
      "Epoch 194/400\n",
      "155/155 [==============================] - 1s 6ms/step - loss: 0.4460 - val_loss: 0.4506\n",
      "Epoch 195/400\n",
      "155/155 [==============================] - 1s 5ms/step - loss: 0.4462 - val_loss: 0.4515\n",
      "Epoch 196/400\n",
      "155/155 [==============================] - 1s 5ms/step - loss: 0.4462 - val_loss: 0.4510\n",
      "Epoch 197/400\n",
      "155/155 [==============================] - 1s 5ms/step - loss: 0.4460 - val_loss: 0.4509\n",
      "Epoch 198/400\n",
      "155/155 [==============================] - 1s 5ms/step - loss: 0.4460 - val_loss: 0.4508\n",
      "Epoch 199/400\n",
      "155/155 [==============================] - 1s 5ms/step - loss: 0.4461 - val_loss: 0.4507\n",
      "Epoch 200/400\n",
      "155/155 [==============================] - 1s 5ms/step - loss: 0.4461 - val_loss: 0.4510\n",
      "Epoch 201/400\n",
      "155/155 [==============================] - 1s 5ms/step - loss: 0.4461 - val_loss: 0.4506\n",
      "Epoch 202/400\n",
      "155/155 [==============================] - 1s 5ms/step - loss: 0.4459 - val_loss: 0.4504\n",
      "Epoch 203/400\n",
      "155/155 [==============================] - 1s 5ms/step - loss: 0.4460 - val_loss: 0.4516\n",
      "Epoch 204/400\n",
      "155/155 [==============================] - 1s 7ms/step - loss: 0.4462 - val_loss: 0.4509\n",
      "Epoch 205/400\n",
      "155/155 [==============================] - 1s 6ms/step - loss: 0.4460 - val_loss: 0.4506\n",
      "Epoch 206/400\n",
      "155/155 [==============================] - 1s 7ms/step - loss: 0.4459 - val_loss: 0.4507\n",
      "Epoch 207/400\n",
      "155/155 [==============================] - 1s 7ms/step - loss: 0.4459 - val_loss: 0.4505\n",
      "Epoch 208/400\n",
      "155/155 [==============================] - 1s 5ms/step - loss: 0.4460 - val_loss: 0.4507\n",
      "Epoch 209/400\n",
      "155/155 [==============================] - 1s 5ms/step - loss: 0.4458 - val_loss: 0.4506\n",
      "Epoch 210/400\n",
      "155/155 [==============================] - 1s 5ms/step - loss: 0.4459 - val_loss: 0.4505\n",
      "Epoch 211/400\n",
      "155/155 [==============================] - 1s 5ms/step - loss: 0.4459 - val_loss: 0.4513\n",
      "Epoch 212/400\n",
      "155/155 [==============================] - 1s 5ms/step - loss: 0.4459 - val_loss: 0.4505\n",
      "Epoch 213/400\n",
      "155/155 [==============================] - 1s 6ms/step - loss: 0.4459 - val_loss: 0.4504\n",
      "Epoch 214/400\n",
      "155/155 [==============================] - 1s 5ms/step - loss: 0.4459 - val_loss: 0.4505\n",
      "Epoch 215/400\n",
      "155/155 [==============================] - 1s 5ms/step - loss: 0.4459 - val_loss: 0.4505\n",
      "Epoch 216/400\n",
      "155/155 [==============================] - 1s 5ms/step - loss: 0.4458 - val_loss: 0.4504\n",
      "Epoch 217/400\n",
      "155/155 [==============================] - 1s 5ms/step - loss: 0.4459 - val_loss: 0.4504\n",
      "Epoch 218/400\n",
      "155/155 [==============================] - 1s 5ms/step - loss: 0.4459 - val_loss: 0.4505\n",
      "Epoch 219/400\n",
      "155/155 [==============================] - 1s 5ms/step - loss: 0.4459 - val_loss: 0.4523\n",
      "Epoch 220/400\n",
      "155/155 [==============================] - 1s 5ms/step - loss: 0.4458 - val_loss: 0.4509\n",
      "Epoch 221/400\n",
      "155/155 [==============================] - 1s 5ms/step - loss: 0.4459 - val_loss: 0.4505\n",
      "Epoch 222/400\n",
      "155/155 [==============================] - 1s 5ms/step - loss: 0.4458 - val_loss: 0.4508\n",
      "Epoch 223/400\n",
      "155/155 [==============================] - 1s 5ms/step - loss: 0.4459 - val_loss: 0.4504\n",
      "Epoch 224/400\n",
      "155/155 [==============================] - 1s 5ms/step - loss: 0.4459 - val_loss: 0.4504\n",
      "Epoch 225/400\n",
      "155/155 [==============================] - 1s 5ms/step - loss: 0.4459 - val_loss: 0.4508\n",
      "Epoch 226/400\n",
      "155/155 [==============================] - 1s 5ms/step - loss: 0.4460 - val_loss: 0.4505\n",
      "Epoch 227/400\n",
      "155/155 [==============================] - 1s 5ms/step - loss: 0.4459 - val_loss: 0.4501\n",
      "Epoch 228/400\n",
      "155/155 [==============================] - 1s 5ms/step - loss: 0.4457 - val_loss: 0.4506\n",
      "Epoch 229/400\n",
      "155/155 [==============================] - 1s 5ms/step - loss: 0.4458 - val_loss: 0.4506\n",
      "Epoch 230/400\n",
      "155/155 [==============================] - 1s 5ms/step - loss: 0.4458 - val_loss: 0.4504\n",
      "Epoch 231/400\n",
      "155/155 [==============================] - 1s 5ms/step - loss: 0.4458 - val_loss: 0.4505\n",
      "Epoch 232/400\n",
      "155/155 [==============================] - 1s 5ms/step - loss: 0.4457 - val_loss: 0.4505\n",
      "Epoch 233/400\n",
      "155/155 [==============================] - 1s 5ms/step - loss: 0.4458 - val_loss: 0.4505\n",
      "Epoch 234/400\n",
      "155/155 [==============================] - 1s 5ms/step - loss: 0.4458 - val_loss: 0.4505\n",
      "Epoch 235/400\n",
      "155/155 [==============================] - 1s 5ms/step - loss: 0.4457 - val_loss: 0.4503\n",
      "Epoch 236/400\n",
      "155/155 [==============================] - 1s 5ms/step - loss: 0.4457 - val_loss: 0.4507\n",
      "Epoch 237/400\n",
      "155/155 [==============================] - 1s 5ms/step - loss: 0.4457 - val_loss: 0.4504\n",
      "Epoch 238/400\n",
      "155/155 [==============================] - 1s 5ms/step - loss: 0.4459 - val_loss: 0.4503\n",
      "Epoch 239/400\n",
      "155/155 [==============================] - 1s 5ms/step - loss: 0.4457 - val_loss: 0.4503\n",
      "Epoch 240/400\n",
      "155/155 [==============================] - 1s 5ms/step - loss: 0.4457 - val_loss: 0.4511\n",
      "Epoch 241/400\n",
      "155/155 [==============================] - 1s 5ms/step - loss: 0.4457 - val_loss: 0.4503\n",
      "Epoch 242/400\n",
      "155/155 [==============================] - 1s 5ms/step - loss: 0.4458 - val_loss: 0.4510\n",
      "Epoch 243/400\n",
      "155/155 [==============================] - 1s 5ms/step - loss: 0.4457 - val_loss: 0.4505\n",
      "Epoch 244/400\n",
      "155/155 [==============================] - 1s 5ms/step - loss: 0.4457 - val_loss: 0.4505\n",
      "Epoch 245/400\n",
      "155/155 [==============================] - 1s 5ms/step - loss: 0.4457 - val_loss: 0.4508\n",
      "Epoch 246/400\n",
      "155/155 [==============================] - 1s 5ms/step - loss: 0.4457 - val_loss: 0.4504\n",
      "Epoch 247/400\n",
      "155/155 [==============================] - 1s 5ms/step - loss: 0.4456 - val_loss: 0.4503\n",
      "Epoch 248/400\n",
      "155/155 [==============================] - 1s 5ms/step - loss: 0.4456 - val_loss: 0.4504\n",
      "Epoch 249/400\n",
      "155/155 [==============================] - 1s 5ms/step - loss: 0.4458 - val_loss: 0.4507\n",
      "Epoch 250/400\n",
      "155/155 [==============================] - 1s 5ms/step - loss: 0.4457 - val_loss: 0.4504\n",
      "Epoch 251/400\n",
      "155/155 [==============================] - 1s 5ms/step - loss: 0.4457 - val_loss: 0.4503\n",
      "Epoch 252/400\n",
      "155/155 [==============================] - 1s 5ms/step - loss: 0.4456 - val_loss: 0.4503\n",
      "Epoch 253/400\n",
      "155/155 [==============================] - 1s 5ms/step - loss: 0.4458 - val_loss: 0.4509\n",
      "Epoch 254/400\n",
      "155/155 [==============================] - 1s 5ms/step - loss: 0.4456 - val_loss: 0.4505\n",
      "Epoch 255/400\n",
      "155/155 [==============================] - 1s 5ms/step - loss: 0.4456 - val_loss: 0.4506\n",
      "Epoch 256/400\n",
      "155/155 [==============================] - 1s 5ms/step - loss: 0.4455 - val_loss: 0.4510\n",
      "Epoch 257/400\n",
      "155/155 [==============================] - 1s 5ms/step - loss: 0.4455 - val_loss: 0.4503\n",
      "Epoch 258/400\n",
      "155/155 [==============================] - 1s 5ms/step - loss: 0.4456 - val_loss: 0.4505\n",
      "Epoch 259/400\n",
      "155/155 [==============================] - 1s 5ms/step - loss: 0.4455 - val_loss: 0.4501\n",
      "Epoch 260/400\n",
      "155/155 [==============================] - 1s 5ms/step - loss: 0.4455 - val_loss: 0.4501\n",
      "Epoch 261/400\n",
      "155/155 [==============================] - 1s 5ms/step - loss: 0.4456 - val_loss: 0.4503\n",
      "Epoch 262/400\n",
      "155/155 [==============================] - 1s 5ms/step - loss: 0.4456 - val_loss: 0.4502\n",
      "Epoch 263/400\n",
      "155/155 [==============================] - 1s 5ms/step - loss: 0.4458 - val_loss: 0.4505\n",
      "Epoch 264/400\n",
      "155/155 [==============================] - 1s 5ms/step - loss: 0.4455 - val_loss: 0.4507\n",
      "Epoch 265/400\n",
      "155/155 [==============================] - 1s 5ms/step - loss: 0.4455 - val_loss: 0.4508\n",
      "Epoch 266/400\n",
      "155/155 [==============================] - 1s 5ms/step - loss: 0.4456 - val_loss: 0.4503\n",
      "Epoch 267/400\n",
      "155/155 [==============================] - 1s 5ms/step - loss: 0.4457 - val_loss: 0.4505\n",
      "Epoch 268/400\n",
      "155/155 [==============================] - 1s 5ms/step - loss: 0.4457 - val_loss: 0.4502\n",
      "Epoch 269/400\n",
      "155/155 [==============================] - 1s 5ms/step - loss: 0.4454 - val_loss: 0.4503\n",
      "Epoch 270/400\n",
      "155/155 [==============================] - 1s 5ms/step - loss: 0.4455 - val_loss: 0.4503\n",
      "Epoch 271/400\n",
      "155/155 [==============================] - 1s 6ms/step - loss: 0.4455 - val_loss: 0.4501\n",
      "Epoch 272/400\n",
      "155/155 [==============================] - 1s 5ms/step - loss: 0.4455 - val_loss: 0.4505\n",
      "Epoch 273/400\n",
      "155/155 [==============================] - 1s 5ms/step - loss: 0.4456 - val_loss: 0.4502\n",
      "Epoch 274/400\n",
      "155/155 [==============================] - 1s 5ms/step - loss: 0.4457 - val_loss: 0.4502\n",
      "Epoch 275/400\n",
      "155/155 [==============================] - 1s 5ms/step - loss: 0.4456 - val_loss: 0.4502\n",
      "Epoch 276/400\n",
      "155/155 [==============================] - 1s 5ms/step - loss: 0.4455 - val_loss: 0.4505\n",
      "Epoch 277/400\n",
      "155/155 [==============================] - 1s 5ms/step - loss: 0.4456 - val_loss: 0.4501\n",
      "Epoch 278/400\n",
      "155/155 [==============================] - 1s 5ms/step - loss: 0.4456 - val_loss: 0.4503\n",
      "Epoch 279/400\n",
      "155/155 [==============================] - 1s 5ms/step - loss: 0.4455 - val_loss: 0.4503\n",
      "Epoch 280/400\n",
      "155/155 [==============================] - 1s 5ms/step - loss: 0.4455 - val_loss: 0.4502\n",
      "Epoch 281/400\n",
      "155/155 [==============================] - 1s 5ms/step - loss: 0.4455 - val_loss: 0.4507\n",
      "Epoch 282/400\n",
      "155/155 [==============================] - 1s 5ms/step - loss: 0.4454 - val_loss: 0.4503\n",
      "Epoch 283/400\n",
      "155/155 [==============================] - 1s 5ms/step - loss: 0.4456 - val_loss: 0.4503\n",
      "Epoch 284/400\n",
      "155/155 [==============================] - 1s 5ms/step - loss: 0.4454 - val_loss: 0.4504\n",
      "Epoch 285/400\n",
      "155/155 [==============================] - 1s 5ms/step - loss: 0.4454 - val_loss: 0.4503\n",
      "Epoch 286/400\n",
      "155/155 [==============================] - 1s 5ms/step - loss: 0.4454 - val_loss: 0.4502\n",
      "Epoch 287/400\n",
      "155/155 [==============================] - 1s 5ms/step - loss: 0.4454 - val_loss: 0.4503\n",
      "Epoch 288/400\n",
      "155/155 [==============================] - 1s 5ms/step - loss: 0.4454 - val_loss: 0.4501\n",
      "Epoch 289/400\n",
      "155/155 [==============================] - 1s 5ms/step - loss: 0.4455 - val_loss: 0.4506\n",
      "Epoch 290/400\n",
      "155/155 [==============================] - 1s 5ms/step - loss: 0.4454 - val_loss: 0.4502\n",
      "Epoch 291/400\n",
      "155/155 [==============================] - 1s 5ms/step - loss: 0.4454 - val_loss: 0.4506\n",
      "Epoch 292/400\n",
      "155/155 [==============================] - 1s 5ms/step - loss: 0.4456 - val_loss: 0.4502\n",
      "Epoch 293/400\n",
      "155/155 [==============================] - 1s 5ms/step - loss: 0.4454 - val_loss: 0.4504\n",
      "Epoch 294/400\n",
      "155/155 [==============================] - 1s 5ms/step - loss: 0.4454 - val_loss: 0.4505\n",
      "Epoch 295/400\n",
      "155/155 [==============================] - 1s 5ms/step - loss: 0.4454 - val_loss: 0.4510\n",
      "Epoch 296/400\n",
      "155/155 [==============================] - 1s 5ms/step - loss: 0.4454 - val_loss: 0.4503\n",
      "Epoch 297/400\n",
      "155/155 [==============================] - 1s 5ms/step - loss: 0.4455 - val_loss: 0.4503\n",
      "Epoch 298/400\n",
      "155/155 [==============================] - 1s 5ms/step - loss: 0.4454 - val_loss: 0.4502\n",
      "Epoch 299/400\n",
      "155/155 [==============================] - 1s 5ms/step - loss: 0.4453 - val_loss: 0.4505\n",
      "Epoch 300/400\n",
      "155/155 [==============================] - 1s 5ms/step - loss: 0.4455 - val_loss: 0.4504\n",
      "Epoch 301/400\n",
      "155/155 [==============================] - 1s 5ms/step - loss: 0.4453 - val_loss: 0.4502\n",
      "Epoch 302/400\n",
      "155/155 [==============================] - 1s 5ms/step - loss: 0.4453 - val_loss: 0.4502\n",
      "Epoch 303/400\n",
      "155/155 [==============================] - 1s 5ms/step - loss: 0.4453 - val_loss: 0.4503\n",
      "Epoch 304/400\n",
      "155/155 [==============================] - 1s 5ms/step - loss: 0.4455 - val_loss: 0.4500\n",
      "Epoch 305/400\n",
      "155/155 [==============================] - 1s 5ms/step - loss: 0.4455 - val_loss: 0.4506\n",
      "Epoch 306/400\n",
      "155/155 [==============================] - 1s 5ms/step - loss: 0.4453 - val_loss: 0.4506\n",
      "Epoch 307/400\n",
      "155/155 [==============================] - 1s 5ms/step - loss: 0.4453 - val_loss: 0.4505\n",
      "Epoch 308/400\n",
      "155/155 [==============================] - 1s 5ms/step - loss: 0.4454 - val_loss: 0.4501\n",
      "Epoch 309/400\n",
      "155/155 [==============================] - 1s 5ms/step - loss: 0.4453 - val_loss: 0.4501\n",
      "Epoch 310/400\n",
      "155/155 [==============================] - 1s 5ms/step - loss: 0.4453 - val_loss: 0.4504\n",
      "Epoch 311/400\n",
      "155/155 [==============================] - 1s 5ms/step - loss: 0.4455 - val_loss: 0.4500\n",
      "Epoch 312/400\n",
      "155/155 [==============================] - 1s 5ms/step - loss: 0.4453 - val_loss: 0.4504\n",
      "Epoch 313/400\n",
      "155/155 [==============================] - 1s 5ms/step - loss: 0.4453 - val_loss: 0.4502\n",
      "Epoch 314/400\n",
      "155/155 [==============================] - 1s 5ms/step - loss: 0.4452 - val_loss: 0.4503\n",
      "Epoch 315/400\n",
      "155/155 [==============================] - 1s 5ms/step - loss: 0.4454 - val_loss: 0.4501\n",
      "Epoch 316/400\n",
      "155/155 [==============================] - 1s 5ms/step - loss: 0.4453 - val_loss: 0.4502\n",
      "Epoch 317/400\n",
      "155/155 [==============================] - 1s 5ms/step - loss: 0.4454 - val_loss: 0.4503\n",
      "Epoch 318/400\n",
      "155/155 [==============================] - 1s 5ms/step - loss: 0.4453 - val_loss: 0.4508\n",
      "Epoch 319/400\n",
      "155/155 [==============================] - 1s 5ms/step - loss: 0.4453 - val_loss: 0.4503\n",
      "Epoch 320/400\n",
      "155/155 [==============================] - 1s 5ms/step - loss: 0.4452 - val_loss: 0.4502\n",
      "Epoch 321/400\n",
      "155/155 [==============================] - 1s 7ms/step - loss: 0.4454 - val_loss: 0.4516\n",
      "Epoch 322/400\n",
      "155/155 [==============================] - 1s 6ms/step - loss: 0.4453 - val_loss: 0.4500\n",
      "Epoch 323/400\n",
      "155/155 [==============================] - 1s 7ms/step - loss: 0.4452 - val_loss: 0.4504\n",
      "Epoch 324/400\n",
      "155/155 [==============================] - 1s 7ms/step - loss: 0.4452 - val_loss: 0.4504\n",
      "Epoch 325/400\n",
      "155/155 [==============================] - 1s 8ms/step - loss: 0.4453 - val_loss: 0.4503\n",
      "Epoch 326/400\n",
      "155/155 [==============================] - 1s 7ms/step - loss: 0.4454 - val_loss: 0.4503\n",
      "Epoch 327/400\n",
      "155/155 [==============================] - 1s 7ms/step - loss: 0.4454 - val_loss: 0.4504\n",
      "Epoch 328/400\n",
      "155/155 [==============================] - 1s 7ms/step - loss: 0.4454 - val_loss: 0.4503\n",
      "Epoch 329/400\n",
      "155/155 [==============================] - 1s 6ms/step - loss: 0.4452 - val_loss: 0.4503\n",
      "Epoch 330/400\n",
      "155/155 [==============================] - 1s 7ms/step - loss: 0.4452 - val_loss: 0.4511\n",
      "Epoch 331/400\n",
      "155/155 [==============================] - 1s 7ms/step - loss: 0.4452 - val_loss: 0.4515\n",
      "Epoch 332/400\n",
      "155/155 [==============================] - 1s 6ms/step - loss: 0.4453 - val_loss: 0.4503\n",
      "Epoch 333/400\n",
      "155/155 [==============================] - 1s 8ms/step - loss: 0.4451 - val_loss: 0.4502\n",
      "Epoch 334/400\n",
      "155/155 [==============================] - 1s 6ms/step - loss: 0.4453 - val_loss: 0.4506\n",
      "Epoch 335/400\n",
      "155/155 [==============================] - 1s 7ms/step - loss: 0.4452 - val_loss: 0.4501\n",
      "Epoch 336/400\n",
      "155/155 [==============================] - 1s 6ms/step - loss: 0.4451 - val_loss: 0.4502\n",
      "Epoch 337/400\n",
      "155/155 [==============================] - 1s 6ms/step - loss: 0.4451 - val_loss: 0.4501\n",
      "Epoch 338/400\n",
      "155/155 [==============================] - 1s 6ms/step - loss: 0.4452 - val_loss: 0.4503\n",
      "Epoch 339/400\n",
      "155/155 [==============================] - 1s 6ms/step - loss: 0.4453 - val_loss: 0.4502\n",
      "Epoch 340/400\n",
      "155/155 [==============================] - 1s 7ms/step - loss: 0.4452 - val_loss: 0.4505\n",
      "Epoch 341/400\n",
      "155/155 [==============================] - 1s 6ms/step - loss: 0.4452 - val_loss: 0.4500\n",
      "Epoch 342/400\n",
      "155/155 [==============================] - 1s 7ms/step - loss: 0.4452 - val_loss: 0.4507\n",
      "Epoch 343/400\n",
      "155/155 [==============================] - 1s 6ms/step - loss: 0.4451 - val_loss: 0.4505\n",
      "Epoch 344/400\n",
      "155/155 [==============================] - 1s 6ms/step - loss: 0.4451 - val_loss: 0.4501\n",
      "Epoch 345/400\n",
      "155/155 [==============================] - 1s 6ms/step - loss: 0.4452 - val_loss: 0.4509\n",
      "Epoch 346/400\n",
      "155/155 [==============================] - 1s 6ms/step - loss: 0.4452 - val_loss: 0.4502\n",
      "Epoch 347/400\n",
      "155/155 [==============================] - 1s 6ms/step - loss: 0.4452 - val_loss: 0.4508\n",
      "Epoch 348/400\n",
      "155/155 [==============================] - 1s 6ms/step - loss: 0.4451 - val_loss: 0.4501\n",
      "Epoch 349/400\n",
      "155/155 [==============================] - 1s 8ms/step - loss: 0.4452 - val_loss: 0.4499\n",
      "Epoch 350/400\n",
      "155/155 [==============================] - 1s 9ms/step - loss: 0.4452 - val_loss: 0.4499\n",
      "Epoch 351/400\n",
      "155/155 [==============================] - 1s 7ms/step - loss: 0.4451 - val_loss: 0.4503\n",
      "Epoch 352/400\n",
      "155/155 [==============================] - 1s 7ms/step - loss: 0.4452 - val_loss: 0.4502\n",
      "Epoch 353/400\n",
      "155/155 [==============================] - 1s 8ms/step - loss: 0.4450 - val_loss: 0.4501\n",
      "Epoch 354/400\n",
      "155/155 [==============================] - 1s 7ms/step - loss: 0.4451 - val_loss: 0.4500\n",
      "Epoch 355/400\n",
      "155/155 [==============================] - 1s 6ms/step - loss: 0.4453 - val_loss: 0.4504\n",
      "Epoch 356/400\n",
      "155/155 [==============================] - 1s 6ms/step - loss: 0.4451 - val_loss: 0.4502\n",
      "Epoch 357/400\n",
      "155/155 [==============================] - 2s 10ms/step - loss: 0.4451 - val_loss: 0.4501\n",
      "Epoch 358/400\n",
      "155/155 [==============================] - 2s 12ms/step - loss: 0.4451 - val_loss: 0.4503\n",
      "Epoch 359/400\n",
      "155/155 [==============================] - 2s 12ms/step - loss: 0.4452 - val_loss: 0.4501\n",
      "Epoch 360/400\n",
      "155/155 [==============================] - 2s 13ms/step - loss: 0.4451 - val_loss: 0.4502\n",
      "Epoch 361/400\n",
      "155/155 [==============================] - 2s 13ms/step - loss: 0.4451 - val_loss: 0.4501\n",
      "Epoch 362/400\n",
      "155/155 [==============================] - 2s 11ms/step - loss: 0.4452 - val_loss: 0.4505\n",
      "Epoch 363/400\n",
      "155/155 [==============================] - 2s 10ms/step - loss: 0.4450 - val_loss: 0.4503\n",
      "Epoch 364/400\n",
      "155/155 [==============================] - 1s 9ms/step - loss: 0.4452 - val_loss: 0.4501\n",
      "Epoch 365/400\n",
      "155/155 [==============================] - 1s 9ms/step - loss: 0.4450 - val_loss: 0.4501\n",
      "Epoch 366/400\n",
      "155/155 [==============================] - 2s 10ms/step - loss: 0.4449 - val_loss: 0.4502\n",
      "Epoch 367/400\n",
      "155/155 [==============================] - 1s 8ms/step - loss: 0.4450 - val_loss: 0.4502\n",
      "Epoch 368/400\n",
      "155/155 [==============================] - 1s 7ms/step - loss: 0.4449 - val_loss: 0.4501\n",
      "Epoch 369/400\n",
      "155/155 [==============================] - 1s 8ms/step - loss: 0.4450 - val_loss: 0.4500\n",
      "Epoch 370/400\n",
      "155/155 [==============================] - 1s 8ms/step - loss: 0.4450 - val_loss: 0.4504\n",
      "Epoch 371/400\n",
      "155/155 [==============================] - 1s 8ms/step - loss: 0.4450 - val_loss: 0.4502\n",
      "Epoch 372/400\n",
      "155/155 [==============================] - 1s 9ms/step - loss: 0.4450 - val_loss: 0.4501\n",
      "Epoch 373/400\n",
      "155/155 [==============================] - 1s 9ms/step - loss: 0.4450 - val_loss: 0.4503\n",
      "Epoch 374/400\n",
      "155/155 [==============================] - 1s 8ms/step - loss: 0.4452 - val_loss: 0.4500\n",
      "Epoch 375/400\n",
      "155/155 [==============================] - 1s 8ms/step - loss: 0.4449 - val_loss: 0.4504\n",
      "Epoch 376/400\n",
      "155/155 [==============================] - 1s 8ms/step - loss: 0.4450 - val_loss: 0.4502\n",
      "Epoch 377/400\n",
      "155/155 [==============================] - 1s 7ms/step - loss: 0.4450 - val_loss: 0.4503\n",
      "Epoch 378/400\n",
      "155/155 [==============================] - 1s 8ms/step - loss: 0.4450 - val_loss: 0.4502\n",
      "Epoch 379/400\n",
      "155/155 [==============================] - 1s 9ms/step - loss: 0.4450 - val_loss: 0.4501\n",
      "Epoch 380/400\n",
      "155/155 [==============================] - 1s 8ms/step - loss: 0.4450 - val_loss: 0.4501\n",
      "Epoch 381/400\n",
      "155/155 [==============================] - 1s 8ms/step - loss: 0.4449 - val_loss: 0.4512\n",
      "Epoch 382/400\n",
      "155/155 [==============================] - 2s 10ms/step - loss: 0.4452 - val_loss: 0.4503\n",
      "Epoch 383/400\n",
      "155/155 [==============================] - 2s 12ms/step - loss: 0.4449 - val_loss: 0.4501\n",
      "Epoch 384/400\n",
      "155/155 [==============================] - 2s 12ms/step - loss: 0.4450 - val_loss: 0.4503\n",
      "Epoch 385/400\n",
      "155/155 [==============================] - 2s 12ms/step - loss: 0.4450 - val_loss: 0.4503\n",
      "Epoch 386/400\n",
      "155/155 [==============================] - 2s 14ms/step - loss: 0.4449 - val_loss: 0.4502\n",
      "Epoch 387/400\n",
      "155/155 [==============================] - 2s 16ms/step - loss: 0.4450 - val_loss: 0.4509\n",
      "Epoch 388/400\n",
      "155/155 [==============================] - 2s 11ms/step - loss: 0.4449 - val_loss: 0.4509\n",
      "Epoch 389/400\n",
      "155/155 [==============================] - 2s 11ms/step - loss: 0.4449 - val_loss: 0.4502\n",
      "Epoch 390/400\n",
      "155/155 [==============================] - 2s 10ms/step - loss: 0.4449 - val_loss: 0.4504\n",
      "Epoch 391/400\n",
      "155/155 [==============================] - 1s 9ms/step - loss: 0.4450 - val_loss: 0.4501\n",
      "Epoch 392/400\n",
      "155/155 [==============================] - 1s 8ms/step - loss: 0.4450 - val_loss: 0.4502\n",
      "Epoch 393/400\n",
      "155/155 [==============================] - 1s 9ms/step - loss: 0.4449 - val_loss: 0.4503\n",
      "Epoch 394/400\n",
      "155/155 [==============================] - 1s 9ms/step - loss: 0.4449 - val_loss: 0.4507\n",
      "Epoch 395/400\n",
      "155/155 [==============================] - 1s 9ms/step - loss: 0.4450 - val_loss: 0.4501\n",
      "Epoch 396/400\n",
      "155/155 [==============================] - 2s 13ms/step - loss: 0.4450 - val_loss: 0.4501\n",
      "Epoch 397/400\n",
      "155/155 [==============================] - 3s 18ms/step - loss: 0.4450 - val_loss: 0.4502\n",
      "Epoch 398/400\n",
      "155/155 [==============================] - 2s 15ms/step - loss: 0.4449 - val_loss: 0.4503\n",
      "Epoch 399/400\n",
      "155/155 [==============================] - 2s 12ms/step - loss: 0.4449 - val_loss: 0.4502\n",
      "Epoch 400/400\n",
      "155/155 [==============================] - 2s 13ms/step - loss: 0.4449 - val_loss: 0.4507\n"
     ]
    },
    {
     "data": {
      "text/plain": [
       "<keras.callbacks.History at 0x1cc3fb1be20>"
      ]
     },
     "execution_count": 231,
     "metadata": {},
     "output_type": "execute_result"
    }
   ],
   "source": [
    "model.fit(x=X_train, y=y_train, epochs=400, validation_data=(X_test,y_test), batch_size=2048)"
   ]
  },
  {
   "cell_type": "code",
   "execution_count": 232,
   "metadata": {},
   "outputs": [
    {
     "data": {
      "text/plain": [
       "<AxesSubplot:>"
      ]
     },
     "execution_count": 232,
     "metadata": {},
     "output_type": "execute_result"
    },
    {
     "data": {
      "image/png": "[encoded data removed]",
      "text/plain": [
       "<Figure size 432x288 with 1 Axes>"
      ]
     },
     "metadata": {},
     "output_type": "display_data"
    }
   ],
   "source": [
    "pd.DataFrame(model.history.history).plot()"
   ]
  },
  {
   "cell_type": "code",
   "execution_count": 233,
   "metadata": {},
   "outputs": [
    {
     "data": {
      "text/plain": [
       "array([[0.80235285],\n",
       "       [0.661597  ],\n",
       "       [0.74094373],\n",
       "       ...,\n",
       "       [0.77669847],\n",
       "       [0.9504752 ],\n",
       "       [0.74112797]], dtype=float32)"
      ]
     },
     "execution_count": 233,
     "metadata": {},
     "output_type": "execute_result"
    }
   ],
   "source": [
    "model.predict(X_test)"
   ]
  },
  {
   "cell_type": "code",
   "execution_count": 234,
   "metadata": {},
   "outputs": [],
   "source": [
    "predictions = (model.predict(X_test) > 0.5).astype('int32')"
   ]
  },
  {
   "cell_type": "code",
   "execution_count": 238,
   "metadata": {},
   "outputs": [],
   "source": [
    "from sklearn.metrics import classification_report, confusion_matrix"
   ]
  },
  {
   "cell_type": "code",
   "execution_count": 240,
   "metadata": {},
   "outputs": [
    {
     "name": "stdout",
     "output_type": "stream",
     "text": [
      "              precision    recall  f1-score   support\n",
      "\n",
      "           0       0.55      0.07      0.12     15577\n",
      "           1       0.81      0.99      0.89     63629\n",
      "\n",
      "    accuracy                           0.81     79206\n",
      "   macro avg       0.68      0.53      0.50     79206\n",
      "weighted avg       0.76      0.81      0.74     79206\n",
      "\n"
     ]
    }
   ],
   "source": [
    "print(classification_report(y_test,predictions))"
   ]
  },
  {
   "cell_type": "code",
   "execution_count": 241,
   "metadata": {},
   "outputs": [
    {
     "name": "stdout",
     "output_type": "stream",
     "text": [
      "[[ 1039 14538]\n",
      " [  862 62767]]\n"
     ]
    }
   ],
   "source": [
    "print(confusion_matrix(y_test,predictions))"
   ]
  }
 ],
 "metadata": {
  "interpreter": {
   "hash": "9688926e0120c82bc45141654f06390cf5b07a9996c109707e80805420de038d"
  },
  "kernelspec": {
   "display_name": "Python 3.8.5 ('base')",
   "language": "python",
   "name": "python3"
  },
  "language_info": {
   "codemirror_mode": {
    "name": "ipython",
    "version": 3
   },
   "file_extension": ".py",
   "mimetype": "text/x-python",
   "name": "python",
   "nbconvert_exporter": "python",
   "pygments_lexer": "ipython3",
   "version": "3.8.5"
  },
  "orig_nbformat": 4
 },
 "nbformat": 4,
 "nbformat_minor": 2
}
