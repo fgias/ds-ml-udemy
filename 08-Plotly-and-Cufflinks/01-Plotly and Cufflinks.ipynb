{
 "cells": [
  {
   "cell_type": "markdown",
   "metadata": {},
   "source": [
    "## Plotly and Cufflinks"
   ]
  },
  {
   "cell_type": "code",
   "execution_count": 1,
   "metadata": {},
   "outputs": [],
   "source": [
    "import numpy as np\n",
    "import pandas as pd\n",
    "%matplotlib inline"
   ]
  },
  {
   "cell_type": "code",
   "execution_count": 2,
   "metadata": {},
   "outputs": [
    {
     "name": "stdout",
     "output_type": "stream",
     "text": [
      "5.5.0\n"
     ]
    }
   ],
   "source": [
    "from plotly import __version__\n",
    "print(__version__)"
   ]
  },
  {
   "cell_type": "code",
   "execution_count": 3,
   "metadata": {},
   "outputs": [],
   "source": [
    "import chart_studio.plotly as py"
   ]
  },
  {
   "cell_type": "code",
   "execution_count": 4,
   "metadata": {},
   "outputs": [],
   "source": [
    "import cufflinks as cf"
   ]
  },
  {
   "cell_type": "code",
   "execution_count": 5,
   "metadata": {},
   "outputs": [],
   "source": [
    "from plotly.offline import download_plotlyjs, init_notebook_mode, plot, iplot"
   ]
  },
  {
   "cell_type": "code",
   "execution_count": 6,
   "metadata": {},
   "outputs": [
    {
     "data": {
      "text/html": [
       "        <script type=\"text/javascript\">\n",
       "        window.PlotlyConfig = {MathJaxConfig: 'local'};\n",
       "        if (window.MathJax) {MathJax.Hub.Config({SVG: {font: \"STIX-Web\"}});}\n",
       "        if (typeof require !== 'undefined') {\n",
       "        require.undef(\"plotly\");\n",
       "        requirejs.config({\n",
       "            paths: {\n",
       "                'plotly': ['https://cdn.plot.ly/plotly-2.8.3.min']\n",
       "            }\n",
       "        });\n",
       "        require(['plotly'], function(Plotly) {\n",
       "            window._Plotly = Plotly;\n",
       "        });\n",
       "        }\n",
       "        </script>\n",
       "        "
      ]
     },
     "metadata": {},
     "output_type": "display_data"
    }
   ],
   "source": [
    "init_notebook_mode(connected=True)"
   ]
  },
  {
   "cell_type": "code",
   "execution_count": 7,
   "metadata": {},
   "outputs": [
    {
     "data": {
      "text/html": [
       "        <script type=\"text/javascript\">\n",
       "        window.PlotlyConfig = {MathJaxConfig: 'local'};\n",
       "        if (window.MathJax) {MathJax.Hub.Config({SVG: {font: \"STIX-Web\"}});}\n",
       "        if (typeof require !== 'undefined') {\n",
       "        require.undef(\"plotly\");\n",
       "        requirejs.config({\n",
       "            paths: {\n",
       "                'plotly': ['https://cdn.plot.ly/plotly-2.8.3.min']\n",
       "            }\n",
       "        });\n",
       "        require(['plotly'], function(Plotly) {\n",
       "            window._Plotly = Plotly;\n",
       "        });\n",
       "        }\n",
       "        </script>\n",
       "        "
      ]
     },
     "metadata": {},
     "output_type": "display_data"
    }
   ],
   "source": [
    "cf.go_offline()"
   ]
  },
  {
   "cell_type": "code",
   "execution_count": 8,
   "metadata": {},
   "outputs": [
    {
     "data": {
      "text/html": [
       "<div>\n",
       "<style scoped>\n",
       "    .dataframe tbody tr th:only-of-type {\n",
       "        vertical-align: middle;\n",
       "    }\n",
       "\n",
       "    .dataframe tbody tr th {\n",
       "        vertical-align: top;\n",
       "    }\n",
       "\n",
       "    .dataframe thead th {\n",
       "        text-align: right;\n",
       "    }\n",
       "</style>\n",
       "<table border=\"1\" class=\"dataframe\">\n",
       "  <thead>\n",
       "    <tr style=\"text-align: right;\">\n",
       "      <th></th>\n",
       "      <th>A</th>\n",
       "      <th>B</th>\n",
       "      <th>C</th>\n",
       "      <th>D</th>\n",
       "    </tr>\n",
       "  </thead>\n",
       "  <tbody>\n",
       "    <tr>\n",
       "      <th>0</th>\n",
       "      <td>-0.590230</td>\n",
       "      <td>-1.367049</td>\n",
       "      <td>1.092790</td>\n",
       "      <td>-0.184041</td>\n",
       "    </tr>\n",
       "    <tr>\n",
       "      <th>1</th>\n",
       "      <td>-2.201609</td>\n",
       "      <td>0.161451</td>\n",
       "      <td>0.386980</td>\n",
       "      <td>0.370502</td>\n",
       "    </tr>\n",
       "    <tr>\n",
       "      <th>2</th>\n",
       "      <td>0.968884</td>\n",
       "      <td>-0.442173</td>\n",
       "      <td>-0.078209</td>\n",
       "      <td>2.470785</td>\n",
       "    </tr>\n",
       "    <tr>\n",
       "      <th>3</th>\n",
       "      <td>0.409748</td>\n",
       "      <td>0.375451</td>\n",
       "      <td>0.109149</td>\n",
       "      <td>-0.691815</td>\n",
       "    </tr>\n",
       "    <tr>\n",
       "      <th>4</th>\n",
       "      <td>-0.653152</td>\n",
       "      <td>-0.265585</td>\n",
       "      <td>0.441411</td>\n",
       "      <td>-0.859851</td>\n",
       "    </tr>\n",
       "  </tbody>\n",
       "</table>\n",
       "</div>"
      ],
      "text/plain": [
       "          A         B         C         D\n",
       "0 -0.590230 -1.367049  1.092790 -0.184041\n",
       "1 -2.201609  0.161451  0.386980  0.370502\n",
       "2  0.968884 -0.442173 -0.078209  2.470785\n",
       "3  0.409748  0.375451  0.109149 -0.691815\n",
       "4 -0.653152 -0.265585  0.441411 -0.859851"
      ]
     },
     "execution_count": 8,
     "metadata": {},
     "output_type": "execute_result"
    }
   ],
   "source": [
    "# DATA\n",
    "\n",
    "df = pd.DataFrame(np.random.randn(100,4), columns='A B C D'.split())\n",
    "df.head()"
   ]
  },
  {
   "cell_type": "code",
   "execution_count": 9,
   "metadata": {},
   "outputs": [
    {
     "data": {
      "text/html": [
       "<div>\n",
       "<style scoped>\n",
       "    .dataframe tbody tr th:only-of-type {\n",
       "        vertical-align: middle;\n",
       "    }\n",
       "\n",
       "    .dataframe tbody tr th {\n",
       "        vertical-align: top;\n",
       "    }\n",
       "\n",
       "    .dataframe thead th {\n",
       "        text-align: right;\n",
       "    }\n",
       "</style>\n",
       "<table border=\"1\" class=\"dataframe\">\n",
       "  <thead>\n",
       "    <tr style=\"text-align: right;\">\n",
       "      <th></th>\n",
       "      <th>Category</th>\n",
       "      <th>Values</th>\n",
       "    </tr>\n",
       "  </thead>\n",
       "  <tbody>\n",
       "    <tr>\n",
       "      <th>0</th>\n",
       "      <td>A</td>\n",
       "      <td>32</td>\n",
       "    </tr>\n",
       "    <tr>\n",
       "      <th>1</th>\n",
       "      <td>B</td>\n",
       "      <td>43</td>\n",
       "    </tr>\n",
       "    <tr>\n",
       "      <th>2</th>\n",
       "      <td>C</td>\n",
       "      <td>50</td>\n",
       "    </tr>\n",
       "  </tbody>\n",
       "</table>\n",
       "</div>"
      ],
      "text/plain": [
       "  Category  Values\n",
       "0        A      32\n",
       "1        B      43\n",
       "2        C      50"
      ]
     },
     "execution_count": 9,
     "metadata": {},
     "output_type": "execute_result"
    }
   ],
   "source": [
    "df2 = pd.DataFrame({'Category':['A','B','C'], 'Values':[32,43,50]})\n",
    "df2"
   ]
  },
  {
   "cell_type": "code",
   "execution_count": 10,
   "metadata": {},
   "outputs": [
    {
     "data": {
      "text/plain": [
       "<AxesSubplot:>"
      ]
     },
     "execution_count": 10,
     "metadata": {},
     "output_type": "execute_result"
    },
    {
     "data": {
      "image/png": "[encoded data removed]",
      "text/plain": [
       "<Figure size 432x288 with 1 Axes>"
      ]
     },
     "metadata": {
      "needs_background": "light"
     },
     "output_type": "display_data"
    }
   ],
   "source": [
    "df.plot() # built-in pandas plot"
   ]
  },
  {
   "cell_type": "code",
   "execution_count": 11,
   "metadata": {},
   "outputs": [
    {
     "data": {
      "application/vnd.plotly.v1+json": {
       "config": {
        "linkText": "Export to plot.ly",
        "plotlyServerURL": "https://plot.ly",
        "showLink": true
       },
       "data": [
        {
         "line": {
          "color": "rgba(255, 153, 51, 1.0)",
          "dash": "solid",
          "shape": "linear",
          "width": 1.3
         },
         "mode": "lines",
         "name": "A",
         "text": "",
         "type": "scatter",
         "x": [
          0,
          1,
          2,
          3,
          4,
          5,
          6,
          7,
          8,
          9,
          10,
          11,
          12,
          13,
          14,
          15,
          16,
          17,
          18,
          19,
          20,
          21,
          22,
          23,
          24,
          25,
          26,
          27,
          28,
          29,
          30,
          31,
          32,
          33,
          34,
          35,
          36,
          37,
          38,
          39,
          40,
          41,
          42,
          43,
          44,
          45,
          46,
          47,
          48,
          49,
          50,
          51,
          52,
          53,
          54,
          55,
          56,
          57,
          58,
          59,
          60,
          61,
          62,
          63,
          64,
          65,
          66,
          67,
          68,
          69,
          70,
          71,
          72,
          73,
          74,
          75,
          76,
          77,
          78,
          79,
          80,
          81,
          82,
          83,
          84,
          85,
          86,
          87,
          88,
          89,
          90,
          91,
          92,
          93,
          94,
          95,
          96,
          97,
          98,
          99
         ],
         "y": [
          -0.5902303025205717,
          -2.2016090086623388,
          0.9688835342587759,
          0.4097477034647505,
          -0.6531516478199042,
          -0.44733786561834193,
          -0.47482840070158566,
          -1.0899258739801267,
          0.018083060890892132,
          0.18640424228172048,
          -1.740262022112669,
          0.07452870131805488,
          -0.9223778158444266,
          -1.9232060232149235,
          0.10735353125742748,
          -1.1850757900063225,
          -0.5497291302848054,
          0.1760346600120734,
          1.0109279491426288,
          -1.8800930869821564,
          0.6818689562292352,
          1.0013136875986148,
          -1.4245497173871668,
          -0.6206539678188364,
          1.7911365866515108,
          0.7238100420108368,
          -0.4204677449441723,
          -2.154777771126477,
          -0.6273457251981394,
          0.1821495912778787,
          -0.06305727171354696,
          -0.3905198512997907,
          0.2528318683594929,
          0.565418190409366,
          0.6450981928783018,
          -0.30807010332343876,
          0.30513862374559486,
          -1.7594021492571972,
          -0.8222574329062964,
          -0.5735086500790288,
          -1.3979738724160686,
          -1.2750186161164196,
          0.6082933112555565,
          -0.6097777886272943,
          0.33734371436621946,
          -0.5417714102437892,
          1.375561863788836,
          2.2056801688936902,
          0.6405306616954853,
          1.4161986423742619,
          -1.0286554899550455,
          -1.4954126636278111,
          1.7433309705860673,
          -0.06255855829844899,
          -1.3254350939260084,
          1.2110743664651629,
          -0.3065195328839513,
          0.728721977199927,
          0.7196156850537774,
          0.17793323956809748,
          -2.1543583642789113,
          0.6110026577153034,
          -0.8926214867297181,
          0.5131829577150304,
          -0.4599291034370993,
          0.5993921592961952,
          -2.5854795386451497,
          -1.5187255713236734,
          -1.5832471980763754,
          -0.8377799538334126,
          -0.8174203926960799,
          -1.0010558563534455,
          -1.529505285845513,
          0.4705944311419757,
          -0.34620452317534356,
          -1.7587041573689515,
          0.9752971676066632,
          1.1613831337131102,
          1.3446457631064839,
          -1.4555509876454251,
          0.4266333975246613,
          -0.4933550509657777,
          -1.0762683955046413,
          -1.1172618918660948,
          -0.8050366057976863,
          -0.8191627336334403,
          2.20208838639601,
          0.8842178450189843,
          2.248450908342995,
          1.263857174507037,
          0.2817469381374268,
          0.8268799558075348,
          0.571564064960558,
          0.19025113238293712,
          -0.5390699541755176,
          1.73433697535019,
          1.2863853747153662,
          0.05423139472195194,
          -1.3151122199680136,
          0.38122217649893086
         ]
        },
        {
         "line": {
          "color": "rgba(55, 128, 191, 1.0)",
          "dash": "solid",
          "shape": "linear",
          "width": 1.3
         },
         "mode": "lines",
         "name": "B",
         "text": "",
         "type": "scatter",
         "x": [
          0,
          1,
          2,
          3,
          4,
          5,
          6,
          7,
          8,
          9,
          10,
          11,
          12,
          13,
          14,
          15,
          16,
          17,
          18,
          19,
          20,
          21,
          22,
          23,
          24,
          25,
          26,
          27,
          28,
          29,
          30,
          31,
          32,
          33,
          34,
          35,
          36,
          37,
          38,
          39,
          40,
          41,
          42,
          43,
          44,
          45,
          46,
          47,
          48,
          49,
          50,
          51,
          52,
          53,
          54,
          55,
          56,
          57,
          58,
          59,
          60,
          61,
          62,
          63,
          64,
          65,
          66,
          67,
          68,
          69,
          70,
          71,
          72,
          73,
          74,
          75,
          76,
          77,
          78,
          79,
          80,
          81,
          82,
          83,
          84,
          85,
          86,
          87,
          88,
          89,
          90,
          91,
          92,
          93,
          94,
          95,
          96,
          97,
          98,
          99
         ],
         "y": [
          -1.3670490430437636,
          0.161450524235461,
          -0.44217348630356307,
          0.37545077311535113,
          -0.26558456358514304,
          -0.05337396280955743,
          -0.16286499406938992,
          -0.6559063241917041,
          0.2166205230803355,
          0.579264707040054,
          0.6570113302304137,
          1.1128644665473264,
          1.3437370062884728,
          1.2253391743149586,
          0.07243088995730265,
          -0.16291549888248036,
          0.5221703263725861,
          -0.2860873155412922,
          0.23845897129297605,
          0.5383216359023025,
          1.0228260382992838,
          1.4742375561846004,
          -0.4971926005756821,
          -0.3702983491139233,
          1.2811992881765035,
          0.5235806670476302,
          -0.29364591922026506,
          2.0327478724465315,
          -0.8321944982609231,
          -0.10476735233563249,
          -0.26958492730061334,
          -0.20189994105473036,
          1.0847659756245622,
          -1.1944184798293207,
          -1.3230740820458162,
          0.6206316042828937,
          0.10859772366319033,
          -0.6156696325698916,
          0.3984569141979588,
          0.844077249699107,
          1.2519032595789779,
          0.2513651055639649,
          0.2130378339237908,
          0.6490835820095017,
          -0.010798931494050746,
          0.3941767468516104,
          -1.6296040595382955,
          1.813762930471477,
          2.038570665631588,
          0.8554014083836431,
          1.06694928084837,
          0.7266644331179781,
          -0.7312737819318127,
          1.0626543686367567,
          1.5125446201537545,
          0.15539761830497265,
          1.1275135376114895,
          0.3884913736161449,
          1.3342540109209156,
          -0.09870250239733834,
          0.19263865576084857,
          1.6508820619017714,
          -0.6357303957131819,
          -0.21065746732213148,
          1.5794879615866562,
          0.13187081043821755,
          -0.6910448387634717,
          -0.9241359886362889,
          -0.9788028958812267,
          1.6571093770062777,
          0.46710147448499517,
          -0.08167530974313282,
          -0.32795086978837157,
          -0.4864270154260517,
          1.4228982883721621,
          -1.230082525704563,
          -1.8388925715141657,
          0.007416738671856635,
          -0.8495852847344079,
          -0.32060058648100864,
          -0.10872605769317288,
          0.17620829861536996,
          2.817567551757438,
          1.287542016854579,
          -0.678669908194487,
          0.4110746516491658,
          -1.3175798955777698,
          -0.9259953438941361,
          0.6365254724876831,
          0.1645909140545531,
          1.275561684738259,
          -0.5512964249982745,
          0.6776207058555057,
          -1.0088839072755986,
          1.2546202290644812,
          -0.4988731232616055,
          1.0171125628881423,
          -0.6730874492229427,
          2.515399088329593,
          0.04827347094723881
         ]
        },
        {
         "line": {
          "color": "rgba(50, 171, 96, 1.0)",
          "dash": "solid",
          "shape": "linear",
          "width": 1.3
         },
         "mode": "lines",
         "name": "C",
         "text": "",
         "type": "scatter",
         "x": [
          0,
          1,
          2,
          3,
          4,
          5,
          6,
          7,
          8,
          9,
          10,
          11,
          12,
          13,
          14,
          15,
          16,
          17,
          18,
          19,
          20,
          21,
          22,
          23,
          24,
          25,
          26,
          27,
          28,
          29,
          30,
          31,
          32,
          33,
          34,
          35,
          36,
          37,
          38,
          39,
          40,
          41,
          42,
          43,
          44,
          45,
          46,
          47,
          48,
          49,
          50,
          51,
          52,
          53,
          54,
          55,
          56,
          57,
          58,
          59,
          60,
          61,
          62,
          63,
          64,
          65,
          66,
          67,
          68,
          69,
          70,
          71,
          72,
          73,
          74,
          75,
          76,
          77,
          78,
          79,
          80,
          81,
          82,
          83,
          84,
          85,
          86,
          87,
          88,
          89,
          90,
          91,
          92,
          93,
          94,
          95,
          96,
          97,
          98,
          99
         ],
         "y": [
          1.0927895381438653,
          0.3869804888555894,
          -0.07820871841748094,
          0.10914875239807878,
          0.44141128246765543,
          0.059709641898243994,
          0.9362562758459936,
          -0.049469222922685165,
          -0.9604645141374815,
          -0.03642247206112177,
          0.4540126975266702,
          0.46661801100664024,
          0.23525896270846847,
          0.8435264824759354,
          1.9123308315530168,
          1.3778178632223428,
          1.427129817536749,
          1.5969456284165555,
          -0.6353716176738434,
          -0.0852301036877315,
          -1.3107077999802108,
          -0.2111203466429529,
          -0.822676110997687,
          -0.6399111406824087,
          0.5784150917630376,
          -2.0730943122234877,
          -0.009738024958068586,
          0.31731126652029606,
          -0.8621507657761383,
          1.360291204984467,
          -1.8087879144579424,
          -1.1129622729554434,
          0.5677532651308002,
          -1.0697605131495675,
          0.31007992996337114,
          -0.15813396722000733,
          -0.24701350019495308,
          -1.0947940608247673,
          0.10314984688247189,
          1.3522471859989258,
          0.8606312443402826,
          -0.4553994887831305,
          -0.027024463446770283,
          -0.602148747068422,
          -1.8617033643320429,
          1.0459214592089945,
          -0.38172865720440924,
          -0.9482660908555265,
          0.8641232502416377,
          -1.7194676900776327,
          -1.1994706634027732,
          0.6713487772149576,
          -2.1346765408392505,
          -0.7181127663392818,
          0.06053680845956763,
          -0.37917654153482355,
          0.0894570996922149,
          -0.05600806767708331,
          0.928892609407208,
          -0.7495940138240937,
          1.2609906474293038,
          -1.0139880360813422,
          -1.3111107150205963,
          -0.9781755940346926,
          -1.1467667465321165,
          0.509671842270591,
          -0.49660618701523934,
          -0.11180452020127217,
          -2.0983295549353365,
          -0.37427308918351176,
          0.3825874831548487,
          -0.46048952482532995,
          -0.7327819745299191,
          0.9313353321457137,
          -1.4710842016607026,
          -1.6229378241379038,
          -1.365938141973644,
          0.6442667748038098,
          1.8008255670720474,
          1.1644094313071818,
          1.0284801366288947,
          -0.9741732106305144,
          0.599971256821181,
          -0.8139126818817689,
          -1.09767394155658,
          0.31749206036862637,
          0.3122101323895381,
          -0.21538581024967854,
          0.7603118663717938,
          -2.231394814777633,
          0.4771245925723608,
          0.3003655425976786,
          -0.42850277917924867,
          -0.3913032486148974,
          -0.1647431926134105,
          -1.507024883903592,
          0.006553607869517606,
          1.9888006179881683,
          0.2126792472612787,
          -1.4987557388322261
         ]
        },
        {
         "line": {
          "color": "rgba(128, 0, 128, 1.0)",
          "dash": "solid",
          "shape": "linear",
          "width": 1.3
         },
         "mode": "lines",
         "name": "D",
         "text": "",
         "type": "scatter",
         "x": [
          0,
          1,
          2,
          3,
          4,
          5,
          6,
          7,
          8,
          9,
          10,
          11,
          12,
          13,
          14,
          15,
          16,
          17,
          18,
          19,
          20,
          21,
          22,
          23,
          24,
          25,
          26,
          27,
          28,
          29,
          30,
          31,
          32,
          33,
          34,
          35,
          36,
          37,
          38,
          39,
          40,
          41,
          42,
          43,
          44,
          45,
          46,
          47,
          48,
          49,
          50,
          51,
          52,
          53,
          54,
          55,
          56,
          57,
          58,
          59,
          60,
          61,
          62,
          63,
          64,
          65,
          66,
          67,
          68,
          69,
          70,
          71,
          72,
          73,
          74,
          75,
          76,
          77,
          78,
          79,
          80,
          81,
          82,
          83,
          84,
          85,
          86,
          87,
          88,
          89,
          90,
          91,
          92,
          93,
          94,
          95,
          96,
          97,
          98,
          99
         ],
         "y": [
          -0.18404099541891808,
          0.3705020988811112,
          2.4707853777241984,
          -0.6918146703711641,
          -0.8598510055544313,
          -1.158422440878767,
          1.4392467936379234,
          -0.6444906436631372,
          0.07894053798934612,
          -0.14325225219283427,
          -0.7795377265033557,
          1.0287344829474763,
          0.8627307529196024,
          -1.22890078262128,
          -0.47042027405335574,
          -0.23634839918213463,
          -0.4904857493837416,
          -0.7944123856144842,
          0.38778200438058813,
          0.9465708488659833,
          0.07899079642198541,
          -1.2488361957956742,
          0.19068929934729476,
          -1.0759649846092925,
          0.652451644860557,
          0.3015952648458203,
          0.5928935225579912,
          0.16911608311814655,
          -1.7168319905353358,
          -0.9965345005712516,
          -0.799832574687069,
          -0.4985149362343189,
          -0.4428008794462112,
          0.09638485531186627,
          -0.15011085240866567,
          1.226181583794429,
          -0.6037653345291387,
          -2.553832907788901,
          0.41976705316316654,
          0.5751887195240278,
          0.6003093489706015,
          -0.17644904294017671,
          0.6572023046449496,
          -0.016283320319424494,
          0.26465186215612035,
          0.6574045231367414,
          0.47531636844809133,
          1.0615391981185471,
          0.36254004841507625,
          -0.8377924133433795,
          1.9398990124400257,
          0.7769369852373745,
          0.045950154352748886,
          -1.5626638233641632,
          0.31621389478489725,
          -0.7931086826469803,
          -1.7551691001506924,
          1.2294425567019371,
          -0.0561545639195008,
          2.0442495940818506,
          -1.343470161015329,
          -0.8449773666074941,
          0.5666466025668979,
          0.574896431520319,
          -0.6623593912763195,
          -3.072259852988364,
          0.3629716411895115,
          1.0131910891426401,
          -2.3279426569230717,
          0.31783112748115516,
          -1.0288307099732001,
          -3.105096101828258,
          -1.7498390701699789,
          0.8854827761806933,
          0.08118201488294917,
          0.647961662890736,
          1.891230672055887,
          0.7914627879619662,
          1.0700106617800895,
          0.07227639716562591,
          0.6201189505305379,
          -0.5655464421299009,
          0.06228980710049047,
          0.2853002537024566,
          -1.2273085630898832,
          -0.9103824315747909,
          0.6627057071312216,
          0.7732955015308591,
          -1.5466254411465514,
          0.22583614943131844,
          1.6126052875773842,
          -1.4442686899363433,
          1.822522637667904,
          1.823108525324734,
          2.8499618537430065,
          -0.3713081051143311,
          0.10186930241625286,
          0.8109871340449076,
          0.6159795521360518,
          -0.7539276801344859
         ]
        }
       ],
       "layout": {
        "legend": {
         "bgcolor": "#F5F6F9",
         "font": {
          "color": "#4D5663"
         }
        },
        "paper_bgcolor": "#F5F6F9",
        "plot_bgcolor": "#F5F6F9",
        "template": {
         "data": {
          "bar": [
           {
            "error_x": {
             "color": "#2a3f5f"
            },
            "error_y": {
             "color": "#2a3f5f"
            },
            "marker": {
             "line": {
              "color": "#E5ECF6",
              "width": 0.5
             },
             "pattern": {
              "fillmode": "overlay",
              "size": 10,
              "solidity": 0.2
             }
            },
            "type": "bar"
           }
          ],
          "barpolar": [
           {
            "marker": {
             "line": {
              "color": "#E5ECF6",
              "width": 0.5
             },
             "pattern": {
              "fillmode": "overlay",
              "size": 10,
              "solidity": 0.2
             }
            },
            "type": "barpolar"
           }
          ],
          "carpet": [
           {
            "aaxis": {
             "endlinecolor": "#2a3f5f",
             "gridcolor": "white",
             "linecolor": "white",
             "minorgridcolor": "white",
             "startlinecolor": "#2a3f5f"
            },
            "baxis": {
             "endlinecolor": "#2a3f5f",
             "gridcolor": "white",
             "linecolor": "white",
             "minorgridcolor": "white",
             "startlinecolor": "#2a3f5f"
            },
            "type": "carpet"
           }
          ],
          "choropleth": [
           {
            "colorbar": {
             "outlinewidth": 0,
             "ticks": ""
            },
            "type": "choropleth"
           }
          ],
          "contour": [
           {
            "colorbar": {
             "outlinewidth": 0,
             "ticks": ""
            },
            "colorscale": [
             [
              0,
              "#0d0887"
             ],
             [
              0.1111111111111111,
              "#46039f"
             ],
             [
              0.2222222222222222,
              "#7201a8"
             ],
             [
              0.3333333333333333,
              "#9c179e"
             ],
             [
              0.4444444444444444,
              "#bd3786"
             ],
             [
              0.5555555555555556,
              "#d8576b"
             ],
             [
              0.6666666666666666,
              "#ed7953"
             ],
             [
              0.7777777777777778,
              "#fb9f3a"
             ],
             [
              0.8888888888888888,
              "#fdca26"
             ],
             [
              1,
              "#f0f921"
             ]
            ],
            "type": "contour"
           }
          ],
          "contourcarpet": [
           {
            "colorbar": {
             "outlinewidth": 0,
             "ticks": ""
            },
            "type": "contourcarpet"
           }
          ],
          "heatmap": [
           {
            "colorbar": {
             "outlinewidth": 0,
             "ticks": ""
            },
            "colorscale": [
             [
              0,
              "#0d0887"
             ],
             [
              0.1111111111111111,
              "#46039f"
             ],
             [
              0.2222222222222222,
              "#7201a8"
             ],
             [
              0.3333333333333333,
              "#9c179e"
             ],
             [
              0.4444444444444444,
              "#bd3786"
             ],
             [
              0.5555555555555556,
              "#d8576b"
             ],
             [
              0.6666666666666666,
              "#ed7953"
             ],
             [
              0.7777777777777778,
              "#fb9f3a"
             ],
             [
              0.8888888888888888,
              "#fdca26"
             ],
             [
              1,
              "#f0f921"
             ]
            ],
            "type": "heatmap"
           }
          ],
          "heatmapgl": [
           {
            "colorbar": {
             "outlinewidth": 0,
             "ticks": ""
            },
            "colorscale": [
             [
              0,
              "#0d0887"
             ],
             [
              0.1111111111111111,
              "#46039f"
             ],
             [
              0.2222222222222222,
              "#7201a8"
             ],
             [
              0.3333333333333333,
              "#9c179e"
             ],
             [
              0.4444444444444444,
              "#bd3786"
             ],
             [
              0.5555555555555556,
              "#d8576b"
             ],
             [
              0.6666666666666666,
              "#ed7953"
             ],
             [
              0.7777777777777778,
              "#fb9f3a"
             ],
             [
              0.8888888888888888,
              "#fdca26"
             ],
             [
              1,
              "#f0f921"
             ]
            ],
            "type": "heatmapgl"
           }
          ],
          "histogram": [
           {
            "marker": {
             "pattern": {
              "fillmode": "overlay",
              "size": 10,
              "solidity": 0.2
             }
            },
            "type": "histogram"
           }
          ],
          "histogram2d": [
           {
            "colorbar": {
             "outlinewidth": 0,
             "ticks": ""
            },
            "colorscale": [
             [
              0,
              "#0d0887"
             ],
             [
              0.1111111111111111,
              "#46039f"
             ],
             [
              0.2222222222222222,
              "#7201a8"
             ],
             [
              0.3333333333333333,
              "#9c179e"
             ],
             [
              0.4444444444444444,
              "#bd3786"
             ],
             [
              0.5555555555555556,
              "#d8576b"
             ],
             [
              0.6666666666666666,
              "#ed7953"
             ],
             [
              0.7777777777777778,
              "#fb9f3a"
             ],
             [
              0.8888888888888888,
              "#fdca26"
             ],
             [
              1,
              "#f0f921"
             ]
            ],
            "type": "histogram2d"
           }
          ],
          "histogram2dcontour": [
           {
            "colorbar": {
             "outlinewidth": 0,
             "ticks": ""
            },
            "colorscale": [
             [
              0,
              "#0d0887"
             ],
             [
              0.1111111111111111,
              "#46039f"
             ],
             [
              0.2222222222222222,
              "#7201a8"
             ],
             [
              0.3333333333333333,
              "#9c179e"
             ],
             [
              0.4444444444444444,
              "#bd3786"
             ],
             [
              0.5555555555555556,
              "#d8576b"
             ],
             [
              0.6666666666666666,
              "#ed7953"
             ],
             [
              0.7777777777777778,
              "#fb9f3a"
             ],
             [
              0.8888888888888888,
              "#fdca26"
             ],
             [
              1,
              "#f0f921"
             ]
            ],
            "type": "histogram2dcontour"
           }
          ],
          "mesh3d": [
           {
            "colorbar": {
             "outlinewidth": 0,
             "ticks": ""
            },
            "type": "mesh3d"
           }
          ],
          "parcoords": [
           {
            "line": {
             "colorbar": {
              "outlinewidth": 0,
              "ticks": ""
             }
            },
            "type": "parcoords"
           }
          ],
          "pie": [
           {
            "automargin": true,
            "type": "pie"
           }
          ],
          "scatter": [
           {
            "marker": {
             "colorbar": {
              "outlinewidth": 0,
              "ticks": ""
             }
            },
            "type": "scatter"
           }
          ],
          "scatter3d": [
           {
            "line": {
             "colorbar": {
              "outlinewidth": 0,
              "ticks": ""
             }
            },
            "marker": {
             "colorbar": {
              "outlinewidth": 0,
              "ticks": ""
             }
            },
            "type": "scatter3d"
           }
          ],
          "scattercarpet": [
           {
            "marker": {
             "colorbar": {
              "outlinewidth": 0,
              "ticks": ""
             }
            },
            "type": "scattercarpet"
           }
          ],
          "scattergeo": [
           {
            "marker": {
             "colorbar": {
              "outlinewidth": 0,
              "ticks": ""
             }
            },
            "type": "scattergeo"
           }
          ],
          "scattergl": [
           {
            "marker": {
             "colorbar": {
              "outlinewidth": 0,
              "ticks": ""
             }
            },
            "type": "scattergl"
           }
          ],
          "scattermapbox": [
           {
            "marker": {
             "colorbar": {
              "outlinewidth": 0,
              "ticks": ""
             }
            },
            "type": "scattermapbox"
           }
          ],
          "scatterpolar": [
           {
            "marker": {
             "colorbar": {
              "outlinewidth": 0,
              "ticks": ""
             }
            },
            "type": "scatterpolar"
           }
          ],
          "scatterpolargl": [
           {
            "marker": {
             "colorbar": {
              "outlinewidth": 0,
              "ticks": ""
             }
            },
            "type": "scatterpolargl"
           }
          ],
          "scatterternary": [
           {
            "marker": {
             "colorbar": {
              "outlinewidth": 0,
              "ticks": ""
             }
            },
            "type": "scatterternary"
           }
          ],
          "surface": [
           {
            "colorbar": {
             "outlinewidth": 0,
             "ticks": ""
            },
            "colorscale": [
             [
              0,
              "#0d0887"
             ],
             [
              0.1111111111111111,
              "#46039f"
             ],
             [
              0.2222222222222222,
              "#7201a8"
             ],
             [
              0.3333333333333333,
              "#9c179e"
             ],
             [
              0.4444444444444444,
              "#bd3786"
             ],
             [
              0.5555555555555556,
              "#d8576b"
             ],
             [
              0.6666666666666666,
              "#ed7953"
             ],
             [
              0.7777777777777778,
              "#fb9f3a"
             ],
             [
              0.8888888888888888,
              "#fdca26"
             ],
             [
              1,
              "#f0f921"
             ]
            ],
            "type": "surface"
           }
          ],
          "table": [
           {
            "cells": {
             "fill": {
              "color": "#EBF0F8"
             },
             "line": {
              "color": "white"
             }
            },
            "header": {
             "fill": {
              "color": "#C8D4E3"
             },
             "line": {
              "color": "white"
             }
            },
            "type": "table"
           }
          ]
         },
         "layout": {
          "annotationdefaults": {
           "arrowcolor": "#2a3f5f",
           "arrowhead": 0,
           "arrowwidth": 1
          },
          "autotypenumbers": "strict",
          "coloraxis": {
           "colorbar": {
            "outlinewidth": 0,
            "ticks": ""
           }
          },
          "colorscale": {
           "diverging": [
            [
             0,
             "#8e0152"
            ],
            [
             0.1,
             "#c51b7d"
            ],
            [
             0.2,
             "#de77ae"
            ],
            [
             0.3,
             "#f1b6da"
            ],
            [
             0.4,
             "#fde0ef"
            ],
            [
             0.5,
             "#f7f7f7"
            ],
            [
             0.6,
             "#e6f5d0"
            ],
            [
             0.7,
             "#b8e186"
            ],
            [
             0.8,
             "#7fbc41"
            ],
            [
             0.9,
             "#4d9221"
            ],
            [
             1,
             "#276419"
            ]
           ],
           "sequential": [
            [
             0,
             "#0d0887"
            ],
            [
             0.1111111111111111,
             "#46039f"
            ],
            [
             0.2222222222222222,
             "#7201a8"
            ],
            [
             0.3333333333333333,
             "#9c179e"
            ],
            [
             0.4444444444444444,
             "#bd3786"
            ],
            [
             0.5555555555555556,
             "#d8576b"
            ],
            [
             0.6666666666666666,
             "#ed7953"
            ],
            [
             0.7777777777777778,
             "#fb9f3a"
            ],
            [
             0.8888888888888888,
             "#fdca26"
            ],
            [
             1,
             "#f0f921"
            ]
           ],
           "sequentialminus": [
            [
             0,
             "#0d0887"
            ],
            [
             0.1111111111111111,
             "#46039f"
            ],
            [
             0.2222222222222222,
             "#7201a8"
            ],
            [
             0.3333333333333333,
             "#9c179e"
            ],
            [
             0.4444444444444444,
             "#bd3786"
            ],
            [
             0.5555555555555556,
             "#d8576b"
            ],
            [
             0.6666666666666666,
             "#ed7953"
            ],
            [
             0.7777777777777778,
             "#fb9f3a"
            ],
            [
             0.8888888888888888,
             "#fdca26"
            ],
            [
             1,
             "#f0f921"
            ]
           ]
          },
          "colorway": [
           "#636efa",
           "#EF553B",
           "#00cc96",
           "#ab63fa",
           "#FFA15A",
           "#19d3f3",
           "#FF6692",
           "#B6E880",
           "#FF97FF",
           "#FECB52"
          ],
          "font": {
           "color": "#2a3f5f"
          },
          "geo": {
           "bgcolor": "white",
           "lakecolor": "white",
           "landcolor": "#E5ECF6",
           "showlakes": true,
           "showland": true,
           "subunitcolor": "white"
          },
          "hoverlabel": {
           "align": "left"
          },
          "hovermode": "closest",
          "mapbox": {
           "style": "light"
          },
          "paper_bgcolor": "white",
          "plot_bgcolor": "#E5ECF6",
          "polar": {
           "angularaxis": {
            "gridcolor": "white",
            "linecolor": "white",
            "ticks": ""
           },
           "bgcolor": "#E5ECF6",
           "radialaxis": {
            "gridcolor": "white",
            "linecolor": "white",
            "ticks": ""
           }
          },
          "scene": {
           "xaxis": {
            "backgroundcolor": "#E5ECF6",
            "gridcolor": "white",
            "gridwidth": 2,
            "linecolor": "white",
            "showbackground": true,
            "ticks": "",
            "zerolinecolor": "white"
           },
           "yaxis": {
            "backgroundcolor": "#E5ECF6",
            "gridcolor": "white",
            "gridwidth": 2,
            "linecolor": "white",
            "showbackground": true,
            "ticks": "",
            "zerolinecolor": "white"
           },
           "zaxis": {
            "backgroundcolor": "#E5ECF6",
            "gridcolor": "white",
            "gridwidth": 2,
            "linecolor": "white",
            "showbackground": true,
            "ticks": "",
            "zerolinecolor": "white"
           }
          },
          "shapedefaults": {
           "line": {
            "color": "#2a3f5f"
           }
          },
          "ternary": {
           "aaxis": {
            "gridcolor": "white",
            "linecolor": "white",
            "ticks": ""
           },
           "baxis": {
            "gridcolor": "white",
            "linecolor": "white",
            "ticks": ""
           },
           "bgcolor": "#E5ECF6",
           "caxis": {
            "gridcolor": "white",
            "linecolor": "white",
            "ticks": ""
           }
          },
          "title": {
           "x": 0.05
          },
          "xaxis": {
           "automargin": true,
           "gridcolor": "white",
           "linecolor": "white",
           "ticks": "",
           "title": {
            "standoff": 15
           },
           "zerolinecolor": "white",
           "zerolinewidth": 2
          },
          "yaxis": {
           "automargin": true,
           "gridcolor": "white",
           "linecolor": "white",
           "ticks": "",
           "title": {
            "standoff": 15
           },
           "zerolinecolor": "white",
           "zerolinewidth": 2
          }
         }
        },
        "title": {
         "font": {
          "color": "#4D5663"
         }
        },
        "xaxis": {
         "gridcolor": "#E1E5ED",
         "showgrid": true,
         "tickfont": {
          "color": "#4D5663"
         },
         "title": {
          "font": {
           "color": "#4D5663"
          },
          "text": ""
         },
         "zerolinecolor": "#E1E5ED"
        },
        "yaxis": {
         "gridcolor": "#E1E5ED",
         "showgrid": true,
         "tickfont": {
          "color": "#4D5663"
         },
         "title": {
          "font": {
           "color": "#4D5663"
          },
          "text": ""
         },
         "zerolinecolor": "#E1E5ED"
        }
       }
      },
      "text/html": [
       "<div>                            <div id=\"930bf289-3afa-4ef9-b88b-84dbf8759f94\" class=\"plotly-graph-div\" style=\"height:525px; width:100%;\"></div>            <script type=\"text/javascript\">                require([\"plotly\"], function(Plotly) {                    window.PLOTLYENV=window.PLOTLYENV || {};\n",
       "                    window.PLOTLYENV.BASE_URL='https://plot.ly';                                    if (document.getElementById(\"930bf289-3afa-4ef9-b88b-84dbf8759f94\")) {                    Plotly.newPlot(                        \"930bf289-3afa-4ef9-b88b-84dbf8759f94\",                        [{\"line\":{\"color\":\"rgba(255, 153, 51, 1.0)\",\"dash\":\"solid\",\"shape\":\"linear\",\"width\":1.3},\"mode\":\"lines\",\"name\":\"A\",\"text\":\"\",\"x\":[0,1,2,3,4,5,6,7,8,9,10,11,12,13,14,15,16,17,18,19,20,21,22,23,24,25,26,27,28,29,30,31,32,33,34,35,36,37,38,39,40,41,42,43,44,45,46,47,48,49,50,51,52,53,54,55,56,57,58,59,60,61,62,63,64,65,66,67,68,69,70,71,72,73,74,75,76,77,78,79,80,81,82,83,84,85,86,87,88,89,90,91,92,93,94,95,96,97,98,99],\"y\":[-0.5902303025205717,-2.2016090086623388,0.9688835342587759,0.4097477034647505,-0.6531516478199042,-0.44733786561834193,-0.47482840070158566,-1.0899258739801267,0.018083060890892132,0.18640424228172048,-1.740262022112669,0.07452870131805488,-0.9223778158444266,-1.9232060232149235,0.10735353125742748,-1.1850757900063225,-0.5497291302848054,0.1760346600120734,1.0109279491426288,-1.8800930869821564,0.6818689562292352,1.0013136875986148,-1.4245497173871668,-0.6206539678188364,1.7911365866515108,0.7238100420108368,-0.4204677449441723,-2.154777771126477,-0.6273457251981394,0.1821495912778787,-0.06305727171354696,-0.3905198512997907,0.2528318683594929,0.565418190409366,0.6450981928783018,-0.30807010332343876,0.30513862374559486,-1.7594021492571972,-0.8222574329062964,-0.5735086500790288,-1.3979738724160686,-1.2750186161164196,0.6082933112555565,-0.6097777886272943,0.33734371436621946,-0.5417714102437892,1.375561863788836,2.2056801688936902,0.6405306616954853,1.4161986423742619,-1.0286554899550455,-1.4954126636278111,1.7433309705860673,-0.06255855829844899,-1.3254350939260084,1.2110743664651629,-0.3065195328839513,0.728721977199927,0.7196156850537774,0.17793323956809748,-2.1543583642789113,0.6110026577153034,-0.8926214867297181,0.5131829577150304,-0.4599291034370993,0.5993921592961952,-2.5854795386451497,-1.5187255713236734,-1.5832471980763754,-0.8377799538334126,-0.8174203926960799,-1.0010558563534455,-1.529505285845513,0.4705944311419757,-0.34620452317534356,-1.7587041573689515,0.9752971676066632,1.1613831337131102,1.3446457631064839,-1.4555509876454251,0.4266333975246613,-0.4933550509657777,-1.0762683955046413,-1.1172618918660948,-0.8050366057976863,-0.8191627336334403,2.20208838639601,0.8842178450189843,2.248450908342995,1.263857174507037,0.2817469381374268,0.8268799558075348,0.571564064960558,0.19025113238293712,-0.5390699541755176,1.73433697535019,1.2863853747153662,0.05423139472195194,-1.3151122199680136,0.38122217649893086],\"type\":\"scatter\"},{\"line\":{\"color\":\"rgba(55, 128, 191, 1.0)\",\"dash\":\"solid\",\"shape\":\"linear\",\"width\":1.3},\"mode\":\"lines\",\"name\":\"B\",\"text\":\"\",\"x\":[0,1,2,3,4,5,6,7,8,9,10,11,12,13,14,15,16,17,18,19,20,21,22,23,24,25,26,27,28,29,30,31,32,33,34,35,36,37,38,39,40,41,42,43,44,45,46,47,48,49,50,51,52,53,54,55,56,57,58,59,60,61,62,63,64,65,66,67,68,69,70,71,72,73,74,75,76,77,78,79,80,81,82,83,84,85,86,87,88,89,90,91,92,93,94,95,96,97,98,99],\"y\":[-1.3670490430437636,0.161450524235461,-0.44217348630356307,0.37545077311535113,-0.26558456358514304,-0.05337396280955743,-0.16286499406938992,-0.6559063241917041,0.2166205230803355,0.579264707040054,0.6570113302304137,1.1128644665473264,1.3437370062884728,1.2253391743149586,0.07243088995730265,-0.16291549888248036,0.5221703263725861,-0.2860873155412922,0.23845897129297605,0.5383216359023025,1.0228260382992838,1.4742375561846004,-0.4971926005756821,-0.3702983491139233,1.2811992881765035,0.5235806670476302,-0.29364591922026506,2.0327478724465315,-0.8321944982609231,-0.10476735233563249,-0.26958492730061334,-0.20189994105473036,1.0847659756245622,-1.1944184798293207,-1.3230740820458162,0.6206316042828937,0.10859772366319033,-0.6156696325698916,0.3984569141979588,0.844077249699107,1.2519032595789779,0.2513651055639649,0.2130378339237908,0.6490835820095017,-0.010798931494050746,0.3941767468516104,-1.6296040595382955,1.813762930471477,2.038570665631588,0.8554014083836431,1.06694928084837,0.7266644331179781,-0.7312737819318127,1.0626543686367567,1.5125446201537545,0.15539761830497265,1.1275135376114895,0.3884913736161449,1.3342540109209156,-0.09870250239733834,0.19263865576084857,1.6508820619017714,-0.6357303957131819,-0.21065746732213148,1.5794879615866562,0.13187081043821755,-0.6910448387634717,-0.9241359886362889,-0.9788028958812267,1.6571093770062777,0.46710147448499517,-0.08167530974313282,-0.32795086978837157,-0.4864270154260517,1.4228982883721621,-1.230082525704563,-1.8388925715141657,0.007416738671856635,-0.8495852847344079,-0.32060058648100864,-0.10872605769317288,0.17620829861536996,2.817567551757438,1.287542016854579,-0.678669908194487,0.4110746516491658,-1.3175798955777698,-0.9259953438941361,0.6365254724876831,0.1645909140545531,1.275561684738259,-0.5512964249982745,0.6776207058555057,-1.0088839072755986,1.2546202290644812,-0.4988731232616055,1.0171125628881423,-0.6730874492229427,2.515399088329593,0.04827347094723881],\"type\":\"scatter\"},{\"line\":{\"color\":\"rgba(50, 171, 96, 1.0)\",\"dash\":\"solid\",\"shape\":\"linear\",\"width\":1.3},\"mode\":\"lines\",\"name\":\"C\",\"text\":\"\",\"x\":[0,1,2,3,4,5,6,7,8,9,10,11,12,13,14,15,16,17,18,19,20,21,22,23,24,25,26,27,28,29,30,31,32,33,34,35,36,37,38,39,40,41,42,43,44,45,46,47,48,49,50,51,52,53,54,55,56,57,58,59,60,61,62,63,64,65,66,67,68,69,70,71,72,73,74,75,76,77,78,79,80,81,82,83,84,85,86,87,88,89,90,91,92,93,94,95,96,97,98,99],\"y\":[1.0927895381438653,0.3869804888555894,-0.07820871841748094,0.10914875239807878,0.44141128246765543,0.059709641898243994,0.9362562758459936,-0.049469222922685165,-0.9604645141374815,-0.03642247206112177,0.4540126975266702,0.46661801100664024,0.23525896270846847,0.8435264824759354,1.9123308315530168,1.3778178632223428,1.427129817536749,1.5969456284165555,-0.6353716176738434,-0.0852301036877315,-1.3107077999802108,-0.2111203466429529,-0.822676110997687,-0.6399111406824087,0.5784150917630376,-2.0730943122234877,-0.009738024958068586,0.31731126652029606,-0.8621507657761383,1.360291204984467,-1.8087879144579424,-1.1129622729554434,0.5677532651308002,-1.0697605131495675,0.31007992996337114,-0.15813396722000733,-0.24701350019495308,-1.0947940608247673,0.10314984688247189,1.3522471859989258,0.8606312443402826,-0.4553994887831305,-0.027024463446770283,-0.602148747068422,-1.8617033643320429,1.0459214592089945,-0.38172865720440924,-0.9482660908555265,0.8641232502416377,-1.7194676900776327,-1.1994706634027732,0.6713487772149576,-2.1346765408392505,-0.7181127663392818,0.06053680845956763,-0.37917654153482355,0.0894570996922149,-0.05600806767708331,0.928892609407208,-0.7495940138240937,1.2609906474293038,-1.0139880360813422,-1.3111107150205963,-0.9781755940346926,-1.1467667465321165,0.509671842270591,-0.49660618701523934,-0.11180452020127217,-2.0983295549353365,-0.37427308918351176,0.3825874831548487,-0.46048952482532995,-0.7327819745299191,0.9313353321457137,-1.4710842016607026,-1.6229378241379038,-1.365938141973644,0.6442667748038098,1.8008255670720474,1.1644094313071818,1.0284801366288947,-0.9741732106305144,0.599971256821181,-0.8139126818817689,-1.09767394155658,0.31749206036862637,0.3122101323895381,-0.21538581024967854,0.7603118663717938,-2.231394814777633,0.4771245925723608,0.3003655425976786,-0.42850277917924867,-0.3913032486148974,-0.1647431926134105,-1.507024883903592,0.006553607869517606,1.9888006179881683,0.2126792472612787,-1.4987557388322261],\"type\":\"scatter\"},{\"line\":{\"color\":\"rgba(128, 0, 128, 1.0)\",\"dash\":\"solid\",\"shape\":\"linear\",\"width\":1.3},\"mode\":\"lines\",\"name\":\"D\",\"text\":\"\",\"x\":[0,1,2,3,4,5,6,7,8,9,10,11,12,13,14,15,16,17,18,19,20,21,22,23,24,25,26,27,28,29,30,31,32,33,34,35,36,37,38,39,40,41,42,43,44,45,46,47,48,49,50,51,52,53,54,55,56,57,58,59,60,61,62,63,64,65,66,67,68,69,70,71,72,73,74,75,76,77,78,79,80,81,82,83,84,85,86,87,88,89,90,91,92,93,94,95,96,97,98,99],\"y\":[-0.18404099541891808,0.3705020988811112,2.4707853777241984,-0.6918146703711641,-0.8598510055544313,-1.158422440878767,1.4392467936379234,-0.6444906436631372,0.07894053798934612,-0.14325225219283427,-0.7795377265033557,1.0287344829474763,0.8627307529196024,-1.22890078262128,-0.47042027405335574,-0.23634839918213463,-0.4904857493837416,-0.7944123856144842,0.38778200438058813,0.9465708488659833,0.07899079642198541,-1.2488361957956742,0.19068929934729476,-1.0759649846092925,0.652451644860557,0.3015952648458203,0.5928935225579912,0.16911608311814655,-1.7168319905353358,-0.9965345005712516,-0.799832574687069,-0.4985149362343189,-0.4428008794462112,0.09638485531186627,-0.15011085240866567,1.226181583794429,-0.6037653345291387,-2.553832907788901,0.41976705316316654,0.5751887195240278,0.6003093489706015,-0.17644904294017671,0.6572023046449496,-0.016283320319424494,0.26465186215612035,0.6574045231367414,0.47531636844809133,1.0615391981185471,0.36254004841507625,-0.8377924133433795,1.9398990124400257,0.7769369852373745,0.045950154352748886,-1.5626638233641632,0.31621389478489725,-0.7931086826469803,-1.7551691001506924,1.2294425567019371,-0.0561545639195008,2.0442495940818506,-1.343470161015329,-0.8449773666074941,0.5666466025668979,0.574896431520319,-0.6623593912763195,-3.072259852988364,0.3629716411895115,1.0131910891426401,-2.3279426569230717,0.31783112748115516,-1.0288307099732001,-3.105096101828258,-1.7498390701699789,0.8854827761806933,0.08118201488294917,0.647961662890736,1.891230672055887,0.7914627879619662,1.0700106617800895,0.07227639716562591,0.6201189505305379,-0.5655464421299009,0.06228980710049047,0.2853002537024566,-1.2273085630898832,-0.9103824315747909,0.6627057071312216,0.7732955015308591,-1.5466254411465514,0.22583614943131844,1.6126052875773842,-1.4442686899363433,1.822522637667904,1.823108525324734,2.8499618537430065,-0.3713081051143311,0.10186930241625286,0.8109871340449076,0.6159795521360518,-0.7539276801344859],\"type\":\"scatter\"}],                        {\"legend\":{\"bgcolor\":\"#F5F6F9\",\"font\":{\"color\":\"#4D5663\"}},\"paper_bgcolor\":\"#F5F6F9\",\"plot_bgcolor\":\"#F5F6F9\",\"template\":{\"data\":{\"barpolar\":[{\"marker\":{\"line\":{\"color\":\"#E5ECF6\",\"width\":0.5},\"pattern\":{\"fillmode\":\"overlay\",\"size\":10,\"solidity\":0.2}},\"type\":\"barpolar\"}],\"bar\":[{\"error_x\":{\"color\":\"#2a3f5f\"},\"error_y\":{\"color\":\"#2a3f5f\"},\"marker\":{\"line\":{\"color\":\"#E5ECF6\",\"width\":0.5},\"pattern\":{\"fillmode\":\"overlay\",\"size\":10,\"solidity\":0.2}},\"type\":\"bar\"}],\"carpet\":[{\"aaxis\":{\"endlinecolor\":\"#2a3f5f\",\"gridcolor\":\"white\",\"linecolor\":\"white\",\"minorgridcolor\":\"white\",\"startlinecolor\":\"#2a3f5f\"},\"baxis\":{\"endlinecolor\":\"#2a3f5f\",\"gridcolor\":\"white\",\"linecolor\":\"white\",\"minorgridcolor\":\"white\",\"startlinecolor\":\"#2a3f5f\"},\"type\":\"carpet\"}],\"choropleth\":[{\"colorbar\":{\"outlinewidth\":0,\"ticks\":\"\"},\"type\":\"choropleth\"}],\"contourcarpet\":[{\"colorbar\":{\"outlinewidth\":0,\"ticks\":\"\"},\"type\":\"contourcarpet\"}],\"contour\":[{\"colorbar\":{\"outlinewidth\":0,\"ticks\":\"\"},\"colorscale\":[[0.0,\"#0d0887\"],[0.1111111111111111,\"#46039f\"],[0.2222222222222222,\"#7201a8\"],[0.3333333333333333,\"#9c179e\"],[0.4444444444444444,\"#bd3786\"],[0.5555555555555556,\"#d8576b\"],[0.6666666666666666,\"#ed7953\"],[0.7777777777777778,\"#fb9f3a\"],[0.8888888888888888,\"#fdca26\"],[1.0,\"#f0f921\"]],\"type\":\"contour\"}],\"heatmapgl\":[{\"colorbar\":{\"outlinewidth\":0,\"ticks\":\"\"},\"colorscale\":[[0.0,\"#0d0887\"],[0.1111111111111111,\"#46039f\"],[0.2222222222222222,\"#7201a8\"],[0.3333333333333333,\"#9c179e\"],[0.4444444444444444,\"#bd3786\"],[0.5555555555555556,\"#d8576b\"],[0.6666666666666666,\"#ed7953\"],[0.7777777777777778,\"#fb9f3a\"],[0.8888888888888888,\"#fdca26\"],[1.0,\"#f0f921\"]],\"type\":\"heatmapgl\"}],\"heatmap\":[{\"colorbar\":{\"outlinewidth\":0,\"ticks\":\"\"},\"colorscale\":[[0.0,\"#0d0887\"],[0.1111111111111111,\"#46039f\"],[0.2222222222222222,\"#7201a8\"],[0.3333333333333333,\"#9c179e\"],[0.4444444444444444,\"#bd3786\"],[0.5555555555555556,\"#d8576b\"],[0.6666666666666666,\"#ed7953\"],[0.7777777777777778,\"#fb9f3a\"],[0.8888888888888888,\"#fdca26\"],[1.0,\"#f0f921\"]],\"type\":\"heatmap\"}],\"histogram2dcontour\":[{\"colorbar\":{\"outlinewidth\":0,\"ticks\":\"\"},\"colorscale\":[[0.0,\"#0d0887\"],[0.1111111111111111,\"#46039f\"],[0.2222222222222222,\"#7201a8\"],[0.3333333333333333,\"#9c179e\"],[0.4444444444444444,\"#bd3786\"],[0.5555555555555556,\"#d8576b\"],[0.6666666666666666,\"#ed7953\"],[0.7777777777777778,\"#fb9f3a\"],[0.8888888888888888,\"#fdca26\"],[1.0,\"#f0f921\"]],\"type\":\"histogram2dcontour\"}],\"histogram2d\":[{\"colorbar\":{\"outlinewidth\":0,\"ticks\":\"\"},\"colorscale\":[[0.0,\"#0d0887\"],[0.1111111111111111,\"#46039f\"],[0.2222222222222222,\"#7201a8\"],[0.3333333333333333,\"#9c179e\"],[0.4444444444444444,\"#bd3786\"],[0.5555555555555556,\"#d8576b\"],[0.6666666666666666,\"#ed7953\"],[0.7777777777777778,\"#fb9f3a\"],[0.8888888888888888,\"#fdca26\"],[1.0,\"#f0f921\"]],\"type\":\"histogram2d\"}],\"histogram\":[{\"marker\":{\"pattern\":{\"fillmode\":\"overlay\",\"size\":10,\"solidity\":0.2}},\"type\":\"histogram\"}],\"mesh3d\":[{\"colorbar\":{\"outlinewidth\":0,\"ticks\":\"\"},\"type\":\"mesh3d\"}],\"parcoords\":[{\"line\":{\"colorbar\":{\"outlinewidth\":0,\"ticks\":\"\"}},\"type\":\"parcoords\"}],\"pie\":[{\"automargin\":true,\"type\":\"pie\"}],\"scatter3d\":[{\"line\":{\"colorbar\":{\"outlinewidth\":0,\"ticks\":\"\"}},\"marker\":{\"colorbar\":{\"outlinewidth\":0,\"ticks\":\"\"}},\"type\":\"scatter3d\"}],\"scattercarpet\":[{\"marker\":{\"colorbar\":{\"outlinewidth\":0,\"ticks\":\"\"}},\"type\":\"scattercarpet\"}],\"scattergeo\":[{\"marker\":{\"colorbar\":{\"outlinewidth\":0,\"ticks\":\"\"}},\"type\":\"scattergeo\"}],\"scattergl\":[{\"marker\":{\"colorbar\":{\"outlinewidth\":0,\"ticks\":\"\"}},\"type\":\"scattergl\"}],\"scattermapbox\":[{\"marker\":{\"colorbar\":{\"outlinewidth\":0,\"ticks\":\"\"}},\"type\":\"scattermapbox\"}],\"scatterpolargl\":[{\"marker\":{\"colorbar\":{\"outlinewidth\":0,\"ticks\":\"\"}},\"type\":\"scatterpolargl\"}],\"scatterpolar\":[{\"marker\":{\"colorbar\":{\"outlinewidth\":0,\"ticks\":\"\"}},\"type\":\"scatterpolar\"}],\"scatter\":[{\"marker\":{\"colorbar\":{\"outlinewidth\":0,\"ticks\":\"\"}},\"type\":\"scatter\"}],\"scatterternary\":[{\"marker\":{\"colorbar\":{\"outlinewidth\":0,\"ticks\":\"\"}},\"type\":\"scatterternary\"}],\"surface\":[{\"colorbar\":{\"outlinewidth\":0,\"ticks\":\"\"},\"colorscale\":[[0.0,\"#0d0887\"],[0.1111111111111111,\"#46039f\"],[0.2222222222222222,\"#7201a8\"],[0.3333333333333333,\"#9c179e\"],[0.4444444444444444,\"#bd3786\"],[0.5555555555555556,\"#d8576b\"],[0.6666666666666666,\"#ed7953\"],[0.7777777777777778,\"#fb9f3a\"],[0.8888888888888888,\"#fdca26\"],[1.0,\"#f0f921\"]],\"type\":\"surface\"}],\"table\":[{\"cells\":{\"fill\":{\"color\":\"#EBF0F8\"},\"line\":{\"color\":\"white\"}},\"header\":{\"fill\":{\"color\":\"#C8D4E3\"},\"line\":{\"color\":\"white\"}},\"type\":\"table\"}]},\"layout\":{\"annotationdefaults\":{\"arrowcolor\":\"#2a3f5f\",\"arrowhead\":0,\"arrowwidth\":1},\"autotypenumbers\":\"strict\",\"coloraxis\":{\"colorbar\":{\"outlinewidth\":0,\"ticks\":\"\"}},\"colorscale\":{\"diverging\":[[0,\"#8e0152\"],[0.1,\"#c51b7d\"],[0.2,\"#de77ae\"],[0.3,\"#f1b6da\"],[0.4,\"#fde0ef\"],[0.5,\"#f7f7f7\"],[0.6,\"#e6f5d0\"],[0.7,\"#b8e186\"],[0.8,\"#7fbc41\"],[0.9,\"#4d9221\"],[1,\"#276419\"]],\"sequential\":[[0.0,\"#0d0887\"],[0.1111111111111111,\"#46039f\"],[0.2222222222222222,\"#7201a8\"],[0.3333333333333333,\"#9c179e\"],[0.4444444444444444,\"#bd3786\"],[0.5555555555555556,\"#d8576b\"],[0.6666666666666666,\"#ed7953\"],[0.7777777777777778,\"#fb9f3a\"],[0.8888888888888888,\"#fdca26\"],[1.0,\"#f0f921\"]],\"sequentialminus\":[[0.0,\"#0d0887\"],[0.1111111111111111,\"#46039f\"],[0.2222222222222222,\"#7201a8\"],[0.3333333333333333,\"#9c179e\"],[0.4444444444444444,\"#bd3786\"],[0.5555555555555556,\"#d8576b\"],[0.6666666666666666,\"#ed7953\"],[0.7777777777777778,\"#fb9f3a\"],[0.8888888888888888,\"#fdca26\"],[1.0,\"#f0f921\"]]},\"colorway\":[\"#636efa\",\"#EF553B\",\"#00cc96\",\"#ab63fa\",\"#FFA15A\",\"#19d3f3\",\"#FF6692\",\"#B6E880\",\"#FF97FF\",\"#FECB52\"],\"font\":{\"color\":\"#2a3f5f\"},\"geo\":{\"bgcolor\":\"white\",\"lakecolor\":\"white\",\"landcolor\":\"#E5ECF6\",\"showlakes\":true,\"showland\":true,\"subunitcolor\":\"white\"},\"hoverlabel\":{\"align\":\"left\"},\"hovermode\":\"closest\",\"mapbox\":{\"style\":\"light\"},\"paper_bgcolor\":\"white\",\"plot_bgcolor\":\"#E5ECF6\",\"polar\":{\"angularaxis\":{\"gridcolor\":\"white\",\"linecolor\":\"white\",\"ticks\":\"\"},\"bgcolor\":\"#E5ECF6\",\"radialaxis\":{\"gridcolor\":\"white\",\"linecolor\":\"white\",\"ticks\":\"\"}},\"scene\":{\"xaxis\":{\"backgroundcolor\":\"#E5ECF6\",\"gridcolor\":\"white\",\"gridwidth\":2,\"linecolor\":\"white\",\"showbackground\":true,\"ticks\":\"\",\"zerolinecolor\":\"white\"},\"yaxis\":{\"backgroundcolor\":\"#E5ECF6\",\"gridcolor\":\"white\",\"gridwidth\":2,\"linecolor\":\"white\",\"showbackground\":true,\"ticks\":\"\",\"zerolinecolor\":\"white\"},\"zaxis\":{\"backgroundcolor\":\"#E5ECF6\",\"gridcolor\":\"white\",\"gridwidth\":2,\"linecolor\":\"white\",\"showbackground\":true,\"ticks\":\"\",\"zerolinecolor\":\"white\"}},\"shapedefaults\":{\"line\":{\"color\":\"#2a3f5f\"}},\"ternary\":{\"aaxis\":{\"gridcolor\":\"white\",\"linecolor\":\"white\",\"ticks\":\"\"},\"baxis\":{\"gridcolor\":\"white\",\"linecolor\":\"white\",\"ticks\":\"\"},\"bgcolor\":\"#E5ECF6\",\"caxis\":{\"gridcolor\":\"white\",\"linecolor\":\"white\",\"ticks\":\"\"}},\"title\":{\"x\":0.05},\"xaxis\":{\"automargin\":true,\"gridcolor\":\"white\",\"linecolor\":\"white\",\"ticks\":\"\",\"title\":{\"standoff\":15},\"zerolinecolor\":\"white\",\"zerolinewidth\":2},\"yaxis\":{\"automargin\":true,\"gridcolor\":\"white\",\"linecolor\":\"white\",\"ticks\":\"\",\"title\":{\"standoff\":15},\"zerolinecolor\":\"white\",\"zerolinewidth\":2}}},\"title\":{\"font\":{\"color\":\"#4D5663\"}},\"xaxis\":{\"gridcolor\":\"#E1E5ED\",\"showgrid\":true,\"tickfont\":{\"color\":\"#4D5663\"},\"title\":{\"font\":{\"color\":\"#4D5663\"},\"text\":\"\"},\"zerolinecolor\":\"#E1E5ED\"},\"yaxis\":{\"gridcolor\":\"#E1E5ED\",\"showgrid\":true,\"tickfont\":{\"color\":\"#4D5663\"},\"title\":{\"font\":{\"color\":\"#4D5663\"},\"text\":\"\"},\"zerolinecolor\":\"#E1E5ED\"}},                        {\"showLink\": true, \"linkText\": \"Export to plot.ly\", \"plotlyServerURL\": \"https://plot.ly\", \"responsive\": true}                    ).then(function(){\n",
       "                            \n",
       "var gd = document.getElementById('930bf289-3afa-4ef9-b88b-84dbf8759f94');\n",
       "var x = new MutationObserver(function (mutations, observer) {{\n",
       "        var display = window.getComputedStyle(gd).display;\n",
       "        if (!display || display === 'none') {{\n",
       "            console.log([gd, 'removed!']);\n",
       "            Plotly.purge(gd);\n",
       "            observer.disconnect();\n",
       "        }}\n",
       "}});\n",
       "\n",
       "// Listen for the removal of the full notebook cells\n",
       "var notebookContainer = gd.closest('#notebook-container');\n",
       "if (notebookContainer) {{\n",
       "    x.observe(notebookContainer, {childList: true});\n",
       "}}\n",
       "\n",
       "// Listen for the clearing of the current output cell\n",
       "var outputEl = gd.closest('.output');\n",
       "if (outputEl) {{\n",
       "    x.observe(outputEl, {childList: true});\n",
       "}}\n",
       "\n",
       "                        })                };                });            </script>        </div>"
      ]
     },
     "metadata": {},
     "output_type": "display_data"
    }
   ],
   "source": [
    "df.iplot() # interactive!"
   ]
  },
  {
   "cell_type": "code",
   "execution_count": 12,
   "metadata": {},
   "outputs": [
    {
     "data": {
      "application/vnd.plotly.v1+json": {
       "config": {
        "linkText": "Export to plot.ly",
        "plotlyServerURL": "https://plot.ly",
        "showLink": true
       },
       "data": [
        {
         "line": {
          "color": "rgba(255, 153, 51, 1.0)",
          "dash": "solid",
          "shape": "linear",
          "width": 1.3
         },
         "marker": {
          "size": 7,
          "symbol": "circle"
         },
         "mode": "markers",
         "name": "B",
         "text": "",
         "type": "scatter",
         "x": [
          -0.5902303025205717,
          -2.2016090086623388,
          0.9688835342587759,
          0.4097477034647505,
          -0.6531516478199042,
          -0.44733786561834193,
          -0.47482840070158566,
          -1.0899258739801267,
          0.018083060890892132,
          0.18640424228172048,
          -1.740262022112669,
          0.07452870131805488,
          -0.9223778158444266,
          -1.9232060232149235,
          0.10735353125742748,
          -1.1850757900063225,
          -0.5497291302848054,
          0.1760346600120734,
          1.0109279491426288,
          -1.8800930869821564,
          0.6818689562292352,
          1.0013136875986148,
          -1.4245497173871668,
          -0.6206539678188364,
          1.7911365866515108,
          0.7238100420108368,
          -0.4204677449441723,
          -2.154777771126477,
          -0.6273457251981394,
          0.1821495912778787,
          -0.06305727171354696,
          -0.3905198512997907,
          0.2528318683594929,
          0.565418190409366,
          0.6450981928783018,
          -0.30807010332343876,
          0.30513862374559486,
          -1.7594021492571972,
          -0.8222574329062964,
          -0.5735086500790288,
          -1.3979738724160686,
          -1.2750186161164196,
          0.6082933112555565,
          -0.6097777886272943,
          0.33734371436621946,
          -0.5417714102437892,
          1.375561863788836,
          2.2056801688936902,
          0.6405306616954853,
          1.4161986423742619,
          -1.0286554899550455,
          -1.4954126636278111,
          1.7433309705860673,
          -0.06255855829844899,
          -1.3254350939260084,
          1.2110743664651629,
          -0.3065195328839513,
          0.728721977199927,
          0.7196156850537774,
          0.17793323956809748,
          -2.1543583642789113,
          0.6110026577153034,
          -0.8926214867297181,
          0.5131829577150304,
          -0.4599291034370993,
          0.5993921592961952,
          -2.5854795386451497,
          -1.5187255713236734,
          -1.5832471980763754,
          -0.8377799538334126,
          -0.8174203926960799,
          -1.0010558563534455,
          -1.529505285845513,
          0.4705944311419757,
          -0.34620452317534356,
          -1.7587041573689515,
          0.9752971676066632,
          1.1613831337131102,
          1.3446457631064839,
          -1.4555509876454251,
          0.4266333975246613,
          -0.4933550509657777,
          -1.0762683955046413,
          -1.1172618918660948,
          -0.8050366057976863,
          -0.8191627336334403,
          2.20208838639601,
          0.8842178450189843,
          2.248450908342995,
          1.263857174507037,
          0.2817469381374268,
          0.8268799558075348,
          0.571564064960558,
          0.19025113238293712,
          -0.5390699541755176,
          1.73433697535019,
          1.2863853747153662,
          0.05423139472195194,
          -1.3151122199680136,
          0.38122217649893086
         ],
         "y": [
          -1.3670490430437636,
          0.161450524235461,
          -0.44217348630356307,
          0.37545077311535113,
          -0.26558456358514304,
          -0.05337396280955743,
          -0.16286499406938992,
          -0.6559063241917041,
          0.2166205230803355,
          0.579264707040054,
          0.6570113302304137,
          1.1128644665473264,
          1.3437370062884728,
          1.2253391743149586,
          0.07243088995730265,
          -0.16291549888248036,
          0.5221703263725861,
          -0.2860873155412922,
          0.23845897129297605,
          0.5383216359023025,
          1.0228260382992838,
          1.4742375561846004,
          -0.4971926005756821,
          -0.3702983491139233,
          1.2811992881765035,
          0.5235806670476302,
          -0.29364591922026506,
          2.0327478724465315,
          -0.8321944982609231,
          -0.10476735233563249,
          -0.26958492730061334,
          -0.20189994105473036,
          1.0847659756245622,
          -1.1944184798293207,
          -1.3230740820458162,
          0.6206316042828937,
          0.10859772366319033,
          -0.6156696325698916,
          0.3984569141979588,
          0.844077249699107,
          1.2519032595789779,
          0.2513651055639649,
          0.2130378339237908,
          0.6490835820095017,
          -0.010798931494050746,
          0.3941767468516104,
          -1.6296040595382955,
          1.813762930471477,
          2.038570665631588,
          0.8554014083836431,
          1.06694928084837,
          0.7266644331179781,
          -0.7312737819318127,
          1.0626543686367567,
          1.5125446201537545,
          0.15539761830497265,
          1.1275135376114895,
          0.3884913736161449,
          1.3342540109209156,
          -0.09870250239733834,
          0.19263865576084857,
          1.6508820619017714,
          -0.6357303957131819,
          -0.21065746732213148,
          1.5794879615866562,
          0.13187081043821755,
          -0.6910448387634717,
          -0.9241359886362889,
          -0.9788028958812267,
          1.6571093770062777,
          0.46710147448499517,
          -0.08167530974313282,
          -0.32795086978837157,
          -0.4864270154260517,
          1.4228982883721621,
          -1.230082525704563,
          -1.8388925715141657,
          0.007416738671856635,
          -0.8495852847344079,
          -0.32060058648100864,
          -0.10872605769317288,
          0.17620829861536996,
          2.817567551757438,
          1.287542016854579,
          -0.678669908194487,
          0.4110746516491658,
          -1.3175798955777698,
          -0.9259953438941361,
          0.6365254724876831,
          0.1645909140545531,
          1.275561684738259,
          -0.5512964249982745,
          0.6776207058555057,
          -1.0088839072755986,
          1.2546202290644812,
          -0.4988731232616055,
          1.0171125628881423,
          -0.6730874492229427,
          2.515399088329593,
          0.04827347094723881
         ]
        }
       ],
       "layout": {
        "legend": {
         "bgcolor": "#F5F6F9",
         "font": {
          "color": "#4D5663"
         }
        },
        "paper_bgcolor": "#F5F6F9",
        "plot_bgcolor": "#F5F6F9",
        "template": {
         "data": {
          "bar": [
           {
            "error_x": {
             "color": "#2a3f5f"
            },
            "error_y": {
             "color": "#2a3f5f"
            },
            "marker": {
             "line": {
              "color": "#E5ECF6",
              "width": 0.5
             },
             "pattern": {
              "fillmode": "overlay",
              "size": 10,
              "solidity": 0.2
             }
            },
            "type": "bar"
           }
          ],
          "barpolar": [
           {
            "marker": {
             "line": {
              "color": "#E5ECF6",
              "width": 0.5
             },
             "pattern": {
              "fillmode": "overlay",
              "size": 10,
              "solidity": 0.2
             }
            },
            "type": "barpolar"
           }
          ],
          "carpet": [
           {
            "aaxis": {
             "endlinecolor": "#2a3f5f",
             "gridcolor": "white",
             "linecolor": "white",
             "minorgridcolor": "white",
             "startlinecolor": "#2a3f5f"
            },
            "baxis": {
             "endlinecolor": "#2a3f5f",
             "gridcolor": "white",
             "linecolor": "white",
             "minorgridcolor": "white",
             "startlinecolor": "#2a3f5f"
            },
            "type": "carpet"
           }
          ],
          "choropleth": [
           {
            "colorbar": {
             "outlinewidth": 0,
             "ticks": ""
            },
            "type": "choropleth"
           }
          ],
          "contour": [
           {
            "colorbar": {
             "outlinewidth": 0,
             "ticks": ""
            },
            "colorscale": [
             [
              0,
              "#0d0887"
             ],
             [
              0.1111111111111111,
              "#46039f"
             ],
             [
              0.2222222222222222,
              "#7201a8"
             ],
             [
              0.3333333333333333,
              "#9c179e"
             ],
             [
              0.4444444444444444,
              "#bd3786"
             ],
             [
              0.5555555555555556,
              "#d8576b"
             ],
             [
              0.6666666666666666,
              "#ed7953"
             ],
             [
              0.7777777777777778,
              "#fb9f3a"
             ],
             [
              0.8888888888888888,
              "#fdca26"
             ],
             [
              1,
              "#f0f921"
             ]
            ],
            "type": "contour"
           }
          ],
          "contourcarpet": [
           {
            "colorbar": {
             "outlinewidth": 0,
             "ticks": ""
            },
            "type": "contourcarpet"
           }
          ],
          "heatmap": [
           {
            "colorbar": {
             "outlinewidth": 0,
             "ticks": ""
            },
            "colorscale": [
             [
              0,
              "#0d0887"
             ],
             [
              0.1111111111111111,
              "#46039f"
             ],
             [
              0.2222222222222222,
              "#7201a8"
             ],
             [
              0.3333333333333333,
              "#9c179e"
             ],
             [
              0.4444444444444444,
              "#bd3786"
             ],
             [
              0.5555555555555556,
              "#d8576b"
             ],
             [
              0.6666666666666666,
              "#ed7953"
             ],
             [
              0.7777777777777778,
              "#fb9f3a"
             ],
             [
              0.8888888888888888,
              "#fdca26"
             ],
             [
              1,
              "#f0f921"
             ]
            ],
            "type": "heatmap"
           }
          ],
          "heatmapgl": [
           {
            "colorbar": {
             "outlinewidth": 0,
             "ticks": ""
            },
            "colorscale": [
             [
              0,
              "#0d0887"
             ],
             [
              0.1111111111111111,
              "#46039f"
             ],
             [
              0.2222222222222222,
              "#7201a8"
             ],
             [
              0.3333333333333333,
              "#9c179e"
             ],
             [
              0.4444444444444444,
              "#bd3786"
             ],
             [
              0.5555555555555556,
              "#d8576b"
             ],
             [
              0.6666666666666666,
              "#ed7953"
             ],
             [
              0.7777777777777778,
              "#fb9f3a"
             ],
             [
              0.8888888888888888,
              "#fdca26"
             ],
             [
              1,
              "#f0f921"
             ]
            ],
            "type": "heatmapgl"
           }
          ],
          "histogram": [
           {
            "marker": {
             "pattern": {
              "fillmode": "overlay",
              "size": 10,
              "solidity": 0.2
             }
            },
            "type": "histogram"
           }
          ],
          "histogram2d": [
           {
            "colorbar": {
             "outlinewidth": 0,
             "ticks": ""
            },
            "colorscale": [
             [
              0,
              "#0d0887"
             ],
             [
              0.1111111111111111,
              "#46039f"
             ],
             [
              0.2222222222222222,
              "#7201a8"
             ],
             [
              0.3333333333333333,
              "#9c179e"
             ],
             [
              0.4444444444444444,
              "#bd3786"
             ],
             [
              0.5555555555555556,
              "#d8576b"
             ],
             [
              0.6666666666666666,
              "#ed7953"
             ],
             [
              0.7777777777777778,
              "#fb9f3a"
             ],
             [
              0.8888888888888888,
              "#fdca26"
             ],
             [
              1,
              "#f0f921"
             ]
            ],
            "type": "histogram2d"
           }
          ],
          "histogram2dcontour": [
           {
            "colorbar": {
             "outlinewidth": 0,
             "ticks": ""
            },
            "colorscale": [
             [
              0,
              "#0d0887"
             ],
             [
              0.1111111111111111,
              "#46039f"
             ],
             [
              0.2222222222222222,
              "#7201a8"
             ],
             [
              0.3333333333333333,
              "#9c179e"
             ],
             [
              0.4444444444444444,
              "#bd3786"
             ],
             [
              0.5555555555555556,
              "#d8576b"
             ],
             [
              0.6666666666666666,
              "#ed7953"
             ],
             [
              0.7777777777777778,
              "#fb9f3a"
             ],
             [
              0.8888888888888888,
              "#fdca26"
             ],
             [
              1,
              "#f0f921"
             ]
            ],
            "type": "histogram2dcontour"
           }
          ],
          "mesh3d": [
           {
            "colorbar": {
             "outlinewidth": 0,
             "ticks": ""
            },
            "type": "mesh3d"
           }
          ],
          "parcoords": [
           {
            "line": {
             "colorbar": {
              "outlinewidth": 0,
              "ticks": ""
             }
            },
            "type": "parcoords"
           }
          ],
          "pie": [
           {
            "automargin": true,
            "type": "pie"
           }
          ],
          "scatter": [
           {
            "marker": {
             "colorbar": {
              "outlinewidth": 0,
              "ticks": ""
             }
            },
            "type": "scatter"
           }
          ],
          "scatter3d": [
           {
            "line": {
             "colorbar": {
              "outlinewidth": 0,
              "ticks": ""
             }
            },
            "marker": {
             "colorbar": {
              "outlinewidth": 0,
              "ticks": ""
             }
            },
            "type": "scatter3d"
           }
          ],
          "scattercarpet": [
           {
            "marker": {
             "colorbar": {
              "outlinewidth": 0,
              "ticks": ""
             }
            },
            "type": "scattercarpet"
           }
          ],
          "scattergeo": [
           {
            "marker": {
             "colorbar": {
              "outlinewidth": 0,
              "ticks": ""
             }
            },
            "type": "scattergeo"
           }
          ],
          "scattergl": [
           {
            "marker": {
             "colorbar": {
              "outlinewidth": 0,
              "ticks": ""
             }
            },
            "type": "scattergl"
           }
          ],
          "scattermapbox": [
           {
            "marker": {
             "colorbar": {
              "outlinewidth": 0,
              "ticks": ""
             }
            },
            "type": "scattermapbox"
           }
          ],
          "scatterpolar": [
           {
            "marker": {
             "colorbar": {
              "outlinewidth": 0,
              "ticks": ""
             }
            },
            "type": "scatterpolar"
           }
          ],
          "scatterpolargl": [
           {
            "marker": {
             "colorbar": {
              "outlinewidth": 0,
              "ticks": ""
             }
            },
            "type": "scatterpolargl"
           }
          ],
          "scatterternary": [
           {
            "marker": {
             "colorbar": {
              "outlinewidth": 0,
              "ticks": ""
             }
            },
            "type": "scatterternary"
           }
          ],
          "surface": [
           {
            "colorbar": {
             "outlinewidth": 0,
             "ticks": ""
            },
            "colorscale": [
             [
              0,
              "#0d0887"
             ],
             [
              0.1111111111111111,
              "#46039f"
             ],
             [
              0.2222222222222222,
              "#7201a8"
             ],
             [
              0.3333333333333333,
              "#9c179e"
             ],
             [
              0.4444444444444444,
              "#bd3786"
             ],
             [
              0.5555555555555556,
              "#d8576b"
             ],
             [
              0.6666666666666666,
              "#ed7953"
             ],
             [
              0.7777777777777778,
              "#fb9f3a"
             ],
             [
              0.8888888888888888,
              "#fdca26"
             ],
             [
              1,
              "#f0f921"
             ]
            ],
            "type": "surface"
           }
          ],
          "table": [
           {
            "cells": {
             "fill": {
              "color": "#EBF0F8"
             },
             "line": {
              "color": "white"
             }
            },
            "header": {
             "fill": {
              "color": "#C8D4E3"
             },
             "line": {
              "color": "white"
             }
            },
            "type": "table"
           }
          ]
         },
         "layout": {
          "annotationdefaults": {
           "arrowcolor": "#2a3f5f",
           "arrowhead": 0,
           "arrowwidth": 1
          },
          "autotypenumbers": "strict",
          "coloraxis": {
           "colorbar": {
            "outlinewidth": 0,
            "ticks": ""
           }
          },
          "colorscale": {
           "diverging": [
            [
             0,
             "#8e0152"
            ],
            [
             0.1,
             "#c51b7d"
            ],
            [
             0.2,
             "#de77ae"
            ],
            [
             0.3,
             "#f1b6da"
            ],
            [
             0.4,
             "#fde0ef"
            ],
            [
             0.5,
             "#f7f7f7"
            ],
            [
             0.6,
             "#e6f5d0"
            ],
            [
             0.7,
             "#b8e186"
            ],
            [
             0.8,
             "#7fbc41"
            ],
            [
             0.9,
             "#4d9221"
            ],
            [
             1,
             "#276419"
            ]
           ],
           "sequential": [
            [
             0,
             "#0d0887"
            ],
            [
             0.1111111111111111,
             "#46039f"
            ],
            [
             0.2222222222222222,
             "#7201a8"
            ],
            [
             0.3333333333333333,
             "#9c179e"
            ],
            [
             0.4444444444444444,
             "#bd3786"
            ],
            [
             0.5555555555555556,
             "#d8576b"
            ],
            [
             0.6666666666666666,
             "#ed7953"
            ],
            [
             0.7777777777777778,
             "#fb9f3a"
            ],
            [
             0.8888888888888888,
             "#fdca26"
            ],
            [
             1,
             "#f0f921"
            ]
           ],
           "sequentialminus": [
            [
             0,
             "#0d0887"
            ],
            [
             0.1111111111111111,
             "#46039f"
            ],
            [
             0.2222222222222222,
             "#7201a8"
            ],
            [
             0.3333333333333333,
             "#9c179e"
            ],
            [
             0.4444444444444444,
             "#bd3786"
            ],
            [
             0.5555555555555556,
             "#d8576b"
            ],
            [
             0.6666666666666666,
             "#ed7953"
            ],
            [
             0.7777777777777778,
             "#fb9f3a"
            ],
            [
             0.8888888888888888,
             "#fdca26"
            ],
            [
             1,
             "#f0f921"
            ]
           ]
          },
          "colorway": [
           "#636efa",
           "#EF553B",
           "#00cc96",
           "#ab63fa",
           "#FFA15A",
           "#19d3f3",
           "#FF6692",
           "#B6E880",
           "#FF97FF",
           "#FECB52"
          ],
          "font": {
           "color": "#2a3f5f"
          },
          "geo": {
           "bgcolor": "white",
           "lakecolor": "white",
           "landcolor": "#E5ECF6",
           "showlakes": true,
           "showland": true,
           "subunitcolor": "white"
          },
          "hoverlabel": {
           "align": "left"
          },
          "hovermode": "closest",
          "mapbox": {
           "style": "light"
          },
          "paper_bgcolor": "white",
          "plot_bgcolor": "#E5ECF6",
          "polar": {
           "angularaxis": {
            "gridcolor": "white",
            "linecolor": "white",
            "ticks": ""
           },
           "bgcolor": "#E5ECF6",
           "radialaxis": {
            "gridcolor": "white",
            "linecolor": "white",
            "ticks": ""
           }
          },
          "scene": {
           "xaxis": {
            "backgroundcolor": "#E5ECF6",
            "gridcolor": "white",
            "gridwidth": 2,
            "linecolor": "white",
            "showbackground": true,
            "ticks": "",
            "zerolinecolor": "white"
           },
           "yaxis": {
            "backgroundcolor": "#E5ECF6",
            "gridcolor": "white",
            "gridwidth": 2,
            "linecolor": "white",
            "showbackground": true,
            "ticks": "",
            "zerolinecolor": "white"
           },
           "zaxis": {
            "backgroundcolor": "#E5ECF6",
            "gridcolor": "white",
            "gridwidth": 2,
            "linecolor": "white",
            "showbackground": true,
            "ticks": "",
            "zerolinecolor": "white"
           }
          },
          "shapedefaults": {
           "line": {
            "color": "#2a3f5f"
           }
          },
          "ternary": {
           "aaxis": {
            "gridcolor": "white",
            "linecolor": "white",
            "ticks": ""
           },
           "baxis": {
            "gridcolor": "white",
            "linecolor": "white",
            "ticks": ""
           },
           "bgcolor": "#E5ECF6",
           "caxis": {
            "gridcolor": "white",
            "linecolor": "white",
            "ticks": ""
           }
          },
          "title": {
           "x": 0.05
          },
          "xaxis": {
           "automargin": true,
           "gridcolor": "white",
           "linecolor": "white",
           "ticks": "",
           "title": {
            "standoff": 15
           },
           "zerolinecolor": "white",
           "zerolinewidth": 2
          },
          "yaxis": {
           "automargin": true,
           "gridcolor": "white",
           "linecolor": "white",
           "ticks": "",
           "title": {
            "standoff": 15
           },
           "zerolinecolor": "white",
           "zerolinewidth": 2
          }
         }
        },
        "title": {
         "font": {
          "color": "#4D5663"
         }
        },
        "xaxis": {
         "gridcolor": "#E1E5ED",
         "showgrid": true,
         "tickfont": {
          "color": "#4D5663"
         },
         "title": {
          "font": {
           "color": "#4D5663"
          },
          "text": ""
         },
         "zerolinecolor": "#E1E5ED"
        },
        "yaxis": {
         "gridcolor": "#E1E5ED",
         "showgrid": true,
         "tickfont": {
          "color": "#4D5663"
         },
         "title": {
          "font": {
           "color": "#4D5663"
          },
          "text": ""
         },
         "zerolinecolor": "#E1E5ED"
        }
       }
      },
      "text/html": [
       "<div>                            <div id=\"75efcca1-00fb-4eaf-acd1-fdf3c4c54e3b\" class=\"plotly-graph-div\" style=\"height:525px; width:100%;\"></div>            <script type=\"text/javascript\">                require([\"plotly\"], function(Plotly) {                    window.PLOTLYENV=window.PLOTLYENV || {};\n",
       "                    window.PLOTLYENV.BASE_URL='https://plot.ly';                                    if (document.getElementById(\"75efcca1-00fb-4eaf-acd1-fdf3c4c54e3b\")) {                    Plotly.newPlot(                        \"75efcca1-00fb-4eaf-acd1-fdf3c4c54e3b\",                        [{\"line\":{\"color\":\"rgba(255, 153, 51, 1.0)\",\"dash\":\"solid\",\"shape\":\"linear\",\"width\":1.3},\"marker\":{\"size\":7,\"symbol\":\"circle\"},\"mode\":\"markers\",\"name\":\"B\",\"text\":\"\",\"x\":[-0.5902303025205717,-2.2016090086623388,0.9688835342587759,0.4097477034647505,-0.6531516478199042,-0.44733786561834193,-0.47482840070158566,-1.0899258739801267,0.018083060890892132,0.18640424228172048,-1.740262022112669,0.07452870131805488,-0.9223778158444266,-1.9232060232149235,0.10735353125742748,-1.1850757900063225,-0.5497291302848054,0.1760346600120734,1.0109279491426288,-1.8800930869821564,0.6818689562292352,1.0013136875986148,-1.4245497173871668,-0.6206539678188364,1.7911365866515108,0.7238100420108368,-0.4204677449441723,-2.154777771126477,-0.6273457251981394,0.1821495912778787,-0.06305727171354696,-0.3905198512997907,0.2528318683594929,0.565418190409366,0.6450981928783018,-0.30807010332343876,0.30513862374559486,-1.7594021492571972,-0.8222574329062964,-0.5735086500790288,-1.3979738724160686,-1.2750186161164196,0.6082933112555565,-0.6097777886272943,0.33734371436621946,-0.5417714102437892,1.375561863788836,2.2056801688936902,0.6405306616954853,1.4161986423742619,-1.0286554899550455,-1.4954126636278111,1.7433309705860673,-0.06255855829844899,-1.3254350939260084,1.2110743664651629,-0.3065195328839513,0.728721977199927,0.7196156850537774,0.17793323956809748,-2.1543583642789113,0.6110026577153034,-0.8926214867297181,0.5131829577150304,-0.4599291034370993,0.5993921592961952,-2.5854795386451497,-1.5187255713236734,-1.5832471980763754,-0.8377799538334126,-0.8174203926960799,-1.0010558563534455,-1.529505285845513,0.4705944311419757,-0.34620452317534356,-1.7587041573689515,0.9752971676066632,1.1613831337131102,1.3446457631064839,-1.4555509876454251,0.4266333975246613,-0.4933550509657777,-1.0762683955046413,-1.1172618918660948,-0.8050366057976863,-0.8191627336334403,2.20208838639601,0.8842178450189843,2.248450908342995,1.263857174507037,0.2817469381374268,0.8268799558075348,0.571564064960558,0.19025113238293712,-0.5390699541755176,1.73433697535019,1.2863853747153662,0.05423139472195194,-1.3151122199680136,0.38122217649893086],\"y\":[-1.3670490430437636,0.161450524235461,-0.44217348630356307,0.37545077311535113,-0.26558456358514304,-0.05337396280955743,-0.16286499406938992,-0.6559063241917041,0.2166205230803355,0.579264707040054,0.6570113302304137,1.1128644665473264,1.3437370062884728,1.2253391743149586,0.07243088995730265,-0.16291549888248036,0.5221703263725861,-0.2860873155412922,0.23845897129297605,0.5383216359023025,1.0228260382992838,1.4742375561846004,-0.4971926005756821,-0.3702983491139233,1.2811992881765035,0.5235806670476302,-0.29364591922026506,2.0327478724465315,-0.8321944982609231,-0.10476735233563249,-0.26958492730061334,-0.20189994105473036,1.0847659756245622,-1.1944184798293207,-1.3230740820458162,0.6206316042828937,0.10859772366319033,-0.6156696325698916,0.3984569141979588,0.844077249699107,1.2519032595789779,0.2513651055639649,0.2130378339237908,0.6490835820095017,-0.010798931494050746,0.3941767468516104,-1.6296040595382955,1.813762930471477,2.038570665631588,0.8554014083836431,1.06694928084837,0.7266644331179781,-0.7312737819318127,1.0626543686367567,1.5125446201537545,0.15539761830497265,1.1275135376114895,0.3884913736161449,1.3342540109209156,-0.09870250239733834,0.19263865576084857,1.6508820619017714,-0.6357303957131819,-0.21065746732213148,1.5794879615866562,0.13187081043821755,-0.6910448387634717,-0.9241359886362889,-0.9788028958812267,1.6571093770062777,0.46710147448499517,-0.08167530974313282,-0.32795086978837157,-0.4864270154260517,1.4228982883721621,-1.230082525704563,-1.8388925715141657,0.007416738671856635,-0.8495852847344079,-0.32060058648100864,-0.10872605769317288,0.17620829861536996,2.817567551757438,1.287542016854579,-0.678669908194487,0.4110746516491658,-1.3175798955777698,-0.9259953438941361,0.6365254724876831,0.1645909140545531,1.275561684738259,-0.5512964249982745,0.6776207058555057,-1.0088839072755986,1.2546202290644812,-0.4988731232616055,1.0171125628881423,-0.6730874492229427,2.515399088329593,0.04827347094723881],\"type\":\"scatter\"}],                        {\"legend\":{\"bgcolor\":\"#F5F6F9\",\"font\":{\"color\":\"#4D5663\"}},\"paper_bgcolor\":\"#F5F6F9\",\"plot_bgcolor\":\"#F5F6F9\",\"template\":{\"data\":{\"barpolar\":[{\"marker\":{\"line\":{\"color\":\"#E5ECF6\",\"width\":0.5},\"pattern\":{\"fillmode\":\"overlay\",\"size\":10,\"solidity\":0.2}},\"type\":\"barpolar\"}],\"bar\":[{\"error_x\":{\"color\":\"#2a3f5f\"},\"error_y\":{\"color\":\"#2a3f5f\"},\"marker\":{\"line\":{\"color\":\"#E5ECF6\",\"width\":0.5},\"pattern\":{\"fillmode\":\"overlay\",\"size\":10,\"solidity\":0.2}},\"type\":\"bar\"}],\"carpet\":[{\"aaxis\":{\"endlinecolor\":\"#2a3f5f\",\"gridcolor\":\"white\",\"linecolor\":\"white\",\"minorgridcolor\":\"white\",\"startlinecolor\":\"#2a3f5f\"},\"baxis\":{\"endlinecolor\":\"#2a3f5f\",\"gridcolor\":\"white\",\"linecolor\":\"white\",\"minorgridcolor\":\"white\",\"startlinecolor\":\"#2a3f5f\"},\"type\":\"carpet\"}],\"choropleth\":[{\"colorbar\":{\"outlinewidth\":0,\"ticks\":\"\"},\"type\":\"choropleth\"}],\"contourcarpet\":[{\"colorbar\":{\"outlinewidth\":0,\"ticks\":\"\"},\"type\":\"contourcarpet\"}],\"contour\":[{\"colorbar\":{\"outlinewidth\":0,\"ticks\":\"\"},\"colorscale\":[[0.0,\"#0d0887\"],[0.1111111111111111,\"#46039f\"],[0.2222222222222222,\"#7201a8\"],[0.3333333333333333,\"#9c179e\"],[0.4444444444444444,\"#bd3786\"],[0.5555555555555556,\"#d8576b\"],[0.6666666666666666,\"#ed7953\"],[0.7777777777777778,\"#fb9f3a\"],[0.8888888888888888,\"#fdca26\"],[1.0,\"#f0f921\"]],\"type\":\"contour\"}],\"heatmapgl\":[{\"colorbar\":{\"outlinewidth\":0,\"ticks\":\"\"},\"colorscale\":[[0.0,\"#0d0887\"],[0.1111111111111111,\"#46039f\"],[0.2222222222222222,\"#7201a8\"],[0.3333333333333333,\"#9c179e\"],[0.4444444444444444,\"#bd3786\"],[0.5555555555555556,\"#d8576b\"],[0.6666666666666666,\"#ed7953\"],[0.7777777777777778,\"#fb9f3a\"],[0.8888888888888888,\"#fdca26\"],[1.0,\"#f0f921\"]],\"type\":\"heatmapgl\"}],\"heatmap\":[{\"colorbar\":{\"outlinewidth\":0,\"ticks\":\"\"},\"colorscale\":[[0.0,\"#0d0887\"],[0.1111111111111111,\"#46039f\"],[0.2222222222222222,\"#7201a8\"],[0.3333333333333333,\"#9c179e\"],[0.4444444444444444,\"#bd3786\"],[0.5555555555555556,\"#d8576b\"],[0.6666666666666666,\"#ed7953\"],[0.7777777777777778,\"#fb9f3a\"],[0.8888888888888888,\"#fdca26\"],[1.0,\"#f0f921\"]],\"type\":\"heatmap\"}],\"histogram2dcontour\":[{\"colorbar\":{\"outlinewidth\":0,\"ticks\":\"\"},\"colorscale\":[[0.0,\"#0d0887\"],[0.1111111111111111,\"#46039f\"],[0.2222222222222222,\"#7201a8\"],[0.3333333333333333,\"#9c179e\"],[0.4444444444444444,\"#bd3786\"],[0.5555555555555556,\"#d8576b\"],[0.6666666666666666,\"#ed7953\"],[0.7777777777777778,\"#fb9f3a\"],[0.8888888888888888,\"#fdca26\"],[1.0,\"#f0f921\"]],\"type\":\"histogram2dcontour\"}],\"histogram2d\":[{\"colorbar\":{\"outlinewidth\":0,\"ticks\":\"\"},\"colorscale\":[[0.0,\"#0d0887\"],[0.1111111111111111,\"#46039f\"],[0.2222222222222222,\"#7201a8\"],[0.3333333333333333,\"#9c179e\"],[0.4444444444444444,\"#bd3786\"],[0.5555555555555556,\"#d8576b\"],[0.6666666666666666,\"#ed7953\"],[0.7777777777777778,\"#fb9f3a\"],[0.8888888888888888,\"#fdca26\"],[1.0,\"#f0f921\"]],\"type\":\"histogram2d\"}],\"histogram\":[{\"marker\":{\"pattern\":{\"fillmode\":\"overlay\",\"size\":10,\"solidity\":0.2}},\"type\":\"histogram\"}],\"mesh3d\":[{\"colorbar\":{\"outlinewidth\":0,\"ticks\":\"\"},\"type\":\"mesh3d\"}],\"parcoords\":[{\"line\":{\"colorbar\":{\"outlinewidth\":0,\"ticks\":\"\"}},\"type\":\"parcoords\"}],\"pie\":[{\"automargin\":true,\"type\":\"pie\"}],\"scatter3d\":[{\"line\":{\"colorbar\":{\"outlinewidth\":0,\"ticks\":\"\"}},\"marker\":{\"colorbar\":{\"outlinewidth\":0,\"ticks\":\"\"}},\"type\":\"scatter3d\"}],\"scattercarpet\":[{\"marker\":{\"colorbar\":{\"outlinewidth\":0,\"ticks\":\"\"}},\"type\":\"scattercarpet\"}],\"scattergeo\":[{\"marker\":{\"colorbar\":{\"outlinewidth\":0,\"ticks\":\"\"}},\"type\":\"scattergeo\"}],\"scattergl\":[{\"marker\":{\"colorbar\":{\"outlinewidth\":0,\"ticks\":\"\"}},\"type\":\"scattergl\"}],\"scattermapbox\":[{\"marker\":{\"colorbar\":{\"outlinewidth\":0,\"ticks\":\"\"}},\"type\":\"scattermapbox\"}],\"scatterpolargl\":[{\"marker\":{\"colorbar\":{\"outlinewidth\":0,\"ticks\":\"\"}},\"type\":\"scatterpolargl\"}],\"scatterpolar\":[{\"marker\":{\"colorbar\":{\"outlinewidth\":0,\"ticks\":\"\"}},\"type\":\"scatterpolar\"}],\"scatter\":[{\"marker\":{\"colorbar\":{\"outlinewidth\":0,\"ticks\":\"\"}},\"type\":\"scatter\"}],\"scatterternary\":[{\"marker\":{\"colorbar\":{\"outlinewidth\":0,\"ticks\":\"\"}},\"type\":\"scatterternary\"}],\"surface\":[{\"colorbar\":{\"outlinewidth\":0,\"ticks\":\"\"},\"colorscale\":[[0.0,\"#0d0887\"],[0.1111111111111111,\"#46039f\"],[0.2222222222222222,\"#7201a8\"],[0.3333333333333333,\"#9c179e\"],[0.4444444444444444,\"#bd3786\"],[0.5555555555555556,\"#d8576b\"],[0.6666666666666666,\"#ed7953\"],[0.7777777777777778,\"#fb9f3a\"],[0.8888888888888888,\"#fdca26\"],[1.0,\"#f0f921\"]],\"type\":\"surface\"}],\"table\":[{\"cells\":{\"fill\":{\"color\":\"#EBF0F8\"},\"line\":{\"color\":\"white\"}},\"header\":{\"fill\":{\"color\":\"#C8D4E3\"},\"line\":{\"color\":\"white\"}},\"type\":\"table\"}]},\"layout\":{\"annotationdefaults\":{\"arrowcolor\":\"#2a3f5f\",\"arrowhead\":0,\"arrowwidth\":1},\"autotypenumbers\":\"strict\",\"coloraxis\":{\"colorbar\":{\"outlinewidth\":0,\"ticks\":\"\"}},\"colorscale\":{\"diverging\":[[0,\"#8e0152\"],[0.1,\"#c51b7d\"],[0.2,\"#de77ae\"],[0.3,\"#f1b6da\"],[0.4,\"#fde0ef\"],[0.5,\"#f7f7f7\"],[0.6,\"#e6f5d0\"],[0.7,\"#b8e186\"],[0.8,\"#7fbc41\"],[0.9,\"#4d9221\"],[1,\"#276419\"]],\"sequential\":[[0.0,\"#0d0887\"],[0.1111111111111111,\"#46039f\"],[0.2222222222222222,\"#7201a8\"],[0.3333333333333333,\"#9c179e\"],[0.4444444444444444,\"#bd3786\"],[0.5555555555555556,\"#d8576b\"],[0.6666666666666666,\"#ed7953\"],[0.7777777777777778,\"#fb9f3a\"],[0.8888888888888888,\"#fdca26\"],[1.0,\"#f0f921\"]],\"sequentialminus\":[[0.0,\"#0d0887\"],[0.1111111111111111,\"#46039f\"],[0.2222222222222222,\"#7201a8\"],[0.3333333333333333,\"#9c179e\"],[0.4444444444444444,\"#bd3786\"],[0.5555555555555556,\"#d8576b\"],[0.6666666666666666,\"#ed7953\"],[0.7777777777777778,\"#fb9f3a\"],[0.8888888888888888,\"#fdca26\"],[1.0,\"#f0f921\"]]},\"colorway\":[\"#636efa\",\"#EF553B\",\"#00cc96\",\"#ab63fa\",\"#FFA15A\",\"#19d3f3\",\"#FF6692\",\"#B6E880\",\"#FF97FF\",\"#FECB52\"],\"font\":{\"color\":\"#2a3f5f\"},\"geo\":{\"bgcolor\":\"white\",\"lakecolor\":\"white\",\"landcolor\":\"#E5ECF6\",\"showlakes\":true,\"showland\":true,\"subunitcolor\":\"white\"},\"hoverlabel\":{\"align\":\"left\"},\"hovermode\":\"closest\",\"mapbox\":{\"style\":\"light\"},\"paper_bgcolor\":\"white\",\"plot_bgcolor\":\"#E5ECF6\",\"polar\":{\"angularaxis\":{\"gridcolor\":\"white\",\"linecolor\":\"white\",\"ticks\":\"\"},\"bgcolor\":\"#E5ECF6\",\"radialaxis\":{\"gridcolor\":\"white\",\"linecolor\":\"white\",\"ticks\":\"\"}},\"scene\":{\"xaxis\":{\"backgroundcolor\":\"#E5ECF6\",\"gridcolor\":\"white\",\"gridwidth\":2,\"linecolor\":\"white\",\"showbackground\":true,\"ticks\":\"\",\"zerolinecolor\":\"white\"},\"yaxis\":{\"backgroundcolor\":\"#E5ECF6\",\"gridcolor\":\"white\",\"gridwidth\":2,\"linecolor\":\"white\",\"showbackground\":true,\"ticks\":\"\",\"zerolinecolor\":\"white\"},\"zaxis\":{\"backgroundcolor\":\"#E5ECF6\",\"gridcolor\":\"white\",\"gridwidth\":2,\"linecolor\":\"white\",\"showbackground\":true,\"ticks\":\"\",\"zerolinecolor\":\"white\"}},\"shapedefaults\":{\"line\":{\"color\":\"#2a3f5f\"}},\"ternary\":{\"aaxis\":{\"gridcolor\":\"white\",\"linecolor\":\"white\",\"ticks\":\"\"},\"baxis\":{\"gridcolor\":\"white\",\"linecolor\":\"white\",\"ticks\":\"\"},\"bgcolor\":\"#E5ECF6\",\"caxis\":{\"gridcolor\":\"white\",\"linecolor\":\"white\",\"ticks\":\"\"}},\"title\":{\"x\":0.05},\"xaxis\":{\"automargin\":true,\"gridcolor\":\"white\",\"linecolor\":\"white\",\"ticks\":\"\",\"title\":{\"standoff\":15},\"zerolinecolor\":\"white\",\"zerolinewidth\":2},\"yaxis\":{\"automargin\":true,\"gridcolor\":\"white\",\"linecolor\":\"white\",\"ticks\":\"\",\"title\":{\"standoff\":15},\"zerolinecolor\":\"white\",\"zerolinewidth\":2}}},\"title\":{\"font\":{\"color\":\"#4D5663\"}},\"xaxis\":{\"gridcolor\":\"#E1E5ED\",\"showgrid\":true,\"tickfont\":{\"color\":\"#4D5663\"},\"title\":{\"font\":{\"color\":\"#4D5663\"},\"text\":\"\"},\"zerolinecolor\":\"#E1E5ED\"},\"yaxis\":{\"gridcolor\":\"#E1E5ED\",\"showgrid\":true,\"tickfont\":{\"color\":\"#4D5663\"},\"title\":{\"font\":{\"color\":\"#4D5663\"},\"text\":\"\"},\"zerolinecolor\":\"#E1E5ED\"}},                        {\"showLink\": true, \"linkText\": \"Export to plot.ly\", \"plotlyServerURL\": \"https://plot.ly\", \"responsive\": true}                    ).then(function(){\n",
       "                            \n",
       "var gd = document.getElementById('75efcca1-00fb-4eaf-acd1-fdf3c4c54e3b');\n",
       "var x = new MutationObserver(function (mutations, observer) {{\n",
       "        var display = window.getComputedStyle(gd).display;\n",
       "        if (!display || display === 'none') {{\n",
       "            console.log([gd, 'removed!']);\n",
       "            Plotly.purge(gd);\n",
       "            observer.disconnect();\n",
       "        }}\n",
       "}});\n",
       "\n",
       "// Listen for the removal of the full notebook cells\n",
       "var notebookContainer = gd.closest('#notebook-container');\n",
       "if (notebookContainer) {{\n",
       "    x.observe(notebookContainer, {childList: true});\n",
       "}}\n",
       "\n",
       "// Listen for the clearing of the current output cell\n",
       "var outputEl = gd.closest('.output');\n",
       "if (outputEl) {{\n",
       "    x.observe(outputEl, {childList: true});\n",
       "}}\n",
       "\n",
       "                        })                };                });            </script>        </div>"
      ]
     },
     "metadata": {},
     "output_type": "display_data"
    }
   ],
   "source": [
    "df.iplot(kind='scatter', x='A', y='B', mode='markers', size=7)"
   ]
  },
  {
   "cell_type": "code",
   "execution_count": 13,
   "metadata": {},
   "outputs": [
    {
     "data": {
      "application/vnd.plotly.v1+json": {
       "config": {
        "linkText": "Export to plot.ly",
        "plotlyServerURL": "https://plot.ly",
        "showLink": true
       },
       "data": [
        {
         "marker": {
          "color": "rgba(255, 153, 51, 0.6)",
          "line": {
           "color": "rgba(255, 153, 51, 1.0)",
           "width": 1
          }
         },
         "name": "Values",
         "orientation": "v",
         "text": "",
         "type": "bar",
         "x": [
          "A",
          "B",
          "C"
         ],
         "y": [
          32,
          43,
          50
         ]
        }
       ],
       "layout": {
        "legend": {
         "bgcolor": "#F5F6F9",
         "font": {
          "color": "#4D5663"
         }
        },
        "paper_bgcolor": "#F5F6F9",
        "plot_bgcolor": "#F5F6F9",
        "template": {
         "data": {
          "bar": [
           {
            "error_x": {
             "color": "#2a3f5f"
            },
            "error_y": {
             "color": "#2a3f5f"
            },
            "marker": {
             "line": {
              "color": "#E5ECF6",
              "width": 0.5
             },
             "pattern": {
              "fillmode": "overlay",
              "size": 10,
              "solidity": 0.2
             }
            },
            "type": "bar"
           }
          ],
          "barpolar": [
           {
            "marker": {
             "line": {
              "color": "#E5ECF6",
              "width": 0.5
             },
             "pattern": {
              "fillmode": "overlay",
              "size": 10,
              "solidity": 0.2
             }
            },
            "type": "barpolar"
           }
          ],
          "carpet": [
           {
            "aaxis": {
             "endlinecolor": "#2a3f5f",
             "gridcolor": "white",
             "linecolor": "white",
             "minorgridcolor": "white",
             "startlinecolor": "#2a3f5f"
            },
            "baxis": {
             "endlinecolor": "#2a3f5f",
             "gridcolor": "white",
             "linecolor": "white",
             "minorgridcolor": "white",
             "startlinecolor": "#2a3f5f"
            },
            "type": "carpet"
           }
          ],
          "choropleth": [
           {
            "colorbar": {
             "outlinewidth": 0,
             "ticks": ""
            },
            "type": "choropleth"
           }
          ],
          "contour": [
           {
            "colorbar": {
             "outlinewidth": 0,
             "ticks": ""
            },
            "colorscale": [
             [
              0,
              "#0d0887"
             ],
             [
              0.1111111111111111,
              "#46039f"
             ],
             [
              0.2222222222222222,
              "#7201a8"
             ],
             [
              0.3333333333333333,
              "#9c179e"
             ],
             [
              0.4444444444444444,
              "#bd3786"
             ],
             [
              0.5555555555555556,
              "#d8576b"
             ],
             [
              0.6666666666666666,
              "#ed7953"
             ],
             [
              0.7777777777777778,
              "#fb9f3a"
             ],
             [
              0.8888888888888888,
              "#fdca26"
             ],
             [
              1,
              "#f0f921"
             ]
            ],
            "type": "contour"
           }
          ],
          "contourcarpet": [
           {
            "colorbar": {
             "outlinewidth": 0,
             "ticks": ""
            },
            "type": "contourcarpet"
           }
          ],
          "heatmap": [
           {
            "colorbar": {
             "outlinewidth": 0,
             "ticks": ""
            },
            "colorscale": [
             [
              0,
              "#0d0887"
             ],
             [
              0.1111111111111111,
              "#46039f"
             ],
             [
              0.2222222222222222,
              "#7201a8"
             ],
             [
              0.3333333333333333,
              "#9c179e"
             ],
             [
              0.4444444444444444,
              "#bd3786"
             ],
             [
              0.5555555555555556,
              "#d8576b"
             ],
             [
              0.6666666666666666,
              "#ed7953"
             ],
             [
              0.7777777777777778,
              "#fb9f3a"
             ],
             [
              0.8888888888888888,
              "#fdca26"
             ],
             [
              1,
              "#f0f921"
             ]
            ],
            "type": "heatmap"
           }
          ],
          "heatmapgl": [
           {
            "colorbar": {
             "outlinewidth": 0,
             "ticks": ""
            },
            "colorscale": [
             [
              0,
              "#0d0887"
             ],
             [
              0.1111111111111111,
              "#46039f"
             ],
             [
              0.2222222222222222,
              "#7201a8"
             ],
             [
              0.3333333333333333,
              "#9c179e"
             ],
             [
              0.4444444444444444,
              "#bd3786"
             ],
             [
              0.5555555555555556,
              "#d8576b"
             ],
             [
              0.6666666666666666,
              "#ed7953"
             ],
             [
              0.7777777777777778,
              "#fb9f3a"
             ],
             [
              0.8888888888888888,
              "#fdca26"
             ],
             [
              1,
              "#f0f921"
             ]
            ],
            "type": "heatmapgl"
           }
          ],
          "histogram": [
           {
            "marker": {
             "pattern": {
              "fillmode": "overlay",
              "size": 10,
              "solidity": 0.2
             }
            },
            "type": "histogram"
           }
          ],
          "histogram2d": [
           {
            "colorbar": {
             "outlinewidth": 0,
             "ticks": ""
            },
            "colorscale": [
             [
              0,
              "#0d0887"
             ],
             [
              0.1111111111111111,
              "#46039f"
             ],
             [
              0.2222222222222222,
              "#7201a8"
             ],
             [
              0.3333333333333333,
              "#9c179e"
             ],
             [
              0.4444444444444444,
              "#bd3786"
             ],
             [
              0.5555555555555556,
              "#d8576b"
             ],
             [
              0.6666666666666666,
              "#ed7953"
             ],
             [
              0.7777777777777778,
              "#fb9f3a"
             ],
             [
              0.8888888888888888,
              "#fdca26"
             ],
             [
              1,
              "#f0f921"
             ]
            ],
            "type": "histogram2d"
           }
          ],
          "histogram2dcontour": [
           {
            "colorbar": {
             "outlinewidth": 0,
             "ticks": ""
            },
            "colorscale": [
             [
              0,
              "#0d0887"
             ],
             [
              0.1111111111111111,
              "#46039f"
             ],
             [
              0.2222222222222222,
              "#7201a8"
             ],
             [
              0.3333333333333333,
              "#9c179e"
             ],
             [
              0.4444444444444444,
              "#bd3786"
             ],
             [
              0.5555555555555556,
              "#d8576b"
             ],
             [
              0.6666666666666666,
              "#ed7953"
             ],
             [
              0.7777777777777778,
              "#fb9f3a"
             ],
             [
              0.8888888888888888,
              "#fdca26"
             ],
             [
              1,
              "#f0f921"
             ]
            ],
            "type": "histogram2dcontour"
           }
          ],
          "mesh3d": [
           {
            "colorbar": {
             "outlinewidth": 0,
             "ticks": ""
            },
            "type": "mesh3d"
           }
          ],
          "parcoords": [
           {
            "line": {
             "colorbar": {
              "outlinewidth": 0,
              "ticks": ""
             }
            },
            "type": "parcoords"
           }
          ],
          "pie": [
           {
            "automargin": true,
            "type": "pie"
           }
          ],
          "scatter": [
           {
            "marker": {
             "colorbar": {
              "outlinewidth": 0,
              "ticks": ""
             }
            },
            "type": "scatter"
           }
          ],
          "scatter3d": [
           {
            "line": {
             "colorbar": {
              "outlinewidth": 0,
              "ticks": ""
             }
            },
            "marker": {
             "colorbar": {
              "outlinewidth": 0,
              "ticks": ""
             }
            },
            "type": "scatter3d"
           }
          ],
          "scattercarpet": [
           {
            "marker": {
             "colorbar": {
              "outlinewidth": 0,
              "ticks": ""
             }
            },
            "type": "scattercarpet"
           }
          ],
          "scattergeo": [
           {
            "marker": {
             "colorbar": {
              "outlinewidth": 0,
              "ticks": ""
             }
            },
            "type": "scattergeo"
           }
          ],
          "scattergl": [
           {
            "marker": {
             "colorbar": {
              "outlinewidth": 0,
              "ticks": ""
             }
            },
            "type": "scattergl"
           }
          ],
          "scattermapbox": [
           {
            "marker": {
             "colorbar": {
              "outlinewidth": 0,
              "ticks": ""
             }
            },
            "type": "scattermapbox"
           }
          ],
          "scatterpolar": [
           {
            "marker": {
             "colorbar": {
              "outlinewidth": 0,
              "ticks": ""
             }
            },
            "type": "scatterpolar"
           }
          ],
          "scatterpolargl": [
           {
            "marker": {
             "colorbar": {
              "outlinewidth": 0,
              "ticks": ""
             }
            },
            "type": "scatterpolargl"
           }
          ],
          "scatterternary": [
           {
            "marker": {
             "colorbar": {
              "outlinewidth": 0,
              "ticks": ""
             }
            },
            "type": "scatterternary"
           }
          ],
          "surface": [
           {
            "colorbar": {
             "outlinewidth": 0,
             "ticks": ""
            },
            "colorscale": [
             [
              0,
              "#0d0887"
             ],
             [
              0.1111111111111111,
              "#46039f"
             ],
             [
              0.2222222222222222,
              "#7201a8"
             ],
             [
              0.3333333333333333,
              "#9c179e"
             ],
             [
              0.4444444444444444,
              "#bd3786"
             ],
             [
              0.5555555555555556,
              "#d8576b"
             ],
             [
              0.6666666666666666,
              "#ed7953"
             ],
             [
              0.7777777777777778,
              "#fb9f3a"
             ],
             [
              0.8888888888888888,
              "#fdca26"
             ],
             [
              1,
              "#f0f921"
             ]
            ],
            "type": "surface"
           }
          ],
          "table": [
           {
            "cells": {
             "fill": {
              "color": "#EBF0F8"
             },
             "line": {
              "color": "white"
             }
            },
            "header": {
             "fill": {
              "color": "#C8D4E3"
             },
             "line": {
              "color": "white"
             }
            },
            "type": "table"
           }
          ]
         },
         "layout": {
          "annotationdefaults": {
           "arrowcolor": "#2a3f5f",
           "arrowhead": 0,
           "arrowwidth": 1
          },
          "autotypenumbers": "strict",
          "coloraxis": {
           "colorbar": {
            "outlinewidth": 0,
            "ticks": ""
           }
          },
          "colorscale": {
           "diverging": [
            [
             0,
             "#8e0152"
            ],
            [
             0.1,
             "#c51b7d"
            ],
            [
             0.2,
             "#de77ae"
            ],
            [
             0.3,
             "#f1b6da"
            ],
            [
             0.4,
             "#fde0ef"
            ],
            [
             0.5,
             "#f7f7f7"
            ],
            [
             0.6,
             "#e6f5d0"
            ],
            [
             0.7,
             "#b8e186"
            ],
            [
             0.8,
             "#7fbc41"
            ],
            [
             0.9,
             "#4d9221"
            ],
            [
             1,
             "#276419"
            ]
           ],
           "sequential": [
            [
             0,
             "#0d0887"
            ],
            [
             0.1111111111111111,
             "#46039f"
            ],
            [
             0.2222222222222222,
             "#7201a8"
            ],
            [
             0.3333333333333333,
             "#9c179e"
            ],
            [
             0.4444444444444444,
             "#bd3786"
            ],
            [
             0.5555555555555556,
             "#d8576b"
            ],
            [
             0.6666666666666666,
             "#ed7953"
            ],
            [
             0.7777777777777778,
             "#fb9f3a"
            ],
            [
             0.8888888888888888,
             "#fdca26"
            ],
            [
             1,
             "#f0f921"
            ]
           ],
           "sequentialminus": [
            [
             0,
             "#0d0887"
            ],
            [
             0.1111111111111111,
             "#46039f"
            ],
            [
             0.2222222222222222,
             "#7201a8"
            ],
            [
             0.3333333333333333,
             "#9c179e"
            ],
            [
             0.4444444444444444,
             "#bd3786"
            ],
            [
             0.5555555555555556,
             "#d8576b"
            ],
            [
             0.6666666666666666,
             "#ed7953"
            ],
            [
             0.7777777777777778,
             "#fb9f3a"
            ],
            [
             0.8888888888888888,
             "#fdca26"
            ],
            [
             1,
             "#f0f921"
            ]
           ]
          },
          "colorway": [
           "#636efa",
           "#EF553B",
           "#00cc96",
           "#ab63fa",
           "#FFA15A",
           "#19d3f3",
           "#FF6692",
           "#B6E880",
           "#FF97FF",
           "#FECB52"
          ],
          "font": {
           "color": "#2a3f5f"
          },
          "geo": {
           "bgcolor": "white",
           "lakecolor": "white",
           "landcolor": "#E5ECF6",
           "showlakes": true,
           "showland": true,
           "subunitcolor": "white"
          },
          "hoverlabel": {
           "align": "left"
          },
          "hovermode": "closest",
          "mapbox": {
           "style": "light"
          },
          "paper_bgcolor": "white",
          "plot_bgcolor": "#E5ECF6",
          "polar": {
           "angularaxis": {
            "gridcolor": "white",
            "linecolor": "white",
            "ticks": ""
           },
           "bgcolor": "#E5ECF6",
           "radialaxis": {
            "gridcolor": "white",
            "linecolor": "white",
            "ticks": ""
           }
          },
          "scene": {
           "xaxis": {
            "backgroundcolor": "#E5ECF6",
            "gridcolor": "white",
            "gridwidth": 2,
            "linecolor": "white",
            "showbackground": true,
            "ticks": "",
            "zerolinecolor": "white"
           },
           "yaxis": {
            "backgroundcolor": "#E5ECF6",
            "gridcolor": "white",
            "gridwidth": 2,
            "linecolor": "white",
            "showbackground": true,
            "ticks": "",
            "zerolinecolor": "white"
           },
           "zaxis": {
            "backgroundcolor": "#E5ECF6",
            "gridcolor": "white",
            "gridwidth": 2,
            "linecolor": "white",
            "showbackground": true,
            "ticks": "",
            "zerolinecolor": "white"
           }
          },
          "shapedefaults": {
           "line": {
            "color": "#2a3f5f"
           }
          },
          "ternary": {
           "aaxis": {
            "gridcolor": "white",
            "linecolor": "white",
            "ticks": ""
           },
           "baxis": {
            "gridcolor": "white",
            "linecolor": "white",
            "ticks": ""
           },
           "bgcolor": "#E5ECF6",
           "caxis": {
            "gridcolor": "white",
            "linecolor": "white",
            "ticks": ""
           }
          },
          "title": {
           "x": 0.05
          },
          "xaxis": {
           "automargin": true,
           "gridcolor": "white",
           "linecolor": "white",
           "ticks": "",
           "title": {
            "standoff": 15
           },
           "zerolinecolor": "white",
           "zerolinewidth": 2
          },
          "yaxis": {
           "automargin": true,
           "gridcolor": "white",
           "linecolor": "white",
           "ticks": "",
           "title": {
            "standoff": 15
           },
           "zerolinecolor": "white",
           "zerolinewidth": 2
          }
         }
        },
        "title": {
         "font": {
          "color": "#4D5663"
         }
        },
        "xaxis": {
         "gridcolor": "#E1E5ED",
         "showgrid": true,
         "tickfont": {
          "color": "#4D5663"
         },
         "title": {
          "font": {
           "color": "#4D5663"
          },
          "text": ""
         },
         "zerolinecolor": "#E1E5ED"
        },
        "yaxis": {
         "gridcolor": "#E1E5ED",
         "showgrid": true,
         "tickfont": {
          "color": "#4D5663"
         },
         "title": {
          "font": {
           "color": "#4D5663"
          },
          "text": ""
         },
         "zerolinecolor": "#E1E5ED"
        }
       }
      },
      "text/html": [
       "<div>                            <div id=\"838f8a1a-50bd-4f6f-808e-1c57ab54e5c8\" class=\"plotly-graph-div\" style=\"height:525px; width:100%;\"></div>            <script type=\"text/javascript\">                require([\"plotly\"], function(Plotly) {                    window.PLOTLYENV=window.PLOTLYENV || {};\n",
       "                    window.PLOTLYENV.BASE_URL='https://plot.ly';                                    if (document.getElementById(\"838f8a1a-50bd-4f6f-808e-1c57ab54e5c8\")) {                    Plotly.newPlot(                        \"838f8a1a-50bd-4f6f-808e-1c57ab54e5c8\",                        [{\"marker\":{\"color\":\"rgba(255, 153, 51, 0.6)\",\"line\":{\"color\":\"rgba(255, 153, 51, 1.0)\",\"width\":1}},\"name\":\"Values\",\"orientation\":\"v\",\"text\":\"\",\"x\":[\"A\",\"B\",\"C\"],\"y\":[32,43,50],\"type\":\"bar\"}],                        {\"legend\":{\"bgcolor\":\"#F5F6F9\",\"font\":{\"color\":\"#4D5663\"}},\"paper_bgcolor\":\"#F5F6F9\",\"plot_bgcolor\":\"#F5F6F9\",\"template\":{\"data\":{\"barpolar\":[{\"marker\":{\"line\":{\"color\":\"#E5ECF6\",\"width\":0.5},\"pattern\":{\"fillmode\":\"overlay\",\"size\":10,\"solidity\":0.2}},\"type\":\"barpolar\"}],\"bar\":[{\"error_x\":{\"color\":\"#2a3f5f\"},\"error_y\":{\"color\":\"#2a3f5f\"},\"marker\":{\"line\":{\"color\":\"#E5ECF6\",\"width\":0.5},\"pattern\":{\"fillmode\":\"overlay\",\"size\":10,\"solidity\":0.2}},\"type\":\"bar\"}],\"carpet\":[{\"aaxis\":{\"endlinecolor\":\"#2a3f5f\",\"gridcolor\":\"white\",\"linecolor\":\"white\",\"minorgridcolor\":\"white\",\"startlinecolor\":\"#2a3f5f\"},\"baxis\":{\"endlinecolor\":\"#2a3f5f\",\"gridcolor\":\"white\",\"linecolor\":\"white\",\"minorgridcolor\":\"white\",\"startlinecolor\":\"#2a3f5f\"},\"type\":\"carpet\"}],\"choropleth\":[{\"colorbar\":{\"outlinewidth\":0,\"ticks\":\"\"},\"type\":\"choropleth\"}],\"contourcarpet\":[{\"colorbar\":{\"outlinewidth\":0,\"ticks\":\"\"},\"type\":\"contourcarpet\"}],\"contour\":[{\"colorbar\":{\"outlinewidth\":0,\"ticks\":\"\"},\"colorscale\":[[0.0,\"#0d0887\"],[0.1111111111111111,\"#46039f\"],[0.2222222222222222,\"#7201a8\"],[0.3333333333333333,\"#9c179e\"],[0.4444444444444444,\"#bd3786\"],[0.5555555555555556,\"#d8576b\"],[0.6666666666666666,\"#ed7953\"],[0.7777777777777778,\"#fb9f3a\"],[0.8888888888888888,\"#fdca26\"],[1.0,\"#f0f921\"]],\"type\":\"contour\"}],\"heatmapgl\":[{\"colorbar\":{\"outlinewidth\":0,\"ticks\":\"\"},\"colorscale\":[[0.0,\"#0d0887\"],[0.1111111111111111,\"#46039f\"],[0.2222222222222222,\"#7201a8\"],[0.3333333333333333,\"#9c179e\"],[0.4444444444444444,\"#bd3786\"],[0.5555555555555556,\"#d8576b\"],[0.6666666666666666,\"#ed7953\"],[0.7777777777777778,\"#fb9f3a\"],[0.8888888888888888,\"#fdca26\"],[1.0,\"#f0f921\"]],\"type\":\"heatmapgl\"}],\"heatmap\":[{\"colorbar\":{\"outlinewidth\":0,\"ticks\":\"\"},\"colorscale\":[[0.0,\"#0d0887\"],[0.1111111111111111,\"#46039f\"],[0.2222222222222222,\"#7201a8\"],[0.3333333333333333,\"#9c179e\"],[0.4444444444444444,\"#bd3786\"],[0.5555555555555556,\"#d8576b\"],[0.6666666666666666,\"#ed7953\"],[0.7777777777777778,\"#fb9f3a\"],[0.8888888888888888,\"#fdca26\"],[1.0,\"#f0f921\"]],\"type\":\"heatmap\"}],\"histogram2dcontour\":[{\"colorbar\":{\"outlinewidth\":0,\"ticks\":\"\"},\"colorscale\":[[0.0,\"#0d0887\"],[0.1111111111111111,\"#46039f\"],[0.2222222222222222,\"#7201a8\"],[0.3333333333333333,\"#9c179e\"],[0.4444444444444444,\"#bd3786\"],[0.5555555555555556,\"#d8576b\"],[0.6666666666666666,\"#ed7953\"],[0.7777777777777778,\"#fb9f3a\"],[0.8888888888888888,\"#fdca26\"],[1.0,\"#f0f921\"]],\"type\":\"histogram2dcontour\"}],\"histogram2d\":[{\"colorbar\":{\"outlinewidth\":0,\"ticks\":\"\"},\"colorscale\":[[0.0,\"#0d0887\"],[0.1111111111111111,\"#46039f\"],[0.2222222222222222,\"#7201a8\"],[0.3333333333333333,\"#9c179e\"],[0.4444444444444444,\"#bd3786\"],[0.5555555555555556,\"#d8576b\"],[0.6666666666666666,\"#ed7953\"],[0.7777777777777778,\"#fb9f3a\"],[0.8888888888888888,\"#fdca26\"],[1.0,\"#f0f921\"]],\"type\":\"histogram2d\"}],\"histogram\":[{\"marker\":{\"pattern\":{\"fillmode\":\"overlay\",\"size\":10,\"solidity\":0.2}},\"type\":\"histogram\"}],\"mesh3d\":[{\"colorbar\":{\"outlinewidth\":0,\"ticks\":\"\"},\"type\":\"mesh3d\"}],\"parcoords\":[{\"line\":{\"colorbar\":{\"outlinewidth\":0,\"ticks\":\"\"}},\"type\":\"parcoords\"}],\"pie\":[{\"automargin\":true,\"type\":\"pie\"}],\"scatter3d\":[{\"line\":{\"colorbar\":{\"outlinewidth\":0,\"ticks\":\"\"}},\"marker\":{\"colorbar\":{\"outlinewidth\":0,\"ticks\":\"\"}},\"type\":\"scatter3d\"}],\"scattercarpet\":[{\"marker\":{\"colorbar\":{\"outlinewidth\":0,\"ticks\":\"\"}},\"type\":\"scattercarpet\"}],\"scattergeo\":[{\"marker\":{\"colorbar\":{\"outlinewidth\":0,\"ticks\":\"\"}},\"type\":\"scattergeo\"}],\"scattergl\":[{\"marker\":{\"colorbar\":{\"outlinewidth\":0,\"ticks\":\"\"}},\"type\":\"scattergl\"}],\"scattermapbox\":[{\"marker\":{\"colorbar\":{\"outlinewidth\":0,\"ticks\":\"\"}},\"type\":\"scattermapbox\"}],\"scatterpolargl\":[{\"marker\":{\"colorbar\":{\"outlinewidth\":0,\"ticks\":\"\"}},\"type\":\"scatterpolargl\"}],\"scatterpolar\":[{\"marker\":{\"colorbar\":{\"outlinewidth\":0,\"ticks\":\"\"}},\"type\":\"scatterpolar\"}],\"scatter\":[{\"marker\":{\"colorbar\":{\"outlinewidth\":0,\"ticks\":\"\"}},\"type\":\"scatter\"}],\"scatterternary\":[{\"marker\":{\"colorbar\":{\"outlinewidth\":0,\"ticks\":\"\"}},\"type\":\"scatterternary\"}],\"surface\":[{\"colorbar\":{\"outlinewidth\":0,\"ticks\":\"\"},\"colorscale\":[[0.0,\"#0d0887\"],[0.1111111111111111,\"#46039f\"],[0.2222222222222222,\"#7201a8\"],[0.3333333333333333,\"#9c179e\"],[0.4444444444444444,\"#bd3786\"],[0.5555555555555556,\"#d8576b\"],[0.6666666666666666,\"#ed7953\"],[0.7777777777777778,\"#fb9f3a\"],[0.8888888888888888,\"#fdca26\"],[1.0,\"#f0f921\"]],\"type\":\"surface\"}],\"table\":[{\"cells\":{\"fill\":{\"color\":\"#EBF0F8\"},\"line\":{\"color\":\"white\"}},\"header\":{\"fill\":{\"color\":\"#C8D4E3\"},\"line\":{\"color\":\"white\"}},\"type\":\"table\"}]},\"layout\":{\"annotationdefaults\":{\"arrowcolor\":\"#2a3f5f\",\"arrowhead\":0,\"arrowwidth\":1},\"autotypenumbers\":\"strict\",\"coloraxis\":{\"colorbar\":{\"outlinewidth\":0,\"ticks\":\"\"}},\"colorscale\":{\"diverging\":[[0,\"#8e0152\"],[0.1,\"#c51b7d\"],[0.2,\"#de77ae\"],[0.3,\"#f1b6da\"],[0.4,\"#fde0ef\"],[0.5,\"#f7f7f7\"],[0.6,\"#e6f5d0\"],[0.7,\"#b8e186\"],[0.8,\"#7fbc41\"],[0.9,\"#4d9221\"],[1,\"#276419\"]],\"sequential\":[[0.0,\"#0d0887\"],[0.1111111111111111,\"#46039f\"],[0.2222222222222222,\"#7201a8\"],[0.3333333333333333,\"#9c179e\"],[0.4444444444444444,\"#bd3786\"],[0.5555555555555556,\"#d8576b\"],[0.6666666666666666,\"#ed7953\"],[0.7777777777777778,\"#fb9f3a\"],[0.8888888888888888,\"#fdca26\"],[1.0,\"#f0f921\"]],\"sequentialminus\":[[0.0,\"#0d0887\"],[0.1111111111111111,\"#46039f\"],[0.2222222222222222,\"#7201a8\"],[0.3333333333333333,\"#9c179e\"],[0.4444444444444444,\"#bd3786\"],[0.5555555555555556,\"#d8576b\"],[0.6666666666666666,\"#ed7953\"],[0.7777777777777778,\"#fb9f3a\"],[0.8888888888888888,\"#fdca26\"],[1.0,\"#f0f921\"]]},\"colorway\":[\"#636efa\",\"#EF553B\",\"#00cc96\",\"#ab63fa\",\"#FFA15A\",\"#19d3f3\",\"#FF6692\",\"#B6E880\",\"#FF97FF\",\"#FECB52\"],\"font\":{\"color\":\"#2a3f5f\"},\"geo\":{\"bgcolor\":\"white\",\"lakecolor\":\"white\",\"landcolor\":\"#E5ECF6\",\"showlakes\":true,\"showland\":true,\"subunitcolor\":\"white\"},\"hoverlabel\":{\"align\":\"left\"},\"hovermode\":\"closest\",\"mapbox\":{\"style\":\"light\"},\"paper_bgcolor\":\"white\",\"plot_bgcolor\":\"#E5ECF6\",\"polar\":{\"angularaxis\":{\"gridcolor\":\"white\",\"linecolor\":\"white\",\"ticks\":\"\"},\"bgcolor\":\"#E5ECF6\",\"radialaxis\":{\"gridcolor\":\"white\",\"linecolor\":\"white\",\"ticks\":\"\"}},\"scene\":{\"xaxis\":{\"backgroundcolor\":\"#E5ECF6\",\"gridcolor\":\"white\",\"gridwidth\":2,\"linecolor\":\"white\",\"showbackground\":true,\"ticks\":\"\",\"zerolinecolor\":\"white\"},\"yaxis\":{\"backgroundcolor\":\"#E5ECF6\",\"gridcolor\":\"white\",\"gridwidth\":2,\"linecolor\":\"white\",\"showbackground\":true,\"ticks\":\"\",\"zerolinecolor\":\"white\"},\"zaxis\":{\"backgroundcolor\":\"#E5ECF6\",\"gridcolor\":\"white\",\"gridwidth\":2,\"linecolor\":\"white\",\"showbackground\":true,\"ticks\":\"\",\"zerolinecolor\":\"white\"}},\"shapedefaults\":{\"line\":{\"color\":\"#2a3f5f\"}},\"ternary\":{\"aaxis\":{\"gridcolor\":\"white\",\"linecolor\":\"white\",\"ticks\":\"\"},\"baxis\":{\"gridcolor\":\"white\",\"linecolor\":\"white\",\"ticks\":\"\"},\"bgcolor\":\"#E5ECF6\",\"caxis\":{\"gridcolor\":\"white\",\"linecolor\":\"white\",\"ticks\":\"\"}},\"title\":{\"x\":0.05},\"xaxis\":{\"automargin\":true,\"gridcolor\":\"white\",\"linecolor\":\"white\",\"ticks\":\"\",\"title\":{\"standoff\":15},\"zerolinecolor\":\"white\",\"zerolinewidth\":2},\"yaxis\":{\"automargin\":true,\"gridcolor\":\"white\",\"linecolor\":\"white\",\"ticks\":\"\",\"title\":{\"standoff\":15},\"zerolinecolor\":\"white\",\"zerolinewidth\":2}}},\"title\":{\"font\":{\"color\":\"#4D5663\"}},\"xaxis\":{\"gridcolor\":\"#E1E5ED\",\"showgrid\":true,\"tickfont\":{\"color\":\"#4D5663\"},\"title\":{\"font\":{\"color\":\"#4D5663\"},\"text\":\"\"},\"zerolinecolor\":\"#E1E5ED\"},\"yaxis\":{\"gridcolor\":\"#E1E5ED\",\"showgrid\":true,\"tickfont\":{\"color\":\"#4D5663\"},\"title\":{\"font\":{\"color\":\"#4D5663\"},\"text\":\"\"},\"zerolinecolor\":\"#E1E5ED\"}},                        {\"showLink\": true, \"linkText\": \"Export to plot.ly\", \"plotlyServerURL\": \"https://plot.ly\", \"responsive\": true}                    ).then(function(){\n",
       "                            \n",
       "var gd = document.getElementById('838f8a1a-50bd-4f6f-808e-1c57ab54e5c8');\n",
       "var x = new MutationObserver(function (mutations, observer) {{\n",
       "        var display = window.getComputedStyle(gd).display;\n",
       "        if (!display || display === 'none') {{\n",
       "            console.log([gd, 'removed!']);\n",
       "            Plotly.purge(gd);\n",
       "            observer.disconnect();\n",
       "        }}\n",
       "}});\n",
       "\n",
       "// Listen for the removal of the full notebook cells\n",
       "var notebookContainer = gd.closest('#notebook-container');\n",
       "if (notebookContainer) {{\n",
       "    x.observe(notebookContainer, {childList: true});\n",
       "}}\n",
       "\n",
       "// Listen for the clearing of the current output cell\n",
       "var outputEl = gd.closest('.output');\n",
       "if (outputEl) {{\n",
       "    x.observe(outputEl, {childList: true});\n",
       "}}\n",
       "\n",
       "                        })                };                });            </script>        </div>"
      ]
     },
     "metadata": {},
     "output_type": "display_data"
    }
   ],
   "source": [
    "df2.iplot(kind='bar', x='Category', y='Values')"
   ]
  },
  {
   "cell_type": "code",
   "execution_count": 14,
   "metadata": {},
   "outputs": [
    {
     "data": {
      "application/vnd.plotly.v1+json": {
       "config": {
        "linkText": "Export to plot.ly",
        "plotlyServerURL": "https://plot.ly",
        "showLink": true
       },
       "data": [
        {
         "marker": {
          "color": "rgba(255, 153, 51, 0.6)",
          "line": {
           "color": "rgba(255, 153, 51, 1.0)",
           "width": 1
          }
         },
         "name": "None",
         "orientation": "v",
         "text": "",
         "type": "bar",
         "x": [
          "A",
          "B",
          "C",
          "D"
         ],
         "y": [
          -15.679031932523792,
          24.75973590316836,
          -13.8577794338038,
          -1.0588339937000133
         ]
        }
       ],
       "layout": {
        "legend": {
         "bgcolor": "#F5F6F9",
         "font": {
          "color": "#4D5663"
         }
        },
        "paper_bgcolor": "#F5F6F9",
        "plot_bgcolor": "#F5F6F9",
        "template": {
         "data": {
          "bar": [
           {
            "error_x": {
             "color": "#2a3f5f"
            },
            "error_y": {
             "color": "#2a3f5f"
            },
            "marker": {
             "line": {
              "color": "#E5ECF6",
              "width": 0.5
             },
             "pattern": {
              "fillmode": "overlay",
              "size": 10,
              "solidity": 0.2
             }
            },
            "type": "bar"
           }
          ],
          "barpolar": [
           {
            "marker": {
             "line": {
              "color": "#E5ECF6",
              "width": 0.5
             },
             "pattern": {
              "fillmode": "overlay",
              "size": 10,
              "solidity": 0.2
             }
            },
            "type": "barpolar"
           }
          ],
          "carpet": [
           {
            "aaxis": {
             "endlinecolor": "#2a3f5f",
             "gridcolor": "white",
             "linecolor": "white",
             "minorgridcolor": "white",
             "startlinecolor": "#2a3f5f"
            },
            "baxis": {
             "endlinecolor": "#2a3f5f",
             "gridcolor": "white",
             "linecolor": "white",
             "minorgridcolor": "white",
             "startlinecolor": "#2a3f5f"
            },
            "type": "carpet"
           }
          ],
          "choropleth": [
           {
            "colorbar": {
             "outlinewidth": 0,
             "ticks": ""
            },
            "type": "choropleth"
           }
          ],
          "contour": [
           {
            "colorbar": {
             "outlinewidth": 0,
             "ticks": ""
            },
            "colorscale": [
             [
              0,
              "#0d0887"
             ],
             [
              0.1111111111111111,
              "#46039f"
             ],
             [
              0.2222222222222222,
              "#7201a8"
             ],
             [
              0.3333333333333333,
              "#9c179e"
             ],
             [
              0.4444444444444444,
              "#bd3786"
             ],
             [
              0.5555555555555556,
              "#d8576b"
             ],
             [
              0.6666666666666666,
              "#ed7953"
             ],
             [
              0.7777777777777778,
              "#fb9f3a"
             ],
             [
              0.8888888888888888,
              "#fdca26"
             ],
             [
              1,
              "#f0f921"
             ]
            ],
            "type": "contour"
           }
          ],
          "contourcarpet": [
           {
            "colorbar": {
             "outlinewidth": 0,
             "ticks": ""
            },
            "type": "contourcarpet"
           }
          ],
          "heatmap": [
           {
            "colorbar": {
             "outlinewidth": 0,
             "ticks": ""
            },
            "colorscale": [
             [
              0,
              "#0d0887"
             ],
             [
              0.1111111111111111,
              "#46039f"
             ],
             [
              0.2222222222222222,
              "#7201a8"
             ],
             [
              0.3333333333333333,
              "#9c179e"
             ],
             [
              0.4444444444444444,
              "#bd3786"
             ],
             [
              0.5555555555555556,
              "#d8576b"
             ],
             [
              0.6666666666666666,
              "#ed7953"
             ],
             [
              0.7777777777777778,
              "#fb9f3a"
             ],
             [
              0.8888888888888888,
              "#fdca26"
             ],
             [
              1,
              "#f0f921"
             ]
            ],
            "type": "heatmap"
           }
          ],
          "heatmapgl": [
           {
            "colorbar": {
             "outlinewidth": 0,
             "ticks": ""
            },
            "colorscale": [
             [
              0,
              "#0d0887"
             ],
             [
              0.1111111111111111,
              "#46039f"
             ],
             [
              0.2222222222222222,
              "#7201a8"
             ],
             [
              0.3333333333333333,
              "#9c179e"
             ],
             [
              0.4444444444444444,
              "#bd3786"
             ],
             [
              0.5555555555555556,
              "#d8576b"
             ],
             [
              0.6666666666666666,
              "#ed7953"
             ],
             [
              0.7777777777777778,
              "#fb9f3a"
             ],
             [
              0.8888888888888888,
              "#fdca26"
             ],
             [
              1,
              "#f0f921"
             ]
            ],
            "type": "heatmapgl"
           }
          ],
          "histogram": [
           {
            "marker": {
             "pattern": {
              "fillmode": "overlay",
              "size": 10,
              "solidity": 0.2
             }
            },
            "type": "histogram"
           }
          ],
          "histogram2d": [
           {
            "colorbar": {
             "outlinewidth": 0,
             "ticks": ""
            },
            "colorscale": [
             [
              0,
              "#0d0887"
             ],
             [
              0.1111111111111111,
              "#46039f"
             ],
             [
              0.2222222222222222,
              "#7201a8"
             ],
             [
              0.3333333333333333,
              "#9c179e"
             ],
             [
              0.4444444444444444,
              "#bd3786"
             ],
             [
              0.5555555555555556,
              "#d8576b"
             ],
             [
              0.6666666666666666,
              "#ed7953"
             ],
             [
              0.7777777777777778,
              "#fb9f3a"
             ],
             [
              0.8888888888888888,
              "#fdca26"
             ],
             [
              1,
              "#f0f921"
             ]
            ],
            "type": "histogram2d"
           }
          ],
          "histogram2dcontour": [
           {
            "colorbar": {
             "outlinewidth": 0,
             "ticks": ""
            },
            "colorscale": [
             [
              0,
              "#0d0887"
             ],
             [
              0.1111111111111111,
              "#46039f"
             ],
             [
              0.2222222222222222,
              "#7201a8"
             ],
             [
              0.3333333333333333,
              "#9c179e"
             ],
             [
              0.4444444444444444,
              "#bd3786"
             ],
             [
              0.5555555555555556,
              "#d8576b"
             ],
             [
              0.6666666666666666,
              "#ed7953"
             ],
             [
              0.7777777777777778,
              "#fb9f3a"
             ],
             [
              0.8888888888888888,
              "#fdca26"
             ],
             [
              1,
              "#f0f921"
             ]
            ],
            "type": "histogram2dcontour"
           }
          ],
          "mesh3d": [
           {
            "colorbar": {
             "outlinewidth": 0,
             "ticks": ""
            },
            "type": "mesh3d"
           }
          ],
          "parcoords": [
           {
            "line": {
             "colorbar": {
              "outlinewidth": 0,
              "ticks": ""
             }
            },
            "type": "parcoords"
           }
          ],
          "pie": [
           {
            "automargin": true,
            "type": "pie"
           }
          ],
          "scatter": [
           {
            "marker": {
             "colorbar": {
              "outlinewidth": 0,
              "ticks": ""
             }
            },
            "type": "scatter"
           }
          ],
          "scatter3d": [
           {
            "line": {
             "colorbar": {
              "outlinewidth": 0,
              "ticks": ""
             }
            },
            "marker": {
             "colorbar": {
              "outlinewidth": 0,
              "ticks": ""
             }
            },
            "type": "scatter3d"
           }
          ],
          "scattercarpet": [
           {
            "marker": {
             "colorbar": {
              "outlinewidth": 0,
              "ticks": ""
             }
            },
            "type": "scattercarpet"
           }
          ],
          "scattergeo": [
           {
            "marker": {
             "colorbar": {
              "outlinewidth": 0,
              "ticks": ""
             }
            },
            "type": "scattergeo"
           }
          ],
          "scattergl": [
           {
            "marker": {
             "colorbar": {
              "outlinewidth": 0,
              "ticks": ""
             }
            },
            "type": "scattergl"
           }
          ],
          "scattermapbox": [
           {
            "marker": {
             "colorbar": {
              "outlinewidth": 0,
              "ticks": ""
             }
            },
            "type": "scattermapbox"
           }
          ],
          "scatterpolar": [
           {
            "marker": {
             "colorbar": {
              "outlinewidth": 0,
              "ticks": ""
             }
            },
            "type": "scatterpolar"
           }
          ],
          "scatterpolargl": [
           {
            "marker": {
             "colorbar": {
              "outlinewidth": 0,
              "ticks": ""
             }
            },
            "type": "scatterpolargl"
           }
          ],
          "scatterternary": [
           {
            "marker": {
             "colorbar": {
              "outlinewidth": 0,
              "ticks": ""
             }
            },
            "type": "scatterternary"
           }
          ],
          "surface": [
           {
            "colorbar": {
             "outlinewidth": 0,
             "ticks": ""
            },
            "colorscale": [
             [
              0,
              "#0d0887"
             ],
             [
              0.1111111111111111,
              "#46039f"
             ],
             [
              0.2222222222222222,
              "#7201a8"
             ],
             [
              0.3333333333333333,
              "#9c179e"
             ],
             [
              0.4444444444444444,
              "#bd3786"
             ],
             [
              0.5555555555555556,
              "#d8576b"
             ],
             [
              0.6666666666666666,
              "#ed7953"
             ],
             [
              0.7777777777777778,
              "#fb9f3a"
             ],
             [
              0.8888888888888888,
              "#fdca26"
             ],
             [
              1,
              "#f0f921"
             ]
            ],
            "type": "surface"
           }
          ],
          "table": [
           {
            "cells": {
             "fill": {
              "color": "#EBF0F8"
             },
             "line": {
              "color": "white"
             }
            },
            "header": {
             "fill": {
              "color": "#C8D4E3"
             },
             "line": {
              "color": "white"
             }
            },
            "type": "table"
           }
          ]
         },
         "layout": {
          "annotationdefaults": {
           "arrowcolor": "#2a3f5f",
           "arrowhead": 0,
           "arrowwidth": 1
          },
          "autotypenumbers": "strict",
          "coloraxis": {
           "colorbar": {
            "outlinewidth": 0,
            "ticks": ""
           }
          },
          "colorscale": {
           "diverging": [
            [
             0,
             "#8e0152"
            ],
            [
             0.1,
             "#c51b7d"
            ],
            [
             0.2,
             "#de77ae"
            ],
            [
             0.3,
             "#f1b6da"
            ],
            [
             0.4,
             "#fde0ef"
            ],
            [
             0.5,
             "#f7f7f7"
            ],
            [
             0.6,
             "#e6f5d0"
            ],
            [
             0.7,
             "#b8e186"
            ],
            [
             0.8,
             "#7fbc41"
            ],
            [
             0.9,
             "#4d9221"
            ],
            [
             1,
             "#276419"
            ]
           ],
           "sequential": [
            [
             0,
             "#0d0887"
            ],
            [
             0.1111111111111111,
             "#46039f"
            ],
            [
             0.2222222222222222,
             "#7201a8"
            ],
            [
             0.3333333333333333,
             "#9c179e"
            ],
            [
             0.4444444444444444,
             "#bd3786"
            ],
            [
             0.5555555555555556,
             "#d8576b"
            ],
            [
             0.6666666666666666,
             "#ed7953"
            ],
            [
             0.7777777777777778,
             "#fb9f3a"
            ],
            [
             0.8888888888888888,
             "#fdca26"
            ],
            [
             1,
             "#f0f921"
            ]
           ],
           "sequentialminus": [
            [
             0,
             "#0d0887"
            ],
            [
             0.1111111111111111,
             "#46039f"
            ],
            [
             0.2222222222222222,
             "#7201a8"
            ],
            [
             0.3333333333333333,
             "#9c179e"
            ],
            [
             0.4444444444444444,
             "#bd3786"
            ],
            [
             0.5555555555555556,
             "#d8576b"
            ],
            [
             0.6666666666666666,
             "#ed7953"
            ],
            [
             0.7777777777777778,
             "#fb9f3a"
            ],
            [
             0.8888888888888888,
             "#fdca26"
            ],
            [
             1,
             "#f0f921"
            ]
           ]
          },
          "colorway": [
           "#636efa",
           "#EF553B",
           "#00cc96",
           "#ab63fa",
           "#FFA15A",
           "#19d3f3",
           "#FF6692",
           "#B6E880",
           "#FF97FF",
           "#FECB52"
          ],
          "font": {
           "color": "#2a3f5f"
          },
          "geo": {
           "bgcolor": "white",
           "lakecolor": "white",
           "landcolor": "#E5ECF6",
           "showlakes": true,
           "showland": true,
           "subunitcolor": "white"
          },
          "hoverlabel": {
           "align": "left"
          },
          "hovermode": "closest",
          "mapbox": {
           "style": "light"
          },
          "paper_bgcolor": "white",
          "plot_bgcolor": "#E5ECF6",
          "polar": {
           "angularaxis": {
            "gridcolor": "white",
            "linecolor": "white",
            "ticks": ""
           },
           "bgcolor": "#E5ECF6",
           "radialaxis": {
            "gridcolor": "white",
            "linecolor": "white",
            "ticks": ""
           }
          },
          "scene": {
           "xaxis": {
            "backgroundcolor": "#E5ECF6",
            "gridcolor": "white",
            "gridwidth": 2,
            "linecolor": "white",
            "showbackground": true,
            "ticks": "",
            "zerolinecolor": "white"
           },
           "yaxis": {
            "backgroundcolor": "#E5ECF6",
            "gridcolor": "white",
            "gridwidth": 2,
            "linecolor": "white",
            "showbackground": true,
            "ticks": "",
            "zerolinecolor": "white"
           },
           "zaxis": {
            "backgroundcolor": "#E5ECF6",
            "gridcolor": "white",
            "gridwidth": 2,
            "linecolor": "white",
            "showbackground": true,
            "ticks": "",
            "zerolinecolor": "white"
           }
          },
          "shapedefaults": {
           "line": {
            "color": "#2a3f5f"
           }
          },
          "ternary": {
           "aaxis": {
            "gridcolor": "white",
            "linecolor": "white",
            "ticks": ""
           },
           "baxis": {
            "gridcolor": "white",
            "linecolor": "white",
            "ticks": ""
           },
           "bgcolor": "#E5ECF6",
           "caxis": {
            "gridcolor": "white",
            "linecolor": "white",
            "ticks": ""
           }
          },
          "title": {
           "x": 0.05
          },
          "xaxis": {
           "automargin": true,
           "gridcolor": "white",
           "linecolor": "white",
           "ticks": "",
           "title": {
            "standoff": 15
           },
           "zerolinecolor": "white",
           "zerolinewidth": 2
          },
          "yaxis": {
           "automargin": true,
           "gridcolor": "white",
           "linecolor": "white",
           "ticks": "",
           "title": {
            "standoff": 15
           },
           "zerolinecolor": "white",
           "zerolinewidth": 2
          }
         }
        },
        "title": {
         "font": {
          "color": "#4D5663"
         }
        },
        "xaxis": {
         "gridcolor": "#E1E5ED",
         "showgrid": true,
         "tickfont": {
          "color": "#4D5663"
         },
         "title": {
          "font": {
           "color": "#4D5663"
          },
          "text": ""
         },
         "zerolinecolor": "#E1E5ED"
        },
        "yaxis": {
         "gridcolor": "#E1E5ED",
         "showgrid": true,
         "tickfont": {
          "color": "#4D5663"
         },
         "title": {
          "font": {
           "color": "#4D5663"
          },
          "text": ""
         },
         "zerolinecolor": "#E1E5ED"
        }
       }
      },
      "text/html": [
       "<div>                            <div id=\"8b2dbf7e-78c5-466a-950f-d07bf323df12\" class=\"plotly-graph-div\" style=\"height:525px; width:100%;\"></div>            <script type=\"text/javascript\">                require([\"plotly\"], function(Plotly) {                    window.PLOTLYENV=window.PLOTLYENV || {};\n",
       "                    window.PLOTLYENV.BASE_URL='https://plot.ly';                                    if (document.getElementById(\"8b2dbf7e-78c5-466a-950f-d07bf323df12\")) {                    Plotly.newPlot(                        \"8b2dbf7e-78c5-466a-950f-d07bf323df12\",                        [{\"marker\":{\"color\":\"rgba(255, 153, 51, 0.6)\",\"line\":{\"color\":\"rgba(255, 153, 51, 1.0)\",\"width\":1}},\"name\":\"None\",\"orientation\":\"v\",\"text\":\"\",\"x\":[\"A\",\"B\",\"C\",\"D\"],\"y\":[-15.679031932523792,24.75973590316836,-13.8577794338038,-1.0588339937000133],\"type\":\"bar\"}],                        {\"legend\":{\"bgcolor\":\"#F5F6F9\",\"font\":{\"color\":\"#4D5663\"}},\"paper_bgcolor\":\"#F5F6F9\",\"plot_bgcolor\":\"#F5F6F9\",\"template\":{\"data\":{\"barpolar\":[{\"marker\":{\"line\":{\"color\":\"#E5ECF6\",\"width\":0.5},\"pattern\":{\"fillmode\":\"overlay\",\"size\":10,\"solidity\":0.2}},\"type\":\"barpolar\"}],\"bar\":[{\"error_x\":{\"color\":\"#2a3f5f\"},\"error_y\":{\"color\":\"#2a3f5f\"},\"marker\":{\"line\":{\"color\":\"#E5ECF6\",\"width\":0.5},\"pattern\":{\"fillmode\":\"overlay\",\"size\":10,\"solidity\":0.2}},\"type\":\"bar\"}],\"carpet\":[{\"aaxis\":{\"endlinecolor\":\"#2a3f5f\",\"gridcolor\":\"white\",\"linecolor\":\"white\",\"minorgridcolor\":\"white\",\"startlinecolor\":\"#2a3f5f\"},\"baxis\":{\"endlinecolor\":\"#2a3f5f\",\"gridcolor\":\"white\",\"linecolor\":\"white\",\"minorgridcolor\":\"white\",\"startlinecolor\":\"#2a3f5f\"},\"type\":\"carpet\"}],\"choropleth\":[{\"colorbar\":{\"outlinewidth\":0,\"ticks\":\"\"},\"type\":\"choropleth\"}],\"contourcarpet\":[{\"colorbar\":{\"outlinewidth\":0,\"ticks\":\"\"},\"type\":\"contourcarpet\"}],\"contour\":[{\"colorbar\":{\"outlinewidth\":0,\"ticks\":\"\"},\"colorscale\":[[0.0,\"#0d0887\"],[0.1111111111111111,\"#46039f\"],[0.2222222222222222,\"#7201a8\"],[0.3333333333333333,\"#9c179e\"],[0.4444444444444444,\"#bd3786\"],[0.5555555555555556,\"#d8576b\"],[0.6666666666666666,\"#ed7953\"],[0.7777777777777778,\"#fb9f3a\"],[0.8888888888888888,\"#fdca26\"],[1.0,\"#f0f921\"]],\"type\":\"contour\"}],\"heatmapgl\":[{\"colorbar\":{\"outlinewidth\":0,\"ticks\":\"\"},\"colorscale\":[[0.0,\"#0d0887\"],[0.1111111111111111,\"#46039f\"],[0.2222222222222222,\"#7201a8\"],[0.3333333333333333,\"#9c179e\"],[0.4444444444444444,\"#bd3786\"],[0.5555555555555556,\"#d8576b\"],[0.6666666666666666,\"#ed7953\"],[0.7777777777777778,\"#fb9f3a\"],[0.8888888888888888,\"#fdca26\"],[1.0,\"#f0f921\"]],\"type\":\"heatmapgl\"}],\"heatmap\":[{\"colorbar\":{\"outlinewidth\":0,\"ticks\":\"\"},\"colorscale\":[[0.0,\"#0d0887\"],[0.1111111111111111,\"#46039f\"],[0.2222222222222222,\"#7201a8\"],[0.3333333333333333,\"#9c179e\"],[0.4444444444444444,\"#bd3786\"],[0.5555555555555556,\"#d8576b\"],[0.6666666666666666,\"#ed7953\"],[0.7777777777777778,\"#fb9f3a\"],[0.8888888888888888,\"#fdca26\"],[1.0,\"#f0f921\"]],\"type\":\"heatmap\"}],\"histogram2dcontour\":[{\"colorbar\":{\"outlinewidth\":0,\"ticks\":\"\"},\"colorscale\":[[0.0,\"#0d0887\"],[0.1111111111111111,\"#46039f\"],[0.2222222222222222,\"#7201a8\"],[0.3333333333333333,\"#9c179e\"],[0.4444444444444444,\"#bd3786\"],[0.5555555555555556,\"#d8576b\"],[0.6666666666666666,\"#ed7953\"],[0.7777777777777778,\"#fb9f3a\"],[0.8888888888888888,\"#fdca26\"],[1.0,\"#f0f921\"]],\"type\":\"histogram2dcontour\"}],\"histogram2d\":[{\"colorbar\":{\"outlinewidth\":0,\"ticks\":\"\"},\"colorscale\":[[0.0,\"#0d0887\"],[0.1111111111111111,\"#46039f\"],[0.2222222222222222,\"#7201a8\"],[0.3333333333333333,\"#9c179e\"],[0.4444444444444444,\"#bd3786\"],[0.5555555555555556,\"#d8576b\"],[0.6666666666666666,\"#ed7953\"],[0.7777777777777778,\"#fb9f3a\"],[0.8888888888888888,\"#fdca26\"],[1.0,\"#f0f921\"]],\"type\":\"histogram2d\"}],\"histogram\":[{\"marker\":{\"pattern\":{\"fillmode\":\"overlay\",\"size\":10,\"solidity\":0.2}},\"type\":\"histogram\"}],\"mesh3d\":[{\"colorbar\":{\"outlinewidth\":0,\"ticks\":\"\"},\"type\":\"mesh3d\"}],\"parcoords\":[{\"line\":{\"colorbar\":{\"outlinewidth\":0,\"ticks\":\"\"}},\"type\":\"parcoords\"}],\"pie\":[{\"automargin\":true,\"type\":\"pie\"}],\"scatter3d\":[{\"line\":{\"colorbar\":{\"outlinewidth\":0,\"ticks\":\"\"}},\"marker\":{\"colorbar\":{\"outlinewidth\":0,\"ticks\":\"\"}},\"type\":\"scatter3d\"}],\"scattercarpet\":[{\"marker\":{\"colorbar\":{\"outlinewidth\":0,\"ticks\":\"\"}},\"type\":\"scattercarpet\"}],\"scattergeo\":[{\"marker\":{\"colorbar\":{\"outlinewidth\":0,\"ticks\":\"\"}},\"type\":\"scattergeo\"}],\"scattergl\":[{\"marker\":{\"colorbar\":{\"outlinewidth\":0,\"ticks\":\"\"}},\"type\":\"scattergl\"}],\"scattermapbox\":[{\"marker\":{\"colorbar\":{\"outlinewidth\":0,\"ticks\":\"\"}},\"type\":\"scattermapbox\"}],\"scatterpolargl\":[{\"marker\":{\"colorbar\":{\"outlinewidth\":0,\"ticks\":\"\"}},\"type\":\"scatterpolargl\"}],\"scatterpolar\":[{\"marker\":{\"colorbar\":{\"outlinewidth\":0,\"ticks\":\"\"}},\"type\":\"scatterpolar\"}],\"scatter\":[{\"marker\":{\"colorbar\":{\"outlinewidth\":0,\"ticks\":\"\"}},\"type\":\"scatter\"}],\"scatterternary\":[{\"marker\":{\"colorbar\":{\"outlinewidth\":0,\"ticks\":\"\"}},\"type\":\"scatterternary\"}],\"surface\":[{\"colorbar\":{\"outlinewidth\":0,\"ticks\":\"\"},\"colorscale\":[[0.0,\"#0d0887\"],[0.1111111111111111,\"#46039f\"],[0.2222222222222222,\"#7201a8\"],[0.3333333333333333,\"#9c179e\"],[0.4444444444444444,\"#bd3786\"],[0.5555555555555556,\"#d8576b\"],[0.6666666666666666,\"#ed7953\"],[0.7777777777777778,\"#fb9f3a\"],[0.8888888888888888,\"#fdca26\"],[1.0,\"#f0f921\"]],\"type\":\"surface\"}],\"table\":[{\"cells\":{\"fill\":{\"color\":\"#EBF0F8\"},\"line\":{\"color\":\"white\"}},\"header\":{\"fill\":{\"color\":\"#C8D4E3\"},\"line\":{\"color\":\"white\"}},\"type\":\"table\"}]},\"layout\":{\"annotationdefaults\":{\"arrowcolor\":\"#2a3f5f\",\"arrowhead\":0,\"arrowwidth\":1},\"autotypenumbers\":\"strict\",\"coloraxis\":{\"colorbar\":{\"outlinewidth\":0,\"ticks\":\"\"}},\"colorscale\":{\"diverging\":[[0,\"#8e0152\"],[0.1,\"#c51b7d\"],[0.2,\"#de77ae\"],[0.3,\"#f1b6da\"],[0.4,\"#fde0ef\"],[0.5,\"#f7f7f7\"],[0.6,\"#e6f5d0\"],[0.7,\"#b8e186\"],[0.8,\"#7fbc41\"],[0.9,\"#4d9221\"],[1,\"#276419\"]],\"sequential\":[[0.0,\"#0d0887\"],[0.1111111111111111,\"#46039f\"],[0.2222222222222222,\"#7201a8\"],[0.3333333333333333,\"#9c179e\"],[0.4444444444444444,\"#bd3786\"],[0.5555555555555556,\"#d8576b\"],[0.6666666666666666,\"#ed7953\"],[0.7777777777777778,\"#fb9f3a\"],[0.8888888888888888,\"#fdca26\"],[1.0,\"#f0f921\"]],\"sequentialminus\":[[0.0,\"#0d0887\"],[0.1111111111111111,\"#46039f\"],[0.2222222222222222,\"#7201a8\"],[0.3333333333333333,\"#9c179e\"],[0.4444444444444444,\"#bd3786\"],[0.5555555555555556,\"#d8576b\"],[0.6666666666666666,\"#ed7953\"],[0.7777777777777778,\"#fb9f3a\"],[0.8888888888888888,\"#fdca26\"],[1.0,\"#f0f921\"]]},\"colorway\":[\"#636efa\",\"#EF553B\",\"#00cc96\",\"#ab63fa\",\"#FFA15A\",\"#19d3f3\",\"#FF6692\",\"#B6E880\",\"#FF97FF\",\"#FECB52\"],\"font\":{\"color\":\"#2a3f5f\"},\"geo\":{\"bgcolor\":\"white\",\"lakecolor\":\"white\",\"landcolor\":\"#E5ECF6\",\"showlakes\":true,\"showland\":true,\"subunitcolor\":\"white\"},\"hoverlabel\":{\"align\":\"left\"},\"hovermode\":\"closest\",\"mapbox\":{\"style\":\"light\"},\"paper_bgcolor\":\"white\",\"plot_bgcolor\":\"#E5ECF6\",\"polar\":{\"angularaxis\":{\"gridcolor\":\"white\",\"linecolor\":\"white\",\"ticks\":\"\"},\"bgcolor\":\"#E5ECF6\",\"radialaxis\":{\"gridcolor\":\"white\",\"linecolor\":\"white\",\"ticks\":\"\"}},\"scene\":{\"xaxis\":{\"backgroundcolor\":\"#E5ECF6\",\"gridcolor\":\"white\",\"gridwidth\":2,\"linecolor\":\"white\",\"showbackground\":true,\"ticks\":\"\",\"zerolinecolor\":\"white\"},\"yaxis\":{\"backgroundcolor\":\"#E5ECF6\",\"gridcolor\":\"white\",\"gridwidth\":2,\"linecolor\":\"white\",\"showbackground\":true,\"ticks\":\"\",\"zerolinecolor\":\"white\"},\"zaxis\":{\"backgroundcolor\":\"#E5ECF6\",\"gridcolor\":\"white\",\"gridwidth\":2,\"linecolor\":\"white\",\"showbackground\":true,\"ticks\":\"\",\"zerolinecolor\":\"white\"}},\"shapedefaults\":{\"line\":{\"color\":\"#2a3f5f\"}},\"ternary\":{\"aaxis\":{\"gridcolor\":\"white\",\"linecolor\":\"white\",\"ticks\":\"\"},\"baxis\":{\"gridcolor\":\"white\",\"linecolor\":\"white\",\"ticks\":\"\"},\"bgcolor\":\"#E5ECF6\",\"caxis\":{\"gridcolor\":\"white\",\"linecolor\":\"white\",\"ticks\":\"\"}},\"title\":{\"x\":0.05},\"xaxis\":{\"automargin\":true,\"gridcolor\":\"white\",\"linecolor\":\"white\",\"ticks\":\"\",\"title\":{\"standoff\":15},\"zerolinecolor\":\"white\",\"zerolinewidth\":2},\"yaxis\":{\"automargin\":true,\"gridcolor\":\"white\",\"linecolor\":\"white\",\"ticks\":\"\",\"title\":{\"standoff\":15},\"zerolinecolor\":\"white\",\"zerolinewidth\":2}}},\"title\":{\"font\":{\"color\":\"#4D5663\"}},\"xaxis\":{\"gridcolor\":\"#E1E5ED\",\"showgrid\":true,\"tickfont\":{\"color\":\"#4D5663\"},\"title\":{\"font\":{\"color\":\"#4D5663\"},\"text\":\"\"},\"zerolinecolor\":\"#E1E5ED\"},\"yaxis\":{\"gridcolor\":\"#E1E5ED\",\"showgrid\":true,\"tickfont\":{\"color\":\"#4D5663\"},\"title\":{\"font\":{\"color\":\"#4D5663\"},\"text\":\"\"},\"zerolinecolor\":\"#E1E5ED\"}},                        {\"showLink\": true, \"linkText\": \"Export to plot.ly\", \"plotlyServerURL\": \"https://plot.ly\", \"responsive\": true}                    ).then(function(){\n",
       "                            \n",
       "var gd = document.getElementById('8b2dbf7e-78c5-466a-950f-d07bf323df12');\n",
       "var x = new MutationObserver(function (mutations, observer) {{\n",
       "        var display = window.getComputedStyle(gd).display;\n",
       "        if (!display || display === 'none') {{\n",
       "            console.log([gd, 'removed!']);\n",
       "            Plotly.purge(gd);\n",
       "            observer.disconnect();\n",
       "        }}\n",
       "}});\n",
       "\n",
       "// Listen for the removal of the full notebook cells\n",
       "var notebookContainer = gd.closest('#notebook-container');\n",
       "if (notebookContainer) {{\n",
       "    x.observe(notebookContainer, {childList: true});\n",
       "}}\n",
       "\n",
       "// Listen for the clearing of the current output cell\n",
       "var outputEl = gd.closest('.output');\n",
       "if (outputEl) {{\n",
       "    x.observe(outputEl, {childList: true});\n",
       "}}\n",
       "\n",
       "                        })                };                });            </script>        </div>"
      ]
     },
     "metadata": {},
     "output_type": "display_data"
    }
   ],
   "source": [
    "df.sum().iplot(kind='bar')"
   ]
  },
  {
   "cell_type": "code",
   "execution_count": 16,
   "metadata": {},
   "outputs": [
    {
     "data": {
      "application/vnd.plotly.v1+json": {
       "config": {
        "linkText": "Export to plot.ly",
        "plotlyServerURL": "https://plot.ly",
        "showLink": true
       },
       "data": [
        {
         "boxpoints": false,
         "line": {
          "width": 1.3
         },
         "marker": {
          "color": "rgba(255, 153, 51, 1.0)"
         },
         "name": "A",
         "orientation": "v",
         "type": "box",
         "y": [
          -0.5902303025205717,
          -2.2016090086623388,
          0.9688835342587759,
          0.4097477034647505,
          -0.6531516478199042,
          -0.44733786561834193,
          -0.47482840070158566,
          -1.0899258739801267,
          0.018083060890892132,
          0.18640424228172048,
          -1.740262022112669,
          0.07452870131805488,
          -0.9223778158444266,
          -1.9232060232149235,
          0.10735353125742748,
          -1.1850757900063225,
          -0.5497291302848054,
          0.1760346600120734,
          1.0109279491426288,
          -1.8800930869821564,
          0.6818689562292352,
          1.0013136875986148,
          -1.4245497173871668,
          -0.6206539678188364,
          1.7911365866515108,
          0.7238100420108368,
          -0.4204677449441723,
          -2.154777771126477,
          -0.6273457251981394,
          0.1821495912778787,
          -0.06305727171354696,
          -0.3905198512997907,
          0.2528318683594929,
          0.565418190409366,
          0.6450981928783018,
          -0.30807010332343876,
          0.30513862374559486,
          -1.7594021492571972,
          -0.8222574329062964,
          -0.5735086500790288,
          -1.3979738724160686,
          -1.2750186161164196,
          0.6082933112555565,
          -0.6097777886272943,
          0.33734371436621946,
          -0.5417714102437892,
          1.375561863788836,
          2.2056801688936902,
          0.6405306616954853,
          1.4161986423742619,
          -1.0286554899550455,
          -1.4954126636278111,
          1.7433309705860673,
          -0.06255855829844899,
          -1.3254350939260084,
          1.2110743664651629,
          -0.3065195328839513,
          0.728721977199927,
          0.7196156850537774,
          0.17793323956809748,
          -2.1543583642789113,
          0.6110026577153034,
          -0.8926214867297181,
          0.5131829577150304,
          -0.4599291034370993,
          0.5993921592961952,
          -2.5854795386451497,
          -1.5187255713236734,
          -1.5832471980763754,
          -0.8377799538334126,
          -0.8174203926960799,
          -1.0010558563534455,
          -1.529505285845513,
          0.4705944311419757,
          -0.34620452317534356,
          -1.7587041573689515,
          0.9752971676066632,
          1.1613831337131102,
          1.3446457631064839,
          -1.4555509876454251,
          0.4266333975246613,
          -0.4933550509657777,
          -1.0762683955046413,
          -1.1172618918660948,
          -0.8050366057976863,
          -0.8191627336334403,
          2.20208838639601,
          0.8842178450189843,
          2.248450908342995,
          1.263857174507037,
          0.2817469381374268,
          0.8268799558075348,
          0.571564064960558,
          0.19025113238293712,
          -0.5390699541755176,
          1.73433697535019,
          1.2863853747153662,
          0.05423139472195194,
          -1.3151122199680136,
          0.38122217649893086
         ]
        },
        {
         "boxpoints": false,
         "line": {
          "width": 1.3
         },
         "marker": {
          "color": "rgba(55, 128, 191, 1.0)"
         },
         "name": "B",
         "orientation": "v",
         "type": "box",
         "y": [
          -1.3670490430437636,
          0.161450524235461,
          -0.44217348630356307,
          0.37545077311535113,
          -0.26558456358514304,
          -0.05337396280955743,
          -0.16286499406938992,
          -0.6559063241917041,
          0.2166205230803355,
          0.579264707040054,
          0.6570113302304137,
          1.1128644665473264,
          1.3437370062884728,
          1.2253391743149586,
          0.07243088995730265,
          -0.16291549888248036,
          0.5221703263725861,
          -0.2860873155412922,
          0.23845897129297605,
          0.5383216359023025,
          1.0228260382992838,
          1.4742375561846004,
          -0.4971926005756821,
          -0.3702983491139233,
          1.2811992881765035,
          0.5235806670476302,
          -0.29364591922026506,
          2.0327478724465315,
          -0.8321944982609231,
          -0.10476735233563249,
          -0.26958492730061334,
          -0.20189994105473036,
          1.0847659756245622,
          -1.1944184798293207,
          -1.3230740820458162,
          0.6206316042828937,
          0.10859772366319033,
          -0.6156696325698916,
          0.3984569141979588,
          0.844077249699107,
          1.2519032595789779,
          0.2513651055639649,
          0.2130378339237908,
          0.6490835820095017,
          -0.010798931494050746,
          0.3941767468516104,
          -1.6296040595382955,
          1.813762930471477,
          2.038570665631588,
          0.8554014083836431,
          1.06694928084837,
          0.7266644331179781,
          -0.7312737819318127,
          1.0626543686367567,
          1.5125446201537545,
          0.15539761830497265,
          1.1275135376114895,
          0.3884913736161449,
          1.3342540109209156,
          -0.09870250239733834,
          0.19263865576084857,
          1.6508820619017714,
          -0.6357303957131819,
          -0.21065746732213148,
          1.5794879615866562,
          0.13187081043821755,
          -0.6910448387634717,
          -0.9241359886362889,
          -0.9788028958812267,
          1.6571093770062777,
          0.46710147448499517,
          -0.08167530974313282,
          -0.32795086978837157,
          -0.4864270154260517,
          1.4228982883721621,
          -1.230082525704563,
          -1.8388925715141657,
          0.007416738671856635,
          -0.8495852847344079,
          -0.32060058648100864,
          -0.10872605769317288,
          0.17620829861536996,
          2.817567551757438,
          1.287542016854579,
          -0.678669908194487,
          0.4110746516491658,
          -1.3175798955777698,
          -0.9259953438941361,
          0.6365254724876831,
          0.1645909140545531,
          1.275561684738259,
          -0.5512964249982745,
          0.6776207058555057,
          -1.0088839072755986,
          1.2546202290644812,
          -0.4988731232616055,
          1.0171125628881423,
          -0.6730874492229427,
          2.515399088329593,
          0.04827347094723881
         ]
        },
        {
         "boxpoints": false,
         "line": {
          "width": 1.3
         },
         "marker": {
          "color": "rgba(50, 171, 96, 1.0)"
         },
         "name": "C",
         "orientation": "v",
         "type": "box",
         "y": [
          1.0927895381438653,
          0.3869804888555894,
          -0.07820871841748094,
          0.10914875239807878,
          0.44141128246765543,
          0.059709641898243994,
          0.9362562758459936,
          -0.049469222922685165,
          -0.9604645141374815,
          -0.03642247206112177,
          0.4540126975266702,
          0.46661801100664024,
          0.23525896270846847,
          0.8435264824759354,
          1.9123308315530168,
          1.3778178632223428,
          1.427129817536749,
          1.5969456284165555,
          -0.6353716176738434,
          -0.0852301036877315,
          -1.3107077999802108,
          -0.2111203466429529,
          -0.822676110997687,
          -0.6399111406824087,
          0.5784150917630376,
          -2.0730943122234877,
          -0.009738024958068586,
          0.31731126652029606,
          -0.8621507657761383,
          1.360291204984467,
          -1.8087879144579424,
          -1.1129622729554434,
          0.5677532651308002,
          -1.0697605131495675,
          0.31007992996337114,
          -0.15813396722000733,
          -0.24701350019495308,
          -1.0947940608247673,
          0.10314984688247189,
          1.3522471859989258,
          0.8606312443402826,
          -0.4553994887831305,
          -0.027024463446770283,
          -0.602148747068422,
          -1.8617033643320429,
          1.0459214592089945,
          -0.38172865720440924,
          -0.9482660908555265,
          0.8641232502416377,
          -1.7194676900776327,
          -1.1994706634027732,
          0.6713487772149576,
          -2.1346765408392505,
          -0.7181127663392818,
          0.06053680845956763,
          -0.37917654153482355,
          0.0894570996922149,
          -0.05600806767708331,
          0.928892609407208,
          -0.7495940138240937,
          1.2609906474293038,
          -1.0139880360813422,
          -1.3111107150205963,
          -0.9781755940346926,
          -1.1467667465321165,
          0.509671842270591,
          -0.49660618701523934,
          -0.11180452020127217,
          -2.0983295549353365,
          -0.37427308918351176,
          0.3825874831548487,
          -0.46048952482532995,
          -0.7327819745299191,
          0.9313353321457137,
          -1.4710842016607026,
          -1.6229378241379038,
          -1.365938141973644,
          0.6442667748038098,
          1.8008255670720474,
          1.1644094313071818,
          1.0284801366288947,
          -0.9741732106305144,
          0.599971256821181,
          -0.8139126818817689,
          -1.09767394155658,
          0.31749206036862637,
          0.3122101323895381,
          -0.21538581024967854,
          0.7603118663717938,
          -2.231394814777633,
          0.4771245925723608,
          0.3003655425976786,
          -0.42850277917924867,
          -0.3913032486148974,
          -0.1647431926134105,
          -1.507024883903592,
          0.006553607869517606,
          1.9888006179881683,
          0.2126792472612787,
          -1.4987557388322261
         ]
        },
        {
         "boxpoints": false,
         "line": {
          "width": 1.3
         },
         "marker": {
          "color": "rgba(128, 0, 128, 1.0)"
         },
         "name": "D",
         "orientation": "v",
         "type": "box",
         "y": [
          -0.18404099541891808,
          0.3705020988811112,
          2.4707853777241984,
          -0.6918146703711641,
          -0.8598510055544313,
          -1.158422440878767,
          1.4392467936379234,
          -0.6444906436631372,
          0.07894053798934612,
          -0.14325225219283427,
          -0.7795377265033557,
          1.0287344829474763,
          0.8627307529196024,
          -1.22890078262128,
          -0.47042027405335574,
          -0.23634839918213463,
          -0.4904857493837416,
          -0.7944123856144842,
          0.38778200438058813,
          0.9465708488659833,
          0.07899079642198541,
          -1.2488361957956742,
          0.19068929934729476,
          -1.0759649846092925,
          0.652451644860557,
          0.3015952648458203,
          0.5928935225579912,
          0.16911608311814655,
          -1.7168319905353358,
          -0.9965345005712516,
          -0.799832574687069,
          -0.4985149362343189,
          -0.4428008794462112,
          0.09638485531186627,
          -0.15011085240866567,
          1.226181583794429,
          -0.6037653345291387,
          -2.553832907788901,
          0.41976705316316654,
          0.5751887195240278,
          0.6003093489706015,
          -0.17644904294017671,
          0.6572023046449496,
          -0.016283320319424494,
          0.26465186215612035,
          0.6574045231367414,
          0.47531636844809133,
          1.0615391981185471,
          0.36254004841507625,
          -0.8377924133433795,
          1.9398990124400257,
          0.7769369852373745,
          0.045950154352748886,
          -1.5626638233641632,
          0.31621389478489725,
          -0.7931086826469803,
          -1.7551691001506924,
          1.2294425567019371,
          -0.0561545639195008,
          2.0442495940818506,
          -1.343470161015329,
          -0.8449773666074941,
          0.5666466025668979,
          0.574896431520319,
          -0.6623593912763195,
          -3.072259852988364,
          0.3629716411895115,
          1.0131910891426401,
          -2.3279426569230717,
          0.31783112748115516,
          -1.0288307099732001,
          -3.105096101828258,
          -1.7498390701699789,
          0.8854827761806933,
          0.08118201488294917,
          0.647961662890736,
          1.891230672055887,
          0.7914627879619662,
          1.0700106617800895,
          0.07227639716562591,
          0.6201189505305379,
          -0.5655464421299009,
          0.06228980710049047,
          0.2853002537024566,
          -1.2273085630898832,
          -0.9103824315747909,
          0.6627057071312216,
          0.7732955015308591,
          -1.5466254411465514,
          0.22583614943131844,
          1.6126052875773842,
          -1.4442686899363433,
          1.822522637667904,
          1.823108525324734,
          2.8499618537430065,
          -0.3713081051143311,
          0.10186930241625286,
          0.8109871340449076,
          0.6159795521360518,
          -0.7539276801344859
         ]
        }
       ],
       "layout": {
        "legend": {
         "bgcolor": "#F5F6F9",
         "font": {
          "color": "#4D5663"
         }
        },
        "paper_bgcolor": "#F5F6F9",
        "plot_bgcolor": "#F5F6F9",
        "template": {
         "data": {
          "bar": [
           {
            "error_x": {
             "color": "#2a3f5f"
            },
            "error_y": {
             "color": "#2a3f5f"
            },
            "marker": {
             "line": {
              "color": "#E5ECF6",
              "width": 0.5
             },
             "pattern": {
              "fillmode": "overlay",
              "size": 10,
              "solidity": 0.2
             }
            },
            "type": "bar"
           }
          ],
          "barpolar": [
           {
            "marker": {
             "line": {
              "color": "#E5ECF6",
              "width": 0.5
             },
             "pattern": {
              "fillmode": "overlay",
              "size": 10,
              "solidity": 0.2
             }
            },
            "type": "barpolar"
           }
          ],
          "carpet": [
           {
            "aaxis": {
             "endlinecolor": "#2a3f5f",
             "gridcolor": "white",
             "linecolor": "white",
             "minorgridcolor": "white",
             "startlinecolor": "#2a3f5f"
            },
            "baxis": {
             "endlinecolor": "#2a3f5f",
             "gridcolor": "white",
             "linecolor": "white",
             "minorgridcolor": "white",
             "startlinecolor": "#2a3f5f"
            },
            "type": "carpet"
           }
          ],
          "choropleth": [
           {
            "colorbar": {
             "outlinewidth": 0,
             "ticks": ""
            },
            "type": "choropleth"
           }
          ],
          "contour": [
           {
            "colorbar": {
             "outlinewidth": 0,
             "ticks": ""
            },
            "colorscale": [
             [
              0,
              "#0d0887"
             ],
             [
              0.1111111111111111,
              "#46039f"
             ],
             [
              0.2222222222222222,
              "#7201a8"
             ],
             [
              0.3333333333333333,
              "#9c179e"
             ],
             [
              0.4444444444444444,
              "#bd3786"
             ],
             [
              0.5555555555555556,
              "#d8576b"
             ],
             [
              0.6666666666666666,
              "#ed7953"
             ],
             [
              0.7777777777777778,
              "#fb9f3a"
             ],
             [
              0.8888888888888888,
              "#fdca26"
             ],
             [
              1,
              "#f0f921"
             ]
            ],
            "type": "contour"
           }
          ],
          "contourcarpet": [
           {
            "colorbar": {
             "outlinewidth": 0,
             "ticks": ""
            },
            "type": "contourcarpet"
           }
          ],
          "heatmap": [
           {
            "colorbar": {
             "outlinewidth": 0,
             "ticks": ""
            },
            "colorscale": [
             [
              0,
              "#0d0887"
             ],
             [
              0.1111111111111111,
              "#46039f"
             ],
             [
              0.2222222222222222,
              "#7201a8"
             ],
             [
              0.3333333333333333,
              "#9c179e"
             ],
             [
              0.4444444444444444,
              "#bd3786"
             ],
             [
              0.5555555555555556,
              "#d8576b"
             ],
             [
              0.6666666666666666,
              "#ed7953"
             ],
             [
              0.7777777777777778,
              "#fb9f3a"
             ],
             [
              0.8888888888888888,
              "#fdca26"
             ],
             [
              1,
              "#f0f921"
             ]
            ],
            "type": "heatmap"
           }
          ],
          "heatmapgl": [
           {
            "colorbar": {
             "outlinewidth": 0,
             "ticks": ""
            },
            "colorscale": [
             [
              0,
              "#0d0887"
             ],
             [
              0.1111111111111111,
              "#46039f"
             ],
             [
              0.2222222222222222,
              "#7201a8"
             ],
             [
              0.3333333333333333,
              "#9c179e"
             ],
             [
              0.4444444444444444,
              "#bd3786"
             ],
             [
              0.5555555555555556,
              "#d8576b"
             ],
             [
              0.6666666666666666,
              "#ed7953"
             ],
             [
              0.7777777777777778,
              "#fb9f3a"
             ],
             [
              0.8888888888888888,
              "#fdca26"
             ],
             [
              1,
              "#f0f921"
             ]
            ],
            "type": "heatmapgl"
           }
          ],
          "histogram": [
           {
            "marker": {
             "pattern": {
              "fillmode": "overlay",
              "size": 10,
              "solidity": 0.2
             }
            },
            "type": "histogram"
           }
          ],
          "histogram2d": [
           {
            "colorbar": {
             "outlinewidth": 0,
             "ticks": ""
            },
            "colorscale": [
             [
              0,
              "#0d0887"
             ],
             [
              0.1111111111111111,
              "#46039f"
             ],
             [
              0.2222222222222222,
              "#7201a8"
             ],
             [
              0.3333333333333333,
              "#9c179e"
             ],
             [
              0.4444444444444444,
              "#bd3786"
             ],
             [
              0.5555555555555556,
              "#d8576b"
             ],
             [
              0.6666666666666666,
              "#ed7953"
             ],
             [
              0.7777777777777778,
              "#fb9f3a"
             ],
             [
              0.8888888888888888,
              "#fdca26"
             ],
             [
              1,
              "#f0f921"
             ]
            ],
            "type": "histogram2d"
           }
          ],
          "histogram2dcontour": [
           {
            "colorbar": {
             "outlinewidth": 0,
             "ticks": ""
            },
            "colorscale": [
             [
              0,
              "#0d0887"
             ],
             [
              0.1111111111111111,
              "#46039f"
             ],
             [
              0.2222222222222222,
              "#7201a8"
             ],
             [
              0.3333333333333333,
              "#9c179e"
             ],
             [
              0.4444444444444444,
              "#bd3786"
             ],
             [
              0.5555555555555556,
              "#d8576b"
             ],
             [
              0.6666666666666666,
              "#ed7953"
             ],
             [
              0.7777777777777778,
              "#fb9f3a"
             ],
             [
              0.8888888888888888,
              "#fdca26"
             ],
             [
              1,
              "#f0f921"
             ]
            ],
            "type": "histogram2dcontour"
           }
          ],
          "mesh3d": [
           {
            "colorbar": {
             "outlinewidth": 0,
             "ticks": ""
            },
            "type": "mesh3d"
           }
          ],
          "parcoords": [
           {
            "line": {
             "colorbar": {
              "outlinewidth": 0,
              "ticks": ""
             }
            },
            "type": "parcoords"
           }
          ],
          "pie": [
           {
            "automargin": true,
            "type": "pie"
           }
          ],
          "scatter": [
           {
            "marker": {
             "colorbar": {
              "outlinewidth": 0,
              "ticks": ""
             }
            },
            "type": "scatter"
           }
          ],
          "scatter3d": [
           {
            "line": {
             "colorbar": {
              "outlinewidth": 0,
              "ticks": ""
             }
            },
            "marker": {
             "colorbar": {
              "outlinewidth": 0,
              "ticks": ""
             }
            },
            "type": "scatter3d"
           }
          ],
          "scattercarpet": [
           {
            "marker": {
             "colorbar": {
              "outlinewidth": 0,
              "ticks": ""
             }
            },
            "type": "scattercarpet"
           }
          ],
          "scattergeo": [
           {
            "marker": {
             "colorbar": {
              "outlinewidth": 0,
              "ticks": ""
             }
            },
            "type": "scattergeo"
           }
          ],
          "scattergl": [
           {
            "marker": {
             "colorbar": {
              "outlinewidth": 0,
              "ticks": ""
             }
            },
            "type": "scattergl"
           }
          ],
          "scattermapbox": [
           {
            "marker": {
             "colorbar": {
              "outlinewidth": 0,
              "ticks": ""
             }
            },
            "type": "scattermapbox"
           }
          ],
          "scatterpolar": [
           {
            "marker": {
             "colorbar": {
              "outlinewidth": 0,
              "ticks": ""
             }
            },
            "type": "scatterpolar"
           }
          ],
          "scatterpolargl": [
           {
            "marker": {
             "colorbar": {
              "outlinewidth": 0,
              "ticks": ""
             }
            },
            "type": "scatterpolargl"
           }
          ],
          "scatterternary": [
           {
            "marker": {
             "colorbar": {
              "outlinewidth": 0,
              "ticks": ""
             }
            },
            "type": "scatterternary"
           }
          ],
          "surface": [
           {
            "colorbar": {
             "outlinewidth": 0,
             "ticks": ""
            },
            "colorscale": [
             [
              0,
              "#0d0887"
             ],
             [
              0.1111111111111111,
              "#46039f"
             ],
             [
              0.2222222222222222,
              "#7201a8"
             ],
             [
              0.3333333333333333,
              "#9c179e"
             ],
             [
              0.4444444444444444,
              "#bd3786"
             ],
             [
              0.5555555555555556,
              "#d8576b"
             ],
             [
              0.6666666666666666,
              "#ed7953"
             ],
             [
              0.7777777777777778,
              "#fb9f3a"
             ],
             [
              0.8888888888888888,
              "#fdca26"
             ],
             [
              1,
              "#f0f921"
             ]
            ],
            "type": "surface"
           }
          ],
          "table": [
           {
            "cells": {
             "fill": {
              "color": "#EBF0F8"
             },
             "line": {
              "color": "white"
             }
            },
            "header": {
             "fill": {
              "color": "#C8D4E3"
             },
             "line": {
              "color": "white"
             }
            },
            "type": "table"
           }
          ]
         },
         "layout": {
          "annotationdefaults": {
           "arrowcolor": "#2a3f5f",
           "arrowhead": 0,
           "arrowwidth": 1
          },
          "autotypenumbers": "strict",
          "coloraxis": {
           "colorbar": {
            "outlinewidth": 0,
            "ticks": ""
           }
          },
          "colorscale": {
           "diverging": [
            [
             0,
             "#8e0152"
            ],
            [
             0.1,
             "#c51b7d"
            ],
            [
             0.2,
             "#de77ae"
            ],
            [
             0.3,
             "#f1b6da"
            ],
            [
             0.4,
             "#fde0ef"
            ],
            [
             0.5,
             "#f7f7f7"
            ],
            [
             0.6,
             "#e6f5d0"
            ],
            [
             0.7,
             "#b8e186"
            ],
            [
             0.8,
             "#7fbc41"
            ],
            [
             0.9,
             "#4d9221"
            ],
            [
             1,
             "#276419"
            ]
           ],
           "sequential": [
            [
             0,
             "#0d0887"
            ],
            [
             0.1111111111111111,
             "#46039f"
            ],
            [
             0.2222222222222222,
             "#7201a8"
            ],
            [
             0.3333333333333333,
             "#9c179e"
            ],
            [
             0.4444444444444444,
             "#bd3786"
            ],
            [
             0.5555555555555556,
             "#d8576b"
            ],
            [
             0.6666666666666666,
             "#ed7953"
            ],
            [
             0.7777777777777778,
             "#fb9f3a"
            ],
            [
             0.8888888888888888,
             "#fdca26"
            ],
            [
             1,
             "#f0f921"
            ]
           ],
           "sequentialminus": [
            [
             0,
             "#0d0887"
            ],
            [
             0.1111111111111111,
             "#46039f"
            ],
            [
             0.2222222222222222,
             "#7201a8"
            ],
            [
             0.3333333333333333,
             "#9c179e"
            ],
            [
             0.4444444444444444,
             "#bd3786"
            ],
            [
             0.5555555555555556,
             "#d8576b"
            ],
            [
             0.6666666666666666,
             "#ed7953"
            ],
            [
             0.7777777777777778,
             "#fb9f3a"
            ],
            [
             0.8888888888888888,
             "#fdca26"
            ],
            [
             1,
             "#f0f921"
            ]
           ]
          },
          "colorway": [
           "#636efa",
           "#EF553B",
           "#00cc96",
           "#ab63fa",
           "#FFA15A",
           "#19d3f3",
           "#FF6692",
           "#B6E880",
           "#FF97FF",
           "#FECB52"
          ],
          "font": {
           "color": "#2a3f5f"
          },
          "geo": {
           "bgcolor": "white",
           "lakecolor": "white",
           "landcolor": "#E5ECF6",
           "showlakes": true,
           "showland": true,
           "subunitcolor": "white"
          },
          "hoverlabel": {
           "align": "left"
          },
          "hovermode": "closest",
          "mapbox": {
           "style": "light"
          },
          "paper_bgcolor": "white",
          "plot_bgcolor": "#E5ECF6",
          "polar": {
           "angularaxis": {
            "gridcolor": "white",
            "linecolor": "white",
            "ticks": ""
           },
           "bgcolor": "#E5ECF6",
           "radialaxis": {
            "gridcolor": "white",
            "linecolor": "white",
            "ticks": ""
           }
          },
          "scene": {
           "xaxis": {
            "backgroundcolor": "#E5ECF6",
            "gridcolor": "white",
            "gridwidth": 2,
            "linecolor": "white",
            "showbackground": true,
            "ticks": "",
            "zerolinecolor": "white"
           },
           "yaxis": {
            "backgroundcolor": "#E5ECF6",
            "gridcolor": "white",
            "gridwidth": 2,
            "linecolor": "white",
            "showbackground": true,
            "ticks": "",
            "zerolinecolor": "white"
           },
           "zaxis": {
            "backgroundcolor": "#E5ECF6",
            "gridcolor": "white",
            "gridwidth": 2,
            "linecolor": "white",
            "showbackground": true,
            "ticks": "",
            "zerolinecolor": "white"
           }
          },
          "shapedefaults": {
           "line": {
            "color": "#2a3f5f"
           }
          },
          "ternary": {
           "aaxis": {
            "gridcolor": "white",
            "linecolor": "white",
            "ticks": ""
           },
           "baxis": {
            "gridcolor": "white",
            "linecolor": "white",
            "ticks": ""
           },
           "bgcolor": "#E5ECF6",
           "caxis": {
            "gridcolor": "white",
            "linecolor": "white",
            "ticks": ""
           }
          },
          "title": {
           "x": 0.05
          },
          "xaxis": {
           "automargin": true,
           "gridcolor": "white",
           "linecolor": "white",
           "ticks": "",
           "title": {
            "standoff": 15
           },
           "zerolinecolor": "white",
           "zerolinewidth": 2
          },
          "yaxis": {
           "automargin": true,
           "gridcolor": "white",
           "linecolor": "white",
           "ticks": "",
           "title": {
            "standoff": 15
           },
           "zerolinecolor": "white",
           "zerolinewidth": 2
          }
         }
        },
        "title": {
         "font": {
          "color": "#4D5663"
         }
        },
        "xaxis": {
         "gridcolor": "#E1E5ED",
         "showgrid": true,
         "tickfont": {
          "color": "#4D5663"
         },
         "title": {
          "font": {
           "color": "#4D5663"
          },
          "text": ""
         },
         "zerolinecolor": "#E1E5ED"
        },
        "yaxis": {
         "gridcolor": "#E1E5ED",
         "showgrid": true,
         "tickfont": {
          "color": "#4D5663"
         },
         "title": {
          "font": {
           "color": "#4D5663"
          },
          "text": ""
         },
         "zerolinecolor": "#E1E5ED"
        }
       }
      },
      "text/html": [
       "<div>                            <div id=\"49d1b436-6185-4612-85df-ba26240c7bbe\" class=\"plotly-graph-div\" style=\"height:525px; width:100%;\"></div>            <script type=\"text/javascript\">                require([\"plotly\"], function(Plotly) {                    window.PLOTLYENV=window.PLOTLYENV || {};\n",
       "                    window.PLOTLYENV.BASE_URL='https://plot.ly';                                    if (document.getElementById(\"49d1b436-6185-4612-85df-ba26240c7bbe\")) {                    Plotly.newPlot(                        \"49d1b436-6185-4612-85df-ba26240c7bbe\",                        [{\"boxpoints\":false,\"line\":{\"width\":1.3},\"marker\":{\"color\":\"rgba(255, 153, 51, 1.0)\"},\"name\":\"A\",\"orientation\":\"v\",\"y\":[-0.5902303025205717,-2.2016090086623388,0.9688835342587759,0.4097477034647505,-0.6531516478199042,-0.44733786561834193,-0.47482840070158566,-1.0899258739801267,0.018083060890892132,0.18640424228172048,-1.740262022112669,0.07452870131805488,-0.9223778158444266,-1.9232060232149235,0.10735353125742748,-1.1850757900063225,-0.5497291302848054,0.1760346600120734,1.0109279491426288,-1.8800930869821564,0.6818689562292352,1.0013136875986148,-1.4245497173871668,-0.6206539678188364,1.7911365866515108,0.7238100420108368,-0.4204677449441723,-2.154777771126477,-0.6273457251981394,0.1821495912778787,-0.06305727171354696,-0.3905198512997907,0.2528318683594929,0.565418190409366,0.6450981928783018,-0.30807010332343876,0.30513862374559486,-1.7594021492571972,-0.8222574329062964,-0.5735086500790288,-1.3979738724160686,-1.2750186161164196,0.6082933112555565,-0.6097777886272943,0.33734371436621946,-0.5417714102437892,1.375561863788836,2.2056801688936902,0.6405306616954853,1.4161986423742619,-1.0286554899550455,-1.4954126636278111,1.7433309705860673,-0.06255855829844899,-1.3254350939260084,1.2110743664651629,-0.3065195328839513,0.728721977199927,0.7196156850537774,0.17793323956809748,-2.1543583642789113,0.6110026577153034,-0.8926214867297181,0.5131829577150304,-0.4599291034370993,0.5993921592961952,-2.5854795386451497,-1.5187255713236734,-1.5832471980763754,-0.8377799538334126,-0.8174203926960799,-1.0010558563534455,-1.529505285845513,0.4705944311419757,-0.34620452317534356,-1.7587041573689515,0.9752971676066632,1.1613831337131102,1.3446457631064839,-1.4555509876454251,0.4266333975246613,-0.4933550509657777,-1.0762683955046413,-1.1172618918660948,-0.8050366057976863,-0.8191627336334403,2.20208838639601,0.8842178450189843,2.248450908342995,1.263857174507037,0.2817469381374268,0.8268799558075348,0.571564064960558,0.19025113238293712,-0.5390699541755176,1.73433697535019,1.2863853747153662,0.05423139472195194,-1.3151122199680136,0.38122217649893086],\"type\":\"box\"},{\"boxpoints\":false,\"line\":{\"width\":1.3},\"marker\":{\"color\":\"rgba(55, 128, 191, 1.0)\"},\"name\":\"B\",\"orientation\":\"v\",\"y\":[-1.3670490430437636,0.161450524235461,-0.44217348630356307,0.37545077311535113,-0.26558456358514304,-0.05337396280955743,-0.16286499406938992,-0.6559063241917041,0.2166205230803355,0.579264707040054,0.6570113302304137,1.1128644665473264,1.3437370062884728,1.2253391743149586,0.07243088995730265,-0.16291549888248036,0.5221703263725861,-0.2860873155412922,0.23845897129297605,0.5383216359023025,1.0228260382992838,1.4742375561846004,-0.4971926005756821,-0.3702983491139233,1.2811992881765035,0.5235806670476302,-0.29364591922026506,2.0327478724465315,-0.8321944982609231,-0.10476735233563249,-0.26958492730061334,-0.20189994105473036,1.0847659756245622,-1.1944184798293207,-1.3230740820458162,0.6206316042828937,0.10859772366319033,-0.6156696325698916,0.3984569141979588,0.844077249699107,1.2519032595789779,0.2513651055639649,0.2130378339237908,0.6490835820095017,-0.010798931494050746,0.3941767468516104,-1.6296040595382955,1.813762930471477,2.038570665631588,0.8554014083836431,1.06694928084837,0.7266644331179781,-0.7312737819318127,1.0626543686367567,1.5125446201537545,0.15539761830497265,1.1275135376114895,0.3884913736161449,1.3342540109209156,-0.09870250239733834,0.19263865576084857,1.6508820619017714,-0.6357303957131819,-0.21065746732213148,1.5794879615866562,0.13187081043821755,-0.6910448387634717,-0.9241359886362889,-0.9788028958812267,1.6571093770062777,0.46710147448499517,-0.08167530974313282,-0.32795086978837157,-0.4864270154260517,1.4228982883721621,-1.230082525704563,-1.8388925715141657,0.007416738671856635,-0.8495852847344079,-0.32060058648100864,-0.10872605769317288,0.17620829861536996,2.817567551757438,1.287542016854579,-0.678669908194487,0.4110746516491658,-1.3175798955777698,-0.9259953438941361,0.6365254724876831,0.1645909140545531,1.275561684738259,-0.5512964249982745,0.6776207058555057,-1.0088839072755986,1.2546202290644812,-0.4988731232616055,1.0171125628881423,-0.6730874492229427,2.515399088329593,0.04827347094723881],\"type\":\"box\"},{\"boxpoints\":false,\"line\":{\"width\":1.3},\"marker\":{\"color\":\"rgba(50, 171, 96, 1.0)\"},\"name\":\"C\",\"orientation\":\"v\",\"y\":[1.0927895381438653,0.3869804888555894,-0.07820871841748094,0.10914875239807878,0.44141128246765543,0.059709641898243994,0.9362562758459936,-0.049469222922685165,-0.9604645141374815,-0.03642247206112177,0.4540126975266702,0.46661801100664024,0.23525896270846847,0.8435264824759354,1.9123308315530168,1.3778178632223428,1.427129817536749,1.5969456284165555,-0.6353716176738434,-0.0852301036877315,-1.3107077999802108,-0.2111203466429529,-0.822676110997687,-0.6399111406824087,0.5784150917630376,-2.0730943122234877,-0.009738024958068586,0.31731126652029606,-0.8621507657761383,1.360291204984467,-1.8087879144579424,-1.1129622729554434,0.5677532651308002,-1.0697605131495675,0.31007992996337114,-0.15813396722000733,-0.24701350019495308,-1.0947940608247673,0.10314984688247189,1.3522471859989258,0.8606312443402826,-0.4553994887831305,-0.027024463446770283,-0.602148747068422,-1.8617033643320429,1.0459214592089945,-0.38172865720440924,-0.9482660908555265,0.8641232502416377,-1.7194676900776327,-1.1994706634027732,0.6713487772149576,-2.1346765408392505,-0.7181127663392818,0.06053680845956763,-0.37917654153482355,0.0894570996922149,-0.05600806767708331,0.928892609407208,-0.7495940138240937,1.2609906474293038,-1.0139880360813422,-1.3111107150205963,-0.9781755940346926,-1.1467667465321165,0.509671842270591,-0.49660618701523934,-0.11180452020127217,-2.0983295549353365,-0.37427308918351176,0.3825874831548487,-0.46048952482532995,-0.7327819745299191,0.9313353321457137,-1.4710842016607026,-1.6229378241379038,-1.365938141973644,0.6442667748038098,1.8008255670720474,1.1644094313071818,1.0284801366288947,-0.9741732106305144,0.599971256821181,-0.8139126818817689,-1.09767394155658,0.31749206036862637,0.3122101323895381,-0.21538581024967854,0.7603118663717938,-2.231394814777633,0.4771245925723608,0.3003655425976786,-0.42850277917924867,-0.3913032486148974,-0.1647431926134105,-1.507024883903592,0.006553607869517606,1.9888006179881683,0.2126792472612787,-1.4987557388322261],\"type\":\"box\"},{\"boxpoints\":false,\"line\":{\"width\":1.3},\"marker\":{\"color\":\"rgba(128, 0, 128, 1.0)\"},\"name\":\"D\",\"orientation\":\"v\",\"y\":[-0.18404099541891808,0.3705020988811112,2.4707853777241984,-0.6918146703711641,-0.8598510055544313,-1.158422440878767,1.4392467936379234,-0.6444906436631372,0.07894053798934612,-0.14325225219283427,-0.7795377265033557,1.0287344829474763,0.8627307529196024,-1.22890078262128,-0.47042027405335574,-0.23634839918213463,-0.4904857493837416,-0.7944123856144842,0.38778200438058813,0.9465708488659833,0.07899079642198541,-1.2488361957956742,0.19068929934729476,-1.0759649846092925,0.652451644860557,0.3015952648458203,0.5928935225579912,0.16911608311814655,-1.7168319905353358,-0.9965345005712516,-0.799832574687069,-0.4985149362343189,-0.4428008794462112,0.09638485531186627,-0.15011085240866567,1.226181583794429,-0.6037653345291387,-2.553832907788901,0.41976705316316654,0.5751887195240278,0.6003093489706015,-0.17644904294017671,0.6572023046449496,-0.016283320319424494,0.26465186215612035,0.6574045231367414,0.47531636844809133,1.0615391981185471,0.36254004841507625,-0.8377924133433795,1.9398990124400257,0.7769369852373745,0.045950154352748886,-1.5626638233641632,0.31621389478489725,-0.7931086826469803,-1.7551691001506924,1.2294425567019371,-0.0561545639195008,2.0442495940818506,-1.343470161015329,-0.8449773666074941,0.5666466025668979,0.574896431520319,-0.6623593912763195,-3.072259852988364,0.3629716411895115,1.0131910891426401,-2.3279426569230717,0.31783112748115516,-1.0288307099732001,-3.105096101828258,-1.7498390701699789,0.8854827761806933,0.08118201488294917,0.647961662890736,1.891230672055887,0.7914627879619662,1.0700106617800895,0.07227639716562591,0.6201189505305379,-0.5655464421299009,0.06228980710049047,0.2853002537024566,-1.2273085630898832,-0.9103824315747909,0.6627057071312216,0.7732955015308591,-1.5466254411465514,0.22583614943131844,1.6126052875773842,-1.4442686899363433,1.822522637667904,1.823108525324734,2.8499618537430065,-0.3713081051143311,0.10186930241625286,0.8109871340449076,0.6159795521360518,-0.7539276801344859],\"type\":\"box\"}],                        {\"legend\":{\"bgcolor\":\"#F5F6F9\",\"font\":{\"color\":\"#4D5663\"}},\"paper_bgcolor\":\"#F5F6F9\",\"plot_bgcolor\":\"#F5F6F9\",\"template\":{\"data\":{\"barpolar\":[{\"marker\":{\"line\":{\"color\":\"#E5ECF6\",\"width\":0.5},\"pattern\":{\"fillmode\":\"overlay\",\"size\":10,\"solidity\":0.2}},\"type\":\"barpolar\"}],\"bar\":[{\"error_x\":{\"color\":\"#2a3f5f\"},\"error_y\":{\"color\":\"#2a3f5f\"},\"marker\":{\"line\":{\"color\":\"#E5ECF6\",\"width\":0.5},\"pattern\":{\"fillmode\":\"overlay\",\"size\":10,\"solidity\":0.2}},\"type\":\"bar\"}],\"carpet\":[{\"aaxis\":{\"endlinecolor\":\"#2a3f5f\",\"gridcolor\":\"white\",\"linecolor\":\"white\",\"minorgridcolor\":\"white\",\"startlinecolor\":\"#2a3f5f\"},\"baxis\":{\"endlinecolor\":\"#2a3f5f\",\"gridcolor\":\"white\",\"linecolor\":\"white\",\"minorgridcolor\":\"white\",\"startlinecolor\":\"#2a3f5f\"},\"type\":\"carpet\"}],\"choropleth\":[{\"colorbar\":{\"outlinewidth\":0,\"ticks\":\"\"},\"type\":\"choropleth\"}],\"contourcarpet\":[{\"colorbar\":{\"outlinewidth\":0,\"ticks\":\"\"},\"type\":\"contourcarpet\"}],\"contour\":[{\"colorbar\":{\"outlinewidth\":0,\"ticks\":\"\"},\"colorscale\":[[0.0,\"#0d0887\"],[0.1111111111111111,\"#46039f\"],[0.2222222222222222,\"#7201a8\"],[0.3333333333333333,\"#9c179e\"],[0.4444444444444444,\"#bd3786\"],[0.5555555555555556,\"#d8576b\"],[0.6666666666666666,\"#ed7953\"],[0.7777777777777778,\"#fb9f3a\"],[0.8888888888888888,\"#fdca26\"],[1.0,\"#f0f921\"]],\"type\":\"contour\"}],\"heatmapgl\":[{\"colorbar\":{\"outlinewidth\":0,\"ticks\":\"\"},\"colorscale\":[[0.0,\"#0d0887\"],[0.1111111111111111,\"#46039f\"],[0.2222222222222222,\"#7201a8\"],[0.3333333333333333,\"#9c179e\"],[0.4444444444444444,\"#bd3786\"],[0.5555555555555556,\"#d8576b\"],[0.6666666666666666,\"#ed7953\"],[0.7777777777777778,\"#fb9f3a\"],[0.8888888888888888,\"#fdca26\"],[1.0,\"#f0f921\"]],\"type\":\"heatmapgl\"}],\"heatmap\":[{\"colorbar\":{\"outlinewidth\":0,\"ticks\":\"\"},\"colorscale\":[[0.0,\"#0d0887\"],[0.1111111111111111,\"#46039f\"],[0.2222222222222222,\"#7201a8\"],[0.3333333333333333,\"#9c179e\"],[0.4444444444444444,\"#bd3786\"],[0.5555555555555556,\"#d8576b\"],[0.6666666666666666,\"#ed7953\"],[0.7777777777777778,\"#fb9f3a\"],[0.8888888888888888,\"#fdca26\"],[1.0,\"#f0f921\"]],\"type\":\"heatmap\"}],\"histogram2dcontour\":[{\"colorbar\":{\"outlinewidth\":0,\"ticks\":\"\"},\"colorscale\":[[0.0,\"#0d0887\"],[0.1111111111111111,\"#46039f\"],[0.2222222222222222,\"#7201a8\"],[0.3333333333333333,\"#9c179e\"],[0.4444444444444444,\"#bd3786\"],[0.5555555555555556,\"#d8576b\"],[0.6666666666666666,\"#ed7953\"],[0.7777777777777778,\"#fb9f3a\"],[0.8888888888888888,\"#fdca26\"],[1.0,\"#f0f921\"]],\"type\":\"histogram2dcontour\"}],\"histogram2d\":[{\"colorbar\":{\"outlinewidth\":0,\"ticks\":\"\"},\"colorscale\":[[0.0,\"#0d0887\"],[0.1111111111111111,\"#46039f\"],[0.2222222222222222,\"#7201a8\"],[0.3333333333333333,\"#9c179e\"],[0.4444444444444444,\"#bd3786\"],[0.5555555555555556,\"#d8576b\"],[0.6666666666666666,\"#ed7953\"],[0.7777777777777778,\"#fb9f3a\"],[0.8888888888888888,\"#fdca26\"],[1.0,\"#f0f921\"]],\"type\":\"histogram2d\"}],\"histogram\":[{\"marker\":{\"pattern\":{\"fillmode\":\"overlay\",\"size\":10,\"solidity\":0.2}},\"type\":\"histogram\"}],\"mesh3d\":[{\"colorbar\":{\"outlinewidth\":0,\"ticks\":\"\"},\"type\":\"mesh3d\"}],\"parcoords\":[{\"line\":{\"colorbar\":{\"outlinewidth\":0,\"ticks\":\"\"}},\"type\":\"parcoords\"}],\"pie\":[{\"automargin\":true,\"type\":\"pie\"}],\"scatter3d\":[{\"line\":{\"colorbar\":{\"outlinewidth\":0,\"ticks\":\"\"}},\"marker\":{\"colorbar\":{\"outlinewidth\":0,\"ticks\":\"\"}},\"type\":\"scatter3d\"}],\"scattercarpet\":[{\"marker\":{\"colorbar\":{\"outlinewidth\":0,\"ticks\":\"\"}},\"type\":\"scattercarpet\"}],\"scattergeo\":[{\"marker\":{\"colorbar\":{\"outlinewidth\":0,\"ticks\":\"\"}},\"type\":\"scattergeo\"}],\"scattergl\":[{\"marker\":{\"colorbar\":{\"outlinewidth\":0,\"ticks\":\"\"}},\"type\":\"scattergl\"}],\"scattermapbox\":[{\"marker\":{\"colorbar\":{\"outlinewidth\":0,\"ticks\":\"\"}},\"type\":\"scattermapbox\"}],\"scatterpolargl\":[{\"marker\":{\"colorbar\":{\"outlinewidth\":0,\"ticks\":\"\"}},\"type\":\"scatterpolargl\"}],\"scatterpolar\":[{\"marker\":{\"colorbar\":{\"outlinewidth\":0,\"ticks\":\"\"}},\"type\":\"scatterpolar\"}],\"scatter\":[{\"marker\":{\"colorbar\":{\"outlinewidth\":0,\"ticks\":\"\"}},\"type\":\"scatter\"}],\"scatterternary\":[{\"marker\":{\"colorbar\":{\"outlinewidth\":0,\"ticks\":\"\"}},\"type\":\"scatterternary\"}],\"surface\":[{\"colorbar\":{\"outlinewidth\":0,\"ticks\":\"\"},\"colorscale\":[[0.0,\"#0d0887\"],[0.1111111111111111,\"#46039f\"],[0.2222222222222222,\"#7201a8\"],[0.3333333333333333,\"#9c179e\"],[0.4444444444444444,\"#bd3786\"],[0.5555555555555556,\"#d8576b\"],[0.6666666666666666,\"#ed7953\"],[0.7777777777777778,\"#fb9f3a\"],[0.8888888888888888,\"#fdca26\"],[1.0,\"#f0f921\"]],\"type\":\"surface\"}],\"table\":[{\"cells\":{\"fill\":{\"color\":\"#EBF0F8\"},\"line\":{\"color\":\"white\"}},\"header\":{\"fill\":{\"color\":\"#C8D4E3\"},\"line\":{\"color\":\"white\"}},\"type\":\"table\"}]},\"layout\":{\"annotationdefaults\":{\"arrowcolor\":\"#2a3f5f\",\"arrowhead\":0,\"arrowwidth\":1},\"autotypenumbers\":\"strict\",\"coloraxis\":{\"colorbar\":{\"outlinewidth\":0,\"ticks\":\"\"}},\"colorscale\":{\"diverging\":[[0,\"#8e0152\"],[0.1,\"#c51b7d\"],[0.2,\"#de77ae\"],[0.3,\"#f1b6da\"],[0.4,\"#fde0ef\"],[0.5,\"#f7f7f7\"],[0.6,\"#e6f5d0\"],[0.7,\"#b8e186\"],[0.8,\"#7fbc41\"],[0.9,\"#4d9221\"],[1,\"#276419\"]],\"sequential\":[[0.0,\"#0d0887\"],[0.1111111111111111,\"#46039f\"],[0.2222222222222222,\"#7201a8\"],[0.3333333333333333,\"#9c179e\"],[0.4444444444444444,\"#bd3786\"],[0.5555555555555556,\"#d8576b\"],[0.6666666666666666,\"#ed7953\"],[0.7777777777777778,\"#fb9f3a\"],[0.8888888888888888,\"#fdca26\"],[1.0,\"#f0f921\"]],\"sequentialminus\":[[0.0,\"#0d0887\"],[0.1111111111111111,\"#46039f\"],[0.2222222222222222,\"#7201a8\"],[0.3333333333333333,\"#9c179e\"],[0.4444444444444444,\"#bd3786\"],[0.5555555555555556,\"#d8576b\"],[0.6666666666666666,\"#ed7953\"],[0.7777777777777778,\"#fb9f3a\"],[0.8888888888888888,\"#fdca26\"],[1.0,\"#f0f921\"]]},\"colorway\":[\"#636efa\",\"#EF553B\",\"#00cc96\",\"#ab63fa\",\"#FFA15A\",\"#19d3f3\",\"#FF6692\",\"#B6E880\",\"#FF97FF\",\"#FECB52\"],\"font\":{\"color\":\"#2a3f5f\"},\"geo\":{\"bgcolor\":\"white\",\"lakecolor\":\"white\",\"landcolor\":\"#E5ECF6\",\"showlakes\":true,\"showland\":true,\"subunitcolor\":\"white\"},\"hoverlabel\":{\"align\":\"left\"},\"hovermode\":\"closest\",\"mapbox\":{\"style\":\"light\"},\"paper_bgcolor\":\"white\",\"plot_bgcolor\":\"#E5ECF6\",\"polar\":{\"angularaxis\":{\"gridcolor\":\"white\",\"linecolor\":\"white\",\"ticks\":\"\"},\"bgcolor\":\"#E5ECF6\",\"radialaxis\":{\"gridcolor\":\"white\",\"linecolor\":\"white\",\"ticks\":\"\"}},\"scene\":{\"xaxis\":{\"backgroundcolor\":\"#E5ECF6\",\"gridcolor\":\"white\",\"gridwidth\":2,\"linecolor\":\"white\",\"showbackground\":true,\"ticks\":\"\",\"zerolinecolor\":\"white\"},\"yaxis\":{\"backgroundcolor\":\"#E5ECF6\",\"gridcolor\":\"white\",\"gridwidth\":2,\"linecolor\":\"white\",\"showbackground\":true,\"ticks\":\"\",\"zerolinecolor\":\"white\"},\"zaxis\":{\"backgroundcolor\":\"#E5ECF6\",\"gridcolor\":\"white\",\"gridwidth\":2,\"linecolor\":\"white\",\"showbackground\":true,\"ticks\":\"\",\"zerolinecolor\":\"white\"}},\"shapedefaults\":{\"line\":{\"color\":\"#2a3f5f\"}},\"ternary\":{\"aaxis\":{\"gridcolor\":\"white\",\"linecolor\":\"white\",\"ticks\":\"\"},\"baxis\":{\"gridcolor\":\"white\",\"linecolor\":\"white\",\"ticks\":\"\"},\"bgcolor\":\"#E5ECF6\",\"caxis\":{\"gridcolor\":\"white\",\"linecolor\":\"white\",\"ticks\":\"\"}},\"title\":{\"x\":0.05},\"xaxis\":{\"automargin\":true,\"gridcolor\":\"white\",\"linecolor\":\"white\",\"ticks\":\"\",\"title\":{\"standoff\":15},\"zerolinecolor\":\"white\",\"zerolinewidth\":2},\"yaxis\":{\"automargin\":true,\"gridcolor\":\"white\",\"linecolor\":\"white\",\"ticks\":\"\",\"title\":{\"standoff\":15},\"zerolinecolor\":\"white\",\"zerolinewidth\":2}}},\"title\":{\"font\":{\"color\":\"#4D5663\"}},\"xaxis\":{\"gridcolor\":\"#E1E5ED\",\"showgrid\":true,\"tickfont\":{\"color\":\"#4D5663\"},\"title\":{\"font\":{\"color\":\"#4D5663\"},\"text\":\"\"},\"zerolinecolor\":\"#E1E5ED\"},\"yaxis\":{\"gridcolor\":\"#E1E5ED\",\"showgrid\":true,\"tickfont\":{\"color\":\"#4D5663\"},\"title\":{\"font\":{\"color\":\"#4D5663\"},\"text\":\"\"},\"zerolinecolor\":\"#E1E5ED\"}},                        {\"showLink\": true, \"linkText\": \"Export to plot.ly\", \"plotlyServerURL\": \"https://plot.ly\", \"responsive\": true}                    ).then(function(){\n",
       "                            \n",
       "var gd = document.getElementById('49d1b436-6185-4612-85df-ba26240c7bbe');\n",
       "var x = new MutationObserver(function (mutations, observer) {{\n",
       "        var display = window.getComputedStyle(gd).display;\n",
       "        if (!display || display === 'none') {{\n",
       "            console.log([gd, 'removed!']);\n",
       "            Plotly.purge(gd);\n",
       "            observer.disconnect();\n",
       "        }}\n",
       "}});\n",
       "\n",
       "// Listen for the removal of the full notebook cells\n",
       "var notebookContainer = gd.closest('#notebook-container');\n",
       "if (notebookContainer) {{\n",
       "    x.observe(notebookContainer, {childList: true});\n",
       "}}\n",
       "\n",
       "// Listen for the clearing of the current output cell\n",
       "var outputEl = gd.closest('.output');\n",
       "if (outputEl) {{\n",
       "    x.observe(outputEl, {childList: true});\n",
       "}}\n",
       "\n",
       "                        })                };                });            </script>        </div>"
      ]
     },
     "metadata": {},
     "output_type": "display_data"
    }
   ],
   "source": [
    "df.iplot(kind='box')"
   ]
  },
  {
   "cell_type": "code",
   "execution_count": 21,
   "metadata": {},
   "outputs": [
    {
     "data": {
      "text/html": [
       "<div>\n",
       "<style scoped>\n",
       "    .dataframe tbody tr th:only-of-type {\n",
       "        vertical-align: middle;\n",
       "    }\n",
       "\n",
       "    .dataframe tbody tr th {\n",
       "        vertical-align: top;\n",
       "    }\n",
       "\n",
       "    .dataframe thead th {\n",
       "        text-align: right;\n",
       "    }\n",
       "</style>\n",
       "<table border=\"1\" class=\"dataframe\">\n",
       "  <thead>\n",
       "    <tr style=\"text-align: right;\">\n",
       "      <th></th>\n",
       "      <th>x</th>\n",
       "      <th>y</th>\n",
       "      <th>z</th>\n",
       "    </tr>\n",
       "  </thead>\n",
       "  <tbody>\n",
       "    <tr>\n",
       "      <th>0</th>\n",
       "      <td>1</td>\n",
       "      <td>10</td>\n",
       "      <td>5</td>\n",
       "    </tr>\n",
       "    <tr>\n",
       "      <th>1</th>\n",
       "      <td>2</td>\n",
       "      <td>20</td>\n",
       "      <td>4</td>\n",
       "    </tr>\n",
       "    <tr>\n",
       "      <th>2</th>\n",
       "      <td>3</td>\n",
       "      <td>30</td>\n",
       "      <td>3</td>\n",
       "    </tr>\n",
       "    <tr>\n",
       "      <th>3</th>\n",
       "      <td>4</td>\n",
       "      <td>20</td>\n",
       "      <td>2</td>\n",
       "    </tr>\n",
       "    <tr>\n",
       "      <th>4</th>\n",
       "      <td>5</td>\n",
       "      <td>10</td>\n",
       "      <td>1</td>\n",
       "    </tr>\n",
       "  </tbody>\n",
       "</table>\n",
       "</div>"
      ],
      "text/plain": [
       "   x   y  z\n",
       "0  1  10  5\n",
       "1  2  20  4\n",
       "2  3  30  3\n",
       "3  4  20  2\n",
       "4  5  10  1"
      ]
     },
     "execution_count": 21,
     "metadata": {},
     "output_type": "execute_result"
    }
   ],
   "source": [
    "df3 = pd.DataFrame({'x':[1,2,3,4,5], 'y':[10,20,30,20,10], 'z':[5,4,3,2,1]})\n",
    "df3"
   ]
  },
  {
   "cell_type": "code",
   "execution_count": 22,
   "metadata": {},
   "outputs": [
    {
     "data": {
      "application/vnd.plotly.v1+json": {
       "config": {
        "linkText": "Export to plot.ly",
        "plotlyServerURL": "https://plot.ly",
        "showLink": true
       },
       "data": [
        {
         "colorscale": [
          [
           0,
           "rgb(255, 153, 51)"
          ],
          [
           0.1111111111111111,
           "rgb(55, 128, 191)"
          ],
          [
           0.2222222222222222,
           "rgb(50, 171, 96)"
          ],
          [
           0.3333333333333333,
           "rgb(128, 0, 128)"
          ],
          [
           0.4444444444444444,
           "rgb(219, 64, 82)"
          ],
          [
           0.5555555555555556,
           "rgb(0, 128, 128)"
          ],
          [
           0.6666666666666666,
           "rgb(255, 255, 51)"
          ],
          [
           0.7777777777777778,
           "rgb(128, 128, 0)"
          ],
          [
           0.8888888888888888,
           "rgb(251, 128, 114)"
          ],
          [
           1,
           "rgb(128, 177, 211)"
          ]
         ],
         "type": "surface",
         "x": [
          0,
          1,
          2,
          3,
          4
         ],
         "y": [
          "x",
          "y",
          "z"
         ],
         "z": [
          [
           1,
           2,
           3,
           4,
           5
          ],
          [
           10,
           20,
           30,
           20,
           10
          ],
          [
           5,
           4,
           3,
           2,
           1
          ]
         ]
        }
       ],
       "layout": {
        "legend": {
         "bgcolor": "#F5F6F9",
         "font": {
          "color": "#4D5663"
         }
        },
        "paper_bgcolor": "#F5F6F9",
        "plot_bgcolor": "#F5F6F9",
        "template": {
         "data": {
          "bar": [
           {
            "error_x": {
             "color": "#2a3f5f"
            },
            "error_y": {
             "color": "#2a3f5f"
            },
            "marker": {
             "line": {
              "color": "#E5ECF6",
              "width": 0.5
             },
             "pattern": {
              "fillmode": "overlay",
              "size": 10,
              "solidity": 0.2
             }
            },
            "type": "bar"
           }
          ],
          "barpolar": [
           {
            "marker": {
             "line": {
              "color": "#E5ECF6",
              "width": 0.5
             },
             "pattern": {
              "fillmode": "overlay",
              "size": 10,
              "solidity": 0.2
             }
            },
            "type": "barpolar"
           }
          ],
          "carpet": [
           {
            "aaxis": {
             "endlinecolor": "#2a3f5f",
             "gridcolor": "white",
             "linecolor": "white",
             "minorgridcolor": "white",
             "startlinecolor": "#2a3f5f"
            },
            "baxis": {
             "endlinecolor": "#2a3f5f",
             "gridcolor": "white",
             "linecolor": "white",
             "minorgridcolor": "white",
             "startlinecolor": "#2a3f5f"
            },
            "type": "carpet"
           }
          ],
          "choropleth": [
           {
            "colorbar": {
             "outlinewidth": 0,
             "ticks": ""
            },
            "type": "choropleth"
           }
          ],
          "contour": [
           {
            "colorbar": {
             "outlinewidth": 0,
             "ticks": ""
            },
            "colorscale": [
             [
              0,
              "#0d0887"
             ],
             [
              0.1111111111111111,
              "#46039f"
             ],
             [
              0.2222222222222222,
              "#7201a8"
             ],
             [
              0.3333333333333333,
              "#9c179e"
             ],
             [
              0.4444444444444444,
              "#bd3786"
             ],
             [
              0.5555555555555556,
              "#d8576b"
             ],
             [
              0.6666666666666666,
              "#ed7953"
             ],
             [
              0.7777777777777778,
              "#fb9f3a"
             ],
             [
              0.8888888888888888,
              "#fdca26"
             ],
             [
              1,
              "#f0f921"
             ]
            ],
            "type": "contour"
           }
          ],
          "contourcarpet": [
           {
            "colorbar": {
             "outlinewidth": 0,
             "ticks": ""
            },
            "type": "contourcarpet"
           }
          ],
          "heatmap": [
           {
            "colorbar": {
             "outlinewidth": 0,
             "ticks": ""
            },
            "colorscale": [
             [
              0,
              "#0d0887"
             ],
             [
              0.1111111111111111,
              "#46039f"
             ],
             [
              0.2222222222222222,
              "#7201a8"
             ],
             [
              0.3333333333333333,
              "#9c179e"
             ],
             [
              0.4444444444444444,
              "#bd3786"
             ],
             [
              0.5555555555555556,
              "#d8576b"
             ],
             [
              0.6666666666666666,
              "#ed7953"
             ],
             [
              0.7777777777777778,
              "#fb9f3a"
             ],
             [
              0.8888888888888888,
              "#fdca26"
             ],
             [
              1,
              "#f0f921"
             ]
            ],
            "type": "heatmap"
           }
          ],
          "heatmapgl": [
           {
            "colorbar": {
             "outlinewidth": 0,
             "ticks": ""
            },
            "colorscale": [
             [
              0,
              "#0d0887"
             ],
             [
              0.1111111111111111,
              "#46039f"
             ],
             [
              0.2222222222222222,
              "#7201a8"
             ],
             [
              0.3333333333333333,
              "#9c179e"
             ],
             [
              0.4444444444444444,
              "#bd3786"
             ],
             [
              0.5555555555555556,
              "#d8576b"
             ],
             [
              0.6666666666666666,
              "#ed7953"
             ],
             [
              0.7777777777777778,
              "#fb9f3a"
             ],
             [
              0.8888888888888888,
              "#fdca26"
             ],
             [
              1,
              "#f0f921"
             ]
            ],
            "type": "heatmapgl"
           }
          ],
          "histogram": [
           {
            "marker": {
             "pattern": {
              "fillmode": "overlay",
              "size": 10,
              "solidity": 0.2
             }
            },
            "type": "histogram"
           }
          ],
          "histogram2d": [
           {
            "colorbar": {
             "outlinewidth": 0,
             "ticks": ""
            },
            "colorscale": [
             [
              0,
              "#0d0887"
             ],
             [
              0.1111111111111111,
              "#46039f"
             ],
             [
              0.2222222222222222,
              "#7201a8"
             ],
             [
              0.3333333333333333,
              "#9c179e"
             ],
             [
              0.4444444444444444,
              "#bd3786"
             ],
             [
              0.5555555555555556,
              "#d8576b"
             ],
             [
              0.6666666666666666,
              "#ed7953"
             ],
             [
              0.7777777777777778,
              "#fb9f3a"
             ],
             [
              0.8888888888888888,
              "#fdca26"
             ],
             [
              1,
              "#f0f921"
             ]
            ],
            "type": "histogram2d"
           }
          ],
          "histogram2dcontour": [
           {
            "colorbar": {
             "outlinewidth": 0,
             "ticks": ""
            },
            "colorscale": [
             [
              0,
              "#0d0887"
             ],
             [
              0.1111111111111111,
              "#46039f"
             ],
             [
              0.2222222222222222,
              "#7201a8"
             ],
             [
              0.3333333333333333,
              "#9c179e"
             ],
             [
              0.4444444444444444,
              "#bd3786"
             ],
             [
              0.5555555555555556,
              "#d8576b"
             ],
             [
              0.6666666666666666,
              "#ed7953"
             ],
             [
              0.7777777777777778,
              "#fb9f3a"
             ],
             [
              0.8888888888888888,
              "#fdca26"
             ],
             [
              1,
              "#f0f921"
             ]
            ],
            "type": "histogram2dcontour"
           }
          ],
          "mesh3d": [
           {
            "colorbar": {
             "outlinewidth": 0,
             "ticks": ""
            },
            "type": "mesh3d"
           }
          ],
          "parcoords": [
           {
            "line": {
             "colorbar": {
              "outlinewidth": 0,
              "ticks": ""
             }
            },
            "type": "parcoords"
           }
          ],
          "pie": [
           {
            "automargin": true,
            "type": "pie"
           }
          ],
          "scatter": [
           {
            "marker": {
             "colorbar": {
              "outlinewidth": 0,
              "ticks": ""
             }
            },
            "type": "scatter"
           }
          ],
          "scatter3d": [
           {
            "line": {
             "colorbar": {
              "outlinewidth": 0,
              "ticks": ""
             }
            },
            "marker": {
             "colorbar": {
              "outlinewidth": 0,
              "ticks": ""
             }
            },
            "type": "scatter3d"
           }
          ],
          "scattercarpet": [
           {
            "marker": {
             "colorbar": {
              "outlinewidth": 0,
              "ticks": ""
             }
            },
            "type": "scattercarpet"
           }
          ],
          "scattergeo": [
           {
            "marker": {
             "colorbar": {
              "outlinewidth": 0,
              "ticks": ""
             }
            },
            "type": "scattergeo"
           }
          ],
          "scattergl": [
           {
            "marker": {
             "colorbar": {
              "outlinewidth": 0,
              "ticks": ""
             }
            },
            "type": "scattergl"
           }
          ],
          "scattermapbox": [
           {
            "marker": {
             "colorbar": {
              "outlinewidth": 0,
              "ticks": ""
             }
            },
            "type": "scattermapbox"
           }
          ],
          "scatterpolar": [
           {
            "marker": {
             "colorbar": {
              "outlinewidth": 0,
              "ticks": ""
             }
            },
            "type": "scatterpolar"
           }
          ],
          "scatterpolargl": [
           {
            "marker": {
             "colorbar": {
              "outlinewidth": 0,
              "ticks": ""
             }
            },
            "type": "scatterpolargl"
           }
          ],
          "scatterternary": [
           {
            "marker": {
             "colorbar": {
              "outlinewidth": 0,
              "ticks": ""
             }
            },
            "type": "scatterternary"
           }
          ],
          "surface": [
           {
            "colorbar": {
             "outlinewidth": 0,
             "ticks": ""
            },
            "colorscale": [
             [
              0,
              "#0d0887"
             ],
             [
              0.1111111111111111,
              "#46039f"
             ],
             [
              0.2222222222222222,
              "#7201a8"
             ],
             [
              0.3333333333333333,
              "#9c179e"
             ],
             [
              0.4444444444444444,
              "#bd3786"
             ],
             [
              0.5555555555555556,
              "#d8576b"
             ],
             [
              0.6666666666666666,
              "#ed7953"
             ],
             [
              0.7777777777777778,
              "#fb9f3a"
             ],
             [
              0.8888888888888888,
              "#fdca26"
             ],
             [
              1,
              "#f0f921"
             ]
            ],
            "type": "surface"
           }
          ],
          "table": [
           {
            "cells": {
             "fill": {
              "color": "#EBF0F8"
             },
             "line": {
              "color": "white"
             }
            },
            "header": {
             "fill": {
              "color": "#C8D4E3"
             },
             "line": {
              "color": "white"
             }
            },
            "type": "table"
           }
          ]
         },
         "layout": {
          "annotationdefaults": {
           "arrowcolor": "#2a3f5f",
           "arrowhead": 0,
           "arrowwidth": 1
          },
          "autotypenumbers": "strict",
          "coloraxis": {
           "colorbar": {
            "outlinewidth": 0,
            "ticks": ""
           }
          },
          "colorscale": {
           "diverging": [
            [
             0,
             "#8e0152"
            ],
            [
             0.1,
             "#c51b7d"
            ],
            [
             0.2,
             "#de77ae"
            ],
            [
             0.3,
             "#f1b6da"
            ],
            [
             0.4,
             "#fde0ef"
            ],
            [
             0.5,
             "#f7f7f7"
            ],
            [
             0.6,
             "#e6f5d0"
            ],
            [
             0.7,
             "#b8e186"
            ],
            [
             0.8,
             "#7fbc41"
            ],
            [
             0.9,
             "#4d9221"
            ],
            [
             1,
             "#276419"
            ]
           ],
           "sequential": [
            [
             0,
             "#0d0887"
            ],
            [
             0.1111111111111111,
             "#46039f"
            ],
            [
             0.2222222222222222,
             "#7201a8"
            ],
            [
             0.3333333333333333,
             "#9c179e"
            ],
            [
             0.4444444444444444,
             "#bd3786"
            ],
            [
             0.5555555555555556,
             "#d8576b"
            ],
            [
             0.6666666666666666,
             "#ed7953"
            ],
            [
             0.7777777777777778,
             "#fb9f3a"
            ],
            [
             0.8888888888888888,
             "#fdca26"
            ],
            [
             1,
             "#f0f921"
            ]
           ],
           "sequentialminus": [
            [
             0,
             "#0d0887"
            ],
            [
             0.1111111111111111,
             "#46039f"
            ],
            [
             0.2222222222222222,
             "#7201a8"
            ],
            [
             0.3333333333333333,
             "#9c179e"
            ],
            [
             0.4444444444444444,
             "#bd3786"
            ],
            [
             0.5555555555555556,
             "#d8576b"
            ],
            [
             0.6666666666666666,
             "#ed7953"
            ],
            [
             0.7777777777777778,
             "#fb9f3a"
            ],
            [
             0.8888888888888888,
             "#fdca26"
            ],
            [
             1,
             "#f0f921"
            ]
           ]
          },
          "colorway": [
           "#636efa",
           "#EF553B",
           "#00cc96",
           "#ab63fa",
           "#FFA15A",
           "#19d3f3",
           "#FF6692",
           "#B6E880",
           "#FF97FF",
           "#FECB52"
          ],
          "font": {
           "color": "#2a3f5f"
          },
          "geo": {
           "bgcolor": "white",
           "lakecolor": "white",
           "landcolor": "#E5ECF6",
           "showlakes": true,
           "showland": true,
           "subunitcolor": "white"
          },
          "hoverlabel": {
           "align": "left"
          },
          "hovermode": "closest",
          "mapbox": {
           "style": "light"
          },
          "paper_bgcolor": "white",
          "plot_bgcolor": "#E5ECF6",
          "polar": {
           "angularaxis": {
            "gridcolor": "white",
            "linecolor": "white",
            "ticks": ""
           },
           "bgcolor": "#E5ECF6",
           "radialaxis": {
            "gridcolor": "white",
            "linecolor": "white",
            "ticks": ""
           }
          },
          "scene": {
           "xaxis": {
            "backgroundcolor": "#E5ECF6",
            "gridcolor": "white",
            "gridwidth": 2,
            "linecolor": "white",
            "showbackground": true,
            "ticks": "",
            "zerolinecolor": "white"
           },
           "yaxis": {
            "backgroundcolor": "#E5ECF6",
            "gridcolor": "white",
            "gridwidth": 2,
            "linecolor": "white",
            "showbackground": true,
            "ticks": "",
            "zerolinecolor": "white"
           },
           "zaxis": {
            "backgroundcolor": "#E5ECF6",
            "gridcolor": "white",
            "gridwidth": 2,
            "linecolor": "white",
            "showbackground": true,
            "ticks": "",
            "zerolinecolor": "white"
           }
          },
          "shapedefaults": {
           "line": {
            "color": "#2a3f5f"
           }
          },
          "ternary": {
           "aaxis": {
            "gridcolor": "white",
            "linecolor": "white",
            "ticks": ""
           },
           "baxis": {
            "gridcolor": "white",
            "linecolor": "white",
            "ticks": ""
           },
           "bgcolor": "#E5ECF6",
           "caxis": {
            "gridcolor": "white",
            "linecolor": "white",
            "ticks": ""
           }
          },
          "title": {
           "x": 0.05
          },
          "xaxis": {
           "automargin": true,
           "gridcolor": "white",
           "linecolor": "white",
           "ticks": "",
           "title": {
            "standoff": 15
           },
           "zerolinecolor": "white",
           "zerolinewidth": 2
          },
          "yaxis": {
           "automargin": true,
           "gridcolor": "white",
           "linecolor": "white",
           "ticks": "",
           "title": {
            "standoff": 15
           },
           "zerolinecolor": "white",
           "zerolinewidth": 2
          }
         }
        },
        "title": {
         "font": {
          "color": "#4D5663"
         }
        },
        "xaxis": {
         "gridcolor": "#E1E5ED",
         "showgrid": true,
         "tickfont": {
          "color": "#4D5663"
         },
         "title": {
          "font": {
           "color": "#4D5663"
          },
          "text": ""
         },
         "zerolinecolor": "#E1E5ED"
        },
        "yaxis": {
         "gridcolor": "#E1E5ED",
         "showgrid": true,
         "tickfont": {
          "color": "#4D5663"
         },
         "title": {
          "font": {
           "color": "#4D5663"
          },
          "text": ""
         },
         "zerolinecolor": "#E1E5ED"
        }
       }
      },
      "text/html": [
       "<div>                            <div id=\"432c6c9b-5c8a-47d0-a19c-72ef8c266874\" class=\"plotly-graph-div\" style=\"height:525px; width:100%;\"></div>            <script type=\"text/javascript\">                require([\"plotly\"], function(Plotly) {                    window.PLOTLYENV=window.PLOTLYENV || {};\n",
       "                    window.PLOTLYENV.BASE_URL='https://plot.ly';                                    if (document.getElementById(\"432c6c9b-5c8a-47d0-a19c-72ef8c266874\")) {                    Plotly.newPlot(                        \"432c6c9b-5c8a-47d0-a19c-72ef8c266874\",                        [{\"colorscale\":[[0.0,\"rgb(255, 153, 51)\"],[0.1111111111111111,\"rgb(55, 128, 191)\"],[0.2222222222222222,\"rgb(50, 171, 96)\"],[0.3333333333333333,\"rgb(128, 0, 128)\"],[0.4444444444444444,\"rgb(219, 64, 82)\"],[0.5555555555555556,\"rgb(0, 128, 128)\"],[0.6666666666666666,\"rgb(255, 255, 51)\"],[0.7777777777777778,\"rgb(128, 128, 0)\"],[0.8888888888888888,\"rgb(251, 128, 114)\"],[1.0,\"rgb(128, 177, 211)\"]],\"x\":[0,1,2,3,4],\"y\":[\"x\",\"y\",\"z\"],\"z\":[[1,2,3,4,5],[10,20,30,20,10],[5,4,3,2,1]],\"type\":\"surface\"}],                        {\"legend\":{\"bgcolor\":\"#F5F6F9\",\"font\":{\"color\":\"#4D5663\"}},\"paper_bgcolor\":\"#F5F6F9\",\"plot_bgcolor\":\"#F5F6F9\",\"template\":{\"data\":{\"barpolar\":[{\"marker\":{\"line\":{\"color\":\"#E5ECF6\",\"width\":0.5},\"pattern\":{\"fillmode\":\"overlay\",\"size\":10,\"solidity\":0.2}},\"type\":\"barpolar\"}],\"bar\":[{\"error_x\":{\"color\":\"#2a3f5f\"},\"error_y\":{\"color\":\"#2a3f5f\"},\"marker\":{\"line\":{\"color\":\"#E5ECF6\",\"width\":0.5},\"pattern\":{\"fillmode\":\"overlay\",\"size\":10,\"solidity\":0.2}},\"type\":\"bar\"}],\"carpet\":[{\"aaxis\":{\"endlinecolor\":\"#2a3f5f\",\"gridcolor\":\"white\",\"linecolor\":\"white\",\"minorgridcolor\":\"white\",\"startlinecolor\":\"#2a3f5f\"},\"baxis\":{\"endlinecolor\":\"#2a3f5f\",\"gridcolor\":\"white\",\"linecolor\":\"white\",\"minorgridcolor\":\"white\",\"startlinecolor\":\"#2a3f5f\"},\"type\":\"carpet\"}],\"choropleth\":[{\"colorbar\":{\"outlinewidth\":0,\"ticks\":\"\"},\"type\":\"choropleth\"}],\"contourcarpet\":[{\"colorbar\":{\"outlinewidth\":0,\"ticks\":\"\"},\"type\":\"contourcarpet\"}],\"contour\":[{\"colorbar\":{\"outlinewidth\":0,\"ticks\":\"\"},\"colorscale\":[[0.0,\"#0d0887\"],[0.1111111111111111,\"#46039f\"],[0.2222222222222222,\"#7201a8\"],[0.3333333333333333,\"#9c179e\"],[0.4444444444444444,\"#bd3786\"],[0.5555555555555556,\"#d8576b\"],[0.6666666666666666,\"#ed7953\"],[0.7777777777777778,\"#fb9f3a\"],[0.8888888888888888,\"#fdca26\"],[1.0,\"#f0f921\"]],\"type\":\"contour\"}],\"heatmapgl\":[{\"colorbar\":{\"outlinewidth\":0,\"ticks\":\"\"},\"colorscale\":[[0.0,\"#0d0887\"],[0.1111111111111111,\"#46039f\"],[0.2222222222222222,\"#7201a8\"],[0.3333333333333333,\"#9c179e\"],[0.4444444444444444,\"#bd3786\"],[0.5555555555555556,\"#d8576b\"],[0.6666666666666666,\"#ed7953\"],[0.7777777777777778,\"#fb9f3a\"],[0.8888888888888888,\"#fdca26\"],[1.0,\"#f0f921\"]],\"type\":\"heatmapgl\"}],\"heatmap\":[{\"colorbar\":{\"outlinewidth\":0,\"ticks\":\"\"},\"colorscale\":[[0.0,\"#0d0887\"],[0.1111111111111111,\"#46039f\"],[0.2222222222222222,\"#7201a8\"],[0.3333333333333333,\"#9c179e\"],[0.4444444444444444,\"#bd3786\"],[0.5555555555555556,\"#d8576b\"],[0.6666666666666666,\"#ed7953\"],[0.7777777777777778,\"#fb9f3a\"],[0.8888888888888888,\"#fdca26\"],[1.0,\"#f0f921\"]],\"type\":\"heatmap\"}],\"histogram2dcontour\":[{\"colorbar\":{\"outlinewidth\":0,\"ticks\":\"\"},\"colorscale\":[[0.0,\"#0d0887\"],[0.1111111111111111,\"#46039f\"],[0.2222222222222222,\"#7201a8\"],[0.3333333333333333,\"#9c179e\"],[0.4444444444444444,\"#bd3786\"],[0.5555555555555556,\"#d8576b\"],[0.6666666666666666,\"#ed7953\"],[0.7777777777777778,\"#fb9f3a\"],[0.8888888888888888,\"#fdca26\"],[1.0,\"#f0f921\"]],\"type\":\"histogram2dcontour\"}],\"histogram2d\":[{\"colorbar\":{\"outlinewidth\":0,\"ticks\":\"\"},\"colorscale\":[[0.0,\"#0d0887\"],[0.1111111111111111,\"#46039f\"],[0.2222222222222222,\"#7201a8\"],[0.3333333333333333,\"#9c179e\"],[0.4444444444444444,\"#bd3786\"],[0.5555555555555556,\"#d8576b\"],[0.6666666666666666,\"#ed7953\"],[0.7777777777777778,\"#fb9f3a\"],[0.8888888888888888,\"#fdca26\"],[1.0,\"#f0f921\"]],\"type\":\"histogram2d\"}],\"histogram\":[{\"marker\":{\"pattern\":{\"fillmode\":\"overlay\",\"size\":10,\"solidity\":0.2}},\"type\":\"histogram\"}],\"mesh3d\":[{\"colorbar\":{\"outlinewidth\":0,\"ticks\":\"\"},\"type\":\"mesh3d\"}],\"parcoords\":[{\"line\":{\"colorbar\":{\"outlinewidth\":0,\"ticks\":\"\"}},\"type\":\"parcoords\"}],\"pie\":[{\"automargin\":true,\"type\":\"pie\"}],\"scatter3d\":[{\"line\":{\"colorbar\":{\"outlinewidth\":0,\"ticks\":\"\"}},\"marker\":{\"colorbar\":{\"outlinewidth\":0,\"ticks\":\"\"}},\"type\":\"scatter3d\"}],\"scattercarpet\":[{\"marker\":{\"colorbar\":{\"outlinewidth\":0,\"ticks\":\"\"}},\"type\":\"scattercarpet\"}],\"scattergeo\":[{\"marker\":{\"colorbar\":{\"outlinewidth\":0,\"ticks\":\"\"}},\"type\":\"scattergeo\"}],\"scattergl\":[{\"marker\":{\"colorbar\":{\"outlinewidth\":0,\"ticks\":\"\"}},\"type\":\"scattergl\"}],\"scattermapbox\":[{\"marker\":{\"colorbar\":{\"outlinewidth\":0,\"ticks\":\"\"}},\"type\":\"scattermapbox\"}],\"scatterpolargl\":[{\"marker\":{\"colorbar\":{\"outlinewidth\":0,\"ticks\":\"\"}},\"type\":\"scatterpolargl\"}],\"scatterpolar\":[{\"marker\":{\"colorbar\":{\"outlinewidth\":0,\"ticks\":\"\"}},\"type\":\"scatterpolar\"}],\"scatter\":[{\"marker\":{\"colorbar\":{\"outlinewidth\":0,\"ticks\":\"\"}},\"type\":\"scatter\"}],\"scatterternary\":[{\"marker\":{\"colorbar\":{\"outlinewidth\":0,\"ticks\":\"\"}},\"type\":\"scatterternary\"}],\"surface\":[{\"colorbar\":{\"outlinewidth\":0,\"ticks\":\"\"},\"colorscale\":[[0.0,\"#0d0887\"],[0.1111111111111111,\"#46039f\"],[0.2222222222222222,\"#7201a8\"],[0.3333333333333333,\"#9c179e\"],[0.4444444444444444,\"#bd3786\"],[0.5555555555555556,\"#d8576b\"],[0.6666666666666666,\"#ed7953\"],[0.7777777777777778,\"#fb9f3a\"],[0.8888888888888888,\"#fdca26\"],[1.0,\"#f0f921\"]],\"type\":\"surface\"}],\"table\":[{\"cells\":{\"fill\":{\"color\":\"#EBF0F8\"},\"line\":{\"color\":\"white\"}},\"header\":{\"fill\":{\"color\":\"#C8D4E3\"},\"line\":{\"color\":\"white\"}},\"type\":\"table\"}]},\"layout\":{\"annotationdefaults\":{\"arrowcolor\":\"#2a3f5f\",\"arrowhead\":0,\"arrowwidth\":1},\"autotypenumbers\":\"strict\",\"coloraxis\":{\"colorbar\":{\"outlinewidth\":0,\"ticks\":\"\"}},\"colorscale\":{\"diverging\":[[0,\"#8e0152\"],[0.1,\"#c51b7d\"],[0.2,\"#de77ae\"],[0.3,\"#f1b6da\"],[0.4,\"#fde0ef\"],[0.5,\"#f7f7f7\"],[0.6,\"#e6f5d0\"],[0.7,\"#b8e186\"],[0.8,\"#7fbc41\"],[0.9,\"#4d9221\"],[1,\"#276419\"]],\"sequential\":[[0.0,\"#0d0887\"],[0.1111111111111111,\"#46039f\"],[0.2222222222222222,\"#7201a8\"],[0.3333333333333333,\"#9c179e\"],[0.4444444444444444,\"#bd3786\"],[0.5555555555555556,\"#d8576b\"],[0.6666666666666666,\"#ed7953\"],[0.7777777777777778,\"#fb9f3a\"],[0.8888888888888888,\"#fdca26\"],[1.0,\"#f0f921\"]],\"sequentialminus\":[[0.0,\"#0d0887\"],[0.1111111111111111,\"#46039f\"],[0.2222222222222222,\"#7201a8\"],[0.3333333333333333,\"#9c179e\"],[0.4444444444444444,\"#bd3786\"],[0.5555555555555556,\"#d8576b\"],[0.6666666666666666,\"#ed7953\"],[0.7777777777777778,\"#fb9f3a\"],[0.8888888888888888,\"#fdca26\"],[1.0,\"#f0f921\"]]},\"colorway\":[\"#636efa\",\"#EF553B\",\"#00cc96\",\"#ab63fa\",\"#FFA15A\",\"#19d3f3\",\"#FF6692\",\"#B6E880\",\"#FF97FF\",\"#FECB52\"],\"font\":{\"color\":\"#2a3f5f\"},\"geo\":{\"bgcolor\":\"white\",\"lakecolor\":\"white\",\"landcolor\":\"#E5ECF6\",\"showlakes\":true,\"showland\":true,\"subunitcolor\":\"white\"},\"hoverlabel\":{\"align\":\"left\"},\"hovermode\":\"closest\",\"mapbox\":{\"style\":\"light\"},\"paper_bgcolor\":\"white\",\"plot_bgcolor\":\"#E5ECF6\",\"polar\":{\"angularaxis\":{\"gridcolor\":\"white\",\"linecolor\":\"white\",\"ticks\":\"\"},\"bgcolor\":\"#E5ECF6\",\"radialaxis\":{\"gridcolor\":\"white\",\"linecolor\":\"white\",\"ticks\":\"\"}},\"scene\":{\"xaxis\":{\"backgroundcolor\":\"#E5ECF6\",\"gridcolor\":\"white\",\"gridwidth\":2,\"linecolor\":\"white\",\"showbackground\":true,\"ticks\":\"\",\"zerolinecolor\":\"white\"},\"yaxis\":{\"backgroundcolor\":\"#E5ECF6\",\"gridcolor\":\"white\",\"gridwidth\":2,\"linecolor\":\"white\",\"showbackground\":true,\"ticks\":\"\",\"zerolinecolor\":\"white\"},\"zaxis\":{\"backgroundcolor\":\"#E5ECF6\",\"gridcolor\":\"white\",\"gridwidth\":2,\"linecolor\":\"white\",\"showbackground\":true,\"ticks\":\"\",\"zerolinecolor\":\"white\"}},\"shapedefaults\":{\"line\":{\"color\":\"#2a3f5f\"}},\"ternary\":{\"aaxis\":{\"gridcolor\":\"white\",\"linecolor\":\"white\",\"ticks\":\"\"},\"baxis\":{\"gridcolor\":\"white\",\"linecolor\":\"white\",\"ticks\":\"\"},\"bgcolor\":\"#E5ECF6\",\"caxis\":{\"gridcolor\":\"white\",\"linecolor\":\"white\",\"ticks\":\"\"}},\"title\":{\"x\":0.05},\"xaxis\":{\"automargin\":true,\"gridcolor\":\"white\",\"linecolor\":\"white\",\"ticks\":\"\",\"title\":{\"standoff\":15},\"zerolinecolor\":\"white\",\"zerolinewidth\":2},\"yaxis\":{\"automargin\":true,\"gridcolor\":\"white\",\"linecolor\":\"white\",\"ticks\":\"\",\"title\":{\"standoff\":15},\"zerolinecolor\":\"white\",\"zerolinewidth\":2}}},\"title\":{\"font\":{\"color\":\"#4D5663\"}},\"xaxis\":{\"gridcolor\":\"#E1E5ED\",\"showgrid\":true,\"tickfont\":{\"color\":\"#4D5663\"},\"title\":{\"font\":{\"color\":\"#4D5663\"},\"text\":\"\"},\"zerolinecolor\":\"#E1E5ED\"},\"yaxis\":{\"gridcolor\":\"#E1E5ED\",\"showgrid\":true,\"tickfont\":{\"color\":\"#4D5663\"},\"title\":{\"font\":{\"color\":\"#4D5663\"},\"text\":\"\"},\"zerolinecolor\":\"#E1E5ED\"}},                        {\"showLink\": true, \"linkText\": \"Export to plot.ly\", \"plotlyServerURL\": \"https://plot.ly\", \"responsive\": true}                    ).then(function(){\n",
       "                            \n",
       "var gd = document.getElementById('432c6c9b-5c8a-47d0-a19c-72ef8c266874');\n",
       "var x = new MutationObserver(function (mutations, observer) {{\n",
       "        var display = window.getComputedStyle(gd).display;\n",
       "        if (!display || display === 'none') {{\n",
       "            console.log([gd, 'removed!']);\n",
       "            Plotly.purge(gd);\n",
       "            observer.disconnect();\n",
       "        }}\n",
       "}});\n",
       "\n",
       "// Listen for the removal of the full notebook cells\n",
       "var notebookContainer = gd.closest('#notebook-container');\n",
       "if (notebookContainer) {{\n",
       "    x.observe(notebookContainer, {childList: true});\n",
       "}}\n",
       "\n",
       "// Listen for the clearing of the current output cell\n",
       "var outputEl = gd.closest('.output');\n",
       "if (outputEl) {{\n",
       "    x.observe(outputEl, {childList: true});\n",
       "}}\n",
       "\n",
       "                        })                };                });            </script>        </div>"
      ]
     },
     "metadata": {},
     "output_type": "display_data"
    }
   ],
   "source": [
    "df3.iplot(kind='surface')"
   ]
  },
  {
   "cell_type": "code",
   "execution_count": 26,
   "metadata": {},
   "outputs": [
    {
     "data": {
      "application/vnd.plotly.v1+json": {
       "config": {
        "linkText": "Export to plot.ly",
        "plotlyServerURL": "https://plot.ly",
        "showLink": true
       },
       "data": [
        {
         "histfunc": "count",
         "histnorm": "",
         "marker": {
          "color": "rgba(255, 153, 51, 1.0)",
          "line": {
           "color": "#4D5663",
           "width": 1.3
          }
         },
         "name": "A",
         "nbinsx": 20,
         "opacity": 0.8,
         "orientation": "v",
         "type": "histogram",
         "x": [
          -0.5902303025205717,
          -2.2016090086623388,
          0.9688835342587759,
          0.4097477034647505,
          -0.6531516478199042,
          -0.44733786561834193,
          -0.47482840070158566,
          -1.0899258739801267,
          0.018083060890892132,
          0.18640424228172048,
          -1.740262022112669,
          0.07452870131805488,
          -0.9223778158444266,
          -1.9232060232149235,
          0.10735353125742748,
          -1.1850757900063225,
          -0.5497291302848054,
          0.1760346600120734,
          1.0109279491426288,
          -1.8800930869821564,
          0.6818689562292352,
          1.0013136875986148,
          -1.4245497173871668,
          -0.6206539678188364,
          1.7911365866515108,
          0.7238100420108368,
          -0.4204677449441723,
          -2.154777771126477,
          -0.6273457251981394,
          0.1821495912778787,
          -0.06305727171354696,
          -0.3905198512997907,
          0.2528318683594929,
          0.565418190409366,
          0.6450981928783018,
          -0.30807010332343876,
          0.30513862374559486,
          -1.7594021492571972,
          -0.8222574329062964,
          -0.5735086500790288,
          -1.3979738724160686,
          -1.2750186161164196,
          0.6082933112555565,
          -0.6097777886272943,
          0.33734371436621946,
          -0.5417714102437892,
          1.375561863788836,
          2.2056801688936902,
          0.6405306616954853,
          1.4161986423742619,
          -1.0286554899550455,
          -1.4954126636278111,
          1.7433309705860673,
          -0.06255855829844899,
          -1.3254350939260084,
          1.2110743664651629,
          -0.3065195328839513,
          0.728721977199927,
          0.7196156850537774,
          0.17793323956809748,
          -2.1543583642789113,
          0.6110026577153034,
          -0.8926214867297181,
          0.5131829577150304,
          -0.4599291034370993,
          0.5993921592961952,
          -2.5854795386451497,
          -1.5187255713236734,
          -1.5832471980763754,
          -0.8377799538334126,
          -0.8174203926960799,
          -1.0010558563534455,
          -1.529505285845513,
          0.4705944311419757,
          -0.34620452317534356,
          -1.7587041573689515,
          0.9752971676066632,
          1.1613831337131102,
          1.3446457631064839,
          -1.4555509876454251,
          0.4266333975246613,
          -0.4933550509657777,
          -1.0762683955046413,
          -1.1172618918660948,
          -0.8050366057976863,
          -0.8191627336334403,
          2.20208838639601,
          0.8842178450189843,
          2.248450908342995,
          1.263857174507037,
          0.2817469381374268,
          0.8268799558075348,
          0.571564064960558,
          0.19025113238293712,
          -0.5390699541755176,
          1.73433697535019,
          1.2863853747153662,
          0.05423139472195194,
          -1.3151122199680136,
          0.38122217649893086
         ]
        }
       ],
       "layout": {
        "barmode": "overlay",
        "legend": {
         "bgcolor": "#F5F6F9",
         "font": {
          "color": "#4D5663"
         }
        },
        "paper_bgcolor": "#F5F6F9",
        "plot_bgcolor": "#F5F6F9",
        "template": {
         "data": {
          "bar": [
           {
            "error_x": {
             "color": "#2a3f5f"
            },
            "error_y": {
             "color": "#2a3f5f"
            },
            "marker": {
             "line": {
              "color": "#E5ECF6",
              "width": 0.5
             },
             "pattern": {
              "fillmode": "overlay",
              "size": 10,
              "solidity": 0.2
             }
            },
            "type": "bar"
           }
          ],
          "barpolar": [
           {
            "marker": {
             "line": {
              "color": "#E5ECF6",
              "width": 0.5
             },
             "pattern": {
              "fillmode": "overlay",
              "size": 10,
              "solidity": 0.2
             }
            },
            "type": "barpolar"
           }
          ],
          "carpet": [
           {
            "aaxis": {
             "endlinecolor": "#2a3f5f",
             "gridcolor": "white",
             "linecolor": "white",
             "minorgridcolor": "white",
             "startlinecolor": "#2a3f5f"
            },
            "baxis": {
             "endlinecolor": "#2a3f5f",
             "gridcolor": "white",
             "linecolor": "white",
             "minorgridcolor": "white",
             "startlinecolor": "#2a3f5f"
            },
            "type": "carpet"
           }
          ],
          "choropleth": [
           {
            "colorbar": {
             "outlinewidth": 0,
             "ticks": ""
            },
            "type": "choropleth"
           }
          ],
          "contour": [
           {
            "colorbar": {
             "outlinewidth": 0,
             "ticks": ""
            },
            "colorscale": [
             [
              0,
              "#0d0887"
             ],
             [
              0.1111111111111111,
              "#46039f"
             ],
             [
              0.2222222222222222,
              "#7201a8"
             ],
             [
              0.3333333333333333,
              "#9c179e"
             ],
             [
              0.4444444444444444,
              "#bd3786"
             ],
             [
              0.5555555555555556,
              "#d8576b"
             ],
             [
              0.6666666666666666,
              "#ed7953"
             ],
             [
              0.7777777777777778,
              "#fb9f3a"
             ],
             [
              0.8888888888888888,
              "#fdca26"
             ],
             [
              1,
              "#f0f921"
             ]
            ],
            "type": "contour"
           }
          ],
          "contourcarpet": [
           {
            "colorbar": {
             "outlinewidth": 0,
             "ticks": ""
            },
            "type": "contourcarpet"
           }
          ],
          "heatmap": [
           {
            "colorbar": {
             "outlinewidth": 0,
             "ticks": ""
            },
            "colorscale": [
             [
              0,
              "#0d0887"
             ],
             [
              0.1111111111111111,
              "#46039f"
             ],
             [
              0.2222222222222222,
              "#7201a8"
             ],
             [
              0.3333333333333333,
              "#9c179e"
             ],
             [
              0.4444444444444444,
              "#bd3786"
             ],
             [
              0.5555555555555556,
              "#d8576b"
             ],
             [
              0.6666666666666666,
              "#ed7953"
             ],
             [
              0.7777777777777778,
              "#fb9f3a"
             ],
             [
              0.8888888888888888,
              "#fdca26"
             ],
             [
              1,
              "#f0f921"
             ]
            ],
            "type": "heatmap"
           }
          ],
          "heatmapgl": [
           {
            "colorbar": {
             "outlinewidth": 0,
             "ticks": ""
            },
            "colorscale": [
             [
              0,
              "#0d0887"
             ],
             [
              0.1111111111111111,
              "#46039f"
             ],
             [
              0.2222222222222222,
              "#7201a8"
             ],
             [
              0.3333333333333333,
              "#9c179e"
             ],
             [
              0.4444444444444444,
              "#bd3786"
             ],
             [
              0.5555555555555556,
              "#d8576b"
             ],
             [
              0.6666666666666666,
              "#ed7953"
             ],
             [
              0.7777777777777778,
              "#fb9f3a"
             ],
             [
              0.8888888888888888,
              "#fdca26"
             ],
             [
              1,
              "#f0f921"
             ]
            ],
            "type": "heatmapgl"
           }
          ],
          "histogram": [
           {
            "marker": {
             "pattern": {
              "fillmode": "overlay",
              "size": 10,
              "solidity": 0.2
             }
            },
            "type": "histogram"
           }
          ],
          "histogram2d": [
           {
            "colorbar": {
             "outlinewidth": 0,
             "ticks": ""
            },
            "colorscale": [
             [
              0,
              "#0d0887"
             ],
             [
              0.1111111111111111,
              "#46039f"
             ],
             [
              0.2222222222222222,
              "#7201a8"
             ],
             [
              0.3333333333333333,
              "#9c179e"
             ],
             [
              0.4444444444444444,
              "#bd3786"
             ],
             [
              0.5555555555555556,
              "#d8576b"
             ],
             [
              0.6666666666666666,
              "#ed7953"
             ],
             [
              0.7777777777777778,
              "#fb9f3a"
             ],
             [
              0.8888888888888888,
              "#fdca26"
             ],
             [
              1,
              "#f0f921"
             ]
            ],
            "type": "histogram2d"
           }
          ],
          "histogram2dcontour": [
           {
            "colorbar": {
             "outlinewidth": 0,
             "ticks": ""
            },
            "colorscale": [
             [
              0,
              "#0d0887"
             ],
             [
              0.1111111111111111,
              "#46039f"
             ],
             [
              0.2222222222222222,
              "#7201a8"
             ],
             [
              0.3333333333333333,
              "#9c179e"
             ],
             [
              0.4444444444444444,
              "#bd3786"
             ],
             [
              0.5555555555555556,
              "#d8576b"
             ],
             [
              0.6666666666666666,
              "#ed7953"
             ],
             [
              0.7777777777777778,
              "#fb9f3a"
             ],
             [
              0.8888888888888888,
              "#fdca26"
             ],
             [
              1,
              "#f0f921"
             ]
            ],
            "type": "histogram2dcontour"
           }
          ],
          "mesh3d": [
           {
            "colorbar": {
             "outlinewidth": 0,
             "ticks": ""
            },
            "type": "mesh3d"
           }
          ],
          "parcoords": [
           {
            "line": {
             "colorbar": {
              "outlinewidth": 0,
              "ticks": ""
             }
            },
            "type": "parcoords"
           }
          ],
          "pie": [
           {
            "automargin": true,
            "type": "pie"
           }
          ],
          "scatter": [
           {
            "marker": {
             "colorbar": {
              "outlinewidth": 0,
              "ticks": ""
             }
            },
            "type": "scatter"
           }
          ],
          "scatter3d": [
           {
            "line": {
             "colorbar": {
              "outlinewidth": 0,
              "ticks": ""
             }
            },
            "marker": {
             "colorbar": {
              "outlinewidth": 0,
              "ticks": ""
             }
            },
            "type": "scatter3d"
           }
          ],
          "scattercarpet": [
           {
            "marker": {
             "colorbar": {
              "outlinewidth": 0,
              "ticks": ""
             }
            },
            "type": "scattercarpet"
           }
          ],
          "scattergeo": [
           {
            "marker": {
             "colorbar": {
              "outlinewidth": 0,
              "ticks": ""
             }
            },
            "type": "scattergeo"
           }
          ],
          "scattergl": [
           {
            "marker": {
             "colorbar": {
              "outlinewidth": 0,
              "ticks": ""
             }
            },
            "type": "scattergl"
           }
          ],
          "scattermapbox": [
           {
            "marker": {
             "colorbar": {
              "outlinewidth": 0,
              "ticks": ""
             }
            },
            "type": "scattermapbox"
           }
          ],
          "scatterpolar": [
           {
            "marker": {
             "colorbar": {
              "outlinewidth": 0,
              "ticks": ""
             }
            },
            "type": "scatterpolar"
           }
          ],
          "scatterpolargl": [
           {
            "marker": {
             "colorbar": {
              "outlinewidth": 0,
              "ticks": ""
             }
            },
            "type": "scatterpolargl"
           }
          ],
          "scatterternary": [
           {
            "marker": {
             "colorbar": {
              "outlinewidth": 0,
              "ticks": ""
             }
            },
            "type": "scatterternary"
           }
          ],
          "surface": [
           {
            "colorbar": {
             "outlinewidth": 0,
             "ticks": ""
            },
            "colorscale": [
             [
              0,
              "#0d0887"
             ],
             [
              0.1111111111111111,
              "#46039f"
             ],
             [
              0.2222222222222222,
              "#7201a8"
             ],
             [
              0.3333333333333333,
              "#9c179e"
             ],
             [
              0.4444444444444444,
              "#bd3786"
             ],
             [
              0.5555555555555556,
              "#d8576b"
             ],
             [
              0.6666666666666666,
              "#ed7953"
             ],
             [
              0.7777777777777778,
              "#fb9f3a"
             ],
             [
              0.8888888888888888,
              "#fdca26"
             ],
             [
              1,
              "#f0f921"
             ]
            ],
            "type": "surface"
           }
          ],
          "table": [
           {
            "cells": {
             "fill": {
              "color": "#EBF0F8"
             },
             "line": {
              "color": "white"
             }
            },
            "header": {
             "fill": {
              "color": "#C8D4E3"
             },
             "line": {
              "color": "white"
             }
            },
            "type": "table"
           }
          ]
         },
         "layout": {
          "annotationdefaults": {
           "arrowcolor": "#2a3f5f",
           "arrowhead": 0,
           "arrowwidth": 1
          },
          "autotypenumbers": "strict",
          "coloraxis": {
           "colorbar": {
            "outlinewidth": 0,
            "ticks": ""
           }
          },
          "colorscale": {
           "diverging": [
            [
             0,
             "#8e0152"
            ],
            [
             0.1,
             "#c51b7d"
            ],
            [
             0.2,
             "#de77ae"
            ],
            [
             0.3,
             "#f1b6da"
            ],
            [
             0.4,
             "#fde0ef"
            ],
            [
             0.5,
             "#f7f7f7"
            ],
            [
             0.6,
             "#e6f5d0"
            ],
            [
             0.7,
             "#b8e186"
            ],
            [
             0.8,
             "#7fbc41"
            ],
            [
             0.9,
             "#4d9221"
            ],
            [
             1,
             "#276419"
            ]
           ],
           "sequential": [
            [
             0,
             "#0d0887"
            ],
            [
             0.1111111111111111,
             "#46039f"
            ],
            [
             0.2222222222222222,
             "#7201a8"
            ],
            [
             0.3333333333333333,
             "#9c179e"
            ],
            [
             0.4444444444444444,
             "#bd3786"
            ],
            [
             0.5555555555555556,
             "#d8576b"
            ],
            [
             0.6666666666666666,
             "#ed7953"
            ],
            [
             0.7777777777777778,
             "#fb9f3a"
            ],
            [
             0.8888888888888888,
             "#fdca26"
            ],
            [
             1,
             "#f0f921"
            ]
           ],
           "sequentialminus": [
            [
             0,
             "#0d0887"
            ],
            [
             0.1111111111111111,
             "#46039f"
            ],
            [
             0.2222222222222222,
             "#7201a8"
            ],
            [
             0.3333333333333333,
             "#9c179e"
            ],
            [
             0.4444444444444444,
             "#bd3786"
            ],
            [
             0.5555555555555556,
             "#d8576b"
            ],
            [
             0.6666666666666666,
             "#ed7953"
            ],
            [
             0.7777777777777778,
             "#fb9f3a"
            ],
            [
             0.8888888888888888,
             "#fdca26"
            ],
            [
             1,
             "#f0f921"
            ]
           ]
          },
          "colorway": [
           "#636efa",
           "#EF553B",
           "#00cc96",
           "#ab63fa",
           "#FFA15A",
           "#19d3f3",
           "#FF6692",
           "#B6E880",
           "#FF97FF",
           "#FECB52"
          ],
          "font": {
           "color": "#2a3f5f"
          },
          "geo": {
           "bgcolor": "white",
           "lakecolor": "white",
           "landcolor": "#E5ECF6",
           "showlakes": true,
           "showland": true,
           "subunitcolor": "white"
          },
          "hoverlabel": {
           "align": "left"
          },
          "hovermode": "closest",
          "mapbox": {
           "style": "light"
          },
          "paper_bgcolor": "white",
          "plot_bgcolor": "#E5ECF6",
          "polar": {
           "angularaxis": {
            "gridcolor": "white",
            "linecolor": "white",
            "ticks": ""
           },
           "bgcolor": "#E5ECF6",
           "radialaxis": {
            "gridcolor": "white",
            "linecolor": "white",
            "ticks": ""
           }
          },
          "scene": {
           "xaxis": {
            "backgroundcolor": "#E5ECF6",
            "gridcolor": "white",
            "gridwidth": 2,
            "linecolor": "white",
            "showbackground": true,
            "ticks": "",
            "zerolinecolor": "white"
           },
           "yaxis": {
            "backgroundcolor": "#E5ECF6",
            "gridcolor": "white",
            "gridwidth": 2,
            "linecolor": "white",
            "showbackground": true,
            "ticks": "",
            "zerolinecolor": "white"
           },
           "zaxis": {
            "backgroundcolor": "#E5ECF6",
            "gridcolor": "white",
            "gridwidth": 2,
            "linecolor": "white",
            "showbackground": true,
            "ticks": "",
            "zerolinecolor": "white"
           }
          },
          "shapedefaults": {
           "line": {
            "color": "#2a3f5f"
           }
          },
          "ternary": {
           "aaxis": {
            "gridcolor": "white",
            "linecolor": "white",
            "ticks": ""
           },
           "baxis": {
            "gridcolor": "white",
            "linecolor": "white",
            "ticks": ""
           },
           "bgcolor": "#E5ECF6",
           "caxis": {
            "gridcolor": "white",
            "linecolor": "white",
            "ticks": ""
           }
          },
          "title": {
           "x": 0.05
          },
          "xaxis": {
           "automargin": true,
           "gridcolor": "white",
           "linecolor": "white",
           "ticks": "",
           "title": {
            "standoff": 15
           },
           "zerolinecolor": "white",
           "zerolinewidth": 2
          },
          "yaxis": {
           "automargin": true,
           "gridcolor": "white",
           "linecolor": "white",
           "ticks": "",
           "title": {
            "standoff": 15
           },
           "zerolinecolor": "white",
           "zerolinewidth": 2
          }
         }
        },
        "title": {
         "font": {
          "color": "#4D5663"
         }
        },
        "xaxis": {
         "gridcolor": "#E1E5ED",
         "showgrid": true,
         "tickfont": {
          "color": "#4D5663"
         },
         "title": {
          "font": {
           "color": "#4D5663"
          },
          "text": ""
         },
         "zerolinecolor": "#E1E5ED"
        },
        "yaxis": {
         "gridcolor": "#E1E5ED",
         "showgrid": true,
         "tickfont": {
          "color": "#4D5663"
         },
         "title": {
          "font": {
           "color": "#4D5663"
          },
          "text": ""
         },
         "zerolinecolor": "#E1E5ED"
        }
       }
      },
      "text/html": [
       "<div>                            <div id=\"55e714d4-4471-4dfe-97aa-260decc8e19c\" class=\"plotly-graph-div\" style=\"height:525px; width:100%;\"></div>            <script type=\"text/javascript\">                require([\"plotly\"], function(Plotly) {                    window.PLOTLYENV=window.PLOTLYENV || {};\n",
       "                    window.PLOTLYENV.BASE_URL='https://plot.ly';                                    if (document.getElementById(\"55e714d4-4471-4dfe-97aa-260decc8e19c\")) {                    Plotly.newPlot(                        \"55e714d4-4471-4dfe-97aa-260decc8e19c\",                        [{\"histfunc\":\"count\",\"histnorm\":\"\",\"marker\":{\"color\":\"rgba(255, 153, 51, 1.0)\",\"line\":{\"color\":\"#4D5663\",\"width\":1.3}},\"name\":\"A\",\"nbinsx\":20,\"opacity\":0.8,\"orientation\":\"v\",\"x\":[-0.5902303025205717,-2.2016090086623388,0.9688835342587759,0.4097477034647505,-0.6531516478199042,-0.44733786561834193,-0.47482840070158566,-1.0899258739801267,0.018083060890892132,0.18640424228172048,-1.740262022112669,0.07452870131805488,-0.9223778158444266,-1.9232060232149235,0.10735353125742748,-1.1850757900063225,-0.5497291302848054,0.1760346600120734,1.0109279491426288,-1.8800930869821564,0.6818689562292352,1.0013136875986148,-1.4245497173871668,-0.6206539678188364,1.7911365866515108,0.7238100420108368,-0.4204677449441723,-2.154777771126477,-0.6273457251981394,0.1821495912778787,-0.06305727171354696,-0.3905198512997907,0.2528318683594929,0.565418190409366,0.6450981928783018,-0.30807010332343876,0.30513862374559486,-1.7594021492571972,-0.8222574329062964,-0.5735086500790288,-1.3979738724160686,-1.2750186161164196,0.6082933112555565,-0.6097777886272943,0.33734371436621946,-0.5417714102437892,1.375561863788836,2.2056801688936902,0.6405306616954853,1.4161986423742619,-1.0286554899550455,-1.4954126636278111,1.7433309705860673,-0.06255855829844899,-1.3254350939260084,1.2110743664651629,-0.3065195328839513,0.728721977199927,0.7196156850537774,0.17793323956809748,-2.1543583642789113,0.6110026577153034,-0.8926214867297181,0.5131829577150304,-0.4599291034370993,0.5993921592961952,-2.5854795386451497,-1.5187255713236734,-1.5832471980763754,-0.8377799538334126,-0.8174203926960799,-1.0010558563534455,-1.529505285845513,0.4705944311419757,-0.34620452317534356,-1.7587041573689515,0.9752971676066632,1.1613831337131102,1.3446457631064839,-1.4555509876454251,0.4266333975246613,-0.4933550509657777,-1.0762683955046413,-1.1172618918660948,-0.8050366057976863,-0.8191627336334403,2.20208838639601,0.8842178450189843,2.248450908342995,1.263857174507037,0.2817469381374268,0.8268799558075348,0.571564064960558,0.19025113238293712,-0.5390699541755176,1.73433697535019,1.2863853747153662,0.05423139472195194,-1.3151122199680136,0.38122217649893086],\"type\":\"histogram\"}],                        {\"barmode\":\"overlay\",\"legend\":{\"bgcolor\":\"#F5F6F9\",\"font\":{\"color\":\"#4D5663\"}},\"paper_bgcolor\":\"#F5F6F9\",\"plot_bgcolor\":\"#F5F6F9\",\"template\":{\"data\":{\"barpolar\":[{\"marker\":{\"line\":{\"color\":\"#E5ECF6\",\"width\":0.5},\"pattern\":{\"fillmode\":\"overlay\",\"size\":10,\"solidity\":0.2}},\"type\":\"barpolar\"}],\"bar\":[{\"error_x\":{\"color\":\"#2a3f5f\"},\"error_y\":{\"color\":\"#2a3f5f\"},\"marker\":{\"line\":{\"color\":\"#E5ECF6\",\"width\":0.5},\"pattern\":{\"fillmode\":\"overlay\",\"size\":10,\"solidity\":0.2}},\"type\":\"bar\"}],\"carpet\":[{\"aaxis\":{\"endlinecolor\":\"#2a3f5f\",\"gridcolor\":\"white\",\"linecolor\":\"white\",\"minorgridcolor\":\"white\",\"startlinecolor\":\"#2a3f5f\"},\"baxis\":{\"endlinecolor\":\"#2a3f5f\",\"gridcolor\":\"white\",\"linecolor\":\"white\",\"minorgridcolor\":\"white\",\"startlinecolor\":\"#2a3f5f\"},\"type\":\"carpet\"}],\"choropleth\":[{\"colorbar\":{\"outlinewidth\":0,\"ticks\":\"\"},\"type\":\"choropleth\"}],\"contourcarpet\":[{\"colorbar\":{\"outlinewidth\":0,\"ticks\":\"\"},\"type\":\"contourcarpet\"}],\"contour\":[{\"colorbar\":{\"outlinewidth\":0,\"ticks\":\"\"},\"colorscale\":[[0.0,\"#0d0887\"],[0.1111111111111111,\"#46039f\"],[0.2222222222222222,\"#7201a8\"],[0.3333333333333333,\"#9c179e\"],[0.4444444444444444,\"#bd3786\"],[0.5555555555555556,\"#d8576b\"],[0.6666666666666666,\"#ed7953\"],[0.7777777777777778,\"#fb9f3a\"],[0.8888888888888888,\"#fdca26\"],[1.0,\"#f0f921\"]],\"type\":\"contour\"}],\"heatmapgl\":[{\"colorbar\":{\"outlinewidth\":0,\"ticks\":\"\"},\"colorscale\":[[0.0,\"#0d0887\"],[0.1111111111111111,\"#46039f\"],[0.2222222222222222,\"#7201a8\"],[0.3333333333333333,\"#9c179e\"],[0.4444444444444444,\"#bd3786\"],[0.5555555555555556,\"#d8576b\"],[0.6666666666666666,\"#ed7953\"],[0.7777777777777778,\"#fb9f3a\"],[0.8888888888888888,\"#fdca26\"],[1.0,\"#f0f921\"]],\"type\":\"heatmapgl\"}],\"heatmap\":[{\"colorbar\":{\"outlinewidth\":0,\"ticks\":\"\"},\"colorscale\":[[0.0,\"#0d0887\"],[0.1111111111111111,\"#46039f\"],[0.2222222222222222,\"#7201a8\"],[0.3333333333333333,\"#9c179e\"],[0.4444444444444444,\"#bd3786\"],[0.5555555555555556,\"#d8576b\"],[0.6666666666666666,\"#ed7953\"],[0.7777777777777778,\"#fb9f3a\"],[0.8888888888888888,\"#fdca26\"],[1.0,\"#f0f921\"]],\"type\":\"heatmap\"}],\"histogram2dcontour\":[{\"colorbar\":{\"outlinewidth\":0,\"ticks\":\"\"},\"colorscale\":[[0.0,\"#0d0887\"],[0.1111111111111111,\"#46039f\"],[0.2222222222222222,\"#7201a8\"],[0.3333333333333333,\"#9c179e\"],[0.4444444444444444,\"#bd3786\"],[0.5555555555555556,\"#d8576b\"],[0.6666666666666666,\"#ed7953\"],[0.7777777777777778,\"#fb9f3a\"],[0.8888888888888888,\"#fdca26\"],[1.0,\"#f0f921\"]],\"type\":\"histogram2dcontour\"}],\"histogram2d\":[{\"colorbar\":{\"outlinewidth\":0,\"ticks\":\"\"},\"colorscale\":[[0.0,\"#0d0887\"],[0.1111111111111111,\"#46039f\"],[0.2222222222222222,\"#7201a8\"],[0.3333333333333333,\"#9c179e\"],[0.4444444444444444,\"#bd3786\"],[0.5555555555555556,\"#d8576b\"],[0.6666666666666666,\"#ed7953\"],[0.7777777777777778,\"#fb9f3a\"],[0.8888888888888888,\"#fdca26\"],[1.0,\"#f0f921\"]],\"type\":\"histogram2d\"}],\"histogram\":[{\"marker\":{\"pattern\":{\"fillmode\":\"overlay\",\"size\":10,\"solidity\":0.2}},\"type\":\"histogram\"}],\"mesh3d\":[{\"colorbar\":{\"outlinewidth\":0,\"ticks\":\"\"},\"type\":\"mesh3d\"}],\"parcoords\":[{\"line\":{\"colorbar\":{\"outlinewidth\":0,\"ticks\":\"\"}},\"type\":\"parcoords\"}],\"pie\":[{\"automargin\":true,\"type\":\"pie\"}],\"scatter3d\":[{\"line\":{\"colorbar\":{\"outlinewidth\":0,\"ticks\":\"\"}},\"marker\":{\"colorbar\":{\"outlinewidth\":0,\"ticks\":\"\"}},\"type\":\"scatter3d\"}],\"scattercarpet\":[{\"marker\":{\"colorbar\":{\"outlinewidth\":0,\"ticks\":\"\"}},\"type\":\"scattercarpet\"}],\"scattergeo\":[{\"marker\":{\"colorbar\":{\"outlinewidth\":0,\"ticks\":\"\"}},\"type\":\"scattergeo\"}],\"scattergl\":[{\"marker\":{\"colorbar\":{\"outlinewidth\":0,\"ticks\":\"\"}},\"type\":\"scattergl\"}],\"scattermapbox\":[{\"marker\":{\"colorbar\":{\"outlinewidth\":0,\"ticks\":\"\"}},\"type\":\"scattermapbox\"}],\"scatterpolargl\":[{\"marker\":{\"colorbar\":{\"outlinewidth\":0,\"ticks\":\"\"}},\"type\":\"scatterpolargl\"}],\"scatterpolar\":[{\"marker\":{\"colorbar\":{\"outlinewidth\":0,\"ticks\":\"\"}},\"type\":\"scatterpolar\"}],\"scatter\":[{\"marker\":{\"colorbar\":{\"outlinewidth\":0,\"ticks\":\"\"}},\"type\":\"scatter\"}],\"scatterternary\":[{\"marker\":{\"colorbar\":{\"outlinewidth\":0,\"ticks\":\"\"}},\"type\":\"scatterternary\"}],\"surface\":[{\"colorbar\":{\"outlinewidth\":0,\"ticks\":\"\"},\"colorscale\":[[0.0,\"#0d0887\"],[0.1111111111111111,\"#46039f\"],[0.2222222222222222,\"#7201a8\"],[0.3333333333333333,\"#9c179e\"],[0.4444444444444444,\"#bd3786\"],[0.5555555555555556,\"#d8576b\"],[0.6666666666666666,\"#ed7953\"],[0.7777777777777778,\"#fb9f3a\"],[0.8888888888888888,\"#fdca26\"],[1.0,\"#f0f921\"]],\"type\":\"surface\"}],\"table\":[{\"cells\":{\"fill\":{\"color\":\"#EBF0F8\"},\"line\":{\"color\":\"white\"}},\"header\":{\"fill\":{\"color\":\"#C8D4E3\"},\"line\":{\"color\":\"white\"}},\"type\":\"table\"}]},\"layout\":{\"annotationdefaults\":{\"arrowcolor\":\"#2a3f5f\",\"arrowhead\":0,\"arrowwidth\":1},\"autotypenumbers\":\"strict\",\"coloraxis\":{\"colorbar\":{\"outlinewidth\":0,\"ticks\":\"\"}},\"colorscale\":{\"diverging\":[[0,\"#8e0152\"],[0.1,\"#c51b7d\"],[0.2,\"#de77ae\"],[0.3,\"#f1b6da\"],[0.4,\"#fde0ef\"],[0.5,\"#f7f7f7\"],[0.6,\"#e6f5d0\"],[0.7,\"#b8e186\"],[0.8,\"#7fbc41\"],[0.9,\"#4d9221\"],[1,\"#276419\"]],\"sequential\":[[0.0,\"#0d0887\"],[0.1111111111111111,\"#46039f\"],[0.2222222222222222,\"#7201a8\"],[0.3333333333333333,\"#9c179e\"],[0.4444444444444444,\"#bd3786\"],[0.5555555555555556,\"#d8576b\"],[0.6666666666666666,\"#ed7953\"],[0.7777777777777778,\"#fb9f3a\"],[0.8888888888888888,\"#fdca26\"],[1.0,\"#f0f921\"]],\"sequentialminus\":[[0.0,\"#0d0887\"],[0.1111111111111111,\"#46039f\"],[0.2222222222222222,\"#7201a8\"],[0.3333333333333333,\"#9c179e\"],[0.4444444444444444,\"#bd3786\"],[0.5555555555555556,\"#d8576b\"],[0.6666666666666666,\"#ed7953\"],[0.7777777777777778,\"#fb9f3a\"],[0.8888888888888888,\"#fdca26\"],[1.0,\"#f0f921\"]]},\"colorway\":[\"#636efa\",\"#EF553B\",\"#00cc96\",\"#ab63fa\",\"#FFA15A\",\"#19d3f3\",\"#FF6692\",\"#B6E880\",\"#FF97FF\",\"#FECB52\"],\"font\":{\"color\":\"#2a3f5f\"},\"geo\":{\"bgcolor\":\"white\",\"lakecolor\":\"white\",\"landcolor\":\"#E5ECF6\",\"showlakes\":true,\"showland\":true,\"subunitcolor\":\"white\"},\"hoverlabel\":{\"align\":\"left\"},\"hovermode\":\"closest\",\"mapbox\":{\"style\":\"light\"},\"paper_bgcolor\":\"white\",\"plot_bgcolor\":\"#E5ECF6\",\"polar\":{\"angularaxis\":{\"gridcolor\":\"white\",\"linecolor\":\"white\",\"ticks\":\"\"},\"bgcolor\":\"#E5ECF6\",\"radialaxis\":{\"gridcolor\":\"white\",\"linecolor\":\"white\",\"ticks\":\"\"}},\"scene\":{\"xaxis\":{\"backgroundcolor\":\"#E5ECF6\",\"gridcolor\":\"white\",\"gridwidth\":2,\"linecolor\":\"white\",\"showbackground\":true,\"ticks\":\"\",\"zerolinecolor\":\"white\"},\"yaxis\":{\"backgroundcolor\":\"#E5ECF6\",\"gridcolor\":\"white\",\"gridwidth\":2,\"linecolor\":\"white\",\"showbackground\":true,\"ticks\":\"\",\"zerolinecolor\":\"white\"},\"zaxis\":{\"backgroundcolor\":\"#E5ECF6\",\"gridcolor\":\"white\",\"gridwidth\":2,\"linecolor\":\"white\",\"showbackground\":true,\"ticks\":\"\",\"zerolinecolor\":\"white\"}},\"shapedefaults\":{\"line\":{\"color\":\"#2a3f5f\"}},\"ternary\":{\"aaxis\":{\"gridcolor\":\"white\",\"linecolor\":\"white\",\"ticks\":\"\"},\"baxis\":{\"gridcolor\":\"white\",\"linecolor\":\"white\",\"ticks\":\"\"},\"bgcolor\":\"#E5ECF6\",\"caxis\":{\"gridcolor\":\"white\",\"linecolor\":\"white\",\"ticks\":\"\"}},\"title\":{\"x\":0.05},\"xaxis\":{\"automargin\":true,\"gridcolor\":\"white\",\"linecolor\":\"white\",\"ticks\":\"\",\"title\":{\"standoff\":15},\"zerolinecolor\":\"white\",\"zerolinewidth\":2},\"yaxis\":{\"automargin\":true,\"gridcolor\":\"white\",\"linecolor\":\"white\",\"ticks\":\"\",\"title\":{\"standoff\":15},\"zerolinecolor\":\"white\",\"zerolinewidth\":2}}},\"title\":{\"font\":{\"color\":\"#4D5663\"}},\"xaxis\":{\"gridcolor\":\"#E1E5ED\",\"showgrid\":true,\"tickfont\":{\"color\":\"#4D5663\"},\"title\":{\"font\":{\"color\":\"#4D5663\"},\"text\":\"\"},\"zerolinecolor\":\"#E1E5ED\"},\"yaxis\":{\"gridcolor\":\"#E1E5ED\",\"showgrid\":true,\"tickfont\":{\"color\":\"#4D5663\"},\"title\":{\"font\":{\"color\":\"#4D5663\"},\"text\":\"\"},\"zerolinecolor\":\"#E1E5ED\"}},                        {\"showLink\": true, \"linkText\": \"Export to plot.ly\", \"plotlyServerURL\": \"https://plot.ly\", \"responsive\": true}                    ).then(function(){\n",
       "                            \n",
       "var gd = document.getElementById('55e714d4-4471-4dfe-97aa-260decc8e19c');\n",
       "var x = new MutationObserver(function (mutations, observer) {{\n",
       "        var display = window.getComputedStyle(gd).display;\n",
       "        if (!display || display === 'none') {{\n",
       "            console.log([gd, 'removed!']);\n",
       "            Plotly.purge(gd);\n",
       "            observer.disconnect();\n",
       "        }}\n",
       "}});\n",
       "\n",
       "// Listen for the removal of the full notebook cells\n",
       "var notebookContainer = gd.closest('#notebook-container');\n",
       "if (notebookContainer) {{\n",
       "    x.observe(notebookContainer, {childList: true});\n",
       "}}\n",
       "\n",
       "// Listen for the clearing of the current output cell\n",
       "var outputEl = gd.closest('.output');\n",
       "if (outputEl) {{\n",
       "    x.observe(outputEl, {childList: true});\n",
       "}}\n",
       "\n",
       "                        })                };                });            </script>        </div>"
      ]
     },
     "metadata": {},
     "output_type": "display_data"
    }
   ],
   "source": [
    "df['A'].iplot(kind='hist', bins=20)"
   ]
  },
  {
   "cell_type": "code",
   "execution_count": 27,
   "metadata": {},
   "outputs": [
    {
     "data": {
      "application/vnd.plotly.v1+json": {
       "config": {
        "linkText": "Export to plot.ly",
        "plotlyServerURL": "https://plot.ly",
        "showLink": true
       },
       "data": [
        {
         "histfunc": "count",
         "histnorm": "",
         "marker": {
          "color": "rgba(255, 153, 51, 1.0)",
          "line": {
           "color": "#4D5663",
           "width": 1.3
          }
         },
         "name": "A",
         "nbinsx": 20,
         "opacity": 0.8,
         "orientation": "v",
         "type": "histogram",
         "x": [
          -0.5902303025205717,
          -2.2016090086623388,
          0.9688835342587759,
          0.4097477034647505,
          -0.6531516478199042,
          -0.44733786561834193,
          -0.47482840070158566,
          -1.0899258739801267,
          0.018083060890892132,
          0.18640424228172048,
          -1.740262022112669,
          0.07452870131805488,
          -0.9223778158444266,
          -1.9232060232149235,
          0.10735353125742748,
          -1.1850757900063225,
          -0.5497291302848054,
          0.1760346600120734,
          1.0109279491426288,
          -1.8800930869821564,
          0.6818689562292352,
          1.0013136875986148,
          -1.4245497173871668,
          -0.6206539678188364,
          1.7911365866515108,
          0.7238100420108368,
          -0.4204677449441723,
          -2.154777771126477,
          -0.6273457251981394,
          0.1821495912778787,
          -0.06305727171354696,
          -0.3905198512997907,
          0.2528318683594929,
          0.565418190409366,
          0.6450981928783018,
          -0.30807010332343876,
          0.30513862374559486,
          -1.7594021492571972,
          -0.8222574329062964,
          -0.5735086500790288,
          -1.3979738724160686,
          -1.2750186161164196,
          0.6082933112555565,
          -0.6097777886272943,
          0.33734371436621946,
          -0.5417714102437892,
          1.375561863788836,
          2.2056801688936902,
          0.6405306616954853,
          1.4161986423742619,
          -1.0286554899550455,
          -1.4954126636278111,
          1.7433309705860673,
          -0.06255855829844899,
          -1.3254350939260084,
          1.2110743664651629,
          -0.3065195328839513,
          0.728721977199927,
          0.7196156850537774,
          0.17793323956809748,
          -2.1543583642789113,
          0.6110026577153034,
          -0.8926214867297181,
          0.5131829577150304,
          -0.4599291034370993,
          0.5993921592961952,
          -2.5854795386451497,
          -1.5187255713236734,
          -1.5832471980763754,
          -0.8377799538334126,
          -0.8174203926960799,
          -1.0010558563534455,
          -1.529505285845513,
          0.4705944311419757,
          -0.34620452317534356,
          -1.7587041573689515,
          0.9752971676066632,
          1.1613831337131102,
          1.3446457631064839,
          -1.4555509876454251,
          0.4266333975246613,
          -0.4933550509657777,
          -1.0762683955046413,
          -1.1172618918660948,
          -0.8050366057976863,
          -0.8191627336334403,
          2.20208838639601,
          0.8842178450189843,
          2.248450908342995,
          1.263857174507037,
          0.2817469381374268,
          0.8268799558075348,
          0.571564064960558,
          0.19025113238293712,
          -0.5390699541755176,
          1.73433697535019,
          1.2863853747153662,
          0.05423139472195194,
          -1.3151122199680136,
          0.38122217649893086
         ]
        },
        {
         "histfunc": "count",
         "histnorm": "",
         "marker": {
          "color": "rgba(55, 128, 191, 1.0)",
          "line": {
           "color": "#4D5663",
           "width": 1.3
          }
         },
         "name": "B",
         "nbinsx": 20,
         "opacity": 0.8,
         "orientation": "v",
         "type": "histogram",
         "x": [
          -1.3670490430437636,
          0.161450524235461,
          -0.44217348630356307,
          0.37545077311535113,
          -0.26558456358514304,
          -0.05337396280955743,
          -0.16286499406938992,
          -0.6559063241917041,
          0.2166205230803355,
          0.579264707040054,
          0.6570113302304137,
          1.1128644665473264,
          1.3437370062884728,
          1.2253391743149586,
          0.07243088995730265,
          -0.16291549888248036,
          0.5221703263725861,
          -0.2860873155412922,
          0.23845897129297605,
          0.5383216359023025,
          1.0228260382992838,
          1.4742375561846004,
          -0.4971926005756821,
          -0.3702983491139233,
          1.2811992881765035,
          0.5235806670476302,
          -0.29364591922026506,
          2.0327478724465315,
          -0.8321944982609231,
          -0.10476735233563249,
          -0.26958492730061334,
          -0.20189994105473036,
          1.0847659756245622,
          -1.1944184798293207,
          -1.3230740820458162,
          0.6206316042828937,
          0.10859772366319033,
          -0.6156696325698916,
          0.3984569141979588,
          0.844077249699107,
          1.2519032595789779,
          0.2513651055639649,
          0.2130378339237908,
          0.6490835820095017,
          -0.010798931494050746,
          0.3941767468516104,
          -1.6296040595382955,
          1.813762930471477,
          2.038570665631588,
          0.8554014083836431,
          1.06694928084837,
          0.7266644331179781,
          -0.7312737819318127,
          1.0626543686367567,
          1.5125446201537545,
          0.15539761830497265,
          1.1275135376114895,
          0.3884913736161449,
          1.3342540109209156,
          -0.09870250239733834,
          0.19263865576084857,
          1.6508820619017714,
          -0.6357303957131819,
          -0.21065746732213148,
          1.5794879615866562,
          0.13187081043821755,
          -0.6910448387634717,
          -0.9241359886362889,
          -0.9788028958812267,
          1.6571093770062777,
          0.46710147448499517,
          -0.08167530974313282,
          -0.32795086978837157,
          -0.4864270154260517,
          1.4228982883721621,
          -1.230082525704563,
          -1.8388925715141657,
          0.007416738671856635,
          -0.8495852847344079,
          -0.32060058648100864,
          -0.10872605769317288,
          0.17620829861536996,
          2.817567551757438,
          1.287542016854579,
          -0.678669908194487,
          0.4110746516491658,
          -1.3175798955777698,
          -0.9259953438941361,
          0.6365254724876831,
          0.1645909140545531,
          1.275561684738259,
          -0.5512964249982745,
          0.6776207058555057,
          -1.0088839072755986,
          1.2546202290644812,
          -0.4988731232616055,
          1.0171125628881423,
          -0.6730874492229427,
          2.515399088329593,
          0.04827347094723881
         ]
        },
        {
         "histfunc": "count",
         "histnorm": "",
         "marker": {
          "color": "rgba(50, 171, 96, 1.0)",
          "line": {
           "color": "#4D5663",
           "width": 1.3
          }
         },
         "name": "C",
         "nbinsx": 20,
         "opacity": 0.8,
         "orientation": "v",
         "type": "histogram",
         "x": [
          1.0927895381438653,
          0.3869804888555894,
          -0.07820871841748094,
          0.10914875239807878,
          0.44141128246765543,
          0.059709641898243994,
          0.9362562758459936,
          -0.049469222922685165,
          -0.9604645141374815,
          -0.03642247206112177,
          0.4540126975266702,
          0.46661801100664024,
          0.23525896270846847,
          0.8435264824759354,
          1.9123308315530168,
          1.3778178632223428,
          1.427129817536749,
          1.5969456284165555,
          -0.6353716176738434,
          -0.0852301036877315,
          -1.3107077999802108,
          -0.2111203466429529,
          -0.822676110997687,
          -0.6399111406824087,
          0.5784150917630376,
          -2.0730943122234877,
          -0.009738024958068586,
          0.31731126652029606,
          -0.8621507657761383,
          1.360291204984467,
          -1.8087879144579424,
          -1.1129622729554434,
          0.5677532651308002,
          -1.0697605131495675,
          0.31007992996337114,
          -0.15813396722000733,
          -0.24701350019495308,
          -1.0947940608247673,
          0.10314984688247189,
          1.3522471859989258,
          0.8606312443402826,
          -0.4553994887831305,
          -0.027024463446770283,
          -0.602148747068422,
          -1.8617033643320429,
          1.0459214592089945,
          -0.38172865720440924,
          -0.9482660908555265,
          0.8641232502416377,
          -1.7194676900776327,
          -1.1994706634027732,
          0.6713487772149576,
          -2.1346765408392505,
          -0.7181127663392818,
          0.06053680845956763,
          -0.37917654153482355,
          0.0894570996922149,
          -0.05600806767708331,
          0.928892609407208,
          -0.7495940138240937,
          1.2609906474293038,
          -1.0139880360813422,
          -1.3111107150205963,
          -0.9781755940346926,
          -1.1467667465321165,
          0.509671842270591,
          -0.49660618701523934,
          -0.11180452020127217,
          -2.0983295549353365,
          -0.37427308918351176,
          0.3825874831548487,
          -0.46048952482532995,
          -0.7327819745299191,
          0.9313353321457137,
          -1.4710842016607026,
          -1.6229378241379038,
          -1.365938141973644,
          0.6442667748038098,
          1.8008255670720474,
          1.1644094313071818,
          1.0284801366288947,
          -0.9741732106305144,
          0.599971256821181,
          -0.8139126818817689,
          -1.09767394155658,
          0.31749206036862637,
          0.3122101323895381,
          -0.21538581024967854,
          0.7603118663717938,
          -2.231394814777633,
          0.4771245925723608,
          0.3003655425976786,
          -0.42850277917924867,
          -0.3913032486148974,
          -0.1647431926134105,
          -1.507024883903592,
          0.006553607869517606,
          1.9888006179881683,
          0.2126792472612787,
          -1.4987557388322261
         ]
        },
        {
         "histfunc": "count",
         "histnorm": "",
         "marker": {
          "color": "rgba(128, 0, 128, 1.0)",
          "line": {
           "color": "#4D5663",
           "width": 1.3
          }
         },
         "name": "D",
         "nbinsx": 20,
         "opacity": 0.8,
         "orientation": "v",
         "type": "histogram",
         "x": [
          -0.18404099541891808,
          0.3705020988811112,
          2.4707853777241984,
          -0.6918146703711641,
          -0.8598510055544313,
          -1.158422440878767,
          1.4392467936379234,
          -0.6444906436631372,
          0.07894053798934612,
          -0.14325225219283427,
          -0.7795377265033557,
          1.0287344829474763,
          0.8627307529196024,
          -1.22890078262128,
          -0.47042027405335574,
          -0.23634839918213463,
          -0.4904857493837416,
          -0.7944123856144842,
          0.38778200438058813,
          0.9465708488659833,
          0.07899079642198541,
          -1.2488361957956742,
          0.19068929934729476,
          -1.0759649846092925,
          0.652451644860557,
          0.3015952648458203,
          0.5928935225579912,
          0.16911608311814655,
          -1.7168319905353358,
          -0.9965345005712516,
          -0.799832574687069,
          -0.4985149362343189,
          -0.4428008794462112,
          0.09638485531186627,
          -0.15011085240866567,
          1.226181583794429,
          -0.6037653345291387,
          -2.553832907788901,
          0.41976705316316654,
          0.5751887195240278,
          0.6003093489706015,
          -0.17644904294017671,
          0.6572023046449496,
          -0.016283320319424494,
          0.26465186215612035,
          0.6574045231367414,
          0.47531636844809133,
          1.0615391981185471,
          0.36254004841507625,
          -0.8377924133433795,
          1.9398990124400257,
          0.7769369852373745,
          0.045950154352748886,
          -1.5626638233641632,
          0.31621389478489725,
          -0.7931086826469803,
          -1.7551691001506924,
          1.2294425567019371,
          -0.0561545639195008,
          2.0442495940818506,
          -1.343470161015329,
          -0.8449773666074941,
          0.5666466025668979,
          0.574896431520319,
          -0.6623593912763195,
          -3.072259852988364,
          0.3629716411895115,
          1.0131910891426401,
          -2.3279426569230717,
          0.31783112748115516,
          -1.0288307099732001,
          -3.105096101828258,
          -1.7498390701699789,
          0.8854827761806933,
          0.08118201488294917,
          0.647961662890736,
          1.891230672055887,
          0.7914627879619662,
          1.0700106617800895,
          0.07227639716562591,
          0.6201189505305379,
          -0.5655464421299009,
          0.06228980710049047,
          0.2853002537024566,
          -1.2273085630898832,
          -0.9103824315747909,
          0.6627057071312216,
          0.7732955015308591,
          -1.5466254411465514,
          0.22583614943131844,
          1.6126052875773842,
          -1.4442686899363433,
          1.822522637667904,
          1.823108525324734,
          2.8499618537430065,
          -0.3713081051143311,
          0.10186930241625286,
          0.8109871340449076,
          0.6159795521360518,
          -0.7539276801344859
         ]
        }
       ],
       "layout": {
        "barmode": "overlay",
        "legend": {
         "bgcolor": "#F5F6F9",
         "font": {
          "color": "#4D5663"
         }
        },
        "paper_bgcolor": "#F5F6F9",
        "plot_bgcolor": "#F5F6F9",
        "template": {
         "data": {
          "bar": [
           {
            "error_x": {
             "color": "#2a3f5f"
            },
            "error_y": {
             "color": "#2a3f5f"
            },
            "marker": {
             "line": {
              "color": "#E5ECF6",
              "width": 0.5
             },
             "pattern": {
              "fillmode": "overlay",
              "size": 10,
              "solidity": 0.2
             }
            },
            "type": "bar"
           }
          ],
          "barpolar": [
           {
            "marker": {
             "line": {
              "color": "#E5ECF6",
              "width": 0.5
             },
             "pattern": {
              "fillmode": "overlay",
              "size": 10,
              "solidity": 0.2
             }
            },
            "type": "barpolar"
           }
          ],
          "carpet": [
           {
            "aaxis": {
             "endlinecolor": "#2a3f5f",
             "gridcolor": "white",
             "linecolor": "white",
             "minorgridcolor": "white",
             "startlinecolor": "#2a3f5f"
            },
            "baxis": {
             "endlinecolor": "#2a3f5f",
             "gridcolor": "white",
             "linecolor": "white",
             "minorgridcolor": "white",
             "startlinecolor": "#2a3f5f"
            },
            "type": "carpet"
           }
          ],
          "choropleth": [
           {
            "colorbar": {
             "outlinewidth": 0,
             "ticks": ""
            },
            "type": "choropleth"
           }
          ],
          "contour": [
           {
            "colorbar": {
             "outlinewidth": 0,
             "ticks": ""
            },
            "colorscale": [
             [
              0,
              "#0d0887"
             ],
             [
              0.1111111111111111,
              "#46039f"
             ],
             [
              0.2222222222222222,
              "#7201a8"
             ],
             [
              0.3333333333333333,
              "#9c179e"
             ],
             [
              0.4444444444444444,
              "#bd3786"
             ],
             [
              0.5555555555555556,
              "#d8576b"
             ],
             [
              0.6666666666666666,
              "#ed7953"
             ],
             [
              0.7777777777777778,
              "#fb9f3a"
             ],
             [
              0.8888888888888888,
              "#fdca26"
             ],
             [
              1,
              "#f0f921"
             ]
            ],
            "type": "contour"
           }
          ],
          "contourcarpet": [
           {
            "colorbar": {
             "outlinewidth": 0,
             "ticks": ""
            },
            "type": "contourcarpet"
           }
          ],
          "heatmap": [
           {
            "colorbar": {
             "outlinewidth": 0,
             "ticks": ""
            },
            "colorscale": [
             [
              0,
              "#0d0887"
             ],
             [
              0.1111111111111111,
              "#46039f"
             ],
             [
              0.2222222222222222,
              "#7201a8"
             ],
             [
              0.3333333333333333,
              "#9c179e"
             ],
             [
              0.4444444444444444,
              "#bd3786"
             ],
             [
              0.5555555555555556,
              "#d8576b"
             ],
             [
              0.6666666666666666,
              "#ed7953"
             ],
             [
              0.7777777777777778,
              "#fb9f3a"
             ],
             [
              0.8888888888888888,
              "#fdca26"
             ],
             [
              1,
              "#f0f921"
             ]
            ],
            "type": "heatmap"
           }
          ],
          "heatmapgl": [
           {
            "colorbar": {
             "outlinewidth": 0,
             "ticks": ""
            },
            "colorscale": [
             [
              0,
              "#0d0887"
             ],
             [
              0.1111111111111111,
              "#46039f"
             ],
             [
              0.2222222222222222,
              "#7201a8"
             ],
             [
              0.3333333333333333,
              "#9c179e"
             ],
             [
              0.4444444444444444,
              "#bd3786"
             ],
             [
              0.5555555555555556,
              "#d8576b"
             ],
             [
              0.6666666666666666,
              "#ed7953"
             ],
             [
              0.7777777777777778,
              "#fb9f3a"
             ],
             [
              0.8888888888888888,
              "#fdca26"
             ],
             [
              1,
              "#f0f921"
             ]
            ],
            "type": "heatmapgl"
           }
          ],
          "histogram": [
           {
            "marker": {
             "pattern": {
              "fillmode": "overlay",
              "size": 10,
              "solidity": 0.2
             }
            },
            "type": "histogram"
           }
          ],
          "histogram2d": [
           {
            "colorbar": {
             "outlinewidth": 0,
             "ticks": ""
            },
            "colorscale": [
             [
              0,
              "#0d0887"
             ],
             [
              0.1111111111111111,
              "#46039f"
             ],
             [
              0.2222222222222222,
              "#7201a8"
             ],
             [
              0.3333333333333333,
              "#9c179e"
             ],
             [
              0.4444444444444444,
              "#bd3786"
             ],
             [
              0.5555555555555556,
              "#d8576b"
             ],
             [
              0.6666666666666666,
              "#ed7953"
             ],
             [
              0.7777777777777778,
              "#fb9f3a"
             ],
             [
              0.8888888888888888,
              "#fdca26"
             ],
             [
              1,
              "#f0f921"
             ]
            ],
            "type": "histogram2d"
           }
          ],
          "histogram2dcontour": [
           {
            "colorbar": {
             "outlinewidth": 0,
             "ticks": ""
            },
            "colorscale": [
             [
              0,
              "#0d0887"
             ],
             [
              0.1111111111111111,
              "#46039f"
             ],
             [
              0.2222222222222222,
              "#7201a8"
             ],
             [
              0.3333333333333333,
              "#9c179e"
             ],
             [
              0.4444444444444444,
              "#bd3786"
             ],
             [
              0.5555555555555556,
              "#d8576b"
             ],
             [
              0.6666666666666666,
              "#ed7953"
             ],
             [
              0.7777777777777778,
              "#fb9f3a"
             ],
             [
              0.8888888888888888,
              "#fdca26"
             ],
             [
              1,
              "#f0f921"
             ]
            ],
            "type": "histogram2dcontour"
           }
          ],
          "mesh3d": [
           {
            "colorbar": {
             "outlinewidth": 0,
             "ticks": ""
            },
            "type": "mesh3d"
           }
          ],
          "parcoords": [
           {
            "line": {
             "colorbar": {
              "outlinewidth": 0,
              "ticks": ""
             }
            },
            "type": "parcoords"
           }
          ],
          "pie": [
           {
            "automargin": true,
            "type": "pie"
           }
          ],
          "scatter": [
           {
            "marker": {
             "colorbar": {
              "outlinewidth": 0,
              "ticks": ""
             }
            },
            "type": "scatter"
           }
          ],
          "scatter3d": [
           {
            "line": {
             "colorbar": {
              "outlinewidth": 0,
              "ticks": ""
             }
            },
            "marker": {
             "colorbar": {
              "outlinewidth": 0,
              "ticks": ""
             }
            },
            "type": "scatter3d"
           }
          ],
          "scattercarpet": [
           {
            "marker": {
             "colorbar": {
              "outlinewidth": 0,
              "ticks": ""
             }
            },
            "type": "scattercarpet"
           }
          ],
          "scattergeo": [
           {
            "marker": {
             "colorbar": {
              "outlinewidth": 0,
              "ticks": ""
             }
            },
            "type": "scattergeo"
           }
          ],
          "scattergl": [
           {
            "marker": {
             "colorbar": {
              "outlinewidth": 0,
              "ticks": ""
             }
            },
            "type": "scattergl"
           }
          ],
          "scattermapbox": [
           {
            "marker": {
             "colorbar": {
              "outlinewidth": 0,
              "ticks": ""
             }
            },
            "type": "scattermapbox"
           }
          ],
          "scatterpolar": [
           {
            "marker": {
             "colorbar": {
              "outlinewidth": 0,
              "ticks": ""
             }
            },
            "type": "scatterpolar"
           }
          ],
          "scatterpolargl": [
           {
            "marker": {
             "colorbar": {
              "outlinewidth": 0,
              "ticks": ""
             }
            },
            "type": "scatterpolargl"
           }
          ],
          "scatterternary": [
           {
            "marker": {
             "colorbar": {
              "outlinewidth": 0,
              "ticks": ""
             }
            },
            "type": "scatterternary"
           }
          ],
          "surface": [
           {
            "colorbar": {
             "outlinewidth": 0,
             "ticks": ""
            },
            "colorscale": [
             [
              0,
              "#0d0887"
             ],
             [
              0.1111111111111111,
              "#46039f"
             ],
             [
              0.2222222222222222,
              "#7201a8"
             ],
             [
              0.3333333333333333,
              "#9c179e"
             ],
             [
              0.4444444444444444,
              "#bd3786"
             ],
             [
              0.5555555555555556,
              "#d8576b"
             ],
             [
              0.6666666666666666,
              "#ed7953"
             ],
             [
              0.7777777777777778,
              "#fb9f3a"
             ],
             [
              0.8888888888888888,
              "#fdca26"
             ],
             [
              1,
              "#f0f921"
             ]
            ],
            "type": "surface"
           }
          ],
          "table": [
           {
            "cells": {
             "fill": {
              "color": "#EBF0F8"
             },
             "line": {
              "color": "white"
             }
            },
            "header": {
             "fill": {
              "color": "#C8D4E3"
             },
             "line": {
              "color": "white"
             }
            },
            "type": "table"
           }
          ]
         },
         "layout": {
          "annotationdefaults": {
           "arrowcolor": "#2a3f5f",
           "arrowhead": 0,
           "arrowwidth": 1
          },
          "autotypenumbers": "strict",
          "coloraxis": {
           "colorbar": {
            "outlinewidth": 0,
            "ticks": ""
           }
          },
          "colorscale": {
           "diverging": [
            [
             0,
             "#8e0152"
            ],
            [
             0.1,
             "#c51b7d"
            ],
            [
             0.2,
             "#de77ae"
            ],
            [
             0.3,
             "#f1b6da"
            ],
            [
             0.4,
             "#fde0ef"
            ],
            [
             0.5,
             "#f7f7f7"
            ],
            [
             0.6,
             "#e6f5d0"
            ],
            [
             0.7,
             "#b8e186"
            ],
            [
             0.8,
             "#7fbc41"
            ],
            [
             0.9,
             "#4d9221"
            ],
            [
             1,
             "#276419"
            ]
           ],
           "sequential": [
            [
             0,
             "#0d0887"
            ],
            [
             0.1111111111111111,
             "#46039f"
            ],
            [
             0.2222222222222222,
             "#7201a8"
            ],
            [
             0.3333333333333333,
             "#9c179e"
            ],
            [
             0.4444444444444444,
             "#bd3786"
            ],
            [
             0.5555555555555556,
             "#d8576b"
            ],
            [
             0.6666666666666666,
             "#ed7953"
            ],
            [
             0.7777777777777778,
             "#fb9f3a"
            ],
            [
             0.8888888888888888,
             "#fdca26"
            ],
            [
             1,
             "#f0f921"
            ]
           ],
           "sequentialminus": [
            [
             0,
             "#0d0887"
            ],
            [
             0.1111111111111111,
             "#46039f"
            ],
            [
             0.2222222222222222,
             "#7201a8"
            ],
            [
             0.3333333333333333,
             "#9c179e"
            ],
            [
             0.4444444444444444,
             "#bd3786"
            ],
            [
             0.5555555555555556,
             "#d8576b"
            ],
            [
             0.6666666666666666,
             "#ed7953"
            ],
            [
             0.7777777777777778,
             "#fb9f3a"
            ],
            [
             0.8888888888888888,
             "#fdca26"
            ],
            [
             1,
             "#f0f921"
            ]
           ]
          },
          "colorway": [
           "#636efa",
           "#EF553B",
           "#00cc96",
           "#ab63fa",
           "#FFA15A",
           "#19d3f3",
           "#FF6692",
           "#B6E880",
           "#FF97FF",
           "#FECB52"
          ],
          "font": {
           "color": "#2a3f5f"
          },
          "geo": {
           "bgcolor": "white",
           "lakecolor": "white",
           "landcolor": "#E5ECF6",
           "showlakes": true,
           "showland": true,
           "subunitcolor": "white"
          },
          "hoverlabel": {
           "align": "left"
          },
          "hovermode": "closest",
          "mapbox": {
           "style": "light"
          },
          "paper_bgcolor": "white",
          "plot_bgcolor": "#E5ECF6",
          "polar": {
           "angularaxis": {
            "gridcolor": "white",
            "linecolor": "white",
            "ticks": ""
           },
           "bgcolor": "#E5ECF6",
           "radialaxis": {
            "gridcolor": "white",
            "linecolor": "white",
            "ticks": ""
           }
          },
          "scene": {
           "xaxis": {
            "backgroundcolor": "#E5ECF6",
            "gridcolor": "white",
            "gridwidth": 2,
            "linecolor": "white",
            "showbackground": true,
            "ticks": "",
            "zerolinecolor": "white"
           },
           "yaxis": {
            "backgroundcolor": "#E5ECF6",
            "gridcolor": "white",
            "gridwidth": 2,
            "linecolor": "white",
            "showbackground": true,
            "ticks": "",
            "zerolinecolor": "white"
           },
           "zaxis": {
            "backgroundcolor": "#E5ECF6",
            "gridcolor": "white",
            "gridwidth": 2,
            "linecolor": "white",
            "showbackground": true,
            "ticks": "",
            "zerolinecolor": "white"
           }
          },
          "shapedefaults": {
           "line": {
            "color": "#2a3f5f"
           }
          },
          "ternary": {
           "aaxis": {
            "gridcolor": "white",
            "linecolor": "white",
            "ticks": ""
           },
           "baxis": {
            "gridcolor": "white",
            "linecolor": "white",
            "ticks": ""
           },
           "bgcolor": "#E5ECF6",
           "caxis": {
            "gridcolor": "white",
            "linecolor": "white",
            "ticks": ""
           }
          },
          "title": {
           "x": 0.05
          },
          "xaxis": {
           "automargin": true,
           "gridcolor": "white",
           "linecolor": "white",
           "ticks": "",
           "title": {
            "standoff": 15
           },
           "zerolinecolor": "white",
           "zerolinewidth": 2
          },
          "yaxis": {
           "automargin": true,
           "gridcolor": "white",
           "linecolor": "white",
           "ticks": "",
           "title": {
            "standoff": 15
           },
           "zerolinecolor": "white",
           "zerolinewidth": 2
          }
         }
        },
        "title": {
         "font": {
          "color": "#4D5663"
         }
        },
        "xaxis": {
         "gridcolor": "#E1E5ED",
         "showgrid": true,
         "tickfont": {
          "color": "#4D5663"
         },
         "title": {
          "font": {
           "color": "#4D5663"
          },
          "text": ""
         },
         "zerolinecolor": "#E1E5ED"
        },
        "yaxis": {
         "gridcolor": "#E1E5ED",
         "showgrid": true,
         "tickfont": {
          "color": "#4D5663"
         },
         "title": {
          "font": {
           "color": "#4D5663"
          },
          "text": ""
         },
         "zerolinecolor": "#E1E5ED"
        }
       }
      },
      "text/html": [
       "<div>                            <div id=\"525ead08-2e24-4587-80d6-26a10bb5cabc\" class=\"plotly-graph-div\" style=\"height:525px; width:100%;\"></div>            <script type=\"text/javascript\">                require([\"plotly\"], function(Plotly) {                    window.PLOTLYENV=window.PLOTLYENV || {};\n",
       "                    window.PLOTLYENV.BASE_URL='https://plot.ly';                                    if (document.getElementById(\"525ead08-2e24-4587-80d6-26a10bb5cabc\")) {                    Plotly.newPlot(                        \"525ead08-2e24-4587-80d6-26a10bb5cabc\",                        [{\"histfunc\":\"count\",\"histnorm\":\"\",\"marker\":{\"color\":\"rgba(255, 153, 51, 1.0)\",\"line\":{\"color\":\"#4D5663\",\"width\":1.3}},\"name\":\"A\",\"nbinsx\":20,\"opacity\":0.8,\"orientation\":\"v\",\"x\":[-0.5902303025205717,-2.2016090086623388,0.9688835342587759,0.4097477034647505,-0.6531516478199042,-0.44733786561834193,-0.47482840070158566,-1.0899258739801267,0.018083060890892132,0.18640424228172048,-1.740262022112669,0.07452870131805488,-0.9223778158444266,-1.9232060232149235,0.10735353125742748,-1.1850757900063225,-0.5497291302848054,0.1760346600120734,1.0109279491426288,-1.8800930869821564,0.6818689562292352,1.0013136875986148,-1.4245497173871668,-0.6206539678188364,1.7911365866515108,0.7238100420108368,-0.4204677449441723,-2.154777771126477,-0.6273457251981394,0.1821495912778787,-0.06305727171354696,-0.3905198512997907,0.2528318683594929,0.565418190409366,0.6450981928783018,-0.30807010332343876,0.30513862374559486,-1.7594021492571972,-0.8222574329062964,-0.5735086500790288,-1.3979738724160686,-1.2750186161164196,0.6082933112555565,-0.6097777886272943,0.33734371436621946,-0.5417714102437892,1.375561863788836,2.2056801688936902,0.6405306616954853,1.4161986423742619,-1.0286554899550455,-1.4954126636278111,1.7433309705860673,-0.06255855829844899,-1.3254350939260084,1.2110743664651629,-0.3065195328839513,0.728721977199927,0.7196156850537774,0.17793323956809748,-2.1543583642789113,0.6110026577153034,-0.8926214867297181,0.5131829577150304,-0.4599291034370993,0.5993921592961952,-2.5854795386451497,-1.5187255713236734,-1.5832471980763754,-0.8377799538334126,-0.8174203926960799,-1.0010558563534455,-1.529505285845513,0.4705944311419757,-0.34620452317534356,-1.7587041573689515,0.9752971676066632,1.1613831337131102,1.3446457631064839,-1.4555509876454251,0.4266333975246613,-0.4933550509657777,-1.0762683955046413,-1.1172618918660948,-0.8050366057976863,-0.8191627336334403,2.20208838639601,0.8842178450189843,2.248450908342995,1.263857174507037,0.2817469381374268,0.8268799558075348,0.571564064960558,0.19025113238293712,-0.5390699541755176,1.73433697535019,1.2863853747153662,0.05423139472195194,-1.3151122199680136,0.38122217649893086],\"type\":\"histogram\"},{\"histfunc\":\"count\",\"histnorm\":\"\",\"marker\":{\"color\":\"rgba(55, 128, 191, 1.0)\",\"line\":{\"color\":\"#4D5663\",\"width\":1.3}},\"name\":\"B\",\"nbinsx\":20,\"opacity\":0.8,\"orientation\":\"v\",\"x\":[-1.3670490430437636,0.161450524235461,-0.44217348630356307,0.37545077311535113,-0.26558456358514304,-0.05337396280955743,-0.16286499406938992,-0.6559063241917041,0.2166205230803355,0.579264707040054,0.6570113302304137,1.1128644665473264,1.3437370062884728,1.2253391743149586,0.07243088995730265,-0.16291549888248036,0.5221703263725861,-0.2860873155412922,0.23845897129297605,0.5383216359023025,1.0228260382992838,1.4742375561846004,-0.4971926005756821,-0.3702983491139233,1.2811992881765035,0.5235806670476302,-0.29364591922026506,2.0327478724465315,-0.8321944982609231,-0.10476735233563249,-0.26958492730061334,-0.20189994105473036,1.0847659756245622,-1.1944184798293207,-1.3230740820458162,0.6206316042828937,0.10859772366319033,-0.6156696325698916,0.3984569141979588,0.844077249699107,1.2519032595789779,0.2513651055639649,0.2130378339237908,0.6490835820095017,-0.010798931494050746,0.3941767468516104,-1.6296040595382955,1.813762930471477,2.038570665631588,0.8554014083836431,1.06694928084837,0.7266644331179781,-0.7312737819318127,1.0626543686367567,1.5125446201537545,0.15539761830497265,1.1275135376114895,0.3884913736161449,1.3342540109209156,-0.09870250239733834,0.19263865576084857,1.6508820619017714,-0.6357303957131819,-0.21065746732213148,1.5794879615866562,0.13187081043821755,-0.6910448387634717,-0.9241359886362889,-0.9788028958812267,1.6571093770062777,0.46710147448499517,-0.08167530974313282,-0.32795086978837157,-0.4864270154260517,1.4228982883721621,-1.230082525704563,-1.8388925715141657,0.007416738671856635,-0.8495852847344079,-0.32060058648100864,-0.10872605769317288,0.17620829861536996,2.817567551757438,1.287542016854579,-0.678669908194487,0.4110746516491658,-1.3175798955777698,-0.9259953438941361,0.6365254724876831,0.1645909140545531,1.275561684738259,-0.5512964249982745,0.6776207058555057,-1.0088839072755986,1.2546202290644812,-0.4988731232616055,1.0171125628881423,-0.6730874492229427,2.515399088329593,0.04827347094723881],\"type\":\"histogram\"},{\"histfunc\":\"count\",\"histnorm\":\"\",\"marker\":{\"color\":\"rgba(50, 171, 96, 1.0)\",\"line\":{\"color\":\"#4D5663\",\"width\":1.3}},\"name\":\"C\",\"nbinsx\":20,\"opacity\":0.8,\"orientation\":\"v\",\"x\":[1.0927895381438653,0.3869804888555894,-0.07820871841748094,0.10914875239807878,0.44141128246765543,0.059709641898243994,0.9362562758459936,-0.049469222922685165,-0.9604645141374815,-0.03642247206112177,0.4540126975266702,0.46661801100664024,0.23525896270846847,0.8435264824759354,1.9123308315530168,1.3778178632223428,1.427129817536749,1.5969456284165555,-0.6353716176738434,-0.0852301036877315,-1.3107077999802108,-0.2111203466429529,-0.822676110997687,-0.6399111406824087,0.5784150917630376,-2.0730943122234877,-0.009738024958068586,0.31731126652029606,-0.8621507657761383,1.360291204984467,-1.8087879144579424,-1.1129622729554434,0.5677532651308002,-1.0697605131495675,0.31007992996337114,-0.15813396722000733,-0.24701350019495308,-1.0947940608247673,0.10314984688247189,1.3522471859989258,0.8606312443402826,-0.4553994887831305,-0.027024463446770283,-0.602148747068422,-1.8617033643320429,1.0459214592089945,-0.38172865720440924,-0.9482660908555265,0.8641232502416377,-1.7194676900776327,-1.1994706634027732,0.6713487772149576,-2.1346765408392505,-0.7181127663392818,0.06053680845956763,-0.37917654153482355,0.0894570996922149,-0.05600806767708331,0.928892609407208,-0.7495940138240937,1.2609906474293038,-1.0139880360813422,-1.3111107150205963,-0.9781755940346926,-1.1467667465321165,0.509671842270591,-0.49660618701523934,-0.11180452020127217,-2.0983295549353365,-0.37427308918351176,0.3825874831548487,-0.46048952482532995,-0.7327819745299191,0.9313353321457137,-1.4710842016607026,-1.6229378241379038,-1.365938141973644,0.6442667748038098,1.8008255670720474,1.1644094313071818,1.0284801366288947,-0.9741732106305144,0.599971256821181,-0.8139126818817689,-1.09767394155658,0.31749206036862637,0.3122101323895381,-0.21538581024967854,0.7603118663717938,-2.231394814777633,0.4771245925723608,0.3003655425976786,-0.42850277917924867,-0.3913032486148974,-0.1647431926134105,-1.507024883903592,0.006553607869517606,1.9888006179881683,0.2126792472612787,-1.4987557388322261],\"type\":\"histogram\"},{\"histfunc\":\"count\",\"histnorm\":\"\",\"marker\":{\"color\":\"rgba(128, 0, 128, 1.0)\",\"line\":{\"color\":\"#4D5663\",\"width\":1.3}},\"name\":\"D\",\"nbinsx\":20,\"opacity\":0.8,\"orientation\":\"v\",\"x\":[-0.18404099541891808,0.3705020988811112,2.4707853777241984,-0.6918146703711641,-0.8598510055544313,-1.158422440878767,1.4392467936379234,-0.6444906436631372,0.07894053798934612,-0.14325225219283427,-0.7795377265033557,1.0287344829474763,0.8627307529196024,-1.22890078262128,-0.47042027405335574,-0.23634839918213463,-0.4904857493837416,-0.7944123856144842,0.38778200438058813,0.9465708488659833,0.07899079642198541,-1.2488361957956742,0.19068929934729476,-1.0759649846092925,0.652451644860557,0.3015952648458203,0.5928935225579912,0.16911608311814655,-1.7168319905353358,-0.9965345005712516,-0.799832574687069,-0.4985149362343189,-0.4428008794462112,0.09638485531186627,-0.15011085240866567,1.226181583794429,-0.6037653345291387,-2.553832907788901,0.41976705316316654,0.5751887195240278,0.6003093489706015,-0.17644904294017671,0.6572023046449496,-0.016283320319424494,0.26465186215612035,0.6574045231367414,0.47531636844809133,1.0615391981185471,0.36254004841507625,-0.8377924133433795,1.9398990124400257,0.7769369852373745,0.045950154352748886,-1.5626638233641632,0.31621389478489725,-0.7931086826469803,-1.7551691001506924,1.2294425567019371,-0.0561545639195008,2.0442495940818506,-1.343470161015329,-0.8449773666074941,0.5666466025668979,0.574896431520319,-0.6623593912763195,-3.072259852988364,0.3629716411895115,1.0131910891426401,-2.3279426569230717,0.31783112748115516,-1.0288307099732001,-3.105096101828258,-1.7498390701699789,0.8854827761806933,0.08118201488294917,0.647961662890736,1.891230672055887,0.7914627879619662,1.0700106617800895,0.07227639716562591,0.6201189505305379,-0.5655464421299009,0.06228980710049047,0.2853002537024566,-1.2273085630898832,-0.9103824315747909,0.6627057071312216,0.7732955015308591,-1.5466254411465514,0.22583614943131844,1.6126052875773842,-1.4442686899363433,1.822522637667904,1.823108525324734,2.8499618537430065,-0.3713081051143311,0.10186930241625286,0.8109871340449076,0.6159795521360518,-0.7539276801344859],\"type\":\"histogram\"}],                        {\"barmode\":\"overlay\",\"legend\":{\"bgcolor\":\"#F5F6F9\",\"font\":{\"color\":\"#4D5663\"}},\"paper_bgcolor\":\"#F5F6F9\",\"plot_bgcolor\":\"#F5F6F9\",\"template\":{\"data\":{\"barpolar\":[{\"marker\":{\"line\":{\"color\":\"#E5ECF6\",\"width\":0.5},\"pattern\":{\"fillmode\":\"overlay\",\"size\":10,\"solidity\":0.2}},\"type\":\"barpolar\"}],\"bar\":[{\"error_x\":{\"color\":\"#2a3f5f\"},\"error_y\":{\"color\":\"#2a3f5f\"},\"marker\":{\"line\":{\"color\":\"#E5ECF6\",\"width\":0.5},\"pattern\":{\"fillmode\":\"overlay\",\"size\":10,\"solidity\":0.2}},\"type\":\"bar\"}],\"carpet\":[{\"aaxis\":{\"endlinecolor\":\"#2a3f5f\",\"gridcolor\":\"white\",\"linecolor\":\"white\",\"minorgridcolor\":\"white\",\"startlinecolor\":\"#2a3f5f\"},\"baxis\":{\"endlinecolor\":\"#2a3f5f\",\"gridcolor\":\"white\",\"linecolor\":\"white\",\"minorgridcolor\":\"white\",\"startlinecolor\":\"#2a3f5f\"},\"type\":\"carpet\"}],\"choropleth\":[{\"colorbar\":{\"outlinewidth\":0,\"ticks\":\"\"},\"type\":\"choropleth\"}],\"contourcarpet\":[{\"colorbar\":{\"outlinewidth\":0,\"ticks\":\"\"},\"type\":\"contourcarpet\"}],\"contour\":[{\"colorbar\":{\"outlinewidth\":0,\"ticks\":\"\"},\"colorscale\":[[0.0,\"#0d0887\"],[0.1111111111111111,\"#46039f\"],[0.2222222222222222,\"#7201a8\"],[0.3333333333333333,\"#9c179e\"],[0.4444444444444444,\"#bd3786\"],[0.5555555555555556,\"#d8576b\"],[0.6666666666666666,\"#ed7953\"],[0.7777777777777778,\"#fb9f3a\"],[0.8888888888888888,\"#fdca26\"],[1.0,\"#f0f921\"]],\"type\":\"contour\"}],\"heatmapgl\":[{\"colorbar\":{\"outlinewidth\":0,\"ticks\":\"\"},\"colorscale\":[[0.0,\"#0d0887\"],[0.1111111111111111,\"#46039f\"],[0.2222222222222222,\"#7201a8\"],[0.3333333333333333,\"#9c179e\"],[0.4444444444444444,\"#bd3786\"],[0.5555555555555556,\"#d8576b\"],[0.6666666666666666,\"#ed7953\"],[0.7777777777777778,\"#fb9f3a\"],[0.8888888888888888,\"#fdca26\"],[1.0,\"#f0f921\"]],\"type\":\"heatmapgl\"}],\"heatmap\":[{\"colorbar\":{\"outlinewidth\":0,\"ticks\":\"\"},\"colorscale\":[[0.0,\"#0d0887\"],[0.1111111111111111,\"#46039f\"],[0.2222222222222222,\"#7201a8\"],[0.3333333333333333,\"#9c179e\"],[0.4444444444444444,\"#bd3786\"],[0.5555555555555556,\"#d8576b\"],[0.6666666666666666,\"#ed7953\"],[0.7777777777777778,\"#fb9f3a\"],[0.8888888888888888,\"#fdca26\"],[1.0,\"#f0f921\"]],\"type\":\"heatmap\"}],\"histogram2dcontour\":[{\"colorbar\":{\"outlinewidth\":0,\"ticks\":\"\"},\"colorscale\":[[0.0,\"#0d0887\"],[0.1111111111111111,\"#46039f\"],[0.2222222222222222,\"#7201a8\"],[0.3333333333333333,\"#9c179e\"],[0.4444444444444444,\"#bd3786\"],[0.5555555555555556,\"#d8576b\"],[0.6666666666666666,\"#ed7953\"],[0.7777777777777778,\"#fb9f3a\"],[0.8888888888888888,\"#fdca26\"],[1.0,\"#f0f921\"]],\"type\":\"histogram2dcontour\"}],\"histogram2d\":[{\"colorbar\":{\"outlinewidth\":0,\"ticks\":\"\"},\"colorscale\":[[0.0,\"#0d0887\"],[0.1111111111111111,\"#46039f\"],[0.2222222222222222,\"#7201a8\"],[0.3333333333333333,\"#9c179e\"],[0.4444444444444444,\"#bd3786\"],[0.5555555555555556,\"#d8576b\"],[0.6666666666666666,\"#ed7953\"],[0.7777777777777778,\"#fb9f3a\"],[0.8888888888888888,\"#fdca26\"],[1.0,\"#f0f921\"]],\"type\":\"histogram2d\"}],\"histogram\":[{\"marker\":{\"pattern\":{\"fillmode\":\"overlay\",\"size\":10,\"solidity\":0.2}},\"type\":\"histogram\"}],\"mesh3d\":[{\"colorbar\":{\"outlinewidth\":0,\"ticks\":\"\"},\"type\":\"mesh3d\"}],\"parcoords\":[{\"line\":{\"colorbar\":{\"outlinewidth\":0,\"ticks\":\"\"}},\"type\":\"parcoords\"}],\"pie\":[{\"automargin\":true,\"type\":\"pie\"}],\"scatter3d\":[{\"line\":{\"colorbar\":{\"outlinewidth\":0,\"ticks\":\"\"}},\"marker\":{\"colorbar\":{\"outlinewidth\":0,\"ticks\":\"\"}},\"type\":\"scatter3d\"}],\"scattercarpet\":[{\"marker\":{\"colorbar\":{\"outlinewidth\":0,\"ticks\":\"\"}},\"type\":\"scattercarpet\"}],\"scattergeo\":[{\"marker\":{\"colorbar\":{\"outlinewidth\":0,\"ticks\":\"\"}},\"type\":\"scattergeo\"}],\"scattergl\":[{\"marker\":{\"colorbar\":{\"outlinewidth\":0,\"ticks\":\"\"}},\"type\":\"scattergl\"}],\"scattermapbox\":[{\"marker\":{\"colorbar\":{\"outlinewidth\":0,\"ticks\":\"\"}},\"type\":\"scattermapbox\"}],\"scatterpolargl\":[{\"marker\":{\"colorbar\":{\"outlinewidth\":0,\"ticks\":\"\"}},\"type\":\"scatterpolargl\"}],\"scatterpolar\":[{\"marker\":{\"colorbar\":{\"outlinewidth\":0,\"ticks\":\"\"}},\"type\":\"scatterpolar\"}],\"scatter\":[{\"marker\":{\"colorbar\":{\"outlinewidth\":0,\"ticks\":\"\"}},\"type\":\"scatter\"}],\"scatterternary\":[{\"marker\":{\"colorbar\":{\"outlinewidth\":0,\"ticks\":\"\"}},\"type\":\"scatterternary\"}],\"surface\":[{\"colorbar\":{\"outlinewidth\":0,\"ticks\":\"\"},\"colorscale\":[[0.0,\"#0d0887\"],[0.1111111111111111,\"#46039f\"],[0.2222222222222222,\"#7201a8\"],[0.3333333333333333,\"#9c179e\"],[0.4444444444444444,\"#bd3786\"],[0.5555555555555556,\"#d8576b\"],[0.6666666666666666,\"#ed7953\"],[0.7777777777777778,\"#fb9f3a\"],[0.8888888888888888,\"#fdca26\"],[1.0,\"#f0f921\"]],\"type\":\"surface\"}],\"table\":[{\"cells\":{\"fill\":{\"color\":\"#EBF0F8\"},\"line\":{\"color\":\"white\"}},\"header\":{\"fill\":{\"color\":\"#C8D4E3\"},\"line\":{\"color\":\"white\"}},\"type\":\"table\"}]},\"layout\":{\"annotationdefaults\":{\"arrowcolor\":\"#2a3f5f\",\"arrowhead\":0,\"arrowwidth\":1},\"autotypenumbers\":\"strict\",\"coloraxis\":{\"colorbar\":{\"outlinewidth\":0,\"ticks\":\"\"}},\"colorscale\":{\"diverging\":[[0,\"#8e0152\"],[0.1,\"#c51b7d\"],[0.2,\"#de77ae\"],[0.3,\"#f1b6da\"],[0.4,\"#fde0ef\"],[0.5,\"#f7f7f7\"],[0.6,\"#e6f5d0\"],[0.7,\"#b8e186\"],[0.8,\"#7fbc41\"],[0.9,\"#4d9221\"],[1,\"#276419\"]],\"sequential\":[[0.0,\"#0d0887\"],[0.1111111111111111,\"#46039f\"],[0.2222222222222222,\"#7201a8\"],[0.3333333333333333,\"#9c179e\"],[0.4444444444444444,\"#bd3786\"],[0.5555555555555556,\"#d8576b\"],[0.6666666666666666,\"#ed7953\"],[0.7777777777777778,\"#fb9f3a\"],[0.8888888888888888,\"#fdca26\"],[1.0,\"#f0f921\"]],\"sequentialminus\":[[0.0,\"#0d0887\"],[0.1111111111111111,\"#46039f\"],[0.2222222222222222,\"#7201a8\"],[0.3333333333333333,\"#9c179e\"],[0.4444444444444444,\"#bd3786\"],[0.5555555555555556,\"#d8576b\"],[0.6666666666666666,\"#ed7953\"],[0.7777777777777778,\"#fb9f3a\"],[0.8888888888888888,\"#fdca26\"],[1.0,\"#f0f921\"]]},\"colorway\":[\"#636efa\",\"#EF553B\",\"#00cc96\",\"#ab63fa\",\"#FFA15A\",\"#19d3f3\",\"#FF6692\",\"#B6E880\",\"#FF97FF\",\"#FECB52\"],\"font\":{\"color\":\"#2a3f5f\"},\"geo\":{\"bgcolor\":\"white\",\"lakecolor\":\"white\",\"landcolor\":\"#E5ECF6\",\"showlakes\":true,\"showland\":true,\"subunitcolor\":\"white\"},\"hoverlabel\":{\"align\":\"left\"},\"hovermode\":\"closest\",\"mapbox\":{\"style\":\"light\"},\"paper_bgcolor\":\"white\",\"plot_bgcolor\":\"#E5ECF6\",\"polar\":{\"angularaxis\":{\"gridcolor\":\"white\",\"linecolor\":\"white\",\"ticks\":\"\"},\"bgcolor\":\"#E5ECF6\",\"radialaxis\":{\"gridcolor\":\"white\",\"linecolor\":\"white\",\"ticks\":\"\"}},\"scene\":{\"xaxis\":{\"backgroundcolor\":\"#E5ECF6\",\"gridcolor\":\"white\",\"gridwidth\":2,\"linecolor\":\"white\",\"showbackground\":true,\"ticks\":\"\",\"zerolinecolor\":\"white\"},\"yaxis\":{\"backgroundcolor\":\"#E5ECF6\",\"gridcolor\":\"white\",\"gridwidth\":2,\"linecolor\":\"white\",\"showbackground\":true,\"ticks\":\"\",\"zerolinecolor\":\"white\"},\"zaxis\":{\"backgroundcolor\":\"#E5ECF6\",\"gridcolor\":\"white\",\"gridwidth\":2,\"linecolor\":\"white\",\"showbackground\":true,\"ticks\":\"\",\"zerolinecolor\":\"white\"}},\"shapedefaults\":{\"line\":{\"color\":\"#2a3f5f\"}},\"ternary\":{\"aaxis\":{\"gridcolor\":\"white\",\"linecolor\":\"white\",\"ticks\":\"\"},\"baxis\":{\"gridcolor\":\"white\",\"linecolor\":\"white\",\"ticks\":\"\"},\"bgcolor\":\"#E5ECF6\",\"caxis\":{\"gridcolor\":\"white\",\"linecolor\":\"white\",\"ticks\":\"\"}},\"title\":{\"x\":0.05},\"xaxis\":{\"automargin\":true,\"gridcolor\":\"white\",\"linecolor\":\"white\",\"ticks\":\"\",\"title\":{\"standoff\":15},\"zerolinecolor\":\"white\",\"zerolinewidth\":2},\"yaxis\":{\"automargin\":true,\"gridcolor\":\"white\",\"linecolor\":\"white\",\"ticks\":\"\",\"title\":{\"standoff\":15},\"zerolinecolor\":\"white\",\"zerolinewidth\":2}}},\"title\":{\"font\":{\"color\":\"#4D5663\"}},\"xaxis\":{\"gridcolor\":\"#E1E5ED\",\"showgrid\":true,\"tickfont\":{\"color\":\"#4D5663\"},\"title\":{\"font\":{\"color\":\"#4D5663\"},\"text\":\"\"},\"zerolinecolor\":\"#E1E5ED\"},\"yaxis\":{\"gridcolor\":\"#E1E5ED\",\"showgrid\":true,\"tickfont\":{\"color\":\"#4D5663\"},\"title\":{\"font\":{\"color\":\"#4D5663\"},\"text\":\"\"},\"zerolinecolor\":\"#E1E5ED\"}},                        {\"showLink\": true, \"linkText\": \"Export to plot.ly\", \"plotlyServerURL\": \"https://plot.ly\", \"responsive\": true}                    ).then(function(){\n",
       "                            \n",
       "var gd = document.getElementById('525ead08-2e24-4587-80d6-26a10bb5cabc');\n",
       "var x = new MutationObserver(function (mutations, observer) {{\n",
       "        var display = window.getComputedStyle(gd).display;\n",
       "        if (!display || display === 'none') {{\n",
       "            console.log([gd, 'removed!']);\n",
       "            Plotly.purge(gd);\n",
       "            observer.disconnect();\n",
       "        }}\n",
       "}});\n",
       "\n",
       "// Listen for the removal of the full notebook cells\n",
       "var notebookContainer = gd.closest('#notebook-container');\n",
       "if (notebookContainer) {{\n",
       "    x.observe(notebookContainer, {childList: true});\n",
       "}}\n",
       "\n",
       "// Listen for the clearing of the current output cell\n",
       "var outputEl = gd.closest('.output');\n",
       "if (outputEl) {{\n",
       "    x.observe(outputEl, {childList: true});\n",
       "}}\n",
       "\n",
       "                        })                };                });            </script>        </div>"
      ]
     },
     "metadata": {},
     "output_type": "display_data"
    }
   ],
   "source": [
    "df.iplot(kind='hist', bins=20)"
   ]
  },
  {
   "cell_type": "code",
   "execution_count": 28,
   "metadata": {},
   "outputs": [
    {
     "name": "stderr",
     "output_type": "stream",
     "text": [
      "C:\\Users\\fotis\\anaconda3\\lib\\site-packages\\cufflinks\\plotlytools.py:849: FutureWarning:\n",
      "\n",
      "The pandas.np module is deprecated and will be removed from pandas in a future version. Import numpy directly instead\n",
      "\n",
      "C:\\Users\\fotis\\anaconda3\\lib\\site-packages\\cufflinks\\plotlytools.py:850: FutureWarning:\n",
      "\n",
      "The pandas.np module is deprecated and will be removed from pandas in a future version. Import numpy directly instead\n",
      "\n"
     ]
    },
    {
     "data": {
      "application/vnd.plotly.v1+json": {
       "config": {
        "linkText": "Export to plot.ly",
        "plotlyServerURL": "https://plot.ly",
        "showLink": true
       },
       "data": [
        {
         "line": {
          "color": "rgba(255, 153, 51, 1.0)",
          "dash": "solid",
          "shape": "linear",
          "width": 1.3
         },
         "mode": "lines",
         "name": "A",
         "text": "",
         "type": "scatter",
         "x": [
          0,
          1,
          2,
          3,
          4,
          5,
          6,
          7,
          8,
          9,
          10,
          11,
          12,
          13,
          14,
          15,
          16,
          17,
          18,
          19,
          20,
          21,
          22,
          23,
          24,
          25,
          26,
          27,
          28,
          29,
          30,
          31,
          32,
          33,
          34,
          35,
          36,
          37,
          38,
          39,
          40,
          41,
          42,
          43,
          44,
          45,
          46,
          47,
          48,
          49,
          50,
          51,
          52,
          53,
          54,
          55,
          56,
          57,
          58,
          59,
          60,
          61,
          62,
          63,
          64,
          65,
          66,
          67,
          68,
          69,
          70,
          71,
          72,
          73,
          74,
          75,
          76,
          77,
          78,
          79,
          80,
          81,
          82,
          83,
          84,
          85,
          86,
          87,
          88,
          89,
          90,
          91,
          92,
          93,
          94,
          95,
          96,
          97,
          98,
          99
         ],
         "y": [
          -0.5902303025205717,
          -2.2016090086623388,
          0.9688835342587759,
          0.4097477034647505,
          -0.6531516478199042,
          -0.44733786561834193,
          -0.47482840070158566,
          -1.0899258739801267,
          0.018083060890892132,
          0.18640424228172048,
          -1.740262022112669,
          0.07452870131805488,
          -0.9223778158444266,
          -1.9232060232149235,
          0.10735353125742748,
          -1.1850757900063225,
          -0.5497291302848054,
          0.1760346600120734,
          1.0109279491426288,
          -1.8800930869821564,
          0.6818689562292352,
          1.0013136875986148,
          -1.4245497173871668,
          -0.6206539678188364,
          1.7911365866515108,
          0.7238100420108368,
          -0.4204677449441723,
          -2.154777771126477,
          -0.6273457251981394,
          0.1821495912778787,
          -0.06305727171354696,
          -0.3905198512997907,
          0.2528318683594929,
          0.565418190409366,
          0.6450981928783018,
          -0.30807010332343876,
          0.30513862374559486,
          -1.7594021492571972,
          -0.8222574329062964,
          -0.5735086500790288,
          -1.3979738724160686,
          -1.2750186161164196,
          0.6082933112555565,
          -0.6097777886272943,
          0.33734371436621946,
          -0.5417714102437892,
          1.375561863788836,
          2.2056801688936902,
          0.6405306616954853,
          1.4161986423742619,
          -1.0286554899550455,
          -1.4954126636278111,
          1.7433309705860673,
          -0.06255855829844899,
          -1.3254350939260084,
          1.2110743664651629,
          -0.3065195328839513,
          0.728721977199927,
          0.7196156850537774,
          0.17793323956809748,
          -2.1543583642789113,
          0.6110026577153034,
          -0.8926214867297181,
          0.5131829577150304,
          -0.4599291034370993,
          0.5993921592961952,
          -2.5854795386451497,
          -1.5187255713236734,
          -1.5832471980763754,
          -0.8377799538334126,
          -0.8174203926960799,
          -1.0010558563534455,
          -1.529505285845513,
          0.4705944311419757,
          -0.34620452317534356,
          -1.7587041573689515,
          0.9752971676066632,
          1.1613831337131102,
          1.3446457631064839,
          -1.4555509876454251,
          0.4266333975246613,
          -0.4933550509657777,
          -1.0762683955046413,
          -1.1172618918660948,
          -0.8050366057976863,
          -0.8191627336334403,
          2.20208838639601,
          0.8842178450189843,
          2.248450908342995,
          1.263857174507037,
          0.2817469381374268,
          0.8268799558075348,
          0.571564064960558,
          0.19025113238293712,
          -0.5390699541755176,
          1.73433697535019,
          1.2863853747153662,
          0.05423139472195194,
          -1.3151122199680136,
          0.38122217649893086
         ]
        },
        {
         "line": {
          "color": "rgba(55, 128, 191, 1.0)",
          "dash": "solid",
          "shape": "linear",
          "width": 1.3
         },
         "mode": "lines",
         "name": "B",
         "text": "",
         "type": "scatter",
         "x": [
          0,
          1,
          2,
          3,
          4,
          5,
          6,
          7,
          8,
          9,
          10,
          11,
          12,
          13,
          14,
          15,
          16,
          17,
          18,
          19,
          20,
          21,
          22,
          23,
          24,
          25,
          26,
          27,
          28,
          29,
          30,
          31,
          32,
          33,
          34,
          35,
          36,
          37,
          38,
          39,
          40,
          41,
          42,
          43,
          44,
          45,
          46,
          47,
          48,
          49,
          50,
          51,
          52,
          53,
          54,
          55,
          56,
          57,
          58,
          59,
          60,
          61,
          62,
          63,
          64,
          65,
          66,
          67,
          68,
          69,
          70,
          71,
          72,
          73,
          74,
          75,
          76,
          77,
          78,
          79,
          80,
          81,
          82,
          83,
          84,
          85,
          86,
          87,
          88,
          89,
          90,
          91,
          92,
          93,
          94,
          95,
          96,
          97,
          98,
          99
         ],
         "y": [
          -1.3670490430437636,
          0.161450524235461,
          -0.44217348630356307,
          0.37545077311535113,
          -0.26558456358514304,
          -0.05337396280955743,
          -0.16286499406938992,
          -0.6559063241917041,
          0.2166205230803355,
          0.579264707040054,
          0.6570113302304137,
          1.1128644665473264,
          1.3437370062884728,
          1.2253391743149586,
          0.07243088995730265,
          -0.16291549888248036,
          0.5221703263725861,
          -0.2860873155412922,
          0.23845897129297605,
          0.5383216359023025,
          1.0228260382992838,
          1.4742375561846004,
          -0.4971926005756821,
          -0.3702983491139233,
          1.2811992881765035,
          0.5235806670476302,
          -0.29364591922026506,
          2.0327478724465315,
          -0.8321944982609231,
          -0.10476735233563249,
          -0.26958492730061334,
          -0.20189994105473036,
          1.0847659756245622,
          -1.1944184798293207,
          -1.3230740820458162,
          0.6206316042828937,
          0.10859772366319033,
          -0.6156696325698916,
          0.3984569141979588,
          0.844077249699107,
          1.2519032595789779,
          0.2513651055639649,
          0.2130378339237908,
          0.6490835820095017,
          -0.010798931494050746,
          0.3941767468516104,
          -1.6296040595382955,
          1.813762930471477,
          2.038570665631588,
          0.8554014083836431,
          1.06694928084837,
          0.7266644331179781,
          -0.7312737819318127,
          1.0626543686367567,
          1.5125446201537545,
          0.15539761830497265,
          1.1275135376114895,
          0.3884913736161449,
          1.3342540109209156,
          -0.09870250239733834,
          0.19263865576084857,
          1.6508820619017714,
          -0.6357303957131819,
          -0.21065746732213148,
          1.5794879615866562,
          0.13187081043821755,
          -0.6910448387634717,
          -0.9241359886362889,
          -0.9788028958812267,
          1.6571093770062777,
          0.46710147448499517,
          -0.08167530974313282,
          -0.32795086978837157,
          -0.4864270154260517,
          1.4228982883721621,
          -1.230082525704563,
          -1.8388925715141657,
          0.007416738671856635,
          -0.8495852847344079,
          -0.32060058648100864,
          -0.10872605769317288,
          0.17620829861536996,
          2.817567551757438,
          1.287542016854579,
          -0.678669908194487,
          0.4110746516491658,
          -1.3175798955777698,
          -0.9259953438941361,
          0.6365254724876831,
          0.1645909140545531,
          1.275561684738259,
          -0.5512964249982745,
          0.6776207058555057,
          -1.0088839072755986,
          1.2546202290644812,
          -0.4988731232616055,
          1.0171125628881423,
          -0.6730874492229427,
          2.515399088329593,
          0.04827347094723881
         ]
        },
        {
         "connectgaps": false,
         "fill": "tozeroy",
         "line": {
          "color": "green",
          "dash": "solid",
          "shape": "linear",
          "width": 0.5
         },
         "mode": "lines",
         "name": "Spread",
         "showlegend": false,
         "type": "scatter",
         "x": [
          0,
          1,
          2,
          3,
          4,
          5,
          6,
          7,
          8,
          9,
          10,
          11,
          12,
          13,
          14,
          15,
          16,
          17,
          18,
          19,
          20,
          21,
          22,
          23,
          24,
          25,
          26,
          27,
          28,
          29,
          30,
          31,
          32,
          33,
          34,
          35,
          36,
          37,
          38,
          39,
          40,
          41,
          42,
          43,
          44,
          45,
          46,
          47,
          48,
          49,
          50,
          51,
          52,
          53,
          54,
          55,
          56,
          57,
          58,
          59,
          60,
          61,
          62,
          63,
          64,
          65,
          66,
          67,
          68,
          69,
          70,
          71,
          72,
          73,
          74,
          75,
          76,
          77,
          78,
          79,
          80,
          81,
          82,
          83,
          84,
          85,
          86,
          87,
          88,
          89,
          90,
          91,
          92,
          93,
          94,
          95,
          96,
          97,
          98,
          99
         ],
         "xaxis": "x2",
         "y": [
          0.7768187405231919,
          "",
          1.411057020562339,
          0.034296930349399346,
          "",
          "",
          "",
          "",
          "",
          "",
          "",
          "",
          "",
          "",
          0.03492264130012483,
          "",
          "",
          0.4621219755533656,
          0.7724689778496527,
          "",
          "",
          "",
          "",
          "",
          0.5099372984750072,
          0.20022937496320659,
          "",
          "",
          0.2048487730627837,
          0.28691694361351117,
          0.20652765558706637,
          "",
          "",
          1.7598366702386867,
          1.9681722749241182,
          "",
          0.19654090008240455,
          "",
          "",
          "",
          "",
          "",
          0.3952554773317657,
          "",
          0.3481426458602702,
          "",
          3.0051659233271315,
          0.39191723842221315,
          "",
          0.5607972339906188,
          "",
          "",
          2.4746047525178803,
          "",
          "",
          1.0556767481601903,
          "",
          0.34023060358378215,
          "",
          0.27663574196543583,
          "",
          "",
          "",
          0.723840425037162,
          "",
          0.4675213488579776,
          "",
          "",
          "",
          "",
          "",
          "",
          "",
          0.9570214465680273,
          "",
          "",
          2.814189739120829,
          1.1539663950412535,
          2.1942310478408915,
          "",
          0.5353594552178341,
          "",
          "",
          "",
          "",
          "",
          3.5196682819737797,
          1.8102131889131203,
          1.6119254358553121,
          1.0992662604524839,
          "",
          1.3781763808058094,
          "",
          1.1991350396585356,
          "",
          2.2332100986117958,
          0.26927281182722385,
          0.7273188439448947,
          "",
          0.33294870555169204
         ],
         "yaxis": "y2"
        },
        {
         "connectgaps": false,
         "fill": "tozeroy",
         "line": {
          "color": "red",
          "dash": "solid",
          "shape": "linear",
          "width": 0.5
         },
         "mode": "lines",
         "name": "Spread",
         "showlegend": false,
         "type": "scatter",
         "x": [
          0,
          1,
          2,
          3,
          4,
          5,
          6,
          7,
          8,
          9,
          10,
          11,
          12,
          13,
          14,
          15,
          16,
          17,
          18,
          19,
          20,
          21,
          22,
          23,
          24,
          25,
          26,
          27,
          28,
          29,
          30,
          31,
          32,
          33,
          34,
          35,
          36,
          37,
          38,
          39,
          40,
          41,
          42,
          43,
          44,
          45,
          46,
          47,
          48,
          49,
          50,
          51,
          52,
          53,
          54,
          55,
          56,
          57,
          58,
          59,
          60,
          61,
          62,
          63,
          64,
          65,
          66,
          67,
          68,
          69,
          70,
          71,
          72,
          73,
          74,
          75,
          76,
          77,
          78,
          79,
          80,
          81,
          82,
          83,
          84,
          85,
          86,
          87,
          88,
          89,
          90,
          91,
          92,
          93,
          94,
          95,
          96,
          97,
          98,
          99
         ],
         "xaxis": "x2",
         "y": [
          "",
          -2.3630595328978,
          "",
          "",
          -0.38756708423476116,
          -0.3939639028087845,
          -0.31196340663219574,
          -0.4340195497884226,
          -0.19853746218944338,
          -0.39286046475833347,
          -2.397273352343083,
          -1.0383357652292715,
          -2.2661148221328995,
          -3.148545197529882,
          "",
          -1.022160291123842,
          -1.0718994566573916,
          "",
          "",
          -2.418414722884459,
          -0.3409570820700486,
          -0.47292386858598556,
          -0.9273571168114847,
          -0.25035561870491313,
          "",
          "",
          -0.1268218257239072,
          -4.187525643573009,
          "",
          "",
          "",
          -0.18861991024506036,
          -0.8319341072650693,
          "",
          "",
          -0.9287017076063324,
          "",
          -1.1437325166873056,
          -1.2207143471042552,
          -1.4175858997781359,
          -2.6498771319950465,
          -1.5263837216803846,
          "",
          -1.258861370636796,
          "",
          -0.9359481570953996,
          "",
          "",
          -1.3980400039361027,
          "",
          -2.0956047708034156,
          -2.2220770967457892,
          "",
          -1.1252129269352056,
          -2.837979714079763,
          "",
          -1.434033070495441,
          "",
          -0.6146383258671382,
          "",
          -2.3469970200397596,
          -1.039879404186468,
          -0.2568910910165362,
          "",
          -2.0394170650237555,
          "",
          -1.894434699881678,
          -0.5945895826873845,
          -0.6044443021951487,
          -2.4948893308396904,
          -1.2845218671810752,
          -0.9193805466103127,
          -1.2015544160571414,
          "",
          -1.7691028115475058,
          -0.5286216316643886,
          "",
          "",
          "",
          -1.1349504011644165,
          "",
          -0.6695633495811477,
          -3.893835947262079,
          -2.404803908720674,
          -0.1263666976031993,
          -1.230237385282606,
          "",
          "",
          "",
          "",
          -0.9938147466008321,
          "",
          -0.1060566408949477,
          "",
          -1.793690183239999,
          "",
          "",
          "",
          -3.8305113082976066,
          ""
         ],
         "yaxis": "y2"
        }
       ],
       "layout": {
        "hovermode": "x",
        "legend": {
         "bgcolor": "#F5F6F9",
         "font": {
          "color": "#4D5663"
         }
        },
        "paper_bgcolor": "#F5F6F9",
        "plot_bgcolor": "#F5F6F9",
        "template": {
         "data": {
          "bar": [
           {
            "error_x": {
             "color": "#2a3f5f"
            },
            "error_y": {
             "color": "#2a3f5f"
            },
            "marker": {
             "line": {
              "color": "#E5ECF6",
              "width": 0.5
             },
             "pattern": {
              "fillmode": "overlay",
              "size": 10,
              "solidity": 0.2
             }
            },
            "type": "bar"
           }
          ],
          "barpolar": [
           {
            "marker": {
             "line": {
              "color": "#E5ECF6",
              "width": 0.5
             },
             "pattern": {
              "fillmode": "overlay",
              "size": 10,
              "solidity": 0.2
             }
            },
            "type": "barpolar"
           }
          ],
          "carpet": [
           {
            "aaxis": {
             "endlinecolor": "#2a3f5f",
             "gridcolor": "white",
             "linecolor": "white",
             "minorgridcolor": "white",
             "startlinecolor": "#2a3f5f"
            },
            "baxis": {
             "endlinecolor": "#2a3f5f",
             "gridcolor": "white",
             "linecolor": "white",
             "minorgridcolor": "white",
             "startlinecolor": "#2a3f5f"
            },
            "type": "carpet"
           }
          ],
          "choropleth": [
           {
            "colorbar": {
             "outlinewidth": 0,
             "ticks": ""
            },
            "type": "choropleth"
           }
          ],
          "contour": [
           {
            "colorbar": {
             "outlinewidth": 0,
             "ticks": ""
            },
            "colorscale": [
             [
              0,
              "#0d0887"
             ],
             [
              0.1111111111111111,
              "#46039f"
             ],
             [
              0.2222222222222222,
              "#7201a8"
             ],
             [
              0.3333333333333333,
              "#9c179e"
             ],
             [
              0.4444444444444444,
              "#bd3786"
             ],
             [
              0.5555555555555556,
              "#d8576b"
             ],
             [
              0.6666666666666666,
              "#ed7953"
             ],
             [
              0.7777777777777778,
              "#fb9f3a"
             ],
             [
              0.8888888888888888,
              "#fdca26"
             ],
             [
              1,
              "#f0f921"
             ]
            ],
            "type": "contour"
           }
          ],
          "contourcarpet": [
           {
            "colorbar": {
             "outlinewidth": 0,
             "ticks": ""
            },
            "type": "contourcarpet"
           }
          ],
          "heatmap": [
           {
            "colorbar": {
             "outlinewidth": 0,
             "ticks": ""
            },
            "colorscale": [
             [
              0,
              "#0d0887"
             ],
             [
              0.1111111111111111,
              "#46039f"
             ],
             [
              0.2222222222222222,
              "#7201a8"
             ],
             [
              0.3333333333333333,
              "#9c179e"
             ],
             [
              0.4444444444444444,
              "#bd3786"
             ],
             [
              0.5555555555555556,
              "#d8576b"
             ],
             [
              0.6666666666666666,
              "#ed7953"
             ],
             [
              0.7777777777777778,
              "#fb9f3a"
             ],
             [
              0.8888888888888888,
              "#fdca26"
             ],
             [
              1,
              "#f0f921"
             ]
            ],
            "type": "heatmap"
           }
          ],
          "heatmapgl": [
           {
            "colorbar": {
             "outlinewidth": 0,
             "ticks": ""
            },
            "colorscale": [
             [
              0,
              "#0d0887"
             ],
             [
              0.1111111111111111,
              "#46039f"
             ],
             [
              0.2222222222222222,
              "#7201a8"
             ],
             [
              0.3333333333333333,
              "#9c179e"
             ],
             [
              0.4444444444444444,
              "#bd3786"
             ],
             [
              0.5555555555555556,
              "#d8576b"
             ],
             [
              0.6666666666666666,
              "#ed7953"
             ],
             [
              0.7777777777777778,
              "#fb9f3a"
             ],
             [
              0.8888888888888888,
              "#fdca26"
             ],
             [
              1,
              "#f0f921"
             ]
            ],
            "type": "heatmapgl"
           }
          ],
          "histogram": [
           {
            "marker": {
             "pattern": {
              "fillmode": "overlay",
              "size": 10,
              "solidity": 0.2
             }
            },
            "type": "histogram"
           }
          ],
          "histogram2d": [
           {
            "colorbar": {
             "outlinewidth": 0,
             "ticks": ""
            },
            "colorscale": [
             [
              0,
              "#0d0887"
             ],
             [
              0.1111111111111111,
              "#46039f"
             ],
             [
              0.2222222222222222,
              "#7201a8"
             ],
             [
              0.3333333333333333,
              "#9c179e"
             ],
             [
              0.4444444444444444,
              "#bd3786"
             ],
             [
              0.5555555555555556,
              "#d8576b"
             ],
             [
              0.6666666666666666,
              "#ed7953"
             ],
             [
              0.7777777777777778,
              "#fb9f3a"
             ],
             [
              0.8888888888888888,
              "#fdca26"
             ],
             [
              1,
              "#f0f921"
             ]
            ],
            "type": "histogram2d"
           }
          ],
          "histogram2dcontour": [
           {
            "colorbar": {
             "outlinewidth": 0,
             "ticks": ""
            },
            "colorscale": [
             [
              0,
              "#0d0887"
             ],
             [
              0.1111111111111111,
              "#46039f"
             ],
             [
              0.2222222222222222,
              "#7201a8"
             ],
             [
              0.3333333333333333,
              "#9c179e"
             ],
             [
              0.4444444444444444,
              "#bd3786"
             ],
             [
              0.5555555555555556,
              "#d8576b"
             ],
             [
              0.6666666666666666,
              "#ed7953"
             ],
             [
              0.7777777777777778,
              "#fb9f3a"
             ],
             [
              0.8888888888888888,
              "#fdca26"
             ],
             [
              1,
              "#f0f921"
             ]
            ],
            "type": "histogram2dcontour"
           }
          ],
          "mesh3d": [
           {
            "colorbar": {
             "outlinewidth": 0,
             "ticks": ""
            },
            "type": "mesh3d"
           }
          ],
          "parcoords": [
           {
            "line": {
             "colorbar": {
              "outlinewidth": 0,
              "ticks": ""
             }
            },
            "type": "parcoords"
           }
          ],
          "pie": [
           {
            "automargin": true,
            "type": "pie"
           }
          ],
          "scatter": [
           {
            "marker": {
             "colorbar": {
              "outlinewidth": 0,
              "ticks": ""
             }
            },
            "type": "scatter"
           }
          ],
          "scatter3d": [
           {
            "line": {
             "colorbar": {
              "outlinewidth": 0,
              "ticks": ""
             }
            },
            "marker": {
             "colorbar": {
              "outlinewidth": 0,
              "ticks": ""
             }
            },
            "type": "scatter3d"
           }
          ],
          "scattercarpet": [
           {
            "marker": {
             "colorbar": {
              "outlinewidth": 0,
              "ticks": ""
             }
            },
            "type": "scattercarpet"
           }
          ],
          "scattergeo": [
           {
            "marker": {
             "colorbar": {
              "outlinewidth": 0,
              "ticks": ""
             }
            },
            "type": "scattergeo"
           }
          ],
          "scattergl": [
           {
            "marker": {
             "colorbar": {
              "outlinewidth": 0,
              "ticks": ""
             }
            },
            "type": "scattergl"
           }
          ],
          "scattermapbox": [
           {
            "marker": {
             "colorbar": {
              "outlinewidth": 0,
              "ticks": ""
             }
            },
            "type": "scattermapbox"
           }
          ],
          "scatterpolar": [
           {
            "marker": {
             "colorbar": {
              "outlinewidth": 0,
              "ticks": ""
             }
            },
            "type": "scatterpolar"
           }
          ],
          "scatterpolargl": [
           {
            "marker": {
             "colorbar": {
              "outlinewidth": 0,
              "ticks": ""
             }
            },
            "type": "scatterpolargl"
           }
          ],
          "scatterternary": [
           {
            "marker": {
             "colorbar": {
              "outlinewidth": 0,
              "ticks": ""
             }
            },
            "type": "scatterternary"
           }
          ],
          "surface": [
           {
            "colorbar": {
             "outlinewidth": 0,
             "ticks": ""
            },
            "colorscale": [
             [
              0,
              "#0d0887"
             ],
             [
              0.1111111111111111,
              "#46039f"
             ],
             [
              0.2222222222222222,
              "#7201a8"
             ],
             [
              0.3333333333333333,
              "#9c179e"
             ],
             [
              0.4444444444444444,
              "#bd3786"
             ],
             [
              0.5555555555555556,
              "#d8576b"
             ],
             [
              0.6666666666666666,
              "#ed7953"
             ],
             [
              0.7777777777777778,
              "#fb9f3a"
             ],
             [
              0.8888888888888888,
              "#fdca26"
             ],
             [
              1,
              "#f0f921"
             ]
            ],
            "type": "surface"
           }
          ],
          "table": [
           {
            "cells": {
             "fill": {
              "color": "#EBF0F8"
             },
             "line": {
              "color": "white"
             }
            },
            "header": {
             "fill": {
              "color": "#C8D4E3"
             },
             "line": {
              "color": "white"
             }
            },
            "type": "table"
           }
          ]
         },
         "layout": {
          "annotationdefaults": {
           "arrowcolor": "#2a3f5f",
           "arrowhead": 0,
           "arrowwidth": 1
          },
          "autotypenumbers": "strict",
          "coloraxis": {
           "colorbar": {
            "outlinewidth": 0,
            "ticks": ""
           }
          },
          "colorscale": {
           "diverging": [
            [
             0,
             "#8e0152"
            ],
            [
             0.1,
             "#c51b7d"
            ],
            [
             0.2,
             "#de77ae"
            ],
            [
             0.3,
             "#f1b6da"
            ],
            [
             0.4,
             "#fde0ef"
            ],
            [
             0.5,
             "#f7f7f7"
            ],
            [
             0.6,
             "#e6f5d0"
            ],
            [
             0.7,
             "#b8e186"
            ],
            [
             0.8,
             "#7fbc41"
            ],
            [
             0.9,
             "#4d9221"
            ],
            [
             1,
             "#276419"
            ]
           ],
           "sequential": [
            [
             0,
             "#0d0887"
            ],
            [
             0.1111111111111111,
             "#46039f"
            ],
            [
             0.2222222222222222,
             "#7201a8"
            ],
            [
             0.3333333333333333,
             "#9c179e"
            ],
            [
             0.4444444444444444,
             "#bd3786"
            ],
            [
             0.5555555555555556,
             "#d8576b"
            ],
            [
             0.6666666666666666,
             "#ed7953"
            ],
            [
             0.7777777777777778,
             "#fb9f3a"
            ],
            [
             0.8888888888888888,
             "#fdca26"
            ],
            [
             1,
             "#f0f921"
            ]
           ],
           "sequentialminus": [
            [
             0,
             "#0d0887"
            ],
            [
             0.1111111111111111,
             "#46039f"
            ],
            [
             0.2222222222222222,
             "#7201a8"
            ],
            [
             0.3333333333333333,
             "#9c179e"
            ],
            [
             0.4444444444444444,
             "#bd3786"
            ],
            [
             0.5555555555555556,
             "#d8576b"
            ],
            [
             0.6666666666666666,
             "#ed7953"
            ],
            [
             0.7777777777777778,
             "#fb9f3a"
            ],
            [
             0.8888888888888888,
             "#fdca26"
            ],
            [
             1,
             "#f0f921"
            ]
           ]
          },
          "colorway": [
           "#636efa",
           "#EF553B",
           "#00cc96",
           "#ab63fa",
           "#FFA15A",
           "#19d3f3",
           "#FF6692",
           "#B6E880",
           "#FF97FF",
           "#FECB52"
          ],
          "font": {
           "color": "#2a3f5f"
          },
          "geo": {
           "bgcolor": "white",
           "lakecolor": "white",
           "landcolor": "#E5ECF6",
           "showlakes": true,
           "showland": true,
           "subunitcolor": "white"
          },
          "hoverlabel": {
           "align": "left"
          },
          "hovermode": "closest",
          "mapbox": {
           "style": "light"
          },
          "paper_bgcolor": "white",
          "plot_bgcolor": "#E5ECF6",
          "polar": {
           "angularaxis": {
            "gridcolor": "white",
            "linecolor": "white",
            "ticks": ""
           },
           "bgcolor": "#E5ECF6",
           "radialaxis": {
            "gridcolor": "white",
            "linecolor": "white",
            "ticks": ""
           }
          },
          "scene": {
           "xaxis": {
            "backgroundcolor": "#E5ECF6",
            "gridcolor": "white",
            "gridwidth": 2,
            "linecolor": "white",
            "showbackground": true,
            "ticks": "",
            "zerolinecolor": "white"
           },
           "yaxis": {
            "backgroundcolor": "#E5ECF6",
            "gridcolor": "white",
            "gridwidth": 2,
            "linecolor": "white",
            "showbackground": true,
            "ticks": "",
            "zerolinecolor": "white"
           },
           "zaxis": {
            "backgroundcolor": "#E5ECF6",
            "gridcolor": "white",
            "gridwidth": 2,
            "linecolor": "white",
            "showbackground": true,
            "ticks": "",
            "zerolinecolor": "white"
           }
          },
          "shapedefaults": {
           "line": {
            "color": "#2a3f5f"
           }
          },
          "ternary": {
           "aaxis": {
            "gridcolor": "white",
            "linecolor": "white",
            "ticks": ""
           },
           "baxis": {
            "gridcolor": "white",
            "linecolor": "white",
            "ticks": ""
           },
           "bgcolor": "#E5ECF6",
           "caxis": {
            "gridcolor": "white",
            "linecolor": "white",
            "ticks": ""
           }
          },
          "title": {
           "x": 0.05
          },
          "xaxis": {
           "automargin": true,
           "gridcolor": "white",
           "linecolor": "white",
           "ticks": "",
           "title": {
            "standoff": 15
           },
           "zerolinecolor": "white",
           "zerolinewidth": 2
          },
          "yaxis": {
           "automargin": true,
           "gridcolor": "white",
           "linecolor": "white",
           "ticks": "",
           "title": {
            "standoff": 15
           },
           "zerolinecolor": "white",
           "zerolinewidth": 2
          }
         }
        },
        "title": {
         "font": {
          "color": "#4D5663"
         }
        },
        "xaxis": {
         "gridcolor": "#E1E5ED",
         "showgrid": true,
         "tickfont": {
          "color": "#4D5663"
         },
         "title": {
          "font": {
           "color": "#4D5663"
          },
          "text": ""
         },
         "zerolinecolor": "#E1E5ED"
        },
        "xaxis2": {
         "anchor": "y2",
         "gridcolor": "#E1E5ED",
         "showgrid": true,
         "showticklabels": false,
         "tickfont": {
          "color": "#4D5663"
         },
         "title": {
          "font": {
           "color": "#4D5663"
          },
          "text": ""
         },
         "zerolinecolor": "#E1E5ED"
        },
        "yaxis": {
         "domain": [
          0.3,
          1
         ],
         "gridcolor": "#E1E5ED",
         "showgrid": true,
         "tickfont": {
          "color": "#4D5663"
         },
         "title": {
          "font": {
           "color": "#4D5663"
          },
          "text": ""
         },
         "zerolinecolor": "#E1E5ED"
        },
        "yaxis2": {
         "domain": [
          0,
          0.25
         ],
         "gridcolor": "#E1E5ED",
         "showgrid": true,
         "tickfont": {
          "color": "#4D5663"
         },
         "title": {
          "font": {
           "color": "#4D5663"
          },
          "text": "Spread"
         },
         "zerolinecolor": "#E1E5ED"
        }
       }
      },
      "text/html": [
       "<div>                            <div id=\"4b1a7853-827c-448c-9df7-76475a3d9bec\" class=\"plotly-graph-div\" style=\"height:525px; width:100%;\"></div>            <script type=\"text/javascript\">                require([\"plotly\"], function(Plotly) {                    window.PLOTLYENV=window.PLOTLYENV || {};\n",
       "                    window.PLOTLYENV.BASE_URL='https://plot.ly';                                    if (document.getElementById(\"4b1a7853-827c-448c-9df7-76475a3d9bec\")) {                    Plotly.newPlot(                        \"4b1a7853-827c-448c-9df7-76475a3d9bec\",                        [{\"line\":{\"color\":\"rgba(255, 153, 51, 1.0)\",\"dash\":\"solid\",\"shape\":\"linear\",\"width\":1.3},\"mode\":\"lines\",\"name\":\"A\",\"text\":\"\",\"x\":[0,1,2,3,4,5,6,7,8,9,10,11,12,13,14,15,16,17,18,19,20,21,22,23,24,25,26,27,28,29,30,31,32,33,34,35,36,37,38,39,40,41,42,43,44,45,46,47,48,49,50,51,52,53,54,55,56,57,58,59,60,61,62,63,64,65,66,67,68,69,70,71,72,73,74,75,76,77,78,79,80,81,82,83,84,85,86,87,88,89,90,91,92,93,94,95,96,97,98,99],\"y\":[-0.5902303025205717,-2.2016090086623388,0.9688835342587759,0.4097477034647505,-0.6531516478199042,-0.44733786561834193,-0.47482840070158566,-1.0899258739801267,0.018083060890892132,0.18640424228172048,-1.740262022112669,0.07452870131805488,-0.9223778158444266,-1.9232060232149235,0.10735353125742748,-1.1850757900063225,-0.5497291302848054,0.1760346600120734,1.0109279491426288,-1.8800930869821564,0.6818689562292352,1.0013136875986148,-1.4245497173871668,-0.6206539678188364,1.7911365866515108,0.7238100420108368,-0.4204677449441723,-2.154777771126477,-0.6273457251981394,0.1821495912778787,-0.06305727171354696,-0.3905198512997907,0.2528318683594929,0.565418190409366,0.6450981928783018,-0.30807010332343876,0.30513862374559486,-1.7594021492571972,-0.8222574329062964,-0.5735086500790288,-1.3979738724160686,-1.2750186161164196,0.6082933112555565,-0.6097777886272943,0.33734371436621946,-0.5417714102437892,1.375561863788836,2.2056801688936902,0.6405306616954853,1.4161986423742619,-1.0286554899550455,-1.4954126636278111,1.7433309705860673,-0.06255855829844899,-1.3254350939260084,1.2110743664651629,-0.3065195328839513,0.728721977199927,0.7196156850537774,0.17793323956809748,-2.1543583642789113,0.6110026577153034,-0.8926214867297181,0.5131829577150304,-0.4599291034370993,0.5993921592961952,-2.5854795386451497,-1.5187255713236734,-1.5832471980763754,-0.8377799538334126,-0.8174203926960799,-1.0010558563534455,-1.529505285845513,0.4705944311419757,-0.34620452317534356,-1.7587041573689515,0.9752971676066632,1.1613831337131102,1.3446457631064839,-1.4555509876454251,0.4266333975246613,-0.4933550509657777,-1.0762683955046413,-1.1172618918660948,-0.8050366057976863,-0.8191627336334403,2.20208838639601,0.8842178450189843,2.248450908342995,1.263857174507037,0.2817469381374268,0.8268799558075348,0.571564064960558,0.19025113238293712,-0.5390699541755176,1.73433697535019,1.2863853747153662,0.05423139472195194,-1.3151122199680136,0.38122217649893086],\"type\":\"scatter\"},{\"line\":{\"color\":\"rgba(55, 128, 191, 1.0)\",\"dash\":\"solid\",\"shape\":\"linear\",\"width\":1.3},\"mode\":\"lines\",\"name\":\"B\",\"text\":\"\",\"x\":[0,1,2,3,4,5,6,7,8,9,10,11,12,13,14,15,16,17,18,19,20,21,22,23,24,25,26,27,28,29,30,31,32,33,34,35,36,37,38,39,40,41,42,43,44,45,46,47,48,49,50,51,52,53,54,55,56,57,58,59,60,61,62,63,64,65,66,67,68,69,70,71,72,73,74,75,76,77,78,79,80,81,82,83,84,85,86,87,88,89,90,91,92,93,94,95,96,97,98,99],\"y\":[-1.3670490430437636,0.161450524235461,-0.44217348630356307,0.37545077311535113,-0.26558456358514304,-0.05337396280955743,-0.16286499406938992,-0.6559063241917041,0.2166205230803355,0.579264707040054,0.6570113302304137,1.1128644665473264,1.3437370062884728,1.2253391743149586,0.07243088995730265,-0.16291549888248036,0.5221703263725861,-0.2860873155412922,0.23845897129297605,0.5383216359023025,1.0228260382992838,1.4742375561846004,-0.4971926005756821,-0.3702983491139233,1.2811992881765035,0.5235806670476302,-0.29364591922026506,2.0327478724465315,-0.8321944982609231,-0.10476735233563249,-0.26958492730061334,-0.20189994105473036,1.0847659756245622,-1.1944184798293207,-1.3230740820458162,0.6206316042828937,0.10859772366319033,-0.6156696325698916,0.3984569141979588,0.844077249699107,1.2519032595789779,0.2513651055639649,0.2130378339237908,0.6490835820095017,-0.010798931494050746,0.3941767468516104,-1.6296040595382955,1.813762930471477,2.038570665631588,0.8554014083836431,1.06694928084837,0.7266644331179781,-0.7312737819318127,1.0626543686367567,1.5125446201537545,0.15539761830497265,1.1275135376114895,0.3884913736161449,1.3342540109209156,-0.09870250239733834,0.19263865576084857,1.6508820619017714,-0.6357303957131819,-0.21065746732213148,1.5794879615866562,0.13187081043821755,-0.6910448387634717,-0.9241359886362889,-0.9788028958812267,1.6571093770062777,0.46710147448499517,-0.08167530974313282,-0.32795086978837157,-0.4864270154260517,1.4228982883721621,-1.230082525704563,-1.8388925715141657,0.007416738671856635,-0.8495852847344079,-0.32060058648100864,-0.10872605769317288,0.17620829861536996,2.817567551757438,1.287542016854579,-0.678669908194487,0.4110746516491658,-1.3175798955777698,-0.9259953438941361,0.6365254724876831,0.1645909140545531,1.275561684738259,-0.5512964249982745,0.6776207058555057,-1.0088839072755986,1.2546202290644812,-0.4988731232616055,1.0171125628881423,-0.6730874492229427,2.515399088329593,0.04827347094723881],\"type\":\"scatter\"},{\"connectgaps\":false,\"fill\":\"tozeroy\",\"line\":{\"color\":\"green\",\"dash\":\"solid\",\"shape\":\"linear\",\"width\":0.5},\"mode\":\"lines\",\"name\":\"Spread\",\"showlegend\":false,\"x\":[0,1,2,3,4,5,6,7,8,9,10,11,12,13,14,15,16,17,18,19,20,21,22,23,24,25,26,27,28,29,30,31,32,33,34,35,36,37,38,39,40,41,42,43,44,45,46,47,48,49,50,51,52,53,54,55,56,57,58,59,60,61,62,63,64,65,66,67,68,69,70,71,72,73,74,75,76,77,78,79,80,81,82,83,84,85,86,87,88,89,90,91,92,93,94,95,96,97,98,99],\"xaxis\":\"x2\",\"y\":[0.7768187405231919,\"\",1.411057020562339,0.034296930349399346,\"\",\"\",\"\",\"\",\"\",\"\",\"\",\"\",\"\",\"\",0.03492264130012483,\"\",\"\",0.4621219755533656,0.7724689778496527,\"\",\"\",\"\",\"\",\"\",0.5099372984750072,0.20022937496320659,\"\",\"\",0.2048487730627837,0.28691694361351117,0.20652765558706637,\"\",\"\",1.7598366702386867,1.9681722749241182,\"\",0.19654090008240455,\"\",\"\",\"\",\"\",\"\",0.3952554773317657,\"\",0.3481426458602702,\"\",3.0051659233271315,0.39191723842221315,\"\",0.5607972339906188,\"\",\"\",2.4746047525178803,\"\",\"\",1.0556767481601903,\"\",0.34023060358378215,\"\",0.27663574196543583,\"\",\"\",\"\",0.723840425037162,\"\",0.4675213488579776,\"\",\"\",\"\",\"\",\"\",\"\",\"\",0.9570214465680273,\"\",\"\",2.814189739120829,1.1539663950412535,2.1942310478408915,\"\",0.5353594552178341,\"\",\"\",\"\",\"\",\"\",3.5196682819737797,1.8102131889131203,1.6119254358553121,1.0992662604524839,\"\",1.3781763808058094,\"\",1.1991350396585356,\"\",2.2332100986117958,0.26927281182722385,0.7273188439448947,\"\",0.33294870555169204],\"yaxis\":\"y2\",\"type\":\"scatter\"},{\"connectgaps\":false,\"fill\":\"tozeroy\",\"line\":{\"color\":\"red\",\"dash\":\"solid\",\"shape\":\"linear\",\"width\":0.5},\"mode\":\"lines\",\"name\":\"Spread\",\"showlegend\":false,\"x\":[0,1,2,3,4,5,6,7,8,9,10,11,12,13,14,15,16,17,18,19,20,21,22,23,24,25,26,27,28,29,30,31,32,33,34,35,36,37,38,39,40,41,42,43,44,45,46,47,48,49,50,51,52,53,54,55,56,57,58,59,60,61,62,63,64,65,66,67,68,69,70,71,72,73,74,75,76,77,78,79,80,81,82,83,84,85,86,87,88,89,90,91,92,93,94,95,96,97,98,99],\"xaxis\":\"x2\",\"y\":[\"\",-2.3630595328978,\"\",\"\",-0.38756708423476116,-0.3939639028087845,-0.31196340663219574,-0.4340195497884226,-0.19853746218944338,-0.39286046475833347,-2.397273352343083,-1.0383357652292715,-2.2661148221328995,-3.148545197529882,\"\",-1.022160291123842,-1.0718994566573916,\"\",\"\",-2.418414722884459,-0.3409570820700486,-0.47292386858598556,-0.9273571168114847,-0.25035561870491313,\"\",\"\",-0.1268218257239072,-4.187525643573009,\"\",\"\",\"\",-0.18861991024506036,-0.8319341072650693,\"\",\"\",-0.9287017076063324,\"\",-1.1437325166873056,-1.2207143471042552,-1.4175858997781359,-2.6498771319950465,-1.5263837216803846,\"\",-1.258861370636796,\"\",-0.9359481570953996,\"\",\"\",-1.3980400039361027,\"\",-2.0956047708034156,-2.2220770967457892,\"\",-1.1252129269352056,-2.837979714079763,\"\",-1.434033070495441,\"\",-0.6146383258671382,\"\",-2.3469970200397596,-1.039879404186468,-0.2568910910165362,\"\",-2.0394170650237555,\"\",-1.894434699881678,-0.5945895826873845,-0.6044443021951487,-2.4948893308396904,-1.2845218671810752,-0.9193805466103127,-1.2015544160571414,\"\",-1.7691028115475058,-0.5286216316643886,\"\",\"\",\"\",-1.1349504011644165,\"\",-0.6695633495811477,-3.893835947262079,-2.404803908720674,-0.1263666976031993,-1.230237385282606,\"\",\"\",\"\",\"\",-0.9938147466008321,\"\",-0.1060566408949477,\"\",-1.793690183239999,\"\",\"\",\"\",-3.8305113082976066,\"\"],\"yaxis\":\"y2\",\"type\":\"scatter\"}],                        {\"hovermode\":\"x\",\"legend\":{\"bgcolor\":\"#F5F6F9\",\"font\":{\"color\":\"#4D5663\"}},\"paper_bgcolor\":\"#F5F6F9\",\"plot_bgcolor\":\"#F5F6F9\",\"template\":{\"data\":{\"barpolar\":[{\"marker\":{\"line\":{\"color\":\"#E5ECF6\",\"width\":0.5},\"pattern\":{\"fillmode\":\"overlay\",\"size\":10,\"solidity\":0.2}},\"type\":\"barpolar\"}],\"bar\":[{\"error_x\":{\"color\":\"#2a3f5f\"},\"error_y\":{\"color\":\"#2a3f5f\"},\"marker\":{\"line\":{\"color\":\"#E5ECF6\",\"width\":0.5},\"pattern\":{\"fillmode\":\"overlay\",\"size\":10,\"solidity\":0.2}},\"type\":\"bar\"}],\"carpet\":[{\"aaxis\":{\"endlinecolor\":\"#2a3f5f\",\"gridcolor\":\"white\",\"linecolor\":\"white\",\"minorgridcolor\":\"white\",\"startlinecolor\":\"#2a3f5f\"},\"baxis\":{\"endlinecolor\":\"#2a3f5f\",\"gridcolor\":\"white\",\"linecolor\":\"white\",\"minorgridcolor\":\"white\",\"startlinecolor\":\"#2a3f5f\"},\"type\":\"carpet\"}],\"choropleth\":[{\"colorbar\":{\"outlinewidth\":0,\"ticks\":\"\"},\"type\":\"choropleth\"}],\"contourcarpet\":[{\"colorbar\":{\"outlinewidth\":0,\"ticks\":\"\"},\"type\":\"contourcarpet\"}],\"contour\":[{\"colorbar\":{\"outlinewidth\":0,\"ticks\":\"\"},\"colorscale\":[[0.0,\"#0d0887\"],[0.1111111111111111,\"#46039f\"],[0.2222222222222222,\"#7201a8\"],[0.3333333333333333,\"#9c179e\"],[0.4444444444444444,\"#bd3786\"],[0.5555555555555556,\"#d8576b\"],[0.6666666666666666,\"#ed7953\"],[0.7777777777777778,\"#fb9f3a\"],[0.8888888888888888,\"#fdca26\"],[1.0,\"#f0f921\"]],\"type\":\"contour\"}],\"heatmapgl\":[{\"colorbar\":{\"outlinewidth\":0,\"ticks\":\"\"},\"colorscale\":[[0.0,\"#0d0887\"],[0.1111111111111111,\"#46039f\"],[0.2222222222222222,\"#7201a8\"],[0.3333333333333333,\"#9c179e\"],[0.4444444444444444,\"#bd3786\"],[0.5555555555555556,\"#d8576b\"],[0.6666666666666666,\"#ed7953\"],[0.7777777777777778,\"#fb9f3a\"],[0.8888888888888888,\"#fdca26\"],[1.0,\"#f0f921\"]],\"type\":\"heatmapgl\"}],\"heatmap\":[{\"colorbar\":{\"outlinewidth\":0,\"ticks\":\"\"},\"colorscale\":[[0.0,\"#0d0887\"],[0.1111111111111111,\"#46039f\"],[0.2222222222222222,\"#7201a8\"],[0.3333333333333333,\"#9c179e\"],[0.4444444444444444,\"#bd3786\"],[0.5555555555555556,\"#d8576b\"],[0.6666666666666666,\"#ed7953\"],[0.7777777777777778,\"#fb9f3a\"],[0.8888888888888888,\"#fdca26\"],[1.0,\"#f0f921\"]],\"type\":\"heatmap\"}],\"histogram2dcontour\":[{\"colorbar\":{\"outlinewidth\":0,\"ticks\":\"\"},\"colorscale\":[[0.0,\"#0d0887\"],[0.1111111111111111,\"#46039f\"],[0.2222222222222222,\"#7201a8\"],[0.3333333333333333,\"#9c179e\"],[0.4444444444444444,\"#bd3786\"],[0.5555555555555556,\"#d8576b\"],[0.6666666666666666,\"#ed7953\"],[0.7777777777777778,\"#fb9f3a\"],[0.8888888888888888,\"#fdca26\"],[1.0,\"#f0f921\"]],\"type\":\"histogram2dcontour\"}],\"histogram2d\":[{\"colorbar\":{\"outlinewidth\":0,\"ticks\":\"\"},\"colorscale\":[[0.0,\"#0d0887\"],[0.1111111111111111,\"#46039f\"],[0.2222222222222222,\"#7201a8\"],[0.3333333333333333,\"#9c179e\"],[0.4444444444444444,\"#bd3786\"],[0.5555555555555556,\"#d8576b\"],[0.6666666666666666,\"#ed7953\"],[0.7777777777777778,\"#fb9f3a\"],[0.8888888888888888,\"#fdca26\"],[1.0,\"#f0f921\"]],\"type\":\"histogram2d\"}],\"histogram\":[{\"marker\":{\"pattern\":{\"fillmode\":\"overlay\",\"size\":10,\"solidity\":0.2}},\"type\":\"histogram\"}],\"mesh3d\":[{\"colorbar\":{\"outlinewidth\":0,\"ticks\":\"\"},\"type\":\"mesh3d\"}],\"parcoords\":[{\"line\":{\"colorbar\":{\"outlinewidth\":0,\"ticks\":\"\"}},\"type\":\"parcoords\"}],\"pie\":[{\"automargin\":true,\"type\":\"pie\"}],\"scatter3d\":[{\"line\":{\"colorbar\":{\"outlinewidth\":0,\"ticks\":\"\"}},\"marker\":{\"colorbar\":{\"outlinewidth\":0,\"ticks\":\"\"}},\"type\":\"scatter3d\"}],\"scattercarpet\":[{\"marker\":{\"colorbar\":{\"outlinewidth\":0,\"ticks\":\"\"}},\"type\":\"scattercarpet\"}],\"scattergeo\":[{\"marker\":{\"colorbar\":{\"outlinewidth\":0,\"ticks\":\"\"}},\"type\":\"scattergeo\"}],\"scattergl\":[{\"marker\":{\"colorbar\":{\"outlinewidth\":0,\"ticks\":\"\"}},\"type\":\"scattergl\"}],\"scattermapbox\":[{\"marker\":{\"colorbar\":{\"outlinewidth\":0,\"ticks\":\"\"}},\"type\":\"scattermapbox\"}],\"scatterpolargl\":[{\"marker\":{\"colorbar\":{\"outlinewidth\":0,\"ticks\":\"\"}},\"type\":\"scatterpolargl\"}],\"scatterpolar\":[{\"marker\":{\"colorbar\":{\"outlinewidth\":0,\"ticks\":\"\"}},\"type\":\"scatterpolar\"}],\"scatter\":[{\"marker\":{\"colorbar\":{\"outlinewidth\":0,\"ticks\":\"\"}},\"type\":\"scatter\"}],\"scatterternary\":[{\"marker\":{\"colorbar\":{\"outlinewidth\":0,\"ticks\":\"\"}},\"type\":\"scatterternary\"}],\"surface\":[{\"colorbar\":{\"outlinewidth\":0,\"ticks\":\"\"},\"colorscale\":[[0.0,\"#0d0887\"],[0.1111111111111111,\"#46039f\"],[0.2222222222222222,\"#7201a8\"],[0.3333333333333333,\"#9c179e\"],[0.4444444444444444,\"#bd3786\"],[0.5555555555555556,\"#d8576b\"],[0.6666666666666666,\"#ed7953\"],[0.7777777777777778,\"#fb9f3a\"],[0.8888888888888888,\"#fdca26\"],[1.0,\"#f0f921\"]],\"type\":\"surface\"}],\"table\":[{\"cells\":{\"fill\":{\"color\":\"#EBF0F8\"},\"line\":{\"color\":\"white\"}},\"header\":{\"fill\":{\"color\":\"#C8D4E3\"},\"line\":{\"color\":\"white\"}},\"type\":\"table\"}]},\"layout\":{\"annotationdefaults\":{\"arrowcolor\":\"#2a3f5f\",\"arrowhead\":0,\"arrowwidth\":1},\"autotypenumbers\":\"strict\",\"coloraxis\":{\"colorbar\":{\"outlinewidth\":0,\"ticks\":\"\"}},\"colorscale\":{\"diverging\":[[0,\"#8e0152\"],[0.1,\"#c51b7d\"],[0.2,\"#de77ae\"],[0.3,\"#f1b6da\"],[0.4,\"#fde0ef\"],[0.5,\"#f7f7f7\"],[0.6,\"#e6f5d0\"],[0.7,\"#b8e186\"],[0.8,\"#7fbc41\"],[0.9,\"#4d9221\"],[1,\"#276419\"]],\"sequential\":[[0.0,\"#0d0887\"],[0.1111111111111111,\"#46039f\"],[0.2222222222222222,\"#7201a8\"],[0.3333333333333333,\"#9c179e\"],[0.4444444444444444,\"#bd3786\"],[0.5555555555555556,\"#d8576b\"],[0.6666666666666666,\"#ed7953\"],[0.7777777777777778,\"#fb9f3a\"],[0.8888888888888888,\"#fdca26\"],[1.0,\"#f0f921\"]],\"sequentialminus\":[[0.0,\"#0d0887\"],[0.1111111111111111,\"#46039f\"],[0.2222222222222222,\"#7201a8\"],[0.3333333333333333,\"#9c179e\"],[0.4444444444444444,\"#bd3786\"],[0.5555555555555556,\"#d8576b\"],[0.6666666666666666,\"#ed7953\"],[0.7777777777777778,\"#fb9f3a\"],[0.8888888888888888,\"#fdca26\"],[1.0,\"#f0f921\"]]},\"colorway\":[\"#636efa\",\"#EF553B\",\"#00cc96\",\"#ab63fa\",\"#FFA15A\",\"#19d3f3\",\"#FF6692\",\"#B6E880\",\"#FF97FF\",\"#FECB52\"],\"font\":{\"color\":\"#2a3f5f\"},\"geo\":{\"bgcolor\":\"white\",\"lakecolor\":\"white\",\"landcolor\":\"#E5ECF6\",\"showlakes\":true,\"showland\":true,\"subunitcolor\":\"white\"},\"hoverlabel\":{\"align\":\"left\"},\"hovermode\":\"closest\",\"mapbox\":{\"style\":\"light\"},\"paper_bgcolor\":\"white\",\"plot_bgcolor\":\"#E5ECF6\",\"polar\":{\"angularaxis\":{\"gridcolor\":\"white\",\"linecolor\":\"white\",\"ticks\":\"\"},\"bgcolor\":\"#E5ECF6\",\"radialaxis\":{\"gridcolor\":\"white\",\"linecolor\":\"white\",\"ticks\":\"\"}},\"scene\":{\"xaxis\":{\"backgroundcolor\":\"#E5ECF6\",\"gridcolor\":\"white\",\"gridwidth\":2,\"linecolor\":\"white\",\"showbackground\":true,\"ticks\":\"\",\"zerolinecolor\":\"white\"},\"yaxis\":{\"backgroundcolor\":\"#E5ECF6\",\"gridcolor\":\"white\",\"gridwidth\":2,\"linecolor\":\"white\",\"showbackground\":true,\"ticks\":\"\",\"zerolinecolor\":\"white\"},\"zaxis\":{\"backgroundcolor\":\"#E5ECF6\",\"gridcolor\":\"white\",\"gridwidth\":2,\"linecolor\":\"white\",\"showbackground\":true,\"ticks\":\"\",\"zerolinecolor\":\"white\"}},\"shapedefaults\":{\"line\":{\"color\":\"#2a3f5f\"}},\"ternary\":{\"aaxis\":{\"gridcolor\":\"white\",\"linecolor\":\"white\",\"ticks\":\"\"},\"baxis\":{\"gridcolor\":\"white\",\"linecolor\":\"white\",\"ticks\":\"\"},\"bgcolor\":\"#E5ECF6\",\"caxis\":{\"gridcolor\":\"white\",\"linecolor\":\"white\",\"ticks\":\"\"}},\"title\":{\"x\":0.05},\"xaxis\":{\"automargin\":true,\"gridcolor\":\"white\",\"linecolor\":\"white\",\"ticks\":\"\",\"title\":{\"standoff\":15},\"zerolinecolor\":\"white\",\"zerolinewidth\":2},\"yaxis\":{\"automargin\":true,\"gridcolor\":\"white\",\"linecolor\":\"white\",\"ticks\":\"\",\"title\":{\"standoff\":15},\"zerolinecolor\":\"white\",\"zerolinewidth\":2}}},\"title\":{\"font\":{\"color\":\"#4D5663\"}},\"xaxis\":{\"gridcolor\":\"#E1E5ED\",\"showgrid\":true,\"tickfont\":{\"color\":\"#4D5663\"},\"title\":{\"font\":{\"color\":\"#4D5663\"},\"text\":\"\"},\"zerolinecolor\":\"#E1E5ED\"},\"yaxis\":{\"domain\":[0.3,1],\"gridcolor\":\"#E1E5ED\",\"showgrid\":true,\"tickfont\":{\"color\":\"#4D5663\"},\"title\":{\"font\":{\"color\":\"#4D5663\"},\"text\":\"\"},\"zerolinecolor\":\"#E1E5ED\"},\"yaxis2\":{\"domain\":[0,0.25],\"gridcolor\":\"#E1E5ED\",\"showgrid\":true,\"tickfont\":{\"color\":\"#4D5663\"},\"title\":{\"font\":{\"color\":\"#4D5663\"},\"text\":\"Spread\"},\"zerolinecolor\":\"#E1E5ED\"},\"xaxis2\":{\"anchor\":\"y2\",\"gridcolor\":\"#E1E5ED\",\"showgrid\":true,\"showticklabels\":false,\"tickfont\":{\"color\":\"#4D5663\"},\"title\":{\"font\":{\"color\":\"#4D5663\"},\"text\":\"\"},\"zerolinecolor\":\"#E1E5ED\"}},                        {\"showLink\": true, \"linkText\": \"Export to plot.ly\", \"plotlyServerURL\": \"https://plot.ly\", \"responsive\": true}                    ).then(function(){\n",
       "                            \n",
       "var gd = document.getElementById('4b1a7853-827c-448c-9df7-76475a3d9bec');\n",
       "var x = new MutationObserver(function (mutations, observer) {{\n",
       "        var display = window.getComputedStyle(gd).display;\n",
       "        if (!display || display === 'none') {{\n",
       "            console.log([gd, 'removed!']);\n",
       "            Plotly.purge(gd);\n",
       "            observer.disconnect();\n",
       "        }}\n",
       "}});\n",
       "\n",
       "// Listen for the removal of the full notebook cells\n",
       "var notebookContainer = gd.closest('#notebook-container');\n",
       "if (notebookContainer) {{\n",
       "    x.observe(notebookContainer, {childList: true});\n",
       "}}\n",
       "\n",
       "// Listen for the clearing of the current output cell\n",
       "var outputEl = gd.closest('.output');\n",
       "if (outputEl) {{\n",
       "    x.observe(outputEl, {childList: true});\n",
       "}}\n",
       "\n",
       "                        })                };                });            </script>        </div>"
      ]
     },
     "metadata": {},
     "output_type": "display_data"
    }
   ],
   "source": [
    "df[['A','B']].iplot(kind='spread')"
   ]
  },
  {
   "cell_type": "code",
   "execution_count": 30,
   "metadata": {},
   "outputs": [
    {
     "data": {
      "application/vnd.plotly.v1+json": {
       "config": {
        "linkText": "Export to plot.ly",
        "plotlyServerURL": "https://plot.ly",
        "showLink": true
       },
       "data": [
        {
         "marker": {
          "color": [
           "rgb(255, 153, 51)",
           "rgb(55, 128, 191)",
           "rgb(50, 171, 96)",
           "rgb(128, 0, 128)",
           "rgb(219, 64, 82)",
           "rgb(0, 128, 128)",
           "rgb(255, 255, 51)",
           "rgb(128, 128, 0)",
           "rgb(251, 128, 114)",
           "rgb(128, 177, 211)"
          ],
          "line": {
           "width": 1.3
          },
          "size": [
           90,
           74,
           63,
           67,
           75,
           66,
           87,
           63,
           42,
           64,
           75,
           75,
           70,
           84,
           110,
           97,
           98,
           102,
           49,
           62,
           33,
           59,
           45,
           49,
           78,
           15,
           64,
           72,
           44,
           97,
           22,
           38,
           78,
           39,
           72,
           61,
           59,
           38,
           67,
           96,
           85,
           54,
           64,
           50,
           20,
           89,
           55,
           42,
           85,
           24,
           36,
           80,
           14,
           47,
           66,
           55,
           66,
           63,
           86,
           47,
           94,
           40,
           33,
           41,
           37,
           76,
           53,
           62,
           15,
           56,
           73,
           53,
           47,
           86,
           30,
           26,
           32,
           80,
           107,
           92,
           89,
           41,
           79,
           45,
           38,
           72,
           72,
           59,
           82,
           12,
           76,
           71,
           54,
           55,
           60,
           29,
           65,
           112,
           69,
           29
          ],
          "symbol": "circle"
         },
         "mode": "markers",
         "text": "",
         "type": "scatter",
         "x": [
          -0.5902303025205717,
          -2.2016090086623388,
          0.9688835342587759,
          0.4097477034647505,
          -0.6531516478199042,
          -0.44733786561834193,
          -0.47482840070158566,
          -1.0899258739801267,
          0.018083060890892132,
          0.18640424228172048,
          -1.740262022112669,
          0.07452870131805488,
          -0.9223778158444266,
          -1.9232060232149235,
          0.10735353125742748,
          -1.1850757900063225,
          -0.5497291302848054,
          0.1760346600120734,
          1.0109279491426288,
          -1.8800930869821564,
          0.6818689562292352,
          1.0013136875986148,
          -1.4245497173871668,
          -0.6206539678188364,
          1.7911365866515108,
          0.7238100420108368,
          -0.4204677449441723,
          -2.154777771126477,
          -0.6273457251981394,
          0.1821495912778787,
          -0.06305727171354696,
          -0.3905198512997907,
          0.2528318683594929,
          0.565418190409366,
          0.6450981928783018,
          -0.30807010332343876,
          0.30513862374559486,
          -1.7594021492571972,
          -0.8222574329062964,
          -0.5735086500790288,
          -1.3979738724160686,
          -1.2750186161164196,
          0.6082933112555565,
          -0.6097777886272943,
          0.33734371436621946,
          -0.5417714102437892,
          1.375561863788836,
          2.2056801688936902,
          0.6405306616954853,
          1.4161986423742619,
          -1.0286554899550455,
          -1.4954126636278111,
          1.7433309705860673,
          -0.06255855829844899,
          -1.3254350939260084,
          1.2110743664651629,
          -0.3065195328839513,
          0.728721977199927,
          0.7196156850537774,
          0.17793323956809748,
          -2.1543583642789113,
          0.6110026577153034,
          -0.8926214867297181,
          0.5131829577150304,
          -0.4599291034370993,
          0.5993921592961952,
          -2.5854795386451497,
          -1.5187255713236734,
          -1.5832471980763754,
          -0.8377799538334126,
          -0.8174203926960799,
          -1.0010558563534455,
          -1.529505285845513,
          0.4705944311419757,
          -0.34620452317534356,
          -1.7587041573689515,
          0.9752971676066632,
          1.1613831337131102,
          1.3446457631064839,
          -1.4555509876454251,
          0.4266333975246613,
          -0.4933550509657777,
          -1.0762683955046413,
          -1.1172618918660948,
          -0.8050366057976863,
          -0.8191627336334403,
          2.20208838639601,
          0.8842178450189843,
          2.248450908342995,
          1.263857174507037,
          0.2817469381374268,
          0.8268799558075348,
          0.571564064960558,
          0.19025113238293712,
          -0.5390699541755176,
          1.73433697535019,
          1.2863853747153662,
          0.05423139472195194,
          -1.3151122199680136,
          0.38122217649893086
         ],
         "y": [
          -1.3670490430437636,
          0.161450524235461,
          -0.44217348630356307,
          0.37545077311535113,
          -0.26558456358514304,
          -0.05337396280955743,
          -0.16286499406938992,
          -0.6559063241917041,
          0.2166205230803355,
          0.579264707040054,
          0.6570113302304137,
          1.1128644665473264,
          1.3437370062884728,
          1.2253391743149586,
          0.07243088995730265,
          -0.16291549888248036,
          0.5221703263725861,
          -0.2860873155412922,
          0.23845897129297605,
          0.5383216359023025,
          1.0228260382992838,
          1.4742375561846004,
          -0.4971926005756821,
          -0.3702983491139233,
          1.2811992881765035,
          0.5235806670476302,
          -0.29364591922026506,
          2.0327478724465315,
          -0.8321944982609231,
          -0.10476735233563249,
          -0.26958492730061334,
          -0.20189994105473036,
          1.0847659756245622,
          -1.1944184798293207,
          -1.3230740820458162,
          0.6206316042828937,
          0.10859772366319033,
          -0.6156696325698916,
          0.3984569141979588,
          0.844077249699107,
          1.2519032595789779,
          0.2513651055639649,
          0.2130378339237908,
          0.6490835820095017,
          -0.010798931494050746,
          0.3941767468516104,
          -1.6296040595382955,
          1.813762930471477,
          2.038570665631588,
          0.8554014083836431,
          1.06694928084837,
          0.7266644331179781,
          -0.7312737819318127,
          1.0626543686367567,
          1.5125446201537545,
          0.15539761830497265,
          1.1275135376114895,
          0.3884913736161449,
          1.3342540109209156,
          -0.09870250239733834,
          0.19263865576084857,
          1.6508820619017714,
          -0.6357303957131819,
          -0.21065746732213148,
          1.5794879615866562,
          0.13187081043821755,
          -0.6910448387634717,
          -0.9241359886362889,
          -0.9788028958812267,
          1.6571093770062777,
          0.46710147448499517,
          -0.08167530974313282,
          -0.32795086978837157,
          -0.4864270154260517,
          1.4228982883721621,
          -1.230082525704563,
          -1.8388925715141657,
          0.007416738671856635,
          -0.8495852847344079,
          -0.32060058648100864,
          -0.10872605769317288,
          0.17620829861536996,
          2.817567551757438,
          1.287542016854579,
          -0.678669908194487,
          0.4110746516491658,
          -1.3175798955777698,
          -0.9259953438941361,
          0.6365254724876831,
          0.1645909140545531,
          1.275561684738259,
          -0.5512964249982745,
          0.6776207058555057,
          -1.0088839072755986,
          1.2546202290644812,
          -0.4988731232616055,
          1.0171125628881423,
          -0.6730874492229427,
          2.515399088329593,
          0.04827347094723881
         ]
        }
       ],
       "layout": {
        "legend": {
         "bgcolor": "#F5F6F9",
         "font": {
          "color": "#4D5663"
         }
        },
        "paper_bgcolor": "#F5F6F9",
        "plot_bgcolor": "#F5F6F9",
        "template": {
         "data": {
          "bar": [
           {
            "error_x": {
             "color": "#2a3f5f"
            },
            "error_y": {
             "color": "#2a3f5f"
            },
            "marker": {
             "line": {
              "color": "#E5ECF6",
              "width": 0.5
             },
             "pattern": {
              "fillmode": "overlay",
              "size": 10,
              "solidity": 0.2
             }
            },
            "type": "bar"
           }
          ],
          "barpolar": [
           {
            "marker": {
             "line": {
              "color": "#E5ECF6",
              "width": 0.5
             },
             "pattern": {
              "fillmode": "overlay",
              "size": 10,
              "solidity": 0.2
             }
            },
            "type": "barpolar"
           }
          ],
          "carpet": [
           {
            "aaxis": {
             "endlinecolor": "#2a3f5f",
             "gridcolor": "white",
             "linecolor": "white",
             "minorgridcolor": "white",
             "startlinecolor": "#2a3f5f"
            },
            "baxis": {
             "endlinecolor": "#2a3f5f",
             "gridcolor": "white",
             "linecolor": "white",
             "minorgridcolor": "white",
             "startlinecolor": "#2a3f5f"
            },
            "type": "carpet"
           }
          ],
          "choropleth": [
           {
            "colorbar": {
             "outlinewidth": 0,
             "ticks": ""
            },
            "type": "choropleth"
           }
          ],
          "contour": [
           {
            "colorbar": {
             "outlinewidth": 0,
             "ticks": ""
            },
            "colorscale": [
             [
              0,
              "#0d0887"
             ],
             [
              0.1111111111111111,
              "#46039f"
             ],
             [
              0.2222222222222222,
              "#7201a8"
             ],
             [
              0.3333333333333333,
              "#9c179e"
             ],
             [
              0.4444444444444444,
              "#bd3786"
             ],
             [
              0.5555555555555556,
              "#d8576b"
             ],
             [
              0.6666666666666666,
              "#ed7953"
             ],
             [
              0.7777777777777778,
              "#fb9f3a"
             ],
             [
              0.8888888888888888,
              "#fdca26"
             ],
             [
              1,
              "#f0f921"
             ]
            ],
            "type": "contour"
           }
          ],
          "contourcarpet": [
           {
            "colorbar": {
             "outlinewidth": 0,
             "ticks": ""
            },
            "type": "contourcarpet"
           }
          ],
          "heatmap": [
           {
            "colorbar": {
             "outlinewidth": 0,
             "ticks": ""
            },
            "colorscale": [
             [
              0,
              "#0d0887"
             ],
             [
              0.1111111111111111,
              "#46039f"
             ],
             [
              0.2222222222222222,
              "#7201a8"
             ],
             [
              0.3333333333333333,
              "#9c179e"
             ],
             [
              0.4444444444444444,
              "#bd3786"
             ],
             [
              0.5555555555555556,
              "#d8576b"
             ],
             [
              0.6666666666666666,
              "#ed7953"
             ],
             [
              0.7777777777777778,
              "#fb9f3a"
             ],
             [
              0.8888888888888888,
              "#fdca26"
             ],
             [
              1,
              "#f0f921"
             ]
            ],
            "type": "heatmap"
           }
          ],
          "heatmapgl": [
           {
            "colorbar": {
             "outlinewidth": 0,
             "ticks": ""
            },
            "colorscale": [
             [
              0,
              "#0d0887"
             ],
             [
              0.1111111111111111,
              "#46039f"
             ],
             [
              0.2222222222222222,
              "#7201a8"
             ],
             [
              0.3333333333333333,
              "#9c179e"
             ],
             [
              0.4444444444444444,
              "#bd3786"
             ],
             [
              0.5555555555555556,
              "#d8576b"
             ],
             [
              0.6666666666666666,
              "#ed7953"
             ],
             [
              0.7777777777777778,
              "#fb9f3a"
             ],
             [
              0.8888888888888888,
              "#fdca26"
             ],
             [
              1,
              "#f0f921"
             ]
            ],
            "type": "heatmapgl"
           }
          ],
          "histogram": [
           {
            "marker": {
             "pattern": {
              "fillmode": "overlay",
              "size": 10,
              "solidity": 0.2
             }
            },
            "type": "histogram"
           }
          ],
          "histogram2d": [
           {
            "colorbar": {
             "outlinewidth": 0,
             "ticks": ""
            },
            "colorscale": [
             [
              0,
              "#0d0887"
             ],
             [
              0.1111111111111111,
              "#46039f"
             ],
             [
              0.2222222222222222,
              "#7201a8"
             ],
             [
              0.3333333333333333,
              "#9c179e"
             ],
             [
              0.4444444444444444,
              "#bd3786"
             ],
             [
              0.5555555555555556,
              "#d8576b"
             ],
             [
              0.6666666666666666,
              "#ed7953"
             ],
             [
              0.7777777777777778,
              "#fb9f3a"
             ],
             [
              0.8888888888888888,
              "#fdca26"
             ],
             [
              1,
              "#f0f921"
             ]
            ],
            "type": "histogram2d"
           }
          ],
          "histogram2dcontour": [
           {
            "colorbar": {
             "outlinewidth": 0,
             "ticks": ""
            },
            "colorscale": [
             [
              0,
              "#0d0887"
             ],
             [
              0.1111111111111111,
              "#46039f"
             ],
             [
              0.2222222222222222,
              "#7201a8"
             ],
             [
              0.3333333333333333,
              "#9c179e"
             ],
             [
              0.4444444444444444,
              "#bd3786"
             ],
             [
              0.5555555555555556,
              "#d8576b"
             ],
             [
              0.6666666666666666,
              "#ed7953"
             ],
             [
              0.7777777777777778,
              "#fb9f3a"
             ],
             [
              0.8888888888888888,
              "#fdca26"
             ],
             [
              1,
              "#f0f921"
             ]
            ],
            "type": "histogram2dcontour"
           }
          ],
          "mesh3d": [
           {
            "colorbar": {
             "outlinewidth": 0,
             "ticks": ""
            },
            "type": "mesh3d"
           }
          ],
          "parcoords": [
           {
            "line": {
             "colorbar": {
              "outlinewidth": 0,
              "ticks": ""
             }
            },
            "type": "parcoords"
           }
          ],
          "pie": [
           {
            "automargin": true,
            "type": "pie"
           }
          ],
          "scatter": [
           {
            "marker": {
             "colorbar": {
              "outlinewidth": 0,
              "ticks": ""
             }
            },
            "type": "scatter"
           }
          ],
          "scatter3d": [
           {
            "line": {
             "colorbar": {
              "outlinewidth": 0,
              "ticks": ""
             }
            },
            "marker": {
             "colorbar": {
              "outlinewidth": 0,
              "ticks": ""
             }
            },
            "type": "scatter3d"
           }
          ],
          "scattercarpet": [
           {
            "marker": {
             "colorbar": {
              "outlinewidth": 0,
              "ticks": ""
             }
            },
            "type": "scattercarpet"
           }
          ],
          "scattergeo": [
           {
            "marker": {
             "colorbar": {
              "outlinewidth": 0,
              "ticks": ""
             }
            },
            "type": "scattergeo"
           }
          ],
          "scattergl": [
           {
            "marker": {
             "colorbar": {
              "outlinewidth": 0,
              "ticks": ""
             }
            },
            "type": "scattergl"
           }
          ],
          "scattermapbox": [
           {
            "marker": {
             "colorbar": {
              "outlinewidth": 0,
              "ticks": ""
             }
            },
            "type": "scattermapbox"
           }
          ],
          "scatterpolar": [
           {
            "marker": {
             "colorbar": {
              "outlinewidth": 0,
              "ticks": ""
             }
            },
            "type": "scatterpolar"
           }
          ],
          "scatterpolargl": [
           {
            "marker": {
             "colorbar": {
              "outlinewidth": 0,
              "ticks": ""
             }
            },
            "type": "scatterpolargl"
           }
          ],
          "scatterternary": [
           {
            "marker": {
             "colorbar": {
              "outlinewidth": 0,
              "ticks": ""
             }
            },
            "type": "scatterternary"
           }
          ],
          "surface": [
           {
            "colorbar": {
             "outlinewidth": 0,
             "ticks": ""
            },
            "colorscale": [
             [
              0,
              "#0d0887"
             ],
             [
              0.1111111111111111,
              "#46039f"
             ],
             [
              0.2222222222222222,
              "#7201a8"
             ],
             [
              0.3333333333333333,
              "#9c179e"
             ],
             [
              0.4444444444444444,
              "#bd3786"
             ],
             [
              0.5555555555555556,
              "#d8576b"
             ],
             [
              0.6666666666666666,
              "#ed7953"
             ],
             [
              0.7777777777777778,
              "#fb9f3a"
             ],
             [
              0.8888888888888888,
              "#fdca26"
             ],
             [
              1,
              "#f0f921"
             ]
            ],
            "type": "surface"
           }
          ],
          "table": [
           {
            "cells": {
             "fill": {
              "color": "#EBF0F8"
             },
             "line": {
              "color": "white"
             }
            },
            "header": {
             "fill": {
              "color": "#C8D4E3"
             },
             "line": {
              "color": "white"
             }
            },
            "type": "table"
           }
          ]
         },
         "layout": {
          "annotationdefaults": {
           "arrowcolor": "#2a3f5f",
           "arrowhead": 0,
           "arrowwidth": 1
          },
          "autotypenumbers": "strict",
          "coloraxis": {
           "colorbar": {
            "outlinewidth": 0,
            "ticks": ""
           }
          },
          "colorscale": {
           "diverging": [
            [
             0,
             "#8e0152"
            ],
            [
             0.1,
             "#c51b7d"
            ],
            [
             0.2,
             "#de77ae"
            ],
            [
             0.3,
             "#f1b6da"
            ],
            [
             0.4,
             "#fde0ef"
            ],
            [
             0.5,
             "#f7f7f7"
            ],
            [
             0.6,
             "#e6f5d0"
            ],
            [
             0.7,
             "#b8e186"
            ],
            [
             0.8,
             "#7fbc41"
            ],
            [
             0.9,
             "#4d9221"
            ],
            [
             1,
             "#276419"
            ]
           ],
           "sequential": [
            [
             0,
             "#0d0887"
            ],
            [
             0.1111111111111111,
             "#46039f"
            ],
            [
             0.2222222222222222,
             "#7201a8"
            ],
            [
             0.3333333333333333,
             "#9c179e"
            ],
            [
             0.4444444444444444,
             "#bd3786"
            ],
            [
             0.5555555555555556,
             "#d8576b"
            ],
            [
             0.6666666666666666,
             "#ed7953"
            ],
            [
             0.7777777777777778,
             "#fb9f3a"
            ],
            [
             0.8888888888888888,
             "#fdca26"
            ],
            [
             1,
             "#f0f921"
            ]
           ],
           "sequentialminus": [
            [
             0,
             "#0d0887"
            ],
            [
             0.1111111111111111,
             "#46039f"
            ],
            [
             0.2222222222222222,
             "#7201a8"
            ],
            [
             0.3333333333333333,
             "#9c179e"
            ],
            [
             0.4444444444444444,
             "#bd3786"
            ],
            [
             0.5555555555555556,
             "#d8576b"
            ],
            [
             0.6666666666666666,
             "#ed7953"
            ],
            [
             0.7777777777777778,
             "#fb9f3a"
            ],
            [
             0.8888888888888888,
             "#fdca26"
            ],
            [
             1,
             "#f0f921"
            ]
           ]
          },
          "colorway": [
           "#636efa",
           "#EF553B",
           "#00cc96",
           "#ab63fa",
           "#FFA15A",
           "#19d3f3",
           "#FF6692",
           "#B6E880",
           "#FF97FF",
           "#FECB52"
          ],
          "font": {
           "color": "#2a3f5f"
          },
          "geo": {
           "bgcolor": "white",
           "lakecolor": "white",
           "landcolor": "#E5ECF6",
           "showlakes": true,
           "showland": true,
           "subunitcolor": "white"
          },
          "hoverlabel": {
           "align": "left"
          },
          "hovermode": "closest",
          "mapbox": {
           "style": "light"
          },
          "paper_bgcolor": "white",
          "plot_bgcolor": "#E5ECF6",
          "polar": {
           "angularaxis": {
            "gridcolor": "white",
            "linecolor": "white",
            "ticks": ""
           },
           "bgcolor": "#E5ECF6",
           "radialaxis": {
            "gridcolor": "white",
            "linecolor": "white",
            "ticks": ""
           }
          },
          "scene": {
           "xaxis": {
            "backgroundcolor": "#E5ECF6",
            "gridcolor": "white",
            "gridwidth": 2,
            "linecolor": "white",
            "showbackground": true,
            "ticks": "",
            "zerolinecolor": "white"
           },
           "yaxis": {
            "backgroundcolor": "#E5ECF6",
            "gridcolor": "white",
            "gridwidth": 2,
            "linecolor": "white",
            "showbackground": true,
            "ticks": "",
            "zerolinecolor": "white"
           },
           "zaxis": {
            "backgroundcolor": "#E5ECF6",
            "gridcolor": "white",
            "gridwidth": 2,
            "linecolor": "white",
            "showbackground": true,
            "ticks": "",
            "zerolinecolor": "white"
           }
          },
          "shapedefaults": {
           "line": {
            "color": "#2a3f5f"
           }
          },
          "ternary": {
           "aaxis": {
            "gridcolor": "white",
            "linecolor": "white",
            "ticks": ""
           },
           "baxis": {
            "gridcolor": "white",
            "linecolor": "white",
            "ticks": ""
           },
           "bgcolor": "#E5ECF6",
           "caxis": {
            "gridcolor": "white",
            "linecolor": "white",
            "ticks": ""
           }
          },
          "title": {
           "x": 0.05
          },
          "xaxis": {
           "automargin": true,
           "gridcolor": "white",
           "linecolor": "white",
           "ticks": "",
           "title": {
            "standoff": 15
           },
           "zerolinecolor": "white",
           "zerolinewidth": 2
          },
          "yaxis": {
           "automargin": true,
           "gridcolor": "white",
           "linecolor": "white",
           "ticks": "",
           "title": {
            "standoff": 15
           },
           "zerolinecolor": "white",
           "zerolinewidth": 2
          }
         }
        },
        "title": {
         "font": {
          "color": "#4D5663"
         }
        },
        "xaxis": {
         "gridcolor": "#E1E5ED",
         "showgrid": true,
         "tickfont": {
          "color": "#4D5663"
         },
         "title": {
          "font": {
           "color": "#4D5663"
          },
          "text": ""
         },
         "zerolinecolor": "#E1E5ED"
        },
        "yaxis": {
         "gridcolor": "#E1E5ED",
         "showgrid": true,
         "tickfont": {
          "color": "#4D5663"
         },
         "title": {
          "font": {
           "color": "#4D5663"
          },
          "text": ""
         },
         "zerolinecolor": "#E1E5ED"
        }
       }
      },
      "text/html": [
       "<div>                            <div id=\"5ca5ca4d-8f24-4a79-b6af-f9e9c0dd834a\" class=\"plotly-graph-div\" style=\"height:525px; width:100%;\"></div>            <script type=\"text/javascript\">                require([\"plotly\"], function(Plotly) {                    window.PLOTLYENV=window.PLOTLYENV || {};\n",
       "                    window.PLOTLYENV.BASE_URL='https://plot.ly';                                    if (document.getElementById(\"5ca5ca4d-8f24-4a79-b6af-f9e9c0dd834a\")) {                    Plotly.newPlot(                        \"5ca5ca4d-8f24-4a79-b6af-f9e9c0dd834a\",                        [{\"marker\":{\"color\":[\"rgb(255, 153, 51)\",\"rgb(55, 128, 191)\",\"rgb(50, 171, 96)\",\"rgb(128, 0, 128)\",\"rgb(219, 64, 82)\",\"rgb(0, 128, 128)\",\"rgb(255, 255, 51)\",\"rgb(128, 128, 0)\",\"rgb(251, 128, 114)\",\"rgb(128, 177, 211)\"],\"line\":{\"width\":1.3},\"size\":[90,74,63,67,75,66,87,63,42,64,75,75,70,84,110,97,98,102,49,62,33,59,45,49,78,15,64,72,44,97,22,38,78,39,72,61,59,38,67,96,85,54,64,50,20,89,55,42,85,24,36,80,14,47,66,55,66,63,86,47,94,40,33,41,37,76,53,62,15,56,73,53,47,86,30,26,32,80,107,92,89,41,79,45,38,72,72,59,82,12,76,71,54,55,60,29,65,112,69,29],\"symbol\":\"circle\"},\"mode\":\"markers\",\"text\":\"\",\"x\":[-0.5902303025205717,-2.2016090086623388,0.9688835342587759,0.4097477034647505,-0.6531516478199042,-0.44733786561834193,-0.47482840070158566,-1.0899258739801267,0.018083060890892132,0.18640424228172048,-1.740262022112669,0.07452870131805488,-0.9223778158444266,-1.9232060232149235,0.10735353125742748,-1.1850757900063225,-0.5497291302848054,0.1760346600120734,1.0109279491426288,-1.8800930869821564,0.6818689562292352,1.0013136875986148,-1.4245497173871668,-0.6206539678188364,1.7911365866515108,0.7238100420108368,-0.4204677449441723,-2.154777771126477,-0.6273457251981394,0.1821495912778787,-0.06305727171354696,-0.3905198512997907,0.2528318683594929,0.565418190409366,0.6450981928783018,-0.30807010332343876,0.30513862374559486,-1.7594021492571972,-0.8222574329062964,-0.5735086500790288,-1.3979738724160686,-1.2750186161164196,0.6082933112555565,-0.6097777886272943,0.33734371436621946,-0.5417714102437892,1.375561863788836,2.2056801688936902,0.6405306616954853,1.4161986423742619,-1.0286554899550455,-1.4954126636278111,1.7433309705860673,-0.06255855829844899,-1.3254350939260084,1.2110743664651629,-0.3065195328839513,0.728721977199927,0.7196156850537774,0.17793323956809748,-2.1543583642789113,0.6110026577153034,-0.8926214867297181,0.5131829577150304,-0.4599291034370993,0.5993921592961952,-2.5854795386451497,-1.5187255713236734,-1.5832471980763754,-0.8377799538334126,-0.8174203926960799,-1.0010558563534455,-1.529505285845513,0.4705944311419757,-0.34620452317534356,-1.7587041573689515,0.9752971676066632,1.1613831337131102,1.3446457631064839,-1.4555509876454251,0.4266333975246613,-0.4933550509657777,-1.0762683955046413,-1.1172618918660948,-0.8050366057976863,-0.8191627336334403,2.20208838639601,0.8842178450189843,2.248450908342995,1.263857174507037,0.2817469381374268,0.8268799558075348,0.571564064960558,0.19025113238293712,-0.5390699541755176,1.73433697535019,1.2863853747153662,0.05423139472195194,-1.3151122199680136,0.38122217649893086],\"y\":[-1.3670490430437636,0.161450524235461,-0.44217348630356307,0.37545077311535113,-0.26558456358514304,-0.05337396280955743,-0.16286499406938992,-0.6559063241917041,0.2166205230803355,0.579264707040054,0.6570113302304137,1.1128644665473264,1.3437370062884728,1.2253391743149586,0.07243088995730265,-0.16291549888248036,0.5221703263725861,-0.2860873155412922,0.23845897129297605,0.5383216359023025,1.0228260382992838,1.4742375561846004,-0.4971926005756821,-0.3702983491139233,1.2811992881765035,0.5235806670476302,-0.29364591922026506,2.0327478724465315,-0.8321944982609231,-0.10476735233563249,-0.26958492730061334,-0.20189994105473036,1.0847659756245622,-1.1944184798293207,-1.3230740820458162,0.6206316042828937,0.10859772366319033,-0.6156696325698916,0.3984569141979588,0.844077249699107,1.2519032595789779,0.2513651055639649,0.2130378339237908,0.6490835820095017,-0.010798931494050746,0.3941767468516104,-1.6296040595382955,1.813762930471477,2.038570665631588,0.8554014083836431,1.06694928084837,0.7266644331179781,-0.7312737819318127,1.0626543686367567,1.5125446201537545,0.15539761830497265,1.1275135376114895,0.3884913736161449,1.3342540109209156,-0.09870250239733834,0.19263865576084857,1.6508820619017714,-0.6357303957131819,-0.21065746732213148,1.5794879615866562,0.13187081043821755,-0.6910448387634717,-0.9241359886362889,-0.9788028958812267,1.6571093770062777,0.46710147448499517,-0.08167530974313282,-0.32795086978837157,-0.4864270154260517,1.4228982883721621,-1.230082525704563,-1.8388925715141657,0.007416738671856635,-0.8495852847344079,-0.32060058648100864,-0.10872605769317288,0.17620829861536996,2.817567551757438,1.287542016854579,-0.678669908194487,0.4110746516491658,-1.3175798955777698,-0.9259953438941361,0.6365254724876831,0.1645909140545531,1.275561684738259,-0.5512964249982745,0.6776207058555057,-1.0088839072755986,1.2546202290644812,-0.4988731232616055,1.0171125628881423,-0.6730874492229427,2.515399088329593,0.04827347094723881],\"type\":\"scatter\"}],                        {\"legend\":{\"bgcolor\":\"#F5F6F9\",\"font\":{\"color\":\"#4D5663\"}},\"paper_bgcolor\":\"#F5F6F9\",\"plot_bgcolor\":\"#F5F6F9\",\"template\":{\"data\":{\"barpolar\":[{\"marker\":{\"line\":{\"color\":\"#E5ECF6\",\"width\":0.5},\"pattern\":{\"fillmode\":\"overlay\",\"size\":10,\"solidity\":0.2}},\"type\":\"barpolar\"}],\"bar\":[{\"error_x\":{\"color\":\"#2a3f5f\"},\"error_y\":{\"color\":\"#2a3f5f\"},\"marker\":{\"line\":{\"color\":\"#E5ECF6\",\"width\":0.5},\"pattern\":{\"fillmode\":\"overlay\",\"size\":10,\"solidity\":0.2}},\"type\":\"bar\"}],\"carpet\":[{\"aaxis\":{\"endlinecolor\":\"#2a3f5f\",\"gridcolor\":\"white\",\"linecolor\":\"white\",\"minorgridcolor\":\"white\",\"startlinecolor\":\"#2a3f5f\"},\"baxis\":{\"endlinecolor\":\"#2a3f5f\",\"gridcolor\":\"white\",\"linecolor\":\"white\",\"minorgridcolor\":\"white\",\"startlinecolor\":\"#2a3f5f\"},\"type\":\"carpet\"}],\"choropleth\":[{\"colorbar\":{\"outlinewidth\":0,\"ticks\":\"\"},\"type\":\"choropleth\"}],\"contourcarpet\":[{\"colorbar\":{\"outlinewidth\":0,\"ticks\":\"\"},\"type\":\"contourcarpet\"}],\"contour\":[{\"colorbar\":{\"outlinewidth\":0,\"ticks\":\"\"},\"colorscale\":[[0.0,\"#0d0887\"],[0.1111111111111111,\"#46039f\"],[0.2222222222222222,\"#7201a8\"],[0.3333333333333333,\"#9c179e\"],[0.4444444444444444,\"#bd3786\"],[0.5555555555555556,\"#d8576b\"],[0.6666666666666666,\"#ed7953\"],[0.7777777777777778,\"#fb9f3a\"],[0.8888888888888888,\"#fdca26\"],[1.0,\"#f0f921\"]],\"type\":\"contour\"}],\"heatmapgl\":[{\"colorbar\":{\"outlinewidth\":0,\"ticks\":\"\"},\"colorscale\":[[0.0,\"#0d0887\"],[0.1111111111111111,\"#46039f\"],[0.2222222222222222,\"#7201a8\"],[0.3333333333333333,\"#9c179e\"],[0.4444444444444444,\"#bd3786\"],[0.5555555555555556,\"#d8576b\"],[0.6666666666666666,\"#ed7953\"],[0.7777777777777778,\"#fb9f3a\"],[0.8888888888888888,\"#fdca26\"],[1.0,\"#f0f921\"]],\"type\":\"heatmapgl\"}],\"heatmap\":[{\"colorbar\":{\"outlinewidth\":0,\"ticks\":\"\"},\"colorscale\":[[0.0,\"#0d0887\"],[0.1111111111111111,\"#46039f\"],[0.2222222222222222,\"#7201a8\"],[0.3333333333333333,\"#9c179e\"],[0.4444444444444444,\"#bd3786\"],[0.5555555555555556,\"#d8576b\"],[0.6666666666666666,\"#ed7953\"],[0.7777777777777778,\"#fb9f3a\"],[0.8888888888888888,\"#fdca26\"],[1.0,\"#f0f921\"]],\"type\":\"heatmap\"}],\"histogram2dcontour\":[{\"colorbar\":{\"outlinewidth\":0,\"ticks\":\"\"},\"colorscale\":[[0.0,\"#0d0887\"],[0.1111111111111111,\"#46039f\"],[0.2222222222222222,\"#7201a8\"],[0.3333333333333333,\"#9c179e\"],[0.4444444444444444,\"#bd3786\"],[0.5555555555555556,\"#d8576b\"],[0.6666666666666666,\"#ed7953\"],[0.7777777777777778,\"#fb9f3a\"],[0.8888888888888888,\"#fdca26\"],[1.0,\"#f0f921\"]],\"type\":\"histogram2dcontour\"}],\"histogram2d\":[{\"colorbar\":{\"outlinewidth\":0,\"ticks\":\"\"},\"colorscale\":[[0.0,\"#0d0887\"],[0.1111111111111111,\"#46039f\"],[0.2222222222222222,\"#7201a8\"],[0.3333333333333333,\"#9c179e\"],[0.4444444444444444,\"#bd3786\"],[0.5555555555555556,\"#d8576b\"],[0.6666666666666666,\"#ed7953\"],[0.7777777777777778,\"#fb9f3a\"],[0.8888888888888888,\"#fdca26\"],[1.0,\"#f0f921\"]],\"type\":\"histogram2d\"}],\"histogram\":[{\"marker\":{\"pattern\":{\"fillmode\":\"overlay\",\"size\":10,\"solidity\":0.2}},\"type\":\"histogram\"}],\"mesh3d\":[{\"colorbar\":{\"outlinewidth\":0,\"ticks\":\"\"},\"type\":\"mesh3d\"}],\"parcoords\":[{\"line\":{\"colorbar\":{\"outlinewidth\":0,\"ticks\":\"\"}},\"type\":\"parcoords\"}],\"pie\":[{\"automargin\":true,\"type\":\"pie\"}],\"scatter3d\":[{\"line\":{\"colorbar\":{\"outlinewidth\":0,\"ticks\":\"\"}},\"marker\":{\"colorbar\":{\"outlinewidth\":0,\"ticks\":\"\"}},\"type\":\"scatter3d\"}],\"scattercarpet\":[{\"marker\":{\"colorbar\":{\"outlinewidth\":0,\"ticks\":\"\"}},\"type\":\"scattercarpet\"}],\"scattergeo\":[{\"marker\":{\"colorbar\":{\"outlinewidth\":0,\"ticks\":\"\"}},\"type\":\"scattergeo\"}],\"scattergl\":[{\"marker\":{\"colorbar\":{\"outlinewidth\":0,\"ticks\":\"\"}},\"type\":\"scattergl\"}],\"scattermapbox\":[{\"marker\":{\"colorbar\":{\"outlinewidth\":0,\"ticks\":\"\"}},\"type\":\"scattermapbox\"}],\"scatterpolargl\":[{\"marker\":{\"colorbar\":{\"outlinewidth\":0,\"ticks\":\"\"}},\"type\":\"scatterpolargl\"}],\"scatterpolar\":[{\"marker\":{\"colorbar\":{\"outlinewidth\":0,\"ticks\":\"\"}},\"type\":\"scatterpolar\"}],\"scatter\":[{\"marker\":{\"colorbar\":{\"outlinewidth\":0,\"ticks\":\"\"}},\"type\":\"scatter\"}],\"scatterternary\":[{\"marker\":{\"colorbar\":{\"outlinewidth\":0,\"ticks\":\"\"}},\"type\":\"scatterternary\"}],\"surface\":[{\"colorbar\":{\"outlinewidth\":0,\"ticks\":\"\"},\"colorscale\":[[0.0,\"#0d0887\"],[0.1111111111111111,\"#46039f\"],[0.2222222222222222,\"#7201a8\"],[0.3333333333333333,\"#9c179e\"],[0.4444444444444444,\"#bd3786\"],[0.5555555555555556,\"#d8576b\"],[0.6666666666666666,\"#ed7953\"],[0.7777777777777778,\"#fb9f3a\"],[0.8888888888888888,\"#fdca26\"],[1.0,\"#f0f921\"]],\"type\":\"surface\"}],\"table\":[{\"cells\":{\"fill\":{\"color\":\"#EBF0F8\"},\"line\":{\"color\":\"white\"}},\"header\":{\"fill\":{\"color\":\"#C8D4E3\"},\"line\":{\"color\":\"white\"}},\"type\":\"table\"}]},\"layout\":{\"annotationdefaults\":{\"arrowcolor\":\"#2a3f5f\",\"arrowhead\":0,\"arrowwidth\":1},\"autotypenumbers\":\"strict\",\"coloraxis\":{\"colorbar\":{\"outlinewidth\":0,\"ticks\":\"\"}},\"colorscale\":{\"diverging\":[[0,\"#8e0152\"],[0.1,\"#c51b7d\"],[0.2,\"#de77ae\"],[0.3,\"#f1b6da\"],[0.4,\"#fde0ef\"],[0.5,\"#f7f7f7\"],[0.6,\"#e6f5d0\"],[0.7,\"#b8e186\"],[0.8,\"#7fbc41\"],[0.9,\"#4d9221\"],[1,\"#276419\"]],\"sequential\":[[0.0,\"#0d0887\"],[0.1111111111111111,\"#46039f\"],[0.2222222222222222,\"#7201a8\"],[0.3333333333333333,\"#9c179e\"],[0.4444444444444444,\"#bd3786\"],[0.5555555555555556,\"#d8576b\"],[0.6666666666666666,\"#ed7953\"],[0.7777777777777778,\"#fb9f3a\"],[0.8888888888888888,\"#fdca26\"],[1.0,\"#f0f921\"]],\"sequentialminus\":[[0.0,\"#0d0887\"],[0.1111111111111111,\"#46039f\"],[0.2222222222222222,\"#7201a8\"],[0.3333333333333333,\"#9c179e\"],[0.4444444444444444,\"#bd3786\"],[0.5555555555555556,\"#d8576b\"],[0.6666666666666666,\"#ed7953\"],[0.7777777777777778,\"#fb9f3a\"],[0.8888888888888888,\"#fdca26\"],[1.0,\"#f0f921\"]]},\"colorway\":[\"#636efa\",\"#EF553B\",\"#00cc96\",\"#ab63fa\",\"#FFA15A\",\"#19d3f3\",\"#FF6692\",\"#B6E880\",\"#FF97FF\",\"#FECB52\"],\"font\":{\"color\":\"#2a3f5f\"},\"geo\":{\"bgcolor\":\"white\",\"lakecolor\":\"white\",\"landcolor\":\"#E5ECF6\",\"showlakes\":true,\"showland\":true,\"subunitcolor\":\"white\"},\"hoverlabel\":{\"align\":\"left\"},\"hovermode\":\"closest\",\"mapbox\":{\"style\":\"light\"},\"paper_bgcolor\":\"white\",\"plot_bgcolor\":\"#E5ECF6\",\"polar\":{\"angularaxis\":{\"gridcolor\":\"white\",\"linecolor\":\"white\",\"ticks\":\"\"},\"bgcolor\":\"#E5ECF6\",\"radialaxis\":{\"gridcolor\":\"white\",\"linecolor\":\"white\",\"ticks\":\"\"}},\"scene\":{\"xaxis\":{\"backgroundcolor\":\"#E5ECF6\",\"gridcolor\":\"white\",\"gridwidth\":2,\"linecolor\":\"white\",\"showbackground\":true,\"ticks\":\"\",\"zerolinecolor\":\"white\"},\"yaxis\":{\"backgroundcolor\":\"#E5ECF6\",\"gridcolor\":\"white\",\"gridwidth\":2,\"linecolor\":\"white\",\"showbackground\":true,\"ticks\":\"\",\"zerolinecolor\":\"white\"},\"zaxis\":{\"backgroundcolor\":\"#E5ECF6\",\"gridcolor\":\"white\",\"gridwidth\":2,\"linecolor\":\"white\",\"showbackground\":true,\"ticks\":\"\",\"zerolinecolor\":\"white\"}},\"shapedefaults\":{\"line\":{\"color\":\"#2a3f5f\"}},\"ternary\":{\"aaxis\":{\"gridcolor\":\"white\",\"linecolor\":\"white\",\"ticks\":\"\"},\"baxis\":{\"gridcolor\":\"white\",\"linecolor\":\"white\",\"ticks\":\"\"},\"bgcolor\":\"#E5ECF6\",\"caxis\":{\"gridcolor\":\"white\",\"linecolor\":\"white\",\"ticks\":\"\"}},\"title\":{\"x\":0.05},\"xaxis\":{\"automargin\":true,\"gridcolor\":\"white\",\"linecolor\":\"white\",\"ticks\":\"\",\"title\":{\"standoff\":15},\"zerolinecolor\":\"white\",\"zerolinewidth\":2},\"yaxis\":{\"automargin\":true,\"gridcolor\":\"white\",\"linecolor\":\"white\",\"ticks\":\"\",\"title\":{\"standoff\":15},\"zerolinecolor\":\"white\",\"zerolinewidth\":2}}},\"title\":{\"font\":{\"color\":\"#4D5663\"}},\"xaxis\":{\"gridcolor\":\"#E1E5ED\",\"showgrid\":true,\"tickfont\":{\"color\":\"#4D5663\"},\"title\":{\"font\":{\"color\":\"#4D5663\"},\"text\":\"\"},\"zerolinecolor\":\"#E1E5ED\"},\"yaxis\":{\"gridcolor\":\"#E1E5ED\",\"showgrid\":true,\"tickfont\":{\"color\":\"#4D5663\"},\"title\":{\"font\":{\"color\":\"#4D5663\"},\"text\":\"\"},\"zerolinecolor\":\"#E1E5ED\"}},                        {\"showLink\": true, \"linkText\": \"Export to plot.ly\", \"plotlyServerURL\": \"https://plot.ly\", \"responsive\": true}                    ).then(function(){\n",
       "                            \n",
       "var gd = document.getElementById('5ca5ca4d-8f24-4a79-b6af-f9e9c0dd834a');\n",
       "var x = new MutationObserver(function (mutations, observer) {{\n",
       "        var display = window.getComputedStyle(gd).display;\n",
       "        if (!display || display === 'none') {{\n",
       "            console.log([gd, 'removed!']);\n",
       "            Plotly.purge(gd);\n",
       "            observer.disconnect();\n",
       "        }}\n",
       "}});\n",
       "\n",
       "// Listen for the removal of the full notebook cells\n",
       "var notebookContainer = gd.closest('#notebook-container');\n",
       "if (notebookContainer) {{\n",
       "    x.observe(notebookContainer, {childList: true});\n",
       "}}\n",
       "\n",
       "// Listen for the clearing of the current output cell\n",
       "var outputEl = gd.closest('.output');\n",
       "if (outputEl) {{\n",
       "    x.observe(outputEl, {childList: true});\n",
       "}}\n",
       "\n",
       "                        })                };                });            </script>        </div>"
      ]
     },
     "metadata": {},
     "output_type": "display_data"
    }
   ],
   "source": [
    "df.iplot(x='A', y='B', kind='bubble', size='C')"
   ]
  },
  {
   "cell_type": "code",
   "execution_count": 31,
   "metadata": {},
   "outputs": [
    {
     "data": {
      "application/vnd.plotly.v1+json": {
       "config": {
        "linkText": "Export to plot.ly",
        "plotlyServerURL": "https://plot.ly",
        "showLink": true
       },
       "data": [
        {
         "histfunc": "count",
         "histnorm": "",
         "marker": {
          "color": "rgba(255, 153, 51, 1.0)",
          "line": {
           "color": "#4D5663",
           "width": 1.3
          }
         },
         "name": "A",
         "nbinsx": 10,
         "opacity": 0.8,
         "orientation": "v",
         "type": "histogram",
         "x": [
          -0.5902303025205717,
          -2.2016090086623388,
          0.9688835342587759,
          0.4097477034647505,
          -0.6531516478199042,
          -0.44733786561834193,
          -0.47482840070158566,
          -1.0899258739801267,
          0.018083060890892132,
          0.18640424228172048,
          -1.740262022112669,
          0.07452870131805488,
          -0.9223778158444266,
          -1.9232060232149235,
          0.10735353125742748,
          -1.1850757900063225,
          -0.5497291302848054,
          0.1760346600120734,
          1.0109279491426288,
          -1.8800930869821564,
          0.6818689562292352,
          1.0013136875986148,
          -1.4245497173871668,
          -0.6206539678188364,
          1.7911365866515108,
          0.7238100420108368,
          -0.4204677449441723,
          -2.154777771126477,
          -0.6273457251981394,
          0.1821495912778787,
          -0.06305727171354696,
          -0.3905198512997907,
          0.2528318683594929,
          0.565418190409366,
          0.6450981928783018,
          -0.30807010332343876,
          0.30513862374559486,
          -1.7594021492571972,
          -0.8222574329062964,
          -0.5735086500790288,
          -1.3979738724160686,
          -1.2750186161164196,
          0.6082933112555565,
          -0.6097777886272943,
          0.33734371436621946,
          -0.5417714102437892,
          1.375561863788836,
          2.2056801688936902,
          0.6405306616954853,
          1.4161986423742619,
          -1.0286554899550455,
          -1.4954126636278111,
          1.7433309705860673,
          -0.06255855829844899,
          -1.3254350939260084,
          1.2110743664651629,
          -0.3065195328839513,
          0.728721977199927,
          0.7196156850537774,
          0.17793323956809748,
          -2.1543583642789113,
          0.6110026577153034,
          -0.8926214867297181,
          0.5131829577150304,
          -0.4599291034370993,
          0.5993921592961952,
          -2.5854795386451497,
          -1.5187255713236734,
          -1.5832471980763754,
          -0.8377799538334126,
          -0.8174203926960799,
          -1.0010558563534455,
          -1.529505285845513,
          0.4705944311419757,
          -0.34620452317534356,
          -1.7587041573689515,
          0.9752971676066632,
          1.1613831337131102,
          1.3446457631064839,
          -1.4555509876454251,
          0.4266333975246613,
          -0.4933550509657777,
          -1.0762683955046413,
          -1.1172618918660948,
          -0.8050366057976863,
          -0.8191627336334403,
          2.20208838639601,
          0.8842178450189843,
          2.248450908342995,
          1.263857174507037,
          0.2817469381374268,
          0.8268799558075348,
          0.571564064960558,
          0.19025113238293712,
          -0.5390699541755176,
          1.73433697535019,
          1.2863853747153662,
          0.05423139472195194,
          -1.3151122199680136,
          0.38122217649893086
         ],
         "xaxis": "x",
         "yaxis": "y"
        },
        {
         "line": {
          "color": "rgba(128, 128, 128, 1.0)",
          "dash": "solid",
          "shape": "linear",
          "width": 1.3
         },
         "marker": {
          "size": 2,
          "symbol": "circle"
         },
         "mode": "markers",
         "name": "A",
         "text": "",
         "type": "scatter",
         "x": [
          -1.3670490430437636,
          0.161450524235461,
          -0.44217348630356307,
          0.37545077311535113,
          -0.26558456358514304,
          -0.05337396280955743,
          -0.16286499406938992,
          -0.6559063241917041,
          0.2166205230803355,
          0.579264707040054,
          0.6570113302304137,
          1.1128644665473264,
          1.3437370062884728,
          1.2253391743149586,
          0.07243088995730265,
          -0.16291549888248036,
          0.5221703263725861,
          -0.2860873155412922,
          0.23845897129297605,
          0.5383216359023025,
          1.0228260382992838,
          1.4742375561846004,
          -0.4971926005756821,
          -0.3702983491139233,
          1.2811992881765035,
          0.5235806670476302,
          -0.29364591922026506,
          2.0327478724465315,
          -0.8321944982609231,
          -0.10476735233563249,
          -0.26958492730061334,
          -0.20189994105473036,
          1.0847659756245622,
          -1.1944184798293207,
          -1.3230740820458162,
          0.6206316042828937,
          0.10859772366319033,
          -0.6156696325698916,
          0.3984569141979588,
          0.844077249699107,
          1.2519032595789779,
          0.2513651055639649,
          0.2130378339237908,
          0.6490835820095017,
          -0.010798931494050746,
          0.3941767468516104,
          -1.6296040595382955,
          1.813762930471477,
          2.038570665631588,
          0.8554014083836431,
          1.06694928084837,
          0.7266644331179781,
          -0.7312737819318127,
          1.0626543686367567,
          1.5125446201537545,
          0.15539761830497265,
          1.1275135376114895,
          0.3884913736161449,
          1.3342540109209156,
          -0.09870250239733834,
          0.19263865576084857,
          1.6508820619017714,
          -0.6357303957131819,
          -0.21065746732213148,
          1.5794879615866562,
          0.13187081043821755,
          -0.6910448387634717,
          -0.9241359886362889,
          -0.9788028958812267,
          1.6571093770062777,
          0.46710147448499517,
          -0.08167530974313282,
          -0.32795086978837157,
          -0.4864270154260517,
          1.4228982883721621,
          -1.230082525704563,
          -1.8388925715141657,
          0.007416738671856635,
          -0.8495852847344079,
          -0.32060058648100864,
          -0.10872605769317288,
          0.17620829861536996,
          2.817567551757438,
          1.287542016854579,
          -0.678669908194487,
          0.4110746516491658,
          -1.3175798955777698,
          -0.9259953438941361,
          0.6365254724876831,
          0.1645909140545531,
          1.275561684738259,
          -0.5512964249982745,
          0.6776207058555057,
          -1.0088839072755986,
          1.2546202290644812,
          -0.4988731232616055,
          1.0171125628881423,
          -0.6730874492229427,
          2.515399088329593,
          0.04827347094723881
         ],
         "xaxis": "x2",
         "y": [
          -0.5902303025205717,
          -2.2016090086623388,
          0.9688835342587759,
          0.4097477034647505,
          -0.6531516478199042,
          -0.44733786561834193,
          -0.47482840070158566,
          -1.0899258739801267,
          0.018083060890892132,
          0.18640424228172048,
          -1.740262022112669,
          0.07452870131805488,
          -0.9223778158444266,
          -1.9232060232149235,
          0.10735353125742748,
          -1.1850757900063225,
          -0.5497291302848054,
          0.1760346600120734,
          1.0109279491426288,
          -1.8800930869821564,
          0.6818689562292352,
          1.0013136875986148,
          -1.4245497173871668,
          -0.6206539678188364,
          1.7911365866515108,
          0.7238100420108368,
          -0.4204677449441723,
          -2.154777771126477,
          -0.6273457251981394,
          0.1821495912778787,
          -0.06305727171354696,
          -0.3905198512997907,
          0.2528318683594929,
          0.565418190409366,
          0.6450981928783018,
          -0.30807010332343876,
          0.30513862374559486,
          -1.7594021492571972,
          -0.8222574329062964,
          -0.5735086500790288,
          -1.3979738724160686,
          -1.2750186161164196,
          0.6082933112555565,
          -0.6097777886272943,
          0.33734371436621946,
          -0.5417714102437892,
          1.375561863788836,
          2.2056801688936902,
          0.6405306616954853,
          1.4161986423742619,
          -1.0286554899550455,
          -1.4954126636278111,
          1.7433309705860673,
          -0.06255855829844899,
          -1.3254350939260084,
          1.2110743664651629,
          -0.3065195328839513,
          0.728721977199927,
          0.7196156850537774,
          0.17793323956809748,
          -2.1543583642789113,
          0.6110026577153034,
          -0.8926214867297181,
          0.5131829577150304,
          -0.4599291034370993,
          0.5993921592961952,
          -2.5854795386451497,
          -1.5187255713236734,
          -1.5832471980763754,
          -0.8377799538334126,
          -0.8174203926960799,
          -1.0010558563534455,
          -1.529505285845513,
          0.4705944311419757,
          -0.34620452317534356,
          -1.7587041573689515,
          0.9752971676066632,
          1.1613831337131102,
          1.3446457631064839,
          -1.4555509876454251,
          0.4266333975246613,
          -0.4933550509657777,
          -1.0762683955046413,
          -1.1172618918660948,
          -0.8050366057976863,
          -0.8191627336334403,
          2.20208838639601,
          0.8842178450189843,
          2.248450908342995,
          1.263857174507037,
          0.2817469381374268,
          0.8268799558075348,
          0.571564064960558,
          0.19025113238293712,
          -0.5390699541755176,
          1.73433697535019,
          1.2863853747153662,
          0.05423139472195194,
          -1.3151122199680136,
          0.38122217649893086
         ],
         "yaxis": "y2"
        },
        {
         "line": {
          "color": "rgba(128, 128, 128, 1.0)",
          "dash": "solid",
          "shape": "linear",
          "width": 1.3
         },
         "marker": {
          "size": 2,
          "symbol": "circle"
         },
         "mode": "markers",
         "name": "A",
         "text": "",
         "type": "scatter",
         "x": [
          1.0927895381438653,
          0.3869804888555894,
          -0.07820871841748094,
          0.10914875239807878,
          0.44141128246765543,
          0.059709641898243994,
          0.9362562758459936,
          -0.049469222922685165,
          -0.9604645141374815,
          -0.03642247206112177,
          0.4540126975266702,
          0.46661801100664024,
          0.23525896270846847,
          0.8435264824759354,
          1.9123308315530168,
          1.3778178632223428,
          1.427129817536749,
          1.5969456284165555,
          -0.6353716176738434,
          -0.0852301036877315,
          -1.3107077999802108,
          -0.2111203466429529,
          -0.822676110997687,
          -0.6399111406824087,
          0.5784150917630376,
          -2.0730943122234877,
          -0.009738024958068586,
          0.31731126652029606,
          -0.8621507657761383,
          1.360291204984467,
          -1.8087879144579424,
          -1.1129622729554434,
          0.5677532651308002,
          -1.0697605131495675,
          0.31007992996337114,
          -0.15813396722000733,
          -0.24701350019495308,
          -1.0947940608247673,
          0.10314984688247189,
          1.3522471859989258,
          0.8606312443402826,
          -0.4553994887831305,
          -0.027024463446770283,
          -0.602148747068422,
          -1.8617033643320429,
          1.0459214592089945,
          -0.38172865720440924,
          -0.9482660908555265,
          0.8641232502416377,
          -1.7194676900776327,
          -1.1994706634027732,
          0.6713487772149576,
          -2.1346765408392505,
          -0.7181127663392818,
          0.06053680845956763,
          -0.37917654153482355,
          0.0894570996922149,
          -0.05600806767708331,
          0.928892609407208,
          -0.7495940138240937,
          1.2609906474293038,
          -1.0139880360813422,
          -1.3111107150205963,
          -0.9781755940346926,
          -1.1467667465321165,
          0.509671842270591,
          -0.49660618701523934,
          -0.11180452020127217,
          -2.0983295549353365,
          -0.37427308918351176,
          0.3825874831548487,
          -0.46048952482532995,
          -0.7327819745299191,
          0.9313353321457137,
          -1.4710842016607026,
          -1.6229378241379038,
          -1.365938141973644,
          0.6442667748038098,
          1.8008255670720474,
          1.1644094313071818,
          1.0284801366288947,
          -0.9741732106305144,
          0.599971256821181,
          -0.8139126818817689,
          -1.09767394155658,
          0.31749206036862637,
          0.3122101323895381,
          -0.21538581024967854,
          0.7603118663717938,
          -2.231394814777633,
          0.4771245925723608,
          0.3003655425976786,
          -0.42850277917924867,
          -0.3913032486148974,
          -0.1647431926134105,
          -1.507024883903592,
          0.006553607869517606,
          1.9888006179881683,
          0.2126792472612787,
          -1.4987557388322261
         ],
         "xaxis": "x3",
         "y": [
          -0.5902303025205717,
          -2.2016090086623388,
          0.9688835342587759,
          0.4097477034647505,
          -0.6531516478199042,
          -0.44733786561834193,
          -0.47482840070158566,
          -1.0899258739801267,
          0.018083060890892132,
          0.18640424228172048,
          -1.740262022112669,
          0.07452870131805488,
          -0.9223778158444266,
          -1.9232060232149235,
          0.10735353125742748,
          -1.1850757900063225,
          -0.5497291302848054,
          0.1760346600120734,
          1.0109279491426288,
          -1.8800930869821564,
          0.6818689562292352,
          1.0013136875986148,
          -1.4245497173871668,
          -0.6206539678188364,
          1.7911365866515108,
          0.7238100420108368,
          -0.4204677449441723,
          -2.154777771126477,
          -0.6273457251981394,
          0.1821495912778787,
          -0.06305727171354696,
          -0.3905198512997907,
          0.2528318683594929,
          0.565418190409366,
          0.6450981928783018,
          -0.30807010332343876,
          0.30513862374559486,
          -1.7594021492571972,
          -0.8222574329062964,
          -0.5735086500790288,
          -1.3979738724160686,
          -1.2750186161164196,
          0.6082933112555565,
          -0.6097777886272943,
          0.33734371436621946,
          -0.5417714102437892,
          1.375561863788836,
          2.2056801688936902,
          0.6405306616954853,
          1.4161986423742619,
          -1.0286554899550455,
          -1.4954126636278111,
          1.7433309705860673,
          -0.06255855829844899,
          -1.3254350939260084,
          1.2110743664651629,
          -0.3065195328839513,
          0.728721977199927,
          0.7196156850537774,
          0.17793323956809748,
          -2.1543583642789113,
          0.6110026577153034,
          -0.8926214867297181,
          0.5131829577150304,
          -0.4599291034370993,
          0.5993921592961952,
          -2.5854795386451497,
          -1.5187255713236734,
          -1.5832471980763754,
          -0.8377799538334126,
          -0.8174203926960799,
          -1.0010558563534455,
          -1.529505285845513,
          0.4705944311419757,
          -0.34620452317534356,
          -1.7587041573689515,
          0.9752971676066632,
          1.1613831337131102,
          1.3446457631064839,
          -1.4555509876454251,
          0.4266333975246613,
          -0.4933550509657777,
          -1.0762683955046413,
          -1.1172618918660948,
          -0.8050366057976863,
          -0.8191627336334403,
          2.20208838639601,
          0.8842178450189843,
          2.248450908342995,
          1.263857174507037,
          0.2817469381374268,
          0.8268799558075348,
          0.571564064960558,
          0.19025113238293712,
          -0.5390699541755176,
          1.73433697535019,
          1.2863853747153662,
          0.05423139472195194,
          -1.3151122199680136,
          0.38122217649893086
         ],
         "yaxis": "y3"
        },
        {
         "line": {
          "color": "rgba(128, 128, 128, 1.0)",
          "dash": "solid",
          "shape": "linear",
          "width": 1.3
         },
         "marker": {
          "size": 2,
          "symbol": "circle"
         },
         "mode": "markers",
         "name": "A",
         "text": "",
         "type": "scatter",
         "x": [
          -0.18404099541891808,
          0.3705020988811112,
          2.4707853777241984,
          -0.6918146703711641,
          -0.8598510055544313,
          -1.158422440878767,
          1.4392467936379234,
          -0.6444906436631372,
          0.07894053798934612,
          -0.14325225219283427,
          -0.7795377265033557,
          1.0287344829474763,
          0.8627307529196024,
          -1.22890078262128,
          -0.47042027405335574,
          -0.23634839918213463,
          -0.4904857493837416,
          -0.7944123856144842,
          0.38778200438058813,
          0.9465708488659833,
          0.07899079642198541,
          -1.2488361957956742,
          0.19068929934729476,
          -1.0759649846092925,
          0.652451644860557,
          0.3015952648458203,
          0.5928935225579912,
          0.16911608311814655,
          -1.7168319905353358,
          -0.9965345005712516,
          -0.799832574687069,
          -0.4985149362343189,
          -0.4428008794462112,
          0.09638485531186627,
          -0.15011085240866567,
          1.226181583794429,
          -0.6037653345291387,
          -2.553832907788901,
          0.41976705316316654,
          0.5751887195240278,
          0.6003093489706015,
          -0.17644904294017671,
          0.6572023046449496,
          -0.016283320319424494,
          0.26465186215612035,
          0.6574045231367414,
          0.47531636844809133,
          1.0615391981185471,
          0.36254004841507625,
          -0.8377924133433795,
          1.9398990124400257,
          0.7769369852373745,
          0.045950154352748886,
          -1.5626638233641632,
          0.31621389478489725,
          -0.7931086826469803,
          -1.7551691001506924,
          1.2294425567019371,
          -0.0561545639195008,
          2.0442495940818506,
          -1.343470161015329,
          -0.8449773666074941,
          0.5666466025668979,
          0.574896431520319,
          -0.6623593912763195,
          -3.072259852988364,
          0.3629716411895115,
          1.0131910891426401,
          -2.3279426569230717,
          0.31783112748115516,
          -1.0288307099732001,
          -3.105096101828258,
          -1.7498390701699789,
          0.8854827761806933,
          0.08118201488294917,
          0.647961662890736,
          1.891230672055887,
          0.7914627879619662,
          1.0700106617800895,
          0.07227639716562591,
          0.6201189505305379,
          -0.5655464421299009,
          0.06228980710049047,
          0.2853002537024566,
          -1.2273085630898832,
          -0.9103824315747909,
          0.6627057071312216,
          0.7732955015308591,
          -1.5466254411465514,
          0.22583614943131844,
          1.6126052875773842,
          -1.4442686899363433,
          1.822522637667904,
          1.823108525324734,
          2.8499618537430065,
          -0.3713081051143311,
          0.10186930241625286,
          0.8109871340449076,
          0.6159795521360518,
          -0.7539276801344859
         ],
         "xaxis": "x4",
         "y": [
          -0.5902303025205717,
          -2.2016090086623388,
          0.9688835342587759,
          0.4097477034647505,
          -0.6531516478199042,
          -0.44733786561834193,
          -0.47482840070158566,
          -1.0899258739801267,
          0.018083060890892132,
          0.18640424228172048,
          -1.740262022112669,
          0.07452870131805488,
          -0.9223778158444266,
          -1.9232060232149235,
          0.10735353125742748,
          -1.1850757900063225,
          -0.5497291302848054,
          0.1760346600120734,
          1.0109279491426288,
          -1.8800930869821564,
          0.6818689562292352,
          1.0013136875986148,
          -1.4245497173871668,
          -0.6206539678188364,
          1.7911365866515108,
          0.7238100420108368,
          -0.4204677449441723,
          -2.154777771126477,
          -0.6273457251981394,
          0.1821495912778787,
          -0.06305727171354696,
          -0.3905198512997907,
          0.2528318683594929,
          0.565418190409366,
          0.6450981928783018,
          -0.30807010332343876,
          0.30513862374559486,
          -1.7594021492571972,
          -0.8222574329062964,
          -0.5735086500790288,
          -1.3979738724160686,
          -1.2750186161164196,
          0.6082933112555565,
          -0.6097777886272943,
          0.33734371436621946,
          -0.5417714102437892,
          1.375561863788836,
          2.2056801688936902,
          0.6405306616954853,
          1.4161986423742619,
          -1.0286554899550455,
          -1.4954126636278111,
          1.7433309705860673,
          -0.06255855829844899,
          -1.3254350939260084,
          1.2110743664651629,
          -0.3065195328839513,
          0.728721977199927,
          0.7196156850537774,
          0.17793323956809748,
          -2.1543583642789113,
          0.6110026577153034,
          -0.8926214867297181,
          0.5131829577150304,
          -0.4599291034370993,
          0.5993921592961952,
          -2.5854795386451497,
          -1.5187255713236734,
          -1.5832471980763754,
          -0.8377799538334126,
          -0.8174203926960799,
          -1.0010558563534455,
          -1.529505285845513,
          0.4705944311419757,
          -0.34620452317534356,
          -1.7587041573689515,
          0.9752971676066632,
          1.1613831337131102,
          1.3446457631064839,
          -1.4555509876454251,
          0.4266333975246613,
          -0.4933550509657777,
          -1.0762683955046413,
          -1.1172618918660948,
          -0.8050366057976863,
          -0.8191627336334403,
          2.20208838639601,
          0.8842178450189843,
          2.248450908342995,
          1.263857174507037,
          0.2817469381374268,
          0.8268799558075348,
          0.571564064960558,
          0.19025113238293712,
          -0.5390699541755176,
          1.73433697535019,
          1.2863853747153662,
          0.05423139472195194,
          -1.3151122199680136,
          0.38122217649893086
         ],
         "yaxis": "y4"
        },
        {
         "line": {
          "color": "rgba(128, 128, 128, 1.0)",
          "dash": "solid",
          "shape": "linear",
          "width": 1.3
         },
         "marker": {
          "size": 2,
          "symbol": "circle"
         },
         "mode": "markers",
         "name": "B",
         "text": "",
         "type": "scatter",
         "x": [
          -0.5902303025205717,
          -2.2016090086623388,
          0.9688835342587759,
          0.4097477034647505,
          -0.6531516478199042,
          -0.44733786561834193,
          -0.47482840070158566,
          -1.0899258739801267,
          0.018083060890892132,
          0.18640424228172048,
          -1.740262022112669,
          0.07452870131805488,
          -0.9223778158444266,
          -1.9232060232149235,
          0.10735353125742748,
          -1.1850757900063225,
          -0.5497291302848054,
          0.1760346600120734,
          1.0109279491426288,
          -1.8800930869821564,
          0.6818689562292352,
          1.0013136875986148,
          -1.4245497173871668,
          -0.6206539678188364,
          1.7911365866515108,
          0.7238100420108368,
          -0.4204677449441723,
          -2.154777771126477,
          -0.6273457251981394,
          0.1821495912778787,
          -0.06305727171354696,
          -0.3905198512997907,
          0.2528318683594929,
          0.565418190409366,
          0.6450981928783018,
          -0.30807010332343876,
          0.30513862374559486,
          -1.7594021492571972,
          -0.8222574329062964,
          -0.5735086500790288,
          -1.3979738724160686,
          -1.2750186161164196,
          0.6082933112555565,
          -0.6097777886272943,
          0.33734371436621946,
          -0.5417714102437892,
          1.375561863788836,
          2.2056801688936902,
          0.6405306616954853,
          1.4161986423742619,
          -1.0286554899550455,
          -1.4954126636278111,
          1.7433309705860673,
          -0.06255855829844899,
          -1.3254350939260084,
          1.2110743664651629,
          -0.3065195328839513,
          0.728721977199927,
          0.7196156850537774,
          0.17793323956809748,
          -2.1543583642789113,
          0.6110026577153034,
          -0.8926214867297181,
          0.5131829577150304,
          -0.4599291034370993,
          0.5993921592961952,
          -2.5854795386451497,
          -1.5187255713236734,
          -1.5832471980763754,
          -0.8377799538334126,
          -0.8174203926960799,
          -1.0010558563534455,
          -1.529505285845513,
          0.4705944311419757,
          -0.34620452317534356,
          -1.7587041573689515,
          0.9752971676066632,
          1.1613831337131102,
          1.3446457631064839,
          -1.4555509876454251,
          0.4266333975246613,
          -0.4933550509657777,
          -1.0762683955046413,
          -1.1172618918660948,
          -0.8050366057976863,
          -0.8191627336334403,
          2.20208838639601,
          0.8842178450189843,
          2.248450908342995,
          1.263857174507037,
          0.2817469381374268,
          0.8268799558075348,
          0.571564064960558,
          0.19025113238293712,
          -0.5390699541755176,
          1.73433697535019,
          1.2863853747153662,
          0.05423139472195194,
          -1.3151122199680136,
          0.38122217649893086
         ],
         "xaxis": "x5",
         "y": [
          -1.3670490430437636,
          0.161450524235461,
          -0.44217348630356307,
          0.37545077311535113,
          -0.26558456358514304,
          -0.05337396280955743,
          -0.16286499406938992,
          -0.6559063241917041,
          0.2166205230803355,
          0.579264707040054,
          0.6570113302304137,
          1.1128644665473264,
          1.3437370062884728,
          1.2253391743149586,
          0.07243088995730265,
          -0.16291549888248036,
          0.5221703263725861,
          -0.2860873155412922,
          0.23845897129297605,
          0.5383216359023025,
          1.0228260382992838,
          1.4742375561846004,
          -0.4971926005756821,
          -0.3702983491139233,
          1.2811992881765035,
          0.5235806670476302,
          -0.29364591922026506,
          2.0327478724465315,
          -0.8321944982609231,
          -0.10476735233563249,
          -0.26958492730061334,
          -0.20189994105473036,
          1.0847659756245622,
          -1.1944184798293207,
          -1.3230740820458162,
          0.6206316042828937,
          0.10859772366319033,
          -0.6156696325698916,
          0.3984569141979588,
          0.844077249699107,
          1.2519032595789779,
          0.2513651055639649,
          0.2130378339237908,
          0.6490835820095017,
          -0.010798931494050746,
          0.3941767468516104,
          -1.6296040595382955,
          1.813762930471477,
          2.038570665631588,
          0.8554014083836431,
          1.06694928084837,
          0.7266644331179781,
          -0.7312737819318127,
          1.0626543686367567,
          1.5125446201537545,
          0.15539761830497265,
          1.1275135376114895,
          0.3884913736161449,
          1.3342540109209156,
          -0.09870250239733834,
          0.19263865576084857,
          1.6508820619017714,
          -0.6357303957131819,
          -0.21065746732213148,
          1.5794879615866562,
          0.13187081043821755,
          -0.6910448387634717,
          -0.9241359886362889,
          -0.9788028958812267,
          1.6571093770062777,
          0.46710147448499517,
          -0.08167530974313282,
          -0.32795086978837157,
          -0.4864270154260517,
          1.4228982883721621,
          -1.230082525704563,
          -1.8388925715141657,
          0.007416738671856635,
          -0.8495852847344079,
          -0.32060058648100864,
          -0.10872605769317288,
          0.17620829861536996,
          2.817567551757438,
          1.287542016854579,
          -0.678669908194487,
          0.4110746516491658,
          -1.3175798955777698,
          -0.9259953438941361,
          0.6365254724876831,
          0.1645909140545531,
          1.275561684738259,
          -0.5512964249982745,
          0.6776207058555057,
          -1.0088839072755986,
          1.2546202290644812,
          -0.4988731232616055,
          1.0171125628881423,
          -0.6730874492229427,
          2.515399088329593,
          0.04827347094723881
         ],
         "yaxis": "y5"
        },
        {
         "histfunc": "count",
         "histnorm": "",
         "marker": {
          "color": "rgba(55, 128, 191, 1.0)",
          "line": {
           "color": "#4D5663",
           "width": 1.3
          }
         },
         "name": "B",
         "nbinsx": 10,
         "opacity": 0.8,
         "orientation": "v",
         "type": "histogram",
         "x": [
          -1.3670490430437636,
          0.161450524235461,
          -0.44217348630356307,
          0.37545077311535113,
          -0.26558456358514304,
          -0.05337396280955743,
          -0.16286499406938992,
          -0.6559063241917041,
          0.2166205230803355,
          0.579264707040054,
          0.6570113302304137,
          1.1128644665473264,
          1.3437370062884728,
          1.2253391743149586,
          0.07243088995730265,
          -0.16291549888248036,
          0.5221703263725861,
          -0.2860873155412922,
          0.23845897129297605,
          0.5383216359023025,
          1.0228260382992838,
          1.4742375561846004,
          -0.4971926005756821,
          -0.3702983491139233,
          1.2811992881765035,
          0.5235806670476302,
          -0.29364591922026506,
          2.0327478724465315,
          -0.8321944982609231,
          -0.10476735233563249,
          -0.26958492730061334,
          -0.20189994105473036,
          1.0847659756245622,
          -1.1944184798293207,
          -1.3230740820458162,
          0.6206316042828937,
          0.10859772366319033,
          -0.6156696325698916,
          0.3984569141979588,
          0.844077249699107,
          1.2519032595789779,
          0.2513651055639649,
          0.2130378339237908,
          0.6490835820095017,
          -0.010798931494050746,
          0.3941767468516104,
          -1.6296040595382955,
          1.813762930471477,
          2.038570665631588,
          0.8554014083836431,
          1.06694928084837,
          0.7266644331179781,
          -0.7312737819318127,
          1.0626543686367567,
          1.5125446201537545,
          0.15539761830497265,
          1.1275135376114895,
          0.3884913736161449,
          1.3342540109209156,
          -0.09870250239733834,
          0.19263865576084857,
          1.6508820619017714,
          -0.6357303957131819,
          -0.21065746732213148,
          1.5794879615866562,
          0.13187081043821755,
          -0.6910448387634717,
          -0.9241359886362889,
          -0.9788028958812267,
          1.6571093770062777,
          0.46710147448499517,
          -0.08167530974313282,
          -0.32795086978837157,
          -0.4864270154260517,
          1.4228982883721621,
          -1.230082525704563,
          -1.8388925715141657,
          0.007416738671856635,
          -0.8495852847344079,
          -0.32060058648100864,
          -0.10872605769317288,
          0.17620829861536996,
          2.817567551757438,
          1.287542016854579,
          -0.678669908194487,
          0.4110746516491658,
          -1.3175798955777698,
          -0.9259953438941361,
          0.6365254724876831,
          0.1645909140545531,
          1.275561684738259,
          -0.5512964249982745,
          0.6776207058555057,
          -1.0088839072755986,
          1.2546202290644812,
          -0.4988731232616055,
          1.0171125628881423,
          -0.6730874492229427,
          2.515399088329593,
          0.04827347094723881
         ],
         "xaxis": "x6",
         "yaxis": "y6"
        },
        {
         "line": {
          "color": "rgba(128, 128, 128, 1.0)",
          "dash": "solid",
          "shape": "linear",
          "width": 1.3
         },
         "marker": {
          "size": 2,
          "symbol": "circle"
         },
         "mode": "markers",
         "name": "B",
         "text": "",
         "type": "scatter",
         "x": [
          1.0927895381438653,
          0.3869804888555894,
          -0.07820871841748094,
          0.10914875239807878,
          0.44141128246765543,
          0.059709641898243994,
          0.9362562758459936,
          -0.049469222922685165,
          -0.9604645141374815,
          -0.03642247206112177,
          0.4540126975266702,
          0.46661801100664024,
          0.23525896270846847,
          0.8435264824759354,
          1.9123308315530168,
          1.3778178632223428,
          1.427129817536749,
          1.5969456284165555,
          -0.6353716176738434,
          -0.0852301036877315,
          -1.3107077999802108,
          -0.2111203466429529,
          -0.822676110997687,
          -0.6399111406824087,
          0.5784150917630376,
          -2.0730943122234877,
          -0.009738024958068586,
          0.31731126652029606,
          -0.8621507657761383,
          1.360291204984467,
          -1.8087879144579424,
          -1.1129622729554434,
          0.5677532651308002,
          -1.0697605131495675,
          0.31007992996337114,
          -0.15813396722000733,
          -0.24701350019495308,
          -1.0947940608247673,
          0.10314984688247189,
          1.3522471859989258,
          0.8606312443402826,
          -0.4553994887831305,
          -0.027024463446770283,
          -0.602148747068422,
          -1.8617033643320429,
          1.0459214592089945,
          -0.38172865720440924,
          -0.9482660908555265,
          0.8641232502416377,
          -1.7194676900776327,
          -1.1994706634027732,
          0.6713487772149576,
          -2.1346765408392505,
          -0.7181127663392818,
          0.06053680845956763,
          -0.37917654153482355,
          0.0894570996922149,
          -0.05600806767708331,
          0.928892609407208,
          -0.7495940138240937,
          1.2609906474293038,
          -1.0139880360813422,
          -1.3111107150205963,
          -0.9781755940346926,
          -1.1467667465321165,
          0.509671842270591,
          -0.49660618701523934,
          -0.11180452020127217,
          -2.0983295549353365,
          -0.37427308918351176,
          0.3825874831548487,
          -0.46048952482532995,
          -0.7327819745299191,
          0.9313353321457137,
          -1.4710842016607026,
          -1.6229378241379038,
          -1.365938141973644,
          0.6442667748038098,
          1.8008255670720474,
          1.1644094313071818,
          1.0284801366288947,
          -0.9741732106305144,
          0.599971256821181,
          -0.8139126818817689,
          -1.09767394155658,
          0.31749206036862637,
          0.3122101323895381,
          -0.21538581024967854,
          0.7603118663717938,
          -2.231394814777633,
          0.4771245925723608,
          0.3003655425976786,
          -0.42850277917924867,
          -0.3913032486148974,
          -0.1647431926134105,
          -1.507024883903592,
          0.006553607869517606,
          1.9888006179881683,
          0.2126792472612787,
          -1.4987557388322261
         ],
         "xaxis": "x7",
         "y": [
          -1.3670490430437636,
          0.161450524235461,
          -0.44217348630356307,
          0.37545077311535113,
          -0.26558456358514304,
          -0.05337396280955743,
          -0.16286499406938992,
          -0.6559063241917041,
          0.2166205230803355,
          0.579264707040054,
          0.6570113302304137,
          1.1128644665473264,
          1.3437370062884728,
          1.2253391743149586,
          0.07243088995730265,
          -0.16291549888248036,
          0.5221703263725861,
          -0.2860873155412922,
          0.23845897129297605,
          0.5383216359023025,
          1.0228260382992838,
          1.4742375561846004,
          -0.4971926005756821,
          -0.3702983491139233,
          1.2811992881765035,
          0.5235806670476302,
          -0.29364591922026506,
          2.0327478724465315,
          -0.8321944982609231,
          -0.10476735233563249,
          -0.26958492730061334,
          -0.20189994105473036,
          1.0847659756245622,
          -1.1944184798293207,
          -1.3230740820458162,
          0.6206316042828937,
          0.10859772366319033,
          -0.6156696325698916,
          0.3984569141979588,
          0.844077249699107,
          1.2519032595789779,
          0.2513651055639649,
          0.2130378339237908,
          0.6490835820095017,
          -0.010798931494050746,
          0.3941767468516104,
          -1.6296040595382955,
          1.813762930471477,
          2.038570665631588,
          0.8554014083836431,
          1.06694928084837,
          0.7266644331179781,
          -0.7312737819318127,
          1.0626543686367567,
          1.5125446201537545,
          0.15539761830497265,
          1.1275135376114895,
          0.3884913736161449,
          1.3342540109209156,
          -0.09870250239733834,
          0.19263865576084857,
          1.6508820619017714,
          -0.6357303957131819,
          -0.21065746732213148,
          1.5794879615866562,
          0.13187081043821755,
          -0.6910448387634717,
          -0.9241359886362889,
          -0.9788028958812267,
          1.6571093770062777,
          0.46710147448499517,
          -0.08167530974313282,
          -0.32795086978837157,
          -0.4864270154260517,
          1.4228982883721621,
          -1.230082525704563,
          -1.8388925715141657,
          0.007416738671856635,
          -0.8495852847344079,
          -0.32060058648100864,
          -0.10872605769317288,
          0.17620829861536996,
          2.817567551757438,
          1.287542016854579,
          -0.678669908194487,
          0.4110746516491658,
          -1.3175798955777698,
          -0.9259953438941361,
          0.6365254724876831,
          0.1645909140545531,
          1.275561684738259,
          -0.5512964249982745,
          0.6776207058555057,
          -1.0088839072755986,
          1.2546202290644812,
          -0.4988731232616055,
          1.0171125628881423,
          -0.6730874492229427,
          2.515399088329593,
          0.04827347094723881
         ],
         "yaxis": "y7"
        },
        {
         "line": {
          "color": "rgba(128, 128, 128, 1.0)",
          "dash": "solid",
          "shape": "linear",
          "width": 1.3
         },
         "marker": {
          "size": 2,
          "symbol": "circle"
         },
         "mode": "markers",
         "name": "B",
         "text": "",
         "type": "scatter",
         "x": [
          -0.18404099541891808,
          0.3705020988811112,
          2.4707853777241984,
          -0.6918146703711641,
          -0.8598510055544313,
          -1.158422440878767,
          1.4392467936379234,
          -0.6444906436631372,
          0.07894053798934612,
          -0.14325225219283427,
          -0.7795377265033557,
          1.0287344829474763,
          0.8627307529196024,
          -1.22890078262128,
          -0.47042027405335574,
          -0.23634839918213463,
          -0.4904857493837416,
          -0.7944123856144842,
          0.38778200438058813,
          0.9465708488659833,
          0.07899079642198541,
          -1.2488361957956742,
          0.19068929934729476,
          -1.0759649846092925,
          0.652451644860557,
          0.3015952648458203,
          0.5928935225579912,
          0.16911608311814655,
          -1.7168319905353358,
          -0.9965345005712516,
          -0.799832574687069,
          -0.4985149362343189,
          -0.4428008794462112,
          0.09638485531186627,
          -0.15011085240866567,
          1.226181583794429,
          -0.6037653345291387,
          -2.553832907788901,
          0.41976705316316654,
          0.5751887195240278,
          0.6003093489706015,
          -0.17644904294017671,
          0.6572023046449496,
          -0.016283320319424494,
          0.26465186215612035,
          0.6574045231367414,
          0.47531636844809133,
          1.0615391981185471,
          0.36254004841507625,
          -0.8377924133433795,
          1.9398990124400257,
          0.7769369852373745,
          0.045950154352748886,
          -1.5626638233641632,
          0.31621389478489725,
          -0.7931086826469803,
          -1.7551691001506924,
          1.2294425567019371,
          -0.0561545639195008,
          2.0442495940818506,
          -1.343470161015329,
          -0.8449773666074941,
          0.5666466025668979,
          0.574896431520319,
          -0.6623593912763195,
          -3.072259852988364,
          0.3629716411895115,
          1.0131910891426401,
          -2.3279426569230717,
          0.31783112748115516,
          -1.0288307099732001,
          -3.105096101828258,
          -1.7498390701699789,
          0.8854827761806933,
          0.08118201488294917,
          0.647961662890736,
          1.891230672055887,
          0.7914627879619662,
          1.0700106617800895,
          0.07227639716562591,
          0.6201189505305379,
          -0.5655464421299009,
          0.06228980710049047,
          0.2853002537024566,
          -1.2273085630898832,
          -0.9103824315747909,
          0.6627057071312216,
          0.7732955015308591,
          -1.5466254411465514,
          0.22583614943131844,
          1.6126052875773842,
          -1.4442686899363433,
          1.822522637667904,
          1.823108525324734,
          2.8499618537430065,
          -0.3713081051143311,
          0.10186930241625286,
          0.8109871340449076,
          0.6159795521360518,
          -0.7539276801344859
         ],
         "xaxis": "x8",
         "y": [
          -1.3670490430437636,
          0.161450524235461,
          -0.44217348630356307,
          0.37545077311535113,
          -0.26558456358514304,
          -0.05337396280955743,
          -0.16286499406938992,
          -0.6559063241917041,
          0.2166205230803355,
          0.579264707040054,
          0.6570113302304137,
          1.1128644665473264,
          1.3437370062884728,
          1.2253391743149586,
          0.07243088995730265,
          -0.16291549888248036,
          0.5221703263725861,
          -0.2860873155412922,
          0.23845897129297605,
          0.5383216359023025,
          1.0228260382992838,
          1.4742375561846004,
          -0.4971926005756821,
          -0.3702983491139233,
          1.2811992881765035,
          0.5235806670476302,
          -0.29364591922026506,
          2.0327478724465315,
          -0.8321944982609231,
          -0.10476735233563249,
          -0.26958492730061334,
          -0.20189994105473036,
          1.0847659756245622,
          -1.1944184798293207,
          -1.3230740820458162,
          0.6206316042828937,
          0.10859772366319033,
          -0.6156696325698916,
          0.3984569141979588,
          0.844077249699107,
          1.2519032595789779,
          0.2513651055639649,
          0.2130378339237908,
          0.6490835820095017,
          -0.010798931494050746,
          0.3941767468516104,
          -1.6296040595382955,
          1.813762930471477,
          2.038570665631588,
          0.8554014083836431,
          1.06694928084837,
          0.7266644331179781,
          -0.7312737819318127,
          1.0626543686367567,
          1.5125446201537545,
          0.15539761830497265,
          1.1275135376114895,
          0.3884913736161449,
          1.3342540109209156,
          -0.09870250239733834,
          0.19263865576084857,
          1.6508820619017714,
          -0.6357303957131819,
          -0.21065746732213148,
          1.5794879615866562,
          0.13187081043821755,
          -0.6910448387634717,
          -0.9241359886362889,
          -0.9788028958812267,
          1.6571093770062777,
          0.46710147448499517,
          -0.08167530974313282,
          -0.32795086978837157,
          -0.4864270154260517,
          1.4228982883721621,
          -1.230082525704563,
          -1.8388925715141657,
          0.007416738671856635,
          -0.8495852847344079,
          -0.32060058648100864,
          -0.10872605769317288,
          0.17620829861536996,
          2.817567551757438,
          1.287542016854579,
          -0.678669908194487,
          0.4110746516491658,
          -1.3175798955777698,
          -0.9259953438941361,
          0.6365254724876831,
          0.1645909140545531,
          1.275561684738259,
          -0.5512964249982745,
          0.6776207058555057,
          -1.0088839072755986,
          1.2546202290644812,
          -0.4988731232616055,
          1.0171125628881423,
          -0.6730874492229427,
          2.515399088329593,
          0.04827347094723881
         ],
         "yaxis": "y8"
        },
        {
         "line": {
          "color": "rgba(128, 128, 128, 1.0)",
          "dash": "solid",
          "shape": "linear",
          "width": 1.3
         },
         "marker": {
          "size": 2,
          "symbol": "circle"
         },
         "mode": "markers",
         "name": "C",
         "text": "",
         "type": "scatter",
         "x": [
          -0.5902303025205717,
          -2.2016090086623388,
          0.9688835342587759,
          0.4097477034647505,
          -0.6531516478199042,
          -0.44733786561834193,
          -0.47482840070158566,
          -1.0899258739801267,
          0.018083060890892132,
          0.18640424228172048,
          -1.740262022112669,
          0.07452870131805488,
          -0.9223778158444266,
          -1.9232060232149235,
          0.10735353125742748,
          -1.1850757900063225,
          -0.5497291302848054,
          0.1760346600120734,
          1.0109279491426288,
          -1.8800930869821564,
          0.6818689562292352,
          1.0013136875986148,
          -1.4245497173871668,
          -0.6206539678188364,
          1.7911365866515108,
          0.7238100420108368,
          -0.4204677449441723,
          -2.154777771126477,
          -0.6273457251981394,
          0.1821495912778787,
          -0.06305727171354696,
          -0.3905198512997907,
          0.2528318683594929,
          0.565418190409366,
          0.6450981928783018,
          -0.30807010332343876,
          0.30513862374559486,
          -1.7594021492571972,
          -0.8222574329062964,
          -0.5735086500790288,
          -1.3979738724160686,
          -1.2750186161164196,
          0.6082933112555565,
          -0.6097777886272943,
          0.33734371436621946,
          -0.5417714102437892,
          1.375561863788836,
          2.2056801688936902,
          0.6405306616954853,
          1.4161986423742619,
          -1.0286554899550455,
          -1.4954126636278111,
          1.7433309705860673,
          -0.06255855829844899,
          -1.3254350939260084,
          1.2110743664651629,
          -0.3065195328839513,
          0.728721977199927,
          0.7196156850537774,
          0.17793323956809748,
          -2.1543583642789113,
          0.6110026577153034,
          -0.8926214867297181,
          0.5131829577150304,
          -0.4599291034370993,
          0.5993921592961952,
          -2.5854795386451497,
          -1.5187255713236734,
          -1.5832471980763754,
          -0.8377799538334126,
          -0.8174203926960799,
          -1.0010558563534455,
          -1.529505285845513,
          0.4705944311419757,
          -0.34620452317534356,
          -1.7587041573689515,
          0.9752971676066632,
          1.1613831337131102,
          1.3446457631064839,
          -1.4555509876454251,
          0.4266333975246613,
          -0.4933550509657777,
          -1.0762683955046413,
          -1.1172618918660948,
          -0.8050366057976863,
          -0.8191627336334403,
          2.20208838639601,
          0.8842178450189843,
          2.248450908342995,
          1.263857174507037,
          0.2817469381374268,
          0.8268799558075348,
          0.571564064960558,
          0.19025113238293712,
          -0.5390699541755176,
          1.73433697535019,
          1.2863853747153662,
          0.05423139472195194,
          -1.3151122199680136,
          0.38122217649893086
         ],
         "xaxis": "x9",
         "y": [
          1.0927895381438653,
          0.3869804888555894,
          -0.07820871841748094,
          0.10914875239807878,
          0.44141128246765543,
          0.059709641898243994,
          0.9362562758459936,
          -0.049469222922685165,
          -0.9604645141374815,
          -0.03642247206112177,
          0.4540126975266702,
          0.46661801100664024,
          0.23525896270846847,
          0.8435264824759354,
          1.9123308315530168,
          1.3778178632223428,
          1.427129817536749,
          1.5969456284165555,
          -0.6353716176738434,
          -0.0852301036877315,
          -1.3107077999802108,
          -0.2111203466429529,
          -0.822676110997687,
          -0.6399111406824087,
          0.5784150917630376,
          -2.0730943122234877,
          -0.009738024958068586,
          0.31731126652029606,
          -0.8621507657761383,
          1.360291204984467,
          -1.8087879144579424,
          -1.1129622729554434,
          0.5677532651308002,
          -1.0697605131495675,
          0.31007992996337114,
          -0.15813396722000733,
          -0.24701350019495308,
          -1.0947940608247673,
          0.10314984688247189,
          1.3522471859989258,
          0.8606312443402826,
          -0.4553994887831305,
          -0.027024463446770283,
          -0.602148747068422,
          -1.8617033643320429,
          1.0459214592089945,
          -0.38172865720440924,
          -0.9482660908555265,
          0.8641232502416377,
          -1.7194676900776327,
          -1.1994706634027732,
          0.6713487772149576,
          -2.1346765408392505,
          -0.7181127663392818,
          0.06053680845956763,
          -0.37917654153482355,
          0.0894570996922149,
          -0.05600806767708331,
          0.928892609407208,
          -0.7495940138240937,
          1.2609906474293038,
          -1.0139880360813422,
          -1.3111107150205963,
          -0.9781755940346926,
          -1.1467667465321165,
          0.509671842270591,
          -0.49660618701523934,
          -0.11180452020127217,
          -2.0983295549353365,
          -0.37427308918351176,
          0.3825874831548487,
          -0.46048952482532995,
          -0.7327819745299191,
          0.9313353321457137,
          -1.4710842016607026,
          -1.6229378241379038,
          -1.365938141973644,
          0.6442667748038098,
          1.8008255670720474,
          1.1644094313071818,
          1.0284801366288947,
          -0.9741732106305144,
          0.599971256821181,
          -0.8139126818817689,
          -1.09767394155658,
          0.31749206036862637,
          0.3122101323895381,
          -0.21538581024967854,
          0.7603118663717938,
          -2.231394814777633,
          0.4771245925723608,
          0.3003655425976786,
          -0.42850277917924867,
          -0.3913032486148974,
          -0.1647431926134105,
          -1.507024883903592,
          0.006553607869517606,
          1.9888006179881683,
          0.2126792472612787,
          -1.4987557388322261
         ],
         "yaxis": "y9"
        },
        {
         "line": {
          "color": "rgba(128, 128, 128, 1.0)",
          "dash": "solid",
          "shape": "linear",
          "width": 1.3
         },
         "marker": {
          "size": 2,
          "symbol": "circle"
         },
         "mode": "markers",
         "name": "C",
         "text": "",
         "type": "scatter",
         "x": [
          -1.3670490430437636,
          0.161450524235461,
          -0.44217348630356307,
          0.37545077311535113,
          -0.26558456358514304,
          -0.05337396280955743,
          -0.16286499406938992,
          -0.6559063241917041,
          0.2166205230803355,
          0.579264707040054,
          0.6570113302304137,
          1.1128644665473264,
          1.3437370062884728,
          1.2253391743149586,
          0.07243088995730265,
          -0.16291549888248036,
          0.5221703263725861,
          -0.2860873155412922,
          0.23845897129297605,
          0.5383216359023025,
          1.0228260382992838,
          1.4742375561846004,
          -0.4971926005756821,
          -0.3702983491139233,
          1.2811992881765035,
          0.5235806670476302,
          -0.29364591922026506,
          2.0327478724465315,
          -0.8321944982609231,
          -0.10476735233563249,
          -0.26958492730061334,
          -0.20189994105473036,
          1.0847659756245622,
          -1.1944184798293207,
          -1.3230740820458162,
          0.6206316042828937,
          0.10859772366319033,
          -0.6156696325698916,
          0.3984569141979588,
          0.844077249699107,
          1.2519032595789779,
          0.2513651055639649,
          0.2130378339237908,
          0.6490835820095017,
          -0.010798931494050746,
          0.3941767468516104,
          -1.6296040595382955,
          1.813762930471477,
          2.038570665631588,
          0.8554014083836431,
          1.06694928084837,
          0.7266644331179781,
          -0.7312737819318127,
          1.0626543686367567,
          1.5125446201537545,
          0.15539761830497265,
          1.1275135376114895,
          0.3884913736161449,
          1.3342540109209156,
          -0.09870250239733834,
          0.19263865576084857,
          1.6508820619017714,
          -0.6357303957131819,
          -0.21065746732213148,
          1.5794879615866562,
          0.13187081043821755,
          -0.6910448387634717,
          -0.9241359886362889,
          -0.9788028958812267,
          1.6571093770062777,
          0.46710147448499517,
          -0.08167530974313282,
          -0.32795086978837157,
          -0.4864270154260517,
          1.4228982883721621,
          -1.230082525704563,
          -1.8388925715141657,
          0.007416738671856635,
          -0.8495852847344079,
          -0.32060058648100864,
          -0.10872605769317288,
          0.17620829861536996,
          2.817567551757438,
          1.287542016854579,
          -0.678669908194487,
          0.4110746516491658,
          -1.3175798955777698,
          -0.9259953438941361,
          0.6365254724876831,
          0.1645909140545531,
          1.275561684738259,
          -0.5512964249982745,
          0.6776207058555057,
          -1.0088839072755986,
          1.2546202290644812,
          -0.4988731232616055,
          1.0171125628881423,
          -0.6730874492229427,
          2.515399088329593,
          0.04827347094723881
         ],
         "xaxis": "x10",
         "y": [
          1.0927895381438653,
          0.3869804888555894,
          -0.07820871841748094,
          0.10914875239807878,
          0.44141128246765543,
          0.059709641898243994,
          0.9362562758459936,
          -0.049469222922685165,
          -0.9604645141374815,
          -0.03642247206112177,
          0.4540126975266702,
          0.46661801100664024,
          0.23525896270846847,
          0.8435264824759354,
          1.9123308315530168,
          1.3778178632223428,
          1.427129817536749,
          1.5969456284165555,
          -0.6353716176738434,
          -0.0852301036877315,
          -1.3107077999802108,
          -0.2111203466429529,
          -0.822676110997687,
          -0.6399111406824087,
          0.5784150917630376,
          -2.0730943122234877,
          -0.009738024958068586,
          0.31731126652029606,
          -0.8621507657761383,
          1.360291204984467,
          -1.8087879144579424,
          -1.1129622729554434,
          0.5677532651308002,
          -1.0697605131495675,
          0.31007992996337114,
          -0.15813396722000733,
          -0.24701350019495308,
          -1.0947940608247673,
          0.10314984688247189,
          1.3522471859989258,
          0.8606312443402826,
          -0.4553994887831305,
          -0.027024463446770283,
          -0.602148747068422,
          -1.8617033643320429,
          1.0459214592089945,
          -0.38172865720440924,
          -0.9482660908555265,
          0.8641232502416377,
          -1.7194676900776327,
          -1.1994706634027732,
          0.6713487772149576,
          -2.1346765408392505,
          -0.7181127663392818,
          0.06053680845956763,
          -0.37917654153482355,
          0.0894570996922149,
          -0.05600806767708331,
          0.928892609407208,
          -0.7495940138240937,
          1.2609906474293038,
          -1.0139880360813422,
          -1.3111107150205963,
          -0.9781755940346926,
          -1.1467667465321165,
          0.509671842270591,
          -0.49660618701523934,
          -0.11180452020127217,
          -2.0983295549353365,
          -0.37427308918351176,
          0.3825874831548487,
          -0.46048952482532995,
          -0.7327819745299191,
          0.9313353321457137,
          -1.4710842016607026,
          -1.6229378241379038,
          -1.365938141973644,
          0.6442667748038098,
          1.8008255670720474,
          1.1644094313071818,
          1.0284801366288947,
          -0.9741732106305144,
          0.599971256821181,
          -0.8139126818817689,
          -1.09767394155658,
          0.31749206036862637,
          0.3122101323895381,
          -0.21538581024967854,
          0.7603118663717938,
          -2.231394814777633,
          0.4771245925723608,
          0.3003655425976786,
          -0.42850277917924867,
          -0.3913032486148974,
          -0.1647431926134105,
          -1.507024883903592,
          0.006553607869517606,
          1.9888006179881683,
          0.2126792472612787,
          -1.4987557388322261
         ],
         "yaxis": "y10"
        },
        {
         "histfunc": "count",
         "histnorm": "",
         "marker": {
          "color": "rgba(50, 171, 96, 1.0)",
          "line": {
           "color": "#4D5663",
           "width": 1.3
          }
         },
         "name": "C",
         "nbinsx": 10,
         "opacity": 0.8,
         "orientation": "v",
         "type": "histogram",
         "x": [
          1.0927895381438653,
          0.3869804888555894,
          -0.07820871841748094,
          0.10914875239807878,
          0.44141128246765543,
          0.059709641898243994,
          0.9362562758459936,
          -0.049469222922685165,
          -0.9604645141374815,
          -0.03642247206112177,
          0.4540126975266702,
          0.46661801100664024,
          0.23525896270846847,
          0.8435264824759354,
          1.9123308315530168,
          1.3778178632223428,
          1.427129817536749,
          1.5969456284165555,
          -0.6353716176738434,
          -0.0852301036877315,
          -1.3107077999802108,
          -0.2111203466429529,
          -0.822676110997687,
          -0.6399111406824087,
          0.5784150917630376,
          -2.0730943122234877,
          -0.009738024958068586,
          0.31731126652029606,
          -0.8621507657761383,
          1.360291204984467,
          -1.8087879144579424,
          -1.1129622729554434,
          0.5677532651308002,
          -1.0697605131495675,
          0.31007992996337114,
          -0.15813396722000733,
          -0.24701350019495308,
          -1.0947940608247673,
          0.10314984688247189,
          1.3522471859989258,
          0.8606312443402826,
          -0.4553994887831305,
          -0.027024463446770283,
          -0.602148747068422,
          -1.8617033643320429,
          1.0459214592089945,
          -0.38172865720440924,
          -0.9482660908555265,
          0.8641232502416377,
          -1.7194676900776327,
          -1.1994706634027732,
          0.6713487772149576,
          -2.1346765408392505,
          -0.7181127663392818,
          0.06053680845956763,
          -0.37917654153482355,
          0.0894570996922149,
          -0.05600806767708331,
          0.928892609407208,
          -0.7495940138240937,
          1.2609906474293038,
          -1.0139880360813422,
          -1.3111107150205963,
          -0.9781755940346926,
          -1.1467667465321165,
          0.509671842270591,
          -0.49660618701523934,
          -0.11180452020127217,
          -2.0983295549353365,
          -0.37427308918351176,
          0.3825874831548487,
          -0.46048952482532995,
          -0.7327819745299191,
          0.9313353321457137,
          -1.4710842016607026,
          -1.6229378241379038,
          -1.365938141973644,
          0.6442667748038098,
          1.8008255670720474,
          1.1644094313071818,
          1.0284801366288947,
          -0.9741732106305144,
          0.599971256821181,
          -0.8139126818817689,
          -1.09767394155658,
          0.31749206036862637,
          0.3122101323895381,
          -0.21538581024967854,
          0.7603118663717938,
          -2.231394814777633,
          0.4771245925723608,
          0.3003655425976786,
          -0.42850277917924867,
          -0.3913032486148974,
          -0.1647431926134105,
          -1.507024883903592,
          0.006553607869517606,
          1.9888006179881683,
          0.2126792472612787,
          -1.4987557388322261
         ],
         "xaxis": "x11",
         "yaxis": "y11"
        },
        {
         "line": {
          "color": "rgba(128, 128, 128, 1.0)",
          "dash": "solid",
          "shape": "linear",
          "width": 1.3
         },
         "marker": {
          "size": 2,
          "symbol": "circle"
         },
         "mode": "markers",
         "name": "C",
         "text": "",
         "type": "scatter",
         "x": [
          -0.18404099541891808,
          0.3705020988811112,
          2.4707853777241984,
          -0.6918146703711641,
          -0.8598510055544313,
          -1.158422440878767,
          1.4392467936379234,
          -0.6444906436631372,
          0.07894053798934612,
          -0.14325225219283427,
          -0.7795377265033557,
          1.0287344829474763,
          0.8627307529196024,
          -1.22890078262128,
          -0.47042027405335574,
          -0.23634839918213463,
          -0.4904857493837416,
          -0.7944123856144842,
          0.38778200438058813,
          0.9465708488659833,
          0.07899079642198541,
          -1.2488361957956742,
          0.19068929934729476,
          -1.0759649846092925,
          0.652451644860557,
          0.3015952648458203,
          0.5928935225579912,
          0.16911608311814655,
          -1.7168319905353358,
          -0.9965345005712516,
          -0.799832574687069,
          -0.4985149362343189,
          -0.4428008794462112,
          0.09638485531186627,
          -0.15011085240866567,
          1.226181583794429,
          -0.6037653345291387,
          -2.553832907788901,
          0.41976705316316654,
          0.5751887195240278,
          0.6003093489706015,
          -0.17644904294017671,
          0.6572023046449496,
          -0.016283320319424494,
          0.26465186215612035,
          0.6574045231367414,
          0.47531636844809133,
          1.0615391981185471,
          0.36254004841507625,
          -0.8377924133433795,
          1.9398990124400257,
          0.7769369852373745,
          0.045950154352748886,
          -1.5626638233641632,
          0.31621389478489725,
          -0.7931086826469803,
          -1.7551691001506924,
          1.2294425567019371,
          -0.0561545639195008,
          2.0442495940818506,
          -1.343470161015329,
          -0.8449773666074941,
          0.5666466025668979,
          0.574896431520319,
          -0.6623593912763195,
          -3.072259852988364,
          0.3629716411895115,
          1.0131910891426401,
          -2.3279426569230717,
          0.31783112748115516,
          -1.0288307099732001,
          -3.105096101828258,
          -1.7498390701699789,
          0.8854827761806933,
          0.08118201488294917,
          0.647961662890736,
          1.891230672055887,
          0.7914627879619662,
          1.0700106617800895,
          0.07227639716562591,
          0.6201189505305379,
          -0.5655464421299009,
          0.06228980710049047,
          0.2853002537024566,
          -1.2273085630898832,
          -0.9103824315747909,
          0.6627057071312216,
          0.7732955015308591,
          -1.5466254411465514,
          0.22583614943131844,
          1.6126052875773842,
          -1.4442686899363433,
          1.822522637667904,
          1.823108525324734,
          2.8499618537430065,
          -0.3713081051143311,
          0.10186930241625286,
          0.8109871340449076,
          0.6159795521360518,
          -0.7539276801344859
         ],
         "xaxis": "x12",
         "y": [
          1.0927895381438653,
          0.3869804888555894,
          -0.07820871841748094,
          0.10914875239807878,
          0.44141128246765543,
          0.059709641898243994,
          0.9362562758459936,
          -0.049469222922685165,
          -0.9604645141374815,
          -0.03642247206112177,
          0.4540126975266702,
          0.46661801100664024,
          0.23525896270846847,
          0.8435264824759354,
          1.9123308315530168,
          1.3778178632223428,
          1.427129817536749,
          1.5969456284165555,
          -0.6353716176738434,
          -0.0852301036877315,
          -1.3107077999802108,
          -0.2111203466429529,
          -0.822676110997687,
          -0.6399111406824087,
          0.5784150917630376,
          -2.0730943122234877,
          -0.009738024958068586,
          0.31731126652029606,
          -0.8621507657761383,
          1.360291204984467,
          -1.8087879144579424,
          -1.1129622729554434,
          0.5677532651308002,
          -1.0697605131495675,
          0.31007992996337114,
          -0.15813396722000733,
          -0.24701350019495308,
          -1.0947940608247673,
          0.10314984688247189,
          1.3522471859989258,
          0.8606312443402826,
          -0.4553994887831305,
          -0.027024463446770283,
          -0.602148747068422,
          -1.8617033643320429,
          1.0459214592089945,
          -0.38172865720440924,
          -0.9482660908555265,
          0.8641232502416377,
          -1.7194676900776327,
          -1.1994706634027732,
          0.6713487772149576,
          -2.1346765408392505,
          -0.7181127663392818,
          0.06053680845956763,
          -0.37917654153482355,
          0.0894570996922149,
          -0.05600806767708331,
          0.928892609407208,
          -0.7495940138240937,
          1.2609906474293038,
          -1.0139880360813422,
          -1.3111107150205963,
          -0.9781755940346926,
          -1.1467667465321165,
          0.509671842270591,
          -0.49660618701523934,
          -0.11180452020127217,
          -2.0983295549353365,
          -0.37427308918351176,
          0.3825874831548487,
          -0.46048952482532995,
          -0.7327819745299191,
          0.9313353321457137,
          -1.4710842016607026,
          -1.6229378241379038,
          -1.365938141973644,
          0.6442667748038098,
          1.8008255670720474,
          1.1644094313071818,
          1.0284801366288947,
          -0.9741732106305144,
          0.599971256821181,
          -0.8139126818817689,
          -1.09767394155658,
          0.31749206036862637,
          0.3122101323895381,
          -0.21538581024967854,
          0.7603118663717938,
          -2.231394814777633,
          0.4771245925723608,
          0.3003655425976786,
          -0.42850277917924867,
          -0.3913032486148974,
          -0.1647431926134105,
          -1.507024883903592,
          0.006553607869517606,
          1.9888006179881683,
          0.2126792472612787,
          -1.4987557388322261
         ],
         "yaxis": "y12"
        },
        {
         "line": {
          "color": "rgba(128, 128, 128, 1.0)",
          "dash": "solid",
          "shape": "linear",
          "width": 1.3
         },
         "marker": {
          "size": 2,
          "symbol": "circle"
         },
         "mode": "markers",
         "name": "D",
         "text": "",
         "type": "scatter",
         "x": [
          -0.5902303025205717,
          -2.2016090086623388,
          0.9688835342587759,
          0.4097477034647505,
          -0.6531516478199042,
          -0.44733786561834193,
          -0.47482840070158566,
          -1.0899258739801267,
          0.018083060890892132,
          0.18640424228172048,
          -1.740262022112669,
          0.07452870131805488,
          -0.9223778158444266,
          -1.9232060232149235,
          0.10735353125742748,
          -1.1850757900063225,
          -0.5497291302848054,
          0.1760346600120734,
          1.0109279491426288,
          -1.8800930869821564,
          0.6818689562292352,
          1.0013136875986148,
          -1.4245497173871668,
          -0.6206539678188364,
          1.7911365866515108,
          0.7238100420108368,
          -0.4204677449441723,
          -2.154777771126477,
          -0.6273457251981394,
          0.1821495912778787,
          -0.06305727171354696,
          -0.3905198512997907,
          0.2528318683594929,
          0.565418190409366,
          0.6450981928783018,
          -0.30807010332343876,
          0.30513862374559486,
          -1.7594021492571972,
          -0.8222574329062964,
          -0.5735086500790288,
          -1.3979738724160686,
          -1.2750186161164196,
          0.6082933112555565,
          -0.6097777886272943,
          0.33734371436621946,
          -0.5417714102437892,
          1.375561863788836,
          2.2056801688936902,
          0.6405306616954853,
          1.4161986423742619,
          -1.0286554899550455,
          -1.4954126636278111,
          1.7433309705860673,
          -0.06255855829844899,
          -1.3254350939260084,
          1.2110743664651629,
          -0.3065195328839513,
          0.728721977199927,
          0.7196156850537774,
          0.17793323956809748,
          -2.1543583642789113,
          0.6110026577153034,
          -0.8926214867297181,
          0.5131829577150304,
          -0.4599291034370993,
          0.5993921592961952,
          -2.5854795386451497,
          -1.5187255713236734,
          -1.5832471980763754,
          -0.8377799538334126,
          -0.8174203926960799,
          -1.0010558563534455,
          -1.529505285845513,
          0.4705944311419757,
          -0.34620452317534356,
          -1.7587041573689515,
          0.9752971676066632,
          1.1613831337131102,
          1.3446457631064839,
          -1.4555509876454251,
          0.4266333975246613,
          -0.4933550509657777,
          -1.0762683955046413,
          -1.1172618918660948,
          -0.8050366057976863,
          -0.8191627336334403,
          2.20208838639601,
          0.8842178450189843,
          2.248450908342995,
          1.263857174507037,
          0.2817469381374268,
          0.8268799558075348,
          0.571564064960558,
          0.19025113238293712,
          -0.5390699541755176,
          1.73433697535019,
          1.2863853747153662,
          0.05423139472195194,
          -1.3151122199680136,
          0.38122217649893086
         ],
         "xaxis": "x13",
         "y": [
          -0.18404099541891808,
          0.3705020988811112,
          2.4707853777241984,
          -0.6918146703711641,
          -0.8598510055544313,
          -1.158422440878767,
          1.4392467936379234,
          -0.6444906436631372,
          0.07894053798934612,
          -0.14325225219283427,
          -0.7795377265033557,
          1.0287344829474763,
          0.8627307529196024,
          -1.22890078262128,
          -0.47042027405335574,
          -0.23634839918213463,
          -0.4904857493837416,
          -0.7944123856144842,
          0.38778200438058813,
          0.9465708488659833,
          0.07899079642198541,
          -1.2488361957956742,
          0.19068929934729476,
          -1.0759649846092925,
          0.652451644860557,
          0.3015952648458203,
          0.5928935225579912,
          0.16911608311814655,
          -1.7168319905353358,
          -0.9965345005712516,
          -0.799832574687069,
          -0.4985149362343189,
          -0.4428008794462112,
          0.09638485531186627,
          -0.15011085240866567,
          1.226181583794429,
          -0.6037653345291387,
          -2.553832907788901,
          0.41976705316316654,
          0.5751887195240278,
          0.6003093489706015,
          -0.17644904294017671,
          0.6572023046449496,
          -0.016283320319424494,
          0.26465186215612035,
          0.6574045231367414,
          0.47531636844809133,
          1.0615391981185471,
          0.36254004841507625,
          -0.8377924133433795,
          1.9398990124400257,
          0.7769369852373745,
          0.045950154352748886,
          -1.5626638233641632,
          0.31621389478489725,
          -0.7931086826469803,
          -1.7551691001506924,
          1.2294425567019371,
          -0.0561545639195008,
          2.0442495940818506,
          -1.343470161015329,
          -0.8449773666074941,
          0.5666466025668979,
          0.574896431520319,
          -0.6623593912763195,
          -3.072259852988364,
          0.3629716411895115,
          1.0131910891426401,
          -2.3279426569230717,
          0.31783112748115516,
          -1.0288307099732001,
          -3.105096101828258,
          -1.7498390701699789,
          0.8854827761806933,
          0.08118201488294917,
          0.647961662890736,
          1.891230672055887,
          0.7914627879619662,
          1.0700106617800895,
          0.07227639716562591,
          0.6201189505305379,
          -0.5655464421299009,
          0.06228980710049047,
          0.2853002537024566,
          -1.2273085630898832,
          -0.9103824315747909,
          0.6627057071312216,
          0.7732955015308591,
          -1.5466254411465514,
          0.22583614943131844,
          1.6126052875773842,
          -1.4442686899363433,
          1.822522637667904,
          1.823108525324734,
          2.8499618537430065,
          -0.3713081051143311,
          0.10186930241625286,
          0.8109871340449076,
          0.6159795521360518,
          -0.7539276801344859
         ],
         "yaxis": "y13"
        },
        {
         "line": {
          "color": "rgba(128, 128, 128, 1.0)",
          "dash": "solid",
          "shape": "linear",
          "width": 1.3
         },
         "marker": {
          "size": 2,
          "symbol": "circle"
         },
         "mode": "markers",
         "name": "D",
         "text": "",
         "type": "scatter",
         "x": [
          -1.3670490430437636,
          0.161450524235461,
          -0.44217348630356307,
          0.37545077311535113,
          -0.26558456358514304,
          -0.05337396280955743,
          -0.16286499406938992,
          -0.6559063241917041,
          0.2166205230803355,
          0.579264707040054,
          0.6570113302304137,
          1.1128644665473264,
          1.3437370062884728,
          1.2253391743149586,
          0.07243088995730265,
          -0.16291549888248036,
          0.5221703263725861,
          -0.2860873155412922,
          0.23845897129297605,
          0.5383216359023025,
          1.0228260382992838,
          1.4742375561846004,
          -0.4971926005756821,
          -0.3702983491139233,
          1.2811992881765035,
          0.5235806670476302,
          -0.29364591922026506,
          2.0327478724465315,
          -0.8321944982609231,
          -0.10476735233563249,
          -0.26958492730061334,
          -0.20189994105473036,
          1.0847659756245622,
          -1.1944184798293207,
          -1.3230740820458162,
          0.6206316042828937,
          0.10859772366319033,
          -0.6156696325698916,
          0.3984569141979588,
          0.844077249699107,
          1.2519032595789779,
          0.2513651055639649,
          0.2130378339237908,
          0.6490835820095017,
          -0.010798931494050746,
          0.3941767468516104,
          -1.6296040595382955,
          1.813762930471477,
          2.038570665631588,
          0.8554014083836431,
          1.06694928084837,
          0.7266644331179781,
          -0.7312737819318127,
          1.0626543686367567,
          1.5125446201537545,
          0.15539761830497265,
          1.1275135376114895,
          0.3884913736161449,
          1.3342540109209156,
          -0.09870250239733834,
          0.19263865576084857,
          1.6508820619017714,
          -0.6357303957131819,
          -0.21065746732213148,
          1.5794879615866562,
          0.13187081043821755,
          -0.6910448387634717,
          -0.9241359886362889,
          -0.9788028958812267,
          1.6571093770062777,
          0.46710147448499517,
          -0.08167530974313282,
          -0.32795086978837157,
          -0.4864270154260517,
          1.4228982883721621,
          -1.230082525704563,
          -1.8388925715141657,
          0.007416738671856635,
          -0.8495852847344079,
          -0.32060058648100864,
          -0.10872605769317288,
          0.17620829861536996,
          2.817567551757438,
          1.287542016854579,
          -0.678669908194487,
          0.4110746516491658,
          -1.3175798955777698,
          -0.9259953438941361,
          0.6365254724876831,
          0.1645909140545531,
          1.275561684738259,
          -0.5512964249982745,
          0.6776207058555057,
          -1.0088839072755986,
          1.2546202290644812,
          -0.4988731232616055,
          1.0171125628881423,
          -0.6730874492229427,
          2.515399088329593,
          0.04827347094723881
         ],
         "xaxis": "x14",
         "y": [
          -0.18404099541891808,
          0.3705020988811112,
          2.4707853777241984,
          -0.6918146703711641,
          -0.8598510055544313,
          -1.158422440878767,
          1.4392467936379234,
          -0.6444906436631372,
          0.07894053798934612,
          -0.14325225219283427,
          -0.7795377265033557,
          1.0287344829474763,
          0.8627307529196024,
          -1.22890078262128,
          -0.47042027405335574,
          -0.23634839918213463,
          -0.4904857493837416,
          -0.7944123856144842,
          0.38778200438058813,
          0.9465708488659833,
          0.07899079642198541,
          -1.2488361957956742,
          0.19068929934729476,
          -1.0759649846092925,
          0.652451644860557,
          0.3015952648458203,
          0.5928935225579912,
          0.16911608311814655,
          -1.7168319905353358,
          -0.9965345005712516,
          -0.799832574687069,
          -0.4985149362343189,
          -0.4428008794462112,
          0.09638485531186627,
          -0.15011085240866567,
          1.226181583794429,
          -0.6037653345291387,
          -2.553832907788901,
          0.41976705316316654,
          0.5751887195240278,
          0.6003093489706015,
          -0.17644904294017671,
          0.6572023046449496,
          -0.016283320319424494,
          0.26465186215612035,
          0.6574045231367414,
          0.47531636844809133,
          1.0615391981185471,
          0.36254004841507625,
          -0.8377924133433795,
          1.9398990124400257,
          0.7769369852373745,
          0.045950154352748886,
          -1.5626638233641632,
          0.31621389478489725,
          -0.7931086826469803,
          -1.7551691001506924,
          1.2294425567019371,
          -0.0561545639195008,
          2.0442495940818506,
          -1.343470161015329,
          -0.8449773666074941,
          0.5666466025668979,
          0.574896431520319,
          -0.6623593912763195,
          -3.072259852988364,
          0.3629716411895115,
          1.0131910891426401,
          -2.3279426569230717,
          0.31783112748115516,
          -1.0288307099732001,
          -3.105096101828258,
          -1.7498390701699789,
          0.8854827761806933,
          0.08118201488294917,
          0.647961662890736,
          1.891230672055887,
          0.7914627879619662,
          1.0700106617800895,
          0.07227639716562591,
          0.6201189505305379,
          -0.5655464421299009,
          0.06228980710049047,
          0.2853002537024566,
          -1.2273085630898832,
          -0.9103824315747909,
          0.6627057071312216,
          0.7732955015308591,
          -1.5466254411465514,
          0.22583614943131844,
          1.6126052875773842,
          -1.4442686899363433,
          1.822522637667904,
          1.823108525324734,
          2.8499618537430065,
          -0.3713081051143311,
          0.10186930241625286,
          0.8109871340449076,
          0.6159795521360518,
          -0.7539276801344859
         ],
         "yaxis": "y14"
        },
        {
         "line": {
          "color": "rgba(128, 128, 128, 1.0)",
          "dash": "solid",
          "shape": "linear",
          "width": 1.3
         },
         "marker": {
          "size": 2,
          "symbol": "circle"
         },
         "mode": "markers",
         "name": "D",
         "text": "",
         "type": "scatter",
         "x": [
          1.0927895381438653,
          0.3869804888555894,
          -0.07820871841748094,
          0.10914875239807878,
          0.44141128246765543,
          0.059709641898243994,
          0.9362562758459936,
          -0.049469222922685165,
          -0.9604645141374815,
          -0.03642247206112177,
          0.4540126975266702,
          0.46661801100664024,
          0.23525896270846847,
          0.8435264824759354,
          1.9123308315530168,
          1.3778178632223428,
          1.427129817536749,
          1.5969456284165555,
          -0.6353716176738434,
          -0.0852301036877315,
          -1.3107077999802108,
          -0.2111203466429529,
          -0.822676110997687,
          -0.6399111406824087,
          0.5784150917630376,
          -2.0730943122234877,
          -0.009738024958068586,
          0.31731126652029606,
          -0.8621507657761383,
          1.360291204984467,
          -1.8087879144579424,
          -1.1129622729554434,
          0.5677532651308002,
          -1.0697605131495675,
          0.31007992996337114,
          -0.15813396722000733,
          -0.24701350019495308,
          -1.0947940608247673,
          0.10314984688247189,
          1.3522471859989258,
          0.8606312443402826,
          -0.4553994887831305,
          -0.027024463446770283,
          -0.602148747068422,
          -1.8617033643320429,
          1.0459214592089945,
          -0.38172865720440924,
          -0.9482660908555265,
          0.8641232502416377,
          -1.7194676900776327,
          -1.1994706634027732,
          0.6713487772149576,
          -2.1346765408392505,
          -0.7181127663392818,
          0.06053680845956763,
          -0.37917654153482355,
          0.0894570996922149,
          -0.05600806767708331,
          0.928892609407208,
          -0.7495940138240937,
          1.2609906474293038,
          -1.0139880360813422,
          -1.3111107150205963,
          -0.9781755940346926,
          -1.1467667465321165,
          0.509671842270591,
          -0.49660618701523934,
          -0.11180452020127217,
          -2.0983295549353365,
          -0.37427308918351176,
          0.3825874831548487,
          -0.46048952482532995,
          -0.7327819745299191,
          0.9313353321457137,
          -1.4710842016607026,
          -1.6229378241379038,
          -1.365938141973644,
          0.6442667748038098,
          1.8008255670720474,
          1.1644094313071818,
          1.0284801366288947,
          -0.9741732106305144,
          0.599971256821181,
          -0.8139126818817689,
          -1.09767394155658,
          0.31749206036862637,
          0.3122101323895381,
          -0.21538581024967854,
          0.7603118663717938,
          -2.231394814777633,
          0.4771245925723608,
          0.3003655425976786,
          -0.42850277917924867,
          -0.3913032486148974,
          -0.1647431926134105,
          -1.507024883903592,
          0.006553607869517606,
          1.9888006179881683,
          0.2126792472612787,
          -1.4987557388322261
         ],
         "xaxis": "x15",
         "y": [
          -0.18404099541891808,
          0.3705020988811112,
          2.4707853777241984,
          -0.6918146703711641,
          -0.8598510055544313,
          -1.158422440878767,
          1.4392467936379234,
          -0.6444906436631372,
          0.07894053798934612,
          -0.14325225219283427,
          -0.7795377265033557,
          1.0287344829474763,
          0.8627307529196024,
          -1.22890078262128,
          -0.47042027405335574,
          -0.23634839918213463,
          -0.4904857493837416,
          -0.7944123856144842,
          0.38778200438058813,
          0.9465708488659833,
          0.07899079642198541,
          -1.2488361957956742,
          0.19068929934729476,
          -1.0759649846092925,
          0.652451644860557,
          0.3015952648458203,
          0.5928935225579912,
          0.16911608311814655,
          -1.7168319905353358,
          -0.9965345005712516,
          -0.799832574687069,
          -0.4985149362343189,
          -0.4428008794462112,
          0.09638485531186627,
          -0.15011085240866567,
          1.226181583794429,
          -0.6037653345291387,
          -2.553832907788901,
          0.41976705316316654,
          0.5751887195240278,
          0.6003093489706015,
          -0.17644904294017671,
          0.6572023046449496,
          -0.016283320319424494,
          0.26465186215612035,
          0.6574045231367414,
          0.47531636844809133,
          1.0615391981185471,
          0.36254004841507625,
          -0.8377924133433795,
          1.9398990124400257,
          0.7769369852373745,
          0.045950154352748886,
          -1.5626638233641632,
          0.31621389478489725,
          -0.7931086826469803,
          -1.7551691001506924,
          1.2294425567019371,
          -0.0561545639195008,
          2.0442495940818506,
          -1.343470161015329,
          -0.8449773666074941,
          0.5666466025668979,
          0.574896431520319,
          -0.6623593912763195,
          -3.072259852988364,
          0.3629716411895115,
          1.0131910891426401,
          -2.3279426569230717,
          0.31783112748115516,
          -1.0288307099732001,
          -3.105096101828258,
          -1.7498390701699789,
          0.8854827761806933,
          0.08118201488294917,
          0.647961662890736,
          1.891230672055887,
          0.7914627879619662,
          1.0700106617800895,
          0.07227639716562591,
          0.6201189505305379,
          -0.5655464421299009,
          0.06228980710049047,
          0.2853002537024566,
          -1.2273085630898832,
          -0.9103824315747909,
          0.6627057071312216,
          0.7732955015308591,
          -1.5466254411465514,
          0.22583614943131844,
          1.6126052875773842,
          -1.4442686899363433,
          1.822522637667904,
          1.823108525324734,
          2.8499618537430065,
          -0.3713081051143311,
          0.10186930241625286,
          0.8109871340449076,
          0.6159795521360518,
          -0.7539276801344859
         ],
         "yaxis": "y15"
        },
        {
         "histfunc": "count",
         "histnorm": "",
         "marker": {
          "color": "rgba(128, 0, 128, 1.0)",
          "line": {
           "color": "#4D5663",
           "width": 1.3
          }
         },
         "name": "D",
         "nbinsx": 10,
         "opacity": 0.8,
         "orientation": "v",
         "type": "histogram",
         "x": [
          -0.18404099541891808,
          0.3705020988811112,
          2.4707853777241984,
          -0.6918146703711641,
          -0.8598510055544313,
          -1.158422440878767,
          1.4392467936379234,
          -0.6444906436631372,
          0.07894053798934612,
          -0.14325225219283427,
          -0.7795377265033557,
          1.0287344829474763,
          0.8627307529196024,
          -1.22890078262128,
          -0.47042027405335574,
          -0.23634839918213463,
          -0.4904857493837416,
          -0.7944123856144842,
          0.38778200438058813,
          0.9465708488659833,
          0.07899079642198541,
          -1.2488361957956742,
          0.19068929934729476,
          -1.0759649846092925,
          0.652451644860557,
          0.3015952648458203,
          0.5928935225579912,
          0.16911608311814655,
          -1.7168319905353358,
          -0.9965345005712516,
          -0.799832574687069,
          -0.4985149362343189,
          -0.4428008794462112,
          0.09638485531186627,
          -0.15011085240866567,
          1.226181583794429,
          -0.6037653345291387,
          -2.553832907788901,
          0.41976705316316654,
          0.5751887195240278,
          0.6003093489706015,
          -0.17644904294017671,
          0.6572023046449496,
          -0.016283320319424494,
          0.26465186215612035,
          0.6574045231367414,
          0.47531636844809133,
          1.0615391981185471,
          0.36254004841507625,
          -0.8377924133433795,
          1.9398990124400257,
          0.7769369852373745,
          0.045950154352748886,
          -1.5626638233641632,
          0.31621389478489725,
          -0.7931086826469803,
          -1.7551691001506924,
          1.2294425567019371,
          -0.0561545639195008,
          2.0442495940818506,
          -1.343470161015329,
          -0.8449773666074941,
          0.5666466025668979,
          0.574896431520319,
          -0.6623593912763195,
          -3.072259852988364,
          0.3629716411895115,
          1.0131910891426401,
          -2.3279426569230717,
          0.31783112748115516,
          -1.0288307099732001,
          -3.105096101828258,
          -1.7498390701699789,
          0.8854827761806933,
          0.08118201488294917,
          0.647961662890736,
          1.891230672055887,
          0.7914627879619662,
          1.0700106617800895,
          0.07227639716562591,
          0.6201189505305379,
          -0.5655464421299009,
          0.06228980710049047,
          0.2853002537024566,
          -1.2273085630898832,
          -0.9103824315747909,
          0.6627057071312216,
          0.7732955015308591,
          -1.5466254411465514,
          0.22583614943131844,
          1.6126052875773842,
          -1.4442686899363433,
          1.822522637667904,
          1.823108525324734,
          2.8499618537430065,
          -0.3713081051143311,
          0.10186930241625286,
          0.8109871340449076,
          0.6159795521360518,
          -0.7539276801344859
         ],
         "xaxis": "x16",
         "yaxis": "y16"
        }
       ],
       "layout": {
        "bargap": 0.02,
        "legend": {
         "bgcolor": "#F5F6F9",
         "font": {
          "color": "#4D5663"
         }
        },
        "paper_bgcolor": "#F5F6F9",
        "plot_bgcolor": "#F5F6F9",
        "showlegend": false,
        "template": {
         "data": {
          "bar": [
           {
            "error_x": {
             "color": "#2a3f5f"
            },
            "error_y": {
             "color": "#2a3f5f"
            },
            "marker": {
             "line": {
              "color": "#E5ECF6",
              "width": 0.5
             },
             "pattern": {
              "fillmode": "overlay",
              "size": 10,
              "solidity": 0.2
             }
            },
            "type": "bar"
           }
          ],
          "barpolar": [
           {
            "marker": {
             "line": {
              "color": "#E5ECF6",
              "width": 0.5
             },
             "pattern": {
              "fillmode": "overlay",
              "size": 10,
              "solidity": 0.2
             }
            },
            "type": "barpolar"
           }
          ],
          "carpet": [
           {
            "aaxis": {
             "endlinecolor": "#2a3f5f",
             "gridcolor": "white",
             "linecolor": "white",
             "minorgridcolor": "white",
             "startlinecolor": "#2a3f5f"
            },
            "baxis": {
             "endlinecolor": "#2a3f5f",
             "gridcolor": "white",
             "linecolor": "white",
             "minorgridcolor": "white",
             "startlinecolor": "#2a3f5f"
            },
            "type": "carpet"
           }
          ],
          "choropleth": [
           {
            "colorbar": {
             "outlinewidth": 0,
             "ticks": ""
            },
            "type": "choropleth"
           }
          ],
          "contour": [
           {
            "colorbar": {
             "outlinewidth": 0,
             "ticks": ""
            },
            "colorscale": [
             [
              0,
              "#0d0887"
             ],
             [
              0.1111111111111111,
              "#46039f"
             ],
             [
              0.2222222222222222,
              "#7201a8"
             ],
             [
              0.3333333333333333,
              "#9c179e"
             ],
             [
              0.4444444444444444,
              "#bd3786"
             ],
             [
              0.5555555555555556,
              "#d8576b"
             ],
             [
              0.6666666666666666,
              "#ed7953"
             ],
             [
              0.7777777777777778,
              "#fb9f3a"
             ],
             [
              0.8888888888888888,
              "#fdca26"
             ],
             [
              1,
              "#f0f921"
             ]
            ],
            "type": "contour"
           }
          ],
          "contourcarpet": [
           {
            "colorbar": {
             "outlinewidth": 0,
             "ticks": ""
            },
            "type": "contourcarpet"
           }
          ],
          "heatmap": [
           {
            "colorbar": {
             "outlinewidth": 0,
             "ticks": ""
            },
            "colorscale": [
             [
              0,
              "#0d0887"
             ],
             [
              0.1111111111111111,
              "#46039f"
             ],
             [
              0.2222222222222222,
              "#7201a8"
             ],
             [
              0.3333333333333333,
              "#9c179e"
             ],
             [
              0.4444444444444444,
              "#bd3786"
             ],
             [
              0.5555555555555556,
              "#d8576b"
             ],
             [
              0.6666666666666666,
              "#ed7953"
             ],
             [
              0.7777777777777778,
              "#fb9f3a"
             ],
             [
              0.8888888888888888,
              "#fdca26"
             ],
             [
              1,
              "#f0f921"
             ]
            ],
            "type": "heatmap"
           }
          ],
          "heatmapgl": [
           {
            "colorbar": {
             "outlinewidth": 0,
             "ticks": ""
            },
            "colorscale": [
             [
              0,
              "#0d0887"
             ],
             [
              0.1111111111111111,
              "#46039f"
             ],
             [
              0.2222222222222222,
              "#7201a8"
             ],
             [
              0.3333333333333333,
              "#9c179e"
             ],
             [
              0.4444444444444444,
              "#bd3786"
             ],
             [
              0.5555555555555556,
              "#d8576b"
             ],
             [
              0.6666666666666666,
              "#ed7953"
             ],
             [
              0.7777777777777778,
              "#fb9f3a"
             ],
             [
              0.8888888888888888,
              "#fdca26"
             ],
             [
              1,
              "#f0f921"
             ]
            ],
            "type": "heatmapgl"
           }
          ],
          "histogram": [
           {
            "marker": {
             "pattern": {
              "fillmode": "overlay",
              "size": 10,
              "solidity": 0.2
             }
            },
            "type": "histogram"
           }
          ],
          "histogram2d": [
           {
            "colorbar": {
             "outlinewidth": 0,
             "ticks": ""
            },
            "colorscale": [
             [
              0,
              "#0d0887"
             ],
             [
              0.1111111111111111,
              "#46039f"
             ],
             [
              0.2222222222222222,
              "#7201a8"
             ],
             [
              0.3333333333333333,
              "#9c179e"
             ],
             [
              0.4444444444444444,
              "#bd3786"
             ],
             [
              0.5555555555555556,
              "#d8576b"
             ],
             [
              0.6666666666666666,
              "#ed7953"
             ],
             [
              0.7777777777777778,
              "#fb9f3a"
             ],
             [
              0.8888888888888888,
              "#fdca26"
             ],
             [
              1,
              "#f0f921"
             ]
            ],
            "type": "histogram2d"
           }
          ],
          "histogram2dcontour": [
           {
            "colorbar": {
             "outlinewidth": 0,
             "ticks": ""
            },
            "colorscale": [
             [
              0,
              "#0d0887"
             ],
             [
              0.1111111111111111,
              "#46039f"
             ],
             [
              0.2222222222222222,
              "#7201a8"
             ],
             [
              0.3333333333333333,
              "#9c179e"
             ],
             [
              0.4444444444444444,
              "#bd3786"
             ],
             [
              0.5555555555555556,
              "#d8576b"
             ],
             [
              0.6666666666666666,
              "#ed7953"
             ],
             [
              0.7777777777777778,
              "#fb9f3a"
             ],
             [
              0.8888888888888888,
              "#fdca26"
             ],
             [
              1,
              "#f0f921"
             ]
            ],
            "type": "histogram2dcontour"
           }
          ],
          "mesh3d": [
           {
            "colorbar": {
             "outlinewidth": 0,
             "ticks": ""
            },
            "type": "mesh3d"
           }
          ],
          "parcoords": [
           {
            "line": {
             "colorbar": {
              "outlinewidth": 0,
              "ticks": ""
             }
            },
            "type": "parcoords"
           }
          ],
          "pie": [
           {
            "automargin": true,
            "type": "pie"
           }
          ],
          "scatter": [
           {
            "marker": {
             "colorbar": {
              "outlinewidth": 0,
              "ticks": ""
             }
            },
            "type": "scatter"
           }
          ],
          "scatter3d": [
           {
            "line": {
             "colorbar": {
              "outlinewidth": 0,
              "ticks": ""
             }
            },
            "marker": {
             "colorbar": {
              "outlinewidth": 0,
              "ticks": ""
             }
            },
            "type": "scatter3d"
           }
          ],
          "scattercarpet": [
           {
            "marker": {
             "colorbar": {
              "outlinewidth": 0,
              "ticks": ""
             }
            },
            "type": "scattercarpet"
           }
          ],
          "scattergeo": [
           {
            "marker": {
             "colorbar": {
              "outlinewidth": 0,
              "ticks": ""
             }
            },
            "type": "scattergeo"
           }
          ],
          "scattergl": [
           {
            "marker": {
             "colorbar": {
              "outlinewidth": 0,
              "ticks": ""
             }
            },
            "type": "scattergl"
           }
          ],
          "scattermapbox": [
           {
            "marker": {
             "colorbar": {
              "outlinewidth": 0,
              "ticks": ""
             }
            },
            "type": "scattermapbox"
           }
          ],
          "scatterpolar": [
           {
            "marker": {
             "colorbar": {
              "outlinewidth": 0,
              "ticks": ""
             }
            },
            "type": "scatterpolar"
           }
          ],
          "scatterpolargl": [
           {
            "marker": {
             "colorbar": {
              "outlinewidth": 0,
              "ticks": ""
             }
            },
            "type": "scatterpolargl"
           }
          ],
          "scatterternary": [
           {
            "marker": {
             "colorbar": {
              "outlinewidth": 0,
              "ticks": ""
             }
            },
            "type": "scatterternary"
           }
          ],
          "surface": [
           {
            "colorbar": {
             "outlinewidth": 0,
             "ticks": ""
            },
            "colorscale": [
             [
              0,
              "#0d0887"
             ],
             [
              0.1111111111111111,
              "#46039f"
             ],
             [
              0.2222222222222222,
              "#7201a8"
             ],
             [
              0.3333333333333333,
              "#9c179e"
             ],
             [
              0.4444444444444444,
              "#bd3786"
             ],
             [
              0.5555555555555556,
              "#d8576b"
             ],
             [
              0.6666666666666666,
              "#ed7953"
             ],
             [
              0.7777777777777778,
              "#fb9f3a"
             ],
             [
              0.8888888888888888,
              "#fdca26"
             ],
             [
              1,
              "#f0f921"
             ]
            ],
            "type": "surface"
           }
          ],
          "table": [
           {
            "cells": {
             "fill": {
              "color": "#EBF0F8"
             },
             "line": {
              "color": "white"
             }
            },
            "header": {
             "fill": {
              "color": "#C8D4E3"
             },
             "line": {
              "color": "white"
             }
            },
            "type": "table"
           }
          ]
         },
         "layout": {
          "annotationdefaults": {
           "arrowcolor": "#2a3f5f",
           "arrowhead": 0,
           "arrowwidth": 1
          },
          "autotypenumbers": "strict",
          "coloraxis": {
           "colorbar": {
            "outlinewidth": 0,
            "ticks": ""
           }
          },
          "colorscale": {
           "diverging": [
            [
             0,
             "#8e0152"
            ],
            [
             0.1,
             "#c51b7d"
            ],
            [
             0.2,
             "#de77ae"
            ],
            [
             0.3,
             "#f1b6da"
            ],
            [
             0.4,
             "#fde0ef"
            ],
            [
             0.5,
             "#f7f7f7"
            ],
            [
             0.6,
             "#e6f5d0"
            ],
            [
             0.7,
             "#b8e186"
            ],
            [
             0.8,
             "#7fbc41"
            ],
            [
             0.9,
             "#4d9221"
            ],
            [
             1,
             "#276419"
            ]
           ],
           "sequential": [
            [
             0,
             "#0d0887"
            ],
            [
             0.1111111111111111,
             "#46039f"
            ],
            [
             0.2222222222222222,
             "#7201a8"
            ],
            [
             0.3333333333333333,
             "#9c179e"
            ],
            [
             0.4444444444444444,
             "#bd3786"
            ],
            [
             0.5555555555555556,
             "#d8576b"
            ],
            [
             0.6666666666666666,
             "#ed7953"
            ],
            [
             0.7777777777777778,
             "#fb9f3a"
            ],
            [
             0.8888888888888888,
             "#fdca26"
            ],
            [
             1,
             "#f0f921"
            ]
           ],
           "sequentialminus": [
            [
             0,
             "#0d0887"
            ],
            [
             0.1111111111111111,
             "#46039f"
            ],
            [
             0.2222222222222222,
             "#7201a8"
            ],
            [
             0.3333333333333333,
             "#9c179e"
            ],
            [
             0.4444444444444444,
             "#bd3786"
            ],
            [
             0.5555555555555556,
             "#d8576b"
            ],
            [
             0.6666666666666666,
             "#ed7953"
            ],
            [
             0.7777777777777778,
             "#fb9f3a"
            ],
            [
             0.8888888888888888,
             "#fdca26"
            ],
            [
             1,
             "#f0f921"
            ]
           ]
          },
          "colorway": [
           "#636efa",
           "#EF553B",
           "#00cc96",
           "#ab63fa",
           "#FFA15A",
           "#19d3f3",
           "#FF6692",
           "#B6E880",
           "#FF97FF",
           "#FECB52"
          ],
          "font": {
           "color": "#2a3f5f"
          },
          "geo": {
           "bgcolor": "white",
           "lakecolor": "white",
           "landcolor": "#E5ECF6",
           "showlakes": true,
           "showland": true,
           "subunitcolor": "white"
          },
          "hoverlabel": {
           "align": "left"
          },
          "hovermode": "closest",
          "mapbox": {
           "style": "light"
          },
          "paper_bgcolor": "white",
          "plot_bgcolor": "#E5ECF6",
          "polar": {
           "angularaxis": {
            "gridcolor": "white",
            "linecolor": "white",
            "ticks": ""
           },
           "bgcolor": "#E5ECF6",
           "radialaxis": {
            "gridcolor": "white",
            "linecolor": "white",
            "ticks": ""
           }
          },
          "scene": {
           "xaxis": {
            "backgroundcolor": "#E5ECF6",
            "gridcolor": "white",
            "gridwidth": 2,
            "linecolor": "white",
            "showbackground": true,
            "ticks": "",
            "zerolinecolor": "white"
           },
           "yaxis": {
            "backgroundcolor": "#E5ECF6",
            "gridcolor": "white",
            "gridwidth": 2,
            "linecolor": "white",
            "showbackground": true,
            "ticks": "",
            "zerolinecolor": "white"
           },
           "zaxis": {
            "backgroundcolor": "#E5ECF6",
            "gridcolor": "white",
            "gridwidth": 2,
            "linecolor": "white",
            "showbackground": true,
            "ticks": "",
            "zerolinecolor": "white"
           }
          },
          "shapedefaults": {
           "line": {
            "color": "#2a3f5f"
           }
          },
          "ternary": {
           "aaxis": {
            "gridcolor": "white",
            "linecolor": "white",
            "ticks": ""
           },
           "baxis": {
            "gridcolor": "white",
            "linecolor": "white",
            "ticks": ""
           },
           "bgcolor": "#E5ECF6",
           "caxis": {
            "gridcolor": "white",
            "linecolor": "white",
            "ticks": ""
           }
          },
          "title": {
           "x": 0.05
          },
          "xaxis": {
           "automargin": true,
           "gridcolor": "white",
           "linecolor": "white",
           "ticks": "",
           "title": {
            "standoff": 15
           },
           "zerolinecolor": "white",
           "zerolinewidth": 2
          },
          "yaxis": {
           "automargin": true,
           "gridcolor": "white",
           "linecolor": "white",
           "ticks": "",
           "title": {
            "standoff": 15
           },
           "zerolinecolor": "white",
           "zerolinewidth": 2
          }
         }
        },
        "title": {
         "font": {
          "color": "#4D5663"
         }
        },
        "xaxis": {
         "anchor": "y",
         "domain": [
          0,
          0.2125
         ],
         "gridcolor": "#E1E5ED",
         "showgrid": false,
         "tickfont": {
          "color": "#4D5663"
         },
         "title": {
          "font": {
           "color": "#4D5663"
          },
          "text": ""
         },
         "zerolinecolor": "#E1E5ED"
        },
        "xaxis10": {
         "anchor": "y10",
         "domain": [
          0.2625,
          0.475
         ],
         "gridcolor": "#E1E5ED",
         "showgrid": false,
         "tickfont": {
          "color": "#4D5663"
         },
         "title": {
          "font": {
           "color": "#4D5663"
          },
          "text": ""
         },
         "zerolinecolor": "#E1E5ED"
        },
        "xaxis11": {
         "anchor": "y11",
         "domain": [
          0.525,
          0.7375
         ],
         "gridcolor": "#E1E5ED",
         "showgrid": false,
         "tickfont": {
          "color": "#4D5663"
         },
         "title": {
          "font": {
           "color": "#4D5663"
          },
          "text": ""
         },
         "zerolinecolor": "#E1E5ED"
        },
        "xaxis12": {
         "anchor": "y12",
         "domain": [
          0.7875,
          1
         ],
         "gridcolor": "#E1E5ED",
         "showgrid": false,
         "tickfont": {
          "color": "#4D5663"
         },
         "title": {
          "font": {
           "color": "#4D5663"
          },
          "text": ""
         },
         "zerolinecolor": "#E1E5ED"
        },
        "xaxis13": {
         "anchor": "y13",
         "domain": [
          0,
          0.2125
         ],
         "gridcolor": "#E1E5ED",
         "showgrid": false,
         "tickfont": {
          "color": "#4D5663"
         },
         "title": {
          "font": {
           "color": "#4D5663"
          },
          "text": ""
         },
         "zerolinecolor": "#E1E5ED"
        },
        "xaxis14": {
         "anchor": "y14",
         "domain": [
          0.2625,
          0.475
         ],
         "gridcolor": "#E1E5ED",
         "showgrid": false,
         "tickfont": {
          "color": "#4D5663"
         },
         "title": {
          "font": {
           "color": "#4D5663"
          },
          "text": ""
         },
         "zerolinecolor": "#E1E5ED"
        },
        "xaxis15": {
         "anchor": "y15",
         "domain": [
          0.525,
          0.7375
         ],
         "gridcolor": "#E1E5ED",
         "showgrid": false,
         "tickfont": {
          "color": "#4D5663"
         },
         "title": {
          "font": {
           "color": "#4D5663"
          },
          "text": ""
         },
         "zerolinecolor": "#E1E5ED"
        },
        "xaxis16": {
         "anchor": "y16",
         "domain": [
          0.7875,
          1
         ],
         "gridcolor": "#E1E5ED",
         "showgrid": false,
         "tickfont": {
          "color": "#4D5663"
         },
         "title": {
          "font": {
           "color": "#4D5663"
          },
          "text": ""
         },
         "zerolinecolor": "#E1E5ED"
        },
        "xaxis2": {
         "anchor": "y2",
         "domain": [
          0.2625,
          0.475
         ],
         "gridcolor": "#E1E5ED",
         "showgrid": false,
         "tickfont": {
          "color": "#4D5663"
         },
         "title": {
          "font": {
           "color": "#4D5663"
          },
          "text": ""
         },
         "zerolinecolor": "#E1E5ED"
        },
        "xaxis3": {
         "anchor": "y3",
         "domain": [
          0.525,
          0.7375
         ],
         "gridcolor": "#E1E5ED",
         "showgrid": false,
         "tickfont": {
          "color": "#4D5663"
         },
         "title": {
          "font": {
           "color": "#4D5663"
          },
          "text": ""
         },
         "zerolinecolor": "#E1E5ED"
        },
        "xaxis4": {
         "anchor": "y4",
         "domain": [
          0.7875,
          1
         ],
         "gridcolor": "#E1E5ED",
         "showgrid": false,
         "tickfont": {
          "color": "#4D5663"
         },
         "title": {
          "font": {
           "color": "#4D5663"
          },
          "text": ""
         },
         "zerolinecolor": "#E1E5ED"
        },
        "xaxis5": {
         "anchor": "y5",
         "domain": [
          0,
          0.2125
         ],
         "gridcolor": "#E1E5ED",
         "showgrid": false,
         "tickfont": {
          "color": "#4D5663"
         },
         "title": {
          "font": {
           "color": "#4D5663"
          },
          "text": ""
         },
         "zerolinecolor": "#E1E5ED"
        },
        "xaxis6": {
         "anchor": "y6",
         "domain": [
          0.2625,
          0.475
         ],
         "gridcolor": "#E1E5ED",
         "showgrid": false,
         "tickfont": {
          "color": "#4D5663"
         },
         "title": {
          "font": {
           "color": "#4D5663"
          },
          "text": ""
         },
         "zerolinecolor": "#E1E5ED"
        },
        "xaxis7": {
         "anchor": "y7",
         "domain": [
          0.525,
          0.7375
         ],
         "gridcolor": "#E1E5ED",
         "showgrid": false,
         "tickfont": {
          "color": "#4D5663"
         },
         "title": {
          "font": {
           "color": "#4D5663"
          },
          "text": ""
         },
         "zerolinecolor": "#E1E5ED"
        },
        "xaxis8": {
         "anchor": "y8",
         "domain": [
          0.7875,
          1
         ],
         "gridcolor": "#E1E5ED",
         "showgrid": false,
         "tickfont": {
          "color": "#4D5663"
         },
         "title": {
          "font": {
           "color": "#4D5663"
          },
          "text": ""
         },
         "zerolinecolor": "#E1E5ED"
        },
        "xaxis9": {
         "anchor": "y9",
         "domain": [
          0,
          0.2125
         ],
         "gridcolor": "#E1E5ED",
         "showgrid": false,
         "tickfont": {
          "color": "#4D5663"
         },
         "title": {
          "font": {
           "color": "#4D5663"
          },
          "text": ""
         },
         "zerolinecolor": "#E1E5ED"
        },
        "yaxis": {
         "anchor": "x",
         "domain": [
          0.8025,
          1
         ],
         "gridcolor": "#E1E5ED",
         "showgrid": false,
         "tickfont": {
          "color": "#4D5663"
         },
         "title": {
          "font": {
           "color": "#4D5663"
          },
          "text": ""
         },
         "zerolinecolor": "#E1E5ED"
        },
        "yaxis10": {
         "anchor": "x10",
         "domain": [
          0.2675,
          0.465
         ],
         "gridcolor": "#E1E5ED",
         "showgrid": false,
         "tickfont": {
          "color": "#4D5663"
         },
         "title": {
          "font": {
           "color": "#4D5663"
          },
          "text": ""
         },
         "zerolinecolor": "#E1E5ED"
        },
        "yaxis11": {
         "anchor": "x11",
         "domain": [
          0.2675,
          0.465
         ],
         "gridcolor": "#E1E5ED",
         "showgrid": false,
         "tickfont": {
          "color": "#4D5663"
         },
         "title": {
          "font": {
           "color": "#4D5663"
          },
          "text": ""
         },
         "zerolinecolor": "#E1E5ED"
        },
        "yaxis12": {
         "anchor": "x12",
         "domain": [
          0.2675,
          0.465
         ],
         "gridcolor": "#E1E5ED",
         "showgrid": false,
         "tickfont": {
          "color": "#4D5663"
         },
         "title": {
          "font": {
           "color": "#4D5663"
          },
          "text": ""
         },
         "zerolinecolor": "#E1E5ED"
        },
        "yaxis13": {
         "anchor": "x13",
         "domain": [
          0,
          0.1975
         ],
         "gridcolor": "#E1E5ED",
         "showgrid": false,
         "tickfont": {
          "color": "#4D5663"
         },
         "title": {
          "font": {
           "color": "#4D5663"
          },
          "text": ""
         },
         "zerolinecolor": "#E1E5ED"
        },
        "yaxis14": {
         "anchor": "x14",
         "domain": [
          0,
          0.1975
         ],
         "gridcolor": "#E1E5ED",
         "showgrid": false,
         "tickfont": {
          "color": "#4D5663"
         },
         "title": {
          "font": {
           "color": "#4D5663"
          },
          "text": ""
         },
         "zerolinecolor": "#E1E5ED"
        },
        "yaxis15": {
         "anchor": "x15",
         "domain": [
          0,
          0.1975
         ],
         "gridcolor": "#E1E5ED",
         "showgrid": false,
         "tickfont": {
          "color": "#4D5663"
         },
         "title": {
          "font": {
           "color": "#4D5663"
          },
          "text": ""
         },
         "zerolinecolor": "#E1E5ED"
        },
        "yaxis16": {
         "anchor": "x16",
         "domain": [
          0,
          0.1975
         ],
         "gridcolor": "#E1E5ED",
         "showgrid": false,
         "tickfont": {
          "color": "#4D5663"
         },
         "title": {
          "font": {
           "color": "#4D5663"
          },
          "text": ""
         },
         "zerolinecolor": "#E1E5ED"
        },
        "yaxis2": {
         "anchor": "x2",
         "domain": [
          0.8025,
          1
         ],
         "gridcolor": "#E1E5ED",
         "showgrid": false,
         "tickfont": {
          "color": "#4D5663"
         },
         "title": {
          "font": {
           "color": "#4D5663"
          },
          "text": ""
         },
         "zerolinecolor": "#E1E5ED"
        },
        "yaxis3": {
         "anchor": "x3",
         "domain": [
          0.8025,
          1
         ],
         "gridcolor": "#E1E5ED",
         "showgrid": false,
         "tickfont": {
          "color": "#4D5663"
         },
         "title": {
          "font": {
           "color": "#4D5663"
          },
          "text": ""
         },
         "zerolinecolor": "#E1E5ED"
        },
        "yaxis4": {
         "anchor": "x4",
         "domain": [
          0.8025,
          1
         ],
         "gridcolor": "#E1E5ED",
         "showgrid": false,
         "tickfont": {
          "color": "#4D5663"
         },
         "title": {
          "font": {
           "color": "#4D5663"
          },
          "text": ""
         },
         "zerolinecolor": "#E1E5ED"
        },
        "yaxis5": {
         "anchor": "x5",
         "domain": [
          0.535,
          0.7325
         ],
         "gridcolor": "#E1E5ED",
         "showgrid": false,
         "tickfont": {
          "color": "#4D5663"
         },
         "title": {
          "font": {
           "color": "#4D5663"
          },
          "text": ""
         },
         "zerolinecolor": "#E1E5ED"
        },
        "yaxis6": {
         "anchor": "x6",
         "domain": [
          0.535,
          0.7325
         ],
         "gridcolor": "#E1E5ED",
         "showgrid": false,
         "tickfont": {
          "color": "#4D5663"
         },
         "title": {
          "font": {
           "color": "#4D5663"
          },
          "text": ""
         },
         "zerolinecolor": "#E1E5ED"
        },
        "yaxis7": {
         "anchor": "x7",
         "domain": [
          0.535,
          0.7325
         ],
         "gridcolor": "#E1E5ED",
         "showgrid": false,
         "tickfont": {
          "color": "#4D5663"
         },
         "title": {
          "font": {
           "color": "#4D5663"
          },
          "text": ""
         },
         "zerolinecolor": "#E1E5ED"
        },
        "yaxis8": {
         "anchor": "x8",
         "domain": [
          0.535,
          0.7325
         ],
         "gridcolor": "#E1E5ED",
         "showgrid": false,
         "tickfont": {
          "color": "#4D5663"
         },
         "title": {
          "font": {
           "color": "#4D5663"
          },
          "text": ""
         },
         "zerolinecolor": "#E1E5ED"
        },
        "yaxis9": {
         "anchor": "x9",
         "domain": [
          0.2675,
          0.465
         ],
         "gridcolor": "#E1E5ED",
         "showgrid": false,
         "tickfont": {
          "color": "#4D5663"
         },
         "title": {
          "font": {
           "color": "#4D5663"
          },
          "text": ""
         },
         "zerolinecolor": "#E1E5ED"
        }
       }
      },
      "text/html": [
       "<div>                            <div id=\"fcc1c3db-e3fb-4834-8ddd-65444a517cbd\" class=\"plotly-graph-div\" style=\"height:525px; width:100%;\"></div>            <script type=\"text/javascript\">                require([\"plotly\"], function(Plotly) {                    window.PLOTLYENV=window.PLOTLYENV || {};\n",
       "                    window.PLOTLYENV.BASE_URL='https://plot.ly';                                    if (document.getElementById(\"fcc1c3db-e3fb-4834-8ddd-65444a517cbd\")) {                    Plotly.newPlot(                        \"fcc1c3db-e3fb-4834-8ddd-65444a517cbd\",                        [{\"histfunc\":\"count\",\"histnorm\":\"\",\"marker\":{\"color\":\"rgba(255, 153, 51, 1.0)\",\"line\":{\"color\":\"#4D5663\",\"width\":1.3}},\"name\":\"A\",\"nbinsx\":10,\"opacity\":0.8,\"orientation\":\"v\",\"x\":[-0.5902303025205717,-2.2016090086623388,0.9688835342587759,0.4097477034647505,-0.6531516478199042,-0.44733786561834193,-0.47482840070158566,-1.0899258739801267,0.018083060890892132,0.18640424228172048,-1.740262022112669,0.07452870131805488,-0.9223778158444266,-1.9232060232149235,0.10735353125742748,-1.1850757900063225,-0.5497291302848054,0.1760346600120734,1.0109279491426288,-1.8800930869821564,0.6818689562292352,1.0013136875986148,-1.4245497173871668,-0.6206539678188364,1.7911365866515108,0.7238100420108368,-0.4204677449441723,-2.154777771126477,-0.6273457251981394,0.1821495912778787,-0.06305727171354696,-0.3905198512997907,0.2528318683594929,0.565418190409366,0.6450981928783018,-0.30807010332343876,0.30513862374559486,-1.7594021492571972,-0.8222574329062964,-0.5735086500790288,-1.3979738724160686,-1.2750186161164196,0.6082933112555565,-0.6097777886272943,0.33734371436621946,-0.5417714102437892,1.375561863788836,2.2056801688936902,0.6405306616954853,1.4161986423742619,-1.0286554899550455,-1.4954126636278111,1.7433309705860673,-0.06255855829844899,-1.3254350939260084,1.2110743664651629,-0.3065195328839513,0.728721977199927,0.7196156850537774,0.17793323956809748,-2.1543583642789113,0.6110026577153034,-0.8926214867297181,0.5131829577150304,-0.4599291034370993,0.5993921592961952,-2.5854795386451497,-1.5187255713236734,-1.5832471980763754,-0.8377799538334126,-0.8174203926960799,-1.0010558563534455,-1.529505285845513,0.4705944311419757,-0.34620452317534356,-1.7587041573689515,0.9752971676066632,1.1613831337131102,1.3446457631064839,-1.4555509876454251,0.4266333975246613,-0.4933550509657777,-1.0762683955046413,-1.1172618918660948,-0.8050366057976863,-0.8191627336334403,2.20208838639601,0.8842178450189843,2.248450908342995,1.263857174507037,0.2817469381374268,0.8268799558075348,0.571564064960558,0.19025113238293712,-0.5390699541755176,1.73433697535019,1.2863853747153662,0.05423139472195194,-1.3151122199680136,0.38122217649893086],\"xaxis\":\"x\",\"yaxis\":\"y\",\"type\":\"histogram\"},{\"line\":{\"color\":\"rgba(128, 128, 128, 1.0)\",\"dash\":\"solid\",\"shape\":\"linear\",\"width\":1.3},\"marker\":{\"size\":2,\"symbol\":\"circle\"},\"mode\":\"markers\",\"name\":\"A\",\"text\":\"\",\"x\":[-1.3670490430437636,0.161450524235461,-0.44217348630356307,0.37545077311535113,-0.26558456358514304,-0.05337396280955743,-0.16286499406938992,-0.6559063241917041,0.2166205230803355,0.579264707040054,0.6570113302304137,1.1128644665473264,1.3437370062884728,1.2253391743149586,0.07243088995730265,-0.16291549888248036,0.5221703263725861,-0.2860873155412922,0.23845897129297605,0.5383216359023025,1.0228260382992838,1.4742375561846004,-0.4971926005756821,-0.3702983491139233,1.2811992881765035,0.5235806670476302,-0.29364591922026506,2.0327478724465315,-0.8321944982609231,-0.10476735233563249,-0.26958492730061334,-0.20189994105473036,1.0847659756245622,-1.1944184798293207,-1.3230740820458162,0.6206316042828937,0.10859772366319033,-0.6156696325698916,0.3984569141979588,0.844077249699107,1.2519032595789779,0.2513651055639649,0.2130378339237908,0.6490835820095017,-0.010798931494050746,0.3941767468516104,-1.6296040595382955,1.813762930471477,2.038570665631588,0.8554014083836431,1.06694928084837,0.7266644331179781,-0.7312737819318127,1.0626543686367567,1.5125446201537545,0.15539761830497265,1.1275135376114895,0.3884913736161449,1.3342540109209156,-0.09870250239733834,0.19263865576084857,1.6508820619017714,-0.6357303957131819,-0.21065746732213148,1.5794879615866562,0.13187081043821755,-0.6910448387634717,-0.9241359886362889,-0.9788028958812267,1.6571093770062777,0.46710147448499517,-0.08167530974313282,-0.32795086978837157,-0.4864270154260517,1.4228982883721621,-1.230082525704563,-1.8388925715141657,0.007416738671856635,-0.8495852847344079,-0.32060058648100864,-0.10872605769317288,0.17620829861536996,2.817567551757438,1.287542016854579,-0.678669908194487,0.4110746516491658,-1.3175798955777698,-0.9259953438941361,0.6365254724876831,0.1645909140545531,1.275561684738259,-0.5512964249982745,0.6776207058555057,-1.0088839072755986,1.2546202290644812,-0.4988731232616055,1.0171125628881423,-0.6730874492229427,2.515399088329593,0.04827347094723881],\"xaxis\":\"x2\",\"y\":[-0.5902303025205717,-2.2016090086623388,0.9688835342587759,0.4097477034647505,-0.6531516478199042,-0.44733786561834193,-0.47482840070158566,-1.0899258739801267,0.018083060890892132,0.18640424228172048,-1.740262022112669,0.07452870131805488,-0.9223778158444266,-1.9232060232149235,0.10735353125742748,-1.1850757900063225,-0.5497291302848054,0.1760346600120734,1.0109279491426288,-1.8800930869821564,0.6818689562292352,1.0013136875986148,-1.4245497173871668,-0.6206539678188364,1.7911365866515108,0.7238100420108368,-0.4204677449441723,-2.154777771126477,-0.6273457251981394,0.1821495912778787,-0.06305727171354696,-0.3905198512997907,0.2528318683594929,0.565418190409366,0.6450981928783018,-0.30807010332343876,0.30513862374559486,-1.7594021492571972,-0.8222574329062964,-0.5735086500790288,-1.3979738724160686,-1.2750186161164196,0.6082933112555565,-0.6097777886272943,0.33734371436621946,-0.5417714102437892,1.375561863788836,2.2056801688936902,0.6405306616954853,1.4161986423742619,-1.0286554899550455,-1.4954126636278111,1.7433309705860673,-0.06255855829844899,-1.3254350939260084,1.2110743664651629,-0.3065195328839513,0.728721977199927,0.7196156850537774,0.17793323956809748,-2.1543583642789113,0.6110026577153034,-0.8926214867297181,0.5131829577150304,-0.4599291034370993,0.5993921592961952,-2.5854795386451497,-1.5187255713236734,-1.5832471980763754,-0.8377799538334126,-0.8174203926960799,-1.0010558563534455,-1.529505285845513,0.4705944311419757,-0.34620452317534356,-1.7587041573689515,0.9752971676066632,1.1613831337131102,1.3446457631064839,-1.4555509876454251,0.4266333975246613,-0.4933550509657777,-1.0762683955046413,-1.1172618918660948,-0.8050366057976863,-0.8191627336334403,2.20208838639601,0.8842178450189843,2.248450908342995,1.263857174507037,0.2817469381374268,0.8268799558075348,0.571564064960558,0.19025113238293712,-0.5390699541755176,1.73433697535019,1.2863853747153662,0.05423139472195194,-1.3151122199680136,0.38122217649893086],\"yaxis\":\"y2\",\"type\":\"scatter\"},{\"line\":{\"color\":\"rgba(128, 128, 128, 1.0)\",\"dash\":\"solid\",\"shape\":\"linear\",\"width\":1.3},\"marker\":{\"size\":2,\"symbol\":\"circle\"},\"mode\":\"markers\",\"name\":\"A\",\"text\":\"\",\"x\":[1.0927895381438653,0.3869804888555894,-0.07820871841748094,0.10914875239807878,0.44141128246765543,0.059709641898243994,0.9362562758459936,-0.049469222922685165,-0.9604645141374815,-0.03642247206112177,0.4540126975266702,0.46661801100664024,0.23525896270846847,0.8435264824759354,1.9123308315530168,1.3778178632223428,1.427129817536749,1.5969456284165555,-0.6353716176738434,-0.0852301036877315,-1.3107077999802108,-0.2111203466429529,-0.822676110997687,-0.6399111406824087,0.5784150917630376,-2.0730943122234877,-0.009738024958068586,0.31731126652029606,-0.8621507657761383,1.360291204984467,-1.8087879144579424,-1.1129622729554434,0.5677532651308002,-1.0697605131495675,0.31007992996337114,-0.15813396722000733,-0.24701350019495308,-1.0947940608247673,0.10314984688247189,1.3522471859989258,0.8606312443402826,-0.4553994887831305,-0.027024463446770283,-0.602148747068422,-1.8617033643320429,1.0459214592089945,-0.38172865720440924,-0.9482660908555265,0.8641232502416377,-1.7194676900776327,-1.1994706634027732,0.6713487772149576,-2.1346765408392505,-0.7181127663392818,0.06053680845956763,-0.37917654153482355,0.0894570996922149,-0.05600806767708331,0.928892609407208,-0.7495940138240937,1.2609906474293038,-1.0139880360813422,-1.3111107150205963,-0.9781755940346926,-1.1467667465321165,0.509671842270591,-0.49660618701523934,-0.11180452020127217,-2.0983295549353365,-0.37427308918351176,0.3825874831548487,-0.46048952482532995,-0.7327819745299191,0.9313353321457137,-1.4710842016607026,-1.6229378241379038,-1.365938141973644,0.6442667748038098,1.8008255670720474,1.1644094313071818,1.0284801366288947,-0.9741732106305144,0.599971256821181,-0.8139126818817689,-1.09767394155658,0.31749206036862637,0.3122101323895381,-0.21538581024967854,0.7603118663717938,-2.231394814777633,0.4771245925723608,0.3003655425976786,-0.42850277917924867,-0.3913032486148974,-0.1647431926134105,-1.507024883903592,0.006553607869517606,1.9888006179881683,0.2126792472612787,-1.4987557388322261],\"xaxis\":\"x3\",\"y\":[-0.5902303025205717,-2.2016090086623388,0.9688835342587759,0.4097477034647505,-0.6531516478199042,-0.44733786561834193,-0.47482840070158566,-1.0899258739801267,0.018083060890892132,0.18640424228172048,-1.740262022112669,0.07452870131805488,-0.9223778158444266,-1.9232060232149235,0.10735353125742748,-1.1850757900063225,-0.5497291302848054,0.1760346600120734,1.0109279491426288,-1.8800930869821564,0.6818689562292352,1.0013136875986148,-1.4245497173871668,-0.6206539678188364,1.7911365866515108,0.7238100420108368,-0.4204677449441723,-2.154777771126477,-0.6273457251981394,0.1821495912778787,-0.06305727171354696,-0.3905198512997907,0.2528318683594929,0.565418190409366,0.6450981928783018,-0.30807010332343876,0.30513862374559486,-1.7594021492571972,-0.8222574329062964,-0.5735086500790288,-1.3979738724160686,-1.2750186161164196,0.6082933112555565,-0.6097777886272943,0.33734371436621946,-0.5417714102437892,1.375561863788836,2.2056801688936902,0.6405306616954853,1.4161986423742619,-1.0286554899550455,-1.4954126636278111,1.7433309705860673,-0.06255855829844899,-1.3254350939260084,1.2110743664651629,-0.3065195328839513,0.728721977199927,0.7196156850537774,0.17793323956809748,-2.1543583642789113,0.6110026577153034,-0.8926214867297181,0.5131829577150304,-0.4599291034370993,0.5993921592961952,-2.5854795386451497,-1.5187255713236734,-1.5832471980763754,-0.8377799538334126,-0.8174203926960799,-1.0010558563534455,-1.529505285845513,0.4705944311419757,-0.34620452317534356,-1.7587041573689515,0.9752971676066632,1.1613831337131102,1.3446457631064839,-1.4555509876454251,0.4266333975246613,-0.4933550509657777,-1.0762683955046413,-1.1172618918660948,-0.8050366057976863,-0.8191627336334403,2.20208838639601,0.8842178450189843,2.248450908342995,1.263857174507037,0.2817469381374268,0.8268799558075348,0.571564064960558,0.19025113238293712,-0.5390699541755176,1.73433697535019,1.2863853747153662,0.05423139472195194,-1.3151122199680136,0.38122217649893086],\"yaxis\":\"y3\",\"type\":\"scatter\"},{\"line\":{\"color\":\"rgba(128, 128, 128, 1.0)\",\"dash\":\"solid\",\"shape\":\"linear\",\"width\":1.3},\"marker\":{\"size\":2,\"symbol\":\"circle\"},\"mode\":\"markers\",\"name\":\"A\",\"text\":\"\",\"x\":[-0.18404099541891808,0.3705020988811112,2.4707853777241984,-0.6918146703711641,-0.8598510055544313,-1.158422440878767,1.4392467936379234,-0.6444906436631372,0.07894053798934612,-0.14325225219283427,-0.7795377265033557,1.0287344829474763,0.8627307529196024,-1.22890078262128,-0.47042027405335574,-0.23634839918213463,-0.4904857493837416,-0.7944123856144842,0.38778200438058813,0.9465708488659833,0.07899079642198541,-1.2488361957956742,0.19068929934729476,-1.0759649846092925,0.652451644860557,0.3015952648458203,0.5928935225579912,0.16911608311814655,-1.7168319905353358,-0.9965345005712516,-0.799832574687069,-0.4985149362343189,-0.4428008794462112,0.09638485531186627,-0.15011085240866567,1.226181583794429,-0.6037653345291387,-2.553832907788901,0.41976705316316654,0.5751887195240278,0.6003093489706015,-0.17644904294017671,0.6572023046449496,-0.016283320319424494,0.26465186215612035,0.6574045231367414,0.47531636844809133,1.0615391981185471,0.36254004841507625,-0.8377924133433795,1.9398990124400257,0.7769369852373745,0.045950154352748886,-1.5626638233641632,0.31621389478489725,-0.7931086826469803,-1.7551691001506924,1.2294425567019371,-0.0561545639195008,2.0442495940818506,-1.343470161015329,-0.8449773666074941,0.5666466025668979,0.574896431520319,-0.6623593912763195,-3.072259852988364,0.3629716411895115,1.0131910891426401,-2.3279426569230717,0.31783112748115516,-1.0288307099732001,-3.105096101828258,-1.7498390701699789,0.8854827761806933,0.08118201488294917,0.647961662890736,1.891230672055887,0.7914627879619662,1.0700106617800895,0.07227639716562591,0.6201189505305379,-0.5655464421299009,0.06228980710049047,0.2853002537024566,-1.2273085630898832,-0.9103824315747909,0.6627057071312216,0.7732955015308591,-1.5466254411465514,0.22583614943131844,1.6126052875773842,-1.4442686899363433,1.822522637667904,1.823108525324734,2.8499618537430065,-0.3713081051143311,0.10186930241625286,0.8109871340449076,0.6159795521360518,-0.7539276801344859],\"xaxis\":\"x4\",\"y\":[-0.5902303025205717,-2.2016090086623388,0.9688835342587759,0.4097477034647505,-0.6531516478199042,-0.44733786561834193,-0.47482840070158566,-1.0899258739801267,0.018083060890892132,0.18640424228172048,-1.740262022112669,0.07452870131805488,-0.9223778158444266,-1.9232060232149235,0.10735353125742748,-1.1850757900063225,-0.5497291302848054,0.1760346600120734,1.0109279491426288,-1.8800930869821564,0.6818689562292352,1.0013136875986148,-1.4245497173871668,-0.6206539678188364,1.7911365866515108,0.7238100420108368,-0.4204677449441723,-2.154777771126477,-0.6273457251981394,0.1821495912778787,-0.06305727171354696,-0.3905198512997907,0.2528318683594929,0.565418190409366,0.6450981928783018,-0.30807010332343876,0.30513862374559486,-1.7594021492571972,-0.8222574329062964,-0.5735086500790288,-1.3979738724160686,-1.2750186161164196,0.6082933112555565,-0.6097777886272943,0.33734371436621946,-0.5417714102437892,1.375561863788836,2.2056801688936902,0.6405306616954853,1.4161986423742619,-1.0286554899550455,-1.4954126636278111,1.7433309705860673,-0.06255855829844899,-1.3254350939260084,1.2110743664651629,-0.3065195328839513,0.728721977199927,0.7196156850537774,0.17793323956809748,-2.1543583642789113,0.6110026577153034,-0.8926214867297181,0.5131829577150304,-0.4599291034370993,0.5993921592961952,-2.5854795386451497,-1.5187255713236734,-1.5832471980763754,-0.8377799538334126,-0.8174203926960799,-1.0010558563534455,-1.529505285845513,0.4705944311419757,-0.34620452317534356,-1.7587041573689515,0.9752971676066632,1.1613831337131102,1.3446457631064839,-1.4555509876454251,0.4266333975246613,-0.4933550509657777,-1.0762683955046413,-1.1172618918660948,-0.8050366057976863,-0.8191627336334403,2.20208838639601,0.8842178450189843,2.248450908342995,1.263857174507037,0.2817469381374268,0.8268799558075348,0.571564064960558,0.19025113238293712,-0.5390699541755176,1.73433697535019,1.2863853747153662,0.05423139472195194,-1.3151122199680136,0.38122217649893086],\"yaxis\":\"y4\",\"type\":\"scatter\"},{\"line\":{\"color\":\"rgba(128, 128, 128, 1.0)\",\"dash\":\"solid\",\"shape\":\"linear\",\"width\":1.3},\"marker\":{\"size\":2,\"symbol\":\"circle\"},\"mode\":\"markers\",\"name\":\"B\",\"text\":\"\",\"x\":[-0.5902303025205717,-2.2016090086623388,0.9688835342587759,0.4097477034647505,-0.6531516478199042,-0.44733786561834193,-0.47482840070158566,-1.0899258739801267,0.018083060890892132,0.18640424228172048,-1.740262022112669,0.07452870131805488,-0.9223778158444266,-1.9232060232149235,0.10735353125742748,-1.1850757900063225,-0.5497291302848054,0.1760346600120734,1.0109279491426288,-1.8800930869821564,0.6818689562292352,1.0013136875986148,-1.4245497173871668,-0.6206539678188364,1.7911365866515108,0.7238100420108368,-0.4204677449441723,-2.154777771126477,-0.6273457251981394,0.1821495912778787,-0.06305727171354696,-0.3905198512997907,0.2528318683594929,0.565418190409366,0.6450981928783018,-0.30807010332343876,0.30513862374559486,-1.7594021492571972,-0.8222574329062964,-0.5735086500790288,-1.3979738724160686,-1.2750186161164196,0.6082933112555565,-0.6097777886272943,0.33734371436621946,-0.5417714102437892,1.375561863788836,2.2056801688936902,0.6405306616954853,1.4161986423742619,-1.0286554899550455,-1.4954126636278111,1.7433309705860673,-0.06255855829844899,-1.3254350939260084,1.2110743664651629,-0.3065195328839513,0.728721977199927,0.7196156850537774,0.17793323956809748,-2.1543583642789113,0.6110026577153034,-0.8926214867297181,0.5131829577150304,-0.4599291034370993,0.5993921592961952,-2.5854795386451497,-1.5187255713236734,-1.5832471980763754,-0.8377799538334126,-0.8174203926960799,-1.0010558563534455,-1.529505285845513,0.4705944311419757,-0.34620452317534356,-1.7587041573689515,0.9752971676066632,1.1613831337131102,1.3446457631064839,-1.4555509876454251,0.4266333975246613,-0.4933550509657777,-1.0762683955046413,-1.1172618918660948,-0.8050366057976863,-0.8191627336334403,2.20208838639601,0.8842178450189843,2.248450908342995,1.263857174507037,0.2817469381374268,0.8268799558075348,0.571564064960558,0.19025113238293712,-0.5390699541755176,1.73433697535019,1.2863853747153662,0.05423139472195194,-1.3151122199680136,0.38122217649893086],\"xaxis\":\"x5\",\"y\":[-1.3670490430437636,0.161450524235461,-0.44217348630356307,0.37545077311535113,-0.26558456358514304,-0.05337396280955743,-0.16286499406938992,-0.6559063241917041,0.2166205230803355,0.579264707040054,0.6570113302304137,1.1128644665473264,1.3437370062884728,1.2253391743149586,0.07243088995730265,-0.16291549888248036,0.5221703263725861,-0.2860873155412922,0.23845897129297605,0.5383216359023025,1.0228260382992838,1.4742375561846004,-0.4971926005756821,-0.3702983491139233,1.2811992881765035,0.5235806670476302,-0.29364591922026506,2.0327478724465315,-0.8321944982609231,-0.10476735233563249,-0.26958492730061334,-0.20189994105473036,1.0847659756245622,-1.1944184798293207,-1.3230740820458162,0.6206316042828937,0.10859772366319033,-0.6156696325698916,0.3984569141979588,0.844077249699107,1.2519032595789779,0.2513651055639649,0.2130378339237908,0.6490835820095017,-0.010798931494050746,0.3941767468516104,-1.6296040595382955,1.813762930471477,2.038570665631588,0.8554014083836431,1.06694928084837,0.7266644331179781,-0.7312737819318127,1.0626543686367567,1.5125446201537545,0.15539761830497265,1.1275135376114895,0.3884913736161449,1.3342540109209156,-0.09870250239733834,0.19263865576084857,1.6508820619017714,-0.6357303957131819,-0.21065746732213148,1.5794879615866562,0.13187081043821755,-0.6910448387634717,-0.9241359886362889,-0.9788028958812267,1.6571093770062777,0.46710147448499517,-0.08167530974313282,-0.32795086978837157,-0.4864270154260517,1.4228982883721621,-1.230082525704563,-1.8388925715141657,0.007416738671856635,-0.8495852847344079,-0.32060058648100864,-0.10872605769317288,0.17620829861536996,2.817567551757438,1.287542016854579,-0.678669908194487,0.4110746516491658,-1.3175798955777698,-0.9259953438941361,0.6365254724876831,0.1645909140545531,1.275561684738259,-0.5512964249982745,0.6776207058555057,-1.0088839072755986,1.2546202290644812,-0.4988731232616055,1.0171125628881423,-0.6730874492229427,2.515399088329593,0.04827347094723881],\"yaxis\":\"y5\",\"type\":\"scatter\"},{\"histfunc\":\"count\",\"histnorm\":\"\",\"marker\":{\"color\":\"rgba(55, 128, 191, 1.0)\",\"line\":{\"color\":\"#4D5663\",\"width\":1.3}},\"name\":\"B\",\"nbinsx\":10,\"opacity\":0.8,\"orientation\":\"v\",\"x\":[-1.3670490430437636,0.161450524235461,-0.44217348630356307,0.37545077311535113,-0.26558456358514304,-0.05337396280955743,-0.16286499406938992,-0.6559063241917041,0.2166205230803355,0.579264707040054,0.6570113302304137,1.1128644665473264,1.3437370062884728,1.2253391743149586,0.07243088995730265,-0.16291549888248036,0.5221703263725861,-0.2860873155412922,0.23845897129297605,0.5383216359023025,1.0228260382992838,1.4742375561846004,-0.4971926005756821,-0.3702983491139233,1.2811992881765035,0.5235806670476302,-0.29364591922026506,2.0327478724465315,-0.8321944982609231,-0.10476735233563249,-0.26958492730061334,-0.20189994105473036,1.0847659756245622,-1.1944184798293207,-1.3230740820458162,0.6206316042828937,0.10859772366319033,-0.6156696325698916,0.3984569141979588,0.844077249699107,1.2519032595789779,0.2513651055639649,0.2130378339237908,0.6490835820095017,-0.010798931494050746,0.3941767468516104,-1.6296040595382955,1.813762930471477,2.038570665631588,0.8554014083836431,1.06694928084837,0.7266644331179781,-0.7312737819318127,1.0626543686367567,1.5125446201537545,0.15539761830497265,1.1275135376114895,0.3884913736161449,1.3342540109209156,-0.09870250239733834,0.19263865576084857,1.6508820619017714,-0.6357303957131819,-0.21065746732213148,1.5794879615866562,0.13187081043821755,-0.6910448387634717,-0.9241359886362889,-0.9788028958812267,1.6571093770062777,0.46710147448499517,-0.08167530974313282,-0.32795086978837157,-0.4864270154260517,1.4228982883721621,-1.230082525704563,-1.8388925715141657,0.007416738671856635,-0.8495852847344079,-0.32060058648100864,-0.10872605769317288,0.17620829861536996,2.817567551757438,1.287542016854579,-0.678669908194487,0.4110746516491658,-1.3175798955777698,-0.9259953438941361,0.6365254724876831,0.1645909140545531,1.275561684738259,-0.5512964249982745,0.6776207058555057,-1.0088839072755986,1.2546202290644812,-0.4988731232616055,1.0171125628881423,-0.6730874492229427,2.515399088329593,0.04827347094723881],\"xaxis\":\"x6\",\"yaxis\":\"y6\",\"type\":\"histogram\"},{\"line\":{\"color\":\"rgba(128, 128, 128, 1.0)\",\"dash\":\"solid\",\"shape\":\"linear\",\"width\":1.3},\"marker\":{\"size\":2,\"symbol\":\"circle\"},\"mode\":\"markers\",\"name\":\"B\",\"text\":\"\",\"x\":[1.0927895381438653,0.3869804888555894,-0.07820871841748094,0.10914875239807878,0.44141128246765543,0.059709641898243994,0.9362562758459936,-0.049469222922685165,-0.9604645141374815,-0.03642247206112177,0.4540126975266702,0.46661801100664024,0.23525896270846847,0.8435264824759354,1.9123308315530168,1.3778178632223428,1.427129817536749,1.5969456284165555,-0.6353716176738434,-0.0852301036877315,-1.3107077999802108,-0.2111203466429529,-0.822676110997687,-0.6399111406824087,0.5784150917630376,-2.0730943122234877,-0.009738024958068586,0.31731126652029606,-0.8621507657761383,1.360291204984467,-1.8087879144579424,-1.1129622729554434,0.5677532651308002,-1.0697605131495675,0.31007992996337114,-0.15813396722000733,-0.24701350019495308,-1.0947940608247673,0.10314984688247189,1.3522471859989258,0.8606312443402826,-0.4553994887831305,-0.027024463446770283,-0.602148747068422,-1.8617033643320429,1.0459214592089945,-0.38172865720440924,-0.9482660908555265,0.8641232502416377,-1.7194676900776327,-1.1994706634027732,0.6713487772149576,-2.1346765408392505,-0.7181127663392818,0.06053680845956763,-0.37917654153482355,0.0894570996922149,-0.05600806767708331,0.928892609407208,-0.7495940138240937,1.2609906474293038,-1.0139880360813422,-1.3111107150205963,-0.9781755940346926,-1.1467667465321165,0.509671842270591,-0.49660618701523934,-0.11180452020127217,-2.0983295549353365,-0.37427308918351176,0.3825874831548487,-0.46048952482532995,-0.7327819745299191,0.9313353321457137,-1.4710842016607026,-1.6229378241379038,-1.365938141973644,0.6442667748038098,1.8008255670720474,1.1644094313071818,1.0284801366288947,-0.9741732106305144,0.599971256821181,-0.8139126818817689,-1.09767394155658,0.31749206036862637,0.3122101323895381,-0.21538581024967854,0.7603118663717938,-2.231394814777633,0.4771245925723608,0.3003655425976786,-0.42850277917924867,-0.3913032486148974,-0.1647431926134105,-1.507024883903592,0.006553607869517606,1.9888006179881683,0.2126792472612787,-1.4987557388322261],\"xaxis\":\"x7\",\"y\":[-1.3670490430437636,0.161450524235461,-0.44217348630356307,0.37545077311535113,-0.26558456358514304,-0.05337396280955743,-0.16286499406938992,-0.6559063241917041,0.2166205230803355,0.579264707040054,0.6570113302304137,1.1128644665473264,1.3437370062884728,1.2253391743149586,0.07243088995730265,-0.16291549888248036,0.5221703263725861,-0.2860873155412922,0.23845897129297605,0.5383216359023025,1.0228260382992838,1.4742375561846004,-0.4971926005756821,-0.3702983491139233,1.2811992881765035,0.5235806670476302,-0.29364591922026506,2.0327478724465315,-0.8321944982609231,-0.10476735233563249,-0.26958492730061334,-0.20189994105473036,1.0847659756245622,-1.1944184798293207,-1.3230740820458162,0.6206316042828937,0.10859772366319033,-0.6156696325698916,0.3984569141979588,0.844077249699107,1.2519032595789779,0.2513651055639649,0.2130378339237908,0.6490835820095017,-0.010798931494050746,0.3941767468516104,-1.6296040595382955,1.813762930471477,2.038570665631588,0.8554014083836431,1.06694928084837,0.7266644331179781,-0.7312737819318127,1.0626543686367567,1.5125446201537545,0.15539761830497265,1.1275135376114895,0.3884913736161449,1.3342540109209156,-0.09870250239733834,0.19263865576084857,1.6508820619017714,-0.6357303957131819,-0.21065746732213148,1.5794879615866562,0.13187081043821755,-0.6910448387634717,-0.9241359886362889,-0.9788028958812267,1.6571093770062777,0.46710147448499517,-0.08167530974313282,-0.32795086978837157,-0.4864270154260517,1.4228982883721621,-1.230082525704563,-1.8388925715141657,0.007416738671856635,-0.8495852847344079,-0.32060058648100864,-0.10872605769317288,0.17620829861536996,2.817567551757438,1.287542016854579,-0.678669908194487,0.4110746516491658,-1.3175798955777698,-0.9259953438941361,0.6365254724876831,0.1645909140545531,1.275561684738259,-0.5512964249982745,0.6776207058555057,-1.0088839072755986,1.2546202290644812,-0.4988731232616055,1.0171125628881423,-0.6730874492229427,2.515399088329593,0.04827347094723881],\"yaxis\":\"y7\",\"type\":\"scatter\"},{\"line\":{\"color\":\"rgba(128, 128, 128, 1.0)\",\"dash\":\"solid\",\"shape\":\"linear\",\"width\":1.3},\"marker\":{\"size\":2,\"symbol\":\"circle\"},\"mode\":\"markers\",\"name\":\"B\",\"text\":\"\",\"x\":[-0.18404099541891808,0.3705020988811112,2.4707853777241984,-0.6918146703711641,-0.8598510055544313,-1.158422440878767,1.4392467936379234,-0.6444906436631372,0.07894053798934612,-0.14325225219283427,-0.7795377265033557,1.0287344829474763,0.8627307529196024,-1.22890078262128,-0.47042027405335574,-0.23634839918213463,-0.4904857493837416,-0.7944123856144842,0.38778200438058813,0.9465708488659833,0.07899079642198541,-1.2488361957956742,0.19068929934729476,-1.0759649846092925,0.652451644860557,0.3015952648458203,0.5928935225579912,0.16911608311814655,-1.7168319905353358,-0.9965345005712516,-0.799832574687069,-0.4985149362343189,-0.4428008794462112,0.09638485531186627,-0.15011085240866567,1.226181583794429,-0.6037653345291387,-2.553832907788901,0.41976705316316654,0.5751887195240278,0.6003093489706015,-0.17644904294017671,0.6572023046449496,-0.016283320319424494,0.26465186215612035,0.6574045231367414,0.47531636844809133,1.0615391981185471,0.36254004841507625,-0.8377924133433795,1.9398990124400257,0.7769369852373745,0.045950154352748886,-1.5626638233641632,0.31621389478489725,-0.7931086826469803,-1.7551691001506924,1.2294425567019371,-0.0561545639195008,2.0442495940818506,-1.343470161015329,-0.8449773666074941,0.5666466025668979,0.574896431520319,-0.6623593912763195,-3.072259852988364,0.3629716411895115,1.0131910891426401,-2.3279426569230717,0.31783112748115516,-1.0288307099732001,-3.105096101828258,-1.7498390701699789,0.8854827761806933,0.08118201488294917,0.647961662890736,1.891230672055887,0.7914627879619662,1.0700106617800895,0.07227639716562591,0.6201189505305379,-0.5655464421299009,0.06228980710049047,0.2853002537024566,-1.2273085630898832,-0.9103824315747909,0.6627057071312216,0.7732955015308591,-1.5466254411465514,0.22583614943131844,1.6126052875773842,-1.4442686899363433,1.822522637667904,1.823108525324734,2.8499618537430065,-0.3713081051143311,0.10186930241625286,0.8109871340449076,0.6159795521360518,-0.7539276801344859],\"xaxis\":\"x8\",\"y\":[-1.3670490430437636,0.161450524235461,-0.44217348630356307,0.37545077311535113,-0.26558456358514304,-0.05337396280955743,-0.16286499406938992,-0.6559063241917041,0.2166205230803355,0.579264707040054,0.6570113302304137,1.1128644665473264,1.3437370062884728,1.2253391743149586,0.07243088995730265,-0.16291549888248036,0.5221703263725861,-0.2860873155412922,0.23845897129297605,0.5383216359023025,1.0228260382992838,1.4742375561846004,-0.4971926005756821,-0.3702983491139233,1.2811992881765035,0.5235806670476302,-0.29364591922026506,2.0327478724465315,-0.8321944982609231,-0.10476735233563249,-0.26958492730061334,-0.20189994105473036,1.0847659756245622,-1.1944184798293207,-1.3230740820458162,0.6206316042828937,0.10859772366319033,-0.6156696325698916,0.3984569141979588,0.844077249699107,1.2519032595789779,0.2513651055639649,0.2130378339237908,0.6490835820095017,-0.010798931494050746,0.3941767468516104,-1.6296040595382955,1.813762930471477,2.038570665631588,0.8554014083836431,1.06694928084837,0.7266644331179781,-0.7312737819318127,1.0626543686367567,1.5125446201537545,0.15539761830497265,1.1275135376114895,0.3884913736161449,1.3342540109209156,-0.09870250239733834,0.19263865576084857,1.6508820619017714,-0.6357303957131819,-0.21065746732213148,1.5794879615866562,0.13187081043821755,-0.6910448387634717,-0.9241359886362889,-0.9788028958812267,1.6571093770062777,0.46710147448499517,-0.08167530974313282,-0.32795086978837157,-0.4864270154260517,1.4228982883721621,-1.230082525704563,-1.8388925715141657,0.007416738671856635,-0.8495852847344079,-0.32060058648100864,-0.10872605769317288,0.17620829861536996,2.817567551757438,1.287542016854579,-0.678669908194487,0.4110746516491658,-1.3175798955777698,-0.9259953438941361,0.6365254724876831,0.1645909140545531,1.275561684738259,-0.5512964249982745,0.6776207058555057,-1.0088839072755986,1.2546202290644812,-0.4988731232616055,1.0171125628881423,-0.6730874492229427,2.515399088329593,0.04827347094723881],\"yaxis\":\"y8\",\"type\":\"scatter\"},{\"line\":{\"color\":\"rgba(128, 128, 128, 1.0)\",\"dash\":\"solid\",\"shape\":\"linear\",\"width\":1.3},\"marker\":{\"size\":2,\"symbol\":\"circle\"},\"mode\":\"markers\",\"name\":\"C\",\"text\":\"\",\"x\":[-0.5902303025205717,-2.2016090086623388,0.9688835342587759,0.4097477034647505,-0.6531516478199042,-0.44733786561834193,-0.47482840070158566,-1.0899258739801267,0.018083060890892132,0.18640424228172048,-1.740262022112669,0.07452870131805488,-0.9223778158444266,-1.9232060232149235,0.10735353125742748,-1.1850757900063225,-0.5497291302848054,0.1760346600120734,1.0109279491426288,-1.8800930869821564,0.6818689562292352,1.0013136875986148,-1.4245497173871668,-0.6206539678188364,1.7911365866515108,0.7238100420108368,-0.4204677449441723,-2.154777771126477,-0.6273457251981394,0.1821495912778787,-0.06305727171354696,-0.3905198512997907,0.2528318683594929,0.565418190409366,0.6450981928783018,-0.30807010332343876,0.30513862374559486,-1.7594021492571972,-0.8222574329062964,-0.5735086500790288,-1.3979738724160686,-1.2750186161164196,0.6082933112555565,-0.6097777886272943,0.33734371436621946,-0.5417714102437892,1.375561863788836,2.2056801688936902,0.6405306616954853,1.4161986423742619,-1.0286554899550455,-1.4954126636278111,1.7433309705860673,-0.06255855829844899,-1.3254350939260084,1.2110743664651629,-0.3065195328839513,0.728721977199927,0.7196156850537774,0.17793323956809748,-2.1543583642789113,0.6110026577153034,-0.8926214867297181,0.5131829577150304,-0.4599291034370993,0.5993921592961952,-2.5854795386451497,-1.5187255713236734,-1.5832471980763754,-0.8377799538334126,-0.8174203926960799,-1.0010558563534455,-1.529505285845513,0.4705944311419757,-0.34620452317534356,-1.7587041573689515,0.9752971676066632,1.1613831337131102,1.3446457631064839,-1.4555509876454251,0.4266333975246613,-0.4933550509657777,-1.0762683955046413,-1.1172618918660948,-0.8050366057976863,-0.8191627336334403,2.20208838639601,0.8842178450189843,2.248450908342995,1.263857174507037,0.2817469381374268,0.8268799558075348,0.571564064960558,0.19025113238293712,-0.5390699541755176,1.73433697535019,1.2863853747153662,0.05423139472195194,-1.3151122199680136,0.38122217649893086],\"xaxis\":\"x9\",\"y\":[1.0927895381438653,0.3869804888555894,-0.07820871841748094,0.10914875239807878,0.44141128246765543,0.059709641898243994,0.9362562758459936,-0.049469222922685165,-0.9604645141374815,-0.03642247206112177,0.4540126975266702,0.46661801100664024,0.23525896270846847,0.8435264824759354,1.9123308315530168,1.3778178632223428,1.427129817536749,1.5969456284165555,-0.6353716176738434,-0.0852301036877315,-1.3107077999802108,-0.2111203466429529,-0.822676110997687,-0.6399111406824087,0.5784150917630376,-2.0730943122234877,-0.009738024958068586,0.31731126652029606,-0.8621507657761383,1.360291204984467,-1.8087879144579424,-1.1129622729554434,0.5677532651308002,-1.0697605131495675,0.31007992996337114,-0.15813396722000733,-0.24701350019495308,-1.0947940608247673,0.10314984688247189,1.3522471859989258,0.8606312443402826,-0.4553994887831305,-0.027024463446770283,-0.602148747068422,-1.8617033643320429,1.0459214592089945,-0.38172865720440924,-0.9482660908555265,0.8641232502416377,-1.7194676900776327,-1.1994706634027732,0.6713487772149576,-2.1346765408392505,-0.7181127663392818,0.06053680845956763,-0.37917654153482355,0.0894570996922149,-0.05600806767708331,0.928892609407208,-0.7495940138240937,1.2609906474293038,-1.0139880360813422,-1.3111107150205963,-0.9781755940346926,-1.1467667465321165,0.509671842270591,-0.49660618701523934,-0.11180452020127217,-2.0983295549353365,-0.37427308918351176,0.3825874831548487,-0.46048952482532995,-0.7327819745299191,0.9313353321457137,-1.4710842016607026,-1.6229378241379038,-1.365938141973644,0.6442667748038098,1.8008255670720474,1.1644094313071818,1.0284801366288947,-0.9741732106305144,0.599971256821181,-0.8139126818817689,-1.09767394155658,0.31749206036862637,0.3122101323895381,-0.21538581024967854,0.7603118663717938,-2.231394814777633,0.4771245925723608,0.3003655425976786,-0.42850277917924867,-0.3913032486148974,-0.1647431926134105,-1.507024883903592,0.006553607869517606,1.9888006179881683,0.2126792472612787,-1.4987557388322261],\"yaxis\":\"y9\",\"type\":\"scatter\"},{\"line\":{\"color\":\"rgba(128, 128, 128, 1.0)\",\"dash\":\"solid\",\"shape\":\"linear\",\"width\":1.3},\"marker\":{\"size\":2,\"symbol\":\"circle\"},\"mode\":\"markers\",\"name\":\"C\",\"text\":\"\",\"x\":[-1.3670490430437636,0.161450524235461,-0.44217348630356307,0.37545077311535113,-0.26558456358514304,-0.05337396280955743,-0.16286499406938992,-0.6559063241917041,0.2166205230803355,0.579264707040054,0.6570113302304137,1.1128644665473264,1.3437370062884728,1.2253391743149586,0.07243088995730265,-0.16291549888248036,0.5221703263725861,-0.2860873155412922,0.23845897129297605,0.5383216359023025,1.0228260382992838,1.4742375561846004,-0.4971926005756821,-0.3702983491139233,1.2811992881765035,0.5235806670476302,-0.29364591922026506,2.0327478724465315,-0.8321944982609231,-0.10476735233563249,-0.26958492730061334,-0.20189994105473036,1.0847659756245622,-1.1944184798293207,-1.3230740820458162,0.6206316042828937,0.10859772366319033,-0.6156696325698916,0.3984569141979588,0.844077249699107,1.2519032595789779,0.2513651055639649,0.2130378339237908,0.6490835820095017,-0.010798931494050746,0.3941767468516104,-1.6296040595382955,1.813762930471477,2.038570665631588,0.8554014083836431,1.06694928084837,0.7266644331179781,-0.7312737819318127,1.0626543686367567,1.5125446201537545,0.15539761830497265,1.1275135376114895,0.3884913736161449,1.3342540109209156,-0.09870250239733834,0.19263865576084857,1.6508820619017714,-0.6357303957131819,-0.21065746732213148,1.5794879615866562,0.13187081043821755,-0.6910448387634717,-0.9241359886362889,-0.9788028958812267,1.6571093770062777,0.46710147448499517,-0.08167530974313282,-0.32795086978837157,-0.4864270154260517,1.4228982883721621,-1.230082525704563,-1.8388925715141657,0.007416738671856635,-0.8495852847344079,-0.32060058648100864,-0.10872605769317288,0.17620829861536996,2.817567551757438,1.287542016854579,-0.678669908194487,0.4110746516491658,-1.3175798955777698,-0.9259953438941361,0.6365254724876831,0.1645909140545531,1.275561684738259,-0.5512964249982745,0.6776207058555057,-1.0088839072755986,1.2546202290644812,-0.4988731232616055,1.0171125628881423,-0.6730874492229427,2.515399088329593,0.04827347094723881],\"xaxis\":\"x10\",\"y\":[1.0927895381438653,0.3869804888555894,-0.07820871841748094,0.10914875239807878,0.44141128246765543,0.059709641898243994,0.9362562758459936,-0.049469222922685165,-0.9604645141374815,-0.03642247206112177,0.4540126975266702,0.46661801100664024,0.23525896270846847,0.8435264824759354,1.9123308315530168,1.3778178632223428,1.427129817536749,1.5969456284165555,-0.6353716176738434,-0.0852301036877315,-1.3107077999802108,-0.2111203466429529,-0.822676110997687,-0.6399111406824087,0.5784150917630376,-2.0730943122234877,-0.009738024958068586,0.31731126652029606,-0.8621507657761383,1.360291204984467,-1.8087879144579424,-1.1129622729554434,0.5677532651308002,-1.0697605131495675,0.31007992996337114,-0.15813396722000733,-0.24701350019495308,-1.0947940608247673,0.10314984688247189,1.3522471859989258,0.8606312443402826,-0.4553994887831305,-0.027024463446770283,-0.602148747068422,-1.8617033643320429,1.0459214592089945,-0.38172865720440924,-0.9482660908555265,0.8641232502416377,-1.7194676900776327,-1.1994706634027732,0.6713487772149576,-2.1346765408392505,-0.7181127663392818,0.06053680845956763,-0.37917654153482355,0.0894570996922149,-0.05600806767708331,0.928892609407208,-0.7495940138240937,1.2609906474293038,-1.0139880360813422,-1.3111107150205963,-0.9781755940346926,-1.1467667465321165,0.509671842270591,-0.49660618701523934,-0.11180452020127217,-2.0983295549353365,-0.37427308918351176,0.3825874831548487,-0.46048952482532995,-0.7327819745299191,0.9313353321457137,-1.4710842016607026,-1.6229378241379038,-1.365938141973644,0.6442667748038098,1.8008255670720474,1.1644094313071818,1.0284801366288947,-0.9741732106305144,0.599971256821181,-0.8139126818817689,-1.09767394155658,0.31749206036862637,0.3122101323895381,-0.21538581024967854,0.7603118663717938,-2.231394814777633,0.4771245925723608,0.3003655425976786,-0.42850277917924867,-0.3913032486148974,-0.1647431926134105,-1.507024883903592,0.006553607869517606,1.9888006179881683,0.2126792472612787,-1.4987557388322261],\"yaxis\":\"y10\",\"type\":\"scatter\"},{\"histfunc\":\"count\",\"histnorm\":\"\",\"marker\":{\"color\":\"rgba(50, 171, 96, 1.0)\",\"line\":{\"color\":\"#4D5663\",\"width\":1.3}},\"name\":\"C\",\"nbinsx\":10,\"opacity\":0.8,\"orientation\":\"v\",\"x\":[1.0927895381438653,0.3869804888555894,-0.07820871841748094,0.10914875239807878,0.44141128246765543,0.059709641898243994,0.9362562758459936,-0.049469222922685165,-0.9604645141374815,-0.03642247206112177,0.4540126975266702,0.46661801100664024,0.23525896270846847,0.8435264824759354,1.9123308315530168,1.3778178632223428,1.427129817536749,1.5969456284165555,-0.6353716176738434,-0.0852301036877315,-1.3107077999802108,-0.2111203466429529,-0.822676110997687,-0.6399111406824087,0.5784150917630376,-2.0730943122234877,-0.009738024958068586,0.31731126652029606,-0.8621507657761383,1.360291204984467,-1.8087879144579424,-1.1129622729554434,0.5677532651308002,-1.0697605131495675,0.31007992996337114,-0.15813396722000733,-0.24701350019495308,-1.0947940608247673,0.10314984688247189,1.3522471859989258,0.8606312443402826,-0.4553994887831305,-0.027024463446770283,-0.602148747068422,-1.8617033643320429,1.0459214592089945,-0.38172865720440924,-0.9482660908555265,0.8641232502416377,-1.7194676900776327,-1.1994706634027732,0.6713487772149576,-2.1346765408392505,-0.7181127663392818,0.06053680845956763,-0.37917654153482355,0.0894570996922149,-0.05600806767708331,0.928892609407208,-0.7495940138240937,1.2609906474293038,-1.0139880360813422,-1.3111107150205963,-0.9781755940346926,-1.1467667465321165,0.509671842270591,-0.49660618701523934,-0.11180452020127217,-2.0983295549353365,-0.37427308918351176,0.3825874831548487,-0.46048952482532995,-0.7327819745299191,0.9313353321457137,-1.4710842016607026,-1.6229378241379038,-1.365938141973644,0.6442667748038098,1.8008255670720474,1.1644094313071818,1.0284801366288947,-0.9741732106305144,0.599971256821181,-0.8139126818817689,-1.09767394155658,0.31749206036862637,0.3122101323895381,-0.21538581024967854,0.7603118663717938,-2.231394814777633,0.4771245925723608,0.3003655425976786,-0.42850277917924867,-0.3913032486148974,-0.1647431926134105,-1.507024883903592,0.006553607869517606,1.9888006179881683,0.2126792472612787,-1.4987557388322261],\"xaxis\":\"x11\",\"yaxis\":\"y11\",\"type\":\"histogram\"},{\"line\":{\"color\":\"rgba(128, 128, 128, 1.0)\",\"dash\":\"solid\",\"shape\":\"linear\",\"width\":1.3},\"marker\":{\"size\":2,\"symbol\":\"circle\"},\"mode\":\"markers\",\"name\":\"C\",\"text\":\"\",\"x\":[-0.18404099541891808,0.3705020988811112,2.4707853777241984,-0.6918146703711641,-0.8598510055544313,-1.158422440878767,1.4392467936379234,-0.6444906436631372,0.07894053798934612,-0.14325225219283427,-0.7795377265033557,1.0287344829474763,0.8627307529196024,-1.22890078262128,-0.47042027405335574,-0.23634839918213463,-0.4904857493837416,-0.7944123856144842,0.38778200438058813,0.9465708488659833,0.07899079642198541,-1.2488361957956742,0.19068929934729476,-1.0759649846092925,0.652451644860557,0.3015952648458203,0.5928935225579912,0.16911608311814655,-1.7168319905353358,-0.9965345005712516,-0.799832574687069,-0.4985149362343189,-0.4428008794462112,0.09638485531186627,-0.15011085240866567,1.226181583794429,-0.6037653345291387,-2.553832907788901,0.41976705316316654,0.5751887195240278,0.6003093489706015,-0.17644904294017671,0.6572023046449496,-0.016283320319424494,0.26465186215612035,0.6574045231367414,0.47531636844809133,1.0615391981185471,0.36254004841507625,-0.8377924133433795,1.9398990124400257,0.7769369852373745,0.045950154352748886,-1.5626638233641632,0.31621389478489725,-0.7931086826469803,-1.7551691001506924,1.2294425567019371,-0.0561545639195008,2.0442495940818506,-1.343470161015329,-0.8449773666074941,0.5666466025668979,0.574896431520319,-0.6623593912763195,-3.072259852988364,0.3629716411895115,1.0131910891426401,-2.3279426569230717,0.31783112748115516,-1.0288307099732001,-3.105096101828258,-1.7498390701699789,0.8854827761806933,0.08118201488294917,0.647961662890736,1.891230672055887,0.7914627879619662,1.0700106617800895,0.07227639716562591,0.6201189505305379,-0.5655464421299009,0.06228980710049047,0.2853002537024566,-1.2273085630898832,-0.9103824315747909,0.6627057071312216,0.7732955015308591,-1.5466254411465514,0.22583614943131844,1.6126052875773842,-1.4442686899363433,1.822522637667904,1.823108525324734,2.8499618537430065,-0.3713081051143311,0.10186930241625286,0.8109871340449076,0.6159795521360518,-0.7539276801344859],\"xaxis\":\"x12\",\"y\":[1.0927895381438653,0.3869804888555894,-0.07820871841748094,0.10914875239807878,0.44141128246765543,0.059709641898243994,0.9362562758459936,-0.049469222922685165,-0.9604645141374815,-0.03642247206112177,0.4540126975266702,0.46661801100664024,0.23525896270846847,0.8435264824759354,1.9123308315530168,1.3778178632223428,1.427129817536749,1.5969456284165555,-0.6353716176738434,-0.0852301036877315,-1.3107077999802108,-0.2111203466429529,-0.822676110997687,-0.6399111406824087,0.5784150917630376,-2.0730943122234877,-0.009738024958068586,0.31731126652029606,-0.8621507657761383,1.360291204984467,-1.8087879144579424,-1.1129622729554434,0.5677532651308002,-1.0697605131495675,0.31007992996337114,-0.15813396722000733,-0.24701350019495308,-1.0947940608247673,0.10314984688247189,1.3522471859989258,0.8606312443402826,-0.4553994887831305,-0.027024463446770283,-0.602148747068422,-1.8617033643320429,1.0459214592089945,-0.38172865720440924,-0.9482660908555265,0.8641232502416377,-1.7194676900776327,-1.1994706634027732,0.6713487772149576,-2.1346765408392505,-0.7181127663392818,0.06053680845956763,-0.37917654153482355,0.0894570996922149,-0.05600806767708331,0.928892609407208,-0.7495940138240937,1.2609906474293038,-1.0139880360813422,-1.3111107150205963,-0.9781755940346926,-1.1467667465321165,0.509671842270591,-0.49660618701523934,-0.11180452020127217,-2.0983295549353365,-0.37427308918351176,0.3825874831548487,-0.46048952482532995,-0.7327819745299191,0.9313353321457137,-1.4710842016607026,-1.6229378241379038,-1.365938141973644,0.6442667748038098,1.8008255670720474,1.1644094313071818,1.0284801366288947,-0.9741732106305144,0.599971256821181,-0.8139126818817689,-1.09767394155658,0.31749206036862637,0.3122101323895381,-0.21538581024967854,0.7603118663717938,-2.231394814777633,0.4771245925723608,0.3003655425976786,-0.42850277917924867,-0.3913032486148974,-0.1647431926134105,-1.507024883903592,0.006553607869517606,1.9888006179881683,0.2126792472612787,-1.4987557388322261],\"yaxis\":\"y12\",\"type\":\"scatter\"},{\"line\":{\"color\":\"rgba(128, 128, 128, 1.0)\",\"dash\":\"solid\",\"shape\":\"linear\",\"width\":1.3},\"marker\":{\"size\":2,\"symbol\":\"circle\"},\"mode\":\"markers\",\"name\":\"D\",\"text\":\"\",\"x\":[-0.5902303025205717,-2.2016090086623388,0.9688835342587759,0.4097477034647505,-0.6531516478199042,-0.44733786561834193,-0.47482840070158566,-1.0899258739801267,0.018083060890892132,0.18640424228172048,-1.740262022112669,0.07452870131805488,-0.9223778158444266,-1.9232060232149235,0.10735353125742748,-1.1850757900063225,-0.5497291302848054,0.1760346600120734,1.0109279491426288,-1.8800930869821564,0.6818689562292352,1.0013136875986148,-1.4245497173871668,-0.6206539678188364,1.7911365866515108,0.7238100420108368,-0.4204677449441723,-2.154777771126477,-0.6273457251981394,0.1821495912778787,-0.06305727171354696,-0.3905198512997907,0.2528318683594929,0.565418190409366,0.6450981928783018,-0.30807010332343876,0.30513862374559486,-1.7594021492571972,-0.8222574329062964,-0.5735086500790288,-1.3979738724160686,-1.2750186161164196,0.6082933112555565,-0.6097777886272943,0.33734371436621946,-0.5417714102437892,1.375561863788836,2.2056801688936902,0.6405306616954853,1.4161986423742619,-1.0286554899550455,-1.4954126636278111,1.7433309705860673,-0.06255855829844899,-1.3254350939260084,1.2110743664651629,-0.3065195328839513,0.728721977199927,0.7196156850537774,0.17793323956809748,-2.1543583642789113,0.6110026577153034,-0.8926214867297181,0.5131829577150304,-0.4599291034370993,0.5993921592961952,-2.5854795386451497,-1.5187255713236734,-1.5832471980763754,-0.8377799538334126,-0.8174203926960799,-1.0010558563534455,-1.529505285845513,0.4705944311419757,-0.34620452317534356,-1.7587041573689515,0.9752971676066632,1.1613831337131102,1.3446457631064839,-1.4555509876454251,0.4266333975246613,-0.4933550509657777,-1.0762683955046413,-1.1172618918660948,-0.8050366057976863,-0.8191627336334403,2.20208838639601,0.8842178450189843,2.248450908342995,1.263857174507037,0.2817469381374268,0.8268799558075348,0.571564064960558,0.19025113238293712,-0.5390699541755176,1.73433697535019,1.2863853747153662,0.05423139472195194,-1.3151122199680136,0.38122217649893086],\"xaxis\":\"x13\",\"y\":[-0.18404099541891808,0.3705020988811112,2.4707853777241984,-0.6918146703711641,-0.8598510055544313,-1.158422440878767,1.4392467936379234,-0.6444906436631372,0.07894053798934612,-0.14325225219283427,-0.7795377265033557,1.0287344829474763,0.8627307529196024,-1.22890078262128,-0.47042027405335574,-0.23634839918213463,-0.4904857493837416,-0.7944123856144842,0.38778200438058813,0.9465708488659833,0.07899079642198541,-1.2488361957956742,0.19068929934729476,-1.0759649846092925,0.652451644860557,0.3015952648458203,0.5928935225579912,0.16911608311814655,-1.7168319905353358,-0.9965345005712516,-0.799832574687069,-0.4985149362343189,-0.4428008794462112,0.09638485531186627,-0.15011085240866567,1.226181583794429,-0.6037653345291387,-2.553832907788901,0.41976705316316654,0.5751887195240278,0.6003093489706015,-0.17644904294017671,0.6572023046449496,-0.016283320319424494,0.26465186215612035,0.6574045231367414,0.47531636844809133,1.0615391981185471,0.36254004841507625,-0.8377924133433795,1.9398990124400257,0.7769369852373745,0.045950154352748886,-1.5626638233641632,0.31621389478489725,-0.7931086826469803,-1.7551691001506924,1.2294425567019371,-0.0561545639195008,2.0442495940818506,-1.343470161015329,-0.8449773666074941,0.5666466025668979,0.574896431520319,-0.6623593912763195,-3.072259852988364,0.3629716411895115,1.0131910891426401,-2.3279426569230717,0.31783112748115516,-1.0288307099732001,-3.105096101828258,-1.7498390701699789,0.8854827761806933,0.08118201488294917,0.647961662890736,1.891230672055887,0.7914627879619662,1.0700106617800895,0.07227639716562591,0.6201189505305379,-0.5655464421299009,0.06228980710049047,0.2853002537024566,-1.2273085630898832,-0.9103824315747909,0.6627057071312216,0.7732955015308591,-1.5466254411465514,0.22583614943131844,1.6126052875773842,-1.4442686899363433,1.822522637667904,1.823108525324734,2.8499618537430065,-0.3713081051143311,0.10186930241625286,0.8109871340449076,0.6159795521360518,-0.7539276801344859],\"yaxis\":\"y13\",\"type\":\"scatter\"},{\"line\":{\"color\":\"rgba(128, 128, 128, 1.0)\",\"dash\":\"solid\",\"shape\":\"linear\",\"width\":1.3},\"marker\":{\"size\":2,\"symbol\":\"circle\"},\"mode\":\"markers\",\"name\":\"D\",\"text\":\"\",\"x\":[-1.3670490430437636,0.161450524235461,-0.44217348630356307,0.37545077311535113,-0.26558456358514304,-0.05337396280955743,-0.16286499406938992,-0.6559063241917041,0.2166205230803355,0.579264707040054,0.6570113302304137,1.1128644665473264,1.3437370062884728,1.2253391743149586,0.07243088995730265,-0.16291549888248036,0.5221703263725861,-0.2860873155412922,0.23845897129297605,0.5383216359023025,1.0228260382992838,1.4742375561846004,-0.4971926005756821,-0.3702983491139233,1.2811992881765035,0.5235806670476302,-0.29364591922026506,2.0327478724465315,-0.8321944982609231,-0.10476735233563249,-0.26958492730061334,-0.20189994105473036,1.0847659756245622,-1.1944184798293207,-1.3230740820458162,0.6206316042828937,0.10859772366319033,-0.6156696325698916,0.3984569141979588,0.844077249699107,1.2519032595789779,0.2513651055639649,0.2130378339237908,0.6490835820095017,-0.010798931494050746,0.3941767468516104,-1.6296040595382955,1.813762930471477,2.038570665631588,0.8554014083836431,1.06694928084837,0.7266644331179781,-0.7312737819318127,1.0626543686367567,1.5125446201537545,0.15539761830497265,1.1275135376114895,0.3884913736161449,1.3342540109209156,-0.09870250239733834,0.19263865576084857,1.6508820619017714,-0.6357303957131819,-0.21065746732213148,1.5794879615866562,0.13187081043821755,-0.6910448387634717,-0.9241359886362889,-0.9788028958812267,1.6571093770062777,0.46710147448499517,-0.08167530974313282,-0.32795086978837157,-0.4864270154260517,1.4228982883721621,-1.230082525704563,-1.8388925715141657,0.007416738671856635,-0.8495852847344079,-0.32060058648100864,-0.10872605769317288,0.17620829861536996,2.817567551757438,1.287542016854579,-0.678669908194487,0.4110746516491658,-1.3175798955777698,-0.9259953438941361,0.6365254724876831,0.1645909140545531,1.275561684738259,-0.5512964249982745,0.6776207058555057,-1.0088839072755986,1.2546202290644812,-0.4988731232616055,1.0171125628881423,-0.6730874492229427,2.515399088329593,0.04827347094723881],\"xaxis\":\"x14\",\"y\":[-0.18404099541891808,0.3705020988811112,2.4707853777241984,-0.6918146703711641,-0.8598510055544313,-1.158422440878767,1.4392467936379234,-0.6444906436631372,0.07894053798934612,-0.14325225219283427,-0.7795377265033557,1.0287344829474763,0.8627307529196024,-1.22890078262128,-0.47042027405335574,-0.23634839918213463,-0.4904857493837416,-0.7944123856144842,0.38778200438058813,0.9465708488659833,0.07899079642198541,-1.2488361957956742,0.19068929934729476,-1.0759649846092925,0.652451644860557,0.3015952648458203,0.5928935225579912,0.16911608311814655,-1.7168319905353358,-0.9965345005712516,-0.799832574687069,-0.4985149362343189,-0.4428008794462112,0.09638485531186627,-0.15011085240866567,1.226181583794429,-0.6037653345291387,-2.553832907788901,0.41976705316316654,0.5751887195240278,0.6003093489706015,-0.17644904294017671,0.6572023046449496,-0.016283320319424494,0.26465186215612035,0.6574045231367414,0.47531636844809133,1.0615391981185471,0.36254004841507625,-0.8377924133433795,1.9398990124400257,0.7769369852373745,0.045950154352748886,-1.5626638233641632,0.31621389478489725,-0.7931086826469803,-1.7551691001506924,1.2294425567019371,-0.0561545639195008,2.0442495940818506,-1.343470161015329,-0.8449773666074941,0.5666466025668979,0.574896431520319,-0.6623593912763195,-3.072259852988364,0.3629716411895115,1.0131910891426401,-2.3279426569230717,0.31783112748115516,-1.0288307099732001,-3.105096101828258,-1.7498390701699789,0.8854827761806933,0.08118201488294917,0.647961662890736,1.891230672055887,0.7914627879619662,1.0700106617800895,0.07227639716562591,0.6201189505305379,-0.5655464421299009,0.06228980710049047,0.2853002537024566,-1.2273085630898832,-0.9103824315747909,0.6627057071312216,0.7732955015308591,-1.5466254411465514,0.22583614943131844,1.6126052875773842,-1.4442686899363433,1.822522637667904,1.823108525324734,2.8499618537430065,-0.3713081051143311,0.10186930241625286,0.8109871340449076,0.6159795521360518,-0.7539276801344859],\"yaxis\":\"y14\",\"type\":\"scatter\"},{\"line\":{\"color\":\"rgba(128, 128, 128, 1.0)\",\"dash\":\"solid\",\"shape\":\"linear\",\"width\":1.3},\"marker\":{\"size\":2,\"symbol\":\"circle\"},\"mode\":\"markers\",\"name\":\"D\",\"text\":\"\",\"x\":[1.0927895381438653,0.3869804888555894,-0.07820871841748094,0.10914875239807878,0.44141128246765543,0.059709641898243994,0.9362562758459936,-0.049469222922685165,-0.9604645141374815,-0.03642247206112177,0.4540126975266702,0.46661801100664024,0.23525896270846847,0.8435264824759354,1.9123308315530168,1.3778178632223428,1.427129817536749,1.5969456284165555,-0.6353716176738434,-0.0852301036877315,-1.3107077999802108,-0.2111203466429529,-0.822676110997687,-0.6399111406824087,0.5784150917630376,-2.0730943122234877,-0.009738024958068586,0.31731126652029606,-0.8621507657761383,1.360291204984467,-1.8087879144579424,-1.1129622729554434,0.5677532651308002,-1.0697605131495675,0.31007992996337114,-0.15813396722000733,-0.24701350019495308,-1.0947940608247673,0.10314984688247189,1.3522471859989258,0.8606312443402826,-0.4553994887831305,-0.027024463446770283,-0.602148747068422,-1.8617033643320429,1.0459214592089945,-0.38172865720440924,-0.9482660908555265,0.8641232502416377,-1.7194676900776327,-1.1994706634027732,0.6713487772149576,-2.1346765408392505,-0.7181127663392818,0.06053680845956763,-0.37917654153482355,0.0894570996922149,-0.05600806767708331,0.928892609407208,-0.7495940138240937,1.2609906474293038,-1.0139880360813422,-1.3111107150205963,-0.9781755940346926,-1.1467667465321165,0.509671842270591,-0.49660618701523934,-0.11180452020127217,-2.0983295549353365,-0.37427308918351176,0.3825874831548487,-0.46048952482532995,-0.7327819745299191,0.9313353321457137,-1.4710842016607026,-1.6229378241379038,-1.365938141973644,0.6442667748038098,1.8008255670720474,1.1644094313071818,1.0284801366288947,-0.9741732106305144,0.599971256821181,-0.8139126818817689,-1.09767394155658,0.31749206036862637,0.3122101323895381,-0.21538581024967854,0.7603118663717938,-2.231394814777633,0.4771245925723608,0.3003655425976786,-0.42850277917924867,-0.3913032486148974,-0.1647431926134105,-1.507024883903592,0.006553607869517606,1.9888006179881683,0.2126792472612787,-1.4987557388322261],\"xaxis\":\"x15\",\"y\":[-0.18404099541891808,0.3705020988811112,2.4707853777241984,-0.6918146703711641,-0.8598510055544313,-1.158422440878767,1.4392467936379234,-0.6444906436631372,0.07894053798934612,-0.14325225219283427,-0.7795377265033557,1.0287344829474763,0.8627307529196024,-1.22890078262128,-0.47042027405335574,-0.23634839918213463,-0.4904857493837416,-0.7944123856144842,0.38778200438058813,0.9465708488659833,0.07899079642198541,-1.2488361957956742,0.19068929934729476,-1.0759649846092925,0.652451644860557,0.3015952648458203,0.5928935225579912,0.16911608311814655,-1.7168319905353358,-0.9965345005712516,-0.799832574687069,-0.4985149362343189,-0.4428008794462112,0.09638485531186627,-0.15011085240866567,1.226181583794429,-0.6037653345291387,-2.553832907788901,0.41976705316316654,0.5751887195240278,0.6003093489706015,-0.17644904294017671,0.6572023046449496,-0.016283320319424494,0.26465186215612035,0.6574045231367414,0.47531636844809133,1.0615391981185471,0.36254004841507625,-0.8377924133433795,1.9398990124400257,0.7769369852373745,0.045950154352748886,-1.5626638233641632,0.31621389478489725,-0.7931086826469803,-1.7551691001506924,1.2294425567019371,-0.0561545639195008,2.0442495940818506,-1.343470161015329,-0.8449773666074941,0.5666466025668979,0.574896431520319,-0.6623593912763195,-3.072259852988364,0.3629716411895115,1.0131910891426401,-2.3279426569230717,0.31783112748115516,-1.0288307099732001,-3.105096101828258,-1.7498390701699789,0.8854827761806933,0.08118201488294917,0.647961662890736,1.891230672055887,0.7914627879619662,1.0700106617800895,0.07227639716562591,0.6201189505305379,-0.5655464421299009,0.06228980710049047,0.2853002537024566,-1.2273085630898832,-0.9103824315747909,0.6627057071312216,0.7732955015308591,-1.5466254411465514,0.22583614943131844,1.6126052875773842,-1.4442686899363433,1.822522637667904,1.823108525324734,2.8499618537430065,-0.3713081051143311,0.10186930241625286,0.8109871340449076,0.6159795521360518,-0.7539276801344859],\"yaxis\":\"y15\",\"type\":\"scatter\"},{\"histfunc\":\"count\",\"histnorm\":\"\",\"marker\":{\"color\":\"rgba(128, 0, 128, 1.0)\",\"line\":{\"color\":\"#4D5663\",\"width\":1.3}},\"name\":\"D\",\"nbinsx\":10,\"opacity\":0.8,\"orientation\":\"v\",\"x\":[-0.18404099541891808,0.3705020988811112,2.4707853777241984,-0.6918146703711641,-0.8598510055544313,-1.158422440878767,1.4392467936379234,-0.6444906436631372,0.07894053798934612,-0.14325225219283427,-0.7795377265033557,1.0287344829474763,0.8627307529196024,-1.22890078262128,-0.47042027405335574,-0.23634839918213463,-0.4904857493837416,-0.7944123856144842,0.38778200438058813,0.9465708488659833,0.07899079642198541,-1.2488361957956742,0.19068929934729476,-1.0759649846092925,0.652451644860557,0.3015952648458203,0.5928935225579912,0.16911608311814655,-1.7168319905353358,-0.9965345005712516,-0.799832574687069,-0.4985149362343189,-0.4428008794462112,0.09638485531186627,-0.15011085240866567,1.226181583794429,-0.6037653345291387,-2.553832907788901,0.41976705316316654,0.5751887195240278,0.6003093489706015,-0.17644904294017671,0.6572023046449496,-0.016283320319424494,0.26465186215612035,0.6574045231367414,0.47531636844809133,1.0615391981185471,0.36254004841507625,-0.8377924133433795,1.9398990124400257,0.7769369852373745,0.045950154352748886,-1.5626638233641632,0.31621389478489725,-0.7931086826469803,-1.7551691001506924,1.2294425567019371,-0.0561545639195008,2.0442495940818506,-1.343470161015329,-0.8449773666074941,0.5666466025668979,0.574896431520319,-0.6623593912763195,-3.072259852988364,0.3629716411895115,1.0131910891426401,-2.3279426569230717,0.31783112748115516,-1.0288307099732001,-3.105096101828258,-1.7498390701699789,0.8854827761806933,0.08118201488294917,0.647961662890736,1.891230672055887,0.7914627879619662,1.0700106617800895,0.07227639716562591,0.6201189505305379,-0.5655464421299009,0.06228980710049047,0.2853002537024566,-1.2273085630898832,-0.9103824315747909,0.6627057071312216,0.7732955015308591,-1.5466254411465514,0.22583614943131844,1.6126052875773842,-1.4442686899363433,1.822522637667904,1.823108525324734,2.8499618537430065,-0.3713081051143311,0.10186930241625286,0.8109871340449076,0.6159795521360518,-0.7539276801344859],\"xaxis\":\"x16\",\"yaxis\":\"y16\",\"type\":\"histogram\"}],                        {\"bargap\":0.02,\"legend\":{\"bgcolor\":\"#F5F6F9\",\"font\":{\"color\":\"#4D5663\"}},\"paper_bgcolor\":\"#F5F6F9\",\"plot_bgcolor\":\"#F5F6F9\",\"showlegend\":false,\"template\":{\"data\":{\"barpolar\":[{\"marker\":{\"line\":{\"color\":\"#E5ECF6\",\"width\":0.5},\"pattern\":{\"fillmode\":\"overlay\",\"size\":10,\"solidity\":0.2}},\"type\":\"barpolar\"}],\"bar\":[{\"error_x\":{\"color\":\"#2a3f5f\"},\"error_y\":{\"color\":\"#2a3f5f\"},\"marker\":{\"line\":{\"color\":\"#E5ECF6\",\"width\":0.5},\"pattern\":{\"fillmode\":\"overlay\",\"size\":10,\"solidity\":0.2}},\"type\":\"bar\"}],\"carpet\":[{\"aaxis\":{\"endlinecolor\":\"#2a3f5f\",\"gridcolor\":\"white\",\"linecolor\":\"white\",\"minorgridcolor\":\"white\",\"startlinecolor\":\"#2a3f5f\"},\"baxis\":{\"endlinecolor\":\"#2a3f5f\",\"gridcolor\":\"white\",\"linecolor\":\"white\",\"minorgridcolor\":\"white\",\"startlinecolor\":\"#2a3f5f\"},\"type\":\"carpet\"}],\"choropleth\":[{\"colorbar\":{\"outlinewidth\":0,\"ticks\":\"\"},\"type\":\"choropleth\"}],\"contourcarpet\":[{\"colorbar\":{\"outlinewidth\":0,\"ticks\":\"\"},\"type\":\"contourcarpet\"}],\"contour\":[{\"colorbar\":{\"outlinewidth\":0,\"ticks\":\"\"},\"colorscale\":[[0.0,\"#0d0887\"],[0.1111111111111111,\"#46039f\"],[0.2222222222222222,\"#7201a8\"],[0.3333333333333333,\"#9c179e\"],[0.4444444444444444,\"#bd3786\"],[0.5555555555555556,\"#d8576b\"],[0.6666666666666666,\"#ed7953\"],[0.7777777777777778,\"#fb9f3a\"],[0.8888888888888888,\"#fdca26\"],[1.0,\"#f0f921\"]],\"type\":\"contour\"}],\"heatmapgl\":[{\"colorbar\":{\"outlinewidth\":0,\"ticks\":\"\"},\"colorscale\":[[0.0,\"#0d0887\"],[0.1111111111111111,\"#46039f\"],[0.2222222222222222,\"#7201a8\"],[0.3333333333333333,\"#9c179e\"],[0.4444444444444444,\"#bd3786\"],[0.5555555555555556,\"#d8576b\"],[0.6666666666666666,\"#ed7953\"],[0.7777777777777778,\"#fb9f3a\"],[0.8888888888888888,\"#fdca26\"],[1.0,\"#f0f921\"]],\"type\":\"heatmapgl\"}],\"heatmap\":[{\"colorbar\":{\"outlinewidth\":0,\"ticks\":\"\"},\"colorscale\":[[0.0,\"#0d0887\"],[0.1111111111111111,\"#46039f\"],[0.2222222222222222,\"#7201a8\"],[0.3333333333333333,\"#9c179e\"],[0.4444444444444444,\"#bd3786\"],[0.5555555555555556,\"#d8576b\"],[0.6666666666666666,\"#ed7953\"],[0.7777777777777778,\"#fb9f3a\"],[0.8888888888888888,\"#fdca26\"],[1.0,\"#f0f921\"]],\"type\":\"heatmap\"}],\"histogram2dcontour\":[{\"colorbar\":{\"outlinewidth\":0,\"ticks\":\"\"},\"colorscale\":[[0.0,\"#0d0887\"],[0.1111111111111111,\"#46039f\"],[0.2222222222222222,\"#7201a8\"],[0.3333333333333333,\"#9c179e\"],[0.4444444444444444,\"#bd3786\"],[0.5555555555555556,\"#d8576b\"],[0.6666666666666666,\"#ed7953\"],[0.7777777777777778,\"#fb9f3a\"],[0.8888888888888888,\"#fdca26\"],[1.0,\"#f0f921\"]],\"type\":\"histogram2dcontour\"}],\"histogram2d\":[{\"colorbar\":{\"outlinewidth\":0,\"ticks\":\"\"},\"colorscale\":[[0.0,\"#0d0887\"],[0.1111111111111111,\"#46039f\"],[0.2222222222222222,\"#7201a8\"],[0.3333333333333333,\"#9c179e\"],[0.4444444444444444,\"#bd3786\"],[0.5555555555555556,\"#d8576b\"],[0.6666666666666666,\"#ed7953\"],[0.7777777777777778,\"#fb9f3a\"],[0.8888888888888888,\"#fdca26\"],[1.0,\"#f0f921\"]],\"type\":\"histogram2d\"}],\"histogram\":[{\"marker\":{\"pattern\":{\"fillmode\":\"overlay\",\"size\":10,\"solidity\":0.2}},\"type\":\"histogram\"}],\"mesh3d\":[{\"colorbar\":{\"outlinewidth\":0,\"ticks\":\"\"},\"type\":\"mesh3d\"}],\"parcoords\":[{\"line\":{\"colorbar\":{\"outlinewidth\":0,\"ticks\":\"\"}},\"type\":\"parcoords\"}],\"pie\":[{\"automargin\":true,\"type\":\"pie\"}],\"scatter3d\":[{\"line\":{\"colorbar\":{\"outlinewidth\":0,\"ticks\":\"\"}},\"marker\":{\"colorbar\":{\"outlinewidth\":0,\"ticks\":\"\"}},\"type\":\"scatter3d\"}],\"scattercarpet\":[{\"marker\":{\"colorbar\":{\"outlinewidth\":0,\"ticks\":\"\"}},\"type\":\"scattercarpet\"}],\"scattergeo\":[{\"marker\":{\"colorbar\":{\"outlinewidth\":0,\"ticks\":\"\"}},\"type\":\"scattergeo\"}],\"scattergl\":[{\"marker\":{\"colorbar\":{\"outlinewidth\":0,\"ticks\":\"\"}},\"type\":\"scattergl\"}],\"scattermapbox\":[{\"marker\":{\"colorbar\":{\"outlinewidth\":0,\"ticks\":\"\"}},\"type\":\"scattermapbox\"}],\"scatterpolargl\":[{\"marker\":{\"colorbar\":{\"outlinewidth\":0,\"ticks\":\"\"}},\"type\":\"scatterpolargl\"}],\"scatterpolar\":[{\"marker\":{\"colorbar\":{\"outlinewidth\":0,\"ticks\":\"\"}},\"type\":\"scatterpolar\"}],\"scatter\":[{\"marker\":{\"colorbar\":{\"outlinewidth\":0,\"ticks\":\"\"}},\"type\":\"scatter\"}],\"scatterternary\":[{\"marker\":{\"colorbar\":{\"outlinewidth\":0,\"ticks\":\"\"}},\"type\":\"scatterternary\"}],\"surface\":[{\"colorbar\":{\"outlinewidth\":0,\"ticks\":\"\"},\"colorscale\":[[0.0,\"#0d0887\"],[0.1111111111111111,\"#46039f\"],[0.2222222222222222,\"#7201a8\"],[0.3333333333333333,\"#9c179e\"],[0.4444444444444444,\"#bd3786\"],[0.5555555555555556,\"#d8576b\"],[0.6666666666666666,\"#ed7953\"],[0.7777777777777778,\"#fb9f3a\"],[0.8888888888888888,\"#fdca26\"],[1.0,\"#f0f921\"]],\"type\":\"surface\"}],\"table\":[{\"cells\":{\"fill\":{\"color\":\"#EBF0F8\"},\"line\":{\"color\":\"white\"}},\"header\":{\"fill\":{\"color\":\"#C8D4E3\"},\"line\":{\"color\":\"white\"}},\"type\":\"table\"}]},\"layout\":{\"annotationdefaults\":{\"arrowcolor\":\"#2a3f5f\",\"arrowhead\":0,\"arrowwidth\":1},\"autotypenumbers\":\"strict\",\"coloraxis\":{\"colorbar\":{\"outlinewidth\":0,\"ticks\":\"\"}},\"colorscale\":{\"diverging\":[[0,\"#8e0152\"],[0.1,\"#c51b7d\"],[0.2,\"#de77ae\"],[0.3,\"#f1b6da\"],[0.4,\"#fde0ef\"],[0.5,\"#f7f7f7\"],[0.6,\"#e6f5d0\"],[0.7,\"#b8e186\"],[0.8,\"#7fbc41\"],[0.9,\"#4d9221\"],[1,\"#276419\"]],\"sequential\":[[0.0,\"#0d0887\"],[0.1111111111111111,\"#46039f\"],[0.2222222222222222,\"#7201a8\"],[0.3333333333333333,\"#9c179e\"],[0.4444444444444444,\"#bd3786\"],[0.5555555555555556,\"#d8576b\"],[0.6666666666666666,\"#ed7953\"],[0.7777777777777778,\"#fb9f3a\"],[0.8888888888888888,\"#fdca26\"],[1.0,\"#f0f921\"]],\"sequentialminus\":[[0.0,\"#0d0887\"],[0.1111111111111111,\"#46039f\"],[0.2222222222222222,\"#7201a8\"],[0.3333333333333333,\"#9c179e\"],[0.4444444444444444,\"#bd3786\"],[0.5555555555555556,\"#d8576b\"],[0.6666666666666666,\"#ed7953\"],[0.7777777777777778,\"#fb9f3a\"],[0.8888888888888888,\"#fdca26\"],[1.0,\"#f0f921\"]]},\"colorway\":[\"#636efa\",\"#EF553B\",\"#00cc96\",\"#ab63fa\",\"#FFA15A\",\"#19d3f3\",\"#FF6692\",\"#B6E880\",\"#FF97FF\",\"#FECB52\"],\"font\":{\"color\":\"#2a3f5f\"},\"geo\":{\"bgcolor\":\"white\",\"lakecolor\":\"white\",\"landcolor\":\"#E5ECF6\",\"showlakes\":true,\"showland\":true,\"subunitcolor\":\"white\"},\"hoverlabel\":{\"align\":\"left\"},\"hovermode\":\"closest\",\"mapbox\":{\"style\":\"light\"},\"paper_bgcolor\":\"white\",\"plot_bgcolor\":\"#E5ECF6\",\"polar\":{\"angularaxis\":{\"gridcolor\":\"white\",\"linecolor\":\"white\",\"ticks\":\"\"},\"bgcolor\":\"#E5ECF6\",\"radialaxis\":{\"gridcolor\":\"white\",\"linecolor\":\"white\",\"ticks\":\"\"}},\"scene\":{\"xaxis\":{\"backgroundcolor\":\"#E5ECF6\",\"gridcolor\":\"white\",\"gridwidth\":2,\"linecolor\":\"white\",\"showbackground\":true,\"ticks\":\"\",\"zerolinecolor\":\"white\"},\"yaxis\":{\"backgroundcolor\":\"#E5ECF6\",\"gridcolor\":\"white\",\"gridwidth\":2,\"linecolor\":\"white\",\"showbackground\":true,\"ticks\":\"\",\"zerolinecolor\":\"white\"},\"zaxis\":{\"backgroundcolor\":\"#E5ECF6\",\"gridcolor\":\"white\",\"gridwidth\":2,\"linecolor\":\"white\",\"showbackground\":true,\"ticks\":\"\",\"zerolinecolor\":\"white\"}},\"shapedefaults\":{\"line\":{\"color\":\"#2a3f5f\"}},\"ternary\":{\"aaxis\":{\"gridcolor\":\"white\",\"linecolor\":\"white\",\"ticks\":\"\"},\"baxis\":{\"gridcolor\":\"white\",\"linecolor\":\"white\",\"ticks\":\"\"},\"bgcolor\":\"#E5ECF6\",\"caxis\":{\"gridcolor\":\"white\",\"linecolor\":\"white\",\"ticks\":\"\"}},\"title\":{\"x\":0.05},\"xaxis\":{\"automargin\":true,\"gridcolor\":\"white\",\"linecolor\":\"white\",\"ticks\":\"\",\"title\":{\"standoff\":15},\"zerolinecolor\":\"white\",\"zerolinewidth\":2},\"yaxis\":{\"automargin\":true,\"gridcolor\":\"white\",\"linecolor\":\"white\",\"ticks\":\"\",\"title\":{\"standoff\":15},\"zerolinecolor\":\"white\",\"zerolinewidth\":2}}},\"title\":{\"font\":{\"color\":\"#4D5663\"}},\"xaxis\":{\"anchor\":\"y\",\"domain\":[0.0,0.2125],\"gridcolor\":\"#E1E5ED\",\"showgrid\":false,\"tickfont\":{\"color\":\"#4D5663\"},\"title\":{\"font\":{\"color\":\"#4D5663\"},\"text\":\"\"},\"zerolinecolor\":\"#E1E5ED\"},\"yaxis\":{\"anchor\":\"x\",\"domain\":[0.8025,1.0],\"gridcolor\":\"#E1E5ED\",\"showgrid\":false,\"tickfont\":{\"color\":\"#4D5663\"},\"title\":{\"font\":{\"color\":\"#4D5663\"},\"text\":\"\"},\"zerolinecolor\":\"#E1E5ED\"},\"xaxis2\":{\"anchor\":\"y2\",\"domain\":[0.2625,0.475],\"gridcolor\":\"#E1E5ED\",\"showgrid\":false,\"tickfont\":{\"color\":\"#4D5663\"},\"title\":{\"font\":{\"color\":\"#4D5663\"},\"text\":\"\"},\"zerolinecolor\":\"#E1E5ED\"},\"yaxis2\":{\"anchor\":\"x2\",\"domain\":[0.8025,1.0],\"gridcolor\":\"#E1E5ED\",\"showgrid\":false,\"tickfont\":{\"color\":\"#4D5663\"},\"title\":{\"font\":{\"color\":\"#4D5663\"},\"text\":\"\"},\"zerolinecolor\":\"#E1E5ED\"},\"xaxis3\":{\"anchor\":\"y3\",\"domain\":[0.525,0.7375],\"gridcolor\":\"#E1E5ED\",\"showgrid\":false,\"tickfont\":{\"color\":\"#4D5663\"},\"title\":{\"font\":{\"color\":\"#4D5663\"},\"text\":\"\"},\"zerolinecolor\":\"#E1E5ED\"},\"yaxis3\":{\"anchor\":\"x3\",\"domain\":[0.8025,1.0],\"gridcolor\":\"#E1E5ED\",\"showgrid\":false,\"tickfont\":{\"color\":\"#4D5663\"},\"title\":{\"font\":{\"color\":\"#4D5663\"},\"text\":\"\"},\"zerolinecolor\":\"#E1E5ED\"},\"xaxis4\":{\"anchor\":\"y4\",\"domain\":[0.7875,1.0],\"gridcolor\":\"#E1E5ED\",\"showgrid\":false,\"tickfont\":{\"color\":\"#4D5663\"},\"title\":{\"font\":{\"color\":\"#4D5663\"},\"text\":\"\"},\"zerolinecolor\":\"#E1E5ED\"},\"yaxis4\":{\"anchor\":\"x4\",\"domain\":[0.8025,1.0],\"gridcolor\":\"#E1E5ED\",\"showgrid\":false,\"tickfont\":{\"color\":\"#4D5663\"},\"title\":{\"font\":{\"color\":\"#4D5663\"},\"text\":\"\"},\"zerolinecolor\":\"#E1E5ED\"},\"xaxis5\":{\"anchor\":\"y5\",\"domain\":[0.0,0.2125],\"gridcolor\":\"#E1E5ED\",\"showgrid\":false,\"tickfont\":{\"color\":\"#4D5663\"},\"title\":{\"font\":{\"color\":\"#4D5663\"},\"text\":\"\"},\"zerolinecolor\":\"#E1E5ED\"},\"yaxis5\":{\"anchor\":\"x5\",\"domain\":[0.535,0.7325],\"gridcolor\":\"#E1E5ED\",\"showgrid\":false,\"tickfont\":{\"color\":\"#4D5663\"},\"title\":{\"font\":{\"color\":\"#4D5663\"},\"text\":\"\"},\"zerolinecolor\":\"#E1E5ED\"},\"xaxis6\":{\"anchor\":\"y6\",\"domain\":[0.2625,0.475],\"gridcolor\":\"#E1E5ED\",\"showgrid\":false,\"tickfont\":{\"color\":\"#4D5663\"},\"title\":{\"font\":{\"color\":\"#4D5663\"},\"text\":\"\"},\"zerolinecolor\":\"#E1E5ED\"},\"yaxis6\":{\"anchor\":\"x6\",\"domain\":[0.535,0.7325],\"gridcolor\":\"#E1E5ED\",\"showgrid\":false,\"tickfont\":{\"color\":\"#4D5663\"},\"title\":{\"font\":{\"color\":\"#4D5663\"},\"text\":\"\"},\"zerolinecolor\":\"#E1E5ED\"},\"xaxis7\":{\"anchor\":\"y7\",\"domain\":[0.525,0.7375],\"gridcolor\":\"#E1E5ED\",\"showgrid\":false,\"tickfont\":{\"color\":\"#4D5663\"},\"title\":{\"font\":{\"color\":\"#4D5663\"},\"text\":\"\"},\"zerolinecolor\":\"#E1E5ED\"},\"yaxis7\":{\"anchor\":\"x7\",\"domain\":[0.535,0.7325],\"gridcolor\":\"#E1E5ED\",\"showgrid\":false,\"tickfont\":{\"color\":\"#4D5663\"},\"title\":{\"font\":{\"color\":\"#4D5663\"},\"text\":\"\"},\"zerolinecolor\":\"#E1E5ED\"},\"xaxis8\":{\"anchor\":\"y8\",\"domain\":[0.7875,1.0],\"gridcolor\":\"#E1E5ED\",\"showgrid\":false,\"tickfont\":{\"color\":\"#4D5663\"},\"title\":{\"font\":{\"color\":\"#4D5663\"},\"text\":\"\"},\"zerolinecolor\":\"#E1E5ED\"},\"yaxis8\":{\"anchor\":\"x8\",\"domain\":[0.535,0.7325],\"gridcolor\":\"#E1E5ED\",\"showgrid\":false,\"tickfont\":{\"color\":\"#4D5663\"},\"title\":{\"font\":{\"color\":\"#4D5663\"},\"text\":\"\"},\"zerolinecolor\":\"#E1E5ED\"},\"xaxis9\":{\"anchor\":\"y9\",\"domain\":[0.0,0.2125],\"gridcolor\":\"#E1E5ED\",\"showgrid\":false,\"tickfont\":{\"color\":\"#4D5663\"},\"title\":{\"font\":{\"color\":\"#4D5663\"},\"text\":\"\"},\"zerolinecolor\":\"#E1E5ED\"},\"yaxis9\":{\"anchor\":\"x9\",\"domain\":[0.2675,0.465],\"gridcolor\":\"#E1E5ED\",\"showgrid\":false,\"tickfont\":{\"color\":\"#4D5663\"},\"title\":{\"font\":{\"color\":\"#4D5663\"},\"text\":\"\"},\"zerolinecolor\":\"#E1E5ED\"},\"xaxis10\":{\"anchor\":\"y10\",\"domain\":[0.2625,0.475],\"gridcolor\":\"#E1E5ED\",\"showgrid\":false,\"tickfont\":{\"color\":\"#4D5663\"},\"title\":{\"font\":{\"color\":\"#4D5663\"},\"text\":\"\"},\"zerolinecolor\":\"#E1E5ED\"},\"yaxis10\":{\"anchor\":\"x10\",\"domain\":[0.2675,0.465],\"gridcolor\":\"#E1E5ED\",\"showgrid\":false,\"tickfont\":{\"color\":\"#4D5663\"},\"title\":{\"font\":{\"color\":\"#4D5663\"},\"text\":\"\"},\"zerolinecolor\":\"#E1E5ED\"},\"xaxis11\":{\"anchor\":\"y11\",\"domain\":[0.525,0.7375],\"gridcolor\":\"#E1E5ED\",\"showgrid\":false,\"tickfont\":{\"color\":\"#4D5663\"},\"title\":{\"font\":{\"color\":\"#4D5663\"},\"text\":\"\"},\"zerolinecolor\":\"#E1E5ED\"},\"yaxis11\":{\"anchor\":\"x11\",\"domain\":[0.2675,0.465],\"gridcolor\":\"#E1E5ED\",\"showgrid\":false,\"tickfont\":{\"color\":\"#4D5663\"},\"title\":{\"font\":{\"color\":\"#4D5663\"},\"text\":\"\"},\"zerolinecolor\":\"#E1E5ED\"},\"xaxis12\":{\"anchor\":\"y12\",\"domain\":[0.7875,1.0],\"gridcolor\":\"#E1E5ED\",\"showgrid\":false,\"tickfont\":{\"color\":\"#4D5663\"},\"title\":{\"font\":{\"color\":\"#4D5663\"},\"text\":\"\"},\"zerolinecolor\":\"#E1E5ED\"},\"yaxis12\":{\"anchor\":\"x12\",\"domain\":[0.2675,0.465],\"gridcolor\":\"#E1E5ED\",\"showgrid\":false,\"tickfont\":{\"color\":\"#4D5663\"},\"title\":{\"font\":{\"color\":\"#4D5663\"},\"text\":\"\"},\"zerolinecolor\":\"#E1E5ED\"},\"xaxis13\":{\"anchor\":\"y13\",\"domain\":[0.0,0.2125],\"gridcolor\":\"#E1E5ED\",\"showgrid\":false,\"tickfont\":{\"color\":\"#4D5663\"},\"title\":{\"font\":{\"color\":\"#4D5663\"},\"text\":\"\"},\"zerolinecolor\":\"#E1E5ED\"},\"yaxis13\":{\"anchor\":\"x13\",\"domain\":[0.0,0.1975],\"gridcolor\":\"#E1E5ED\",\"showgrid\":false,\"tickfont\":{\"color\":\"#4D5663\"},\"title\":{\"font\":{\"color\":\"#4D5663\"},\"text\":\"\"},\"zerolinecolor\":\"#E1E5ED\"},\"xaxis14\":{\"anchor\":\"y14\",\"domain\":[0.2625,0.475],\"gridcolor\":\"#E1E5ED\",\"showgrid\":false,\"tickfont\":{\"color\":\"#4D5663\"},\"title\":{\"font\":{\"color\":\"#4D5663\"},\"text\":\"\"},\"zerolinecolor\":\"#E1E5ED\"},\"yaxis14\":{\"anchor\":\"x14\",\"domain\":[0.0,0.1975],\"gridcolor\":\"#E1E5ED\",\"showgrid\":false,\"tickfont\":{\"color\":\"#4D5663\"},\"title\":{\"font\":{\"color\":\"#4D5663\"},\"text\":\"\"},\"zerolinecolor\":\"#E1E5ED\"},\"xaxis15\":{\"anchor\":\"y15\",\"domain\":[0.525,0.7375],\"gridcolor\":\"#E1E5ED\",\"showgrid\":false,\"tickfont\":{\"color\":\"#4D5663\"},\"title\":{\"font\":{\"color\":\"#4D5663\"},\"text\":\"\"},\"zerolinecolor\":\"#E1E5ED\"},\"yaxis15\":{\"anchor\":\"x15\",\"domain\":[0.0,0.1975],\"gridcolor\":\"#E1E5ED\",\"showgrid\":false,\"tickfont\":{\"color\":\"#4D5663\"},\"title\":{\"font\":{\"color\":\"#4D5663\"},\"text\":\"\"},\"zerolinecolor\":\"#E1E5ED\"},\"xaxis16\":{\"anchor\":\"y16\",\"domain\":[0.7875,1.0],\"gridcolor\":\"#E1E5ED\",\"showgrid\":false,\"tickfont\":{\"color\":\"#4D5663\"},\"title\":{\"font\":{\"color\":\"#4D5663\"},\"text\":\"\"},\"zerolinecolor\":\"#E1E5ED\"},\"yaxis16\":{\"anchor\":\"x16\",\"domain\":[0.0,0.1975],\"gridcolor\":\"#E1E5ED\",\"showgrid\":false,\"tickfont\":{\"color\":\"#4D5663\"},\"title\":{\"font\":{\"color\":\"#4D5663\"},\"text\":\"\"},\"zerolinecolor\":\"#E1E5ED\"}},                        {\"showLink\": true, \"linkText\": \"Export to plot.ly\", \"plotlyServerURL\": \"https://plot.ly\", \"responsive\": true}                    ).then(function(){\n",
       "                            \n",
       "var gd = document.getElementById('fcc1c3db-e3fb-4834-8ddd-65444a517cbd');\n",
       "var x = new MutationObserver(function (mutations, observer) {{\n",
       "        var display = window.getComputedStyle(gd).display;\n",
       "        if (!display || display === 'none') {{\n",
       "            console.log([gd, 'removed!']);\n",
       "            Plotly.purge(gd);\n",
       "            observer.disconnect();\n",
       "        }}\n",
       "}});\n",
       "\n",
       "// Listen for the removal of the full notebook cells\n",
       "var notebookContainer = gd.closest('#notebook-container');\n",
       "if (notebookContainer) {{\n",
       "    x.observe(notebookContainer, {childList: true});\n",
       "}}\n",
       "\n",
       "// Listen for the clearing of the current output cell\n",
       "var outputEl = gd.closest('.output');\n",
       "if (outputEl) {{\n",
       "    x.observe(outputEl, {childList: true});\n",
       "}}\n",
       "\n",
       "                        })                };                });            </script>        </div>"
      ]
     },
     "metadata": {},
     "output_type": "display_data"
    }
   ],
   "source": [
    "df.scatter_matrix()"
   ]
  },
  {
   "cell_type": "markdown",
   "metadata": {},
   "source": [
    "reference: https://github.com/santosjorge/cufflinks"
   ]
  }
 ],
 "metadata": {
  "kernelspec": {
   "display_name": "Python 3",
   "language": "python",
   "name": "python3"
  },
  "language_info": {
   "codemirror_mode": {
    "name": "ipython",
    "version": 3
   },
   "file_extension": ".py",
   "mimetype": "text/x-python",
   "name": "python",
   "nbconvert_exporter": "python",
   "pygments_lexer": "ipython3",
   "version": "3.8.5"
  }
 },
 "nbformat": 4,
 "nbformat_minor": 0
}
